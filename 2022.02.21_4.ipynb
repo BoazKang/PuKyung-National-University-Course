{
 "cells": [
  {
   "cell_type": "code",
   "execution_count": 10,
   "id": "9a7dfb10-fa75-4fce-8232-f4a22a6a211f",
   "metadata": {},
   "outputs": [],
   "source": [
    "from dash import Dash, html, dcc, Input, Output\n",
    "import pandas as pd\n",
    "import plotly.graph_objects as go"
   ]
  },
  {
   "cell_type": "code",
   "execution_count": 14,
   "id": "7e818a21-f010-43f9-ae71-b965c306513b",
   "metadata": {},
   "outputs": [],
   "source": [
    "animals=['giraffes', 'orangutans', 'monkeys']\n",
    "colors = ['Gray','Gray','Red']\n",
    "fig = go.Figure(go.Bar(x=animals, y=[20, 14, 23], marker_color=colors))"
   ]
  },
  {
   "cell_type": "code",
   "execution_count": 15,
   "id": "5a6d3218-4911-454b-bbe7-8ad3f84af78f",
   "metadata": {},
   "outputs": [],
   "source": [
    "app = Dash(__name__)\n",
    "app.layout = html.Div(\n",
    "    [\n",
    "        dcc.Graph(figure=fig)\n",
    "    ]\n",
    ")"
   ]
  },
  {
   "cell_type": "code",
   "execution_count": 16,
   "id": "ee11fce9-8c11-4c4a-8d67-2ed04cddb588",
   "metadata": {},
   "outputs": [
    {
     "name": "stdout",
     "output_type": "stream",
     "text": [
      "Dash is running on http://192.168.56.101:5555/\n",
      "\n",
      "Dash is running on http://192.168.56.101:5555/\n",
      "\n",
      "Dash is running on http://192.168.56.101:5555/\n",
      "\n",
      "Dash is running on http://192.168.56.101:5555/\n",
      "\n",
      "Dash is running on http://192.168.56.101:5555/\n",
      "\n",
      " * Serving Flask app \"__main__\" (lazy loading)\n",
      " * Environment: production\n",
      "\u001b[31m   WARNING: This is a development server. Do not use it in a production deployment.\u001b[0m\n",
      "\u001b[2m   Use a production WSGI server instead.\u001b[0m\n",
      " * Debug mode: off\n"
     ]
    },
    {
     "name": "stderr",
     "output_type": "stream",
     "text": [
      " * Running on http://192.168.56.101:5555/ (Press CTRL+C to quit)\n",
      "192.168.56.1 - - [21/Feb/2022 13:38:29] \"GET / HTTP/1.1\" 200 -\n",
      "192.168.56.1 - - [21/Feb/2022 13:38:29] \"GET /_dash-layout HTTP/1.1\" 200 -\n",
      "192.168.56.1 - - [21/Feb/2022 13:38:29] \"GET /_dash-dependencies HTTP/1.1\" 200 -\n",
      "192.168.56.1 - - [21/Feb/2022 13:38:29] \"GET /_dash-component-suites/dash/dcc/async-plotlyjs.js HTTP/1.1\" 200 -\n",
      "192.168.56.1 - - [21/Feb/2022 13:38:29] \"GET /_dash-component-suites/dash/dcc/async-graph.js HTTP/1.1\" 200 -\n"
     ]
    }
   ],
   "source": [
    "app.run_server(host='192.168.56.101',port='5555')"
   ]
  },
  {
   "cell_type": "code",
   "execution_count": null,
   "id": "e85785bf-20ab-41f8-af73-099cc807f7fe",
   "metadata": {},
   "outputs": [],
   "source": []
  }
 ],
 "metadata": {
  "kernelspec": {
   "display_name": "Python 3 (ipykernel)",
   "language": "python",
   "name": "python3"
  },
  "language_info": {
   "codemirror_mode": {
    "name": "ipython",
    "version": 3
   },
   "file_extension": ".py",
   "mimetype": "text/x-python",
   "name": "python",
   "nbconvert_exporter": "python",
   "pygments_lexer": "ipython3",
   "version": "3.9.7"
  }
 },
 "nbformat": 4,
 "nbformat_minor": 5
}
