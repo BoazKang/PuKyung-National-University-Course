{
 "cells": [
  {
   "cell_type": "code",
   "execution_count": 30,
   "id": "036a62a3-877b-479c-bc12-5e55147a0954",
   "metadata": {},
   "outputs": [],
   "source": [
    "from activation import relu, sigmoid, softmax\n",
    "from loss import mse, cross_entropy_err\n",
    "import pickle\n",
    "import numpy as np\n",
    "import matplotlib.pyplot as plt\n",
    "import pandas as pd"
   ]
  },
  {
   "cell_type": "code",
   "execution_count": 2,
   "id": "8c6737f5-6374-4503-8ef6-5a8d1f88e9f8",
   "metadata": {},
   "outputs": [],
   "source": [
    "from sklearn.datasets import fetch_openml"
   ]
  },
  {
   "cell_type": "code",
   "execution_count": 3,
   "id": "f4f3433a-e7b9-489f-bb9f-1138cd53ca20",
   "metadata": {},
   "outputs": [],
   "source": [
    "mnist = fetch_openml('mnist_784')"
   ]
  },
  {
   "cell_type": "code",
   "execution_count": 4,
   "id": "8e287a5d-7dd6-412d-9446-1337c23790e1",
   "metadata": {},
   "outputs": [],
   "source": [
    "x = mnist.data\n",
    "y = mnist.target"
   ]
  },
  {
   "cell_type": "code",
   "execution_count": 5,
   "id": "5fbb8470-4a16-42f5-aa85-f1967242c745",
   "metadata": {},
   "outputs": [],
   "source": [
    "with open('sample_weight.pkl', 'rb') as f:\n",
    "    network = pickle.load(f)"
   ]
  },
  {
   "cell_type": "code",
   "execution_count": 6,
   "id": "552fad50-dc11-473f-8c2b-9920265aaad3",
   "metadata": {
    "tags": []
   },
   "outputs": [],
   "source": [
    "# plt.imshow(x.loc[[0],:].values.reshape(28,28))\n",
    "\n",
    "# weight['W1'].shape, weight['W2'].shape, weight['W3'].shape\n",
    "# # 분류할 개수가 0~9 10개이므로 출력은 10\n",
    "\n",
    "# x.loc[0,:].values.reshape(1,784).shape # (데이터 개수, 크기)\n",
    "\n",
    "# # 첫번째 레이어를 통과하는 값, 예시로 첫번쨰값 하나만\n",
    "# l1 = np.dot(x.loc[0,:].values.reshape(1,784), weight['W1']) + weight['b1']\n",
    "# a1 = sigmoid(l1) # 활성화 함수\n",
    "\n",
    "# l2 = np.dot(a1, weight['W2']) + weight['b2']\n",
    "# a2 = sigmoid(l2)\n",
    "\n",
    "# l3 = np.dot(a2, weight['W3']) + weight['b3']\n",
    "\n",
    "# np.argmax(l3)"
   ]
  },
  {
   "cell_type": "code",
   "execution_count": 7,
   "id": "ece86673-d60f-4203-bec9-546f1d110c09",
   "metadata": {},
   "outputs": [
    {
     "ename": "NameError",
     "evalue": "name 'weight' is not defined",
     "output_type": "error",
     "traceback": [
      "\u001b[0;31m---------------------------------------------------------------------------\u001b[0m",
      "\u001b[0;31mNameError\u001b[0m                                 Traceback (most recent call last)",
      "\u001b[0;32m/tmp/ipykernel_4199/4177164018.py\u001b[0m in \u001b[0;36m<module>\u001b[0;34m\u001b[0m\n\u001b[0;32m----> 1\u001b[0;31m \u001b[0mweight\u001b[0m\u001b[0;34m[\u001b[0m\u001b[0;34m'W1'\u001b[0m\u001b[0;34m]\u001b[0m\u001b[0;34m.\u001b[0m\u001b[0mshape\u001b[0m\u001b[0;34m,\u001b[0m \u001b[0mweight\u001b[0m\u001b[0;34m[\u001b[0m\u001b[0;34m'W2'\u001b[0m\u001b[0;34m]\u001b[0m\u001b[0;34m.\u001b[0m\u001b[0mshape\u001b[0m\u001b[0;34m,\u001b[0m \u001b[0mweight\u001b[0m\u001b[0;34m[\u001b[0m\u001b[0;34m'W3'\u001b[0m\u001b[0;34m]\u001b[0m\u001b[0;34m.\u001b[0m\u001b[0mshape\u001b[0m\u001b[0;34m\u001b[0m\u001b[0;34m\u001b[0m\u001b[0m\n\u001b[0m",
      "\u001b[0;31mNameError\u001b[0m: name 'weight' is not defined"
     ]
    }
   ],
   "source": [
    "weight['W1'].shape, weight['W2'].shape, weight['W3'].shape"
   ]
  },
  {
   "cell_type": "code",
   "execution_count": 8,
   "id": "bd25fb9e-0fb7-4195-922a-4d66e110defb",
   "metadata": {},
   "outputs": [],
   "source": [
    "def predict(x):\n",
    "    W1, W2, W3 = weight['W1'], weight['W2'], weight['W3']\n",
    "    b1, b2, b3 = weight['b1'], weight['b2'], weight['b3']\n",
    "    \n",
    "    h1 = np.dot(x, W1) + b1\n",
    "    a1 = sigmoid(h1)\n",
    "    h2 = np.dot(a1, W2) + b2\n",
    "    a2 = sigmoid(h2)\n",
    "    out = np.dot(a2, W3) + b3\n",
    "    out = np.argmax(out, axis=1).astype('str')\n",
    "    # result = softmax(out)  \n",
    "    return out\n",
    "\n",
    "def accuracy(x,y):\n",
    "    return sum(predict(x) == y.values) /y.size"
   ]
  },
  {
   "cell_type": "code",
   "execution_count": 6,
   "id": "ceb01477-26f9-4055-a316-07128c290d47",
   "metadata": {},
   "outputs": [],
   "source": [
    "def predict(x, network):\n",
    "    input_layer = x\n",
    "    layers = []\n",
    "    bias = []\n",
    "    num_layer = int(len(network.keys())/2)\n",
    "    for i in range(num_layer):\n",
    "        layers.append(network['W'+str(i+1)])\n",
    "        bias.append(network['b'+str(i+1)])\n",
    "    for i in range(num_layer):\n",
    "        if num_layer != i:\n",
    "            input_layer = sigmoid(np.dot(input_layer,layers[i]) + bias[i])\n",
    "        else:\n",
    "            input_layer = np.dot(input_layer,layers[i]) + bias[i]\n",
    "    # return np.argmax(input_layer, axis=1).astype('str')\n",
    "    return softmax(input_layer)"
   ]
  },
  {
   "cell_type": "code",
   "execution_count": 10,
   "id": "e050be95-2ee8-4dfd-9f78-823ec0831f9c",
   "metadata": {},
   "outputs": [
    {
     "data": {
      "text/plain": [
       "(70000, 784)"
      ]
     },
     "execution_count": 10,
     "metadata": {},
     "output_type": "execute_result"
    }
   ],
   "source": [
    "x.shape"
   ]
  },
  {
   "cell_type": "code",
   "execution_count": 11,
   "id": "1381afb5-cbeb-4871-b740-81ddd545e0a7",
   "metadata": {
    "tags": []
   },
   "outputs": [
    {
     "ename": "TypeError",
     "evalue": "predict() missing 1 required positional argument: 'network'",
     "output_type": "error",
     "traceback": [
      "\u001b[0;31m---------------------------------------------------------------------------\u001b[0m",
      "\u001b[0;31mTypeError\u001b[0m                                 Traceback (most recent call last)",
      "\u001b[0;32m/tmp/ipykernel_4199/3122547416.py\u001b[0m in \u001b[0;36m<module>\u001b[0;34m\u001b[0m\n\u001b[0;32m----> 1\u001b[0;31m \u001b[0maccuracy\u001b[0m\u001b[0;34m(\u001b[0m\u001b[0mx\u001b[0m\u001b[0;34m,\u001b[0m\u001b[0my\u001b[0m\u001b[0;34m)\u001b[0m\u001b[0;34m\u001b[0m\u001b[0;34m\u001b[0m\u001b[0m\n\u001b[0m",
      "\u001b[0;32m/tmp/ipykernel_4199/1948688392.py\u001b[0m in \u001b[0;36maccuracy\u001b[0;34m(x, y)\u001b[0m\n\u001b[1;32m     13\u001b[0m \u001b[0;34m\u001b[0m\u001b[0m\n\u001b[1;32m     14\u001b[0m \u001b[0;32mdef\u001b[0m \u001b[0maccuracy\u001b[0m\u001b[0;34m(\u001b[0m\u001b[0mx\u001b[0m\u001b[0;34m,\u001b[0m\u001b[0my\u001b[0m\u001b[0;34m)\u001b[0m\u001b[0;34m:\u001b[0m\u001b[0;34m\u001b[0m\u001b[0;34m\u001b[0m\u001b[0m\n\u001b[0;32m---> 15\u001b[0;31m     \u001b[0;32mreturn\u001b[0m \u001b[0msum\u001b[0m\u001b[0;34m(\u001b[0m\u001b[0mpredict\u001b[0m\u001b[0;34m(\u001b[0m\u001b[0mx\u001b[0m\u001b[0;34m)\u001b[0m \u001b[0;34m==\u001b[0m \u001b[0my\u001b[0m\u001b[0;34m.\u001b[0m\u001b[0mvalues\u001b[0m\u001b[0;34m)\u001b[0m \u001b[0;34m/\u001b[0m\u001b[0my\u001b[0m\u001b[0;34m.\u001b[0m\u001b[0msize\u001b[0m\u001b[0;34m\u001b[0m\u001b[0;34m\u001b[0m\u001b[0m\n\u001b[0m",
      "\u001b[0;31mTypeError\u001b[0m: predict() missing 1 required positional argument: 'network'"
     ]
    }
   ],
   "source": [
    "accuracy(x,y)"
   ]
  },
  {
   "cell_type": "code",
   "execution_count": 12,
   "id": "ccdfcc26-fcff-45d4-b669-b7639c6bae96",
   "metadata": {},
   "outputs": [
    {
     "name": "stderr",
     "output_type": "stream",
     "text": [
      "/home/ejchoi/work_place/activation.py:4: RuntimeWarning: overflow encountered in exp\n",
      "  return 1/(1+np.exp(-x))\n"
     ]
    }
   ],
   "source": [
    "pre = predict(x.values, network)"
   ]
  },
  {
   "cell_type": "code",
   "execution_count": 13,
   "id": "98a351af-33fd-41ec-be09-aba503bfb10a",
   "metadata": {},
   "outputs": [
    {
     "data": {
      "text/plain": [
       "0.0"
      ]
     },
     "execution_count": 13,
     "metadata": {},
     "output_type": "execute_result"
    }
   ],
   "source": [
    "sum(pre == y)/y.size"
   ]
  },
  {
   "cell_type": "code",
   "execution_count": 14,
   "id": "96570fcd-2467-40d6-842c-2b78e72213e2",
   "metadata": {},
   "outputs": [
    {
     "data": {
      "text/plain": [
       "array([[ 991.38860958,    0.        ,    0.        , ...,  461.81789378,\n",
       "           0.        ,    0.        ],\n",
       "       [1251.53191894,  865.42200546,    0.        , ...,  297.65761123,\n",
       "           0.        ,   43.0190886 ],\n",
       "       [   0.        ,  384.96450885,  522.83004731, ...,    0.        ,\n",
       "         359.95052797,  276.16372561],\n",
       "       ...,\n",
       "       [   0.        ,    0.        ,  620.68962102, ...,    0.        ,\n",
       "         507.20683358,  220.44589879],\n",
       "       [   0.        ,    0.        ,    0.        , ...,    0.        ,\n",
       "         350.09469865,   55.06031603],\n",
       "       [ 757.27764039, 1793.27601436,    0.        , ...,    0.        ,\n",
       "         587.88680071,  933.27330242]])"
      ]
     },
     "execution_count": 14,
     "metadata": {},
     "output_type": "execute_result"
    }
   ],
   "source": [
    "relu(np.dot(x,network['W1']))"
   ]
  },
  {
   "cell_type": "code",
   "execution_count": 15,
   "id": "cfe88b71-a66f-4452-8b59-781f7facfa36",
   "metadata": {},
   "outputs": [],
   "source": [
    "# y 값을 one_hot -- tk\n",
    "# network를 softmax로 풀기 -- 값이 총 10개 나옴\n",
    "# -sum(tk * log(yk))"
   ]
  },
  {
   "cell_type": "code",
   "execution_count": 16,
   "id": "438344fe-d5c5-4137-92e3-573673770f29",
   "metadata": {},
   "outputs": [],
   "source": [
    "y_ohe = pd.get_dummies(y)"
   ]
  },
  {
   "cell_type": "code",
   "execution_count": 17,
   "id": "f1c948ce-a318-472c-8974-187b8b8778ab",
   "metadata": {},
   "outputs": [],
   "source": [
    "tk = np.array(y_ohe)"
   ]
  },
  {
   "cell_type": "code",
   "execution_count": 18,
   "id": "bf790f87-f541-441c-b12d-400de3b93e32",
   "metadata": {},
   "outputs": [],
   "source": [
    "yk = predict(x, network).astype('int')"
   ]
  },
  {
   "cell_type": "code",
   "execution_count": 19,
   "id": "d56e3265-a386-45d6-857a-2b59ae326f34",
   "metadata": {},
   "outputs": [
    {
     "name": "stderr",
     "output_type": "stream",
     "text": [
      "/tmp/ipykernel_4199/2153940171.py:1: RuntimeWarning: divide by zero encountered in log\n",
      "  E = -sum(tk*np.log(yk))\n",
      "/tmp/ipykernel_4199/2153940171.py:1: RuntimeWarning: invalid value encountered in multiply\n",
      "  E = -sum(tk*np.log(yk))\n"
     ]
    }
   ],
   "source": [
    "E = -sum(tk*np.log(yk))"
   ]
  },
  {
   "cell_type": "code",
   "execution_count": 20,
   "id": "babbe346-0f70-4348-844d-e13425d843b1",
   "metadata": {},
   "outputs": [
    {
     "data": {
      "text/plain": [
       "((70000, 10), (70000, 10))"
      ]
     },
     "execution_count": 20,
     "metadata": {},
     "output_type": "execute_result"
    }
   ],
   "source": [
    "tk.shape, yk.shape"
   ]
  },
  {
   "cell_type": "code",
   "execution_count": 21,
   "id": "1b944fed-2a54-4722-91b3-eb3043da64fb",
   "metadata": {},
   "outputs": [],
   "source": [
    "def f(x):\n",
    "    return x**2"
   ]
  },
  {
   "cell_type": "code",
   "execution_count": 22,
   "id": "6e2c8b9c-012d-4421-b22f-b563acc57350",
   "metadata": {},
   "outputs": [],
   "source": [
    "def der_f(x):\n",
    "    return 2*x"
   ]
  },
  {
   "cell_type": "code",
   "execution_count": 23,
   "id": "f1343329-14bc-46b4-beb9-5a413618cfe8",
   "metadata": {},
   "outputs": [
    {
     "data": {
      "text/plain": [
       "6"
      ]
     },
     "execution_count": 23,
     "metadata": {},
     "output_type": "execute_result"
    }
   ],
   "source": [
    "der_f(3)"
   ]
  },
  {
   "cell_type": "code",
   "execution_count": 24,
   "id": "e9acbfe6-a828-47f3-b5a6-5409ea42a8f5",
   "metadata": {},
   "outputs": [
    {
     "data": {
      "text/plain": [
       "0        5\n",
       "1        0\n",
       "2        4\n",
       "3        1\n",
       "4        9\n",
       "        ..\n",
       "69995    2\n",
       "69996    3\n",
       "69997    4\n",
       "69998    5\n",
       "69999    6\n",
       "Name: class, Length: 70000, dtype: category\n",
       "Categories (10, object): ['0', '1', '2', '3', ..., '6', '7', '8', '9']"
      ]
     },
     "execution_count": 24,
     "metadata": {},
     "output_type": "execute_result"
    }
   ],
   "source": [
    "y[predict(x,network) != y]"
   ]
  },
  {
   "cell_type": "code",
   "execution_count": 25,
   "id": "4ebd6a60-8b33-45a0-8b93-2294c3f251ea",
   "metadata": {},
   "outputs": [
    {
     "data": {
      "text/plain": [
       "'1'"
      ]
     },
     "execution_count": 25,
     "metadata": {},
     "output_type": "execute_result"
    }
   ],
   "source": [
    "y[24]"
   ]
  },
  {
   "cell_type": "code",
   "execution_count": 26,
   "id": "6f6746c7-c365-412b-9be8-f98810ca5439",
   "metadata": {},
   "outputs": [],
   "source": [
    "tt = np.array([0,0,0,0,0,1,0,0,0,0])\n",
    "tf = np.array([0,1,0,0,0,0,0,0,0,0])"
   ]
  },
  {
   "cell_type": "code",
   "execution_count": 27,
   "id": "350d2575-9917-45de-a94b-044edb230b1f",
   "metadata": {},
   "outputs": [],
   "source": [
    "yt = softmax(predict(x,network)[0])\n",
    "yf = softmax(predict(x,network)[24])"
   ]
  },
  {
   "cell_type": "code",
   "execution_count": 28,
   "id": "fc51054c-f62a-44d0-9b9a-813357e5c4dd",
   "metadata": {},
   "outputs": [
    {
     "data": {
      "text/plain": [
       "14.506284997194204"
      ]
     },
     "execution_count": 28,
     "metadata": {},
     "output_type": "execute_result"
    }
   ],
   "source": [
    "# 교차 엔트로피 오차 Cross Entropy Error(CEE)\n",
    "-np.sum(yf*np.log(tf+1e-7))"
   ]
  },
  {
   "cell_type": "code",
   "execution_count": 29,
   "id": "90da6292-b2ae-4ec5-82f3-f0a18f9393b1",
   "metadata": {},
   "outputs": [
    {
     "data": {
      "text/plain": [
       "0.449999917958371"
      ]
     },
     "execution_count": 29,
     "metadata": {},
     "output_type": "execute_result"
    }
   ],
   "source": [
    "1/2*np.sum((yt-tt)**2)"
   ]
  },
  {
   "cell_type": "code",
   "execution_count": 30,
   "id": "2d89aa22-1955-484f-8509-b5dc99084b30",
   "metadata": {},
   "outputs": [
    {
     "data": {
      "text/plain": [
       "0.4499999330772068"
      ]
     },
     "execution_count": 30,
     "metadata": {},
     "output_type": "execute_result"
    }
   ],
   "source": [
    "1/2*np.sum((yf-tf)**2)"
   ]
  },
  {
   "cell_type": "code",
   "execution_count": 31,
   "id": "0df8cbf9-9a0c-49d3-99bb-e05c38bdd2f8",
   "metadata": {},
   "outputs": [
    {
     "ename": "TypeError",
     "evalue": "unsupported operand type(s) for -: 'function' and 'function'",
     "output_type": "error",
     "traceback": [
      "\u001b[0;31m---------------------------------------------------------------------------\u001b[0m",
      "\u001b[0;31mTypeError\u001b[0m                                 Traceback (most recent call last)",
      "\u001b[0;32m/tmp/ipykernel_4199/3556385599.py\u001b[0m in \u001b[0;36m<module>\u001b[0;34m\u001b[0m\n\u001b[0;32m----> 1\u001b[0;31m \u001b[0mp\u001b[0m \u001b[0;34m=\u001b[0m \u001b[0msoftmax\u001b[0m\u001b[0;34m(\u001b[0m\u001b[0mf\u001b[0m\u001b[0;34m)\u001b[0m\u001b[0;34m\u001b[0m\u001b[0;34m\u001b[0m\u001b[0m\n\u001b[0m",
      "\u001b[0;32m~/work_place/activation.py\u001b[0m in \u001b[0;36msoftmax\u001b[0;34m(x)\u001b[0m\n\u001b[1;32m      9\u001b[0m \u001b[0;32mdef\u001b[0m \u001b[0msoftmax\u001b[0m\u001b[0;34m(\u001b[0m\u001b[0mx\u001b[0m\u001b[0;34m)\u001b[0m\u001b[0;34m:\u001b[0m\u001b[0;34m\u001b[0m\u001b[0;34m\u001b[0m\u001b[0m\n\u001b[1;32m     10\u001b[0m     \u001b[0mc\u001b[0m \u001b[0;34m=\u001b[0m \u001b[0mnp\u001b[0m\u001b[0;34m.\u001b[0m\u001b[0mmax\u001b[0m\u001b[0;34m(\u001b[0m\u001b[0mx\u001b[0m\u001b[0;34m)\u001b[0m\u001b[0;34m\u001b[0m\u001b[0;34m\u001b[0m\u001b[0m\n\u001b[0;32m---> 11\u001b[0;31m     \u001b[0ma\u001b[0m \u001b[0;34m=\u001b[0m \u001b[0mx\u001b[0m \u001b[0;34m-\u001b[0m \u001b[0mc\u001b[0m\u001b[0;34m\u001b[0m\u001b[0;34m\u001b[0m\u001b[0m\n\u001b[0m\u001b[1;32m     12\u001b[0m     \u001b[0;32mreturn\u001b[0m \u001b[0mnp\u001b[0m\u001b[0;34m.\u001b[0m\u001b[0mexp\u001b[0m\u001b[0;34m(\u001b[0m\u001b[0ma\u001b[0m\u001b[0;34m)\u001b[0m\u001b[0;34m/\u001b[0m\u001b[0mnp\u001b[0m\u001b[0;34m.\u001b[0m\u001b[0msum\u001b[0m\u001b[0;34m(\u001b[0m\u001b[0mnp\u001b[0m\u001b[0;34m.\u001b[0m\u001b[0mexp\u001b[0m\u001b[0;34m(\u001b[0m\u001b[0ma\u001b[0m\u001b[0;34m)\u001b[0m\u001b[0;34m)\u001b[0m\u001b[0;34m\u001b[0m\u001b[0;34m\u001b[0m\u001b[0m\n",
      "\u001b[0;31mTypeError\u001b[0m: unsupported operand type(s) for -: 'function' and 'function'"
     ]
    }
   ],
   "source": [
    "p = softmax(f)"
   ]
  },
  {
   "cell_type": "code",
   "execution_count": 7,
   "id": "c1ba5141-196b-421d-aacd-c3719dc15f07",
   "metadata": {},
   "outputs": [],
   "source": [
    "def mse(y,t):\n",
    "    return (1/2*np.sum((y-t)**2))/y.size"
   ]
  },
  {
   "cell_type": "code",
   "execution_count": 8,
   "id": "2aaa403c-f18c-4a9d-bcc0-315ccd23a06e",
   "metadata": {},
   "outputs": [],
   "source": [
    "def cross_entropy_err(y,t):\n",
    "    return np.sum(-np.sum(t*np.log(y)))/y.size"
   ]
  },
  {
   "cell_type": "code",
   "execution_count": 9,
   "id": "39f90807-3c13-42b2-b1ad-43230fb6827d",
   "metadata": {},
   "outputs": [
    {
     "data": {
      "text/plain": [
       "array([[0, 0, 0, ..., 0, 0, 0],\n",
       "       [1, 0, 0, ..., 0, 0, 0],\n",
       "       [0, 0, 0, ..., 0, 0, 0],\n",
       "       ...,\n",
       "       [0, 0, 0, ..., 0, 0, 0],\n",
       "       [0, 0, 0, ..., 0, 0, 0],\n",
       "       [0, 0, 0, ..., 0, 0, 0]], dtype=uint8)"
      ]
     },
     "execution_count": 9,
     "metadata": {},
     "output_type": "execute_result"
    }
   ],
   "source": [
    "y_ohe = np.array(pd.get_dummies(pd.DataFrame(y)))\n",
    "y_ohe"
   ]
  },
  {
   "cell_type": "code",
   "execution_count": 10,
   "id": "9a4021eb-c8ba-429c-b1c8-ff4744645df3",
   "metadata": {},
   "outputs": [
    {
     "name": "stderr",
     "output_type": "stream",
     "text": [
      "/tmp/ipykernel_4235/1431651893.py:1: DeprecationWarning: `np.int` is a deprecated alias for the builtin `int`. To silence this warning, use `int` by itself. Doing this will not modify any behavior and is safe. When replacing `np.int`, you may wish to use e.g. `np.int64` or `np.int32` to specify the precision. If you wish to review your current use, check the release note link for additional information.\n",
      "Deprecated in NumPy 1.20; for more details and guidance: https://numpy.org/devdocs/release/1.20.0-notes.html#deprecations\n",
      "  y = y.values.astype(np.int)\n"
     ]
    }
   ],
   "source": [
    "y = y.values.astype(np.int)"
   ]
  },
  {
   "cell_type": "code",
   "execution_count": 11,
   "id": "2701dc86-82cd-4a56-8c6d-e555288d90e3",
   "metadata": {},
   "outputs": [],
   "source": [
    "y_one = np.zeros((y.size,np.unique(y).size))"
   ]
  },
  {
   "cell_type": "code",
   "execution_count": 12,
   "id": "726e8d47-3f69-4eca-840e-1ad4d7cc9bf6",
   "metadata": {},
   "outputs": [],
   "source": [
    "for i in range(y.size):\n",
    "    y_one[i,y[i]] = 1"
   ]
  },
  {
   "cell_type": "code",
   "execution_count": 13,
   "id": "ee819b5c-2140-4a61-9bdc-fcca8827da15",
   "metadata": {},
   "outputs": [
    {
     "data": {
      "text/plain": [
       "array([[0., 0., 0., ..., 0., 0., 0.],\n",
       "       [1., 0., 0., ..., 0., 0., 0.],\n",
       "       [0., 0., 0., ..., 0., 0., 0.],\n",
       "       ...,\n",
       "       [0., 0., 0., ..., 0., 0., 0.],\n",
       "       [0., 0., 0., ..., 0., 0., 0.],\n",
       "       [0., 0., 0., ..., 0., 0., 0.]])"
      ]
     },
     "execution_count": 13,
     "metadata": {},
     "output_type": "execute_result"
    }
   ],
   "source": [
    "y_one"
   ]
  },
  {
   "cell_type": "code",
   "execution_count": 14,
   "id": "b69fb0a7-8f69-4dfd-a6e3-ebc10e14c662",
   "metadata": {},
   "outputs": [
    {
     "name": "stderr",
     "output_type": "stream",
     "text": [
      "/home/ejchoi/work_place/activation.py:4: RuntimeWarning: overflow encountered in exp\n",
      "  return 1/(1+np.exp(-x))\n"
     ]
    },
    {
     "ename": "NameError",
     "evalue": "name 'a' is not defined",
     "output_type": "error",
     "traceback": [
      "\u001b[0;31m---------------------------------------------------------------------------\u001b[0m",
      "\u001b[0;31mNameError\u001b[0m                                 Traceback (most recent call last)",
      "\u001b[0;32m/tmp/ipykernel_4235/218118013.py\u001b[0m in \u001b[0;36m<module>\u001b[0;34m\u001b[0m\n\u001b[0;32m----> 1\u001b[0;31m \u001b[0mmse\u001b[0m\u001b[0;34m(\u001b[0m\u001b[0mpredict\u001b[0m\u001b[0;34m(\u001b[0m\u001b[0mx\u001b[0m\u001b[0;34m,\u001b[0m\u001b[0mnetwork\u001b[0m\u001b[0;34m)\u001b[0m\u001b[0;34m,\u001b[0m\u001b[0my_one\u001b[0m\u001b[0;34m)\u001b[0m\u001b[0;34m\u001b[0m\u001b[0;34m\u001b[0m\u001b[0m\n\u001b[0m",
      "\u001b[0;32m/tmp/ipykernel_4235/331606620.py\u001b[0m in \u001b[0;36mpredict\u001b[0;34m(x, network)\u001b[0m\n\u001b[1;32m     13\u001b[0m             \u001b[0minput_layer\u001b[0m \u001b[0;34m=\u001b[0m \u001b[0mnp\u001b[0m\u001b[0;34m.\u001b[0m\u001b[0mdot\u001b[0m\u001b[0;34m(\u001b[0m\u001b[0minput_layer\u001b[0m\u001b[0;34m,\u001b[0m\u001b[0mlayers\u001b[0m\u001b[0;34m[\u001b[0m\u001b[0mi\u001b[0m\u001b[0;34m]\u001b[0m\u001b[0;34m)\u001b[0m \u001b[0;34m+\u001b[0m \u001b[0mbias\u001b[0m\u001b[0;34m[\u001b[0m\u001b[0mi\u001b[0m\u001b[0;34m]\u001b[0m\u001b[0;34m\u001b[0m\u001b[0;34m\u001b[0m\u001b[0m\n\u001b[1;32m     14\u001b[0m     \u001b[0;31m# return np.argmax(input_layer, axis=1).astype('str')\u001b[0m\u001b[0;34m\u001b[0m\u001b[0;34m\u001b[0m\u001b[0m\n\u001b[0;32m---> 15\u001b[0;31m     \u001b[0;32mreturn\u001b[0m \u001b[0msoftmax\u001b[0m\u001b[0;34m(\u001b[0m\u001b[0minput_layer\u001b[0m\u001b[0;34m)\u001b[0m\u001b[0;34m\u001b[0m\u001b[0;34m\u001b[0m\u001b[0m\n\u001b[0m",
      "\u001b[0;32m~/work_place/activation.py\u001b[0m in \u001b[0;36msoftmax\u001b[0;34m(x)\u001b[0m\n\u001b[1;32m      8\u001b[0m \u001b[0;34m\u001b[0m\u001b[0m\n\u001b[1;32m      9\u001b[0m \u001b[0;32mdef\u001b[0m \u001b[0msoftmax\u001b[0m\u001b[0;34m(\u001b[0m\u001b[0mx\u001b[0m\u001b[0;34m)\u001b[0m\u001b[0;34m:\u001b[0m\u001b[0;34m\u001b[0m\u001b[0;34m\u001b[0m\u001b[0m\n\u001b[0;32m---> 10\u001b[0;31m     \u001b[0;32mreturn\u001b[0m \u001b[0mnp\u001b[0m\u001b[0;34m.\u001b[0m\u001b[0mexp\u001b[0m\u001b[0;34m(\u001b[0m\u001b[0ma\u001b[0m\u001b[0;34m)\u001b[0m\u001b[0;34m/\u001b[0m\u001b[0mnp\u001b[0m\u001b[0;34m.\u001b[0m\u001b[0msum\u001b[0m\u001b[0;34m(\u001b[0m\u001b[0mnp\u001b[0m\u001b[0;34m.\u001b[0m\u001b[0mexp\u001b[0m\u001b[0;34m(\u001b[0m\u001b[0ma\u001b[0m\u001b[0;34m)\u001b[0m\u001b[0;34m)\u001b[0m\u001b[0;34m\u001b[0m\u001b[0;34m\u001b[0m\u001b[0m\n\u001b[0m",
      "\u001b[0;31mNameError\u001b[0m: name 'a' is not defined"
     ]
    }
   ],
   "source": [
    "mse(predict(x,network),y_one)"
   ]
  },
  {
   "cell_type": "code",
   "execution_count": 15,
   "id": "2b9d18e8-f2e4-4c78-838f-5dc49ded1efb",
   "metadata": {},
   "outputs": [
    {
     "ename": "NameError",
     "evalue": "name 'a' is not defined",
     "output_type": "error",
     "traceback": [
      "\u001b[0;31m---------------------------------------------------------------------------\u001b[0m",
      "\u001b[0;31mNameError\u001b[0m                                 Traceback (most recent call last)",
      "\u001b[0;32m/tmp/ipykernel_4235/1187387527.py\u001b[0m in \u001b[0;36m<module>\u001b[0;34m\u001b[0m\n\u001b[0;32m----> 1\u001b[0;31m \u001b[0mcross_entropy_err\u001b[0m\u001b[0;34m(\u001b[0m\u001b[0mpredict\u001b[0m\u001b[0;34m(\u001b[0m\u001b[0mx\u001b[0m\u001b[0;34m,\u001b[0m\u001b[0mnetwork\u001b[0m\u001b[0;34m)\u001b[0m\u001b[0;34m,\u001b[0m\u001b[0my_one\u001b[0m\u001b[0;34m)\u001b[0m\u001b[0;34m\u001b[0m\u001b[0;34m\u001b[0m\u001b[0m\n\u001b[0m",
      "\u001b[0;32m/tmp/ipykernel_4235/331606620.py\u001b[0m in \u001b[0;36mpredict\u001b[0;34m(x, network)\u001b[0m\n\u001b[1;32m     13\u001b[0m             \u001b[0minput_layer\u001b[0m \u001b[0;34m=\u001b[0m \u001b[0mnp\u001b[0m\u001b[0;34m.\u001b[0m\u001b[0mdot\u001b[0m\u001b[0;34m(\u001b[0m\u001b[0minput_layer\u001b[0m\u001b[0;34m,\u001b[0m\u001b[0mlayers\u001b[0m\u001b[0;34m[\u001b[0m\u001b[0mi\u001b[0m\u001b[0;34m]\u001b[0m\u001b[0;34m)\u001b[0m \u001b[0;34m+\u001b[0m \u001b[0mbias\u001b[0m\u001b[0;34m[\u001b[0m\u001b[0mi\u001b[0m\u001b[0;34m]\u001b[0m\u001b[0;34m\u001b[0m\u001b[0;34m\u001b[0m\u001b[0m\n\u001b[1;32m     14\u001b[0m     \u001b[0;31m# return np.argmax(input_layer, axis=1).astype('str')\u001b[0m\u001b[0;34m\u001b[0m\u001b[0;34m\u001b[0m\u001b[0m\n\u001b[0;32m---> 15\u001b[0;31m     \u001b[0;32mreturn\u001b[0m \u001b[0msoftmax\u001b[0m\u001b[0;34m(\u001b[0m\u001b[0minput_layer\u001b[0m\u001b[0;34m)\u001b[0m\u001b[0;34m\u001b[0m\u001b[0;34m\u001b[0m\u001b[0m\n\u001b[0m",
      "\u001b[0;32m~/work_place/activation.py\u001b[0m in \u001b[0;36msoftmax\u001b[0;34m(x)\u001b[0m\n\u001b[1;32m      8\u001b[0m \u001b[0;34m\u001b[0m\u001b[0m\n\u001b[1;32m      9\u001b[0m \u001b[0;32mdef\u001b[0m \u001b[0msoftmax\u001b[0m\u001b[0;34m(\u001b[0m\u001b[0mx\u001b[0m\u001b[0;34m)\u001b[0m\u001b[0;34m:\u001b[0m\u001b[0;34m\u001b[0m\u001b[0;34m\u001b[0m\u001b[0m\n\u001b[0;32m---> 10\u001b[0;31m     \u001b[0;32mreturn\u001b[0m \u001b[0mnp\u001b[0m\u001b[0;34m.\u001b[0m\u001b[0mexp\u001b[0m\u001b[0;34m(\u001b[0m\u001b[0ma\u001b[0m\u001b[0;34m)\u001b[0m\u001b[0;34m/\u001b[0m\u001b[0mnp\u001b[0m\u001b[0;34m.\u001b[0m\u001b[0msum\u001b[0m\u001b[0;34m(\u001b[0m\u001b[0mnp\u001b[0m\u001b[0;34m.\u001b[0m\u001b[0mexp\u001b[0m\u001b[0;34m(\u001b[0m\u001b[0ma\u001b[0m\u001b[0;34m)\u001b[0m\u001b[0;34m)\u001b[0m\u001b[0;34m\u001b[0m\u001b[0;34m\u001b[0m\u001b[0m\n\u001b[0m",
      "\u001b[0;31mNameError\u001b[0m: name 'a' is not defined"
     ]
    }
   ],
   "source": [
    "cross_entropy_err(predict(x,network),y_one)"
   ]
  },
  {
   "cell_type": "code",
   "execution_count": 31,
   "id": "51aa472c-c8af-4748-95c0-ef5f273994bc",
   "metadata": {},
   "outputs": [],
   "source": [
    "dt = np.random.randint(1,100,40000)\n",
    "X = dt.reshape(10000,4)\n",
    "t = np.zeros((10000,3))\n",
    "for i in range(10000):\n",
    "    t[i,np.random.randint(0,3,1)]=1"
   ]
  },
  {
   "cell_type": "code",
   "execution_count": 32,
   "id": "c10b35cb-9f46-47f5-b514-b9abe88504b5",
   "metadata": {},
   "outputs": [],
   "source": [
    "W1 = np.random.randn(4,100)\n",
    "W2 = np.random.randn(100,70)\n",
    "W3 = np.random.randn(70,50)\n",
    "W4 = np.random.randn(50,3)\n",
    "weights = {\n",
    "    'W1':W1,\n",
    "    'W2':W2,\n",
    "    'W3':W3,\n",
    "    'W4':W4,\n",
    "}\n",
    "\n",
    "def network():\n",
    "    return weights"
   ]
  },
  {
   "cell_type": "code",
   "execution_count": 33,
   "id": "2449e077-7e78-47d8-86e7-67c687f880bf",
   "metadata": {},
   "outputs": [],
   "source": [
    "init_network = network()"
   ]
  },
  {
   "cell_type": "code",
   "execution_count": 36,
   "id": "229a7655-ccad-45c3-99a9-897c4451b14c",
   "metadata": {},
   "outputs": [],
   "source": [
    "def softmax(x):\n",
    "    c = np.max(x)\n",
    "    a = x - c\n",
    "    return np.exp(a)/np.sum(np.exp(a))"
   ]
  },
  {
   "cell_type": "code",
   "execution_count": 41,
   "id": "d99af89f-0685-42aa-849b-80cf1b0e26f5",
   "metadata": {},
   "outputs": [
    {
     "name": "stderr",
     "output_type": "stream",
     "text": [
      "/home/ejchoi/work_place/activation.py:4: RuntimeWarning: overflow encountered in exp\n",
      "  return 1/(1+np.exp(-x))\n"
     ]
    }
   ],
   "source": [
    "input_data = X\n",
    "layer1 = np.dot(input_data, init_network['W1'])\n",
    "relu1 = relu(layer1)\n",
    "layer2 = np.dot(relu1, init_network['W2'])\n",
    "sigmoid1 = sigmoid(layer2)\n",
    "layer3 = np.dot(sigmoid1, init_network['W3'])\n",
    "relu2 = relu(layer3)\n",
    "output = np.dot(relu2, init_network['W4'])\n",
    "y = softmax(output)\n",
    "# y = np.apply_along_axis(softmax,1,output)"
   ]
  },
  {
   "cell_type": "code",
   "execution_count": 42,
   "id": "677f6a93-3ec0-4472-b8df-2a667ebe76d3",
   "metadata": {},
   "outputs": [
    {
     "data": {
      "text/plain": [
       "5.343500048225049"
      ]
     },
     "execution_count": 42,
     "metadata": {},
     "output_type": "execute_result"
    }
   ],
   "source": [
    "cross_entropy_err(y,t)"
   ]
  },
  {
   "cell_type": "code",
   "execution_count": null,
   "id": "7800f27e-951c-4852-8d11-41354d3c56f3",
   "metadata": {},
   "outputs": [],
   "source": []
  }
 ],
 "metadata": {
  "kernelspec": {
   "display_name": "Python 3 (ipykernel)",
   "language": "python",
   "name": "python3"
  },
  "language_info": {
   "codemirror_mode": {
    "name": "ipython",
    "version": 3
   },
   "file_extension": ".py",
   "mimetype": "text/x-python",
   "name": "python",
   "nbconvert_exporter": "python",
   "pygments_lexer": "ipython3",
   "version": "3.9.7"
  }
 },
 "nbformat": 4,
 "nbformat_minor": 5
}
