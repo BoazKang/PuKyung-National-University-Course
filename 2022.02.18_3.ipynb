{
 "cells": [
  {
   "cell_type": "code",
   "execution_count": 1,
   "id": "7f85d6ad-dab8-485d-9b3c-c6cfddc4a1f3",
   "metadata": {},
   "outputs": [],
   "source": [
    "## 필요 모듈 임포트\n",
    "import pandas as pd\n",
    "from dash import Dash, dcc, html, Input, Output, State\n",
    "import plotly.express as px\n",
    "import pymysql\n",
    "from sqlalchemy import create_engine, text"
   ]
  },
  {
   "cell_type": "code",
   "execution_count": 2,
   "id": "5b69524d-df3d-4f58-967d-86a463c17646",
   "metadata": {},
   "outputs": [],
   "source": [
    "## 데이터베이스 연결\n",
    "#접속정보\n",
    "user = \"bigdata\"\n",
    "password = \"Bigdata123!!\"\n",
    "host = \"192.168.56.101\"\n",
    "port = \"3306\"\n",
    "db = \"SampleDB\"\n",
    "\n",
    "#접속 스크립트\n",
    "conn_script = f\"mysql+pymysql://{user}:{password}@{host}:{port}/{db}\"\n",
    "\n",
    "#connection instance\n",
    "engine = create_engine(conn_script)\n",
    "conn = engine.connect()"
   ]
  },
  {
   "cell_type": "code",
   "execution_count": 3,
   "id": "1e7d83dc-e84b-4c97-8de8-b3b8db0f14e0",
   "metadata": {},
   "outputs": [],
   "source": [
    "qry = \"select year, sum(pop) as pop from world group by year\"\n",
    "df = pd.read_sql(qry,conn)\n",
    "fig = px.line(df, x = \"year\", y = \"pop\")"
   ]
  },
  {
   "cell_type": "code",
   "execution_count": 4,
   "id": "a32d2947-36c7-4ece-aa13-736545eca85b",
   "metadata": {},
   "outputs": [],
   "source": [
    "country = pd.read_sql(\"select distinct country from world\", conn)\n",
    "country = country.loc[:,\"country\"].tolist()\n",
    "country = list(set(country))"
   ]
  },
  {
   "cell_type": "code",
   "execution_count": 5,
   "id": "e008cdd4-9026-4ac5-b572-ce579bcf2948",
   "metadata": {},
   "outputs": [],
   "source": [
    "## dash application 구성 (front end)\n",
    "app = Dash(__name__)\n",
    "app.layout = html.Div(\n",
    "    [\n",
    "        html.H4(\"연도별 인구수 변화\"),\n",
    "        dcc.RadioItems(id = \"radio-items\",\n",
    "                       options = ['꺾은선그래프','막대그래프','파이그래프'],  # request 부분\n",
    "                      value = '꺾은선그래프',\n",
    "                      inline = True),\n",
    "        dcc.Dropdown(id=\"dropdown-items\",\n",
    "                    options = [{\"label\":i, \"value\":i} for i in country]),\n",
    "        html.Hr(),\n",
    "        dcc.Graph(id=\"plt-graph\")\n",
    "    ]\n",
    "\n",
    ")\n"
   ]
  },
  {
   "cell_type": "code",
   "execution_count": 6,
   "id": "f7abc4aa-a839-48d9-b0af-1977d339f573",
   "metadata": {},
   "outputs": [],
   "source": [
    "\n",
    "## backend\n",
    "@app.callback(\n",
    "    Output(\"plt-graph\",\"figure\"),\n",
    "    Input(\"radio-items\",\"value\"),\n",
    "    Input(\"dropdown-items\",\"value\")\n",
    ")\n",
    "\n",
    "def update_graph(graph_type,country):\n",
    "    if country == None:\n",
    "        stmt = \"select year, sum(pop) as pop from world group by year\"\n",
    "    else:\n",
    "        stmt = f\"select year, sum(pop) as pop from world where country = '{country}' group by year\"\n",
    "    df = pd.read_sql(stmt, conn)\n",
    "    if graph_type == \"꺾은선그래프\":\n",
    "        fig = px.line(df, x=\"year\", y=\"pop\")\n",
    "    elif graph_type == \"막대그래프\":\n",
    "        fig = px.bar(df, x=\"year\", y=\"pop\")\n",
    "    else:\n",
    "        fig = px.pie(df, values=\"pop\", names=\"year\")\n",
    "    return fig\n"
   ]
  },
  {
   "cell_type": "code",
   "execution_count": 7,
   "id": "c18b8b73-3fb1-43c1-8096-70a724cb3b6a",
   "metadata": {},
   "outputs": [
    {
     "name": "stdout",
     "output_type": "stream",
     "text": [
      "Dash is running on http://192.168.56.101:5555/\n",
      "\n",
      " * Serving Flask app \"__main__\" (lazy loading)\n",
      " * Environment: production\n",
      "\u001b[31m   WARNING: This is a development server. Do not use it in a production deployment.\u001b[0m\n",
      "\u001b[2m   Use a production WSGI server instead.\u001b[0m\n",
      " * Debug mode: off\n"
     ]
    },
    {
     "name": "stderr",
     "output_type": "stream",
     "text": [
      " * Running on http://192.168.56.101:5555/ (Press CTRL+C to quit)\n",
      "192.168.56.1 - - [21/Feb/2022 08:38:00] \"GET / HTTP/1.1\" 200 -\n",
      "192.168.56.1 - - [21/Feb/2022 08:38:00] \"GET /_dash-layout HTTP/1.1\" 200 -\n",
      "192.168.56.1 - - [21/Feb/2022 08:38:00] \"GET /_dash-dependencies HTTP/1.1\" 200 -\n",
      "192.168.56.1 - - [21/Feb/2022 08:38:00] \"GET /_dash-component-suites/dash/dcc/async-dropdown.js HTTP/1.1\" 200 -\n",
      "192.168.56.1 - - [21/Feb/2022 08:38:00] \"GET /_dash-component-suites/dash/dcc/async-plotlyjs.js HTTP/1.1\" 200 -\n",
      "192.168.56.1 - - [21/Feb/2022 08:38:00] \"GET /_dash-component-suites/dash/dcc/async-graph.js HTTP/1.1\" 200 -\n",
      "192.168.56.1 - - [21/Feb/2022 08:38:00] \"POST /_dash-update-component HTTP/1.1\" 200 -\n",
      "192.168.56.1 - - [21/Feb/2022 08:38:02] \"POST /_dash-update-component HTTP/1.1\" 200 -\n"
     ]
    }
   ],
   "source": [
    "## 서버 구동\n",
    "app.run_server(host=host,port=5555)"
   ]
  },
  {
   "cell_type": "code",
   "execution_count": null,
   "id": "32a67127-46e6-4ad5-8ed4-c513da4d52ae",
   "metadata": {},
   "outputs": [],
   "source": []
  }
 ],
 "metadata": {
  "kernelspec": {
   "display_name": "Python 3 (ipykernel)",
   "language": "python",
   "name": "python3"
  },
  "language_info": {
   "codemirror_mode": {
    "name": "ipython",
    "version": 3
   },
   "file_extension": ".py",
   "mimetype": "text/x-python",
   "name": "python",
   "nbconvert_exporter": "python",
   "pygments_lexer": "ipython3",
   "version": "3.9.7"
  }
 },
 "nbformat": 4,
 "nbformat_minor": 5
}
