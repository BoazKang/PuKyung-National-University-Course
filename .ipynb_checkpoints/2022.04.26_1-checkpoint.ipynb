{
 "cells": [
  {
   "cell_type": "code",
   "execution_count": 1,
   "id": "bfe7015a-14aa-4c74-8100-d4fb4a2918d2",
   "metadata": {},
   "outputs": [],
   "source": [
    "import numpy as np"
   ]
  },
  {
   "cell_type": "code",
   "execution_count": 2,
   "id": "4a4ac33b-a5c9-4716-9663-3f2c4e5e0c8c",
   "metadata": {},
   "outputs": [],
   "source": [
    "from sklearn.datasets import load_wine"
   ]
  },
  {
   "cell_type": "code",
   "execution_count": 4,
   "id": "9c7baacf-199f-4b1c-ba39-8de8f000c162",
   "metadata": {},
   "outputs": [],
   "source": [
    "## 1. Activation function 활성화함수\n",
    "# sigmoid\n",
    "# softmax\n",
    "# relu\n",
    "\n",
    "## 2. Loss function 손실함수\n",
    "# mse\n",
    "# cross_entropy_error\n",
    "\n",
    "## 3. differ function 미분함수\n",
    "# numerical_gradient 수치미분, (fxh - fx) / h\n",
    "\n",
    "## 4. Layer - One"
   ]
  },
  {
   "cell_type": "code",
   "execution_count": 26,
   "id": "ad3120a7-c5a0-47d8-9186-970b24820391",
   "metadata": {},
   "outputs": [],
   "source": [
    "def sigmoid(x):\n",
    "    return 1 / (1 + np.exp(-x))\n",
    "\n",
    "def relu(x):\n",
    "    # return np.maximum(0,x)\n",
    "    return np.where(x <= 0, 0, x)\n",
    "\n",
    "def softmax(x):\n",
    "    x = x - np.max(x, axis=1).reshape(-1,1)\n",
    "    return np.exp(x) / np.sum(np.exp(x), axis=1).reshape(-1,1)"
   ]
  },
  {
   "cell_type": "code",
   "execution_count": 14,
   "id": "b5b8be77-a154-4c38-a994-56791897b15b",
   "metadata": {},
   "outputs": [],
   "source": [
    "def cross_entropy_error(y,t):\n",
    "    return -np.sum(t * np.log(y)) / y.shape[0]"
   ]
  },
  {
   "cell_type": "code",
   "execution_count": null,
   "id": "48f4d595-6c72-49e4-ac2e-44369f11544e",
   "metadata": {},
   "outputs": [],
   "source": []
  }
 ],
 "metadata": {
  "kernelspec": {
   "display_name": "Python 3 (ipykernel)",
   "language": "python",
   "name": "python3"
  },
  "language_info": {
   "codemirror_mode": {
    "name": "ipython",
    "version": 3
   },
   "file_extension": ".py",
   "mimetype": "text/x-python",
   "name": "python",
   "nbconvert_exporter": "python",
   "pygments_lexer": "ipython3",
   "version": "3.9.7"
  }
 },
 "nbformat": 4,
 "nbformat_minor": 5
}
