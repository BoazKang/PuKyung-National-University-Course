{
 "cells": [
  {
   "cell_type": "code",
   "execution_count": 3,
   "id": "bdf642e0-9b57-4da4-b1dc-f89da4d9ab9b",
   "metadata": {},
   "outputs": [],
   "source": [
    "import random"
   ]
  },
  {
   "cell_type": "code",
   "execution_count": 4,
   "id": "6f7582a2-46ab-42a5-aa23-eaab9a3e5dcb",
   "metadata": {},
   "outputs": [],
   "source": [
    "def create_student(name,korean,math,english,science):\n",
    "    return {\n",
    "        \"name\": name,\n",
    "        \"korean\": korean,\n",
    "        \"math\": math,\n",
    "        \"english\": english,\n",
    "        \"science\": science\n",
    "    }"
   ]
  },
  {
   "cell_type": "code",
   "execution_count": 6,
   "id": "83dad6b6-19b9-43b1-96f0-b1ef38a0a452",
   "metadata": {},
   "outputs": [],
   "source": [
    "names = '가나다라마바사아자차카타파하'\n",
    "name = []\n",
    "korean = []\n",
    "math = []\n",
    "english = []\n",
    "science = []\n",
    "\n",
    "for i in range(10):\n",
    "    name.append(random.choice(names)+random.choice(names))\n",
    "    korean.append(random.randrange(80,100))\n",
    "    math.append(random.randrange(80,100))\n",
    "    english.append(random.randrange(80,100))\n",
    "    science.append(random.randrange(80,100))\n",
    "student = create_student(name, korean, math, english, science)"
   ]
  },
  {
   "cell_type": "code",
   "execution_count": 7,
   "id": "ad0558d2-0c3e-4adf-b897-4b35124041a9",
   "metadata": {},
   "outputs": [
    {
     "data": {
      "text/plain": [
       "{'name': ['사가', '파사', '다가', '파라', '자카', '타타', '사나', '파다', '타라', '파가'],\n",
       " 'korean': [98, 97, 82, 99, 91, 85, 98, 82, 95, 91],\n",
       " 'math': [88, 94, 96, 90, 82, 88, 98, 85, 84, 98],\n",
       " 'english': [93, 83, 85, 91, 99, 93, 95, 86, 97, 98],\n",
       " 'science': [97, 93, 87, 90, 93, 97, 98, 88, 85, 92]}"
      ]
     },
     "execution_count": 7,
     "metadata": {},
     "output_type": "execute_result"
    }
   ],
   "source": [
    "for total in "
   ]
  },
  {
   "cell_type": "code",
   "execution_count": 8,
   "id": "3a186466-07be-4b99-8a46-b55742432bfe",
   "metadata": {},
   "outputs": [],
   "source": [
    "def add(x,y):\n",
    "    return x+y"
   ]
  },
  {
   "cell_type": "code",
   "execution_count": null,
   "id": "4c961095-d737-465f-aeca-04e3dd4bf28c",
   "metadata": {},
   "outputs": [],
   "source": [
    "a = list(range(10))\n",
    "b = list(range(10,20))\n"
   ]
  }
 ],
 "metadata": {
  "kernelspec": {
   "display_name": "Python 3 (ipykernel)",
   "language": "python",
   "name": "python3"
  },
  "language_info": {
   "codemirror_mode": {
    "name": "ipython",
    "version": 3
   },
   "file_extension": ".py",
   "mimetype": "text/x-python",
   "name": "python",
   "nbconvert_exporter": "python",
   "pygments_lexer": "ipython3",
   "version": "3.9.7"
  }
 },
 "nbformat": 4,
 "nbformat_minor": 5
}
