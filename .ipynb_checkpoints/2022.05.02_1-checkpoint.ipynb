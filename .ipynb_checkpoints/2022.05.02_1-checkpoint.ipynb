{
 "cells": [
  {
   "cell_type": "code",
   "execution_count": 75,
   "id": "d099c565-2e9b-4fc0-a2f5-6c1f155adf2e",
   "metadata": {},
   "outputs": [],
   "source": [
    "from keras import losses"
   ]
  },
  {
   "cell_type": "code",
   "execution_count": 77,
   "id": "65a08244-a5c1-4a92-9c7f-2cc26422775f",
   "metadata": {},
   "outputs": [],
   "source": [
    "import numpy as np\n",
    "from keras.layers import Dense\n",
    "from keras.models import Sequential\n",
    "from keras.datasets import mnist\n",
    "from keras.utils.np_utils import to_categorical\n",
    "from sklearn.model_selection import train_test_split"
   ]
  },
  {
   "cell_type": "code",
   "execution_count": 2,
   "id": "4952ab9f-631e-46af-9e6e-d0c674a4aed2",
   "metadata": {},
   "outputs": [],
   "source": [
    "## Train, Validation, Test\n",
    "(X_train, y_train), (X_test, y_test) = mnist.load_data()\n",
    "X_train, X_val, y_train, y_val = train_test_split(X_train, y_train, test_size=0.2)\n",
    "y_train = to_categorical(y_train)\n",
    "y_val = to_categorical(y_val)\n",
    "y_test = to_categorical(y_test)"
   ]
  },
  {
   "cell_type": "code",
   "execution_count": 3,
   "id": "4f399f4d-faee-476b-889a-041da9ba3897",
   "metadata": {},
   "outputs": [],
   "source": [
    "X_train = X_train.reshape(-1,28*28)\n",
    "X_val = X_val.reshape(-1,28*28)\n",
    "X_test = X_test.reshape(-1,28*28)\n",
    "\n",
    "input_shape = X_train.shape[1]\n",
    "output_shape = y_train.shape[1]\n",
    "network = Sequential()\n",
    "network.add(Dense(512, activation='relu', input_shape=(input_shape,)))\n",
    "network.add(Dense(output_shape, activation='softmax'))"
   ]
  },
  {
   "cell_type": "code",
   "execution_count": 4,
   "id": "5fecb200-98ef-4ef1-95da-bf05b0e9525b",
   "metadata": {},
   "outputs": [],
   "source": [
    "opt = 'rmsprop'\n",
    "loss = 'categorical_crossentropy'\n",
    "metrics = ['accuracy']\n",
    "network.compile(optimizer=opt,\n",
    "                loss=loss,\n",
    "                metrics=metrics)"
   ]
  },
  {
   "cell_type": "code",
   "execution_count": 5,
   "id": "f534a173-dd09-4498-9e00-c876d14b4bd9",
   "metadata": {},
   "outputs": [
    {
     "name": "stdout",
     "output_type": "stream",
     "text": [
      "Epoch 1/10\n",
      "240/240 [==============================] - 2s 5ms/step - loss: 8.8877 - accuracy: 0.8765 - val_loss: 1.4019 - val_accuracy: 0.9377\n",
      "Epoch 2/10\n",
      "240/240 [==============================] - 1s 5ms/step - loss: 0.9785 - accuracy: 0.9466 - val_loss: 0.8926 - val_accuracy: 0.9491\n",
      "Epoch 3/10\n",
      "240/240 [==============================] - 1s 5ms/step - loss: 0.5476 - accuracy: 0.9628 - val_loss: 0.7549 - val_accuracy: 0.9582\n",
      "Epoch 4/10\n",
      "240/240 [==============================] - 1s 5ms/step - loss: 0.3700 - accuracy: 0.9724 - val_loss: 0.7796 - val_accuracy: 0.9625\n",
      "Epoch 5/10\n",
      "240/240 [==============================] - 1s 5ms/step - loss: 0.3460 - accuracy: 0.9765 - val_loss: 0.8486 - val_accuracy: 0.9643\n",
      "Epoch 6/10\n",
      "240/240 [==============================] - 1s 5ms/step - loss: 0.2938 - accuracy: 0.9799 - val_loss: 0.8380 - val_accuracy: 0.9631\n",
      "Epoch 7/10\n",
      "240/240 [==============================] - 1s 5ms/step - loss: 0.2520 - accuracy: 0.9826 - val_loss: 0.8702 - val_accuracy: 0.9633\n",
      "Epoch 8/10\n",
      "240/240 [==============================] - 1s 5ms/step - loss: 0.2355 - accuracy: 0.9838 - val_loss: 0.8679 - val_accuracy: 0.9677\n",
      "Epoch 9/10\n",
      "240/240 [==============================] - 1s 5ms/step - loss: 0.2028 - accuracy: 0.9862 - val_loss: 0.8276 - val_accuracy: 0.9710\n",
      "Epoch 10/10\n",
      "240/240 [==============================] - 1s 5ms/step - loss: 0.1914 - accuracy: 0.9871 - val_loss: 0.9201 - val_accuracy: 0.9684\n"
     ]
    },
    {
     "data": {
      "text/plain": [
       "<keras.callbacks.History at 0x1cbad2abb20>"
      ]
     },
     "execution_count": 5,
     "metadata": {},
     "output_type": "execute_result"
    }
   ],
   "source": [
    "epochs = 10\n",
    "batch_size = 200\n",
    "network.fit(X_train , \n",
    "          y_train ,\n",
    "          epochs = epochs, \n",
    "          batch_size = batch_size,\n",
    "         validation_data=(X_val,y_val))"
   ]
  },
  {
   "cell_type": "code",
   "execution_count": 6,
   "id": "57a551d0-a6da-46c1-affa-89e4a30a5b33",
   "metadata": {},
   "outputs": [
    {
     "name": "stdout",
     "output_type": "stream",
     "text": [
      "313/313 [==============================] - 0s 811us/step - loss: 0.8440 - accuracy: 0.9695\n"
     ]
    },
    {
     "data": {
      "text/plain": [
       "0.9695000052452087"
      ]
     },
     "execution_count": 6,
     "metadata": {},
     "output_type": "execute_result"
    }
   ],
   "source": [
    "network.evaluate(X_test,y_test)[1]"
   ]
  },
  {
   "cell_type": "code",
   "execution_count": 7,
   "id": "e6a2e2d3-88ce-47e6-8eeb-9f75820c9a8e",
   "metadata": {},
   "outputs": [],
   "source": [
    "from keras.datasets import imdb"
   ]
  },
  {
   "cell_type": "code",
   "execution_count": 8,
   "id": "bd1bddd5-7c70-407d-84d1-a90c92db117a",
   "metadata": {},
   "outputs": [],
   "source": [
    "(X_train, y_train), (X_test, y_test) = imdb.load_data(num_words=10000)"
   ]
  },
  {
   "cell_type": "code",
   "execution_count": 9,
   "id": "815d75e2-1c94-41ee-a73c-77a18b2436f5",
   "metadata": {},
   "outputs": [
    {
     "data": {
      "text/plain": [
       "120"
      ]
     },
     "execution_count": 9,
     "metadata": {},
     "output_type": "execute_result"
    }
   ],
   "source": [
    "np.unique(np.array(X_train[0])).size"
   ]
  },
  {
   "cell_type": "code",
   "execution_count": 10,
   "id": "8a41f7ac-8d02-4f15-8a6b-f1b175d4ec18",
   "metadata": {},
   "outputs": [
    {
     "data": {
      "text/plain": [
       "218"
      ]
     },
     "execution_count": 10,
     "metadata": {},
     "output_type": "execute_result"
    }
   ],
   "source": [
    "len(X_train[0])"
   ]
  },
  {
   "cell_type": "code",
   "execution_count": 16,
   "id": "f7109bf8-bad2-4ffe-bb4e-7eed4f2b40d3",
   "metadata": {},
   "outputs": [
    {
     "data": {
      "text/plain": [
       "array([25000])"
      ]
     },
     "execution_count": 16,
     "metadata": {},
     "output_type": "execute_result"
    }
   ],
   "source": [
    "np.apply_along_axis(len,0,X_train.reshape(-1,1))"
   ]
  },
  {
   "cell_type": "code",
   "execution_count": 18,
   "id": "98ff416d-0e02-4efa-9971-d3777f28e5d8",
   "metadata": {},
   "outputs": [
    {
     "data": {
      "text/plain": [
       "0        218\n",
       "1        189\n",
       "2        141\n",
       "3        550\n",
       "4        147\n",
       "        ... \n",
       "24995    180\n",
       "24996    328\n",
       "24997    184\n",
       "24998    150\n",
       "24999    153\n",
       "Length: 25000, dtype: int64"
      ]
     },
     "execution_count": 18,
     "metadata": {},
     "output_type": "execute_result"
    }
   ],
   "source": [
    "import pandas as pd\n",
    "pd.Series(X_train).apply(len)"
   ]
  },
  {
   "cell_type": "code",
   "execution_count": 22,
   "id": "17d28fd7-75d8-47d3-8691-e99017afe47c",
   "metadata": {},
   "outputs": [
    {
     "data": {
      "text/plain": [
       "9999"
      ]
     },
     "execution_count": 22,
     "metadata": {},
     "output_type": "execute_result"
    }
   ],
   "source": [
    "max([max(sequence) for sequence in X_train])"
   ]
  },
  {
   "cell_type": "code",
   "execution_count": 32,
   "id": "9f3e7618-c9e2-4b76-8b9a-608a5cd303ac",
   "metadata": {},
   "outputs": [],
   "source": [
    "word_index = imdb.get_word_index()"
   ]
  },
  {
   "cell_type": "code",
   "execution_count": 35,
   "id": "4b5ac1e9-7415-4403-86ed-91c403d3d1c5",
   "metadata": {},
   "outputs": [],
   "source": [
    "index_word = { v:k for k,v in word_index.items()}"
   ]
  },
  {
   "cell_type": "code",
   "execution_count": 36,
   "id": "4dca38ec-7f83-4447-98ae-443f41b0e205",
   "metadata": {},
   "outputs": [],
   "source": [
    "X_train_word = []\n",
    "for i in X_train[0]:\n",
    "    X_train_word.append(index_word[i])"
   ]
  },
  {
   "cell_type": "code",
   "execution_count": 37,
   "id": "40cb2df8-b428-4201-bbfd-ccc623145265",
   "metadata": {
    "collapsed": true,
    "jupyter": {
     "outputs_hidden": true
    },
    "tags": []
   },
   "outputs": [
    {
     "data": {
      "text/plain": [
       "['the',\n",
       " 'as',\n",
       " 'you',\n",
       " 'with',\n",
       " 'out',\n",
       " 'themselves',\n",
       " 'powerful',\n",
       " 'lets',\n",
       " 'loves',\n",
       " 'their',\n",
       " 'becomes',\n",
       " 'reaching',\n",
       " 'had',\n",
       " 'journalist',\n",
       " 'of',\n",
       " 'lot',\n",
       " 'from',\n",
       " 'anyone',\n",
       " 'to',\n",
       " 'have',\n",
       " 'after',\n",
       " 'out',\n",
       " 'atmosphere',\n",
       " 'never',\n",
       " 'more',\n",
       " 'room',\n",
       " 'and',\n",
       " 'it',\n",
       " 'so',\n",
       " 'heart',\n",
       " 'shows',\n",
       " 'to',\n",
       " 'years',\n",
       " 'of',\n",
       " 'every',\n",
       " 'never',\n",
       " 'going',\n",
       " 'and',\n",
       " 'help',\n",
       " 'moments',\n",
       " 'or',\n",
       " 'of',\n",
       " 'every',\n",
       " 'chest',\n",
       " 'visual',\n",
       " 'movie',\n",
       " 'except',\n",
       " 'her',\n",
       " 'was',\n",
       " 'several',\n",
       " 'of',\n",
       " 'enough',\n",
       " 'more',\n",
       " 'with',\n",
       " 'is',\n",
       " 'now',\n",
       " 'current',\n",
       " 'film',\n",
       " 'as',\n",
       " 'you',\n",
       " 'of',\n",
       " 'mine',\n",
       " 'potentially',\n",
       " 'unfortunately',\n",
       " 'of',\n",
       " 'you',\n",
       " 'than',\n",
       " 'him',\n",
       " 'that',\n",
       " 'with',\n",
       " 'out',\n",
       " 'themselves',\n",
       " 'her',\n",
       " 'get',\n",
       " 'for',\n",
       " 'was',\n",
       " 'camp',\n",
       " 'of',\n",
       " 'you',\n",
       " 'movie',\n",
       " 'sometimes',\n",
       " 'movie',\n",
       " 'that',\n",
       " 'with',\n",
       " 'scary',\n",
       " 'but',\n",
       " 'and',\n",
       " 'to',\n",
       " 'story',\n",
       " 'wonderful',\n",
       " 'that',\n",
       " 'in',\n",
       " 'seeing',\n",
       " 'in',\n",
       " 'character',\n",
       " 'to',\n",
       " 'of',\n",
       " '70s',\n",
       " 'musicians',\n",
       " 'with',\n",
       " 'heart',\n",
       " 'had',\n",
       " 'shadows',\n",
       " 'they',\n",
       " 'of',\n",
       " 'here',\n",
       " 'that',\n",
       " 'with',\n",
       " 'her',\n",
       " 'serious',\n",
       " 'to',\n",
       " 'have',\n",
       " 'does',\n",
       " 'when',\n",
       " 'from',\n",
       " 'why',\n",
       " 'what',\n",
       " 'have',\n",
       " 'critics',\n",
       " 'they',\n",
       " 'is',\n",
       " 'you',\n",
       " 'that',\n",
       " \"isn't\",\n",
       " 'one',\n",
       " 'will',\n",
       " 'very',\n",
       " 'to',\n",
       " 'as',\n",
       " 'itself',\n",
       " 'with',\n",
       " 'other',\n",
       " 'and',\n",
       " 'in',\n",
       " 'of',\n",
       " 'seen',\n",
       " 'over',\n",
       " 'landed',\n",
       " 'for',\n",
       " 'anyone',\n",
       " 'of',\n",
       " 'and',\n",
       " 'br',\n",
       " \"show's\",\n",
       " 'to',\n",
       " 'whether',\n",
       " 'from',\n",
       " 'than',\n",
       " 'out',\n",
       " 'themselves',\n",
       " 'history',\n",
       " 'he',\n",
       " 'name',\n",
       " 'half',\n",
       " 'some',\n",
       " 'br',\n",
       " 'of',\n",
       " 'and',\n",
       " 'odd',\n",
       " 'was',\n",
       " 'two',\n",
       " 'most',\n",
       " 'of',\n",
       " 'mean',\n",
       " 'for',\n",
       " '1',\n",
       " 'any',\n",
       " 'an',\n",
       " 'boat',\n",
       " 'she',\n",
       " 'he',\n",
       " 'should',\n",
       " 'is',\n",
       " 'thought',\n",
       " 'frog',\n",
       " 'but',\n",
       " 'of',\n",
       " 'script',\n",
       " 'you',\n",
       " 'not',\n",
       " 'while',\n",
       " 'history',\n",
       " 'he',\n",
       " 'heart',\n",
       " 'to',\n",
       " 'real',\n",
       " 'at',\n",
       " 'barrel',\n",
       " 'but',\n",
       " 'when',\n",
       " 'from',\n",
       " 'one',\n",
       " 'bit',\n",
       " 'then',\n",
       " 'have',\n",
       " 'two',\n",
       " 'of',\n",
       " 'script',\n",
       " 'their',\n",
       " 'with',\n",
       " 'her',\n",
       " 'nobody',\n",
       " 'most',\n",
       " 'that',\n",
       " 'with',\n",
       " \"wasn't\",\n",
       " 'to',\n",
       " 'with',\n",
       " 'armed',\n",
       " 'acting',\n",
       " 'watch',\n",
       " 'an',\n",
       " 'for',\n",
       " 'with',\n",
       " 'heartfelt',\n",
       " 'film',\n",
       " 'want',\n",
       " 'an']"
      ]
     },
     "execution_count": 37,
     "metadata": {},
     "output_type": "execute_result"
    }
   ],
   "source": [
    "X_train_word"
   ]
  },
  {
   "cell_type": "code",
   "execution_count": 96,
   "id": "3d3e47a1-2c03-4367-8c31-2a95edde8373",
   "metadata": {},
   "outputs": [],
   "source": [
    "def vectorize_sequences(sequences, dimension=10000):\n",
    "    # 크기가 (len(sequences), dimension))이고 모든 원소가 0인 행렬을 만듭니다\n",
    "    results = np.zeros((len(sequences), dimension))\n",
    "    for i, sequence in enumerate(sequences):\n",
    "        results[i, sequence] = 1.  # results[i]에서 특정 인덱스의 위치를 1로 만듭니다\n",
    "    return results"
   ]
  },
  {
   "cell_type": "code",
   "execution_count": 40,
   "id": "be3ef447-d46d-4e40-9fb6-51a5860c4d77",
   "metadata": {},
   "outputs": [],
   "source": [
    "X_train = vectorize_sequences(X_train)\n",
    "X_test = vectorize_sequences(X_test)"
   ]
  },
  {
   "cell_type": "code",
   "execution_count": 44,
   "id": "cfd4c2bc-fdb8-4b68-abbd-c0f59b958442",
   "metadata": {},
   "outputs": [],
   "source": [
    "X_train, X_val, y_train, y_val = train_test_split(X_train, y_train)"
   ]
  },
  {
   "cell_type": "code",
   "execution_count": 46,
   "id": "1fe1b3d5-8d88-4b3b-b022-43a67a71c69c",
   "metadata": {},
   "outputs": [],
   "source": [
    "y_train = y_train.reshape(-1,1)\n",
    "y_val = y_val.reshape(-1,1)\n",
    "y_test = y_test.reshape(-1,1)"
   ]
  },
  {
   "cell_type": "code",
   "execution_count": 47,
   "id": "65d67d40-79ed-4a06-9a9b-934162ed94e3",
   "metadata": {},
   "outputs": [
    {
     "name": "stdout",
     "output_type": "stream",
     "text": [
      "(18750, 10000)\n",
      "(6250, 10000)\n",
      "(25000, 10000)\n",
      "(18750, 1)\n",
      "(6250, 1)\n",
      "(25000, 1)\n"
     ]
    }
   ],
   "source": [
    "print(X_train.shape)\n",
    "print(X_val.shape)\n",
    "print(X_test.shape)\n",
    "print(y_train.shape)\n",
    "print(y_val.shape)\n",
    "print(y_test.shape)"
   ]
  },
  {
   "cell_type": "code",
   "execution_count": 48,
   "id": "77954d80-4af5-4fc6-918c-f77c0d29fd21",
   "metadata": {},
   "outputs": [],
   "source": [
    "input_shape = X_train.shape[1]\n",
    "output_shape = y_train.shape[1]"
   ]
  },
  {
   "cell_type": "code",
   "execution_count": 63,
   "id": "69d34aaa-2f9f-4f92-8ec8-a60ec6936c9d",
   "metadata": {},
   "outputs": [],
   "source": [
    "model = Sequential()\n",
    "model.add(Dense(100,activation='sigmoid',input_shape=(input_shape,)))\n",
    "model.add(Dense(28,activation='tanh'))\n",
    "model.add(Dense(20,activation='relu'))\n",
    "model.add(Dense(output_shape,activation='sigmoid'))"
   ]
  },
  {
   "cell_type": "code",
   "execution_count": 65,
   "id": "e0ec9963-a5c4-44e9-a1e5-1e764fbacee1",
   "metadata": {},
   "outputs": [
    {
     "name": "stdout",
     "output_type": "stream",
     "text": [
      "Model: \"sequential_3\"\n",
      "_________________________________________________________________\n",
      " Layer (type)                Output Shape              Param #   \n",
      "=================================================================\n",
      " dense_8 (Dense)             (None, 100)               1000100   \n",
      "                                                                 \n",
      " dense_9 (Dense)             (None, 28)                2828      \n",
      "                                                                 \n",
      " dense_10 (Dense)            (None, 20)                580       \n",
      "                                                                 \n",
      " dense_11 (Dense)            (None, 1)                 21        \n",
      "                                                                 \n",
      "=================================================================\n",
      "Total params: 1,003,529\n",
      "Trainable params: 1,003,529\n",
      "Non-trainable params: 0\n",
      "_________________________________________________________________\n"
     ]
    }
   ],
   "source": [
    "model.summary()"
   ]
  },
  {
   "cell_type": "code",
   "execution_count": 67,
   "id": "f05171d0-85d5-42ab-86da-6f0ba1f2a4e6",
   "metadata": {},
   "outputs": [],
   "source": [
    "opt = 'adam'\n",
    "# loss = 'binary_crossentropy'\n",
    "loss = 'mse'\n",
    "metrics = ['accuracy','mse']\n",
    "model.compile(optimizer=opt,\n",
    "              loss=loss,\n",
    "              metrics=metrics)"
   ]
  },
  {
   "cell_type": "code",
   "execution_count": 68,
   "id": "325c4b9c-1914-49f1-8eb0-541aa7668f5e",
   "metadata": {
    "collapsed": true,
    "jupyter": {
     "outputs_hidden": true
    },
    "tags": []
   },
   "outputs": [
    {
     "name": "stdout",
     "output_type": "stream",
     "text": [
      "Epoch 1/100\n",
      "63/63 [==============================] - 1s 14ms/step - loss: 1.2592e-09 - accuracy: 1.0000 - mse: 1.2592e-09 - val_loss: 0.1415 - val_accuracy: 0.8509 - val_mse: 0.1415\n",
      "Epoch 2/100\n",
      "63/63 [==============================] - 1s 13ms/step - loss: 1.1976e-09 - accuracy: 1.0000 - mse: 1.1976e-09 - val_loss: 0.1416 - val_accuracy: 0.8506 - val_mse: 0.1416\n",
      "Epoch 3/100\n",
      "63/63 [==============================] - 1s 14ms/step - loss: 1.1591e-09 - accuracy: 1.0000 - mse: 1.1591e-09 - val_loss: 0.1415 - val_accuracy: 0.8510 - val_mse: 0.1415\n",
      "Epoch 4/100\n",
      "63/63 [==============================] - 1s 14ms/step - loss: 1.0948e-09 - accuracy: 1.0000 - mse: 1.0948e-09 - val_loss: 0.1416 - val_accuracy: 0.8510 - val_mse: 0.1416\n",
      "Epoch 5/100\n",
      "63/63 [==============================] - 1s 14ms/step - loss: 1.0583e-09 - accuracy: 1.0000 - mse: 1.0583e-09 - val_loss: 0.1415 - val_accuracy: 0.8509 - val_mse: 0.1415\n",
      "Epoch 6/100\n",
      "63/63 [==============================] - 1s 14ms/step - loss: 9.8137e-10 - accuracy: 1.0000 - mse: 9.8137e-10 - val_loss: 0.1416 - val_accuracy: 0.8510 - val_mse: 0.1416\n",
      "Epoch 7/100\n",
      "63/63 [==============================] - 1s 14ms/step - loss: 9.5526e-10 - accuracy: 1.0000 - mse: 9.5526e-10 - val_loss: 0.1414 - val_accuracy: 0.8504 - val_mse: 0.1414\n",
      "Epoch 8/100\n",
      "63/63 [==============================] - 1s 14ms/step - loss: 8.7858e-10 - accuracy: 1.0000 - mse: 8.7858e-10 - val_loss: 0.1417 - val_accuracy: 0.8509 - val_mse: 0.1417\n",
      "Epoch 9/100\n",
      "63/63 [==============================] - 1s 14ms/step - loss: 8.4117e-10 - accuracy: 1.0000 - mse: 8.4117e-10 - val_loss: 0.1418 - val_accuracy: 0.8507 - val_mse: 0.1418\n",
      "Epoch 10/100\n",
      "63/63 [==============================] - 1s 15ms/step - loss: 7.9324e-10 - accuracy: 1.0000 - mse: 7.9324e-10 - val_loss: 0.1416 - val_accuracy: 0.8506 - val_mse: 0.1416\n",
      "Epoch 11/100\n",
      "63/63 [==============================] - 1s 14ms/step - loss: 7.8632e-10 - accuracy: 1.0000 - mse: 7.8632e-10 - val_loss: 0.1415 - val_accuracy: 0.8502 - val_mse: 0.1415\n",
      "Epoch 12/100\n",
      "63/63 [==============================] - 1s 14ms/step - loss: 7.1446e-10 - accuracy: 1.0000 - mse: 7.1446e-10 - val_loss: 0.1418 - val_accuracy: 0.8509 - val_mse: 0.1418\n",
      "Epoch 13/100\n",
      "63/63 [==============================] - 1s 13ms/step - loss: 6.8429e-10 - accuracy: 1.0000 - mse: 6.8429e-10 - val_loss: 0.1416 - val_accuracy: 0.8504 - val_mse: 0.1416\n",
      "Epoch 14/100\n",
      "63/63 [==============================] - 1s 14ms/step - loss: 6.6958e-10 - accuracy: 1.0000 - mse: 6.6958e-10 - val_loss: 0.1418 - val_accuracy: 0.8507 - val_mse: 0.1418\n",
      "Epoch 15/100\n",
      "63/63 [==============================] - 1s 14ms/step - loss: 6.2614e-10 - accuracy: 1.0000 - mse: 6.2614e-10 - val_loss: 0.1418 - val_accuracy: 0.8507 - val_mse: 0.1418\n",
      "Epoch 16/100\n",
      "63/63 [==============================] - 1s 13ms/step - loss: 6.1414e-10 - accuracy: 1.0000 - mse: 6.1414e-10 - val_loss: 0.1418 - val_accuracy: 0.8506 - val_mse: 0.1418\n",
      "Epoch 17/100\n",
      "63/63 [==============================] - 1s 13ms/step - loss: 5.8779e-10 - accuracy: 1.0000 - mse: 5.8779e-10 - val_loss: 0.1419 - val_accuracy: 0.8510 - val_mse: 0.1419\n",
      "Epoch 18/100\n",
      "63/63 [==============================] - 1s 14ms/step - loss: 5.6644e-10 - accuracy: 1.0000 - mse: 5.6644e-10 - val_loss: 0.1419 - val_accuracy: 0.8507 - val_mse: 0.1419\n",
      "Epoch 19/100\n",
      "63/63 [==============================] - 1s 14ms/step - loss: 5.3841e-10 - accuracy: 1.0000 - mse: 5.3841e-10 - val_loss: 0.1419 - val_accuracy: 0.8507 - val_mse: 0.1419\n",
      "Epoch 20/100\n",
      "63/63 [==============================] - 1s 13ms/step - loss: 5.3121e-10 - accuracy: 1.0000 - mse: 5.3121e-10 - val_loss: 0.1419 - val_accuracy: 0.8506 - val_mse: 0.1419\n",
      "Epoch 21/100\n",
      "63/63 [==============================] - 1s 14ms/step - loss: 5.1068e-10 - accuracy: 1.0000 - mse: 5.1068e-10 - val_loss: 0.1418 - val_accuracy: 0.8506 - val_mse: 0.1418\n",
      "Epoch 22/100\n",
      "63/63 [==============================] - 1s 13ms/step - loss: 4.9390e-10 - accuracy: 1.0000 - mse: 4.9390e-10 - val_loss: 0.1419 - val_accuracy: 0.8506 - val_mse: 0.1419\n",
      "Epoch 23/100\n",
      "63/63 [==============================] - 1s 14ms/step - loss: 4.7560e-10 - accuracy: 1.0000 - mse: 4.7560e-10 - val_loss: 0.1420 - val_accuracy: 0.8504 - val_mse: 0.1420\n",
      "Epoch 24/100\n",
      "63/63 [==============================] - 1s 14ms/step - loss: 4.5797e-10 - accuracy: 1.0000 - mse: 4.5797e-10 - val_loss: 0.1419 - val_accuracy: 0.8509 - val_mse: 0.1419\n",
      "Epoch 25/100\n",
      "63/63 [==============================] - 1s 14ms/step - loss: 4.4057e-10 - accuracy: 1.0000 - mse: 4.4057e-10 - val_loss: 0.1420 - val_accuracy: 0.8506 - val_mse: 0.1420\n",
      "Epoch 26/100\n",
      "63/63 [==============================] - 1s 14ms/step - loss: 4.2765e-10 - accuracy: 1.0000 - mse: 4.2765e-10 - val_loss: 0.1420 - val_accuracy: 0.8507 - val_mse: 0.1420\n",
      "Epoch 27/100\n",
      "63/63 [==============================] - 1s 14ms/step - loss: 4.1477e-10 - accuracy: 1.0000 - mse: 4.1477e-10 - val_loss: 0.1420 - val_accuracy: 0.8507 - val_mse: 0.1420\n",
      "Epoch 28/100\n",
      "63/63 [==============================] - 1s 14ms/step - loss: 4.0232e-10 - accuracy: 1.0000 - mse: 4.0232e-10 - val_loss: 0.1420 - val_accuracy: 0.8504 - val_mse: 0.1420\n",
      "Epoch 29/100\n",
      "63/63 [==============================] - 1s 14ms/step - loss: 3.9304e-10 - accuracy: 1.0000 - mse: 3.9304e-10 - val_loss: 0.1420 - val_accuracy: 0.8509 - val_mse: 0.1420\n",
      "Epoch 30/100\n",
      "63/63 [==============================] - 1s 14ms/step - loss: 3.7820e-10 - accuracy: 1.0000 - mse: 3.7820e-10 - val_loss: 0.1420 - val_accuracy: 0.8504 - val_mse: 0.1420\n",
      "Epoch 31/100\n",
      "63/63 [==============================] - 1s 14ms/step - loss: 3.6833e-10 - accuracy: 1.0000 - mse: 3.6833e-10 - val_loss: 0.1421 - val_accuracy: 0.8506 - val_mse: 0.1421\n",
      "Epoch 32/100\n",
      "63/63 [==============================] - 1s 14ms/step - loss: 3.6024e-10 - accuracy: 1.0000 - mse: 3.6024e-10 - val_loss: 0.1421 - val_accuracy: 0.8506 - val_mse: 0.1421\n",
      "Epoch 33/100\n",
      "63/63 [==============================] - 1s 14ms/step - loss: 3.5053e-10 - accuracy: 1.0000 - mse: 3.5053e-10 - val_loss: 0.1421 - val_accuracy: 0.8507 - val_mse: 0.1421\n",
      "Epoch 34/100\n",
      "63/63 [==============================] - 1s 14ms/step - loss: 3.4104e-10 - accuracy: 1.0000 - mse: 3.4104e-10 - val_loss: 0.1420 - val_accuracy: 0.8502 - val_mse: 0.1420\n",
      "Epoch 35/100\n",
      "63/63 [==============================] - 1s 14ms/step - loss: 3.3242e-10 - accuracy: 1.0000 - mse: 3.3242e-10 - val_loss: 0.1421 - val_accuracy: 0.8507 - val_mse: 0.1421\n",
      "Epoch 36/100\n",
      "63/63 [==============================] - 1s 14ms/step - loss: 3.2740e-10 - accuracy: 1.0000 - mse: 3.2740e-10 - val_loss: 0.1421 - val_accuracy: 0.8507 - val_mse: 0.1421\n",
      "Epoch 37/100\n",
      "63/63 [==============================] - 1s 14ms/step - loss: 3.1735e-10 - accuracy: 1.0000 - mse: 3.1735e-10 - val_loss: 0.1422 - val_accuracy: 0.8509 - val_mse: 0.1422\n",
      "Epoch 38/100\n",
      "63/63 [==============================] - 1s 15ms/step - loss: 3.1050e-10 - accuracy: 1.0000 - mse: 3.1050e-10 - val_loss: 0.1421 - val_accuracy: 0.8506 - val_mse: 0.1421\n",
      "Epoch 39/100\n",
      "63/63 [==============================] - 1s 15ms/step - loss: 3.0266e-10 - accuracy: 1.0000 - mse: 3.0266e-10 - val_loss: 0.1421 - val_accuracy: 0.8502 - val_mse: 0.1421\n",
      "Epoch 40/100\n",
      "63/63 [==============================] - 1s 15ms/step - loss: 2.9461e-10 - accuracy: 1.0000 - mse: 2.9461e-10 - val_loss: 0.1422 - val_accuracy: 0.8507 - val_mse: 0.1422\n",
      "Epoch 41/100\n",
      "63/63 [==============================] - 1s 15ms/step - loss: 2.9056e-10 - accuracy: 1.0000 - mse: 2.9056e-10 - val_loss: 0.1421 - val_accuracy: 0.8506 - val_mse: 0.1421\n",
      "Epoch 42/100\n",
      "63/63 [==============================] - 1s 14ms/step - loss: 2.8235e-10 - accuracy: 1.0000 - mse: 2.8235e-10 - val_loss: 0.1421 - val_accuracy: 0.8506 - val_mse: 0.1421\n",
      "Epoch 43/100\n",
      "63/63 [==============================] - 1s 16ms/step - loss: 2.7641e-10 - accuracy: 1.0000 - mse: 2.7641e-10 - val_loss: 0.1422 - val_accuracy: 0.8506 - val_mse: 0.1422\n",
      "Epoch 44/100\n",
      "63/63 [==============================] - 1s 15ms/step - loss: 2.7080e-10 - accuracy: 1.0000 - mse: 2.7080e-10 - val_loss: 0.1422 - val_accuracy: 0.8506 - val_mse: 0.1422\n",
      "Epoch 45/100\n",
      "63/63 [==============================] - 1s 15ms/step - loss: 2.6650e-10 - accuracy: 1.0000 - mse: 2.6650e-10 - val_loss: 0.1422 - val_accuracy: 0.8506 - val_mse: 0.1422\n",
      "Epoch 46/100\n",
      "63/63 [==============================] - 1s 16ms/step - loss: 2.6090e-10 - accuracy: 1.0000 - mse: 2.6090e-10 - val_loss: 0.1422 - val_accuracy: 0.8506 - val_mse: 0.1422\n",
      "Epoch 47/100\n",
      "63/63 [==============================] - 1s 15ms/step - loss: 2.5423e-10 - accuracy: 1.0000 - mse: 2.5423e-10 - val_loss: 0.1422 - val_accuracy: 0.8502 - val_mse: 0.1422\n",
      "Epoch 48/100\n",
      "63/63 [==============================] - 1s 15ms/step - loss: 2.5024e-10 - accuracy: 1.0000 - mse: 2.5024e-10 - val_loss: 0.1422 - val_accuracy: 0.8509 - val_mse: 0.1422\n",
      "Epoch 49/100\n",
      "63/63 [==============================] - 1s 15ms/step - loss: 2.4612e-10 - accuracy: 1.0000 - mse: 2.4612e-10 - val_loss: 0.1422 - val_accuracy: 0.8509 - val_mse: 0.1422\n",
      "Epoch 50/100\n",
      "63/63 [==============================] - 1s 15ms/step - loss: 2.4221e-10 - accuracy: 1.0000 - mse: 2.4221e-10 - val_loss: 0.1422 - val_accuracy: 0.8507 - val_mse: 0.1422\n",
      "Epoch 51/100\n",
      "63/63 [==============================] - 1s 16ms/step - loss: 2.3582e-10 - accuracy: 1.0000 - mse: 2.3582e-10 - val_loss: 0.1422 - val_accuracy: 0.8506 - val_mse: 0.1422\n",
      "Epoch 52/100\n",
      "63/63 [==============================] - 1s 15ms/step - loss: 2.3274e-10 - accuracy: 1.0000 - mse: 2.3274e-10 - val_loss: 0.1422 - val_accuracy: 0.8502 - val_mse: 0.1422\n",
      "Epoch 53/100\n",
      "63/63 [==============================] - 1s 15ms/step - loss: 2.2845e-10 - accuracy: 1.0000 - mse: 2.2845e-10 - val_loss: 0.1422 - val_accuracy: 0.8506 - val_mse: 0.1422\n",
      "Epoch 54/100\n",
      "63/63 [==============================] - 1s 15ms/step - loss: 2.2350e-10 - accuracy: 1.0000 - mse: 2.2350e-10 - val_loss: 0.1422 - val_accuracy: 0.8502 - val_mse: 0.1422\n",
      "Epoch 55/100\n",
      "63/63 [==============================] - 1s 14ms/step - loss: 2.1975e-10 - accuracy: 1.0000 - mse: 2.1975e-10 - val_loss: 0.1422 - val_accuracy: 0.8504 - val_mse: 0.1422\n",
      "Epoch 56/100\n",
      "63/63 [==============================] - 1s 14ms/step - loss: 2.1613e-10 - accuracy: 1.0000 - mse: 2.1613e-10 - val_loss: 0.1422 - val_accuracy: 0.8502 - val_mse: 0.1422\n",
      "Epoch 57/100\n",
      "63/63 [==============================] - 1s 14ms/step - loss: 2.1245e-10 - accuracy: 1.0000 - mse: 2.1245e-10 - val_loss: 0.1423 - val_accuracy: 0.8509 - val_mse: 0.1423\n",
      "Epoch 58/100\n",
      "63/63 [==============================] - 1s 14ms/step - loss: 2.0923e-10 - accuracy: 1.0000 - mse: 2.0923e-10 - val_loss: 0.1422 - val_accuracy: 0.8504 - val_mse: 0.1422\n",
      "Epoch 59/100\n",
      "63/63 [==============================] - 1s 14ms/step - loss: 2.0571e-10 - accuracy: 1.0000 - mse: 2.0571e-10 - val_loss: 0.1423 - val_accuracy: 0.8506 - val_mse: 0.1423\n",
      "Epoch 60/100\n",
      "63/63 [==============================] - 1s 14ms/step - loss: 2.0214e-10 - accuracy: 1.0000 - mse: 2.0214e-10 - val_loss: 0.1423 - val_accuracy: 0.8507 - val_mse: 0.1423\n",
      "Epoch 61/100\n",
      "63/63 [==============================] - 1s 14ms/step - loss: 1.9897e-10 - accuracy: 1.0000 - mse: 1.9897e-10 - val_loss: 0.1423 - val_accuracy: 0.8507 - val_mse: 0.1423\n",
      "Epoch 62/100\n",
      "63/63 [==============================] - 1s 14ms/step - loss: 1.9618e-10 - accuracy: 1.0000 - mse: 1.9618e-10 - val_loss: 0.1423 - val_accuracy: 0.8509 - val_mse: 0.1423\n",
      "Epoch 63/100\n",
      "63/63 [==============================] - 1s 14ms/step - loss: 1.9322e-10 - accuracy: 1.0000 - mse: 1.9322e-10 - val_loss: 0.1423 - val_accuracy: 0.8507 - val_mse: 0.1423\n",
      "Epoch 64/100\n",
      "63/63 [==============================] - 1s 14ms/step - loss: 1.9008e-10 - accuracy: 1.0000 - mse: 1.9008e-10 - val_loss: 0.1423 - val_accuracy: 0.8504 - val_mse: 0.1423\n",
      "Epoch 65/100\n",
      "63/63 [==============================] - 1s 14ms/step - loss: 1.8772e-10 - accuracy: 1.0000 - mse: 1.8772e-10 - val_loss: 0.1423 - val_accuracy: 0.8504 - val_mse: 0.1423\n",
      "Epoch 66/100\n",
      "63/63 [==============================] - 1s 14ms/step - loss: 1.8453e-10 - accuracy: 1.0000 - mse: 1.8453e-10 - val_loss: 0.1423 - val_accuracy: 0.8509 - val_mse: 0.1423\n",
      "Epoch 67/100\n",
      "63/63 [==============================] - 1s 14ms/step - loss: 1.8294e-10 - accuracy: 1.0000 - mse: 1.8294e-10 - val_loss: 0.1424 - val_accuracy: 0.8507 - val_mse: 0.1424\n",
      "Epoch 68/100\n",
      "63/63 [==============================] - 1s 14ms/step - loss: 1.7998e-10 - accuracy: 1.0000 - mse: 1.7998e-10 - val_loss: 0.1423 - val_accuracy: 0.8506 - val_mse: 0.1423\n",
      "Epoch 69/100\n",
      "63/63 [==============================] - 1s 14ms/step - loss: 1.7676e-10 - accuracy: 1.0000 - mse: 1.7676e-10 - val_loss: 0.1423 - val_accuracy: 0.8506 - val_mse: 0.1423\n",
      "Epoch 70/100\n",
      "63/63 [==============================] - 1s 14ms/step - loss: 1.7432e-10 - accuracy: 1.0000 - mse: 1.7432e-10 - val_loss: 0.1424 - val_accuracy: 0.8509 - val_mse: 0.1424\n",
      "Epoch 71/100\n",
      "63/63 [==============================] - 1s 14ms/step - loss: 1.7167e-10 - accuracy: 1.0000 - mse: 1.7167e-10 - val_loss: 0.1424 - val_accuracy: 0.8509 - val_mse: 0.1424\n",
      "Epoch 72/100\n",
      "63/63 [==============================] - 1s 14ms/step - loss: 1.6996e-10 - accuracy: 1.0000 - mse: 1.6996e-10 - val_loss: 0.1423 - val_accuracy: 0.8509 - val_mse: 0.1423\n",
      "Epoch 73/100\n",
      "63/63 [==============================] - 1s 15ms/step - loss: 1.6720e-10 - accuracy: 1.0000 - mse: 1.6720e-10 - val_loss: 0.1424 - val_accuracy: 0.8509 - val_mse: 0.1424\n",
      "Epoch 74/100\n",
      "63/63 [==============================] - 1s 15ms/step - loss: 1.6514e-10 - accuracy: 1.0000 - mse: 1.6514e-10 - val_loss: 0.1424 - val_accuracy: 0.8506 - val_mse: 0.1424\n",
      "Epoch 75/100\n",
      "63/63 [==============================] - 1s 15ms/step - loss: 1.6280e-10 - accuracy: 1.0000 - mse: 1.6280e-10 - val_loss: 0.1423 - val_accuracy: 0.8506 - val_mse: 0.1423\n",
      "Epoch 76/100\n",
      "63/63 [==============================] - 1s 15ms/step - loss: 1.6097e-10 - accuracy: 1.0000 - mse: 1.6097e-10 - val_loss: 0.1424 - val_accuracy: 0.8504 - val_mse: 0.1424\n",
      "Epoch 77/100\n",
      "63/63 [==============================] - 1s 15ms/step - loss: 1.5860e-10 - accuracy: 1.0000 - mse: 1.5860e-10 - val_loss: 0.1424 - val_accuracy: 0.8507 - val_mse: 0.1424\n",
      "Epoch 78/100\n",
      "63/63 [==============================] - 1s 15ms/step - loss: 1.5686e-10 - accuracy: 1.0000 - mse: 1.5686e-10 - val_loss: 0.1424 - val_accuracy: 0.8506 - val_mse: 0.1424\n",
      "Epoch 79/100\n",
      "63/63 [==============================] - 1s 15ms/step - loss: 1.5463e-10 - accuracy: 1.0000 - mse: 1.5463e-10 - val_loss: 0.1424 - val_accuracy: 0.8506 - val_mse: 0.1424\n",
      "Epoch 80/100\n",
      "63/63 [==============================] - 1s 15ms/step - loss: 1.5351e-10 - accuracy: 1.0000 - mse: 1.5351e-10 - val_loss: 0.1424 - val_accuracy: 0.8504 - val_mse: 0.1424\n",
      "Epoch 81/100\n",
      "63/63 [==============================] - 1s 15ms/step - loss: 1.5145e-10 - accuracy: 1.0000 - mse: 1.5145e-10 - val_loss: 0.1424 - val_accuracy: 0.8507 - val_mse: 0.1424\n",
      "Epoch 82/100\n",
      "63/63 [==============================] - 1s 15ms/step - loss: 1.4959e-10 - accuracy: 1.0000 - mse: 1.4959e-10 - val_loss: 0.1424 - val_accuracy: 0.8506 - val_mse: 0.1424\n",
      "Epoch 83/100\n",
      "63/63 [==============================] - 1s 15ms/step - loss: 1.4763e-10 - accuracy: 1.0000 - mse: 1.4763e-10 - val_loss: 0.1424 - val_accuracy: 0.8506 - val_mse: 0.1424\n",
      "Epoch 84/100\n",
      "63/63 [==============================] - 1s 14ms/step - loss: 1.4618e-10 - accuracy: 1.0000 - mse: 1.4618e-10 - val_loss: 0.1424 - val_accuracy: 0.8506 - val_mse: 0.1424\n",
      "Epoch 85/100\n",
      "63/63 [==============================] - 1s 15ms/step - loss: 1.4430e-10 - accuracy: 1.0000 - mse: 1.4430e-10 - val_loss: 0.1424 - val_accuracy: 0.8506 - val_mse: 0.1424\n",
      "Epoch 86/100\n",
      "63/63 [==============================] - 1s 13ms/step - loss: 1.4220e-10 - accuracy: 1.0000 - mse: 1.4220e-10 - val_loss: 0.1424 - val_accuracy: 0.8507 - val_mse: 0.1424\n",
      "Epoch 87/100\n",
      "63/63 [==============================] - 1s 13ms/step - loss: 1.4060e-10 - accuracy: 1.0000 - mse: 1.4060e-10 - val_loss: 0.1424 - val_accuracy: 0.8506 - val_mse: 0.1424\n",
      "Epoch 88/100\n",
      " 1/63 [..............................] - ETA: 0s - loss: 1.4588e-10 - accuracy: 1.0000 - mse: 1.4588e-10"
     ]
    },
    {
     "ename": "KeyboardInterrupt",
     "evalue": "",
     "output_type": "error",
     "traceback": [
      "\u001b[1;31m---------------------------------------------------------------------------\u001b[0m",
      "\u001b[1;31mKeyboardInterrupt\u001b[0m                         Traceback (most recent call last)",
      "\u001b[1;32m~\\AppData\\Local\\Temp/ipykernel_3100/107925713.py\u001b[0m in \u001b[0;36m<module>\u001b[1;34m\u001b[0m\n\u001b[0;32m      1\u001b[0m \u001b[0mepochs\u001b[0m \u001b[1;33m=\u001b[0m \u001b[1;36m100\u001b[0m\u001b[1;33m\u001b[0m\u001b[1;33m\u001b[0m\u001b[0m\n\u001b[0;32m      2\u001b[0m \u001b[0mbatch_size\u001b[0m \u001b[1;33m=\u001b[0m \u001b[1;36m300\u001b[0m\u001b[1;33m\u001b[0m\u001b[1;33m\u001b[0m\u001b[0m\n\u001b[1;32m----> 3\u001b[1;33m model.fit(X_train,\n\u001b[0m\u001b[0;32m      4\u001b[0m           \u001b[0my_train\u001b[0m\u001b[1;33m,\u001b[0m\u001b[1;33m\u001b[0m\u001b[1;33m\u001b[0m\u001b[0m\n\u001b[0;32m      5\u001b[0m           \u001b[0mepochs\u001b[0m\u001b[1;33m=\u001b[0m\u001b[0mepochs\u001b[0m\u001b[1;33m,\u001b[0m\u001b[1;33m\u001b[0m\u001b[1;33m\u001b[0m\u001b[0m\n",
      "\u001b[1;32m~\\anaconda3\\lib\\site-packages\\keras\\utils\\traceback_utils.py\u001b[0m in \u001b[0;36merror_handler\u001b[1;34m(*args, **kwargs)\u001b[0m\n\u001b[0;32m     62\u001b[0m     \u001b[0mfiltered_tb\u001b[0m \u001b[1;33m=\u001b[0m \u001b[1;32mNone\u001b[0m\u001b[1;33m\u001b[0m\u001b[1;33m\u001b[0m\u001b[0m\n\u001b[0;32m     63\u001b[0m     \u001b[1;32mtry\u001b[0m\u001b[1;33m:\u001b[0m\u001b[1;33m\u001b[0m\u001b[1;33m\u001b[0m\u001b[0m\n\u001b[1;32m---> 64\u001b[1;33m       \u001b[1;32mreturn\u001b[0m \u001b[0mfn\u001b[0m\u001b[1;33m(\u001b[0m\u001b[1;33m*\u001b[0m\u001b[0margs\u001b[0m\u001b[1;33m,\u001b[0m \u001b[1;33m**\u001b[0m\u001b[0mkwargs\u001b[0m\u001b[1;33m)\u001b[0m\u001b[1;33m\u001b[0m\u001b[1;33m\u001b[0m\u001b[0m\n\u001b[0m\u001b[0;32m     65\u001b[0m     \u001b[1;32mexcept\u001b[0m \u001b[0mException\u001b[0m \u001b[1;32mas\u001b[0m \u001b[0me\u001b[0m\u001b[1;33m:\u001b[0m  \u001b[1;31m# pylint: disable=broad-except\u001b[0m\u001b[1;33m\u001b[0m\u001b[1;33m\u001b[0m\u001b[0m\n\u001b[0;32m     66\u001b[0m       \u001b[0mfiltered_tb\u001b[0m \u001b[1;33m=\u001b[0m \u001b[0m_process_traceback_frames\u001b[0m\u001b[1;33m(\u001b[0m\u001b[0me\u001b[0m\u001b[1;33m.\u001b[0m\u001b[0m__traceback__\u001b[0m\u001b[1;33m)\u001b[0m\u001b[1;33m\u001b[0m\u001b[1;33m\u001b[0m\u001b[0m\n",
      "\u001b[1;32m~\\anaconda3\\lib\\site-packages\\keras\\engine\\training.py\u001b[0m in \u001b[0;36mfit\u001b[1;34m(self, x, y, batch_size, epochs, verbose, callbacks, validation_split, validation_data, shuffle, class_weight, sample_weight, initial_epoch, steps_per_epoch, validation_steps, validation_batch_size, validation_freq, max_queue_size, workers, use_multiprocessing)\u001b[0m\n\u001b[0;32m   1382\u001b[0m                 _r=1):\n\u001b[0;32m   1383\u001b[0m               \u001b[0mcallbacks\u001b[0m\u001b[1;33m.\u001b[0m\u001b[0mon_train_batch_begin\u001b[0m\u001b[1;33m(\u001b[0m\u001b[0mstep\u001b[0m\u001b[1;33m)\u001b[0m\u001b[1;33m\u001b[0m\u001b[1;33m\u001b[0m\u001b[0m\n\u001b[1;32m-> 1384\u001b[1;33m               \u001b[0mtmp_logs\u001b[0m \u001b[1;33m=\u001b[0m \u001b[0mself\u001b[0m\u001b[1;33m.\u001b[0m\u001b[0mtrain_function\u001b[0m\u001b[1;33m(\u001b[0m\u001b[0miterator\u001b[0m\u001b[1;33m)\u001b[0m\u001b[1;33m\u001b[0m\u001b[1;33m\u001b[0m\u001b[0m\n\u001b[0m\u001b[0;32m   1385\u001b[0m               \u001b[1;32mif\u001b[0m \u001b[0mdata_handler\u001b[0m\u001b[1;33m.\u001b[0m\u001b[0mshould_sync\u001b[0m\u001b[1;33m:\u001b[0m\u001b[1;33m\u001b[0m\u001b[1;33m\u001b[0m\u001b[0m\n\u001b[0;32m   1386\u001b[0m                 \u001b[0mcontext\u001b[0m\u001b[1;33m.\u001b[0m\u001b[0masync_wait\u001b[0m\u001b[1;33m(\u001b[0m\u001b[1;33m)\u001b[0m\u001b[1;33m\u001b[0m\u001b[1;33m\u001b[0m\u001b[0m\n",
      "\u001b[1;32m~\\anaconda3\\lib\\site-packages\\tensorflow\\python\\util\\traceback_utils.py\u001b[0m in \u001b[0;36merror_handler\u001b[1;34m(*args, **kwargs)\u001b[0m\n\u001b[0;32m    148\u001b[0m     \u001b[0mfiltered_tb\u001b[0m \u001b[1;33m=\u001b[0m \u001b[1;32mNone\u001b[0m\u001b[1;33m\u001b[0m\u001b[1;33m\u001b[0m\u001b[0m\n\u001b[0;32m    149\u001b[0m     \u001b[1;32mtry\u001b[0m\u001b[1;33m:\u001b[0m\u001b[1;33m\u001b[0m\u001b[1;33m\u001b[0m\u001b[0m\n\u001b[1;32m--> 150\u001b[1;33m       \u001b[1;32mreturn\u001b[0m \u001b[0mfn\u001b[0m\u001b[1;33m(\u001b[0m\u001b[1;33m*\u001b[0m\u001b[0margs\u001b[0m\u001b[1;33m,\u001b[0m \u001b[1;33m**\u001b[0m\u001b[0mkwargs\u001b[0m\u001b[1;33m)\u001b[0m\u001b[1;33m\u001b[0m\u001b[1;33m\u001b[0m\u001b[0m\n\u001b[0m\u001b[0;32m    151\u001b[0m     \u001b[1;32mexcept\u001b[0m \u001b[0mException\u001b[0m \u001b[1;32mas\u001b[0m \u001b[0me\u001b[0m\u001b[1;33m:\u001b[0m\u001b[1;33m\u001b[0m\u001b[1;33m\u001b[0m\u001b[0m\n\u001b[0;32m    152\u001b[0m       \u001b[0mfiltered_tb\u001b[0m \u001b[1;33m=\u001b[0m \u001b[0m_process_traceback_frames\u001b[0m\u001b[1;33m(\u001b[0m\u001b[0me\u001b[0m\u001b[1;33m.\u001b[0m\u001b[0m__traceback__\u001b[0m\u001b[1;33m)\u001b[0m\u001b[1;33m\u001b[0m\u001b[1;33m\u001b[0m\u001b[0m\n",
      "\u001b[1;32m~\\anaconda3\\lib\\site-packages\\tensorflow\\python\\eager\\def_function.py\u001b[0m in \u001b[0;36m__call__\u001b[1;34m(self, *args, **kwds)\u001b[0m\n\u001b[0;32m    913\u001b[0m \u001b[1;33m\u001b[0m\u001b[0m\n\u001b[0;32m    914\u001b[0m       \u001b[1;32mwith\u001b[0m \u001b[0mOptionalXlaContext\u001b[0m\u001b[1;33m(\u001b[0m\u001b[0mself\u001b[0m\u001b[1;33m.\u001b[0m\u001b[0m_jit_compile\u001b[0m\u001b[1;33m)\u001b[0m\u001b[1;33m:\u001b[0m\u001b[1;33m\u001b[0m\u001b[1;33m\u001b[0m\u001b[0m\n\u001b[1;32m--> 915\u001b[1;33m         \u001b[0mresult\u001b[0m \u001b[1;33m=\u001b[0m \u001b[0mself\u001b[0m\u001b[1;33m.\u001b[0m\u001b[0m_call\u001b[0m\u001b[1;33m(\u001b[0m\u001b[1;33m*\u001b[0m\u001b[0margs\u001b[0m\u001b[1;33m,\u001b[0m \u001b[1;33m**\u001b[0m\u001b[0mkwds\u001b[0m\u001b[1;33m)\u001b[0m\u001b[1;33m\u001b[0m\u001b[1;33m\u001b[0m\u001b[0m\n\u001b[0m\u001b[0;32m    916\u001b[0m \u001b[1;33m\u001b[0m\u001b[0m\n\u001b[0;32m    917\u001b[0m       \u001b[0mnew_tracing_count\u001b[0m \u001b[1;33m=\u001b[0m \u001b[0mself\u001b[0m\u001b[1;33m.\u001b[0m\u001b[0mexperimental_get_tracing_count\u001b[0m\u001b[1;33m(\u001b[0m\u001b[1;33m)\u001b[0m\u001b[1;33m\u001b[0m\u001b[1;33m\u001b[0m\u001b[0m\n",
      "\u001b[1;32m~\\anaconda3\\lib\\site-packages\\tensorflow\\python\\eager\\def_function.py\u001b[0m in \u001b[0;36m_call\u001b[1;34m(self, *args, **kwds)\u001b[0m\n\u001b[0;32m    945\u001b[0m       \u001b[1;31m# In this case we have created variables on the first call, so we run the\u001b[0m\u001b[1;33m\u001b[0m\u001b[1;33m\u001b[0m\u001b[0m\n\u001b[0;32m    946\u001b[0m       \u001b[1;31m# defunned version which is guaranteed to never create variables.\u001b[0m\u001b[1;33m\u001b[0m\u001b[1;33m\u001b[0m\u001b[0m\n\u001b[1;32m--> 947\u001b[1;33m       \u001b[1;32mreturn\u001b[0m \u001b[0mself\u001b[0m\u001b[1;33m.\u001b[0m\u001b[0m_stateless_fn\u001b[0m\u001b[1;33m(\u001b[0m\u001b[1;33m*\u001b[0m\u001b[0margs\u001b[0m\u001b[1;33m,\u001b[0m \u001b[1;33m**\u001b[0m\u001b[0mkwds\u001b[0m\u001b[1;33m)\u001b[0m  \u001b[1;31m# pylint: disable=not-callable\u001b[0m\u001b[1;33m\u001b[0m\u001b[1;33m\u001b[0m\u001b[0m\n\u001b[0m\u001b[0;32m    948\u001b[0m     \u001b[1;32melif\u001b[0m \u001b[0mself\u001b[0m\u001b[1;33m.\u001b[0m\u001b[0m_stateful_fn\u001b[0m \u001b[1;32mis\u001b[0m \u001b[1;32mnot\u001b[0m \u001b[1;32mNone\u001b[0m\u001b[1;33m:\u001b[0m\u001b[1;33m\u001b[0m\u001b[1;33m\u001b[0m\u001b[0m\n\u001b[0;32m    949\u001b[0m       \u001b[1;31m# Release the lock early so that multiple threads can perform the call\u001b[0m\u001b[1;33m\u001b[0m\u001b[1;33m\u001b[0m\u001b[0m\n",
      "\u001b[1;32m~\\anaconda3\\lib\\site-packages\\tensorflow\\python\\eager\\function.py\u001b[0m in \u001b[0;36m__call__\u001b[1;34m(self, *args, **kwargs)\u001b[0m\n\u001b[0;32m   2954\u001b[0m       (graph_function,\n\u001b[0;32m   2955\u001b[0m        filtered_flat_args) = self._maybe_define_function(args, kwargs)\n\u001b[1;32m-> 2956\u001b[1;33m     return graph_function._call_flat(\n\u001b[0m\u001b[0;32m   2957\u001b[0m         filtered_flat_args, captured_inputs=graph_function.captured_inputs)  # pylint: disable=protected-access\n\u001b[0;32m   2958\u001b[0m \u001b[1;33m\u001b[0m\u001b[0m\n",
      "\u001b[1;32m~\\anaconda3\\lib\\site-packages\\tensorflow\\python\\eager\\function.py\u001b[0m in \u001b[0;36m_call_flat\u001b[1;34m(self, args, captured_inputs, cancellation_manager)\u001b[0m\n\u001b[0;32m   1851\u001b[0m         and executing_eagerly):\n\u001b[0;32m   1852\u001b[0m       \u001b[1;31m# No tape is watching; skip to running the function.\u001b[0m\u001b[1;33m\u001b[0m\u001b[1;33m\u001b[0m\u001b[0m\n\u001b[1;32m-> 1853\u001b[1;33m       return self._build_call_outputs(self._inference_function.call(\n\u001b[0m\u001b[0;32m   1854\u001b[0m           ctx, args, cancellation_manager=cancellation_manager))\n\u001b[0;32m   1855\u001b[0m     forward_backward = self._select_forward_and_backward_functions(\n",
      "\u001b[1;32m~\\anaconda3\\lib\\site-packages\\tensorflow\\python\\eager\\function.py\u001b[0m in \u001b[0;36mcall\u001b[1;34m(self, ctx, args, cancellation_manager)\u001b[0m\n\u001b[0;32m    497\u001b[0m       \u001b[1;32mwith\u001b[0m \u001b[0m_InterpolateFunctionError\u001b[0m\u001b[1;33m(\u001b[0m\u001b[0mself\u001b[0m\u001b[1;33m)\u001b[0m\u001b[1;33m:\u001b[0m\u001b[1;33m\u001b[0m\u001b[1;33m\u001b[0m\u001b[0m\n\u001b[0;32m    498\u001b[0m         \u001b[1;32mif\u001b[0m \u001b[0mcancellation_manager\u001b[0m \u001b[1;32mis\u001b[0m \u001b[1;32mNone\u001b[0m\u001b[1;33m:\u001b[0m\u001b[1;33m\u001b[0m\u001b[1;33m\u001b[0m\u001b[0m\n\u001b[1;32m--> 499\u001b[1;33m           outputs = execute.execute(\n\u001b[0m\u001b[0;32m    500\u001b[0m               \u001b[0mstr\u001b[0m\u001b[1;33m(\u001b[0m\u001b[0mself\u001b[0m\u001b[1;33m.\u001b[0m\u001b[0msignature\u001b[0m\u001b[1;33m.\u001b[0m\u001b[0mname\u001b[0m\u001b[1;33m)\u001b[0m\u001b[1;33m,\u001b[0m\u001b[1;33m\u001b[0m\u001b[1;33m\u001b[0m\u001b[0m\n\u001b[0;32m    501\u001b[0m               \u001b[0mnum_outputs\u001b[0m\u001b[1;33m=\u001b[0m\u001b[0mself\u001b[0m\u001b[1;33m.\u001b[0m\u001b[0m_num_outputs\u001b[0m\u001b[1;33m,\u001b[0m\u001b[1;33m\u001b[0m\u001b[1;33m\u001b[0m\u001b[0m\n",
      "\u001b[1;32m~\\anaconda3\\lib\\site-packages\\tensorflow\\python\\eager\\execute.py\u001b[0m in \u001b[0;36mquick_execute\u001b[1;34m(op_name, num_outputs, inputs, attrs, ctx, name)\u001b[0m\n\u001b[0;32m     52\u001b[0m   \u001b[1;32mtry\u001b[0m\u001b[1;33m:\u001b[0m\u001b[1;33m\u001b[0m\u001b[1;33m\u001b[0m\u001b[0m\n\u001b[0;32m     53\u001b[0m     \u001b[0mctx\u001b[0m\u001b[1;33m.\u001b[0m\u001b[0mensure_initialized\u001b[0m\u001b[1;33m(\u001b[0m\u001b[1;33m)\u001b[0m\u001b[1;33m\u001b[0m\u001b[1;33m\u001b[0m\u001b[0m\n\u001b[1;32m---> 54\u001b[1;33m     tensors = pywrap_tfe.TFE_Py_Execute(ctx._handle, device_name, op_name,\n\u001b[0m\u001b[0;32m     55\u001b[0m                                         inputs, attrs, num_outputs)\n\u001b[0;32m     56\u001b[0m   \u001b[1;32mexcept\u001b[0m \u001b[0mcore\u001b[0m\u001b[1;33m.\u001b[0m\u001b[0m_NotOkStatusException\u001b[0m \u001b[1;32mas\u001b[0m \u001b[0me\u001b[0m\u001b[1;33m:\u001b[0m\u001b[1;33m\u001b[0m\u001b[1;33m\u001b[0m\u001b[0m\n",
      "\u001b[1;31mKeyboardInterrupt\u001b[0m: "
     ]
    }
   ],
   "source": [
    "epochs = 100\n",
    "batch_size = 300\n",
    "model.fit(X_train,\n",
    "          y_train,\n",
    "          epochs=epochs,\n",
    "          batch_size=batch_size,\n",
    "          validation_data=(X_val,y_val))"
   ]
  },
  {
   "cell_type": "code",
   "execution_count": 58,
   "id": "2d57324f-31f0-49e8-89da-0187465cae62",
   "metadata": {},
   "outputs": [],
   "source": [
    "import matplotlib.pyplot as plt"
   ]
  },
  {
   "cell_type": "code",
   "execution_count": 62,
   "id": "c2382a07-506c-4f26-ad0c-de9171375f48",
   "metadata": {},
   "outputs": [
    {
     "data": {
      "text/plain": [
       "dict_keys(['loss', 'accuracy', 'val_loss', 'val_accuracy'])"
      ]
     },
     "execution_count": 62,
     "metadata": {},
     "output_type": "execute_result"
    }
   ],
   "source": [
    "model.history.history.keys()"
   ]
  },
  {
   "cell_type": "code",
   "execution_count": 78,
   "id": "3ba6ae61-aab1-4fc6-b80f-f5eaf5978a94",
   "metadata": {
    "collapsed": true,
    "jupyter": {
     "outputs_hidden": true
    },
    "tags": []
   },
   "outputs": [
    {
     "data": {
      "text/plain": [
       "[<matplotlib.lines.Line2D at 0x1cbb1b910a0>]"
      ]
     },
     "execution_count": 78,
     "metadata": {},
     "output_type": "execute_result"
    },
    {
     "name": "stderr",
     "output_type": "stream",
     "text": [
      "C:\\Users\\user\\anaconda3\\lib\\site-packages\\matplotlib\\backends\\backend_agg.py:240: RuntimeWarning: Glyph 8722 missing from current font.\n",
      "  font.set_text(s, 0.0, flags=flags)\n",
      "C:\\Users\\user\\anaconda3\\lib\\site-packages\\matplotlib\\backends\\backend_agg.py:203: RuntimeWarning: Glyph 8722 missing from current font.\n",
      "  font.set_text(s, 0, flags=flags)\n"
     ]
    },
    {
     "data": {
      "image/png": "[encoded data removed]",
      "text/plain": [
       "<Figure size 432x288 with 1 Axes>"
      ]
     },
     "metadata": {
      "needs_background": "light"
     },
     "output_type": "display_data"
    }
   ],
   "source": [
    "plt.plot(model.history.history['loss'])"
   ]
  },
  {
   "cell_type": "code",
   "execution_count": 92,
   "id": "0a84d5de-e10b-4da3-b46a-17c1f118ebe5",
   "metadata": {},
   "outputs": [],
   "source": [
    "from keras.datasets import reuters"
   ]
  },
  {
   "cell_type": "code",
   "execution_count": 93,
   "id": "8ff25f48-ae24-47e9-bc37-7653e6643b95",
   "metadata": {},
   "outputs": [],
   "source": [
    "(X_train, y_train), (X_test, y_test) = reuters.load_data()"
   ]
  },
  {
   "cell_type": "code",
   "execution_count": 94,
   "id": "8890be77-61c0-4050-8b40-eed2fe4c25c8",
   "metadata": {},
   "outputs": [
    {
     "data": {
      "text/plain": [
       "((8982,), (2246,), (8982,), (2246,))"
      ]
     },
     "execution_count": 94,
     "metadata": {},
     "output_type": "execute_result"
    }
   ],
   "source": [
    "X_train.shape, X_test.shape, y_train.shape, y_test.shape"
   ]
  },
  {
   "cell_type": "code",
   "execution_count": 97,
   "id": "a77bff56-7e7d-4322-80a1-d9549e0e6542",
   "metadata": {
    "collapsed": true,
    "jupyter": {
     "outputs_hidden": true
    },
    "tags": []
   },
   "outputs": [
    {
     "ename": "IndexError",
     "evalue": "index 27595 is out of bounds for axis 1 with size 10000",
     "output_type": "error",
     "traceback": [
      "\u001b[1;31m---------------------------------------------------------------------------\u001b[0m",
      "\u001b[1;31mIndexError\u001b[0m                                Traceback (most recent call last)",
      "\u001b[1;32m~\\AppData\\Local\\Temp/ipykernel_3100/2617814373.py\u001b[0m in \u001b[0;36m<module>\u001b[1;34m\u001b[0m\n\u001b[1;32m----> 1\u001b[1;33m \u001b[0mX_train\u001b[0m \u001b[1;33m=\u001b[0m \u001b[0mvectorize_sequences\u001b[0m\u001b[1;33m(\u001b[0m\u001b[0mX_train\u001b[0m\u001b[1;33m)\u001b[0m\u001b[1;33m\u001b[0m\u001b[1;33m\u001b[0m\u001b[0m\n\u001b[0m\u001b[0;32m      2\u001b[0m \u001b[0mX_test\u001b[0m \u001b[1;33m=\u001b[0m \u001b[0mvectorize_sequences\u001b[0m\u001b[1;33m(\u001b[0m\u001b[0mX_test\u001b[0m\u001b[1;33m)\u001b[0m\u001b[1;33m\u001b[0m\u001b[1;33m\u001b[0m\u001b[0m\n",
      "\u001b[1;32m~\\AppData\\Local\\Temp/ipykernel_3100/803790893.py\u001b[0m in \u001b[0;36mvectorize_sequences\u001b[1;34m(sequences, dimension)\u001b[0m\n\u001b[0;32m      3\u001b[0m     \u001b[0mresults\u001b[0m \u001b[1;33m=\u001b[0m \u001b[0mnp\u001b[0m\u001b[1;33m.\u001b[0m\u001b[0mzeros\u001b[0m\u001b[1;33m(\u001b[0m\u001b[1;33m(\u001b[0m\u001b[0mlen\u001b[0m\u001b[1;33m(\u001b[0m\u001b[0msequences\u001b[0m\u001b[1;33m)\u001b[0m\u001b[1;33m,\u001b[0m \u001b[0mdimension\u001b[0m\u001b[1;33m)\u001b[0m\u001b[1;33m)\u001b[0m\u001b[1;33m\u001b[0m\u001b[1;33m\u001b[0m\u001b[0m\n\u001b[0;32m      4\u001b[0m     \u001b[1;32mfor\u001b[0m \u001b[0mi\u001b[0m\u001b[1;33m,\u001b[0m \u001b[0msequence\u001b[0m \u001b[1;32min\u001b[0m \u001b[0menumerate\u001b[0m\u001b[1;33m(\u001b[0m\u001b[0msequences\u001b[0m\u001b[1;33m)\u001b[0m\u001b[1;33m:\u001b[0m\u001b[1;33m\u001b[0m\u001b[1;33m\u001b[0m\u001b[0m\n\u001b[1;32m----> 5\u001b[1;33m         \u001b[0mresults\u001b[0m\u001b[1;33m[\u001b[0m\u001b[0mi\u001b[0m\u001b[1;33m,\u001b[0m \u001b[0msequence\u001b[0m\u001b[1;33m]\u001b[0m \u001b[1;33m=\u001b[0m \u001b[1;36m1.\u001b[0m  \u001b[1;31m# results[i]에서 특정 인덱스의 위치를 1로 만듭니다\u001b[0m\u001b[1;33m\u001b[0m\u001b[1;33m\u001b[0m\u001b[0m\n\u001b[0m\u001b[0;32m      6\u001b[0m     \u001b[1;32mreturn\u001b[0m \u001b[0mresults\u001b[0m\u001b[1;33m\u001b[0m\u001b[1;33m\u001b[0m\u001b[0m\n",
      "\u001b[1;31mIndexError\u001b[0m: index 27595 is out of bounds for axis 1 with size 10000"
     ]
    }
   ],
   "source": [
    "X_train = vectorize_sequences(X_train)\n",
    "X_test = vectorize_sequences(X_test)"
   ]
  },
  {
   "cell_type": "code",
   "execution_count": null,
   "id": "ced401b8-19b3-4bed-aa64-ff1dd59f5d34",
   "metadata": {},
   "outputs": [],
   "source": []
  }
 ],
 "metadata": {
  "kernelspec": {
   "display_name": "Python 3 (ipykernel)",
   "language": "python",
   "name": "python3"
  },
  "language_info": {
   "codemirror_mode": {
    "name": "ipython",
    "version": 3
   },
   "file_extension": ".py",
   "mimetype": "text/x-python",
   "name": "python",
   "nbconvert_exporter": "python",
   "pygments_lexer": "ipython3",
   "version": "3.9.7"
  }
 },
 "nbformat": 4,
 "nbformat_minor": 5
}
