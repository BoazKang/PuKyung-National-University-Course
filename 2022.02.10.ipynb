{
 "cells": [
  {
   "cell_type": "code",
   "execution_count": 3,
   "id": "bdf642e0-9b57-4da4-b1dc-f89da4d9ab9b",
   "metadata": {},
   "outputs": [],
   "source": [
    "import random"
   ]
  },
  {
   "cell_type": "code",
   "execution_count": 4,
   "id": "6f7582a2-46ab-42a5-aa23-eaab9a3e5dcb",
   "metadata": {},
   "outputs": [],
   "source": [
    "def create_student(name,korean,math,english,science):\n",
    "    return {\n",
    "        \"name\": name,\n",
    "        \"korean\": korean,\n",
    "        \"math\": math,\n",
    "        \"english\": english,\n",
    "        \"science\": science\n",
    "    }"
   ]
  },
  {
   "cell_type": "code",
   "execution_count": 6,
   "id": "83dad6b6-19b9-43b1-96f0-b1ef38a0a452",
   "metadata": {},
   "outputs": [],
   "source": [
    "names = '가나다라마바사아자차카타파하'\n",
    "name = []\n",
    "korean = []\n",
    "math = []\n",
    "english = []\n",
    "science = []\n",
    "\n",
    "for i in range(10):\n",
    "    name.append(random.choice(names)+random.choice(names))\n",
    "    korean.append(random.randrange(80,100))\n",
    "    math.append(random.randrange(80,100))\n",
    "    english.append(random.randrange(80,100))\n",
    "    science.append(random.randrange(80,100))\n",
    "student = create_student(name, korean, math, english, science)"
   ]
  },
  {
   "cell_type": "code",
   "execution_count": 7,
   "id": "ad0558d2-0c3e-4adf-b897-4b35124041a9",
   "metadata": {},
   "outputs": [
    {
     "data": {
      "text/plain": [
       "{'name': ['사가', '파사', '다가', '파라', '자카', '타타', '사나', '파다', '타라', '파가'],\n",
       " 'korean': [98, 97, 82, 99, 91, 85, 98, 82, 95, 91],\n",
       " 'math': [88, 94, 96, 90, 82, 88, 98, 85, 84, 98],\n",
       " 'english': [93, 83, 85, 91, 99, 93, 95, 86, 97, 98],\n",
       " 'science': [97, 93, 87, 90, 93, 97, 98, 88, 85, 92]}"
      ]
     },
     "execution_count": 7,
     "metadata": {},
     "output_type": "execute_result"
    }
   ],
   "source": [
    "for total in "
   ]
  },
  {
   "cell_type": "code",
   "execution_count": 8,
   "id": "3a186466-07be-4b99-8a46-b55742432bfe",
   "metadata": {},
   "outputs": [],
   "source": [
    "def add(x,y):\n",
    "    return x+y"
   ]
  },
  {
   "cell_type": "code",
   "execution_count": 10,
   "id": "4c961095-d737-465f-aeca-04e3dd4bf28c",
   "metadata": {},
   "outputs": [
    {
     "name": "stdout",
     "output_type": "stream",
     "text": [
      "10\n"
     ]
    }
   ],
   "source": [
    "a = list(range(10))\n",
    "b = list(range(10,20))\n",
    "print(a[0] + b[0])"
   ]
  },
  {
   "cell_type": "code",
   "execution_count": 13,
   "id": "4fa46094-3b24-4179-89c9-b614113804c3",
   "metadata": {},
   "outputs": [
    {
     "name": "stdout",
     "output_type": "stream",
     "text": [
      "10\n",
      "12\n",
      "14\n",
      "16\n",
      "18\n",
      "20\n",
      "22\n",
      "24\n",
      "26\n",
      "28\n"
     ]
    }
   ],
   "source": [
    "for i in range(10):\n",
    "    print(add(a[i],b[i]))"
   ]
  },
  {
   "cell_type": "code",
   "execution_count": 14,
   "id": "40347b1a-cc3d-4cfe-89da-29b2fffef89d",
   "metadata": {},
   "outputs": [],
   "source": [
    "class Class:\n",
    "    pass"
   ]
  },
  {
   "cell_type": "code",
   "execution_count": 15,
   "id": "30d29a8d-e5f2-4555-8e68-c4febc12734a",
   "metadata": {},
   "outputs": [],
   "source": [
    "new_class = Class()"
   ]
  },
  {
   "cell_type": "code",
   "execution_count": 40,
   "id": "da3ad625-04eb-4d31-a194-88fef9ae188b",
   "metadata": {},
   "outputs": [],
   "source": [
    "## 사칙연산을 수행하는 클래스\n",
    "class Calculator:\n",
    "    def __init__(self,x,y):\n",
    "        self.x = x\n",
    "        self.y = y\n",
    "        \n",
    "    def show(self):\n",
    "        print(self.x)\n",
    "        print(self.y)\n",
    "\n",
    "    def add(self, t):\n",
    "        return self.x + self.y + t\n",
    "    \n",
    "    def sub(self):\n",
    "        return self.x - self.y\n",
    "    \n",
    "    def mul(self):\n",
    "        return self.x * self.y\n",
    "    \n",
    "    def by(self):\n",
    "        return self.x / self.y"
   ]
  },
  {
   "cell_type": "code",
   "execution_count": 41,
   "id": "ab318239-c904-4507-a0bf-cd9a77854686",
   "metadata": {},
   "outputs": [],
   "source": [
    "a = Calculator(11,7)"
   ]
  },
  {
   "cell_type": "code",
   "execution_count": 42,
   "id": "9cc9cddc-3660-48bc-b186-1ec2fb0f02f6",
   "metadata": {},
   "outputs": [
    {
     "name": "stdout",
     "output_type": "stream",
     "text": [
      "11\n",
      "7\n"
     ]
    }
   ],
   "source": [
    "a.show()"
   ]
  },
  {
   "cell_type": "code",
   "execution_count": 44,
   "id": "14166204-1fd6-4bca-84ba-a28078e461eb",
   "metadata": {},
   "outputs": [
    {
     "data": {
      "text/plain": [
       "21"
      ]
     },
     "execution_count": 44,
     "metadata": {},
     "output_type": "execute_result"
    }
   ],
   "source": [
    "a.add(3)"
   ]
  },
  {
   "cell_type": "code",
   "execution_count": 37,
   "id": "4a0aa247-25d8-454f-aee3-102118aabef6",
   "metadata": {},
   "outputs": [
    {
     "data": {
      "text/plain": [
       "4"
      ]
     },
     "execution_count": 37,
     "metadata": {},
     "output_type": "execute_result"
    }
   ],
   "source": [
    "a.sub()"
   ]
  },
  {
   "cell_type": "code",
   "execution_count": 46,
   "id": "ee174fce-e074-4c2c-ac93-49993562cfd0",
   "metadata": {},
   "outputs": [],
   "source": [
    "import math"
   ]
  },
  {
   "cell_type": "code",
   "execution_count": 48,
   "id": "657d7fa7-27a3-42cd-aa31-037bb7a2f045",
   "metadata": {},
   "outputs": [],
   "source": [
    "class Logic:\n",
    "    \n",
    "    def __init__(self,x,y):\n",
    "        self.x = x\n",
    "        self.y = y\n",
    "    \n",
    "    def land(self):\n",
    "        return self.x and self.y\n",
    "    \n",
    "    def lor(self):\n",
    "        return self.x or self.y\n",
    "    \n",
    "    def nand(self):\n",
    "        return not (self.x and self.y)\n",
    "    \n",
    "    def xor(self):\n",
    "        if (self.x + self.y) == 1:\n",
    "            return True\n",
    "        else:\n",
    "            return False"
   ]
  },
  {
   "cell_type": "code",
   "execution_count": 49,
   "id": "63761539-576e-4b5b-9bd7-cd9a826bfac5",
   "metadata": {},
   "outputs": [],
   "source": [
    "a = Logic(True,True)"
   ]
  },
  {
   "cell_type": "code",
   "execution_count": 50,
   "id": "530b1ddd-2415-4910-a0b9-e6b1783c3ef5",
   "metadata": {},
   "outputs": [
    {
     "data": {
      "text/plain": [
       "True"
      ]
     },
     "execution_count": 50,
     "metadata": {},
     "output_type": "execute_result"
    }
   ],
   "source": [
    "a.x"
   ]
  },
  {
   "cell_type": "code",
   "execution_count": 52,
   "id": "38ee3ff8-719b-46e2-ab9d-134a914571bb",
   "metadata": {},
   "outputs": [
    {
     "data": {
      "text/plain": [
       "True"
      ]
     },
     "execution_count": 52,
     "metadata": {},
     "output_type": "execute_result"
    }
   ],
   "source": [
    "a.land()"
   ]
  },
  {
   "cell_type": "code",
   "execution_count": 53,
   "id": "a675822a-40c0-4e4d-bdde-48f269705595",
   "metadata": {},
   "outputs": [
    {
     "data": {
      "text/plain": [
       "True"
      ]
     },
     "execution_count": 53,
     "metadata": {},
     "output_type": "execute_result"
    }
   ],
   "source": [
    "a.lor()"
   ]
  },
  {
   "cell_type": "code",
   "execution_count": 55,
   "id": "b4b37920-59d0-4f33-b5bb-09443c8333d5",
   "metadata": {},
   "outputs": [
    {
     "data": {
      "text/plain": [
       "False"
      ]
     },
     "execution_count": 55,
     "metadata": {},
     "output_type": "execute_result"
    }
   ],
   "source": [
    "a.xor()"
   ]
  },
  {
   "cell_type": "code",
   "execution_count": 56,
   "id": "884c9933-3ab6-4165-8484-be49051250ef",
   "metadata": {},
   "outputs": [],
   "source": [
    "b = Logic(True, False)"
   ]
  },
  {
   "cell_type": "code",
   "execution_count": 60,
   "id": "b028e748-2cf5-4c39-882c-90a06c359c60",
   "metadata": {},
   "outputs": [
    {
     "data": {
      "text/plain": [
       "True"
      ]
     },
     "execution_count": 60,
     "metadata": {},
     "output_type": "execute_result"
    }
   ],
   "source": [
    "b.nand()"
   ]
  },
  {
   "cell_type": "code",
   "execution_count": 61,
   "id": "f584b385-6519-4a9c-bc09-b78a8e7236df",
   "metadata": {},
   "outputs": [
    {
     "data": {
      "text/plain": [
       "['__class__',\n",
       " '__delattr__',\n",
       " '__dict__',\n",
       " '__dir__',\n",
       " '__doc__',\n",
       " '__eq__',\n",
       " '__format__',\n",
       " '__ge__',\n",
       " '__getattribute__',\n",
       " '__gt__',\n",
       " '__hash__',\n",
       " '__init__',\n",
       " '__init_subclass__',\n",
       " '__le__',\n",
       " '__lt__',\n",
       " '__module__',\n",
       " '__ne__',\n",
       " '__new__',\n",
       " '__reduce__',\n",
       " '__reduce_ex__',\n",
       " '__repr__',\n",
       " '__setattr__',\n",
       " '__sizeof__',\n",
       " '__str__',\n",
       " '__subclasshook__',\n",
       " '__weakref__',\n",
       " 'land',\n",
       " 'lor',\n",
       " 'nand',\n",
       " 'x',\n",
       " 'xor',\n",
       " 'y']"
      ]
     },
     "execution_count": 61,
     "metadata": {},
     "output_type": "execute_result"
    }
   ],
   "source": [
    "dir(a)"
   ]
  },
  {
   "cell_type": "code",
   "execution_count": null,
   "id": "9c360173-c9db-4502-a999-b8d8fb0c72b4",
   "metadata": {},
   "outputs": [],
   "source": []
  }
 ],
 "metadata": {
  "kernelspec": {
   "display_name": "Python 3 (ipykernel)",
   "language": "python",
   "name": "python3"
  },
  "language_info": {
   "codemirror_mode": {
    "name": "ipython",
    "version": 3
   },
   "file_extension": ".py",
   "mimetype": "text/x-python",
   "name": "python",
   "nbconvert_exporter": "python",
   "pygments_lexer": "ipython3",
   "version": "3.9.7"
  }
 },
 "nbformat": 4,
 "nbformat_minor": 5
}
