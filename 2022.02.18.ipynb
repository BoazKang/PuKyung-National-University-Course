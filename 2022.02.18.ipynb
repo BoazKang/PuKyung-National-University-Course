{
 "cells": [
  {
   "cell_type": "code",
   "execution_count": 61,
   "id": "13c10211-3168-4b39-a79b-5e481a326943",
   "metadata": {},
   "outputs": [],
   "source": [
    "from sqlalchemy import create_engine, text\n",
    "import pymysql\n",
    "import pandas as pd\n",
    "import plotly.express as ex"
   ]
  },
  {
   "cell_type": "code",
   "execution_count": 93,
   "id": "db45f280-23e3-4c84-b5f0-e9adf2c3b1ce",
   "metadata": {},
   "outputs": [],
   "source": [
    "user = \"bigdata\"\n",
    "password = \"Bigdata123!!\"\n",
    "host = \"192.168.56.101\"\n",
    "port = \"3306\"\n",
    "db = \"SampleDB\"\n",
    "connect_script = f'mysql+pymysql://{user}:{password}@{host}:{port}/{db}'\n",
    "engine = create_engine(connect_script)"
   ]
  },
  {
   "cell_type": "code",
   "execution_count": 63,
   "id": "1eb5f653-e6e4-453d-a865-3e6d325dc2f6",
   "metadata": {},
   "outputs": [],
   "source": [
    "conn = engine.connect()"
   ]
  },
  {
   "cell_type": "code",
   "execution_count": 92,
   "id": "28d547a9-b6bf-48fa-a8f9-4383284c4df4",
   "metadata": {},
   "outputs": [
    {
     "data": {
      "text/html": [
       "<div>\n",
       "<style scoped>\n",
       "    .dataframe tbody tr th:only-of-type {\n",
       "        vertical-align: middle;\n",
       "    }\n",
       "\n",
       "    .dataframe tbody tr th {\n",
       "        vertical-align: top;\n",
       "    }\n",
       "\n",
       "    .dataframe thead th {\n",
       "        text-align: right;\n",
       "    }\n",
       "</style>\n",
       "<table border=\"1\" class=\"dataframe\">\n",
       "  <thead>\n",
       "    <tr style=\"text-align: right;\">\n",
       "      <th></th>\n",
       "      <th>학번</th>\n",
       "      <th>이름</th>\n",
       "      <th>점수</th>\n",
       "      <th>조이름</th>\n",
       "    </tr>\n",
       "  </thead>\n",
       "  <tbody>\n",
       "    <tr>\n",
       "      <th>0</th>\n",
       "      <td>201501001</td>\n",
       "      <td>김수현</td>\n",
       "      <td>90</td>\n",
       "      <td>T2015</td>\n",
       "    </tr>\n",
       "    <tr>\n",
       "      <th>1</th>\n",
       "      <td>201501002</td>\n",
       "      <td>송혜교</td>\n",
       "      <td>75</td>\n",
       "      <td>무한도전</td>\n",
       "    </tr>\n",
       "    <tr>\n",
       "      <th>2</th>\n",
       "      <td>201501003</td>\n",
       "      <td>하지원</td>\n",
       "      <td>77</td>\n",
       "      <td>학교짱</td>\n",
       "    </tr>\n",
       "    <tr>\n",
       "      <th>3</th>\n",
       "      <td>201501004</td>\n",
       "      <td>장근석</td>\n",
       "      <td>85</td>\n",
       "      <td>T2015</td>\n",
       "    </tr>\n",
       "    <tr>\n",
       "      <th>4</th>\n",
       "      <td>201501005</td>\n",
       "      <td>이종석</td>\n",
       "      <td>96</td>\n",
       "      <td>BIG</td>\n",
       "    </tr>\n",
       "    <tr>\n",
       "      <th>5</th>\n",
       "      <td>201501006</td>\n",
       "      <td>주원</td>\n",
       "      <td>80</td>\n",
       "      <td>베스트</td>\n",
       "    </tr>\n",
       "    <tr>\n",
       "      <th>6</th>\n",
       "      <td>201501007</td>\n",
       "      <td>박보영</td>\n",
       "      <td>95</td>\n",
       "      <td>BIG</td>\n",
       "    </tr>\n",
       "    <tr>\n",
       "      <th>7</th>\n",
       "      <td>201501008</td>\n",
       "      <td>한효주</td>\n",
       "      <td>90</td>\n",
       "      <td>학교짱</td>\n",
       "    </tr>\n",
       "    <tr>\n",
       "      <th>8</th>\n",
       "      <td>201501009</td>\n",
       "      <td>송중기</td>\n",
       "      <td>83</td>\n",
       "      <td>T2015</td>\n",
       "    </tr>\n",
       "    <tr>\n",
       "      <th>9</th>\n",
       "      <td>201501010</td>\n",
       "      <td>김우빈</td>\n",
       "      <td>88</td>\n",
       "      <td>베스트</td>\n",
       "    </tr>\n",
       "    <tr>\n",
       "      <th>10</th>\n",
       "      <td>201501011</td>\n",
       "      <td>이연희</td>\n",
       "      <td>75</td>\n",
       "      <td>학교짱</td>\n",
       "    </tr>\n",
       "    <tr>\n",
       "      <th>11</th>\n",
       "      <td>201501012</td>\n",
       "      <td>유승호</td>\n",
       "      <td>84</td>\n",
       "      <td>BIG</td>\n",
       "    </tr>\n",
       "    <tr>\n",
       "      <th>12</th>\n",
       "      <td>201501013</td>\n",
       "      <td>박신혜</td>\n",
       "      <td>89</td>\n",
       "      <td>무한도전</td>\n",
       "    </tr>\n",
       "    <tr>\n",
       "      <th>13</th>\n",
       "      <td>201501014</td>\n",
       "      <td>한지민</td>\n",
       "      <td>94</td>\n",
       "      <td>베스트</td>\n",
       "    </tr>\n",
       "    <tr>\n",
       "      <th>14</th>\n",
       "      <td>201501015</td>\n",
       "      <td>이승기</td>\n",
       "      <td>78</td>\n",
       "      <td>무한도전</td>\n",
       "    </tr>\n",
       "    <tr>\n",
       "      <th>15</th>\n",
       "      <td>201501016</td>\n",
       "      <td>홍길동</td>\n",
       "      <td>100</td>\n",
       "      <td>빅데이터</td>\n",
       "    </tr>\n",
       "    <tr>\n",
       "      <th>16</th>\n",
       "      <td>201501017</td>\n",
       "      <td>김태완</td>\n",
       "      <td>110</td>\n",
       "      <td>None</td>\n",
       "    </tr>\n",
       "  </tbody>\n",
       "</table>\n",
       "</div>"
      ],
      "text/plain": [
       "           학번   이름   점수    조이름\n",
       "0   201501001  김수현   90  T2015\n",
       "1   201501002  송혜교   75   무한도전\n",
       "2   201501003  하지원   77    학교짱\n",
       "3   201501004  장근석   85  T2015\n",
       "4   201501005  이종석   96    BIG\n",
       "5   201501006   주원   80    베스트\n",
       "6   201501007  박보영   95    BIG\n",
       "7   201501008  한효주   90    학교짱\n",
       "8   201501009  송중기   83  T2015\n",
       "9   201501010  김우빈   88    베스트\n",
       "10  201501011  이연희   75    학교짱\n",
       "11  201501012  유승호   84    BIG\n",
       "12  201501013  박신혜   89   무한도전\n",
       "13  201501014  한지민   94    베스트\n",
       "14  201501015  이승기   78   무한도전\n",
       "15  201501016  홍길동  100   빅데이터\n",
       "16  201501017  김태완  110   None"
      ]
     },
     "execution_count": 92,
     "metadata": {},
     "output_type": "execute_result"
    }
   ],
   "source": [
    "qry = \"\"\"\n",
    "select *\n",
    " from 학생평가\n",
    "\"\"\"\n",
    "pd.read_sql(qry,conn)"
   ]
  },
  {
   "cell_type": "code",
   "execution_count": 5,
   "id": "0964112f-815d-487c-aeb0-632a3b3dd196",
   "metadata": {},
   "outputs": [
    {
     "data": {
      "text/plain": [
       "<sqlalchemy.engine.cursor.LegacyCursorResult at 0x7f518f40d040>"
      ]
     },
     "execution_count": 5,
     "metadata": {},
     "output_type": "execute_result"
    }
   ],
   "source": [
    "stmt = \"\"\"\n",
    "insert into 학생평가(\n",
    "학번, \n",
    "이름, \n",
    "점수, \n",
    "조이름) \n",
    "values(\n",
    "201501016,\n",
    "'홍길동',\n",
    "100,\n",
    "'빅데이터'\n",
    ")\n",
    "\"\"\"\n",
    "conn.execute(text(stmt))"
   ]
  },
  {
   "cell_type": "code",
   "execution_count": 9,
   "id": "e2844286-d18a-4c22-a630-b09360b4ec74",
   "metadata": {},
   "outputs": [
    {
     "data": {
      "text/html": [
       "<div>\n",
       "<style scoped>\n",
       "    .dataframe tbody tr th:only-of-type {\n",
       "        vertical-align: middle;\n",
       "    }\n",
       "\n",
       "    .dataframe tbody tr th {\n",
       "        vertical-align: top;\n",
       "    }\n",
       "\n",
       "    .dataframe thead th {\n",
       "        text-align: right;\n",
       "    }\n",
       "</style>\n",
       "<table border=\"1\" class=\"dataframe\">\n",
       "  <thead>\n",
       "    <tr style=\"text-align: right;\">\n",
       "      <th></th>\n",
       "      <th>학번</th>\n",
       "      <th>이름</th>\n",
       "      <th>점수</th>\n",
       "      <th>조이름</th>\n",
       "    </tr>\n",
       "  </thead>\n",
       "  <tbody>\n",
       "    <tr>\n",
       "      <th>0</th>\n",
       "      <td>201501016</td>\n",
       "      <td>홍길동</td>\n",
       "      <td>100</td>\n",
       "      <td>빅데이터</td>\n",
       "    </tr>\n",
       "  </tbody>\n",
       "</table>\n",
       "</div>"
      ],
      "text/plain": [
       "          학번   이름   점수   조이름\n",
       "0  201501016  홍길동  100  빅데이터"
      ]
     },
     "execution_count": 9,
     "metadata": {},
     "output_type": "execute_result"
    }
   ],
   "source": [
    "qry = \"\"\"\n",
    "select a.*\n",
    " from 학생평가 a, (select max(점수) as 점수 from 학생평가) b\n",
    "where a.점수 = b.점수\n",
    "\"\"\"\n",
    "pd.read_sql(qry, conn)"
   ]
  },
  {
   "cell_type": "code",
   "execution_count": 13,
   "id": "5618e44d-d52a-4d50-9c05-70afd97245ff",
   "metadata": {},
   "outputs": [],
   "source": [
    "df = ex.data.gapminder()"
   ]
  },
  {
   "cell_type": "code",
   "execution_count": 15,
   "id": "29438187-fe7f-45f7-a511-6d773cdc8fe0",
   "metadata": {},
   "outputs": [
    {
     "data": {
      "text/plain": [
       "country       object\n",
       "continent     object\n",
       "year           int64\n",
       "lifeExp      float64\n",
       "pop            int64\n",
       "gdpPercap    float64\n",
       "iso_alpha     object\n",
       "iso_num        int64\n",
       "dtype: object"
      ]
     },
     "execution_count": 15,
     "metadata": {},
     "output_type": "execute_result"
    }
   ],
   "source": [
    "df.dtypes"
   ]
  },
  {
   "cell_type": "code",
   "execution_count": 17,
   "id": "40466a03-0b7d-4809-ae09-96e1a883d3d2",
   "metadata": {},
   "outputs": [
    {
     "data": {
      "text/plain": [
       "<sqlalchemy.engine.cursor.LegacyCursorResult at 0x7f518ddf59d0>"
      ]
     },
     "execution_count": 17,
     "metadata": {},
     "output_type": "execute_result"
    }
   ],
   "source": [
    "stmt = \"\"\"\n",
    "create table world\n",
    "(country varchar(50),\n",
    " continent varchar(30),\n",
    " year int,\n",
    " pop int\n",
    ")\n",
    "\"\"\"\n",
    "conn.execute(text(stmt))"
   ]
  },
  {
   "cell_type": "code",
   "execution_count": 18,
   "id": "b6eaa2b2-49b8-4c57-a93c-deb8b0b22db9",
   "metadata": {},
   "outputs": [
    {
     "data": {
      "text/html": [
       "<div>\n",
       "<style scoped>\n",
       "    .dataframe tbody tr th:only-of-type {\n",
       "        vertical-align: middle;\n",
       "    }\n",
       "\n",
       "    .dataframe tbody tr th {\n",
       "        vertical-align: top;\n",
       "    }\n",
       "\n",
       "    .dataframe thead th {\n",
       "        text-align: right;\n",
       "    }\n",
       "</style>\n",
       "<table border=\"1\" class=\"dataframe\">\n",
       "  <thead>\n",
       "    <tr style=\"text-align: right;\">\n",
       "      <th></th>\n",
       "      <th>country</th>\n",
       "      <th>continent</th>\n",
       "      <th>year</th>\n",
       "      <th>pop</th>\n",
       "    </tr>\n",
       "  </thead>\n",
       "  <tbody>\n",
       "  </tbody>\n",
       "</table>\n",
       "</div>"
      ],
      "text/plain": [
       "Empty DataFrame\n",
       "Columns: [country, continent, year, pop]\n",
       "Index: []"
      ]
     },
     "execution_count": 18,
     "metadata": {},
     "output_type": "execute_result"
    }
   ],
   "source": [
    "pd.read_sql(\"select * from world\", conn)"
   ]
  },
  {
   "cell_type": "code",
   "execution_count": 25,
   "id": "9d93353d-9272-4137-9419-79aa76b5efc3",
   "metadata": {},
   "outputs": [
    {
     "name": "stderr",
     "output_type": "stream",
     "text": [
      "/tmp/ipykernel_1855/821947718.py:1: FutureWarning: Using short name for 'orient' is deprecated. Only the options: ('dict', list, 'series', 'split', 'records', 'index') will be used in a future version. Use one of the above to silence this warning.\n",
      "  x = df.loc[[0],[\"country\",\"continent\",\"year\",\"pop\"]].to_dict('r')[0]\n"
     ]
    }
   ],
   "source": [
    "x = df.loc[[0],[\"country\",\"continent\",\"year\",\"pop\"]].to_dict('r')[0]"
   ]
  },
  {
   "cell_type": "code",
   "execution_count": 26,
   "id": "2dd04eb1-674b-4cdd-af3a-017d139d3ff4",
   "metadata": {},
   "outputs": [
    {
     "data": {
      "text/plain": [
       "{'country': 'Afghanistan', 'continent': 'Asia', 'year': 1952, 'pop': 8425333}"
      ]
     },
     "execution_count": 26,
     "metadata": {},
     "output_type": "execute_result"
    }
   ],
   "source": [
    "x"
   ]
  },
  {
   "cell_type": "code",
   "execution_count": 27,
   "id": "432e43a7-dfbd-4add-a3fd-0cad9626cc7a",
   "metadata": {},
   "outputs": [
    {
     "data": {
      "text/plain": [
       "<sqlalchemy.engine.cursor.LegacyCursorResult at 0x7f518ddf5790>"
      ]
     },
     "execution_count": 27,
     "metadata": {},
     "output_type": "execute_result"
    }
   ],
   "source": [
    "stmt = \"\"\"\n",
    "insert into world(\n",
    "country,\n",
    "continent,\n",
    "year,\n",
    "pop\n",
    ")\n",
    "values(\n",
    ":country,\n",
    ":continent,\n",
    ":year,\n",
    ":pop\n",
    ")\n",
    "\"\"\"\n",
    "conn.execute(text(stmt),**x)"
   ]
  },
  {
   "cell_type": "code",
   "execution_count": 28,
   "id": "8db217e2-0ad3-4db0-bf32-d48eec5fec94",
   "metadata": {},
   "outputs": [
    {
     "data": {
      "text/html": [
       "<div>\n",
       "<style scoped>\n",
       "    .dataframe tbody tr th:only-of-type {\n",
       "        vertical-align: middle;\n",
       "    }\n",
       "\n",
       "    .dataframe tbody tr th {\n",
       "        vertical-align: top;\n",
       "    }\n",
       "\n",
       "    .dataframe thead th {\n",
       "        text-align: right;\n",
       "    }\n",
       "</style>\n",
       "<table border=\"1\" class=\"dataframe\">\n",
       "  <thead>\n",
       "    <tr style=\"text-align: right;\">\n",
       "      <th></th>\n",
       "      <th>country</th>\n",
       "      <th>continent</th>\n",
       "      <th>year</th>\n",
       "      <th>pop</th>\n",
       "    </tr>\n",
       "  </thead>\n",
       "  <tbody>\n",
       "    <tr>\n",
       "      <th>0</th>\n",
       "      <td>Afghanistan</td>\n",
       "      <td>Asia</td>\n",
       "      <td>1952</td>\n",
       "      <td>8425333</td>\n",
       "    </tr>\n",
       "  </tbody>\n",
       "</table>\n",
       "</div>"
      ],
      "text/plain": [
       "       country continent  year      pop\n",
       "0  Afghanistan      Asia  1952  8425333"
      ]
     },
     "execution_count": 28,
     "metadata": {},
     "output_type": "execute_result"
    }
   ],
   "source": [
    "pd.read_sql(\"select * from world\", conn)"
   ]
  },
  {
   "cell_type": "code",
   "execution_count": 56,
   "id": "5c95278b-171d-4a19-b70b-27b21a6ff490",
   "metadata": {
    "tags": []
   },
   "outputs": [
    {
     "name": "stdin",
     "output_type": "stream",
     "text": [
      "이름 >>> 최영희\n",
      "점수 >>> 97\n"
     ]
    },
    {
     "name": "stdout",
     "output_type": "stream",
     "text": [
      "최영희 학생 정보의 입력이 잘 되어습니다\n"
     ]
    }
   ],
   "source": [
    "# 학번 = input(\"학번 >>>\")\n",
    "name = input(\"이름 >>>\")\n",
    "score = int(input(\"점수 >>>\"))\n",
    "\n",
    "stmt = \"\"\"\n",
    "select max(학번) as max\n",
    " from 학생평가\n",
    "\"\"\"\n",
    "st_id = str(int(pd.read_sql(stmt,conn).loc[:,'max'][0])+1)  # 학번이 자동으로 1씩 증가하면서 입력됨\n",
    "\n",
    "stmt = \"\"\"\n",
    "insert into 학생평가(\n",
    "학번,\n",
    "이름,\n",
    "점수\n",
    ")\n",
    "values(\n",
    ":x1,\n",
    ":x2,\n",
    ":x3\n",
    ")\n",
    "\"\"\"\n",
    "df1 = pd.read_sql(\"select count(*) as cnt from 학생평가\", conn)\n",
    "df1 = df1.loc[:,'cnt'][0]\n",
    "dt = {\"x1\":st_id, \"x2\":name, \"x3\":score}\n",
    "conn.execute(text(stmt),**dt)\n",
    "df = pd.read_sql(\"select count(*) as cnt from 학생평가\", conn)\n",
    "df = df.loc[:,'cnt'][0]\n",
    "if df > df1:\n",
    "    print(f'{name} 학생 정보의 입력이 잘 되어습니다')"
   ]
  },
  {
   "cell_type": "code",
   "execution_count": 67,
   "id": "843d4caa-b623-4602-9e4c-3fb72a899cc7",
   "metadata": {},
   "outputs": [
    {
     "data": {
      "text/plain": [
       "False"
      ]
     },
     "execution_count": 67,
     "metadata": {},
     "output_type": "execute_result"
    }
   ],
   "source": [
    "df1 = pd.read_sql(\"select count(*) as cnt from 학생평가\", conn)\n",
    "df1.loc[:,'cnt'][0] == 16"
   ]
  },
  {
   "cell_type": "code",
   "execution_count": 65,
   "id": "a8168417-c054-4faf-bc20-b58af66c388b",
   "metadata": {},
   "outputs": [
    {
     "name": "stdin",
     "output_type": "stream",
     "text": [
      "조회하려는 학생 이름을 입력하세요 >>> 최영희\n"
     ]
    },
    {
     "name": "stdout",
     "output_type": "stream",
     "text": [
      "조회하려는 학생이 없습니다\n"
     ]
    }
   ],
   "source": [
    "name = input(\"조회하려는 학생 이름을 입력하세요 >>>\")\n",
    "qry = f\"select * from 학생평가 where 이름 = '{name}'\"\n",
    "df = pd.read_sql(qry,conn)\n",
    "if len(df) > 0:\n",
    "    print(df)\n",
    "else:\n",
    "    print(\"조회하려는 학생이 없습니다\")"
   ]
  },
  {
   "cell_type": "code",
   "execution_count": 66,
   "id": "d33598ac-f38e-49fb-b7c4-2f690d18d8a4",
   "metadata": {},
   "outputs": [
    {
     "data": {
      "text/plain": [
       "'201501018'"
      ]
     },
     "execution_count": 66,
     "metadata": {},
     "output_type": "execute_result"
    }
   ],
   "source": [
    "stmt = \"\"\"\n",
    "select max(학번) as max\n",
    " from 학생평가\n",
    "\"\"\"\n",
    "str(int(pd.read_sql(stmt,conn).loc[:,'max'][0])+1)"
   ]
  },
  {
   "cell_type": "code",
   "execution_count": 99,
   "id": "aa067a1d-5b96-423d-87d1-f8be97145fa6",
   "metadata": {},
   "outputs": [
    {
     "data": {
      "text/plain": [
       "<sqlalchemy.engine.cursor.LegacyCursorResult at 0x7f518da07d60>"
      ]
     },
     "execution_count": 99,
     "metadata": {},
     "output_type": "execute_result"
    }
   ],
   "source": [
    "## 학생평가1 테이블을 생성 \"create table 학생평가1 like 학생평가\"\n",
    "## 학생평가1 인서트\n",
    "## insert into 학생평가1() values() conn.execute(text(stmt))\n",
    "## df1.to_dict('r')\n",
    "\n",
    "# 학생평가 테이블을 받아와서 학생평가1 테이블 작성\n",
    "stmt = \"\"\"\n",
    "create table 학생평가1 like 학생평가\n",
    "\"\"\"\n",
    "conn.execute(text(stmt))"
   ]
  },
  {
   "cell_type": "code",
   "execution_count": 103,
   "id": "5d5e0cb7-bd8c-4eb6-86a1-8a0826d191ff",
   "metadata": {},
   "outputs": [],
   "source": [
    "df = pd.read_sql(\"select * from 학생평가\", conn)  # 학생평가 테이블 로드\n",
    "\n",
    "df1 = df.loc[(df.점수 % 3 == 0) & (df.점수 % 5 == 0),:] # 로드한 학생평가 테이블 중 점수가 3, 5 배수인 행만 추출"
   ]
  },
  {
   "cell_type": "code",
   "execution_count": 104,
   "id": "9abd03bf-eaa6-4d79-9ccb-71243d570737",
   "metadata": {},
   "outputs": [
    {
     "data": {
      "text/html": [
       "<div>\n",
       "<style scoped>\n",
       "    .dataframe tbody tr th:only-of-type {\n",
       "        vertical-align: middle;\n",
       "    }\n",
       "\n",
       "    .dataframe tbody tr th {\n",
       "        vertical-align: top;\n",
       "    }\n",
       "\n",
       "    .dataframe thead th {\n",
       "        text-align: right;\n",
       "    }\n",
       "</style>\n",
       "<table border=\"1\" class=\"dataframe\">\n",
       "  <thead>\n",
       "    <tr style=\"text-align: right;\">\n",
       "      <th></th>\n",
       "      <th>학번</th>\n",
       "      <th>이름</th>\n",
       "      <th>점수</th>\n",
       "      <th>조이름</th>\n",
       "    </tr>\n",
       "  </thead>\n",
       "  <tbody>\n",
       "    <tr>\n",
       "      <th>0</th>\n",
       "      <td>201501001</td>\n",
       "      <td>김수현</td>\n",
       "      <td>90</td>\n",
       "      <td>T2015</td>\n",
       "    </tr>\n",
       "    <tr>\n",
       "      <th>1</th>\n",
       "      <td>201501002</td>\n",
       "      <td>송혜교</td>\n",
       "      <td>75</td>\n",
       "      <td>무한도전</td>\n",
       "    </tr>\n",
       "    <tr>\n",
       "      <th>7</th>\n",
       "      <td>201501008</td>\n",
       "      <td>한효주</td>\n",
       "      <td>90</td>\n",
       "      <td>학교짱</td>\n",
       "    </tr>\n",
       "    <tr>\n",
       "      <th>10</th>\n",
       "      <td>201501011</td>\n",
       "      <td>이연희</td>\n",
       "      <td>75</td>\n",
       "      <td>학교짱</td>\n",
       "    </tr>\n",
       "  </tbody>\n",
       "</table>\n",
       "</div>"
      ],
      "text/plain": [
       "           학번   이름  점수    조이름\n",
       "0   201501001  김수현  90  T2015\n",
       "1   201501002  송혜교  75   무한도전\n",
       "7   201501008  한효주  90    학교짱\n",
       "10  201501011  이연희  75    학교짱"
      ]
     },
     "execution_count": 104,
     "metadata": {},
     "output_type": "execute_result"
    }
   ],
   "source": [
    "df1"
   ]
  },
  {
   "cell_type": "code",
   "execution_count": 106,
   "id": "482dc03f-cbbd-4a23-bc3b-b45aff3e5179",
   "metadata": {},
   "outputs": [
    {
     "name": "stderr",
     "output_type": "stream",
     "text": [
      "/tmp/ipykernel_1855/3723802149.py:1: FutureWarning: Using short name for 'orient' is deprecated. Only the options: ('dict', list, 'series', 'split', 'records', 'index') will be used in a future version. Use one of the above to silence this warning.\n",
      "  df1.to_dict('r') # r 또는 records\n"
     ]
    },
    {
     "data": {
      "text/plain": [
       "[{'학번': '201501001', '이름': '김수현', '점수': 90, '조이름': 'T2015'},\n",
       " {'학번': '201501002', '이름': '송혜교', '점수': 75, '조이름': '무한도전'},\n",
       " {'학번': '201501008', '이름': '한효주', '점수': 90, '조이름': '학교짱'},\n",
       " {'학번': '201501011', '이름': '이연희', '점수': 75, '조이름': '학교짱'}]"
      ]
     },
     "execution_count": 106,
     "metadata": {},
     "output_type": "execute_result"
    }
   ],
   "source": [
    "df1.to_dict('r') # r 또는 records, 추출한 데이터를 딕셔너리형으로 변환"
   ]
  },
  {
   "cell_type": "code",
   "execution_count": 107,
   "id": "37eee941-e28e-450a-b48b-7fc85e7d96a9",
   "metadata": {},
   "outputs": [
    {
     "name": "stdout",
     "output_type": "stream",
     "text": [
      "{'학번': '201501001', '이름': '김수현', '점수': 90, '조이름': 'T2015'}\n",
      "{'학번': '201501002', '이름': '송혜교', '점수': 75, '조이름': '무한도전'}\n",
      "{'학번': '201501008', '이름': '한효주', '점수': 90, '조이름': '학교짱'}\n",
      "{'학번': '201501011', '이름': '이연희', '점수': 75, '조이름': '학교짱'}\n"
     ]
    },
    {
     "name": "stderr",
     "output_type": "stream",
     "text": [
      "/tmp/ipykernel_1855/715507070.py:15: FutureWarning: Using short name for 'orient' is deprecated. Only the options: ('dict', list, 'series', 'split', 'records', 'index') will be used in a future version. Use one of the above to silence this warning.\n",
      "  for dt in df1.to_dict('r'):\n"
     ]
    }
   ],
   "source": [
    "insert_stmt = \"\"\"\n",
    "insert into 학생평가1(\n",
    "학번,\n",
    "이름,\n",
    "점수,\n",
    "조이름)\n",
    "values(\n",
    ":학번,\n",
    ":이름,\n",
    ":점수,\n",
    ":조이름\n",
    ")\n",
    "\"\"\"\n",
    "\n",
    "for dt in df1.to_dict('r'):    # df1.to_dict('r') 안의 데이터를 받아와 dt에 삽입\n",
    "    print(dt)\n",
    "    conn.execute(text(insert_stmt),**dt)"
   ]
  },
  {
   "cell_type": "code",
   "execution_count": 109,
   "id": "b9650827-99c2-44b4-aeb0-2a5a6d23b2ac",
   "metadata": {},
   "outputs": [
    {
     "data": {
      "text/html": [
       "<div>\n",
       "<style scoped>\n",
       "    .dataframe tbody tr th:only-of-type {\n",
       "        vertical-align: middle;\n",
       "    }\n",
       "\n",
       "    .dataframe tbody tr th {\n",
       "        vertical-align: top;\n",
       "    }\n",
       "\n",
       "    .dataframe thead th {\n",
       "        text-align: right;\n",
       "    }\n",
       "</style>\n",
       "<table border=\"1\" class=\"dataframe\">\n",
       "  <thead>\n",
       "    <tr style=\"text-align: right;\">\n",
       "      <th></th>\n",
       "      <th>학번</th>\n",
       "      <th>이름</th>\n",
       "      <th>점수</th>\n",
       "      <th>조이름</th>\n",
       "    </tr>\n",
       "  </thead>\n",
       "  <tbody>\n",
       "    <tr>\n",
       "      <th>0</th>\n",
       "      <td>201501001</td>\n",
       "      <td>김수현</td>\n",
       "      <td>90</td>\n",
       "      <td>T2015</td>\n",
       "    </tr>\n",
       "    <tr>\n",
       "      <th>1</th>\n",
       "      <td>201501002</td>\n",
       "      <td>송혜교</td>\n",
       "      <td>75</td>\n",
       "      <td>무한도전</td>\n",
       "    </tr>\n",
       "    <tr>\n",
       "      <th>2</th>\n",
       "      <td>201501008</td>\n",
       "      <td>한효주</td>\n",
       "      <td>90</td>\n",
       "      <td>학교짱</td>\n",
       "    </tr>\n",
       "    <tr>\n",
       "      <th>3</th>\n",
       "      <td>201501011</td>\n",
       "      <td>이연희</td>\n",
       "      <td>75</td>\n",
       "      <td>학교짱</td>\n",
       "    </tr>\n",
       "  </tbody>\n",
       "</table>\n",
       "</div>"
      ],
      "text/plain": [
       "          학번   이름  점수    조이름\n",
       "0  201501001  김수현  90  T2015\n",
       "1  201501002  송혜교  75   무한도전\n",
       "2  201501008  한효주  90    학교짱\n",
       "3  201501011  이연희  75    학교짱"
      ]
     },
     "execution_count": 109,
     "metadata": {},
     "output_type": "execute_result"
    }
   ],
   "source": [
    "stmt = \"\"\"\n",
    "select *\n",
    " from 학생평가1\n",
    "\"\"\"\n",
    "pd.read_sql(text(stmt),conn)"
   ]
  },
  {
   "cell_type": "code",
   "execution_count": 114,
   "id": "493c12dd-06d0-48dd-9051-2c3924a550df",
   "metadata": {},
   "outputs": [
    {
     "data": {
      "text/plain": [
       "True"
      ]
     },
     "execution_count": 114,
     "metadata": {},
     "output_type": "execute_result"
    }
   ],
   "source": [
    "stmt = \"\"\"\n",
    "select *\n",
    " from 학생평가\n",
    "where 점수 %% 3 = 0\n",
    "  and 점수 %% 5 = 0\n",
    "\"\"\"\n",
    "pd.read_sql(stmt,conn)\n",
    "\n",
    "sum(pd.read_sql(\"select * from 학생평가1\",conn).점수) == sum(pd.read_sql(stmt,conn).점수)"
   ]
  },
  {
   "cell_type": "code",
   "execution_count": null,
   "id": "37c4aca5-086c-4d5a-a22e-21aa33fc5204",
   "metadata": {},
   "outputs": [],
   "source": []
  }
 ],
 "metadata": {
  "kernelspec": {
   "display_name": "Python 3 (ipykernel)",
   "language": "python",
   "name": "python3"
  },
  "language_info": {
   "codemirror_mode": {
    "name": "ipython",
    "version": 3
   },
   "file_extension": ".py",
   "mimetype": "text/x-python",
   "name": "python",
   "nbconvert_exporter": "python",
   "pygments_lexer": "ipython3",
   "version": "3.9.7"
  }
 },
 "nbformat": 4,
 "nbformat_minor": 5
}
