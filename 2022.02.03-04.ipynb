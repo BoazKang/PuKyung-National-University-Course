{
 "cells": [
  {
   "cell_type": "code",
   "execution_count": 1,
   "id": "d3c0f64e-80f1-4448-8dd0-7b44469cc013",
   "metadata": {},
   "outputs": [],
   "source": [
    "a = 10"
   ]
  },
  {
   "cell_type": "code",
   "execution_count": 2,
   "id": "2514d5ac-8e87-4e99-bc61-fe5d41fa6dad",
   "metadata": {},
   "outputs": [],
   "source": [
    "b = 20"
   ]
  },
  {
   "cell_type": "code",
   "execution_count": 3,
   "id": "6f33f257-4ab0-45bc-8042-3062a388badc",
   "metadata": {},
   "outputs": [],
   "source": [
    "c = a + b"
   ]
  },
  {
   "cell_type": "code",
   "execution_count": 4,
   "id": "05e2775d-4603-4e05-ad59-1c70d0b06f9b",
   "metadata": {},
   "outputs": [
    {
     "data": {
      "text/plain": [
       "30"
      ]
     },
     "execution_count": 4,
     "metadata": {},
     "output_type": "execute_result"
    }
   ],
   "source": [
    "c"
   ]
  },
  {
   "cell_type": "code",
   "execution_count": 8,
   "id": "8c372318-c91b-46f6-9b35-36563f5c9025",
   "metadata": {},
   "outputs": [],
   "source": [
    "d = int(b/a)"
   ]
  },
  {
   "cell_type": "code",
   "execution_count": 10,
   "id": "0ab29aeb-c68b-427f-b9e5-fcc60d71014c",
   "metadata": {},
   "outputs": [
    {
     "data": {
      "text/plain": [
       "2"
      ]
     },
     "execution_count": 10,
     "metadata": {},
     "output_type": "execute_result"
    }
   ],
   "source": [
    "d"
   ]
  },
  {
   "cell_type": "code",
   "execution_count": 11,
   "id": "27c2d3f9-408b-4024-8602-abf1f93a4f4a",
   "metadata": {},
   "outputs": [
    {
     "data": {
      "text/plain": [
       "'python Programing'"
      ]
     },
     "execution_count": 11,
     "metadata": {},
     "output_type": "execute_result"
    }
   ],
   "source": [
    "'python Programing'"
   ]
  },
  {
   "cell_type": "code",
   "execution_count": 12,
   "id": "d1287ed8-ae45-4477-be08-fcfd902a60af",
   "metadata": {},
   "outputs": [
    {
     "data": {
      "text/plain": [
       "'\\n'"
      ]
     },
     "execution_count": 12,
     "metadata": {},
     "output_type": "execute_result"
    }
   ],
   "source": [
    "\"\"\"\n",
    "\"\"\""
   ]
  },
  {
   "cell_type": "code",
   "execution_count": 13,
   "id": "eff68d28-583f-4761-a269-71738defb067",
   "metadata": {},
   "outputs": [],
   "source": [
    "import keyword"
   ]
  },
  {
   "cell_type": "code",
   "execution_count": 14,
   "id": "dfaf14ab-a2ad-44a6-9edc-e47000d220b6",
   "metadata": {},
   "outputs": [
    {
     "data": {
      "text/plain": [
       "['False',\n",
       " 'None',\n",
       " 'True',\n",
       " 'and',\n",
       " 'as',\n",
       " 'assert',\n",
       " 'async',\n",
       " 'await',\n",
       " 'break',\n",
       " 'class',\n",
       " 'continue',\n",
       " 'def',\n",
       " 'del',\n",
       " 'elif',\n",
       " 'else',\n",
       " 'except',\n",
       " 'finally',\n",
       " 'for',\n",
       " 'from',\n",
       " 'global',\n",
       " 'if',\n",
       " 'import',\n",
       " 'in',\n",
       " 'is',\n",
       " 'lambda',\n",
       " 'nonlocal',\n",
       " 'not',\n",
       " 'or',\n",
       " 'pass',\n",
       " 'raise',\n",
       " 'return',\n",
       " 'try',\n",
       " 'while',\n",
       " 'with',\n",
       " 'yield']"
      ]
     },
     "execution_count": 14,
     "metadata": {},
     "output_type": "execute_result"
    }
   ],
   "source": [
    "keyword.kwlist"
   ]
  },
  {
   "cell_type": "code",
   "execution_count": 15,
   "id": "0dbaed20-0281-4ec7-abb2-ccb07edb0342",
   "metadata": {},
   "outputs": [],
   "source": [
    "def multiple(x,y):\n",
    "    return x*y"
   ]
  },
  {
   "cell_type": "code",
   "execution_count": 16,
   "id": "7b94e376-49bf-424b-a027-9cf5e7014726",
   "metadata": {},
   "outputs": [
    {
     "data": {
      "text/plain": [
       "200"
      ]
     },
     "execution_count": 16,
     "metadata": {},
     "output_type": "execute_result"
    }
   ],
   "source": [
    "multiple(10,20)"
   ]
  },
  {
   "cell_type": "code",
   "execution_count": 21,
   "id": "7fa48396-8e57-4a87-8ae3-8877d3e0956a",
   "metadata": {},
   "outputs": [
    {
     "data": {
      "text/plain": [
       "str"
      ]
     },
     "execution_count": 21,
     "metadata": {},
     "output_type": "execute_result"
    }
   ],
   "source": [
    "type(\"3.\")"
   ]
  },
  {
   "cell_type": "code",
   "execution_count": 22,
   "id": "5bc478e3-8cb4-4be9-b9b4-e2d2d6d6afbc",
   "metadata": {},
   "outputs": [],
   "source": [
    "a = \"Hello\"\n",
    "b = 'String'\n",
    "c = \"안녕하세요\"\n",
    "d = \"Hello Python Progaramming\""
   ]
  },
  {
   "cell_type": "code",
   "execution_count": 25,
   "id": "2e189acf-9e9b-427c-b766-0c6743133b0f",
   "metadata": {},
   "outputs": [
    {
     "data": {
      "text/plain": [
       "'Hell'"
      ]
     },
     "execution_count": 25,
     "metadata": {},
     "output_type": "execute_result"
    }
   ],
   "source": [
    "a[0:4]"
   ]
  },
  {
   "cell_type": "code",
   "execution_count": 30,
   "id": "bdc4e18b-7a0f-4c36-898b-5116de65dcae",
   "metadata": {},
   "outputs": [],
   "source": [
    "a = \"안녕하세요\"\n",
    "b = \" xx입니다\""
   ]
  },
  {
   "cell_type": "code",
   "execution_count": 29,
   "id": "cb76827f-89e5-41f4-94d5-69369a7724a1",
   "metadata": {},
   "outputs": [
    {
     "data": {
      "text/plain": [
       "'안녕하세요xx입니다'"
      ]
     },
     "execution_count": 29,
     "metadata": {},
     "output_type": "execute_result"
    }
   ],
   "source": [
    "a+b"
   ]
  },
  {
   "cell_type": "code",
   "execution_count": 41,
   "id": "492fbaec-0fc2-4727-91b0-74604af5e378",
   "metadata": {},
   "outputs": [],
   "source": [
    "def hello(x):\n",
    "    return '안녕하세요'+' '+x+' 님'"
   ]
  },
  {
   "cell_type": "code",
   "execution_count": 42,
   "id": "62933c43-c1de-4d55-bad4-b6726e94171f",
   "metadata": {},
   "outputs": [
    {
     "name": "stdout",
     "output_type": "stream",
     "text": [
      "안녕하세요 최유진 님1 \n",
      "\n",
      "안녕하세요 이민주 님1 \n",
      "\n",
      "안녕하세요 김보민 님1 \n",
      "\n"
     ]
    }
   ],
   "source": [
    "x = [\"최유진\",\"이민주\",\"김보민\"]\n",
    "j = 1\n",
    "for i in x:\n",
    "    print(hello(i)+str(j),\"\\n\")"
   ]
  },
  {
   "cell_type": "code",
   "execution_count": 43,
   "id": "8a9bd1ae-f07c-4be6-87f0-446c558b9947",
   "metadata": {},
   "outputs": [],
   "source": [
    "hi = \"안녕하세요\""
   ]
  },
  {
   "cell_type": "code",
   "execution_count": 57,
   "id": "3fd97f4a-2635-413d-85ed-46002e7a5125",
   "metadata": {},
   "outputs": [
    {
     "name": "stdout",
     "output_type": "stream",
     "text": [
      "요\n",
      "세\n",
      "하\n",
      "녕\n",
      "안\n"
     ]
    }
   ],
   "source": [
    "for i in range(len(hi)):\n",
    "    i = i + 1\n",
    "    print(hi[-i])"
   ]
  },
  {
   "cell_type": "code",
   "execution_count": 66,
   "id": "13e272f8-1946-495d-8742-aff51382fc86",
   "metadata": {},
   "outputs": [
    {
     "data": {
      "text/plain": [
       "'안녕하세요'"
      ]
     },
     "execution_count": 66,
     "metadata": {},
     "output_type": "execute_result"
    }
   ],
   "source": [
    "hi[:]"
   ]
  },
  {
   "cell_type": "code",
   "execution_count": 69,
   "id": "40a97d53-d135-4a0a-bda3-feac31671a2b",
   "metadata": {},
   "outputs": [
    {
     "name": "stdout",
     "output_type": "stream",
     "text": [
      "5\n"
     ]
    }
   ],
   "source": [
    "## hi object기 몇 개인지 세어 출려\n",
    "\n",
    "print(len(hi))"
   ]
  },
  {
   "cell_type": "code",
   "execution_count": 70,
   "id": "daace541-bf28-49b9-add7-1ef47b8a899f",
   "metadata": {},
   "outputs": [],
   "source": [
    "a = \"\"\"\n",
    "(서울=연합뉴스) 김서영 기자 = 코로나19 오미크론 변이가 급속도로 확산하면서 설 연휴 직후인 3일에도 2만명을 훌쩍 뛰어넘는 최다 확진자를 기록했다.\n",
    "\n",
    "중앙방역대책본부는 이날 0시 기준으로 확진자가 2만2천907명 늘어 누적 90만7천214명이라고 밝혔다.\n",
    "\n",
    "국내 신규확진자는 전날 2만269명(당초 2만270명으로 발표 후 정정)으로 처음 2만명대로 올라섰는데, 하루 새 2천638명 늘어 이날 2만3천명에 육박했다.\n",
    "\n",
    "지난달 26일(1만3천9명) 첫 1만명대를 기록한 뒤 불과 일주일새 2만명대로 늘면서 연일 최다치를 경신하는 상황이다.\n",
    "\n",
    "이에 따라 누적 확진자수도 설 연휴 첫날이었던 지난 29일 81만1천90명으로 80만명을 넘은 데 이어 닷새만에 9만6천여명이 늘면서 총 90만명을 넘어섰다.\n",
    "\n",
    "이는 정부의 예측보다도 빠른 속도다.\n",
    "\n",
    "당초 질병관리청은 '단기 예측 결과'에서 오미크론 변이의 전파율이 델타의 2.5배일 경우 이달 중순께 신규 확진자수가 1만5천200∼2만1천300명에 달할 것으로 예측했으나, 이미 이날 예측 최대치를 넘어섰다.\n",
    "\n",
    "질병청은 또 이달 말에는 3만1천800∼5만2천200명의 확진자가 발생할 수 있다고 예측했으나 지금과 같은 속도라면 이달 말이 되기 전에 이 수치를 넘어설 수도 있다.\n",
    "\n",
    "더욱이 오미크론 변이가 이미 지배종으로 자리 잡은 상황에서 설 연휴 귀성·귀경 인파를 타고 확산세는 더 거세질 것으로 보인다.\n",
    "\"\"\""
   ]
  },
  {
   "cell_type": "code",
   "execution_count": 72,
   "id": "749b3032-db96-41e3-a229-1f3c06377107",
   "metadata": {},
   "outputs": [
    {
     "name": "stdout",
     "output_type": "stream",
     "text": [
      "704\n"
     ]
    }
   ],
   "source": [
    "print(len(a))"
   ]
  },
  {
   "cell_type": "code",
   "execution_count": 73,
   "id": "1f0665c1-7c9b-4818-98e6-281c78ff3c94",
   "metadata": {},
   "outputs": [
    {
     "name": "stdout",
     "output_type": "stream",
     "text": [
      "\\\\\\\\\n"
     ]
    }
   ],
   "source": [
    "print(\"\\\\\\\\\\\\\\\\\")"
   ]
  },
  {
   "cell_type": "code",
   "execution_count": 78,
   "id": "e73d224c-5e62-4ae6-83b3-0768bd1b42fe",
   "metadata": {},
   "outputs": [
    {
     "name": "stdout",
     "output_type": "stream",
     "text": [
      "******\n",
      "*****\n",
      "****\n",
      "***\n",
      "**\n",
      "*\n"
     ]
    }
   ],
   "source": [
    "print(\"*\" * 6)\n",
    "print(\"*\" * 5)\n",
    "print(\"*\" * 4)\n",
    "print(\"*\" * 3)\n",
    "print(\"*\" * 2)\n",
    "print(\"*\" * 1)"
   ]
  },
  {
   "cell_type": "code",
   "execution_count": 88,
   "id": "7da163d9-00d9-4162-b68a-74c14966011e",
   "metadata": {},
   "outputs": [
    {
     "name": "stdout",
     "output_type": "stream",
     "text": [
      "******\n",
      "*****\n",
      "****\n",
      "***\n",
      "**\n",
      "*\n"
     ]
    }
   ],
   "source": [
    "for i in '123456':\n",
    "    j = 7 - int(i)\n",
    "    print(\"*\" * j)"
   ]
  },
  {
   "cell_type": "code",
   "execution_count": 89,
   "id": "efbd156b-a62b-4f12-a4d9-980a1dc3f38c",
   "metadata": {},
   "outputs": [
    {
     "name": "stdout",
     "output_type": "stream",
     "text": [
      "******\n",
      "*****\n",
      "****\n",
      "***\n",
      "**\n",
      "*\n"
     ]
    }
   ],
   "source": [
    "for i in '123456'[::-1]:\n",
    "    print(\"*\" * int(i))"
   ]
  },
  {
   "cell_type": "code",
   "execution_count": 90,
   "id": "4d4bc2dc-f7ca-437d-81ac-a4ab64378c6f",
   "metadata": {},
   "outputs": [
    {
     "data": {
      "text/plain": [
       "3"
      ]
     },
     "execution_count": 90,
     "metadata": {},
     "output_type": "execute_result"
    }
   ],
   "source": [
    "10//3"
   ]
  },
  {
   "cell_type": "code",
   "execution_count": 91,
   "id": "0b9df139-0e17-4bcc-aa0c-f34ba094506e",
   "metadata": {},
   "outputs": [
    {
     "data": {
      "text/plain": [
       "1"
      ]
     },
     "execution_count": 91,
     "metadata": {},
     "output_type": "execute_result"
    }
   ],
   "source": [
    "10%3"
   ]
  },
  {
   "cell_type": "code",
   "execution_count": 92,
   "id": "b235f2bd-0a79-42fa-9851-8e47b19392eb",
   "metadata": {},
   "outputs": [],
   "source": [
    "def mn(x,y):\n",
    "    return x//y, x%y"
   ]
  },
  {
   "cell_type": "code",
   "execution_count": 94,
   "id": "16000837-990a-414c-abd9-1e779790beeb",
   "metadata": {},
   "outputs": [
    {
     "data": {
      "text/plain": [
       "(3, 1)"
      ]
     },
     "execution_count": 94,
     "metadata": {},
     "output_type": "execute_result"
    }
   ],
   "source": [
    "mn(10,3)"
   ]
  },
  {
   "cell_type": "code",
   "execution_count": 95,
   "id": "a391c6d5-3f87-46f5-bc6b-f0090d965845",
   "metadata": {},
   "outputs": [
    {
     "data": {
      "text/plain": [
       "1000"
      ]
     },
     "execution_count": 95,
     "metadata": {},
     "output_type": "execute_result"
    }
   ],
   "source": [
    "10**3"
   ]
  },
  {
   "cell_type": "code",
   "execution_count": 107,
   "id": "dbfae575-a609-4512-8da7-d79e4fe55d90",
   "metadata": {},
   "outputs": [
    {
     "data": {
      "text/plain": [
       "(203, 11)"
      ]
     },
     "execution_count": 107,
     "metadata": {},
     "output_type": "execute_result"
    }
   ],
   "source": [
    "mn(3462,17)"
   ]
  },
  {
   "cell_type": "code",
   "execution_count": 110,
   "id": "f2c41eb8-2f06-426d-8a29-d0f5292990c0",
   "metadata": {},
   "outputs": [],
   "source": [
    "pi = 3.141592"
   ]
  },
  {
   "cell_type": "code",
   "execution_count": 108,
   "id": "af7e2992-5ab3-44a8-8de5-3dc43741e5a6",
   "metadata": {},
   "outputs": [],
   "source": [
    "import math"
   ]
  },
  {
   "cell_type": "code",
   "execution_count": 109,
   "id": "9a03708e-79f8-4d37-932f-e2956c75b181",
   "metadata": {},
   "outputs": [],
   "source": [
    "pi_ref = math.pi"
   ]
  },
  {
   "cell_type": "code",
   "execution_count": 113,
   "id": "a1e395b8-7ae6-45e1-8717-332623544fea",
   "metadata": {},
   "outputs": [
    {
     "data": {
      "text/plain": [
       "17"
      ]
     },
     "execution_count": 113,
     "metadata": {},
     "output_type": "execute_result"
    }
   ],
   "source": [
    "len(str(pi_ref))"
   ]
  },
  {
   "cell_type": "code",
   "execution_count": 117,
   "id": "44baaedd-82f1-4b0a-a678-8b34afb0f8dc",
   "metadata": {},
   "outputs": [
    {
     "name": "stdout",
     "output_type": "stream",
     "text": [
      "원둘레 :  62.83184\n",
      "원넓이 :  314.1592\n"
     ]
    }
   ],
   "source": [
    "r = 10\n",
    "print(\"원둘레 : \", 2*pi*r)\n",
    "print(\"원넓이 : \", pi * (r**2))"
   ]
  },
  {
   "cell_type": "code",
   "execution_count": 126,
   "id": "67a31111-1dbc-4d89-b571-7decff086e96",
   "metadata": {
    "collapsed": true,
    "jupyter": {
     "outputs_hidden": true
    },
    "tags": []
   },
   "outputs": [
    {
     "name": "stdout",
     "output_type": "stream",
     "text": [
      "1\n",
      "2\n",
      "3\n",
      "4\n",
      "5\n",
      "6\n",
      "7\n",
      "8\n",
      "9\n",
      "10\n"
     ]
    }
   ],
   "source": [
    "x = 1\n",
    "while x < 11:\n",
    "    print(x)\n",
    "    x += 1 # x = x + 1"
   ]
  },
  {
   "cell_type": "code",
   "execution_count": 127,
   "id": "d5cc36b3-44bd-4f1a-bd45-3cab63f966e8",
   "metadata": {},
   "outputs": [
    {
     "name": "stdin",
     "output_type": "stream",
     "text": [
      "이름을 입력하세요 이강욱\n"
     ]
    },
    {
     "data": {
      "text/plain": [
       "'이강욱'"
      ]
     },
     "execution_count": 127,
     "metadata": {},
     "output_type": "execute_result"
    }
   ],
   "source": [
    "input(\"이름을 입력하세요\")"
   ]
  },
  {
   "cell_type": "code",
   "execution_count": 128,
   "id": "ebb1d04d-9bf2-43c5-b1b3-ac5ba3537a62",
   "metadata": {},
   "outputs": [],
   "source": [
    "def hello(x):\n",
    "    return \"안녕하세요 \" + x + \"님\""
   ]
  },
  {
   "cell_type": "code",
   "execution_count": 129,
   "id": "6cba7e99-6841-4c5a-9650-df3045b6630b",
   "metadata": {},
   "outputs": [
    {
     "name": "stdin",
     "output_type": "stream",
     "text": [
      "이름을 입력하세요 :  최어진\n"
     ]
    },
    {
     "data": {
      "text/plain": [
       "'안녕하세요 최어진님'"
      ]
     },
     "execution_count": 129,
     "metadata": {},
     "output_type": "execute_result"
    }
   ],
   "source": [
    "a = input(\"이름을 입력하세요 : \")\n",
    "hello(a)"
   ]
  },
  {
   "cell_type": "code",
   "execution_count": 134,
   "id": "437fe0b1-9677-440c-ae5d-d6bd9d2ee4d2",
   "metadata": {},
   "outputs": [
    {
     "name": "stdin",
     "output_type": "stream",
     "text": [
      "1.피제수를 입력하시오 >>> 10\n",
      "2.제수를 입력하시오 >>> 3\n"
     ]
    },
    {
     "name": "stdout",
     "output_type": "stream",
     "text": [
      "몫은 3이고, 나머지는 1입니다.\n"
     ]
    }
   ],
   "source": [
    "# 피제수와 제수를 입력받아 몫과 나머지를 출력\n",
    "# 입력형식은 1.피제수를 입력하시오 2.제수를 입력하시오\n",
    "# 몫은 ooo이고, 나머지는 ooo입니다.\n",
    "x = int(input('1.피제수를 입력하시오 >>>'))\n",
    "y = int(input('2.제수를 입력하시오 >>>'))\n",
    "a = x//y\n",
    "b = x%y\n",
    "print(f\"몫은 {a}이고, 나머지는 {b}입니다.\")"
   ]
  },
  {
   "cell_type": "code",
   "execution_count": 140,
   "id": "1e8bb69e-e3bb-4897-bcd0-7f9eeffff088",
   "metadata": {},
   "outputs": [],
   "source": [
    "x = eval(\"5e10\")"
   ]
  },
  {
   "cell_type": "code",
   "execution_count": 143,
   "id": "54d2c496-25dc-4d75-954e-c73d44ba8ff0",
   "metadata": {},
   "outputs": [
    {
     "data": {
      "text/plain": [
       "float"
      ]
     },
     "execution_count": 143,
     "metadata": {},
     "output_type": "execute_result"
    }
   ],
   "source": [
    "type(float(3))"
   ]
  },
  {
   "cell_type": "code",
   "execution_count": 145,
   "id": "15d12a54-c027-48d0-9993-929ddecda6a8",
   "metadata": {},
   "outputs": [
    {
     "data": {
      "text/plain": [
       "'3.0'"
      ]
     },
     "execution_count": 145,
     "metadata": {},
     "output_type": "execute_result"
    }
   ],
   "source": [
    "str(float(3))"
   ]
  },
  {
   "cell_type": "code",
   "execution_count": 146,
   "id": "b58e8ad3-800b-4e04-a3cc-a95478ecfec9",
   "metadata": {},
   "outputs": [],
   "source": [
    "x = \"53.723\""
   ]
  },
  {
   "cell_type": "code",
   "execution_count": 151,
   "id": "da994e98-2b6b-421e-b567-cecfddbe040f",
   "metadata": {},
   "outputs": [
    {
     "data": {
      "text/plain": [
       "53"
      ]
     },
     "execution_count": 151,
     "metadata": {},
     "output_type": "execute_result"
    }
   ],
   "source": [
    "int(float(x))"
   ]
  },
  {
   "cell_type": "code",
   "execution_count": 193,
   "id": "7575e739-f175-4a3a-b6b9-676991f332a9",
   "metadata": {},
   "outputs": [],
   "source": [
    "def inch_judge(x,y):\n",
    "    if y == \"1\":\n",
    "        result = x*2.54\n",
    "        # result1 = str(result) + ' inch입니다'\n",
    "        # print(str(result)+' inch입니다')\n",
    "        # print('{} inch입니다'.format(result))\n",
    "        print(\"입력한 {:g}inch는 변환결과{} cm입니다\".format(x,result))\n",
    "    else:\n",
    "        result = x/2.54\n",
    "        # result1 = str(result) + ' cm입니다'\n",
    "        # print(str(result)+' cm입니다')\n",
    "        print(\"{} cm입니다\".format(result))\n",
    "    # return result1"
   ]
  },
  {
   "cell_type": "code",
   "execution_count": 194,
   "id": "52c88253-0eeb-4dfc-b2b1-04f2684a822e",
   "metadata": {},
   "outputs": [
    {
     "name": "stdin",
     "output_type": "stream",
     "text": [
      "수치를 입력하세요 :  10\n",
      "입력한 단위가 inch이면 1을 cm이면 아무 키나 입력하세요 1\n"
     ]
    },
    {
     "name": "stdout",
     "output_type": "stream",
     "text": [
      "입력한 10inch는 변환결과25.4 cm입니다\n"
     ]
    }
   ],
   "source": [
    "# 1inch == 2.54cm\n",
    "x = float(input(\"수치를 입력하세요 : \"))\n",
    "y = input(\"입력한 단위가 inch이면 1을 cm이면 아무 키나 입력하세요\")\n",
    "inch_judge(x,y)"
   ]
  },
  {
   "cell_type": "code",
   "execution_count": 168,
   "id": "aeefbec1-87b6-462b-a2da-eb527f1fcfb3",
   "metadata": {},
   "outputs": [
    {
     "data": {
      "text/plain": [
       "False"
      ]
     },
     "execution_count": 168,
     "metadata": {},
     "output_type": "execute_result"
    }
   ],
   "source": [
    "\"aa bcd eff abba\".isalpha()"
   ]
  },
  {
   "cell_type": "code",
   "execution_count": 171,
   "id": "318e8c82-8a0f-4576-b7f0-09d7f6a93761",
   "metadata": {},
   "outputs": [],
   "source": [
    "string_a = \"xxxx{}yyyy\".format(10)"
   ]
  },
  {
   "cell_type": "code",
   "execution_count": 172,
   "id": "0c3cf207-bf99-4d9c-aa76-3b6d6f3ed35b",
   "metadata": {},
   "outputs": [
    {
     "data": {
      "text/plain": [
       "'xxxx10yyyy'"
      ]
     },
     "execution_count": 172,
     "metadata": {},
     "output_type": "execute_result"
    }
   ],
   "source": [
    "string_a"
   ]
  },
  {
   "cell_type": "code",
   "execution_count": 177,
   "id": "7a2a819d-94ef-4d94-b75c-7cd59390ad54",
   "metadata": {},
   "outputs": [
    {
     "data": {
      "text/plain": [
       "'52'"
      ]
     },
     "execution_count": 177,
     "metadata": {},
     "output_type": "execute_result"
    }
   ],
   "source": [
    "'{:d}'.format(52)"
   ]
  },
  {
   "cell_type": "code",
   "execution_count": 181,
   "id": "8c4256e8-65e8-4d9e-b1b7-5afc46e15930",
   "metadata": {},
   "outputs": [
    {
     "name": "stdout",
     "output_type": "stream",
     "text": [
      "   52\n",
      "00052\n"
     ]
    }
   ],
   "source": [
    "print(\"{:5d}\".format(52))\n",
    "print(\"{:05d}\".format(52))"
   ]
  },
  {
   "cell_type": "code",
   "execution_count": 184,
   "id": "206a9a77-8b8f-4fab-b132-64a8cce6015c",
   "metadata": {},
   "outputs": [
    {
     "name": "stdout",
     "output_type": "stream",
     "text": [
      "        52\n",
      "0000000052\n",
      "-000000052\n"
     ]
    }
   ],
   "source": [
    "print(\"{:10d}\".format(52))\n",
    "print(\"{:010d}\".format(52))\n",
    "print(\"{:010d}\".format(-52))"
   ]
  },
  {
   "cell_type": "code",
   "execution_count": 186,
   "id": "9a7e884f-830b-46c2-b0c0-5206d70c5368",
   "metadata": {},
   "outputs": [
    {
     "name": "stdout",
     "output_type": "stream",
     "text": [
      "+52\n",
      "-52\n"
     ]
    }
   ],
   "source": [
    "print(\"{:+d}\".format(52))\n",
    "print(\"{:+d}\".format(-52))"
   ]
  },
  {
   "cell_type": "code",
   "execution_count": 187,
   "id": "4924a379-06f9-4444-8ca6-65be815b6a8b",
   "metadata": {},
   "outputs": [
    {
     "data": {
      "text/plain": [
       "'52.273000'"
      ]
     },
     "execution_count": 187,
     "metadata": {},
     "output_type": "execute_result"
    }
   ],
   "source": [
    "\"{:f}\".format(52.273)"
   ]
  },
  {
   "cell_type": "code",
   "execution_count": 189,
   "id": "1d3638d0-3c9d-4198-9aae-9c89464d3208",
   "metadata": {},
   "outputs": [
    {
     "data": {
      "text/plain": [
       "'      52.273000'"
      ]
     },
     "execution_count": 189,
     "metadata": {},
     "output_type": "execute_result"
    }
   ],
   "source": [
    "\"{:15f}\".format(52.273)"
   ]
  },
  {
   "cell_type": "code",
   "execution_count": 191,
   "id": "aef40a15-e011-4489-8cf1-ca469c25c42d",
   "metadata": {},
   "outputs": [
    {
     "data": {
      "text/plain": [
       "'53.27'"
      ]
     },
     "execution_count": 191,
     "metadata": {},
     "output_type": "execute_result"
    }
   ],
   "source": [
    "\"{:.2f}\".format(53.273)"
   ]
  },
  {
   "cell_type": "code",
   "execution_count": 192,
   "id": "5cddeb24-0cc6-44af-89f6-e5cca936c559",
   "metadata": {},
   "outputs": [
    {
     "data": {
      "text/plain": [
       "52.0"
      ]
     },
     "execution_count": 192,
     "metadata": {},
     "output_type": "execute_result"
    }
   ],
   "source": [
    "x = 52\n",
    "float(x)"
   ]
  },
  {
   "cell_type": "code",
   "execution_count": 210,
   "id": "246d4bc4-c8aa-4f74-8087-7b3815caab67",
   "metadata": {},
   "outputs": [
    {
     "data": {
      "text/plain": [
       "1"
      ]
     },
     "execution_count": 210,
     "metadata": {},
     "output_type": "execute_result"
    }
   ],
   "source": [
    "(\"Hello Python Welcome to python world\".isalpha()) + 1"
   ]
  },
  {
   "cell_type": "code",
   "execution_count": 222,
   "id": "ff2136b8-50bf-4baa-ba19-59ea48a0b3a2",
   "metadata": {},
   "outputs": [
    {
     "data": {
      "text/plain": [
       "'World'"
      ]
     },
     "execution_count": 222,
     "metadata": {},
     "output_type": "execute_result"
    }
   ],
   "source": [
    "\"Hello World\"[\"Hello World\".find(\" \"):].strip()"
   ]
  },
  {
   "cell_type": "code",
   "execution_count": 223,
   "id": "c768cf2d-d644-4e0a-80e0-4cb7aad44172",
   "metadata": {},
   "outputs": [
    {
     "data": {
      "text/plain": [
       "True"
      ]
     },
     "execution_count": 223,
     "metadata": {},
     "output_type": "execute_result"
    }
   ],
   "source": [
    "\"xy\" in \"xyz kdk\""
   ]
  },
  {
   "cell_type": "code",
   "execution_count": 228,
   "id": "d03ed42c-bed9-4790-a214-d159d9ffaaa0",
   "metadata": {},
   "outputs": [
    {
     "data": {
      "text/plain": [
       "['xyz', 'kdk', 'df']"
      ]
     },
     "execution_count": 228,
     "metadata": {},
     "output_type": "execute_result"
    }
   ],
   "source": [
    "\"xyz kdk df\".split()"
   ]
  },
  {
   "cell_type": "code",
   "execution_count": 242,
   "id": "b95fd917-331a-4113-b5c4-85189b24f27e",
   "metadata": {},
   "outputs": [],
   "source": [
    "def factor(x):\n",
    "    j = 1\n",
    "    for i in range(1,x+1):\n",
    "        j = j*i\n",
    "    return j"
   ]
  },
  {
   "cell_type": "code",
   "execution_count": 250,
   "id": "e4b58d28-149e-45f8-8b60-f6481e76774b",
   "metadata": {},
   "outputs": [
    {
     "name": "stdout",
     "output_type": "stream",
     "text": [
      "26 10000000000000000000000000 15511210043330985984000000\n"
     ]
    }
   ],
   "source": [
    "i = 1\n",
    "while True:\n",
    "    x = 10**i\n",
    "    y = factor(i)\n",
    "    i += 1\n",
    "    if x < y:\n",
    "        print(i,x,y)\n",
    "        break"
   ]
  },
  {
   "cell_type": "code",
   "execution_count": 249,
   "id": "37291a24-557b-4230-b7fc-9fff26c82e35",
   "metadata": {},
   "outputs": [],
   "source": [
    "x = 10**30\n",
    "y = factor(30)"
   ]
  },
  {
   "cell_type": "code",
   "execution_count": 3,
   "id": "38db15de-c83c-4800-bf85-fd3f20a1a4d1",
   "metadata": {},
   "outputs": [
    {
     "name": "stdout",
     "output_type": "stream",
     "text": [
      "C\n",
      "fail\n"
     ]
    }
   ],
   "source": [
    "score = 70\n",
    "# score >= 90 A, score < 90 and socre >= 80 B, socre < 80 and score >= 70 C, score < 70 D\n",
    "\n",
    "if score >= 90:\n",
    "    print(\"A\")\n",
    "    print(\"pass\")\n",
    "elif score >= 80:\n",
    "    print(\"B\")\n",
    "    print(\"pass\")\n",
    "elif score >= 70:\n",
    "    print(\"C\")\n",
    "    print(\"fail\")\n",
    "else:\n",
    "    print(\"D\")\n",
    "    print(\"fail\")"
   ]
  },
  {
   "cell_type": "code",
   "execution_count": 8,
   "id": "dbeab66d-0e01-4067-83b4-f1b8fc80b995",
   "metadata": {},
   "outputs": [
    {
     "ename": "IndexError",
     "evalue": "list index out of range",
     "output_type": "error",
     "traceback": [
      "\u001b[1;31m---------------------------------------------------------------------------\u001b[0m",
      "\u001b[1;31mIndexError\u001b[0m                                Traceback (most recent call last)",
      "\u001b[1;32m~\\AppData\\Local\\Temp/ipykernel_5572/2196853312.py\u001b[0m in \u001b[0;36m<module>\u001b[1;34m\u001b[0m\n\u001b[0;32m      1\u001b[0m \u001b[0mx\u001b[0m \u001b[1;33m=\u001b[0m \u001b[1;33m[\u001b[0m\u001b[1;36m1\u001b[0m\u001b[1;33m,\u001b[0m\u001b[1;36m2\u001b[0m\u001b[1;33m,\u001b[0m\u001b[1;36m3\u001b[0m\u001b[1;33m]\u001b[0m\u001b[1;33m\u001b[0m\u001b[1;33m\u001b[0m\u001b[0m\n\u001b[1;32m----> 2\u001b[1;33m \u001b[1;32mTrue\u001b[0m \u001b[1;32mand\u001b[0m \u001b[1;33m(\u001b[0m\u001b[0mx\u001b[0m\u001b[1;33m[\u001b[0m\u001b[1;36m4\u001b[0m\u001b[1;33m]\u001b[0m \u001b[1;33m==\u001b[0m \u001b[1;36m3\u001b[0m\u001b[1;33m)\u001b[0m\u001b[1;33m\u001b[0m\u001b[1;33m\u001b[0m\u001b[0m\n\u001b[0m",
      "\u001b[1;31mIndexError\u001b[0m: list index out of range"
     ]
    }
   ],
   "source": [
    "x = [1,2,3]\n",
    "True and (x[4] == 3)"
   ]
  },
  {
   "cell_type": "code",
   "execution_count": 13,
   "id": "c23a09a5-7809-427b-a37c-3f18ce5ccc35",
   "metadata": {},
   "outputs": [
    {
     "name": "stdin",
     "output_type": "stream",
     "text": [
      "환영합니다. 수치를 입력하세요. 11.2\n"
     ]
    },
    {
     "name": "stdout",
     "output_type": "stream",
     "text": [
      "실수입니다.\n"
     ]
    }
   ],
   "source": [
    "## 값을 입력받아서 정수이면 정수입니다. 실수이면 부동소수점입니다.\n",
    "welcome = \"환영합니다. 수치를 입력하세요.\"\n",
    "x = float(input(welcome))\n",
    "if int(x) == x:\n",
    "    print(\"정수입니다.\")\n",
    "else:\n",
    "    print(\"실수입니다.\")"
   ]
  },
  {
   "cell_type": "code",
   "execution_count": 14,
   "id": "787c3830-dc15-42e7-883b-df578cc6c251",
   "metadata": {},
   "outputs": [],
   "source": [
    "dt_kr = \"2022-02-04\"\n",
    "dt_us = \"02-04-2022\""
   ]
  },
  {
   "cell_type": "code",
   "execution_count": 23,
   "id": "2f1ce7e8-f6ad-4d0a-be95-5969765c34b2",
   "metadata": {},
   "outputs": [],
   "source": [
    "from datetime import datetime"
   ]
  },
  {
   "cell_type": "code",
   "execution_count": 28,
   "id": "4597e2b8-3bdf-4551-a674-498f221dac50",
   "metadata": {},
   "outputs": [
    {
     "name": "stdout",
     "output_type": "stream",
     "text": [
      "2022-2-4\n"
     ]
    }
   ],
   "source": [
    "yyyy = str(datetime.now().year)\n",
    "mm = str(datetime.now().month)\n",
    "dd = str(datetime.now().day)\n",
    "today = \"{}-{}-{}\".format(yyyy,mm,dd)\n",
    "print(today)"
   ]
  },
  {
   "cell_type": "code",
   "execution_count": 29,
   "id": "1e9f2cc4-0425-4db4-a050-ede3bf4535f6",
   "metadata": {},
   "outputs": [
    {
     "data": {
      "text/plain": [
       "49"
      ]
     },
     "execution_count": 29,
     "metadata": {},
     "output_type": "execute_result"
    }
   ],
   "source": [
    "datetime.now().hour\n",
    "datetime.now().minute\n",
    "datetime.now().second"
   ]
  },
  {
   "cell_type": "code",
   "execution_count": 39,
   "id": "a7d8654c-16c8-46a8-88c0-7251007cfd22",
   "metadata": {},
   "outputs": [],
   "source": [
    "def current_time(x=1):\n",
    "    if x == 0:\n",
    "        yyyy = datetime.now().year\n",
    "        mm = datetime.now().month\n",
    "        dd = datetime.now().day\n",
    "        print(\"오늘 날짜는 {}년 {}월 {}일입니다'\".format(yyyy,mm,dd))\n",
    "    else:\n",
    "        hr = datetime.now().hour\n",
    "        mi = datetime.now().minute\n",
    "        se = datetime.now().second\n",
    "        print(\"현재시간은 {}시 {}분 {}초입니다\".format(hr,mi,se))"
   ]
  },
  {
   "cell_type": "code",
   "execution_count": 41,
   "id": "32553249-bd54-4125-9438-bc7545996b1a",
   "metadata": {},
   "outputs": [
    {
     "name": "stdout",
     "output_type": "stream",
     "text": [
      "오늘 날짜는 2022년 2월 4일입니다'\n"
     ]
    }
   ],
   "source": [
    "current_time(0)"
   ]
  },
  {
   "cell_type": "code",
   "execution_count": 48,
   "id": "bc8ff1ba-4249-4f3e-a585-a8a94009b6d7",
   "metadata": {},
   "outputs": [
    {
     "name": "stdin",
     "output_type": "stream",
     "text": [
      "숫자를 입력하세요 11\n"
     ]
    },
    {
     "name": "stdout",
     "output_type": "stream",
     "text": [
      "홀수입니다 3로 나눈 몫은 2입니다\n"
     ]
    }
   ],
   "source": [
    "# 짝수이면 \"짝수\" 2로 나눈 몫을 함께출력, 홀수이면 \"홀수\" 3으로 나눈 나머지을 출력\n",
    "\n",
    "def judge_odds(x):\n",
    "    if x % 2 == 0:\n",
    "        print(\"짝수입니다 2로 나눈 몫은 {}입니다\".format(x//2))\n",
    "    else:\n",
    "        print(\"홀수입니다 3로 나눈 몫은 {}입니다\".format(x%3))\n",
    "\n",
    "x = int(input(\"숫자를 입력하세요\"))\n",
    "\n",
    "# if x % 2 == 0:\n",
    "#     print(\"짝수입니다 2로 나눈 몫은 {}입니다\".format(x//2))\n",
    "# else:\n",
    "#     print(\"홀수입니다 3로 나눈 몫은 {}입니다\".format(x%3))\n",
    "\n",
    "judge_odds(x)"
   ]
  },
  {
   "cell_type": "code",
   "execution_count": 49,
   "id": "3f86151b-f7b2-4d6f-9f9d-1dbbe7db1eb7",
   "metadata": {},
   "outputs": [
    {
     "name": "stdout",
     "output_type": "stream",
     "text": [
      "현재시간은 11시 34분 32초입니다\n"
     ]
    }
   ],
   "source": [
    "current_time(x)"
   ]
  },
  {
   "cell_type": "code",
   "execution_count": 50,
   "id": "6fe5885b-6375-4271-af00-8713115010a3",
   "metadata": {},
   "outputs": [],
   "source": [
    "if True:\n",
    "    pass"
   ]
  },
  {
   "cell_type": "code",
   "execution_count": 51,
   "id": "11b49914-6626-4134-aa4d-3079057a87f5",
   "metadata": {
    "collapsed": true,
    "jupyter": {
     "outputs_hidden": true
    },
    "tags": []
   },
   "outputs": [
    {
     "data": {
      "text/plain": [
       "['__add__',\n",
       " '__class__',\n",
       " '__contains__',\n",
       " '__delattr__',\n",
       " '__dir__',\n",
       " '__doc__',\n",
       " '__eq__',\n",
       " '__format__',\n",
       " '__ge__',\n",
       " '__getattribute__',\n",
       " '__getitem__',\n",
       " '__getnewargs__',\n",
       " '__gt__',\n",
       " '__hash__',\n",
       " '__init__',\n",
       " '__init_subclass__',\n",
       " '__iter__',\n",
       " '__le__',\n",
       " '__len__',\n",
       " '__lt__',\n",
       " '__mod__',\n",
       " '__mul__',\n",
       " '__ne__',\n",
       " '__new__',\n",
       " '__reduce__',\n",
       " '__reduce_ex__',\n",
       " '__repr__',\n",
       " '__rmod__',\n",
       " '__rmul__',\n",
       " '__setattr__',\n",
       " '__sizeof__',\n",
       " '__str__',\n",
       " '__subclasshook__',\n",
       " 'capitalize',\n",
       " 'casefold',\n",
       " 'center',\n",
       " 'count',\n",
       " 'encode',\n",
       " 'endswith',\n",
       " 'expandtabs',\n",
       " 'find',\n",
       " 'format',\n",
       " 'format_map',\n",
       " 'index',\n",
       " 'isalnum',\n",
       " 'isalpha',\n",
       " 'isascii',\n",
       " 'isdecimal',\n",
       " 'isdigit',\n",
       " 'isidentifier',\n",
       " 'islower',\n",
       " 'isnumeric',\n",
       " 'isprintable',\n",
       " 'isspace',\n",
       " 'istitle',\n",
       " 'isupper',\n",
       " 'join',\n",
       " 'ljust',\n",
       " 'lower',\n",
       " 'lstrip',\n",
       " 'maketrans',\n",
       " 'partition',\n",
       " 'replace',\n",
       " 'rfind',\n",
       " 'rindex',\n",
       " 'rjust',\n",
       " 'rpartition',\n",
       " 'rsplit',\n",
       " 'rstrip',\n",
       " 'split',\n",
       " 'splitlines',\n",
       " 'startswith',\n",
       " 'strip',\n",
       " 'swapcase',\n",
       " 'title',\n",
       " 'translate',\n",
       " 'upper',\n",
       " 'zfill']"
      ]
     },
     "execution_count": 51,
     "metadata": {},
     "output_type": "execute_result"
    }
   ],
   "source": [
    "x = 'abcd'\n",
    "dir(x)"
   ]
  },
  {
   "cell_type": "code",
   "execution_count": 52,
   "id": "e6c005b7-c600-43f3-87f6-2426e6b98f24",
   "metadata": {},
   "outputs": [],
   "source": [
    "li = [20, \"python\", True, False]"
   ]
  },
  {
   "cell_type": "code",
   "execution_count": 56,
   "id": "1eea1cae-b8aa-4a41-898f-72cbfa64e491",
   "metadata": {},
   "outputs": [
    {
     "data": {
      "text/plain": [
       "'python'"
      ]
     },
     "execution_count": 56,
     "metadata": {},
     "output_type": "execute_result"
    }
   ],
   "source": [
    "li[1]"
   ]
  },
  {
   "cell_type": "code",
   "execution_count": 54,
   "id": "fa809fa8-4a95-4e5d-8786-e2b8644f6d33",
   "metadata": {},
   "outputs": [],
   "source": [
    "li2 = [li, li]"
   ]
  },
  {
   "cell_type": "code",
   "execution_count": 55,
   "id": "86608e73-0bfe-453c-aa0f-902e1842f892",
   "metadata": {},
   "outputs": [
    {
     "data": {
      "text/plain": [
       "[[20, 'python', True, False], [20, 'python', True, False]]"
      ]
     },
     "execution_count": 55,
     "metadata": {},
     "output_type": "execute_result"
    }
   ],
   "source": [
    "li2"
   ]
  },
  {
   "cell_type": "code",
   "execution_count": 58,
   "id": "2733686b-b14c-4e89-9573-fff18d82c02e",
   "metadata": {},
   "outputs": [
    {
     "data": {
      "text/plain": [
       "['python']"
      ]
     },
     "execution_count": 58,
     "metadata": {},
     "output_type": "execute_result"
    }
   ],
   "source": [
    "li1 = [\"python\"]\n",
    "li1"
   ]
  },
  {
   "cell_type": "code",
   "execution_count": 64,
   "id": "443cc59e-75a3-4e41-b8e2-8f60ac5428e1",
   "metadata": {},
   "outputs": [],
   "source": [
    "a = [1,2,3,4,5,6,7,8,9,10,11,12,13]"
   ]
  },
  {
   "cell_type": "code",
   "execution_count": 65,
   "id": "47646e31-dbc5-41ab-8661-179716e3f21f",
   "metadata": {},
   "outputs": [
    {
     "data": {
      "text/plain": [
       "13"
      ]
     },
     "execution_count": 65,
     "metadata": {},
     "output_type": "execute_result"
    }
   ],
   "source": [
    "len(a)"
   ]
  },
  {
   "cell_type": "code",
   "execution_count": 67,
   "id": "4e273a35-f6b2-43ee-8505-9ec10539732a",
   "metadata": {},
   "outputs": [],
   "source": [
    "a = list(range(1,30,2))"
   ]
  },
  {
   "cell_type": "code",
   "execution_count": 71,
   "id": "2b8b36a0-e291-4c4b-bc1d-dbf1590a2d6a",
   "metadata": {},
   "outputs": [],
   "source": [
    "a.append(31)"
   ]
  },
  {
   "cell_type": "code",
   "execution_count": 72,
   "id": "b95f01b8-7658-4f5d-b39b-2e591c6fedc1",
   "metadata": {},
   "outputs": [
    {
     "data": {
      "text/plain": [
       "17"
      ]
     },
     "execution_count": 72,
     "metadata": {},
     "output_type": "execute_result"
    }
   ],
   "source": [
    "len(a)"
   ]
  },
  {
   "cell_type": "code",
   "execution_count": 74,
   "id": "c8505db9-8199-4b95-a706-a4c90574803e",
   "metadata": {},
   "outputs": [],
   "source": [
    "a.insert(len(a), 33) # 해당 위치에 값을 추가\n",
    "a[ind] ## ind는 인덱스 (하나의 값, 슬라이스)"
   ]
  },
  {
   "cell_type": "code",
   "execution_count": 75,
   "id": "13467b71-c42d-4757-adf2-1c562b2b953c",
   "metadata": {},
   "outputs": [
    {
     "data": {
      "text/plain": [
       "[1, 3, 5, 7, 9, 11, 13, 15, 17, 19, 21, 23, 25, 27, 29, 31, 31, 33]"
      ]
     },
     "execution_count": 75,
     "metadata": {},
     "output_type": "execute_result"
    }
   ],
   "source": [
    "a"
   ]
  },
  {
   "cell_type": "code",
   "execution_count": 76,
   "id": "dc46b4a7-c575-488d-9210-d75c65b727d5",
   "metadata": {},
   "outputs": [
    {
     "ename": "IndexError",
     "evalue": "list assignment index out of range",
     "output_type": "error",
     "traceback": [
      "\u001b[1;31m---------------------------------------------------------------------------\u001b[0m",
      "\u001b[1;31mIndexError\u001b[0m                                Traceback (most recent call last)",
      "\u001b[1;32m~\\AppData\\Local\\Temp/ipykernel_5572/3377438083.py\u001b[0m in \u001b[0;36m<module>\u001b[1;34m\u001b[0m\n\u001b[1;32m----> 1\u001b[1;33m \u001b[1;32mdel\u001b[0m \u001b[0ma\u001b[0m\u001b[1;33m[\u001b[0m\u001b[1;36m31\u001b[0m\u001b[1;33m]\u001b[0m\u001b[1;33m\u001b[0m\u001b[1;33m\u001b[0m\u001b[0m\n\u001b[0m",
      "\u001b[1;31mIndexError\u001b[0m: list assignment index out of range"
     ]
    }
   ],
   "source": [
    "del a[31]"
   ]
  },
  {
   "cell_type": "code",
   "execution_count": 77,
   "id": "d6e4c712-9294-4dcb-874a-3005597f8fa4",
   "metadata": {},
   "outputs": [
    {
     "ename": "SyntaxError",
     "evalue": "can't delete function call (Temp/ipykernel_5572/180813433.py, line 1)",
     "output_type": "error",
     "traceback": [
      "\u001b[1;36m  File \u001b[1;32m\"C:\\Users\\user\\AppData\\Local\\Temp/ipykernel_5572/180813433.py\"\u001b[1;36m, line \u001b[1;32m1\u001b[0m\n\u001b[1;33m    del a(31)\u001b[0m\n\u001b[1;37m       ^\u001b[0m\n\u001b[1;31mSyntaxError\u001b[0m\u001b[1;31m:\u001b[0m can't delete function call\n"
     ]
    }
   ],
   "source": [
    "del a(31)"
   ]
  },
  {
   "cell_type": "code",
   "execution_count": 78,
   "id": "7892b781-d188-48d8-8c14-dbdaf5606b7c",
   "metadata": {},
   "outputs": [],
   "source": [
    "a.extend(range(35,46,2))"
   ]
  },
  {
   "cell_type": "code",
   "execution_count": 79,
   "id": "74e6f6b0-aa16-4822-b237-69ea4faee100",
   "metadata": {},
   "outputs": [
    {
     "data": {
      "text/plain": [
       "[1,\n",
       " 3,\n",
       " 5,\n",
       " 7,\n",
       " 9,\n",
       " 11,\n",
       " 13,\n",
       " 15,\n",
       " 17,\n",
       " 19,\n",
       " 21,\n",
       " 23,\n",
       " 25,\n",
       " 27,\n",
       " 29,\n",
       " 31,\n",
       " 31,\n",
       " 33,\n",
       " 35,\n",
       " 37,\n",
       " 39,\n",
       " 41,\n",
       " 43,\n",
       " 45]"
      ]
     },
     "execution_count": 79,
     "metadata": {},
     "output_type": "execute_result"
    }
   ],
   "source": [
    "a"
   ]
  },
  {
   "cell_type": "code",
   "execution_count": 82,
   "id": "43c83a51-ced7-4fe3-96de-78a240368b04",
   "metadata": {},
   "outputs": [
    {
     "data": {
      "text/plain": [
       "[1, 3, 5, 7, 9, 11, 13, 15, 17, 19, 21, 23, 25, 27, 29, 31, 31, 33, 35, 37]"
      ]
     },
     "execution_count": 82,
     "metadata": {},
     "output_type": "execute_result"
    }
   ],
   "source": [
    "a[0:20]"
   ]
  },
  {
   "cell_type": "code",
   "execution_count": 83,
   "id": "d96942ec-c429-42b2-b63f-76cf654a02a5",
   "metadata": {},
   "outputs": [
    {
     "data": {
      "text/plain": [
       "1"
      ]
     },
     "execution_count": 83,
     "metadata": {},
     "output_type": "execute_result"
    }
   ],
   "source": [
    "a[0]"
   ]
  },
  {
   "cell_type": "code",
   "execution_count": 84,
   "id": "8e67ab24-674c-4dbb-b404-5899c211c0b2",
   "metadata": {},
   "outputs": [],
   "source": [
    "a.remove(31) #값"
   ]
  },
  {
   "cell_type": "code",
   "execution_count": 89,
   "id": "f1f090f9-8fcf-469f-8770-d1350cf60330",
   "metadata": {},
   "outputs": [
    {
     "data": {
      "text/plain": [
       "45"
      ]
     },
     "execution_count": 89,
     "metadata": {},
     "output_type": "execute_result"
    }
   ],
   "source": [
    "a.pop() #위치정보"
   ]
  },
  {
   "cell_type": "code",
   "execution_count": 90,
   "id": "dad71a20-3977-4f89-867f-08acbae15ca4",
   "metadata": {},
   "outputs": [
    {
     "data": {
      "text/plain": [
       "[1,\n",
       " 3,\n",
       " 5,\n",
       " 7,\n",
       " 9,\n",
       " 11,\n",
       " 13,\n",
       " 15,\n",
       " 17,\n",
       " 19,\n",
       " 21,\n",
       " 23,\n",
       " 25,\n",
       " 27,\n",
       " 29,\n",
       " 31,\n",
       " 33,\n",
       " 35,\n",
       " 37,\n",
       " 39,\n",
       " 41,\n",
       " 43]"
      ]
     },
     "execution_count": 90,
     "metadata": {},
     "output_type": "execute_result"
    }
   ],
   "source": [
    "a"
   ]
  },
  {
   "cell_type": "code",
   "execution_count": 91,
   "id": "1ff23058-61b8-4b39-a5fb-35fdd1d78310",
   "metadata": {},
   "outputs": [],
   "source": [
    "del a[0:3]"
   ]
  },
  {
   "cell_type": "code",
   "execution_count": 92,
   "id": "993f4d27-b2a1-4ea6-9d23-ae4345fab876",
   "metadata": {},
   "outputs": [
    {
     "data": {
      "text/plain": [
       "[7, 9, 11, 13, 15, 17, 19, 21, 23, 25, 27, 29, 31, 33, 35, 37, 39, 41, 43]"
      ]
     },
     "execution_count": 92,
     "metadata": {},
     "output_type": "execute_result"
    }
   ],
   "source": [
    "a"
   ]
  },
  {
   "cell_type": "code",
   "execution_count": 94,
   "id": "0de905d2-ed78-4253-ac1c-7df88bc4b970",
   "metadata": {},
   "outputs": [
    {
     "data": {
      "text/plain": [
       "True"
      ]
     },
     "execution_count": 94,
     "metadata": {},
     "output_type": "execute_result"
    }
   ],
   "source": [
    "\"H\" in \"Hello Python\""
   ]
  },
  {
   "cell_type": "code",
   "execution_count": 96,
   "id": "b9860a27-9bb4-4752-93a6-247527cdc11b",
   "metadata": {},
   "outputs": [
    {
     "data": {
      "text/plain": [
       "True"
      ]
     },
     "execution_count": 96,
     "metadata": {},
     "output_type": "execute_result"
    }
   ],
   "source": [
    "12 not in [1,2,3,4,5]"
   ]
  },
  {
   "cell_type": "code",
   "execution_count": 114,
   "id": "541b8642-4998-4622-9945-655965426469",
   "metadata": {
    "tags": []
   },
   "outputs": [
    {
     "name": "stdout",
     "output_type": "stream",
     "text": [
      "뽑아온 값0 합한 값0\n",
      "뽑아온 값1 합한 값1\n",
      "뽑아온 값2 합한 값3\n",
      "뽑아온 값3 합한 값6\n",
      "뽑아온 값4 합한 값10\n",
      "뽑아온 값5 합한 값15\n",
      "뽑아온 값6 합한 값21\n",
      "뽑아온 값7 합한 값28\n",
      "뽑아온 값8 합한 값36\n",
      "뽑아온 값9 합한 값45\n"
     ]
    }
   ],
   "source": [
    "### i 라는 문자를 20번 찍기\n",
    "# 반복객체 = list(range(5,25))\n",
    "# for ind, value in enumerate(반복객체):\n",
    "#     print(\"i\", \"인덱스는 {}, 값은 {}\".format(ind,value))\n",
    "\n",
    "## k 20번 찍기\n",
    "# for i in \"a\"*20:\n",
    "#     print(\"k\")\n",
    "\n",
    "s = 0\n",
    "for i in range(10):\n",
    "    s += i\n",
    "    print(\"뽑아온 값{} 합한 값{}\".format(i, s))"
   ]
  },
  {
   "cell_type": "code",
   "execution_count": 108,
   "id": "5fc5f48f-e2f5-4675-9575-cd40cbc96e63",
   "metadata": {
    "collapsed": true,
    "jupyter": {
     "outputs_hidden": true
    },
    "tags": []
   },
   "outputs": [
    {
     "name": "stdout",
     "output_type": "stream",
     "text": [
      "0\n",
      "24\n",
      "1\n",
      "24\n",
      "2\n",
      "24\n",
      "3\n",
      "24\n",
      "4\n",
      "24\n",
      "5\n",
      "24\n",
      "6\n",
      "24\n",
      "7\n",
      "24\n",
      "8\n",
      "24\n",
      "9\n",
      "24\n",
      "10\n",
      "24\n",
      "11\n",
      "24\n",
      "12\n",
      "24\n",
      "13\n",
      "24\n",
      "14\n",
      "24\n",
      "15\n",
      "24\n",
      "16\n",
      "24\n",
      "17\n",
      "24\n",
      "18\n",
      "24\n",
      "19\n",
      "24\n"
     ]
    }
   ],
   "source": [
    "for i, v in enumerate(반복객체): # i는 인덱스 v는 값\n",
    "    print(i)\n",
    "    print(z)"
   ]
  },
  {
   "cell_type": "code",
   "execution_count": 115,
   "id": "772d3144-4061-4eba-99ef-b8ade4a43bf3",
   "metadata": {},
   "outputs": [
    {
     "data": {
      "text/plain": [
       "[0, 1, 2, 3, 4, 5, 6, 7, 8, 9]"
      ]
     },
     "execution_count": 115,
     "metadata": {},
     "output_type": "execute_result"
    }
   ],
   "source": [
    "a = list(range(10))\n",
    "a"
   ]
  },
  {
   "cell_type": "code",
   "execution_count": 120,
   "id": "cd3bb637-ea68-4dcb-b5bd-bbff2b2b1cf4",
   "metadata": {},
   "outputs": [
    {
     "data": {
      "text/plain": [
       "[0, 1, 2, 3, 4, 5, 6, 7, 8, 9]"
      ]
     },
     "execution_count": 120,
     "metadata": {},
     "output_type": "execute_result"
    }
   ],
   "source": [
    "b = list()\n",
    "for i in range(10):\n",
    "    b.append(i)\n",
    "b"
   ]
  },
  {
   "cell_type": "code",
   "execution_count": 130,
   "id": "77ae75a6-3821-40b3-affe-255e816e0fc2",
   "metadata": {},
   "outputs": [],
   "source": [
    "a = list(range(1, 100))"
   ]
  },
  {
   "cell_type": "code",
   "execution_count": 131,
   "id": "cb2f6d7c-0c7d-44f4-937e-dd9d3eaf41d8",
   "metadata": {},
   "outputs": [],
   "source": [
    "b = []\n",
    "for k,v in enumerate(a):\n",
    "    # if i % 2 == 0:\n",
    "    b.append(a.pop(k))"
   ]
  },
  {
   "cell_type": "code",
   "execution_count": 142,
   "id": "44710018-d79f-4661-9d67-e0745c3f197e",
   "metadata": {},
   "outputs": [],
   "source": [
    "# for i in range(2,10):\n",
    "#     for j in range(1,10):\n",
    "#         print(f'{i}x{j} = {i*j}')"
   ]
  },
  {
   "cell_type": "code",
   "execution_count": 145,
   "id": "737905a4-d4d4-4a8c-989b-5f8a3b2fda02",
   "metadata": {},
   "outputs": [
    {
     "data": {
      "text/plain": [
       "120"
      ]
     },
     "execution_count": 145,
     "metadata": {},
     "output_type": "execute_result"
    }
   ],
   "source": [
    "f = 1\n",
    "for i in range(1,6):\n",
    "    f *= i\n",
    "f"
   ]
  },
  {
   "cell_type": "code",
   "execution_count": 150,
   "id": "fd40aa21-248d-4e3d-a232-64dbe7f5bcac",
   "metadata": {},
   "outputs": [
    {
     "name": "stdout",
     "output_type": "stream",
     "text": [
      "- 100 이상의 수: 273은 0번째 인덱스에 있습니다.\n",
      "- 100 이상의 수: 103은 1번째 인덱스에 있습니다.\n",
      "- 100 이상의 수: 800은 7번째 인덱스에 있습니다.\n"
     ]
    }
   ],
   "source": [
    "numbers = [273,103,5,32,65,9,72,800,99]\n",
    "i = 0\n",
    "for number in numbers:\n",
    "    if number >= 100:\n",
    "        print(f'- 100 이상의 수: {number}은 {i}번째 인덱스에 있습니다.')\n",
    "    i += 1"
   ]
  },
  {
   "cell_type": "code",
   "execution_count": 152,
   "id": "11827139-56c5-406b-abba-bafd74992246",
   "metadata": {},
   "outputs": [
    {
     "name": "stdout",
     "output_type": "stream",
     "text": [
      "- 100 이상의 수: 273은 0번째 인덱스에 있습니다.\n",
      "- 100 이상의 수: 103은 1번째 인덱스에 있습니다.\n",
      "- 100 이상의 수: 800은 7번째 인덱스에 있습니다.\n"
     ]
    }
   ],
   "source": [
    "for k,number in enumerate(numbers):\n",
    "    if number >= 100:\n",
    "        print(f'- 100 이상의 수: {number}은 {k}번째 인덱스에 있습니다.')"
   ]
  },
  {
   "cell_type": "code",
   "execution_count": 179,
   "id": "dfca2352-b54d-4f1e-af8c-1b14af3b8764",
   "metadata": {},
   "outputs": [
    {
     "name": "stdout",
     "output_type": "stream",
     "text": [
      "1\n",
      "2\n",
      "3\n",
      "4\n",
      "5\n",
      "6\n",
      "7\n",
      "8\n",
      "9\n"
     ]
    }
   ],
   "source": [
    "list_of_list = [[1,2,3], [4,5,6,7,],[8,9],]\n",
    "\n",
    "# a = []\n",
    "# for i in list_of_list:\n",
    "#     a.extend(i)\n",
    "# for i in a:\n",
    "#     print(i)\n",
    "\n",
    "\n",
    "for i in list_of_list:\n",
    "    for j in i:\n",
    "        print(j)"
   ]
  },
  {
   "cell_type": "code",
   "execution_count": 186,
   "id": "33a2c26c-8c51-4666-9e73-f3da481cf47a",
   "metadata": {},
   "outputs": [],
   "source": [
    "a = list(range(10))"
   ]
  },
  {
   "cell_type": "code",
   "execution_count": 200,
   "id": "92da4306-c393-4373-98dc-3e089a0e19b7",
   "metadata": {},
   "outputs": [
    {
     "data": {
      "text/plain": [
       "[0, 8, 16, 24, 32, 40, 48, 56, 64, 72]"
      ]
     },
     "execution_count": 200,
     "metadata": {},
     "output_type": "execute_result"
    }
   ],
   "source": [
    "b = []\n",
    "for i in a:\n",
    "    b.append(i*2)\n",
    "b"
   ]
  },
  {
   "cell_type": "code",
   "execution_count": 201,
   "id": "3ac7d27a-3111-401e-b93b-ff2c4a0e7424",
   "metadata": {},
   "outputs": [],
   "source": [
    "a = list(range(10))"
   ]
  },
  {
   "cell_type": "code",
   "execution_count": 202,
   "id": "dd995d8c-7598-4730-b373-247668aa903e",
   "metadata": {},
   "outputs": [
    {
     "data": {
      "text/plain": [
       "[0, 2, 4, 6, 8, 10, 12, 14, 16, 18]"
      ]
     },
     "execution_count": 202,
     "metadata": {},
     "output_type": "execute_result"
    }
   ],
   "source": [
    "for k,v in enumerate(a):\n",
    "    a[k] = v*2\n",
    "a"
   ]
  },
  {
   "cell_type": "code",
   "execution_count": 203,
   "id": "49940569-465e-436c-8c09-144e36254576",
   "metadata": {},
   "outputs": [],
   "source": [
    "a = [v*2 for k,v in enumerate(a)]"
   ]
  },
  {
   "cell_type": "code",
   "execution_count": 204,
   "id": "36653ace-485d-4820-abfc-05ad0381d3b9",
   "metadata": {},
   "outputs": [
    {
     "data": {
      "text/plain": [
       "[0, 4, 8, 12, 16, 20, 24, 28, 32, 36]"
      ]
     },
     "execution_count": 204,
     "metadata": {},
     "output_type": "execute_result"
    }
   ],
   "source": [
    "a"
   ]
  },
  {
   "cell_type": "code",
   "execution_count": 205,
   "id": "08d00d55-c39e-47ee-998a-dfdd55e0afbb",
   "metadata": {},
   "outputs": [],
   "source": [
    "a = {\"one\":1,\"two\":2}"
   ]
  },
  {
   "cell_type": "code",
   "execution_count": 206,
   "id": "7995bad9-2b93-42ed-98ef-2b216aa96579",
   "metadata": {},
   "outputs": [],
   "source": [
    "a[\"three\"] = 3"
   ]
  },
  {
   "cell_type": "code",
   "execution_count": 207,
   "id": "5505042b-182b-4920-914d-bbdef2c5da7c",
   "metadata": {},
   "outputs": [
    {
     "data": {
      "text/plain": [
       "{'one': 1, 'two': 2, 'three': 3}"
      ]
     },
     "execution_count": 207,
     "metadata": {},
     "output_type": "execute_result"
    }
   ],
   "source": [
    "a"
   ]
  },
  {
   "cell_type": "code",
   "execution_count": 213,
   "id": "b9a1d4a3-1bae-47a7-9802-95c5e4b4f235",
   "metadata": {},
   "outputs": [
    {
     "data": {
      "text/plain": [
       "dict_items([('one', 1), ('two', 2), ('three', 3)])"
      ]
     },
     "execution_count": 213,
     "metadata": {},
     "output_type": "execute_result"
    }
   ],
   "source": [
    "a.items()"
   ]
  },
  {
   "cell_type": "code",
   "execution_count": 214,
   "id": "faf5c1f0-3f6c-4ca6-94d0-1e20420b0cc1",
   "metadata": {},
   "outputs": [],
   "source": [
    "dictionary = {\n",
    "    \"name\":\"7D 건조망고\", \n",
    "    \"type\":\"당절임\",\n",
    "    \"ingredient\":[\"망고\",\"설탕\",\"메타중아황산나트륨\",\"치자황색소\"],\n",
    "    \"origin\":\"필리핀\"\n",
    "}"
   ]
  },
  {
   "cell_type": "code",
   "execution_count": 215,
   "id": "0ee67abe-2d29-4843-b860-81bded6e2a26",
   "metadata": {},
   "outputs": [],
   "source": [
    "dictionary.get(\"존재하지않는키\") # 에러를 출력하지 않음"
   ]
  },
  {
   "cell_type": "code",
   "execution_count": 216,
   "id": "5ce3d0c6-e6a9-4c5e-a0f7-e4788cc6ed6b",
   "metadata": {},
   "outputs": [
    {
     "ename": "KeyError",
     "evalue": "'존재하지않는키'",
     "output_type": "error",
     "traceback": [
      "\u001b[1;31m---------------------------------------------------------------------------\u001b[0m",
      "\u001b[1;31mKeyError\u001b[0m                                  Traceback (most recent call last)",
      "\u001b[1;32m~\\AppData\\Local\\Temp/ipykernel_5572/2449219071.py\u001b[0m in \u001b[0;36m<module>\u001b[1;34m\u001b[0m\n\u001b[1;32m----> 1\u001b[1;33m \u001b[0mdictionary\u001b[0m\u001b[1;33m[\u001b[0m\u001b[1;34m\"존재하지않는키\"\u001b[0m\u001b[1;33m]\u001b[0m\u001b[1;33m\u001b[0m\u001b[1;33m\u001b[0m\u001b[0m\n\u001b[0m",
      "\u001b[1;31mKeyError\u001b[0m: '존재하지않는키'"
     ]
    }
   ],
   "source": [
    "dictionary[\"존재하지않는키\"] # 에러 출력"
   ]
  },
  {
   "cell_type": "code",
   "execution_count": 218,
   "id": "50baaef7-d33d-40a4-a77a-a1b9ebb0cf37",
   "metadata": {},
   "outputs": [],
   "source": [
    "s = 0\n",
    "for i in range(10):\n",
    "    dictionary.get(\"존재하지않는키\")\n",
    "    s += i"
   ]
  },
  {
   "cell_type": "code",
   "execution_count": 222,
   "id": "08f86afa-1b21-4c07-8227-5a72936e68de",
   "metadata": {},
   "outputs": [
    {
     "name": "stdout",
     "output_type": "stream",
     "text": [
      "name 7D 건조망고\n",
      "type 당절임\n",
      "ingredient ['망고', '설탕', '메타중아황산나트륨', '치자황색소']\n",
      "origin 필리핀\n"
     ]
    }
   ],
   "source": [
    "for k,v in dictionary.items():\n",
    "    print(k,v)"
   ]
  },
  {
   "cell_type": "code",
   "execution_count": 223,
   "id": "05d203c4-4dd7-4bbe-870e-02f4c48d9da4",
   "metadata": {},
   "outputs": [],
   "source": [
    "def multi(x,y):\n",
    "    return x*y"
   ]
  },
  {
   "cell_type": "code",
   "execution_count": 224,
   "id": "ab28ad5e-a456-4451-abc1-4dade8c72c31",
   "metadata": {},
   "outputs": [],
   "source": [
    "dic = {\"x\":3,\"y\":2}"
   ]
  },
  {
   "cell_type": "code",
   "execution_count": 225,
   "id": "562992d6-dd69-4987-874f-9a70293d98b8",
   "metadata": {},
   "outputs": [
    {
     "data": {
      "text/plain": [
       "{'x': 3, 'y': 2}"
      ]
     },
     "execution_count": 225,
     "metadata": {},
     "output_type": "execute_result"
    }
   ],
   "source": [
    "dic"
   ]
  },
  {
   "cell_type": "code",
   "execution_count": 226,
   "id": "69f6548d-bd5a-4da0-ae69-4d42c58b89a1",
   "metadata": {},
   "outputs": [
    {
     "data": {
      "text/plain": [
       "6"
      ]
     },
     "execution_count": 226,
     "metadata": {},
     "output_type": "execute_result"
    }
   ],
   "source": [
    "multi(**dic)"
   ]
  },
  {
   "cell_type": "code",
   "execution_count": 256,
   "id": "a871d607-9766-4bfb-aee1-b88affd79aa5",
   "metadata": {},
   "outputs": [
    {
     "name": "stdout",
     "output_type": "stream",
     "text": [
      "{1: 3, 2: 4, 6: 1, 8: 2, 4: 3, 3: 3, 9: 3, 5: 2, 7: 2}\n"
     ]
    }
   ],
   "source": [
    "numbers = [1,2,6,8,4,3,2,1,9,5,4,9,7,2,1,3,5,4,8,9,7,2,3]\n",
    "count = {}\n",
    "\n",
    "for number in numbers:\n",
    "    count[number] = numbers.count(number)\n",
    "print(count)"
   ]
  },
  {
   "cell_type": "code",
   "execution_count": 254,
   "id": "90bf5d27-c71c-4695-a087-3a43d5d38f25",
   "metadata": {},
   "outputs": [],
   "source": [
    "count = {number:numbers.count(number) for number in numbers}"
   ]
  },
  {
   "cell_type": "code",
   "execution_count": 263,
   "id": "a61285f7-f3be-4677-b683-c5ed7d9204bd",
   "metadata": {},
   "outputs": [],
   "source": [
    "numbers = [1,2,6,8,4,3,2,1,9,5,4,9,7,2,1,3,5,4,8,9,7,2,3]\n",
    "count = {}\n",
    "\n",
    "for number in numbers:\n",
    "    if count.get(number) == None:\n",
    "        count[number] = 1\n",
    "    else:\n",
    "        count[number] = count[number] + 1"
   ]
  },
  {
   "cell_type": "code",
   "execution_count": 264,
   "id": "e3226c10-f420-4ad1-9f74-f0589295beec",
   "metadata": {},
   "outputs": [
    {
     "data": {
      "text/plain": [
       "{1: 3, 2: 4, 6: 1, 8: 2, 4: 3, 3: 3, 9: 3, 5: 2, 7: 2}"
      ]
     },
     "execution_count": 264,
     "metadata": {},
     "output_type": "execute_result"
    }
   ],
   "source": [
    "count"
   ]
  },
  {
   "cell_type": "code",
   "execution_count": 265,
   "id": "24d7196e-d480-4a79-906e-11b9aff65735",
   "metadata": {},
   "outputs": [],
   "source": [
    "character = {\n",
    "    \"name\": \"기사\",\n",
    "    \"level\": 12,\n",
    "    \"items\": {\n",
    "        \"sword\": \"불꽃의 검\",\n",
    "        \"armor\": \"풀플레이트\"\n",
    "    },\n",
    "    \"skill\": [\"베기\", \"세게 베기\", \"아주 세게 베기\"]\n",
    "}"
   ]
  },
  {
   "cell_type": "code",
   "execution_count": 293,
   "id": "6c2068e4-a8d0-42cc-aea3-dbf26123ff5c",
   "metadata": {},
   "outputs": [
    {
     "name": "stdout",
     "output_type": "stream",
     "text": [
      "name : 기사\n",
      "level : 12\n",
      "sword : 불꽃의 검\n",
      "armor : 풀플레이트\n",
      "skill : 베기\n",
      "skill : 세게 베기\n",
      "skill : 아주 세게 베기\n"
     ]
    }
   ],
   "source": [
    "for key in character:\n",
    "    if type(character[key]) == str or type(character[key]) == int:\n",
    "        print(f'{key} : {character[key]}')\n",
    "    elif type(character[key]) == dict:\n",
    "        for k,v in character[key].items():\n",
    "            print(f'{k} : {v}')\n",
    "    else:\n",
    "        for i in character[key]:\n",
    "            print(f'{key} : {i}')"
   ]
  },
  {
   "cell_type": "code",
   "execution_count": null,
   "id": "a5f0d94d-5878-4431-8519-2e0c311cb974",
   "metadata": {},
   "outputs": [],
   "source": []
  }
 ],
 "metadata": {
  "kernelspec": {
   "display_name": "bku",
   "language": "python",
   "name": "bku"
  },
  "language_info": {
   "codemirror_mode": {
    "name": "ipython",
    "version": 3
   },
   "file_extension": ".py",
   "mimetype": "text/x-python",
   "name": "python",
   "nbconvert_exporter": "python",
   "pygments_lexer": "ipython3",
   "version": "3.7.11"
  }
 },
 "nbformat": 4,
 "nbformat_minor": 5
}
