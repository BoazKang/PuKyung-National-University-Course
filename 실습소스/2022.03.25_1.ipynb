{
 "cells": [
  {
   "cell_type": "code",
   "execution_count": 199,
   "id": "8bfc6a34-fa3d-4841-a32c-7aabab2f88f6",
   "metadata": {},
   "outputs": [],
   "source": [
    "import pandas as pd\n",
    "import numpy as np\n",
    "%matplotlib inline\n",
    "import matplotlib.pyplot as plt\n",
    "import re\n",
    "from datetime import datetime\n",
    "import seaborn as sns\n",
    "from pandas_datareader import data\n",
    "import pandas_profiling\n",
    "planets = sns.load_dataset('planets')\n",
    "titanic = sns.load_dataset('titanic')"
   ]
  },
  {
   "cell_type": "code",
   "execution_count": 2,
   "id": "83afb56c-f99b-4d3c-bd4f-bd1080983c07",
   "metadata": {},
   "outputs": [],
   "source": [
    "month = np.array(list(range(1,13))*10)\n",
    "amount = np.random.randint(0,100,size=month.size)"
   ]
  },
  {
   "cell_type": "code",
   "execution_count": 3,
   "id": "1369f4c2-30c6-4d4f-a604-30a2525114e8",
   "metadata": {},
   "outputs": [
    {
     "data": {
      "text/html": [
       "<div>\n",
       "<style scoped>\n",
       "    .dataframe tbody tr th:only-of-type {\n",
       "        vertical-align: middle;\n",
       "    }\n",
       "\n",
       "    .dataframe tbody tr th {\n",
       "        vertical-align: top;\n",
       "    }\n",
       "\n",
       "    .dataframe thead th {\n",
       "        text-align: right;\n",
       "    }\n",
       "</style>\n",
       "<table border=\"1\" class=\"dataframe\">\n",
       "  <thead>\n",
       "    <tr style=\"text-align: right;\">\n",
       "      <th></th>\n",
       "      <th>month</th>\n",
       "      <th>amount</th>\n",
       "    </tr>\n",
       "  </thead>\n",
       "  <tbody>\n",
       "    <tr>\n",
       "      <th>0</th>\n",
       "      <td>1</td>\n",
       "      <td>71</td>\n",
       "    </tr>\n",
       "    <tr>\n",
       "      <th>1</th>\n",
       "      <td>2</td>\n",
       "      <td>92</td>\n",
       "    </tr>\n",
       "    <tr>\n",
       "      <th>2</th>\n",
       "      <td>3</td>\n",
       "      <td>94</td>\n",
       "    </tr>\n",
       "    <tr>\n",
       "      <th>3</th>\n",
       "      <td>4</td>\n",
       "      <td>57</td>\n",
       "    </tr>\n",
       "    <tr>\n",
       "      <th>4</th>\n",
       "      <td>5</td>\n",
       "      <td>42</td>\n",
       "    </tr>\n",
       "    <tr>\n",
       "      <th>5</th>\n",
       "      <td>6</td>\n",
       "      <td>50</td>\n",
       "    </tr>\n",
       "    <tr>\n",
       "      <th>6</th>\n",
       "      <td>7</td>\n",
       "      <td>20</td>\n",
       "    </tr>\n",
       "    <tr>\n",
       "      <th>7</th>\n",
       "      <td>8</td>\n",
       "      <td>53</td>\n",
       "    </tr>\n",
       "    <tr>\n",
       "      <th>8</th>\n",
       "      <td>9</td>\n",
       "      <td>18</td>\n",
       "    </tr>\n",
       "    <tr>\n",
       "      <th>9</th>\n",
       "      <td>10</td>\n",
       "      <td>75</td>\n",
       "    </tr>\n",
       "    <tr>\n",
       "      <th>10</th>\n",
       "      <td>11</td>\n",
       "      <td>35</td>\n",
       "    </tr>\n",
       "    <tr>\n",
       "      <th>11</th>\n",
       "      <td>12</td>\n",
       "      <td>13</td>\n",
       "    </tr>\n",
       "  </tbody>\n",
       "</table>\n",
       "</div>"
      ],
      "text/plain": [
       "    month  amount\n",
       "0       1      71\n",
       "1       2      92\n",
       "2       3      94\n",
       "3       4      57\n",
       "4       5      42\n",
       "5       6      50\n",
       "6       7      20\n",
       "7       8      53\n",
       "8       9      18\n",
       "9      10      75\n",
       "10     11      35\n",
       "11     12      13"
      ]
     },
     "execution_count": 3,
     "metadata": {},
     "output_type": "execute_result"
    }
   ],
   "source": [
    "df = pd.DataFrame(np.c_[month, amount], columns=['month','amount'])\n",
    "df.head(12)"
   ]
  },
  {
   "cell_type": "code",
   "execution_count": 4,
   "id": "fdaabb80-3a44-40bd-98db-992531b2fc48",
   "metadata": {},
   "outputs": [],
   "source": [
    "name = np.random.choice(np.array(['A','B','C']), size=month.size)\n",
    "df['name'] = name"
   ]
  },
  {
   "cell_type": "code",
   "execution_count": 5,
   "id": "fbe1d500-2620-46f5-b49c-24598dc4cc0c",
   "metadata": {},
   "outputs": [
    {
     "data": {
      "text/html": [
       "<div>\n",
       "<style scoped>\n",
       "    .dataframe tbody tr th:only-of-type {\n",
       "        vertical-align: middle;\n",
       "    }\n",
       "\n",
       "    .dataframe tbody tr th {\n",
       "        vertical-align: top;\n",
       "    }\n",
       "\n",
       "    .dataframe thead th {\n",
       "        text-align: right;\n",
       "    }\n",
       "</style>\n",
       "<table border=\"1\" class=\"dataframe\">\n",
       "  <thead>\n",
       "    <tr style=\"text-align: right;\">\n",
       "      <th></th>\n",
       "      <th>month</th>\n",
       "      <th>amount</th>\n",
       "      <th>name</th>\n",
       "    </tr>\n",
       "  </thead>\n",
       "  <tbody>\n",
       "    <tr>\n",
       "      <th>0</th>\n",
       "      <td>1</td>\n",
       "      <td>71</td>\n",
       "      <td>B</td>\n",
       "    </tr>\n",
       "    <tr>\n",
       "      <th>1</th>\n",
       "      <td>2</td>\n",
       "      <td>92</td>\n",
       "      <td>B</td>\n",
       "    </tr>\n",
       "    <tr>\n",
       "      <th>2</th>\n",
       "      <td>3</td>\n",
       "      <td>94</td>\n",
       "      <td>C</td>\n",
       "    </tr>\n",
       "    <tr>\n",
       "      <th>3</th>\n",
       "      <td>4</td>\n",
       "      <td>57</td>\n",
       "      <td>A</td>\n",
       "    </tr>\n",
       "    <tr>\n",
       "      <th>4</th>\n",
       "      <td>5</td>\n",
       "      <td>42</td>\n",
       "      <td>A</td>\n",
       "    </tr>\n",
       "    <tr>\n",
       "      <th>5</th>\n",
       "      <td>6</td>\n",
       "      <td>50</td>\n",
       "      <td>A</td>\n",
       "    </tr>\n",
       "    <tr>\n",
       "      <th>6</th>\n",
       "      <td>7</td>\n",
       "      <td>20</td>\n",
       "      <td>B</td>\n",
       "    </tr>\n",
       "    <tr>\n",
       "      <th>7</th>\n",
       "      <td>8</td>\n",
       "      <td>53</td>\n",
       "      <td>B</td>\n",
       "    </tr>\n",
       "    <tr>\n",
       "      <th>8</th>\n",
       "      <td>9</td>\n",
       "      <td>18</td>\n",
       "      <td>B</td>\n",
       "    </tr>\n",
       "    <tr>\n",
       "      <th>9</th>\n",
       "      <td>10</td>\n",
       "      <td>75</td>\n",
       "      <td>C</td>\n",
       "    </tr>\n",
       "    <tr>\n",
       "      <th>10</th>\n",
       "      <td>11</td>\n",
       "      <td>35</td>\n",
       "      <td>C</td>\n",
       "    </tr>\n",
       "    <tr>\n",
       "      <th>11</th>\n",
       "      <td>12</td>\n",
       "      <td>13</td>\n",
       "      <td>A</td>\n",
       "    </tr>\n",
       "  </tbody>\n",
       "</table>\n",
       "</div>"
      ],
      "text/plain": [
       "    month  amount name\n",
       "0       1      71    B\n",
       "1       2      92    B\n",
       "2       3      94    C\n",
       "3       4      57    A\n",
       "4       5      42    A\n",
       "5       6      50    A\n",
       "6       7      20    B\n",
       "7       8      53    B\n",
       "8       9      18    B\n",
       "9      10      75    C\n",
       "10     11      35    C\n",
       "11     12      13    A"
      ]
     },
     "execution_count": 5,
     "metadata": {},
     "output_type": "execute_result"
    }
   ],
   "source": [
    "df.head(12)"
   ]
  },
  {
   "cell_type": "code",
   "execution_count": 6,
   "id": "b86a7c32-cdbb-482b-a9aa-e74c80970bbe",
   "metadata": {},
   "outputs": [
    {
     "data": {
      "text/html": [
       "<div>\n",
       "<style scoped>\n",
       "    .dataframe tbody tr th:only-of-type {\n",
       "        vertical-align: middle;\n",
       "    }\n",
       "\n",
       "    .dataframe tbody tr th {\n",
       "        vertical-align: top;\n",
       "    }\n",
       "\n",
       "    .dataframe thead th {\n",
       "        text-align: right;\n",
       "    }\n",
       "</style>\n",
       "<table border=\"1\" class=\"dataframe\">\n",
       "  <thead>\n",
       "    <tr style=\"text-align: right;\">\n",
       "      <th>month</th>\n",
       "      <th>name</th>\n",
       "      <th>1</th>\n",
       "      <th>2</th>\n",
       "      <th>3</th>\n",
       "      <th>4</th>\n",
       "      <th>5</th>\n",
       "      <th>6</th>\n",
       "      <th>7</th>\n",
       "      <th>8</th>\n",
       "      <th>9</th>\n",
       "      <th>10</th>\n",
       "      <th>11</th>\n",
       "      <th>12</th>\n",
       "    </tr>\n",
       "  </thead>\n",
       "  <tbody>\n",
       "    <tr>\n",
       "      <th>0</th>\n",
       "      <td>A</td>\n",
       "      <td>28.000000</td>\n",
       "      <td>61.666667</td>\n",
       "      <td>53.75</td>\n",
       "      <td>71.333333</td>\n",
       "      <td>50.500000</td>\n",
       "      <td>61.714286</td>\n",
       "      <td>29.4</td>\n",
       "      <td>28.333333</td>\n",
       "      <td>29.000000</td>\n",
       "      <td>30.800000</td>\n",
       "      <td>81.333333</td>\n",
       "      <td>10.333333</td>\n",
       "    </tr>\n",
       "    <tr>\n",
       "      <th>1</th>\n",
       "      <td>B</td>\n",
       "      <td>59.666667</td>\n",
       "      <td>44.250000</td>\n",
       "      <td>13.00</td>\n",
       "      <td>62.333333</td>\n",
       "      <td>89.000000</td>\n",
       "      <td>41.500000</td>\n",
       "      <td>49.5</td>\n",
       "      <td>59.600000</td>\n",
       "      <td>47.333333</td>\n",
       "      <td>37.500000</td>\n",
       "      <td>37.500000</td>\n",
       "      <td>58.000000</td>\n",
       "    </tr>\n",
       "    <tr>\n",
       "      <th>2</th>\n",
       "      <td>C</td>\n",
       "      <td>43.000000</td>\n",
       "      <td>33.000000</td>\n",
       "      <td>64.20</td>\n",
       "      <td>42.500000</td>\n",
       "      <td>69.333333</td>\n",
       "      <td>92.000000</td>\n",
       "      <td>68.0</td>\n",
       "      <td>80.500000</td>\n",
       "      <td>37.000000</td>\n",
       "      <td>64.666667</td>\n",
       "      <td>50.000000</td>\n",
       "      <td>58.000000</td>\n",
       "    </tr>\n",
       "  </tbody>\n",
       "</table>\n",
       "</div>"
      ],
      "text/plain": [
       "month name          1          2      3          4          5          6  \\\n",
       "0        A  28.000000  61.666667  53.75  71.333333  50.500000  61.714286   \n",
       "1        B  59.666667  44.250000  13.00  62.333333  89.000000  41.500000   \n",
       "2        C  43.000000  33.000000  64.20  42.500000  69.333333  92.000000   \n",
       "\n",
       "month     7          8          9         10         11         12  \n",
       "0      29.4  28.333333  29.000000  30.800000  81.333333  10.333333  \n",
       "1      49.5  59.600000  47.333333  37.500000  37.500000  58.000000  \n",
       "2      68.0  80.500000  37.000000  64.666667  50.000000  58.000000  "
      ]
     },
     "execution_count": 6,
     "metadata": {},
     "output_type": "execute_result"
    }
   ],
   "source": [
    "df.pivot_table('amount',index='name',columns='month').reset_index()"
   ]
  },
  {
   "cell_type": "code",
   "execution_count": 7,
   "id": "25183d9b-ac91-4582-844e-7c5d76f65fbc",
   "metadata": {},
   "outputs": [
    {
     "data": {
      "text/html": [
       "<div>\n",
       "<style scoped>\n",
       "    .dataframe tbody tr th:only-of-type {\n",
       "        vertical-align: middle;\n",
       "    }\n",
       "\n",
       "    .dataframe tbody tr th {\n",
       "        vertical-align: top;\n",
       "    }\n",
       "\n",
       "    .dataframe thead th {\n",
       "        text-align: right;\n",
       "    }\n",
       "</style>\n",
       "<table border=\"1\" class=\"dataframe\">\n",
       "  <thead>\n",
       "    <tr style=\"text-align: right;\">\n",
       "      <th></th>\n",
       "      <th>survived</th>\n",
       "      <th>pclass</th>\n",
       "      <th>sex</th>\n",
       "      <th>age</th>\n",
       "      <th>sibsp</th>\n",
       "      <th>parch</th>\n",
       "      <th>fare</th>\n",
       "      <th>embarked</th>\n",
       "      <th>class</th>\n",
       "      <th>who</th>\n",
       "      <th>adult_male</th>\n",
       "      <th>deck</th>\n",
       "      <th>embark_town</th>\n",
       "      <th>alive</th>\n",
       "      <th>alone</th>\n",
       "    </tr>\n",
       "  </thead>\n",
       "  <tbody>\n",
       "    <tr>\n",
       "      <th>0</th>\n",
       "      <td>0</td>\n",
       "      <td>3</td>\n",
       "      <td>male</td>\n",
       "      <td>22.0</td>\n",
       "      <td>1</td>\n",
       "      <td>0</td>\n",
       "      <td>7.2500</td>\n",
       "      <td>S</td>\n",
       "      <td>Third</td>\n",
       "      <td>man</td>\n",
       "      <td>True</td>\n",
       "      <td>NaN</td>\n",
       "      <td>Southampton</td>\n",
       "      <td>no</td>\n",
       "      <td>False</td>\n",
       "    </tr>\n",
       "    <tr>\n",
       "      <th>1</th>\n",
       "      <td>1</td>\n",
       "      <td>1</td>\n",
       "      <td>female</td>\n",
       "      <td>38.0</td>\n",
       "      <td>1</td>\n",
       "      <td>0</td>\n",
       "      <td>71.2833</td>\n",
       "      <td>C</td>\n",
       "      <td>First</td>\n",
       "      <td>woman</td>\n",
       "      <td>False</td>\n",
       "      <td>C</td>\n",
       "      <td>Cherbourg</td>\n",
       "      <td>yes</td>\n",
       "      <td>False</td>\n",
       "    </tr>\n",
       "  </tbody>\n",
       "</table>\n",
       "</div>"
      ],
      "text/plain": [
       "   survived  pclass     sex   age  sibsp  parch     fare embarked  class  \\\n",
       "0         0       3    male  22.0      1      0   7.2500        S  Third   \n",
       "1         1       1  female  38.0      1      0  71.2833        C  First   \n",
       "\n",
       "     who  adult_male deck  embark_town alive  alone  \n",
       "0    man        True  NaN  Southampton    no  False  \n",
       "1  woman       False    C    Cherbourg   yes  False  "
      ]
     },
     "execution_count": 7,
     "metadata": {},
     "output_type": "execute_result"
    }
   ],
   "source": [
    "titanic.head(2)"
   ]
  },
  {
   "cell_type": "code",
   "execution_count": 8,
   "id": "c91e745c-752b-47c2-b168-59d97b3406a9",
   "metadata": {},
   "outputs": [
    {
     "data": {
      "text/html": [
       "<div>\n",
       "<style scoped>\n",
       "    .dataframe tbody tr th:only-of-type {\n",
       "        vertical-align: middle;\n",
       "    }\n",
       "\n",
       "    .dataframe tbody tr th {\n",
       "        vertical-align: top;\n",
       "    }\n",
       "\n",
       "    .dataframe thead th {\n",
       "        text-align: right;\n",
       "    }\n",
       "</style>\n",
       "<table border=\"1\" class=\"dataframe\">\n",
       "  <thead>\n",
       "    <tr style=\"text-align: right;\">\n",
       "      <th></th>\n",
       "      <th>survived</th>\n",
       "    </tr>\n",
       "    <tr>\n",
       "      <th>sex</th>\n",
       "      <th></th>\n",
       "    </tr>\n",
       "  </thead>\n",
       "  <tbody>\n",
       "    <tr>\n",
       "      <th>female</th>\n",
       "      <td>233</td>\n",
       "    </tr>\n",
       "    <tr>\n",
       "      <th>male</th>\n",
       "      <td>109</td>\n",
       "    </tr>\n",
       "  </tbody>\n",
       "</table>\n",
       "</div>"
      ],
      "text/plain": [
       "        survived\n",
       "sex             \n",
       "female       233\n",
       "male         109"
      ]
     },
     "execution_count": 8,
     "metadata": {},
     "output_type": "execute_result"
    }
   ],
   "source": [
    "titanic.groupby('sex')[['survived']].sum()"
   ]
  },
  {
   "cell_type": "code",
   "execution_count": 9,
   "id": "e24126ec-c267-459e-8dc8-4b300bd86a5a",
   "metadata": {},
   "outputs": [
    {
     "data": {
      "text/plain": [
       "male      577\n",
       "female    314\n",
       "Name: sex, dtype: int64"
      ]
     },
     "execution_count": 9,
     "metadata": {},
     "output_type": "execute_result"
    }
   ],
   "source": [
    "titanic.sex.value_counts() #명목형(class) 값일 때 value_count 사용가능"
   ]
  },
  {
   "cell_type": "code",
   "execution_count": 10,
   "id": "94d3d296-1065-4f97-9697-1fe3c02c2229",
   "metadata": {},
   "outputs": [
    {
     "data": {
      "text/plain": [
       "Int64Index([3, 1, 2], dtype='int64')"
      ]
     },
     "execution_count": 10,
     "metadata": {},
     "output_type": "execute_result"
    }
   ],
   "source": [
    "titanic.pclass.value_counts().index"
   ]
  },
  {
   "cell_type": "code",
   "execution_count": 11,
   "id": "ec7c1d66-44b2-4d90-811e-00eca8dda657",
   "metadata": {},
   "outputs": [
    {
     "data": {
      "text/plain": [
       "array([3, 1, 2])"
      ]
     },
     "execution_count": 11,
     "metadata": {},
     "output_type": "execute_result"
    }
   ],
   "source": [
    "titanic.pclass.unique()"
   ]
  },
  {
   "cell_type": "code",
   "execution_count": 12,
   "id": "54d0ad5a-990c-4620-988b-9084399a564e",
   "metadata": {},
   "outputs": [
    {
     "data": {
      "text/html": [
       "<div>\n",
       "<style scoped>\n",
       "    .dataframe tbody tr th:only-of-type {\n",
       "        vertical-align: middle;\n",
       "    }\n",
       "\n",
       "    .dataframe tbody tr th {\n",
       "        vertical-align: top;\n",
       "    }\n",
       "\n",
       "    .dataframe thead tr th {\n",
       "        text-align: left;\n",
       "    }\n",
       "\n",
       "    .dataframe thead tr:last-of-type th {\n",
       "        text-align: right;\n",
       "    }\n",
       "</style>\n",
       "<table border=\"1\" class=\"dataframe\">\n",
       "  <thead>\n",
       "    <tr>\n",
       "      <th></th>\n",
       "      <th colspan=\"3\" halign=\"left\">mean</th>\n",
       "      <th colspan=\"3\" halign=\"left\">sum</th>\n",
       "      <th colspan=\"3\" halign=\"left\">std</th>\n",
       "    </tr>\n",
       "    <tr>\n",
       "      <th>class</th>\n",
       "      <th>First</th>\n",
       "      <th>Second</th>\n",
       "      <th>Third</th>\n",
       "      <th>First</th>\n",
       "      <th>Second</th>\n",
       "      <th>Third</th>\n",
       "      <th>First</th>\n",
       "      <th>Second</th>\n",
       "      <th>Third</th>\n",
       "    </tr>\n",
       "    <tr>\n",
       "      <th>sex</th>\n",
       "      <th></th>\n",
       "      <th></th>\n",
       "      <th></th>\n",
       "      <th></th>\n",
       "      <th></th>\n",
       "      <th></th>\n",
       "      <th></th>\n",
       "      <th></th>\n",
       "      <th></th>\n",
       "    </tr>\n",
       "  </thead>\n",
       "  <tbody>\n",
       "    <tr>\n",
       "      <th>female</th>\n",
       "      <td>0.968085</td>\n",
       "      <td>0.921053</td>\n",
       "      <td>0.500000</td>\n",
       "      <td>91</td>\n",
       "      <td>70</td>\n",
       "      <td>72</td>\n",
       "      <td>0.176716</td>\n",
       "      <td>0.271448</td>\n",
       "      <td>0.501745</td>\n",
       "    </tr>\n",
       "    <tr>\n",
       "      <th>male</th>\n",
       "      <td>0.368852</td>\n",
       "      <td>0.157407</td>\n",
       "      <td>0.135447</td>\n",
       "      <td>45</td>\n",
       "      <td>17</td>\n",
       "      <td>47</td>\n",
       "      <td>0.484484</td>\n",
       "      <td>0.365882</td>\n",
       "      <td>0.342694</td>\n",
       "    </tr>\n",
       "  </tbody>\n",
       "</table>\n",
       "</div>"
      ],
      "text/plain": [
       "            mean                       sum                    std            \\\n",
       "class      First    Second     Third First Second Third     First    Second   \n",
       "sex                                                                           \n",
       "female  0.968085  0.921053  0.500000    91     70    72  0.176716  0.271448   \n",
       "male    0.368852  0.157407  0.135447    45     17    47  0.484484  0.365882   \n",
       "\n",
       "                  \n",
       "class      Third  \n",
       "sex               \n",
       "female  0.501745  \n",
       "male    0.342694  "
      ]
     },
     "execution_count": 12,
     "metadata": {},
     "output_type": "execute_result"
    }
   ],
   "source": [
    "titanic.groupby(['sex', 'class'])['survived'].aggregate(['mean','sum','std']).unstack()"
   ]
  },
  {
   "cell_type": "code",
   "execution_count": 13,
   "id": "d80dfaf1-28d4-4a58-9f82-88795579d603",
   "metadata": {},
   "outputs": [
    {
     "data": {
      "text/html": [
       "<div>\n",
       "<style scoped>\n",
       "    .dataframe tbody tr th:only-of-type {\n",
       "        vertical-align: middle;\n",
       "    }\n",
       "\n",
       "    .dataframe tbody tr th {\n",
       "        vertical-align: top;\n",
       "    }\n",
       "\n",
       "    .dataframe thead th {\n",
       "        text-align: right;\n",
       "    }\n",
       "</style>\n",
       "<table border=\"1\" class=\"dataframe\">\n",
       "  <thead>\n",
       "    <tr style=\"text-align: right;\">\n",
       "      <th>class</th>\n",
       "      <th>First</th>\n",
       "      <th>Second</th>\n",
       "      <th>Third</th>\n",
       "    </tr>\n",
       "    <tr>\n",
       "      <th>sex</th>\n",
       "      <th></th>\n",
       "      <th></th>\n",
       "      <th></th>\n",
       "    </tr>\n",
       "  </thead>\n",
       "  <tbody>\n",
       "    <tr>\n",
       "      <th>female</th>\n",
       "      <td>0.968085</td>\n",
       "      <td>0.921053</td>\n",
       "      <td>0.500000</td>\n",
       "    </tr>\n",
       "    <tr>\n",
       "      <th>male</th>\n",
       "      <td>0.368852</td>\n",
       "      <td>0.157407</td>\n",
       "      <td>0.135447</td>\n",
       "    </tr>\n",
       "  </tbody>\n",
       "</table>\n",
       "</div>"
      ],
      "text/plain": [
       "class      First    Second     Third\n",
       "sex                                 \n",
       "female  0.968085  0.921053  0.500000\n",
       "male    0.368852  0.157407  0.135447"
      ]
     },
     "execution_count": 13,
     "metadata": {},
     "output_type": "execute_result"
    }
   ],
   "source": [
    "titanic.groupby(['sex', 'class'])['survived'].mean().unstack()"
   ]
  },
  {
   "cell_type": "code",
   "execution_count": 14,
   "id": "7c317e6b-2d65-42b3-9ef0-239890b6d443",
   "metadata": {},
   "outputs": [
    {
     "data": {
      "text/html": [
       "<div>\n",
       "<style scoped>\n",
       "    .dataframe tbody tr th:only-of-type {\n",
       "        vertical-align: middle;\n",
       "    }\n",
       "\n",
       "    .dataframe tbody tr th {\n",
       "        vertical-align: top;\n",
       "    }\n",
       "\n",
       "    .dataframe thead th {\n",
       "        text-align: right;\n",
       "    }\n",
       "</style>\n",
       "<table border=\"1\" class=\"dataframe\">\n",
       "  <thead>\n",
       "    <tr style=\"text-align: right;\">\n",
       "      <th></th>\n",
       "      <th>survived</th>\n",
       "      <th>pclass</th>\n",
       "      <th>sex</th>\n",
       "      <th>age</th>\n",
       "      <th>sibsp</th>\n",
       "      <th>parch</th>\n",
       "      <th>fare</th>\n",
       "      <th>embarked</th>\n",
       "      <th>class</th>\n",
       "      <th>who</th>\n",
       "      <th>adult_male</th>\n",
       "      <th>deck</th>\n",
       "      <th>embark_town</th>\n",
       "      <th>alive</th>\n",
       "      <th>alone</th>\n",
       "    </tr>\n",
       "  </thead>\n",
       "  <tbody>\n",
       "    <tr>\n",
       "      <th>0</th>\n",
       "      <td>0</td>\n",
       "      <td>3</td>\n",
       "      <td>male</td>\n",
       "      <td>22.0</td>\n",
       "      <td>1</td>\n",
       "      <td>0</td>\n",
       "      <td>7.25</td>\n",
       "      <td>S</td>\n",
       "      <td>Third</td>\n",
       "      <td>man</td>\n",
       "      <td>True</td>\n",
       "      <td>NaN</td>\n",
       "      <td>Southampton</td>\n",
       "      <td>no</td>\n",
       "      <td>False</td>\n",
       "    </tr>\n",
       "  </tbody>\n",
       "</table>\n",
       "</div>"
      ],
      "text/plain": [
       "   survived  pclass   sex   age  sibsp  parch  fare embarked  class  who  \\\n",
       "0         0       3  male  22.0      1      0  7.25        S  Third  man   \n",
       "\n",
       "   adult_male deck  embark_town alive  alone  \n",
       "0        True  NaN  Southampton    no  False  "
      ]
     },
     "execution_count": 14,
     "metadata": {},
     "output_type": "execute_result"
    }
   ],
   "source": [
    "titanic.head(1)"
   ]
  },
  {
   "cell_type": "code",
   "execution_count": 15,
   "id": "2e143cd7-cfa7-4a9a-888f-20419a43bb60",
   "metadata": {},
   "outputs": [
    {
     "data": {
      "text/html": [
       "<div>\n",
       "<style scoped>\n",
       "    .dataframe tbody tr th:only-of-type {\n",
       "        vertical-align: middle;\n",
       "    }\n",
       "\n",
       "    .dataframe tbody tr th {\n",
       "        vertical-align: top;\n",
       "    }\n",
       "\n",
       "    .dataframe thead th {\n",
       "        text-align: right;\n",
       "    }\n",
       "</style>\n",
       "<table border=\"1\" class=\"dataframe\">\n",
       "  <thead>\n",
       "    <tr style=\"text-align: right;\">\n",
       "      <th>class</th>\n",
       "      <th>First</th>\n",
       "      <th>Second</th>\n",
       "      <th>Third</th>\n",
       "    </tr>\n",
       "    <tr>\n",
       "      <th>sex</th>\n",
       "      <th></th>\n",
       "      <th></th>\n",
       "      <th></th>\n",
       "    </tr>\n",
       "  </thead>\n",
       "  <tbody>\n",
       "    <tr>\n",
       "      <th>female</th>\n",
       "      <td>91</td>\n",
       "      <td>70</td>\n",
       "      <td>72</td>\n",
       "    </tr>\n",
       "    <tr>\n",
       "      <th>male</th>\n",
       "      <td>45</td>\n",
       "      <td>17</td>\n",
       "      <td>47</td>\n",
       "    </tr>\n",
       "  </tbody>\n",
       "</table>\n",
       "</div>"
      ],
      "text/plain": [
       "class   First  Second  Third\n",
       "sex                         \n",
       "female     91      70     72\n",
       "male       45      17     47"
      ]
     },
     "execution_count": 15,
     "metadata": {},
     "output_type": "execute_result"
    }
   ],
   "source": [
    "titanic.pivot_table('survived', index='sex', columns='class', aggfunc='sum')"
   ]
  },
  {
   "cell_type": "code",
   "execution_count": 16,
   "id": "63959b17-d147-4896-bdd4-fc65e00731d4",
   "metadata": {},
   "outputs": [
    {
     "data": {
      "text/plain": [
       "CategoricalDtype(categories=[(0, 18], (18, 35], (35, 80]], ordered=True)"
      ]
     },
     "execution_count": 16,
     "metadata": {},
     "output_type": "execute_result"
    }
   ],
   "source": [
    "pd.cut(titanic['age'], [0, 18, 35, 80]).dtype"
   ]
  },
  {
   "cell_type": "raw",
   "id": "db0a38ee-dfe5-4fe0-9364-fb7b052c01f6",
   "metadata": {},
   "source": [
    "# 데이터 형태\n",
    "nominal(클래스간 차이만 있고 우위는 없음) 0 존재x\n",
    "ordinal(클래스간 순서가 있음) 0 시작점\n",
    "internal(구간을 가진 데이터) 0 존재x\n",
    "ratio(수치형(연속형) 데이터) 0 존재x"
   ]
  },
  {
   "cell_type": "code",
   "execution_count": 17,
   "id": "629f4e4a-ce61-4f57-bf0c-dff65b56e547",
   "metadata": {},
   "outputs": [
    {
     "data": {
      "text/html": [
       "<div>\n",
       "<style scoped>\n",
       "    .dataframe tbody tr th:only-of-type {\n",
       "        vertical-align: middle;\n",
       "    }\n",
       "\n",
       "    .dataframe tbody tr th {\n",
       "        vertical-align: top;\n",
       "    }\n",
       "\n",
       "    .dataframe thead th {\n",
       "        text-align: right;\n",
       "    }\n",
       "</style>\n",
       "<table border=\"1\" class=\"dataframe\">\n",
       "  <thead>\n",
       "    <tr style=\"text-align: right;\">\n",
       "      <th></th>\n",
       "      <th>class</th>\n",
       "      <th>First</th>\n",
       "      <th>Second</th>\n",
       "      <th>Third</th>\n",
       "    </tr>\n",
       "    <tr>\n",
       "      <th>sex</th>\n",
       "      <th>age</th>\n",
       "      <th></th>\n",
       "      <th></th>\n",
       "      <th></th>\n",
       "    </tr>\n",
       "  </thead>\n",
       "  <tbody>\n",
       "    <tr>\n",
       "      <th rowspan=\"3\" valign=\"top\">female</th>\n",
       "      <th>(0, 18]</th>\n",
       "      <td>0.909091</td>\n",
       "      <td>1.000000</td>\n",
       "      <td>0.511628</td>\n",
       "    </tr>\n",
       "    <tr>\n",
       "      <th>(18, 35]</th>\n",
       "      <td>0.972222</td>\n",
       "      <td>0.925000</td>\n",
       "      <td>0.500000</td>\n",
       "    </tr>\n",
       "    <tr>\n",
       "      <th>(35, 80]</th>\n",
       "      <td>0.973684</td>\n",
       "      <td>0.850000</td>\n",
       "      <td>0.200000</td>\n",
       "    </tr>\n",
       "    <tr>\n",
       "      <th rowspan=\"3\" valign=\"top\">male</th>\n",
       "      <th>(0, 18]</th>\n",
       "      <td>0.800000</td>\n",
       "      <td>0.600000</td>\n",
       "      <td>0.215686</td>\n",
       "    </tr>\n",
       "    <tr>\n",
       "      <th>(18, 35]</th>\n",
       "      <td>0.500000</td>\n",
       "      <td>0.074074</td>\n",
       "      <td>0.155844</td>\n",
       "    </tr>\n",
       "    <tr>\n",
       "      <th>(35, 80]</th>\n",
       "      <td>0.318182</td>\n",
       "      <td>0.066667</td>\n",
       "      <td>0.062500</td>\n",
       "    </tr>\n",
       "  </tbody>\n",
       "</table>\n",
       "</div>"
      ],
      "text/plain": [
       "class               First    Second     Third\n",
       "sex    age                                   \n",
       "female (0, 18]   0.909091  1.000000  0.511628\n",
       "       (18, 35]  0.972222  0.925000  0.500000\n",
       "       (35, 80]  0.973684  0.850000  0.200000\n",
       "male   (0, 18]   0.800000  0.600000  0.215686\n",
       "       (18, 35]  0.500000  0.074074  0.155844\n",
       "       (35, 80]  0.318182  0.066667  0.062500"
      ]
     },
     "execution_count": 17,
     "metadata": {},
     "output_type": "execute_result"
    }
   ],
   "source": [
    "age = pd.cut(titanic['age'], [0, 18, 35, 80])\n",
    "titanic.pivot_table('survived', index=['sex', age], columns='class')"
   ]
  },
  {
   "cell_type": "code",
   "execution_count": 18,
   "id": "7d76a9d2-7257-485a-819c-a3a467502cfc",
   "metadata": {},
   "outputs": [],
   "source": [
    "births = pd.read_csv('data/births.csv')"
   ]
  },
  {
   "cell_type": "code",
   "execution_count": 19,
   "id": "30b45f04-219a-4360-a890-885648d580dd",
   "metadata": {},
   "outputs": [
    {
     "data": {
      "text/plain": [
       "year        0\n",
       "month       0\n",
       "day       480\n",
       "gender      0\n",
       "births      0\n",
       "dtype: int64"
      ]
     },
     "execution_count": 19,
     "metadata": {},
     "output_type": "execute_result"
    }
   ],
   "source": [
    "births.head(2)\n",
    "births.describe() # 요약정보\n",
    "births.columns # 열이름\n",
    "births.dtypes # 데이터타입\n",
    "births.isnull().sum() # 빈 데이터 확인"
   ]
  },
  {
   "cell_type": "code",
   "execution_count": 20,
   "id": "90b9b6ef-559b-4fa1-8f6d-e9cb0640cf51",
   "metadata": {},
   "outputs": [
    {
     "name": "stdout",
     "output_type": "stream",
     "text": [
      "<class 'pandas.core.frame.DataFrame'>\n",
      "RangeIndex: 15547 entries, 0 to 15546\n",
      "Data columns (total 5 columns):\n",
      " #   Column  Non-Null Count  Dtype  \n",
      "---  ------  --------------  -----  \n",
      " 0   year    15547 non-null  int64  \n",
      " 1   month   15547 non-null  int64  \n",
      " 2   day     15067 non-null  float64\n",
      " 3   gender  15547 non-null  object \n",
      " 4   births  15547 non-null  int64  \n",
      "dtypes: float64(1), int64(3), object(1)\n",
      "memory usage: 607.4+ KB\n"
     ]
    }
   ],
   "source": [
    "births.info() #데이터가 너무 크면 info로 정보가 안 나옴"
   ]
  },
  {
   "cell_type": "code",
   "execution_count": 21,
   "id": "db05fe7b-90b4-427b-9539-c0b9fc3d1c9b",
   "metadata": {},
   "outputs": [],
   "source": [
    "# df에 decade 컬럼 만들기\n",
    "births['decade'] = ((births.year // 10)*10).astype('str') + 's'"
   ]
  },
  {
   "cell_type": "code",
   "execution_count": 22,
   "id": "a706b4d6-fcc1-4240-bcee-a4e4e3319702",
   "metadata": {},
   "outputs": [
    {
     "data": {
      "text/html": [
       "<div>\n",
       "<style scoped>\n",
       "    .dataframe tbody tr th:only-of-type {\n",
       "        vertical-align: middle;\n",
       "    }\n",
       "\n",
       "    .dataframe tbody tr th {\n",
       "        vertical-align: top;\n",
       "    }\n",
       "\n",
       "    .dataframe thead th {\n",
       "        text-align: right;\n",
       "    }\n",
       "</style>\n",
       "<table border=\"1\" class=\"dataframe\">\n",
       "  <thead>\n",
       "    <tr style=\"text-align: right;\">\n",
       "      <th>decade</th>\n",
       "      <th>1960s</th>\n",
       "      <th>1970s</th>\n",
       "      <th>1980s</th>\n",
       "      <th>1990s</th>\n",
       "      <th>2000s</th>\n",
       "    </tr>\n",
       "    <tr>\n",
       "      <th>gender</th>\n",
       "      <th></th>\n",
       "      <th></th>\n",
       "      <th></th>\n",
       "      <th></th>\n",
       "      <th></th>\n",
       "    </tr>\n",
       "  </thead>\n",
       "  <tbody>\n",
       "    <tr>\n",
       "      <th>F</th>\n",
       "      <td>4566.755208</td>\n",
       "      <td>4267.403569</td>\n",
       "      <td>5460.886072</td>\n",
       "      <td>162328.783333</td>\n",
       "      <td>168789.898148</td>\n",
       "    </tr>\n",
       "    <tr>\n",
       "      <th>M</th>\n",
       "      <td>4808.781250</td>\n",
       "      <td>4497.386393</td>\n",
       "      <td>5740.886635</td>\n",
       "      <td>170171.275000</td>\n",
       "      <td>176911.370370</td>\n",
       "    </tr>\n",
       "  </tbody>\n",
       "</table>\n",
       "</div>"
      ],
      "text/plain": [
       "decade        1960s        1970s        1980s          1990s          2000s\n",
       "gender                                                                     \n",
       "F       4566.755208  4267.403569  5460.886072  162328.783333  168789.898148\n",
       "M       4808.781250  4497.386393  5740.886635  170171.275000  176911.370370"
      ]
     },
     "execution_count": 22,
     "metadata": {},
     "output_type": "execute_result"
    }
   ],
   "source": [
    "births.pivot_table('births', index='gender', columns='decade')"
   ]
  },
  {
   "cell_type": "code",
   "execution_count": 23,
   "id": "1ee2e32e-e49b-4982-8e12-2e164502952f",
   "metadata": {},
   "outputs": [],
   "source": [
    "# 'decade' column 지우기\n",
    "births.drop('decade',axis=1,inplace=True)"
   ]
  },
  {
   "cell_type": "code",
   "execution_count": 24,
   "id": "9965b4d9-bff9-4337-bc3c-7544e5b4cab0",
   "metadata": {},
   "outputs": [],
   "source": [
    "# decade를 오브젝트로 만들기\n",
    "decade = ((births.year // 10)*10).astype('str') + 's'"
   ]
  },
  {
   "cell_type": "code",
   "execution_count": 25,
   "id": "0c985714-6c44-4166-ba42-ab9fc7bf7835",
   "metadata": {},
   "outputs": [
    {
     "data": {
      "text/html": [
       "<div>\n",
       "<style scoped>\n",
       "    .dataframe tbody tr th:only-of-type {\n",
       "        vertical-align: middle;\n",
       "    }\n",
       "\n",
       "    .dataframe tbody tr th {\n",
       "        vertical-align: top;\n",
       "    }\n",
       "\n",
       "    .dataframe thead th {\n",
       "        text-align: right;\n",
       "    }\n",
       "</style>\n",
       "<table border=\"1\" class=\"dataframe\">\n",
       "  <thead>\n",
       "    <tr style=\"text-align: right;\">\n",
       "      <th>gender</th>\n",
       "      <th>F</th>\n",
       "      <th>M</th>\n",
       "    </tr>\n",
       "    <tr>\n",
       "      <th>year</th>\n",
       "      <th></th>\n",
       "      <th></th>\n",
       "    </tr>\n",
       "  </thead>\n",
       "  <tbody>\n",
       "    <tr>\n",
       "      <th>1960s</th>\n",
       "      <td>4566.755208</td>\n",
       "      <td>4808.781250</td>\n",
       "    </tr>\n",
       "    <tr>\n",
       "      <th>1970s</th>\n",
       "      <td>4267.403569</td>\n",
       "      <td>4497.386393</td>\n",
       "    </tr>\n",
       "    <tr>\n",
       "      <th>1980s</th>\n",
       "      <td>5460.886072</td>\n",
       "      <td>5740.886635</td>\n",
       "    </tr>\n",
       "    <tr>\n",
       "      <th>1990s</th>\n",
       "      <td>162328.783333</td>\n",
       "      <td>170171.275000</td>\n",
       "    </tr>\n",
       "    <tr>\n",
       "      <th>2000s</th>\n",
       "      <td>168789.898148</td>\n",
       "      <td>176911.370370</td>\n",
       "    </tr>\n",
       "  </tbody>\n",
       "</table>\n",
       "</div>"
      ],
      "text/plain": [
       "gender              F              M\n",
       "year                                \n",
       "1960s     4566.755208    4808.781250\n",
       "1970s     4267.403569    4497.386393\n",
       "1980s     5460.886072    5740.886635\n",
       "1990s   162328.783333  170171.275000\n",
       "2000s   168789.898148  176911.370370"
      ]
     },
     "execution_count": 25,
     "metadata": {},
     "output_type": "execute_result"
    }
   ],
   "source": [
    "births.pivot_table('births', index=decade, columns='gender')"
   ]
  },
  {
   "cell_type": "code",
   "execution_count": 26,
   "id": "7ffbe6b3-25ad-4e56-8a09-9e45170ea5e3",
   "metadata": {},
   "outputs": [
    {
     "data": {
      "image/png": "[encoded data removed]",
      "text/plain": [
       "<Figure size 432x288 with 1 Axes>"
      ]
     },
     "metadata": {
      "needs_background": "light"
     },
     "output_type": "display_data"
    }
   ],
   "source": [
    "births.pivot_table('births', index='year', columns='gender', aggfunc='sum').plot()\n",
    "plt.ylabel('total births per year');"
   ]
  },
  {
   "cell_type": "raw",
   "id": "a41bf87e-8ce5-4109-8c3c-c626fe72c4d2",
   "metadata": {},
   "source": [
    "모집단: population\n",
    "알고자하는 모집단의 특징: parameter\n",
    "표본: sample\n",
    "통계량: stastic\n",
    "평균(μ,뮤,mu)이 중요한 이유\n",
    "1.중심극한정리(CLT)\n",
    "2.계산이 쉬움\n",
    "3.가우스가 중요하다고 함"
   ]
  },
  {
   "cell_type": "code",
   "execution_count": 27,
   "id": "deda7c1f-87c0-4c32-9ee6-83ffc139c9f1",
   "metadata": {},
   "outputs": [],
   "source": [
    "quartiles = np.percentile(births['births'], [25, 50, 75])\n",
    "mu = quartiles[1]\n",
    "sig = 0.74 * (quartiles[2] - quartiles[0])"
   ]
  },
  {
   "cell_type": "code",
   "execution_count": 28,
   "id": "a6ca189e-86b6-4fbc-ac6a-1451b503b329",
   "metadata": {},
   "outputs": [
    {
     "data": {
      "text/plain": [
       "array([4358. , 4814. , 5289.5])"
      ]
     },
     "execution_count": 28,
     "metadata": {},
     "output_type": "execute_result"
    }
   ],
   "source": [
    "quartiles"
   ]
  },
  {
   "cell_type": "code",
   "execution_count": 29,
   "id": "555691b6-244d-49eb-9da9-24138befc22c",
   "metadata": {},
   "outputs": [
    {
     "data": {
      "text/plain": [
       "4814.0"
      ]
     },
     "execution_count": 29,
     "metadata": {},
     "output_type": "execute_result"
    }
   ],
   "source": [
    "mu"
   ]
  },
  {
   "cell_type": "code",
   "execution_count": 30,
   "id": "2c70c1e1-1a36-4f84-9ef1-88a73cf988e8",
   "metadata": {},
   "outputs": [
    {
     "data": {
      "text/plain": [
       "689.31"
      ]
     },
     "execution_count": 30,
     "metadata": {},
     "output_type": "execute_result"
    }
   ],
   "source": [
    "sig"
   ]
  },
  {
   "cell_type": "code",
   "execution_count": 31,
   "id": "fd1bcbf2-c6f4-4cf9-b2fb-e9edf60d7018",
   "metadata": {},
   "outputs": [],
   "source": [
    "# 쿼리 사용\n",
    "## query 메소드 안에서 @를 사용하면 변수를 그대로 사용할 수 있음\n",
    "# births = births.query('(births > @mu - 5 * @sig) & (births < @mu + 5 * @sig)')\n",
    "# 또는\n",
    "# qry_str = '(births > @mu - 5 * @sig) & (births < @mu + 5 * @sig)'\n",
    "# births = births.query(qry_str)\n",
    "\n",
    "# loc사용\n",
    "births = births.loc[(births.births > mu - 5*sig) & (births.births < mu + 5*sig),:]"
   ]
  },
  {
   "cell_type": "code",
   "execution_count": 32,
   "id": "f2624b99-3313-40bb-b858-f74699c7cb09",
   "metadata": {},
   "outputs": [
    {
     "data": {
      "text/html": [
       "<div>\n",
       "<style scoped>\n",
       "    .dataframe tbody tr th:only-of-type {\n",
       "        vertical-align: middle;\n",
       "    }\n",
       "\n",
       "    .dataframe tbody tr th {\n",
       "        vertical-align: top;\n",
       "    }\n",
       "\n",
       "    .dataframe thead th {\n",
       "        text-align: right;\n",
       "    }\n",
       "</style>\n",
       "<table border=\"1\" class=\"dataframe\">\n",
       "  <thead>\n",
       "    <tr style=\"text-align: right;\">\n",
       "      <th></th>\n",
       "      <th>year</th>\n",
       "      <th>month</th>\n",
       "      <th>day</th>\n",
       "      <th>gender</th>\n",
       "      <th>births</th>\n",
       "    </tr>\n",
       "  </thead>\n",
       "  <tbody>\n",
       "    <tr>\n",
       "      <th>0</th>\n",
       "      <td>1969</td>\n",
       "      <td>1</td>\n",
       "      <td>1.0</td>\n",
       "      <td>F</td>\n",
       "      <td>4046</td>\n",
       "    </tr>\n",
       "    <tr>\n",
       "      <th>1</th>\n",
       "      <td>1969</td>\n",
       "      <td>1</td>\n",
       "      <td>1.0</td>\n",
       "      <td>M</td>\n",
       "      <td>4440</td>\n",
       "    </tr>\n",
       "    <tr>\n",
       "      <th>2</th>\n",
       "      <td>1969</td>\n",
       "      <td>1</td>\n",
       "      <td>2.0</td>\n",
       "      <td>F</td>\n",
       "      <td>4454</td>\n",
       "    </tr>\n",
       "    <tr>\n",
       "      <th>3</th>\n",
       "      <td>1969</td>\n",
       "      <td>1</td>\n",
       "      <td>2.0</td>\n",
       "      <td>M</td>\n",
       "      <td>4548</td>\n",
       "    </tr>\n",
       "    <tr>\n",
       "      <th>4</th>\n",
       "      <td>1969</td>\n",
       "      <td>1</td>\n",
       "      <td>3.0</td>\n",
       "      <td>F</td>\n",
       "      <td>4548</td>\n",
       "    </tr>\n",
       "    <tr>\n",
       "      <th>...</th>\n",
       "      <td>...</td>\n",
       "      <td>...</td>\n",
       "      <td>...</td>\n",
       "      <td>...</td>\n",
       "      <td>...</td>\n",
       "    </tr>\n",
       "    <tr>\n",
       "      <th>15062</th>\n",
       "      <td>1988</td>\n",
       "      <td>12</td>\n",
       "      <td>29.0</td>\n",
       "      <td>M</td>\n",
       "      <td>5944</td>\n",
       "    </tr>\n",
       "    <tr>\n",
       "      <th>15063</th>\n",
       "      <td>1988</td>\n",
       "      <td>12</td>\n",
       "      <td>30.0</td>\n",
       "      <td>F</td>\n",
       "      <td>5742</td>\n",
       "    </tr>\n",
       "    <tr>\n",
       "      <th>15064</th>\n",
       "      <td>1988</td>\n",
       "      <td>12</td>\n",
       "      <td>30.0</td>\n",
       "      <td>M</td>\n",
       "      <td>6095</td>\n",
       "    </tr>\n",
       "    <tr>\n",
       "      <th>15065</th>\n",
       "      <td>1988</td>\n",
       "      <td>12</td>\n",
       "      <td>31.0</td>\n",
       "      <td>F</td>\n",
       "      <td>4435</td>\n",
       "    </tr>\n",
       "    <tr>\n",
       "      <th>15066</th>\n",
       "      <td>1988</td>\n",
       "      <td>12</td>\n",
       "      <td>31.0</td>\n",
       "      <td>M</td>\n",
       "      <td>4698</td>\n",
       "    </tr>\n",
       "  </tbody>\n",
       "</table>\n",
       "<p>14610 rows × 5 columns</p>\n",
       "</div>"
      ],
      "text/plain": [
       "       year  month   day gender  births\n",
       "0      1969      1   1.0      F    4046\n",
       "1      1969      1   1.0      M    4440\n",
       "2      1969      1   2.0      F    4454\n",
       "3      1969      1   2.0      M    4548\n",
       "4      1969      1   3.0      F    4548\n",
       "...     ...    ...   ...    ...     ...\n",
       "15062  1988     12  29.0      M    5944\n",
       "15063  1988     12  30.0      F    5742\n",
       "15064  1988     12  30.0      M    6095\n",
       "15065  1988     12  31.0      F    4435\n",
       "15066  1988     12  31.0      M    4698\n",
       "\n",
       "[14610 rows x 5 columns]"
      ]
     },
     "execution_count": 32,
     "metadata": {},
     "output_type": "execute_result"
    }
   ],
   "source": [
    "births"
   ]
  },
  {
   "cell_type": "code",
   "execution_count": 33,
   "id": "85c6a446-65e5-4cea-8a62-f21304420093",
   "metadata": {},
   "outputs": [],
   "source": [
    "births.day = births.day.astype('int')"
   ]
  },
  {
   "cell_type": "code",
   "execution_count": 34,
   "id": "7cbfb69f-877b-45db-9b97-6378c7626cff",
   "metadata": {},
   "outputs": [],
   "source": [
    "births.index = pd.to_datetime(10000 * births.year +\n",
    "                              100 * births.month +\n",
    "                              births.day, format='%Y%m%d')"
   ]
  },
  {
   "cell_type": "code",
   "execution_count": 35,
   "id": "7024454c-5bb4-48ae-81d3-0e904f4a7768",
   "metadata": {},
   "outputs": [],
   "source": [
    "births['dayofweek'] = births.index.dayofweek"
   ]
  },
  {
   "cell_type": "code",
   "execution_count": 36,
   "id": "fee616ec-cf72-48e1-b0bd-bc1fbc65274e",
   "metadata": {},
   "outputs": [],
   "source": [
    "births['decade'] = (births.year // 10)*10"
   ]
  },
  {
   "cell_type": "code",
   "execution_count": 37,
   "id": "4f0c0818-f087-4272-808b-26bac8b77203",
   "metadata": {
    "tags": []
   },
   "outputs": [
    {
     "data": {
      "text/plain": [
       "<AxesSubplot:xlabel='dayofweek'>"
      ]
     },
     "execution_count": 37,
     "metadata": {},
     "output_type": "execute_result"
    },
    {
     "data": {
      "image/png": "[encoded data removed]",
      "text/plain": [
       "<Figure size 432x288 with 1 Axes>"
      ]
     },
     "metadata": {
      "needs_background": "light"
     },
     "output_type": "display_data"
    }
   ],
   "source": [
    "births.pivot_table('births', index='dayofweek',\n",
    "                    columns='decade', aggfunc='mean').plot()"
   ]
  },
  {
   "cell_type": "code",
   "execution_count": 38,
   "id": "dd779ce4-160e-4d87-a95b-c9a4dcb89a59",
   "metadata": {},
   "outputs": [],
   "source": [
    "df = pd.read_csv('data/births.csv')"
   ]
  },
  {
   "cell_type": "code",
   "execution_count": 39,
   "id": "8354fccc-5a09-4b63-a008-b23bc246fafe",
   "metadata": {},
   "outputs": [],
   "source": [
    "mu = df.births.mean()\n",
    "sd = df.births.std()\n",
    "sig = sd * 3"
   ]
  },
  {
   "cell_type": "code",
   "execution_count": 40,
   "id": "fd617af9-6bdb-4e15-a87d-570daee0d311",
   "metadata": {
    "tags": []
   },
   "outputs": [],
   "source": [
    "df.loc[(df.births < (mu + sig)) & (df.births > (mu - sig)),:]\n",
    "qry_str = '((births > @mu - @sig) & (births < @mu + @sig))'\n",
    "cl_df = df.query(qry_str)"
   ]
  },
  {
   "cell_type": "code",
   "execution_count": 41,
   "id": "b5f300fa-0223-42e6-9f1c-bf34fb291807",
   "metadata": {},
   "outputs": [
    {
     "data": {
      "text/html": [
       "<div>\n",
       "<style scoped>\n",
       "    .dataframe tbody tr th:only-of-type {\n",
       "        vertical-align: middle;\n",
       "    }\n",
       "\n",
       "    .dataframe tbody tr th {\n",
       "        vertical-align: top;\n",
       "    }\n",
       "\n",
       "    .dataframe thead th {\n",
       "        text-align: right;\n",
       "    }\n",
       "</style>\n",
       "<table border=\"1\" class=\"dataframe\">\n",
       "  <thead>\n",
       "    <tr style=\"text-align: right;\">\n",
       "      <th></th>\n",
       "      <th>year</th>\n",
       "      <th>month</th>\n",
       "      <th>day</th>\n",
       "      <th>gender</th>\n",
       "      <th>births</th>\n",
       "    </tr>\n",
       "  </thead>\n",
       "  <tbody>\n",
       "    <tr>\n",
       "      <th>0</th>\n",
       "      <td>1969</td>\n",
       "      <td>1</td>\n",
       "      <td>1.0</td>\n",
       "      <td>F</td>\n",
       "      <td>4046</td>\n",
       "    </tr>\n",
       "    <tr>\n",
       "      <th>1</th>\n",
       "      <td>1969</td>\n",
       "      <td>1</td>\n",
       "      <td>1.0</td>\n",
       "      <td>M</td>\n",
       "      <td>4440</td>\n",
       "    </tr>\n",
       "    <tr>\n",
       "      <th>2</th>\n",
       "      <td>1969</td>\n",
       "      <td>1</td>\n",
       "      <td>2.0</td>\n",
       "      <td>F</td>\n",
       "      <td>4454</td>\n",
       "    </tr>\n",
       "    <tr>\n",
       "      <th>3</th>\n",
       "      <td>1969</td>\n",
       "      <td>1</td>\n",
       "      <td>2.0</td>\n",
       "      <td>M</td>\n",
       "      <td>4548</td>\n",
       "    </tr>\n",
       "    <tr>\n",
       "      <th>4</th>\n",
       "      <td>1969</td>\n",
       "      <td>1</td>\n",
       "      <td>3.0</td>\n",
       "      <td>F</td>\n",
       "      <td>4548</td>\n",
       "    </tr>\n",
       "    <tr>\n",
       "      <th>...</th>\n",
       "      <td>...</td>\n",
       "      <td>...</td>\n",
       "      <td>...</td>\n",
       "      <td>...</td>\n",
       "      <td>...</td>\n",
       "    </tr>\n",
       "    <tr>\n",
       "      <th>15062</th>\n",
       "      <td>1988</td>\n",
       "      <td>12</td>\n",
       "      <td>29.0</td>\n",
       "      <td>M</td>\n",
       "      <td>5944</td>\n",
       "    </tr>\n",
       "    <tr>\n",
       "      <th>15063</th>\n",
       "      <td>1988</td>\n",
       "      <td>12</td>\n",
       "      <td>30.0</td>\n",
       "      <td>F</td>\n",
       "      <td>5742</td>\n",
       "    </tr>\n",
       "    <tr>\n",
       "      <th>15064</th>\n",
       "      <td>1988</td>\n",
       "      <td>12</td>\n",
       "      <td>30.0</td>\n",
       "      <td>M</td>\n",
       "      <td>6095</td>\n",
       "    </tr>\n",
       "    <tr>\n",
       "      <th>15065</th>\n",
       "      <td>1988</td>\n",
       "      <td>12</td>\n",
       "      <td>31.0</td>\n",
       "      <td>F</td>\n",
       "      <td>4435</td>\n",
       "    </tr>\n",
       "    <tr>\n",
       "      <th>15066</th>\n",
       "      <td>1988</td>\n",
       "      <td>12</td>\n",
       "      <td>31.0</td>\n",
       "      <td>M</td>\n",
       "      <td>4698</td>\n",
       "    </tr>\n",
       "  </tbody>\n",
       "</table>\n",
       "<p>15067 rows × 5 columns</p>\n",
       "</div>"
      ],
      "text/plain": [
       "       year  month   day gender  births\n",
       "0      1969      1   1.0      F    4046\n",
       "1      1969      1   1.0      M    4440\n",
       "2      1969      1   2.0      F    4454\n",
       "3      1969      1   2.0      M    4548\n",
       "4      1969      1   3.0      F    4548\n",
       "...     ...    ...   ...    ...     ...\n",
       "15062  1988     12  29.0      M    5944\n",
       "15063  1988     12  30.0      F    5742\n",
       "15064  1988     12  30.0      M    6095\n",
       "15065  1988     12  31.0      F    4435\n",
       "15066  1988     12  31.0      M    4698\n",
       "\n",
       "[15067 rows x 5 columns]"
      ]
     },
     "execution_count": 41,
     "metadata": {},
     "output_type": "execute_result"
    }
   ],
   "source": [
    "cl_df"
   ]
  },
  {
   "cell_type": "code",
   "execution_count": 42,
   "id": "fb32855b-8fb5-4396-ae07-331caca2aac4",
   "metadata": {},
   "outputs": [
    {
     "name": "stderr",
     "output_type": "stream",
     "text": [
      "/tmp/ipykernel_3672/1187936965.py:2: SettingWithCopyWarning: \n",
      "A value is trying to be set on a copy of a slice from a DataFrame.\n",
      "Try using .loc[row_indexer,col_indexer] = value instead\n",
      "\n",
      "See the caveats in the documentation: https://pandas.pydata.org/pandas-docs/stable/user_guide/indexing.html#returning-a-view-versus-a-copy\n",
      "  cl_df['decade'] = decade\n"
     ]
    }
   ],
   "source": [
    "decade = (df.year // 10) * 10\n",
    "cl_df['decade'] = decade"
   ]
  },
  {
   "cell_type": "code",
   "execution_count": 43,
   "id": "8dbfda22-8ba6-46eb-b873-f55223e2aecd",
   "metadata": {},
   "outputs": [
    {
     "name": "stderr",
     "output_type": "stream",
     "text": [
      "/tmp/ipykernel_3672/4139051945.py:1: SettingWithCopyWarning: \n",
      "A value is trying to be set on a copy of a slice from a DataFrame.\n",
      "Try using .loc[row_indexer,col_indexer] = value instead\n",
      "\n",
      "See the caveats in the documentation: https://pandas.pydata.org/pandas-docs/stable/user_guide/indexing.html#returning-a-view-versus-a-copy\n",
      "  cl_df['day'] = cl_df['day'].astype('int')\n"
     ]
    }
   ],
   "source": [
    "cl_df['day'] = cl_df['day'].astype('int')"
   ]
  },
  {
   "cell_type": "code",
   "execution_count": 44,
   "id": "b0aca39c-8d15-410c-95d6-657a67a827ef",
   "metadata": {},
   "outputs": [],
   "source": [
    "# 이상치 날리기\n",
    "cl_df = cl_df[~(cl_df.day > 31)]\n",
    "cl_df = cl_df[~((cl_df.day > 30) & (cl_df.month.isin([2,4,6,9,11])))]\n",
    "cl_df = cl_df[~((cl_df.day >= 29) & (cl_df.month == 2))]"
   ]
  },
  {
   "cell_type": "code",
   "execution_count": 45,
   "id": "f387a0b6-e85f-4dd8-8a9f-0ec3d457c1fd",
   "metadata": {
    "tags": []
   },
   "outputs": [],
   "source": [
    "time_index = pd.to_datetime(cl_df.year*10000+cl_df.month*100+cl_df.day, format='%Y%m%d')"
   ]
  },
  {
   "cell_type": "code",
   "execution_count": 46,
   "id": "4731b01f-199b-4b9a-af06-069176f74d7b",
   "metadata": {
    "tags": []
   },
   "outputs": [],
   "source": [
    "cl_df.index = time_index"
   ]
  },
  {
   "cell_type": "code",
   "execution_count": 47,
   "id": "4c4587a3-3505-4551-8090-a9a45cfdd809",
   "metadata": {},
   "outputs": [
    {
     "data": {
      "text/plain": [
       "0       1969-01-01\n",
       "1       1969-01-01\n",
       "2       1969-01-02\n",
       "3       1969-01-02\n",
       "4       1969-01-03\n",
       "           ...    \n",
       "15062   1988-12-29\n",
       "15063   1988-12-30\n",
       "15064   1988-12-30\n",
       "15065   1988-12-31\n",
       "15066   1988-12-31\n",
       "Length: 14600, dtype: datetime64[ns]"
      ]
     },
     "execution_count": 47,
     "metadata": {},
     "output_type": "execute_result"
    }
   ],
   "source": [
    "time_index"
   ]
  },
  {
   "cell_type": "code",
   "execution_count": 48,
   "id": "00a646dd-6ca3-4f97-9b65-31aa357459a6",
   "metadata": {},
   "outputs": [],
   "source": [
    "cl_df['dayofweek'] = cl_df.index.dayofweek"
   ]
  },
  {
   "cell_type": "code",
   "execution_count": 49,
   "id": "b2bbf4b4-6623-4cc0-96b1-88ff6954fd3b",
   "metadata": {},
   "outputs": [],
   "source": [
    "cl_df = cl_df.loc[cl_df.decade.isin([1970,1980,1990]),:]"
   ]
  },
  {
   "cell_type": "code",
   "execution_count": 50,
   "id": "ab644fa2-f709-4ff1-8f26-25d27257425b",
   "metadata": {},
   "outputs": [
    {
     "data": {
      "text/html": [
       "<div>\n",
       "<style scoped>\n",
       "    .dataframe tbody tr th:only-of-type {\n",
       "        vertical-align: middle;\n",
       "    }\n",
       "\n",
       "    .dataframe tbody tr th {\n",
       "        vertical-align: top;\n",
       "    }\n",
       "\n",
       "    .dataframe thead th {\n",
       "        text-align: right;\n",
       "    }\n",
       "</style>\n",
       "<table border=\"1\" class=\"dataframe\">\n",
       "  <thead>\n",
       "    <tr style=\"text-align: right;\">\n",
       "      <th></th>\n",
       "      <th>year</th>\n",
       "      <th>month</th>\n",
       "      <th>day</th>\n",
       "      <th>gender</th>\n",
       "      <th>births</th>\n",
       "      <th>decade</th>\n",
       "      <th>dayofweek</th>\n",
       "    </tr>\n",
       "  </thead>\n",
       "  <tbody>\n",
       "    <tr>\n",
       "      <th>1970-01-01</th>\n",
       "      <td>1970</td>\n",
       "      <td>1</td>\n",
       "      <td>1</td>\n",
       "      <td>F</td>\n",
       "      <td>4064</td>\n",
       "      <td>1970</td>\n",
       "      <td>3</td>\n",
       "    </tr>\n",
       "    <tr>\n",
       "      <th>1970-01-01</th>\n",
       "      <td>1970</td>\n",
       "      <td>1</td>\n",
       "      <td>1</td>\n",
       "      <td>M</td>\n",
       "      <td>4308</td>\n",
       "      <td>1970</td>\n",
       "      <td>3</td>\n",
       "    </tr>\n",
       "    <tr>\n",
       "      <th>1970-01-02</th>\n",
       "      <td>1970</td>\n",
       "      <td>1</td>\n",
       "      <td>2</td>\n",
       "      <td>F</td>\n",
       "      <td>4536</td>\n",
       "      <td>1970</td>\n",
       "      <td>4</td>\n",
       "    </tr>\n",
       "    <tr>\n",
       "      <th>1970-01-02</th>\n",
       "      <td>1970</td>\n",
       "      <td>1</td>\n",
       "      <td>2</td>\n",
       "      <td>M</td>\n",
       "      <td>4698</td>\n",
       "      <td>1970</td>\n",
       "      <td>4</td>\n",
       "    </tr>\n",
       "    <tr>\n",
       "      <th>1970-01-03</th>\n",
       "      <td>1970</td>\n",
       "      <td>1</td>\n",
       "      <td>3</td>\n",
       "      <td>F</td>\n",
       "      <td>4398</td>\n",
       "      <td>1970</td>\n",
       "      <td>5</td>\n",
       "    </tr>\n",
       "    <tr>\n",
       "      <th>...</th>\n",
       "      <td>...</td>\n",
       "      <td>...</td>\n",
       "      <td>...</td>\n",
       "      <td>...</td>\n",
       "      <td>...</td>\n",
       "      <td>...</td>\n",
       "      <td>...</td>\n",
       "    </tr>\n",
       "    <tr>\n",
       "      <th>1988-12-29</th>\n",
       "      <td>1988</td>\n",
       "      <td>12</td>\n",
       "      <td>29</td>\n",
       "      <td>M</td>\n",
       "      <td>5944</td>\n",
       "      <td>1980</td>\n",
       "      <td>3</td>\n",
       "    </tr>\n",
       "    <tr>\n",
       "      <th>1988-12-30</th>\n",
       "      <td>1988</td>\n",
       "      <td>12</td>\n",
       "      <td>30</td>\n",
       "      <td>F</td>\n",
       "      <td>5742</td>\n",
       "      <td>1980</td>\n",
       "      <td>4</td>\n",
       "    </tr>\n",
       "    <tr>\n",
       "      <th>1988-12-30</th>\n",
       "      <td>1988</td>\n",
       "      <td>12</td>\n",
       "      <td>30</td>\n",
       "      <td>M</td>\n",
       "      <td>6095</td>\n",
       "      <td>1980</td>\n",
       "      <td>4</td>\n",
       "    </tr>\n",
       "    <tr>\n",
       "      <th>1988-12-31</th>\n",
       "      <td>1988</td>\n",
       "      <td>12</td>\n",
       "      <td>31</td>\n",
       "      <td>F</td>\n",
       "      <td>4435</td>\n",
       "      <td>1980</td>\n",
       "      <td>5</td>\n",
       "    </tr>\n",
       "    <tr>\n",
       "      <th>1988-12-31</th>\n",
       "      <td>1988</td>\n",
       "      <td>12</td>\n",
       "      <td>31</td>\n",
       "      <td>M</td>\n",
       "      <td>4698</td>\n",
       "      <td>1980</td>\n",
       "      <td>5</td>\n",
       "    </tr>\n",
       "  </tbody>\n",
       "</table>\n",
       "<p>13870 rows × 7 columns</p>\n",
       "</div>"
      ],
      "text/plain": [
       "            year  month  day gender  births  decade  dayofweek\n",
       "1970-01-01  1970      1    1      F    4064    1970          3\n",
       "1970-01-01  1970      1    1      M    4308    1970          3\n",
       "1970-01-02  1970      1    2      F    4536    1970          4\n",
       "1970-01-02  1970      1    2      M    4698    1970          4\n",
       "1970-01-03  1970      1    3      F    4398    1970          5\n",
       "...          ...    ...  ...    ...     ...     ...        ...\n",
       "1988-12-29  1988     12   29      M    5944    1980          3\n",
       "1988-12-30  1988     12   30      F    5742    1980          4\n",
       "1988-12-30  1988     12   30      M    6095    1980          4\n",
       "1988-12-31  1988     12   31      F    4435    1980          5\n",
       "1988-12-31  1988     12   31      M    4698    1980          5\n",
       "\n",
       "[13870 rows x 7 columns]"
      ]
     },
     "execution_count": 50,
     "metadata": {},
     "output_type": "execute_result"
    }
   ],
   "source": [
    "cl_df"
   ]
  },
  {
   "cell_type": "code",
   "execution_count": 51,
   "id": "4348e2df-854f-4864-b528-3182c8037c25",
   "metadata": {},
   "outputs": [
    {
     "data": {
      "text/plain": [
       "<AxesSubplot:xlabel='dayofweek'>"
      ]
     },
     "execution_count": 51,
     "metadata": {},
     "output_type": "execute_result"
    },
    {
     "data": {
      "image/png": "[encoded data removed]",
      "text/plain": [
       "<Figure size 432x288 with 1 Axes>"
      ]
     },
     "metadata": {
      "needs_background": "light"
     },
     "output_type": "display_data"
    }
   ],
   "source": [
    "cl_df.pivot_table('births',index='dayofweek',columns='decade').plot()"
   ]
  },
  {
   "cell_type": "code",
   "execution_count": 52,
   "id": "8ce69fad-aa5c-4ebb-8b7a-ceb93bb3019c",
   "metadata": {},
   "outputs": [
    {
     "data": {
      "text/html": [
       "<div>\n",
       "<style scoped>\n",
       "    .dataframe tbody tr th:only-of-type {\n",
       "        vertical-align: middle;\n",
       "    }\n",
       "\n",
       "    .dataframe tbody tr th {\n",
       "        vertical-align: top;\n",
       "    }\n",
       "\n",
       "    .dataframe thead th {\n",
       "        text-align: right;\n",
       "    }\n",
       "</style>\n",
       "<table border=\"1\" class=\"dataframe\">\n",
       "  <thead>\n",
       "    <tr style=\"text-align: right;\">\n",
       "      <th></th>\n",
       "      <th>method</th>\n",
       "      <th>number</th>\n",
       "      <th>orbital_period</th>\n",
       "      <th>mass</th>\n",
       "      <th>distance</th>\n",
       "      <th>year</th>\n",
       "    </tr>\n",
       "  </thead>\n",
       "  <tbody>\n",
       "    <tr>\n",
       "      <th>0</th>\n",
       "      <td>Radial Velocity</td>\n",
       "      <td>1</td>\n",
       "      <td>269.300</td>\n",
       "      <td>7.10</td>\n",
       "      <td>77.40</td>\n",
       "      <td>2006</td>\n",
       "    </tr>\n",
       "    <tr>\n",
       "      <th>1</th>\n",
       "      <td>Radial Velocity</td>\n",
       "      <td>1</td>\n",
       "      <td>874.774</td>\n",
       "      <td>2.21</td>\n",
       "      <td>56.95</td>\n",
       "      <td>2008</td>\n",
       "    </tr>\n",
       "    <tr>\n",
       "      <th>2</th>\n",
       "      <td>Radial Velocity</td>\n",
       "      <td>1</td>\n",
       "      <td>763.000</td>\n",
       "      <td>2.60</td>\n",
       "      <td>19.84</td>\n",
       "      <td>2011</td>\n",
       "    </tr>\n",
       "    <tr>\n",
       "      <th>3</th>\n",
       "      <td>Radial Velocity</td>\n",
       "      <td>1</td>\n",
       "      <td>326.030</td>\n",
       "      <td>19.40</td>\n",
       "      <td>110.62</td>\n",
       "      <td>2007</td>\n",
       "    </tr>\n",
       "    <tr>\n",
       "      <th>4</th>\n",
       "      <td>Radial Velocity</td>\n",
       "      <td>1</td>\n",
       "      <td>516.220</td>\n",
       "      <td>10.50</td>\n",
       "      <td>119.47</td>\n",
       "      <td>2009</td>\n",
       "    </tr>\n",
       "  </tbody>\n",
       "</table>\n",
       "</div>"
      ],
      "text/plain": [
       "            method  number  orbital_period   mass  distance  year\n",
       "0  Radial Velocity       1         269.300   7.10     77.40  2006\n",
       "1  Radial Velocity       1         874.774   2.21     56.95  2008\n",
       "2  Radial Velocity       1         763.000   2.60     19.84  2011\n",
       "3  Radial Velocity       1         326.030  19.40    110.62  2007\n",
       "4  Radial Velocity       1         516.220  10.50    119.47  2009"
      ]
     },
     "execution_count": 52,
     "metadata": {},
     "output_type": "execute_result"
    }
   ],
   "source": [
    "planets.head()"
   ]
  },
  {
   "cell_type": "code",
   "execution_count": 53,
   "id": "1b90f5af-6780-4aa4-9010-517af5118504",
   "metadata": {},
   "outputs": [
    {
     "data": {
      "text/plain": [
       "array([2006, 2008, 2011, 2007, 2009, 2002, 1996, 2010, 2001, 1995, 2004,\n",
       "       2012, 2013, 2005, 2000, 2003, 1997, 1999, 2014, 1998, 1989, 1992,\n",
       "       1994])"
      ]
     },
     "execution_count": 53,
     "metadata": {},
     "output_type": "execute_result"
    }
   ],
   "source": [
    "planets.year.unique()"
   ]
  },
  {
   "cell_type": "code",
   "execution_count": 54,
   "id": "ab5fd152-7ed4-446d-a199-fff5bdbcf4de",
   "metadata": {},
   "outputs": [],
   "source": [
    "# 전체 연도가 index, method에 따른 mass의 sum"
   ]
  },
  {
   "cell_type": "code",
   "execution_count": 55,
   "id": "5fca0781-7731-43f5-bbac-9061c486e38b",
   "metadata": {},
   "outputs": [
    {
     "data": {
      "text/plain": [
       "method              0\n",
       "number              0\n",
       "orbital_period     43\n",
       "mass              522\n",
       "distance          227\n",
       "year                0\n",
       "dtype: int64"
      ]
     },
     "execution_count": 55,
     "metadata": {},
     "output_type": "execute_result"
    }
   ],
   "source": [
    "planets.isnull().sum()"
   ]
  },
  {
   "cell_type": "code",
   "execution_count": 56,
   "id": "cd5c2295-eea1-4b7b-a68d-8d38094af4f6",
   "metadata": {},
   "outputs": [],
   "source": [
    "planets.mass.dropna(inplace=True)"
   ]
  },
  {
   "cell_type": "code",
   "execution_count": 57,
   "id": "3a974a69-9aec-4e7f-a7ef-707154c20986",
   "metadata": {},
   "outputs": [],
   "source": [
    "planets = planets[~(planets.mass.isna())]"
   ]
  },
  {
   "cell_type": "code",
   "execution_count": 58,
   "id": "876034f2-4250-4706-8955-1a67e3c4764d",
   "metadata": {},
   "outputs": [
    {
     "data": {
      "text/html": [
       "<div>\n",
       "<style scoped>\n",
       "    .dataframe tbody tr th:only-of-type {\n",
       "        vertical-align: middle;\n",
       "    }\n",
       "\n",
       "    .dataframe tbody tr th {\n",
       "        vertical-align: top;\n",
       "    }\n",
       "\n",
       "    .dataframe thead th {\n",
       "        text-align: right;\n",
       "    }\n",
       "</style>\n",
       "<table border=\"1\" class=\"dataframe\">\n",
       "  <thead>\n",
       "    <tr style=\"text-align: right;\">\n",
       "      <th></th>\n",
       "      <th>method</th>\n",
       "      <th>number</th>\n",
       "      <th>orbital_period</th>\n",
       "      <th>mass</th>\n",
       "      <th>distance</th>\n",
       "      <th>year</th>\n",
       "    </tr>\n",
       "  </thead>\n",
       "  <tbody>\n",
       "    <tr>\n",
       "      <th>0</th>\n",
       "      <td>Radial Velocity</td>\n",
       "      <td>1</td>\n",
       "      <td>269.300</td>\n",
       "      <td>7.10</td>\n",
       "      <td>77.40</td>\n",
       "      <td>2006</td>\n",
       "    </tr>\n",
       "    <tr>\n",
       "      <th>1</th>\n",
       "      <td>Radial Velocity</td>\n",
       "      <td>1</td>\n",
       "      <td>874.774</td>\n",
       "      <td>2.21</td>\n",
       "      <td>56.95</td>\n",
       "      <td>2008</td>\n",
       "    </tr>\n",
       "    <tr>\n",
       "      <th>2</th>\n",
       "      <td>Radial Velocity</td>\n",
       "      <td>1</td>\n",
       "      <td>763.000</td>\n",
       "      <td>2.60</td>\n",
       "      <td>19.84</td>\n",
       "      <td>2011</td>\n",
       "    </tr>\n",
       "    <tr>\n",
       "      <th>3</th>\n",
       "      <td>Radial Velocity</td>\n",
       "      <td>1</td>\n",
       "      <td>326.030</td>\n",
       "      <td>19.40</td>\n",
       "      <td>110.62</td>\n",
       "      <td>2007</td>\n",
       "    </tr>\n",
       "    <tr>\n",
       "      <th>4</th>\n",
       "      <td>Radial Velocity</td>\n",
       "      <td>1</td>\n",
       "      <td>516.220</td>\n",
       "      <td>10.50</td>\n",
       "      <td>119.47</td>\n",
       "      <td>2009</td>\n",
       "    </tr>\n",
       "  </tbody>\n",
       "</table>\n",
       "</div>"
      ],
      "text/plain": [
       "            method  number  orbital_period   mass  distance  year\n",
       "0  Radial Velocity       1         269.300   7.10     77.40  2006\n",
       "1  Radial Velocity       1         874.774   2.21     56.95  2008\n",
       "2  Radial Velocity       1         763.000   2.60     19.84  2011\n",
       "3  Radial Velocity       1         326.030  19.40    110.62  2007\n",
       "4  Radial Velocity       1         516.220  10.50    119.47  2009"
      ]
     },
     "execution_count": 58,
     "metadata": {},
     "output_type": "execute_result"
    }
   ],
   "source": [
    "planets.head()"
   ]
  },
  {
   "cell_type": "code",
   "execution_count": 59,
   "id": "80b95e65-ec80-4c6d-8d38-460332c46b94",
   "metadata": {},
   "outputs": [
    {
     "data": {
      "text/plain": [
       "<AxesSubplot:xlabel='year'>"
      ]
     },
     "execution_count": 59,
     "metadata": {},
     "output_type": "execute_result"
    },
    {
     "data": {
      "image/png": "[encoded data removed]",
      "text/plain": [
       "<Figure size 432x288 with 1 Axes>"
      ]
     },
     "metadata": {
      "needs_background": "light"
     },
     "output_type": "display_data"
    }
   ],
   "source": [
    "planets.pivot_table('mass', index='year', columns='method', aggfunc='sum').loc[:,['Radial Velocity']].plot()"
   ]
  },
  {
   "cell_type": "code",
   "execution_count": 60,
   "id": "244d44d2-28ec-4c0b-9138-ecaf8f60cbac",
   "metadata": {},
   "outputs": [
    {
     "data": {
      "text/plain": [
       "array([ 4,  6, 10, 14, 22, 26])"
      ]
     },
     "execution_count": 60,
     "metadata": {},
     "output_type": "execute_result"
    }
   ],
   "source": [
    "x = np.array([2, 3, 5, 7, 11, 13])\n",
    "x * 2"
   ]
  },
  {
   "cell_type": "code",
   "execution_count": 61,
   "id": "20adeffa-974e-41b6-b63a-9a340b4ba4c8",
   "metadata": {},
   "outputs": [
    {
     "data": {
      "text/plain": [
       "['Peter', 'Paul', 'Mary', 'Guido']"
      ]
     },
     "execution_count": 61,
     "metadata": {},
     "output_type": "execute_result"
    }
   ],
   "source": [
    "data = ['peter', 'Paul', 'MARY', 'gUIDO']\n",
    "[s.capitalize() for s in data]"
   ]
  },
  {
   "cell_type": "code",
   "execution_count": 62,
   "id": "cf19e488-0f54-4310-9e8f-27abc96eed23",
   "metadata": {},
   "outputs": [
    {
     "data": {
      "text/plain": [
       "0    Peter\n",
       "1     Paul\n",
       "2     Mary\n",
       "3    Guido\n",
       "dtype: object"
      ]
     },
     "execution_count": 62,
     "metadata": {},
     "output_type": "execute_result"
    }
   ],
   "source": [
    "pd.Series(data).str.capitalize()"
   ]
  },
  {
   "cell_type": "code",
   "execution_count": 63,
   "id": "96ce8324-69f7-4809-a2e7-10c1fee8c01d",
   "metadata": {},
   "outputs": [],
   "source": [
    "monte = pd.Series(['Graham Chapman', 'John Cleese', 'Terry Gilliam',\n",
    "                   'Eric Idle', 'Terry Jones', 'Michael Palin'])"
   ]
  },
  {
   "cell_type": "code",
   "execution_count": 64,
   "id": "0d25cc1e-79f1-4a9f-9b74-7db9b25dcb4c",
   "metadata": {},
   "outputs": [
    {
     "data": {
      "text/plain": [
       "0    GRAHAM CHAPMAN\n",
       "1       JOHN CLEESE\n",
       "2     TERRY GILLIAM\n",
       "3         ERIC IDLE\n",
       "4       TERRY JONES\n",
       "5     MICHAEL PALIN\n",
       "dtype: object"
      ]
     },
     "execution_count": 64,
     "metadata": {},
     "output_type": "execute_result"
    }
   ],
   "source": [
    "monte.str.upper()"
   ]
  },
  {
   "cell_type": "code",
   "execution_count": 65,
   "id": "bb258fa2-da78-4487-8a3c-f9a5e69920c3",
   "metadata": {},
   "outputs": [
    {
     "data": {
      "text/plain": [
       "2    Terry Gilliam\n",
       "4      Terry Jones\n",
       "dtype: object"
      ]
     },
     "execution_count": 65,
     "metadata": {},
     "output_type": "execute_result"
    }
   ],
   "source": [
    "monte[monte.str.startswith('T')]"
   ]
  },
  {
   "cell_type": "code",
   "execution_count": 66,
   "id": "08e21c9b-3200-4e8a-8df0-32eba5e7a593",
   "metadata": {},
   "outputs": [
    {
     "data": {
      "text/plain": [
       "0    2\n",
       "1    2\n",
       "2    2\n",
       "3    2\n",
       "4    2\n",
       "5    2\n",
       "dtype: int64"
      ]
     },
     "execution_count": 66,
     "metadata": {},
     "output_type": "execute_result"
    }
   ],
   "source": [
    "monte.str.split().apply(len)"
   ]
  },
  {
   "cell_type": "code",
   "execution_count": 67,
   "id": "816e8c3b-bf33-4ef7-bce0-6ec2941a517e",
   "metadata": {},
   "outputs": [
    {
     "data": {
      "text/html": [
       "<div>\n",
       "<style scoped>\n",
       "    .dataframe tbody tr th:only-of-type {\n",
       "        vertical-align: middle;\n",
       "    }\n",
       "\n",
       "    .dataframe tbody tr th {\n",
       "        vertical-align: top;\n",
       "    }\n",
       "\n",
       "    .dataframe thead th {\n",
       "        text-align: right;\n",
       "    }\n",
       "</style>\n",
       "<table border=\"1\" class=\"dataframe\">\n",
       "  <thead>\n",
       "    <tr style=\"text-align: right;\">\n",
       "      <th></th>\n",
       "      <th>0</th>\n",
       "      <th>1</th>\n",
       "    </tr>\n",
       "  </thead>\n",
       "  <tbody>\n",
       "    <tr>\n",
       "      <th>0</th>\n",
       "      <td>NaN</td>\n",
       "      <td>NaN</td>\n",
       "    </tr>\n",
       "    <tr>\n",
       "      <th>1</th>\n",
       "      <td>NaN</td>\n",
       "      <td>NaN</td>\n",
       "    </tr>\n",
       "    <tr>\n",
       "      <th>2</th>\n",
       "      <td>T</td>\n",
       "      <td>T</td>\n",
       "    </tr>\n",
       "    <tr>\n",
       "      <th>3</th>\n",
       "      <td>NaN</td>\n",
       "      <td>NaN</td>\n",
       "    </tr>\n",
       "    <tr>\n",
       "      <th>4</th>\n",
       "      <td>T</td>\n",
       "      <td>T</td>\n",
       "    </tr>\n",
       "    <tr>\n",
       "      <th>5</th>\n",
       "      <td>NaN</td>\n",
       "      <td>NaN</td>\n",
       "    </tr>\n",
       "  </tbody>\n",
       "</table>\n",
       "</div>"
      ],
      "text/plain": [
       "     0    1\n",
       "0  NaN  NaN\n",
       "1  NaN  NaN\n",
       "2    T    T\n",
       "3  NaN  NaN\n",
       "4    T    T\n",
       "5  NaN  NaN"
      ]
     },
     "execution_count": 67,
     "metadata": {},
     "output_type": "execute_result"
    }
   ],
   "source": [
    "monte.str.extract('((^T)+)', expand=False)"
   ]
  },
  {
   "cell_type": "code",
   "execution_count": 68,
   "id": "99a0ebce-3577-408c-b2cb-13100a67b3b1",
   "metadata": {},
   "outputs": [
    {
     "data": {
      "text/plain": [
       "0    Graham Chapman\n",
       "1       John Cleese\n",
       "2     Terry Gilliam\n",
       "3         Eric Idle\n",
       "4       Terry Jones\n",
       "5     Michael Palin\n",
       "dtype: object"
      ]
     },
     "execution_count": 68,
     "metadata": {},
     "output_type": "execute_result"
    }
   ],
   "source": [
    "monte"
   ]
  },
  {
   "cell_type": "code",
   "execution_count": 69,
   "id": "8d2a2e69-eea4-4d4d-a946-18008bb984d5",
   "metadata": {},
   "outputs": [
    {
     "data": {
      "text/plain": [
       "0    [Graham Chapman]\n",
       "1                  []\n",
       "2     [Terry Gilliam]\n",
       "3                  []\n",
       "4       [Terry Jones]\n",
       "5     [Michael Palin]\n",
       "dtype: object"
      ]
     },
     "execution_count": 69,
     "metadata": {},
     "output_type": "execute_result"
    }
   ],
   "source": [
    "monte.str.findall(r'^[^AEIOU].*[^aeiou]$')"
   ]
  },
  {
   "cell_type": "code",
   "execution_count": 70,
   "id": "addfa06c-5374-4f86-a7ff-95ef7ad4ed8c",
   "metadata": {},
   "outputs": [
    {
     "data": {
      "text/plain": [
       "0    GRA\n",
       "1    JOH\n",
       "2    TER\n",
       "3    ERI\n",
       "4    TER\n",
       "5    MIC\n",
       "dtype: object"
      ]
     },
     "execution_count": 70,
     "metadata": {},
     "output_type": "execute_result"
    }
   ],
   "source": [
    "monte.str[0:3].str.upper()"
   ]
  },
  {
   "cell_type": "code",
   "execution_count": 71,
   "id": "0fbedb55-2f62-4216-b12a-edbae274c1ef",
   "metadata": {},
   "outputs": [
    {
     "data": {
      "text/plain": [
       "0    Chapman\n",
       "1     Cleese\n",
       "2    Gilliam\n",
       "3       Idle\n",
       "4      Jones\n",
       "5      Palin\n",
       "dtype: object"
      ]
     },
     "execution_count": 71,
     "metadata": {},
     "output_type": "execute_result"
    }
   ],
   "source": [
    "monte.str.split().str.get(-1)"
   ]
  },
  {
   "cell_type": "code",
   "execution_count": 72,
   "id": "5fc374ab-340c-4e08-9501-3f71e62981a2",
   "metadata": {},
   "outputs": [
    {
     "data": {
      "text/html": [
       "<div>\n",
       "<style scoped>\n",
       "    .dataframe tbody tr th:only-of-type {\n",
       "        vertical-align: middle;\n",
       "    }\n",
       "\n",
       "    .dataframe tbody tr th {\n",
       "        vertical-align: top;\n",
       "    }\n",
       "\n",
       "    .dataframe thead th {\n",
       "        text-align: right;\n",
       "    }\n",
       "</style>\n",
       "<table border=\"1\" class=\"dataframe\">\n",
       "  <thead>\n",
       "    <tr style=\"text-align: right;\">\n",
       "      <th></th>\n",
       "      <th>name</th>\n",
       "      <th>info</th>\n",
       "    </tr>\n",
       "  </thead>\n",
       "  <tbody>\n",
       "    <tr>\n",
       "      <th>0</th>\n",
       "      <td>Graham Chapman</td>\n",
       "      <td>B|C|D</td>\n",
       "    </tr>\n",
       "    <tr>\n",
       "      <th>1</th>\n",
       "      <td>John Cleese</td>\n",
       "      <td>B|D</td>\n",
       "    </tr>\n",
       "    <tr>\n",
       "      <th>2</th>\n",
       "      <td>Terry Gilliam</td>\n",
       "      <td>A|C</td>\n",
       "    </tr>\n",
       "    <tr>\n",
       "      <th>3</th>\n",
       "      <td>Eric Idle</td>\n",
       "      <td>B|D</td>\n",
       "    </tr>\n",
       "    <tr>\n",
       "      <th>4</th>\n",
       "      <td>Terry Jones</td>\n",
       "      <td>B|C</td>\n",
       "    </tr>\n",
       "    <tr>\n",
       "      <th>5</th>\n",
       "      <td>Michael Palin</td>\n",
       "      <td>B|C|D</td>\n",
       "    </tr>\n",
       "  </tbody>\n",
       "</table>\n",
       "</div>"
      ],
      "text/plain": [
       "             name   info\n",
       "0  Graham Chapman  B|C|D\n",
       "1     John Cleese    B|D\n",
       "2   Terry Gilliam    A|C\n",
       "3       Eric Idle    B|D\n",
       "4     Terry Jones    B|C\n",
       "5   Michael Palin  B|C|D"
      ]
     },
     "execution_count": 72,
     "metadata": {},
     "output_type": "execute_result"
    }
   ],
   "source": [
    "full_monte = pd.DataFrame({'name': monte,\n",
    "                           'info': ['B|C|D', 'B|D', 'A|C',\n",
    "                                    'B|D', 'B|C', 'B|C|D']})\n",
    "full_monte"
   ]
  },
  {
   "cell_type": "code",
   "execution_count": 73,
   "id": "7a0f4792-2de2-4b74-917a-61ef82383f20",
   "metadata": {},
   "outputs": [
    {
     "data": {
      "text/html": [
       "<div>\n",
       "<style scoped>\n",
       "    .dataframe tbody tr th:only-of-type {\n",
       "        vertical-align: middle;\n",
       "    }\n",
       "\n",
       "    .dataframe tbody tr th {\n",
       "        vertical-align: top;\n",
       "    }\n",
       "\n",
       "    .dataframe thead th {\n",
       "        text-align: right;\n",
       "    }\n",
       "</style>\n",
       "<table border=\"1\" class=\"dataframe\">\n",
       "  <thead>\n",
       "    <tr style=\"text-align: right;\">\n",
       "      <th></th>\n",
       "      <th>A</th>\n",
       "      <th>B</th>\n",
       "      <th>C</th>\n",
       "      <th>D</th>\n",
       "    </tr>\n",
       "  </thead>\n",
       "  <tbody>\n",
       "    <tr>\n",
       "      <th>0</th>\n",
       "      <td>0</td>\n",
       "      <td>1</td>\n",
       "      <td>1</td>\n",
       "      <td>1</td>\n",
       "    </tr>\n",
       "    <tr>\n",
       "      <th>1</th>\n",
       "      <td>0</td>\n",
       "      <td>1</td>\n",
       "      <td>0</td>\n",
       "      <td>1</td>\n",
       "    </tr>\n",
       "    <tr>\n",
       "      <th>2</th>\n",
       "      <td>1</td>\n",
       "      <td>0</td>\n",
       "      <td>1</td>\n",
       "      <td>0</td>\n",
       "    </tr>\n",
       "    <tr>\n",
       "      <th>3</th>\n",
       "      <td>0</td>\n",
       "      <td>1</td>\n",
       "      <td>0</td>\n",
       "      <td>1</td>\n",
       "    </tr>\n",
       "    <tr>\n",
       "      <th>4</th>\n",
       "      <td>0</td>\n",
       "      <td>1</td>\n",
       "      <td>1</td>\n",
       "      <td>0</td>\n",
       "    </tr>\n",
       "    <tr>\n",
       "      <th>5</th>\n",
       "      <td>0</td>\n",
       "      <td>1</td>\n",
       "      <td>1</td>\n",
       "      <td>1</td>\n",
       "    </tr>\n",
       "  </tbody>\n",
       "</table>\n",
       "</div>"
      ],
      "text/plain": [
       "   A  B  C  D\n",
       "0  0  1  1  1\n",
       "1  0  1  0  1\n",
       "2  1  0  1  0\n",
       "3  0  1  0  1\n",
       "4  0  1  1  0\n",
       "5  0  1  1  1"
      ]
     },
     "execution_count": 73,
     "metadata": {},
     "output_type": "execute_result"
    }
   ],
   "source": [
    "full_monte['info'].str.get_dummies('|')"
   ]
  },
  {
   "cell_type": "code",
   "execution_count": 74,
   "id": "1458edfa-a6bf-409d-8adf-06c81dd70a04",
   "metadata": {},
   "outputs": [],
   "source": [
    "dic = {\"a\": \"Biden said Nato has never been more united. He urged continuing unity so sanctions would stay in place long enough to affect Moscow's decision-making\",\n",
    "\"b\": \"Biden, the UK's Johnson and France's Macron all refused to say exactly how they would respond if Russia used chemical weapons in Ukraine\",\n",
    "\"c\": \"Nato has confirmed that four new battlegroups comprised of 40,000 troops in total will be sent to Slovakia, Hungary, Bulgaria and Romania\"}"
   ]
  },
  {
   "cell_type": "code",
   "execution_count": 75,
   "id": "13964297-9a8e-4086-ae7a-44f284547132",
   "metadata": {},
   "outputs": [],
   "source": [
    "sr = pd.Series(dic)\n",
    "df = sr.reset_index()"
   ]
  },
  {
   "cell_type": "code",
   "execution_count": 76,
   "id": "b4ac45b7-dd66-47fd-85d0-d2987988140f",
   "metadata": {},
   "outputs": [
    {
     "data": {
      "text/html": [
       "<div>\n",
       "<style scoped>\n",
       "    .dataframe tbody tr th:only-of-type {\n",
       "        vertical-align: middle;\n",
       "    }\n",
       "\n",
       "    .dataframe tbody tr th {\n",
       "        vertical-align: top;\n",
       "    }\n",
       "\n",
       "    .dataframe thead th {\n",
       "        text-align: right;\n",
       "    }\n",
       "</style>\n",
       "<table border=\"1\" class=\"dataframe\">\n",
       "  <thead>\n",
       "    <tr style=\"text-align: right;\">\n",
       "      <th></th>\n",
       "      <th>index</th>\n",
       "      <th>0</th>\n",
       "    </tr>\n",
       "  </thead>\n",
       "  <tbody>\n",
       "    <tr>\n",
       "      <th>0</th>\n",
       "      <td>a</td>\n",
       "      <td>Biden said Nato has never been more united. He...</td>\n",
       "    </tr>\n",
       "    <tr>\n",
       "      <th>1</th>\n",
       "      <td>b</td>\n",
       "      <td>Biden, the UK's Johnson and France's Macron al...</td>\n",
       "    </tr>\n",
       "    <tr>\n",
       "      <th>2</th>\n",
       "      <td>c</td>\n",
       "      <td>Nato has confirmed that four new battlegroups ...</td>\n",
       "    </tr>\n",
       "  </tbody>\n",
       "</table>\n",
       "</div>"
      ],
      "text/plain": [
       "  index                                                  0\n",
       "0     a  Biden said Nato has never been more united. He...\n",
       "1     b  Biden, the UK's Johnson and France's Macron al...\n",
       "2     c  Nato has confirmed that four new battlegroups ..."
      ]
     },
     "execution_count": 76,
     "metadata": {},
     "output_type": "execute_result"
    }
   ],
   "source": [
    "df"
   ]
  },
  {
   "cell_type": "code",
   "execution_count": 77,
   "id": "07a74509-a188-458a-9b6f-9bc5773984ec",
   "metadata": {},
   "outputs": [],
   "source": [
    "df.columns = ['docid', 'text']"
   ]
  },
  {
   "cell_type": "code",
   "execution_count": 78,
   "id": "2a5a5d1f-7189-4b68-aadd-7928200d1d60",
   "metadata": {},
   "outputs": [
    {
     "data": {
      "text/html": [
       "<div>\n",
       "<style scoped>\n",
       "    .dataframe tbody tr th:only-of-type {\n",
       "        vertical-align: middle;\n",
       "    }\n",
       "\n",
       "    .dataframe tbody tr th {\n",
       "        vertical-align: top;\n",
       "    }\n",
       "\n",
       "    .dataframe thead th {\n",
       "        text-align: right;\n",
       "    }\n",
       "</style>\n",
       "<table border=\"1\" class=\"dataframe\">\n",
       "  <thead>\n",
       "    <tr style=\"text-align: right;\">\n",
       "      <th></th>\n",
       "      <th>40,000</th>\n",
       "      <th>Biden</th>\n",
       "      <th>Biden,</th>\n",
       "      <th>Bulgaria</th>\n",
       "      <th>France's</th>\n",
       "      <th>He</th>\n",
       "      <th>Hungary,</th>\n",
       "      <th>Johnson</th>\n",
       "      <th>Macron</th>\n",
       "      <th>Moscow's</th>\n",
       "      <th>...</th>\n",
       "      <th>to</th>\n",
       "      <th>total</th>\n",
       "      <th>troops</th>\n",
       "      <th>united.</th>\n",
       "      <th>unity</th>\n",
       "      <th>urged</th>\n",
       "      <th>used</th>\n",
       "      <th>weapons</th>\n",
       "      <th>will</th>\n",
       "      <th>would</th>\n",
       "    </tr>\n",
       "  </thead>\n",
       "  <tbody>\n",
       "    <tr>\n",
       "      <th>0</th>\n",
       "      <td>0</td>\n",
       "      <td>1</td>\n",
       "      <td>0</td>\n",
       "      <td>0</td>\n",
       "      <td>0</td>\n",
       "      <td>1</td>\n",
       "      <td>0</td>\n",
       "      <td>0</td>\n",
       "      <td>0</td>\n",
       "      <td>1</td>\n",
       "      <td>...</td>\n",
       "      <td>1</td>\n",
       "      <td>0</td>\n",
       "      <td>0</td>\n",
       "      <td>1</td>\n",
       "      <td>1</td>\n",
       "      <td>1</td>\n",
       "      <td>0</td>\n",
       "      <td>0</td>\n",
       "      <td>0</td>\n",
       "      <td>1</td>\n",
       "    </tr>\n",
       "    <tr>\n",
       "      <th>1</th>\n",
       "      <td>0</td>\n",
       "      <td>0</td>\n",
       "      <td>1</td>\n",
       "      <td>0</td>\n",
       "      <td>1</td>\n",
       "      <td>0</td>\n",
       "      <td>0</td>\n",
       "      <td>1</td>\n",
       "      <td>1</td>\n",
       "      <td>0</td>\n",
       "      <td>...</td>\n",
       "      <td>1</td>\n",
       "      <td>0</td>\n",
       "      <td>0</td>\n",
       "      <td>0</td>\n",
       "      <td>0</td>\n",
       "      <td>0</td>\n",
       "      <td>1</td>\n",
       "      <td>1</td>\n",
       "      <td>0</td>\n",
       "      <td>1</td>\n",
       "    </tr>\n",
       "    <tr>\n",
       "      <th>2</th>\n",
       "      <td>1</td>\n",
       "      <td>0</td>\n",
       "      <td>0</td>\n",
       "      <td>1</td>\n",
       "      <td>0</td>\n",
       "      <td>0</td>\n",
       "      <td>1</td>\n",
       "      <td>0</td>\n",
       "      <td>0</td>\n",
       "      <td>0</td>\n",
       "      <td>...</td>\n",
       "      <td>1</td>\n",
       "      <td>1</td>\n",
       "      <td>1</td>\n",
       "      <td>0</td>\n",
       "      <td>0</td>\n",
       "      <td>0</td>\n",
       "      <td>0</td>\n",
       "      <td>0</td>\n",
       "      <td>1</td>\n",
       "      <td>0</td>\n",
       "    </tr>\n",
       "  </tbody>\n",
       "</table>\n",
       "<p>3 rows × 61 columns</p>\n",
       "</div>"
      ],
      "text/plain": [
       "   40,000  Biden  Biden,  Bulgaria  France's  He  Hungary,  Johnson  Macron  \\\n",
       "0       0      1       0         0         0   1         0        0       0   \n",
       "1       0      0       1         0         1   0         0        1       1   \n",
       "2       1      0       0         1         0   0         1        0       0   \n",
       "\n",
       "   Moscow's  ...  to  total  troops  united.  unity  urged  used  weapons  \\\n",
       "0         1  ...   1      0       0        1      1      1     0        0   \n",
       "1         0  ...   1      0       0        0      0      0     1        1   \n",
       "2         0  ...   1      1       1        0      0      0     0        0   \n",
       "\n",
       "   will  would  \n",
       "0     0      1  \n",
       "1     0      1  \n",
       "2     1      0  \n",
       "\n",
       "[3 rows x 61 columns]"
      ]
     },
     "execution_count": 78,
     "metadata": {},
     "output_type": "execute_result"
    }
   ],
   "source": [
    "df['text'].str.get_dummies(' ')"
   ]
  },
  {
   "cell_type": "code",
   "execution_count": 79,
   "id": "1874c4f7-07fc-476f-9e4c-1e874a2da003",
   "metadata": {},
   "outputs": [],
   "source": [
    "spice_list = ['salt', 'pepper', 'oregano', 'sage', 'parsley',\n",
    "              'rosemary', 'tarragon', 'thyme', 'paprika', 'cumin']"
   ]
  },
  {
   "cell_type": "code",
   "execution_count": 80,
   "id": "d54e8bc6-9dc7-4306-82e8-07a16e6c9775",
   "metadata": {},
   "outputs": [],
   "source": [
    "titanic = pd.read_csv('data/titanic.csv')"
   ]
  },
  {
   "cell_type": "code",
   "execution_count": 81,
   "id": "fdd705e4-1825-452a-ad9c-528fcb44ac51",
   "metadata": {},
   "outputs": [
    {
     "data": {
      "text/html": [
       "<div>\n",
       "<style scoped>\n",
       "    .dataframe tbody tr th:only-of-type {\n",
       "        vertical-align: middle;\n",
       "    }\n",
       "\n",
       "    .dataframe tbody tr th {\n",
       "        vertical-align: top;\n",
       "    }\n",
       "\n",
       "    .dataframe thead th {\n",
       "        text-align: right;\n",
       "    }\n",
       "</style>\n",
       "<table border=\"1\" class=\"dataframe\">\n",
       "  <thead>\n",
       "    <tr style=\"text-align: right;\">\n",
       "      <th></th>\n",
       "      <th>PassengerId</th>\n",
       "      <th>Survived</th>\n",
       "      <th>Pclass</th>\n",
       "      <th>Name</th>\n",
       "      <th>Sex</th>\n",
       "      <th>Age</th>\n",
       "      <th>SibSp</th>\n",
       "      <th>Parch</th>\n",
       "      <th>Ticket</th>\n",
       "      <th>Fare</th>\n",
       "      <th>Cabin</th>\n",
       "      <th>Embarked</th>\n",
       "    </tr>\n",
       "  </thead>\n",
       "  <tbody>\n",
       "    <tr>\n",
       "      <th>1</th>\n",
       "      <td>2</td>\n",
       "      <td>1</td>\n",
       "      <td>1</td>\n",
       "      <td>Cumings, Mrs. John Bradley (Florence Briggs Th...</td>\n",
       "      <td>female</td>\n",
       "      <td>38.0</td>\n",
       "      <td>1</td>\n",
       "      <td>0</td>\n",
       "      <td>PC 17599</td>\n",
       "      <td>71.2833</td>\n",
       "      <td>C85</td>\n",
       "      <td>C</td>\n",
       "    </tr>\n",
       "    <tr>\n",
       "      <th>3</th>\n",
       "      <td>4</td>\n",
       "      <td>1</td>\n",
       "      <td>1</td>\n",
       "      <td>Futrelle, Mrs. Jacques Heath (Lily May Peel)</td>\n",
       "      <td>female</td>\n",
       "      <td>35.0</td>\n",
       "      <td>1</td>\n",
       "      <td>0</td>\n",
       "      <td>113803</td>\n",
       "      <td>53.1000</td>\n",
       "      <td>C123</td>\n",
       "      <td>S</td>\n",
       "    </tr>\n",
       "    <tr>\n",
       "      <th>8</th>\n",
       "      <td>9</td>\n",
       "      <td>1</td>\n",
       "      <td>3</td>\n",
       "      <td>Johnson, Mrs. Oscar W (Elisabeth Vilhelmina Berg)</td>\n",
       "      <td>female</td>\n",
       "      <td>27.0</td>\n",
       "      <td>0</td>\n",
       "      <td>2</td>\n",
       "      <td>347742</td>\n",
       "      <td>11.1333</td>\n",
       "      <td>NaN</td>\n",
       "      <td>S</td>\n",
       "    </tr>\n",
       "    <tr>\n",
       "      <th>9</th>\n",
       "      <td>10</td>\n",
       "      <td>1</td>\n",
       "      <td>2</td>\n",
       "      <td>Nasser, Mrs. Nicholas (Adele Achem)</td>\n",
       "      <td>female</td>\n",
       "      <td>14.0</td>\n",
       "      <td>1</td>\n",
       "      <td>0</td>\n",
       "      <td>237736</td>\n",
       "      <td>30.0708</td>\n",
       "      <td>NaN</td>\n",
       "      <td>C</td>\n",
       "    </tr>\n",
       "    <tr>\n",
       "      <th>15</th>\n",
       "      <td>16</td>\n",
       "      <td>1</td>\n",
       "      <td>2</td>\n",
       "      <td>Hewlett, Mrs. (Mary D Kingcome)</td>\n",
       "      <td>female</td>\n",
       "      <td>55.0</td>\n",
       "      <td>0</td>\n",
       "      <td>0</td>\n",
       "      <td>248706</td>\n",
       "      <td>16.0000</td>\n",
       "      <td>NaN</td>\n",
       "      <td>S</td>\n",
       "    </tr>\n",
       "    <tr>\n",
       "      <th>...</th>\n",
       "      <td>...</td>\n",
       "      <td>...</td>\n",
       "      <td>...</td>\n",
       "      <td>...</td>\n",
       "      <td>...</td>\n",
       "      <td>...</td>\n",
       "      <td>...</td>\n",
       "      <td>...</td>\n",
       "      <td>...</td>\n",
       "      <td>...</td>\n",
       "      <td>...</td>\n",
       "      <td>...</td>\n",
       "    </tr>\n",
       "    <tr>\n",
       "      <th>871</th>\n",
       "      <td>872</td>\n",
       "      <td>1</td>\n",
       "      <td>1</td>\n",
       "      <td>Beckwith, Mrs. Richard Leonard (Sallie Monypeny)</td>\n",
       "      <td>female</td>\n",
       "      <td>47.0</td>\n",
       "      <td>1</td>\n",
       "      <td>1</td>\n",
       "      <td>11751</td>\n",
       "      <td>52.5542</td>\n",
       "      <td>D35</td>\n",
       "      <td>S</td>\n",
       "    </tr>\n",
       "    <tr>\n",
       "      <th>874</th>\n",
       "      <td>875</td>\n",
       "      <td>1</td>\n",
       "      <td>2</td>\n",
       "      <td>Abelson, Mrs. Samuel (Hannah Wizosky)</td>\n",
       "      <td>female</td>\n",
       "      <td>28.0</td>\n",
       "      <td>1</td>\n",
       "      <td>0</td>\n",
       "      <td>P/PP 3381</td>\n",
       "      <td>24.0000</td>\n",
       "      <td>NaN</td>\n",
       "      <td>C</td>\n",
       "    </tr>\n",
       "    <tr>\n",
       "      <th>879</th>\n",
       "      <td>880</td>\n",
       "      <td>1</td>\n",
       "      <td>1</td>\n",
       "      <td>Potter, Mrs. Thomas Jr (Lily Alexenia Wilson)</td>\n",
       "      <td>female</td>\n",
       "      <td>56.0</td>\n",
       "      <td>0</td>\n",
       "      <td>1</td>\n",
       "      <td>11767</td>\n",
       "      <td>83.1583</td>\n",
       "      <td>C50</td>\n",
       "      <td>C</td>\n",
       "    </tr>\n",
       "    <tr>\n",
       "      <th>880</th>\n",
       "      <td>881</td>\n",
       "      <td>1</td>\n",
       "      <td>2</td>\n",
       "      <td>Shelley, Mrs. William (Imanita Parrish Hall)</td>\n",
       "      <td>female</td>\n",
       "      <td>25.0</td>\n",
       "      <td>0</td>\n",
       "      <td>1</td>\n",
       "      <td>230433</td>\n",
       "      <td>26.0000</td>\n",
       "      <td>NaN</td>\n",
       "      <td>S</td>\n",
       "    </tr>\n",
       "    <tr>\n",
       "      <th>885</th>\n",
       "      <td>886</td>\n",
       "      <td>0</td>\n",
       "      <td>3</td>\n",
       "      <td>Rice, Mrs. William (Margaret Norton)</td>\n",
       "      <td>female</td>\n",
       "      <td>39.0</td>\n",
       "      <td>0</td>\n",
       "      <td>5</td>\n",
       "      <td>382652</td>\n",
       "      <td>29.1250</td>\n",
       "      <td>NaN</td>\n",
       "      <td>Q</td>\n",
       "    </tr>\n",
       "  </tbody>\n",
       "</table>\n",
       "<p>129 rows × 12 columns</p>\n",
       "</div>"
      ],
      "text/plain": [
       "     PassengerId  Survived  Pclass  \\\n",
       "1              2         1       1   \n",
       "3              4         1       1   \n",
       "8              9         1       3   \n",
       "9             10         1       2   \n",
       "15            16         1       2   \n",
       "..           ...       ...     ...   \n",
       "871          872         1       1   \n",
       "874          875         1       2   \n",
       "879          880         1       1   \n",
       "880          881         1       2   \n",
       "885          886         0       3   \n",
       "\n",
       "                                                  Name     Sex   Age  SibSp  \\\n",
       "1    Cumings, Mrs. John Bradley (Florence Briggs Th...  female  38.0      1   \n",
       "3         Futrelle, Mrs. Jacques Heath (Lily May Peel)  female  35.0      1   \n",
       "8    Johnson, Mrs. Oscar W (Elisabeth Vilhelmina Berg)  female  27.0      0   \n",
       "9                  Nasser, Mrs. Nicholas (Adele Achem)  female  14.0      1   \n",
       "15                    Hewlett, Mrs. (Mary D Kingcome)   female  55.0      0   \n",
       "..                                                 ...     ...   ...    ...   \n",
       "871   Beckwith, Mrs. Richard Leonard (Sallie Monypeny)  female  47.0      1   \n",
       "874              Abelson, Mrs. Samuel (Hannah Wizosky)  female  28.0      1   \n",
       "879      Potter, Mrs. Thomas Jr (Lily Alexenia Wilson)  female  56.0      0   \n",
       "880       Shelley, Mrs. William (Imanita Parrish Hall)  female  25.0      0   \n",
       "885               Rice, Mrs. William (Margaret Norton)  female  39.0      0   \n",
       "\n",
       "     Parch     Ticket     Fare Cabin Embarked  \n",
       "1        0   PC 17599  71.2833   C85        C  \n",
       "3        0     113803  53.1000  C123        S  \n",
       "8        2     347742  11.1333   NaN        S  \n",
       "9        0     237736  30.0708   NaN        C  \n",
       "15       0     248706  16.0000   NaN        S  \n",
       "..     ...        ...      ...   ...      ...  \n",
       "871      1      11751  52.5542   D35        S  \n",
       "874      0  P/PP 3381  24.0000   NaN        C  \n",
       "879      1      11767  83.1583   C50        C  \n",
       "880      1     230433  26.0000   NaN        S  \n",
       "885      5     382652  29.1250   NaN        Q  \n",
       "\n",
       "[129 rows x 12 columns]"
      ]
     },
     "execution_count": 81,
     "metadata": {},
     "output_type": "execute_result"
    }
   ],
   "source": [
    "titanic[titanic.Name.str.contains('Mrs')]"
   ]
  },
  {
   "cell_type": "code",
   "execution_count": 82,
   "id": "5c8d03c8-016d-4485-a21c-73366730077f",
   "metadata": {},
   "outputs": [],
   "source": [
    "dt = datetime(year=2022, month=3, day=25)"
   ]
  },
  {
   "cell_type": "code",
   "execution_count": 126,
   "id": "ebe6a7e3-bba5-4d57-9b18-58c3f27382c8",
   "metadata": {},
   "outputs": [],
   "source": [
    "# Time Series - 파이썬 기본 only"
   ]
  },
  {
   "cell_type": "code",
   "execution_count": 83,
   "id": "977f0b89-57ca-4ecf-9372-a5ef798e32fe",
   "metadata": {},
   "outputs": [],
   "source": [
    "dt = datetime(year=cl_df.iloc[0,0], month=cl_df.iloc[0,1], day=cl_df.iloc[0,2])"
   ]
  },
  {
   "cell_type": "code",
   "execution_count": 85,
   "id": "03e2faff-8dfe-4cdf-af78-4a36ab7d7aa1",
   "metadata": {},
   "outputs": [],
   "source": [
    "dayofweek_name = []\n",
    "for i in range(len(cl_df)):\n",
    "    dt = datetime(year=cl_df.iloc[i,0], month=cl_df.iloc[i,1], day=cl_df.iloc[i,2])\n",
    "    dayofweek_name.append(dt.strftime('%A'))"
   ]
  },
  {
   "cell_type": "code",
   "execution_count": 86,
   "id": "82d667d9-8c5a-4573-b540-6c6b5390bb14",
   "metadata": {
    "collapsed": true,
    "jupyter": {
     "outputs_hidden": true
    },
    "tags": []
   },
   "outputs": [
    {
     "data": {
      "text/plain": [
       "['Thursday',\n",
       " 'Thursday',\n",
       " 'Friday',\n",
       " 'Friday',\n",
       " 'Saturday',\n",
       " 'Saturday',\n",
       " 'Sunday',\n",
       " 'Sunday',\n",
       " 'Monday',\n",
       " 'Monday',\n",
       " 'Tuesday',\n",
       " 'Tuesday',\n",
       " 'Wednesday',\n",
       " 'Wednesday',\n",
       " 'Thursday',\n",
       " 'Thursday',\n",
       " 'Friday',\n",
       " 'Friday',\n",
       " 'Saturday',\n",
       " 'Saturday',\n",
       " 'Sunday',\n",
       " 'Sunday',\n",
       " 'Monday',\n",
       " 'Monday',\n",
       " 'Tuesday',\n",
       " 'Tuesday',\n",
       " 'Wednesday',\n",
       " 'Wednesday',\n",
       " 'Thursday',\n",
       " 'Thursday',\n",
       " 'Friday',\n",
       " 'Friday',\n",
       " 'Saturday',\n",
       " 'Saturday',\n",
       " 'Sunday',\n",
       " 'Sunday',\n",
       " 'Monday',\n",
       " 'Monday',\n",
       " 'Tuesday',\n",
       " 'Tuesday',\n",
       " 'Wednesday',\n",
       " 'Wednesday',\n",
       " 'Thursday',\n",
       " 'Thursday',\n",
       " 'Friday',\n",
       " 'Friday',\n",
       " 'Saturday',\n",
       " 'Saturday',\n",
       " 'Sunday',\n",
       " 'Sunday',\n",
       " 'Monday',\n",
       " 'Monday',\n",
       " 'Tuesday',\n",
       " 'Tuesday',\n",
       " 'Wednesday',\n",
       " 'Wednesday',\n",
       " 'Thursday',\n",
       " 'Thursday',\n",
       " 'Friday',\n",
       " 'Friday',\n",
       " 'Saturday',\n",
       " 'Saturday',\n",
       " 'Sunday',\n",
       " 'Sunday',\n",
       " 'Monday',\n",
       " 'Monday',\n",
       " 'Tuesday',\n",
       " 'Tuesday',\n",
       " 'Wednesday',\n",
       " 'Wednesday',\n",
       " 'Thursday',\n",
       " 'Thursday',\n",
       " 'Friday',\n",
       " 'Friday',\n",
       " 'Saturday',\n",
       " 'Saturday',\n",
       " 'Sunday',\n",
       " 'Sunday',\n",
       " 'Monday',\n",
       " 'Monday',\n",
       " 'Tuesday',\n",
       " 'Tuesday',\n",
       " 'Wednesday',\n",
       " 'Wednesday',\n",
       " 'Thursday',\n",
       " 'Thursday',\n",
       " 'Friday',\n",
       " 'Friday',\n",
       " 'Saturday',\n",
       " 'Saturday',\n",
       " 'Sunday',\n",
       " 'Sunday',\n",
       " 'Monday',\n",
       " 'Monday',\n",
       " 'Tuesday',\n",
       " 'Tuesday',\n",
       " 'Wednesday',\n",
       " 'Wednesday',\n",
       " 'Thursday',\n",
       " 'Thursday',\n",
       " 'Friday',\n",
       " 'Friday',\n",
       " 'Saturday',\n",
       " 'Saturday',\n",
       " 'Sunday',\n",
       " 'Sunday',\n",
       " 'Monday',\n",
       " 'Monday',\n",
       " 'Tuesday',\n",
       " 'Tuesday',\n",
       " 'Wednesday',\n",
       " 'Wednesday',\n",
       " 'Thursday',\n",
       " 'Thursday',\n",
       " 'Friday',\n",
       " 'Friday',\n",
       " 'Saturday',\n",
       " 'Saturday',\n",
       " 'Sunday',\n",
       " 'Sunday',\n",
       " 'Monday',\n",
       " 'Monday',\n",
       " 'Tuesday',\n",
       " 'Tuesday',\n",
       " 'Wednesday',\n",
       " 'Wednesday',\n",
       " 'Thursday',\n",
       " 'Thursday',\n",
       " 'Friday',\n",
       " 'Friday',\n",
       " 'Saturday',\n",
       " 'Saturday',\n",
       " 'Sunday',\n",
       " 'Sunday',\n",
       " 'Monday',\n",
       " 'Monday',\n",
       " 'Tuesday',\n",
       " 'Tuesday',\n",
       " 'Wednesday',\n",
       " 'Wednesday',\n",
       " 'Thursday',\n",
       " 'Thursday',\n",
       " 'Friday',\n",
       " 'Friday',\n",
       " 'Saturday',\n",
       " 'Saturday',\n",
       " 'Sunday',\n",
       " 'Sunday',\n",
       " 'Monday',\n",
       " 'Monday',\n",
       " 'Tuesday',\n",
       " 'Tuesday',\n",
       " 'Wednesday',\n",
       " 'Wednesday',\n",
       " 'Thursday',\n",
       " 'Thursday',\n",
       " 'Friday',\n",
       " 'Friday',\n",
       " 'Saturday',\n",
       " 'Saturday',\n",
       " 'Sunday',\n",
       " 'Sunday',\n",
       " 'Monday',\n",
       " 'Monday',\n",
       " 'Tuesday',\n",
       " 'Tuesday',\n",
       " 'Wednesday',\n",
       " 'Wednesday',\n",
       " 'Thursday',\n",
       " 'Thursday',\n",
       " 'Friday',\n",
       " 'Friday',\n",
       " 'Saturday',\n",
       " 'Saturday',\n",
       " 'Sunday',\n",
       " 'Sunday',\n",
       " 'Monday',\n",
       " 'Monday',\n",
       " 'Tuesday',\n",
       " 'Tuesday',\n",
       " 'Wednesday',\n",
       " 'Wednesday',\n",
       " 'Thursday',\n",
       " 'Thursday',\n",
       " 'Friday',\n",
       " 'Friday',\n",
       " 'Saturday',\n",
       " 'Saturday',\n",
       " 'Sunday',\n",
       " 'Sunday',\n",
       " 'Monday',\n",
       " 'Monday',\n",
       " 'Tuesday',\n",
       " 'Tuesday',\n",
       " 'Wednesday',\n",
       " 'Wednesday',\n",
       " 'Thursday',\n",
       " 'Thursday',\n",
       " 'Friday',\n",
       " 'Friday',\n",
       " 'Saturday',\n",
       " 'Saturday',\n",
       " 'Sunday',\n",
       " 'Sunday',\n",
       " 'Monday',\n",
       " 'Monday',\n",
       " 'Tuesday',\n",
       " 'Tuesday',\n",
       " 'Wednesday',\n",
       " 'Wednesday',\n",
       " 'Thursday',\n",
       " 'Thursday',\n",
       " 'Friday',\n",
       " 'Friday',\n",
       " 'Saturday',\n",
       " 'Saturday',\n",
       " 'Sunday',\n",
       " 'Sunday',\n",
       " 'Monday',\n",
       " 'Monday',\n",
       " 'Tuesday',\n",
       " 'Tuesday',\n",
       " 'Wednesday',\n",
       " 'Wednesday',\n",
       " 'Thursday',\n",
       " 'Thursday',\n",
       " 'Friday',\n",
       " 'Friday',\n",
       " 'Saturday',\n",
       " 'Saturday',\n",
       " 'Sunday',\n",
       " 'Sunday',\n",
       " 'Monday',\n",
       " 'Monday',\n",
       " 'Tuesday',\n",
       " 'Tuesday',\n",
       " 'Wednesday',\n",
       " 'Wednesday',\n",
       " 'Thursday',\n",
       " 'Thursday',\n",
       " 'Friday',\n",
       " 'Friday',\n",
       " 'Saturday',\n",
       " 'Saturday',\n",
       " 'Sunday',\n",
       " 'Sunday',\n",
       " 'Monday',\n",
       " 'Monday',\n",
       " 'Tuesday',\n",
       " 'Tuesday',\n",
       " 'Wednesday',\n",
       " 'Wednesday',\n",
       " 'Thursday',\n",
       " 'Thursday',\n",
       " 'Friday',\n",
       " 'Friday',\n",
       " 'Saturday',\n",
       " 'Saturday',\n",
       " 'Sunday',\n",
       " 'Sunday',\n",
       " 'Monday',\n",
       " 'Monday',\n",
       " 'Tuesday',\n",
       " 'Tuesday',\n",
       " 'Wednesday',\n",
       " 'Wednesday',\n",
       " 'Thursday',\n",
       " 'Thursday',\n",
       " 'Friday',\n",
       " 'Friday',\n",
       " 'Saturday',\n",
       " 'Saturday',\n",
       " 'Sunday',\n",
       " 'Sunday',\n",
       " 'Monday',\n",
       " 'Monday',\n",
       " 'Tuesday',\n",
       " 'Tuesday',\n",
       " 'Wednesday',\n",
       " 'Wednesday',\n",
       " 'Thursday',\n",
       " 'Thursday',\n",
       " 'Friday',\n",
       " 'Friday',\n",
       " 'Saturday',\n",
       " 'Saturday',\n",
       " 'Sunday',\n",
       " 'Sunday',\n",
       " 'Monday',\n",
       " 'Monday',\n",
       " 'Tuesday',\n",
       " 'Tuesday',\n",
       " 'Wednesday',\n",
       " 'Wednesday',\n",
       " 'Thursday',\n",
       " 'Thursday',\n",
       " 'Friday',\n",
       " 'Friday',\n",
       " 'Saturday',\n",
       " 'Saturday',\n",
       " 'Sunday',\n",
       " 'Sunday',\n",
       " 'Monday',\n",
       " 'Monday',\n",
       " 'Tuesday',\n",
       " 'Tuesday',\n",
       " 'Wednesday',\n",
       " 'Wednesday',\n",
       " 'Thursday',\n",
       " 'Thursday',\n",
       " 'Friday',\n",
       " 'Friday',\n",
       " 'Saturday',\n",
       " 'Saturday',\n",
       " 'Sunday',\n",
       " 'Sunday',\n",
       " 'Monday',\n",
       " 'Monday',\n",
       " 'Tuesday',\n",
       " 'Tuesday',\n",
       " 'Wednesday',\n",
       " 'Wednesday',\n",
       " 'Thursday',\n",
       " 'Thursday',\n",
       " 'Friday',\n",
       " 'Friday',\n",
       " 'Saturday',\n",
       " 'Saturday',\n",
       " 'Sunday',\n",
       " 'Sunday',\n",
       " 'Monday',\n",
       " 'Monday',\n",
       " 'Tuesday',\n",
       " 'Tuesday',\n",
       " 'Wednesday',\n",
       " 'Wednesday',\n",
       " 'Thursday',\n",
       " 'Thursday',\n",
       " 'Friday',\n",
       " 'Friday',\n",
       " 'Saturday',\n",
       " 'Saturday',\n",
       " 'Sunday',\n",
       " 'Sunday',\n",
       " 'Monday',\n",
       " 'Monday',\n",
       " 'Tuesday',\n",
       " 'Tuesday',\n",
       " 'Wednesday',\n",
       " 'Wednesday',\n",
       " 'Thursday',\n",
       " 'Thursday',\n",
       " 'Friday',\n",
       " 'Friday',\n",
       " 'Saturday',\n",
       " 'Saturday',\n",
       " 'Sunday',\n",
       " 'Sunday',\n",
       " 'Monday',\n",
       " 'Monday',\n",
       " 'Tuesday',\n",
       " 'Tuesday',\n",
       " 'Wednesday',\n",
       " 'Wednesday',\n",
       " 'Thursday',\n",
       " 'Thursday',\n",
       " 'Friday',\n",
       " 'Friday',\n",
       " 'Saturday',\n",
       " 'Saturday',\n",
       " 'Sunday',\n",
       " 'Sunday',\n",
       " 'Monday',\n",
       " 'Monday',\n",
       " 'Tuesday',\n",
       " 'Tuesday',\n",
       " 'Wednesday',\n",
       " 'Wednesday',\n",
       " 'Thursday',\n",
       " 'Thursday',\n",
       " 'Friday',\n",
       " 'Friday',\n",
       " 'Saturday',\n",
       " 'Saturday',\n",
       " 'Sunday',\n",
       " 'Sunday',\n",
       " 'Monday',\n",
       " 'Monday',\n",
       " 'Tuesday',\n",
       " 'Tuesday',\n",
       " 'Wednesday',\n",
       " 'Wednesday',\n",
       " 'Thursday',\n",
       " 'Thursday',\n",
       " 'Friday',\n",
       " 'Friday',\n",
       " 'Saturday',\n",
       " 'Saturday',\n",
       " 'Sunday',\n",
       " 'Sunday',\n",
       " 'Monday',\n",
       " 'Monday',\n",
       " 'Tuesday',\n",
       " 'Tuesday',\n",
       " 'Wednesday',\n",
       " 'Wednesday',\n",
       " 'Thursday',\n",
       " 'Thursday',\n",
       " 'Friday',\n",
       " 'Friday',\n",
       " 'Saturday',\n",
       " 'Saturday',\n",
       " 'Sunday',\n",
       " 'Sunday',\n",
       " 'Monday',\n",
       " 'Monday',\n",
       " 'Tuesday',\n",
       " 'Tuesday',\n",
       " 'Wednesday',\n",
       " 'Wednesday',\n",
       " 'Thursday',\n",
       " 'Thursday',\n",
       " 'Friday',\n",
       " 'Friday',\n",
       " 'Saturday',\n",
       " 'Saturday',\n",
       " 'Sunday',\n",
       " 'Sunday',\n",
       " 'Monday',\n",
       " 'Monday',\n",
       " 'Tuesday',\n",
       " 'Tuesday',\n",
       " 'Wednesday',\n",
       " 'Wednesday',\n",
       " 'Thursday',\n",
       " 'Thursday',\n",
       " 'Friday',\n",
       " 'Friday',\n",
       " 'Saturday',\n",
       " 'Saturday',\n",
       " 'Sunday',\n",
       " 'Sunday',\n",
       " 'Monday',\n",
       " 'Monday',\n",
       " 'Tuesday',\n",
       " 'Tuesday',\n",
       " 'Wednesday',\n",
       " 'Wednesday',\n",
       " 'Thursday',\n",
       " 'Thursday',\n",
       " 'Friday',\n",
       " 'Friday',\n",
       " 'Saturday',\n",
       " 'Saturday',\n",
       " 'Sunday',\n",
       " 'Sunday',\n",
       " 'Monday',\n",
       " 'Monday',\n",
       " 'Tuesday',\n",
       " 'Tuesday',\n",
       " 'Wednesday',\n",
       " 'Wednesday',\n",
       " 'Thursday',\n",
       " 'Thursday',\n",
       " 'Friday',\n",
       " 'Friday',\n",
       " 'Saturday',\n",
       " 'Saturday',\n",
       " 'Sunday',\n",
       " 'Sunday',\n",
       " 'Monday',\n",
       " 'Monday',\n",
       " 'Tuesday',\n",
       " 'Tuesday',\n",
       " 'Wednesday',\n",
       " 'Wednesday',\n",
       " 'Thursday',\n",
       " 'Thursday',\n",
       " 'Friday',\n",
       " 'Friday',\n",
       " 'Saturday',\n",
       " 'Saturday',\n",
       " 'Sunday',\n",
       " 'Sunday',\n",
       " 'Monday',\n",
       " 'Monday',\n",
       " 'Tuesday',\n",
       " 'Tuesday',\n",
       " 'Wednesday',\n",
       " 'Wednesday',\n",
       " 'Thursday',\n",
       " 'Thursday',\n",
       " 'Friday',\n",
       " 'Friday',\n",
       " 'Saturday',\n",
       " 'Saturday',\n",
       " 'Sunday',\n",
       " 'Sunday',\n",
       " 'Monday',\n",
       " 'Monday',\n",
       " 'Tuesday',\n",
       " 'Tuesday',\n",
       " 'Wednesday',\n",
       " 'Wednesday',\n",
       " 'Thursday',\n",
       " 'Thursday',\n",
       " 'Friday',\n",
       " 'Friday',\n",
       " 'Saturday',\n",
       " 'Saturday',\n",
       " 'Sunday',\n",
       " 'Sunday',\n",
       " 'Monday',\n",
       " 'Monday',\n",
       " 'Tuesday',\n",
       " 'Tuesday',\n",
       " 'Wednesday',\n",
       " 'Wednesday',\n",
       " 'Thursday',\n",
       " 'Thursday',\n",
       " 'Friday',\n",
       " 'Friday',\n",
       " 'Saturday',\n",
       " 'Saturday',\n",
       " 'Sunday',\n",
       " 'Sunday',\n",
       " 'Monday',\n",
       " 'Monday',\n",
       " 'Tuesday',\n",
       " 'Tuesday',\n",
       " 'Wednesday',\n",
       " 'Wednesday',\n",
       " 'Thursday',\n",
       " 'Thursday',\n",
       " 'Friday',\n",
       " 'Friday',\n",
       " 'Saturday',\n",
       " 'Saturday',\n",
       " 'Sunday',\n",
       " 'Sunday',\n",
       " 'Monday',\n",
       " 'Monday',\n",
       " 'Tuesday',\n",
       " 'Tuesday',\n",
       " 'Wednesday',\n",
       " 'Wednesday',\n",
       " 'Thursday',\n",
       " 'Thursday',\n",
       " 'Friday',\n",
       " 'Friday',\n",
       " 'Saturday',\n",
       " 'Saturday',\n",
       " 'Sunday',\n",
       " 'Sunday',\n",
       " 'Monday',\n",
       " 'Monday',\n",
       " 'Tuesday',\n",
       " 'Tuesday',\n",
       " 'Wednesday',\n",
       " 'Wednesday',\n",
       " 'Thursday',\n",
       " 'Thursday',\n",
       " 'Friday',\n",
       " 'Friday',\n",
       " 'Saturday',\n",
       " 'Saturday',\n",
       " 'Sunday',\n",
       " 'Sunday',\n",
       " 'Monday',\n",
       " 'Monday',\n",
       " 'Tuesday',\n",
       " 'Tuesday',\n",
       " 'Wednesday',\n",
       " 'Wednesday',\n",
       " 'Thursday',\n",
       " 'Thursday',\n",
       " 'Friday',\n",
       " 'Friday',\n",
       " 'Saturday',\n",
       " 'Saturday',\n",
       " 'Sunday',\n",
       " 'Sunday',\n",
       " 'Monday',\n",
       " 'Monday',\n",
       " 'Tuesday',\n",
       " 'Tuesday',\n",
       " 'Wednesday',\n",
       " 'Wednesday',\n",
       " 'Thursday',\n",
       " 'Thursday',\n",
       " 'Friday',\n",
       " 'Friday',\n",
       " 'Saturday',\n",
       " 'Saturday',\n",
       " 'Sunday',\n",
       " 'Sunday',\n",
       " 'Monday',\n",
       " 'Monday',\n",
       " 'Tuesday',\n",
       " 'Tuesday',\n",
       " 'Wednesday',\n",
       " 'Wednesday',\n",
       " 'Thursday',\n",
       " 'Thursday',\n",
       " 'Friday',\n",
       " 'Friday',\n",
       " 'Saturday',\n",
       " 'Saturday',\n",
       " 'Sunday',\n",
       " 'Sunday',\n",
       " 'Monday',\n",
       " 'Monday',\n",
       " 'Tuesday',\n",
       " 'Tuesday',\n",
       " 'Wednesday',\n",
       " 'Wednesday',\n",
       " 'Thursday',\n",
       " 'Thursday',\n",
       " 'Friday',\n",
       " 'Friday',\n",
       " 'Saturday',\n",
       " 'Saturday',\n",
       " 'Sunday',\n",
       " 'Sunday',\n",
       " 'Monday',\n",
       " 'Monday',\n",
       " 'Tuesday',\n",
       " 'Tuesday',\n",
       " 'Wednesday',\n",
       " 'Wednesday',\n",
       " 'Thursday',\n",
       " 'Thursday',\n",
       " 'Friday',\n",
       " 'Friday',\n",
       " 'Saturday',\n",
       " 'Saturday',\n",
       " 'Sunday',\n",
       " 'Sunday',\n",
       " 'Monday',\n",
       " 'Monday',\n",
       " 'Tuesday',\n",
       " 'Tuesday',\n",
       " 'Wednesday',\n",
       " 'Wednesday',\n",
       " 'Thursday',\n",
       " 'Thursday',\n",
       " 'Friday',\n",
       " 'Friday',\n",
       " 'Saturday',\n",
       " 'Saturday',\n",
       " 'Sunday',\n",
       " 'Sunday',\n",
       " 'Monday',\n",
       " 'Monday',\n",
       " 'Tuesday',\n",
       " 'Tuesday',\n",
       " 'Wednesday',\n",
       " 'Wednesday',\n",
       " 'Thursday',\n",
       " 'Thursday',\n",
       " 'Friday',\n",
       " 'Friday',\n",
       " 'Saturday',\n",
       " 'Saturday',\n",
       " 'Sunday',\n",
       " 'Sunday',\n",
       " 'Monday',\n",
       " 'Monday',\n",
       " 'Tuesday',\n",
       " 'Tuesday',\n",
       " 'Wednesday',\n",
       " 'Wednesday',\n",
       " 'Thursday',\n",
       " 'Thursday',\n",
       " 'Friday',\n",
       " 'Friday',\n",
       " 'Saturday',\n",
       " 'Saturday',\n",
       " 'Sunday',\n",
       " 'Sunday',\n",
       " 'Monday',\n",
       " 'Monday',\n",
       " 'Tuesday',\n",
       " 'Tuesday',\n",
       " 'Wednesday',\n",
       " 'Wednesday',\n",
       " 'Thursday',\n",
       " 'Thursday',\n",
       " 'Friday',\n",
       " 'Friday',\n",
       " 'Saturday',\n",
       " 'Saturday',\n",
       " 'Sunday',\n",
       " 'Sunday',\n",
       " 'Monday',\n",
       " 'Monday',\n",
       " 'Tuesday',\n",
       " 'Tuesday',\n",
       " 'Wednesday',\n",
       " 'Wednesday',\n",
       " 'Thursday',\n",
       " 'Thursday',\n",
       " 'Friday',\n",
       " 'Friday',\n",
       " 'Saturday',\n",
       " 'Saturday',\n",
       " 'Sunday',\n",
       " 'Sunday',\n",
       " 'Monday',\n",
       " 'Monday',\n",
       " 'Tuesday',\n",
       " 'Tuesday',\n",
       " 'Wednesday',\n",
       " 'Wednesday',\n",
       " 'Thursday',\n",
       " 'Thursday',\n",
       " 'Friday',\n",
       " 'Friday',\n",
       " 'Saturday',\n",
       " 'Saturday',\n",
       " 'Sunday',\n",
       " 'Sunday',\n",
       " 'Monday',\n",
       " 'Monday',\n",
       " 'Tuesday',\n",
       " 'Tuesday',\n",
       " 'Wednesday',\n",
       " 'Wednesday',\n",
       " 'Thursday',\n",
       " 'Thursday',\n",
       " 'Friday',\n",
       " 'Friday',\n",
       " 'Saturday',\n",
       " 'Saturday',\n",
       " 'Sunday',\n",
       " 'Sunday',\n",
       " 'Monday',\n",
       " 'Monday',\n",
       " 'Tuesday',\n",
       " 'Tuesday',\n",
       " 'Wednesday',\n",
       " 'Wednesday',\n",
       " 'Thursday',\n",
       " 'Thursday',\n",
       " 'Friday',\n",
       " 'Friday',\n",
       " 'Saturday',\n",
       " 'Saturday',\n",
       " 'Sunday',\n",
       " 'Sunday',\n",
       " 'Monday',\n",
       " 'Monday',\n",
       " 'Tuesday',\n",
       " 'Tuesday',\n",
       " 'Wednesday',\n",
       " 'Wednesday',\n",
       " 'Thursday',\n",
       " 'Thursday',\n",
       " 'Friday',\n",
       " 'Friday',\n",
       " 'Saturday',\n",
       " 'Saturday',\n",
       " 'Sunday',\n",
       " 'Sunday',\n",
       " 'Monday',\n",
       " 'Monday',\n",
       " 'Tuesday',\n",
       " 'Tuesday',\n",
       " 'Wednesday',\n",
       " 'Wednesday',\n",
       " 'Thursday',\n",
       " 'Thursday',\n",
       " 'Friday',\n",
       " 'Friday',\n",
       " 'Saturday',\n",
       " 'Saturday',\n",
       " 'Sunday',\n",
       " 'Sunday',\n",
       " 'Monday',\n",
       " 'Monday',\n",
       " 'Tuesday',\n",
       " 'Tuesday',\n",
       " 'Wednesday',\n",
       " 'Wednesday',\n",
       " 'Thursday',\n",
       " 'Thursday',\n",
       " 'Friday',\n",
       " 'Friday',\n",
       " 'Saturday',\n",
       " 'Saturday',\n",
       " 'Sunday',\n",
       " 'Sunday',\n",
       " 'Monday',\n",
       " 'Monday',\n",
       " 'Tuesday',\n",
       " 'Tuesday',\n",
       " 'Wednesday',\n",
       " 'Wednesday',\n",
       " 'Thursday',\n",
       " 'Thursday',\n",
       " 'Friday',\n",
       " 'Friday',\n",
       " 'Saturday',\n",
       " 'Saturday',\n",
       " 'Sunday',\n",
       " 'Sunday',\n",
       " 'Monday',\n",
       " 'Monday',\n",
       " 'Tuesday',\n",
       " 'Tuesday',\n",
       " 'Wednesday',\n",
       " 'Wednesday',\n",
       " 'Thursday',\n",
       " 'Thursday',\n",
       " 'Friday',\n",
       " 'Friday',\n",
       " 'Saturday',\n",
       " 'Saturday',\n",
       " 'Sunday',\n",
       " 'Sunday',\n",
       " 'Monday',\n",
       " 'Monday',\n",
       " 'Tuesday',\n",
       " 'Tuesday',\n",
       " 'Wednesday',\n",
       " 'Wednesday',\n",
       " 'Thursday',\n",
       " 'Thursday',\n",
       " 'Friday',\n",
       " 'Friday',\n",
       " 'Saturday',\n",
       " 'Saturday',\n",
       " 'Sunday',\n",
       " 'Sunday',\n",
       " 'Monday',\n",
       " 'Monday',\n",
       " 'Tuesday',\n",
       " 'Tuesday',\n",
       " 'Wednesday',\n",
       " 'Wednesday',\n",
       " 'Thursday',\n",
       " 'Thursday',\n",
       " 'Friday',\n",
       " 'Friday',\n",
       " 'Saturday',\n",
       " 'Saturday',\n",
       " 'Sunday',\n",
       " 'Sunday',\n",
       " 'Monday',\n",
       " 'Monday',\n",
       " 'Tuesday',\n",
       " 'Tuesday',\n",
       " 'Wednesday',\n",
       " 'Wednesday',\n",
       " 'Thursday',\n",
       " 'Thursday',\n",
       " 'Friday',\n",
       " 'Friday',\n",
       " 'Saturday',\n",
       " 'Saturday',\n",
       " 'Sunday',\n",
       " 'Sunday',\n",
       " 'Monday',\n",
       " 'Monday',\n",
       " 'Tuesday',\n",
       " 'Tuesday',\n",
       " 'Wednesday',\n",
       " 'Wednesday',\n",
       " 'Thursday',\n",
       " 'Thursday',\n",
       " 'Friday',\n",
       " 'Friday',\n",
       " 'Saturday',\n",
       " 'Saturday',\n",
       " 'Sunday',\n",
       " 'Sunday',\n",
       " 'Monday',\n",
       " 'Monday',\n",
       " 'Tuesday',\n",
       " 'Tuesday',\n",
       " 'Wednesday',\n",
       " 'Wednesday',\n",
       " 'Thursday',\n",
       " 'Thursday',\n",
       " 'Friday',\n",
       " 'Friday',\n",
       " 'Saturday',\n",
       " 'Saturday',\n",
       " 'Sunday',\n",
       " 'Sunday',\n",
       " 'Monday',\n",
       " 'Monday',\n",
       " 'Tuesday',\n",
       " 'Tuesday',\n",
       " 'Wednesday',\n",
       " 'Wednesday',\n",
       " 'Thursday',\n",
       " 'Thursday',\n",
       " 'Friday',\n",
       " 'Friday',\n",
       " 'Saturday',\n",
       " 'Saturday',\n",
       " 'Sunday',\n",
       " 'Sunday',\n",
       " 'Monday',\n",
       " 'Monday',\n",
       " 'Tuesday',\n",
       " 'Tuesday',\n",
       " 'Wednesday',\n",
       " 'Wednesday',\n",
       " 'Thursday',\n",
       " 'Thursday',\n",
       " 'Friday',\n",
       " 'Friday',\n",
       " 'Saturday',\n",
       " 'Saturday',\n",
       " 'Sunday',\n",
       " 'Sunday',\n",
       " 'Monday',\n",
       " 'Monday',\n",
       " 'Tuesday',\n",
       " 'Tuesday',\n",
       " 'Wednesday',\n",
       " 'Wednesday',\n",
       " 'Thursday',\n",
       " 'Thursday',\n",
       " 'Friday',\n",
       " 'Friday',\n",
       " 'Saturday',\n",
       " 'Saturday',\n",
       " 'Sunday',\n",
       " 'Sunday',\n",
       " 'Monday',\n",
       " 'Monday',\n",
       " 'Tuesday',\n",
       " 'Tuesday',\n",
       " 'Wednesday',\n",
       " 'Wednesday',\n",
       " 'Thursday',\n",
       " 'Thursday',\n",
       " 'Friday',\n",
       " 'Friday',\n",
       " 'Saturday',\n",
       " 'Saturday',\n",
       " 'Sunday',\n",
       " 'Sunday',\n",
       " 'Monday',\n",
       " 'Monday',\n",
       " 'Tuesday',\n",
       " 'Tuesday',\n",
       " 'Wednesday',\n",
       " 'Wednesday',\n",
       " 'Thursday',\n",
       " 'Thursday',\n",
       " 'Friday',\n",
       " 'Friday',\n",
       " 'Saturday',\n",
       " 'Saturday',\n",
       " 'Sunday',\n",
       " 'Sunday',\n",
       " 'Monday',\n",
       " 'Monday',\n",
       " 'Tuesday',\n",
       " 'Tuesday',\n",
       " 'Wednesday',\n",
       " 'Wednesday',\n",
       " 'Thursday',\n",
       " 'Thursday',\n",
       " 'Friday',\n",
       " 'Friday',\n",
       " 'Saturday',\n",
       " 'Saturday',\n",
       " 'Sunday',\n",
       " 'Sunday',\n",
       " 'Monday',\n",
       " 'Monday',\n",
       " 'Tuesday',\n",
       " 'Tuesday',\n",
       " 'Wednesday',\n",
       " 'Wednesday',\n",
       " 'Thursday',\n",
       " 'Thursday',\n",
       " 'Friday',\n",
       " 'Friday',\n",
       " 'Saturday',\n",
       " 'Saturday',\n",
       " 'Sunday',\n",
       " 'Sunday',\n",
       " 'Monday',\n",
       " 'Monday',\n",
       " 'Tuesday',\n",
       " 'Tuesday',\n",
       " 'Wednesday',\n",
       " 'Wednesday',\n",
       " 'Thursday',\n",
       " 'Thursday',\n",
       " 'Friday',\n",
       " 'Friday',\n",
       " 'Saturday',\n",
       " 'Saturday',\n",
       " ...]"
      ]
     },
     "execution_count": 86,
     "metadata": {},
     "output_type": "execute_result"
    }
   ],
   "source": [
    "dayofweek_name"
   ]
  },
  {
   "cell_type": "code",
   "execution_count": 127,
   "id": "fcec4965-6c57-4484-9735-a7398f185d9d",
   "metadata": {},
   "outputs": [],
   "source": [
    "# Time Series - numpy 이용"
   ]
  },
  {
   "cell_type": "code",
   "execution_count": 88,
   "id": "4bad4fb8-190c-4189-bad1-4a121a750421",
   "metadata": {},
   "outputs": [
    {
     "data": {
      "text/plain": [
       "DatetimeIndex(['1970-01-01', '1970-01-01', '1970-01-02', '1970-01-02',\n",
       "               '1970-01-03', '1970-01-03', '1970-01-04', '1970-01-04',\n",
       "               '1970-01-05', '1970-01-05',\n",
       "               ...\n",
       "               '1988-12-27', '1988-12-27', '1988-12-28', '1988-12-28',\n",
       "               '1988-12-29', '1988-12-29', '1988-12-30', '1988-12-30',\n",
       "               '1988-12-31', '1988-12-31'],\n",
       "              dtype='datetime64[ns]', length=13870, freq=None)"
      ]
     },
     "execution_count": 88,
     "metadata": {},
     "output_type": "execute_result"
    }
   ],
   "source": [
    "cl_df.index"
   ]
  },
  {
   "cell_type": "code",
   "execution_count": 89,
   "id": "389610ce-e4cd-4ca8-968a-ef798cde604e",
   "metadata": {},
   "outputs": [
    {
     "data": {
      "text/plain": [
       "array('2022-03-25', dtype='datetime64[D]')"
      ]
     },
     "execution_count": 89,
     "metadata": {},
     "output_type": "execute_result"
    }
   ],
   "source": [
    "np.array('2022-03-25', dtype=np.datetime64)"
   ]
  },
  {
   "cell_type": "code",
   "execution_count": 91,
   "id": "f101fb29-d970-4dcc-b78c-9375616856b7",
   "metadata": {},
   "outputs": [
    {
     "data": {
      "text/plain": [
       "numpy.datetime64('2022-03-25')"
      ]
     },
     "execution_count": 91,
     "metadata": {},
     "output_type": "execute_result"
    }
   ],
   "source": [
    "np.datetime64('2022-03-25')"
   ]
  },
  {
   "cell_type": "code",
   "execution_count": 93,
   "id": "5921bbbd-e0dc-49d9-954c-0f28555329b6",
   "metadata": {},
   "outputs": [
    {
     "data": {
      "text/plain": [
       "numpy.datetime64('1970-01-01T00:00:00.000000')"
      ]
     },
     "execution_count": 93,
     "metadata": {},
     "output_type": "execute_result"
    }
   ],
   "source": [
    "np.datetime64(cl_df.index[0])"
   ]
  },
  {
   "cell_type": "code",
   "execution_count": 98,
   "id": "805b3046-a0a9-4fe4-ad00-7129de7e98f8",
   "metadata": {},
   "outputs": [],
   "source": [
    "dt = cl_df.index.astype('str')"
   ]
  },
  {
   "cell_type": "code",
   "execution_count": 104,
   "id": "2d4d049e-66eb-4b05-ada0-e54f02ddffba",
   "metadata": {},
   "outputs": [],
   "source": [
    "dt = np.array(dt,dtype=np.datetime64)"
   ]
  },
  {
   "cell_type": "code",
   "execution_count": 106,
   "id": "80a66fa0-26bb-42fe-8392-9fb85567dac2",
   "metadata": {},
   "outputs": [],
   "source": [
    "dt = np.datetime64('2017-01-01')"
   ]
  },
  {
   "cell_type": "code",
   "execution_count": 111,
   "id": "7a5c5078-e577-47bd-b1bc-52df7bbc45a6",
   "metadata": {},
   "outputs": [
    {
     "data": {
      "text/plain": [
       "array(['2017-01-02', '2017-01-03'], dtype='datetime64[D]')"
      ]
     },
     "execution_count": 111,
     "metadata": {},
     "output_type": "execute_result"
    }
   ],
   "source": [
    "dt + [1,2]"
   ]
  },
  {
   "cell_type": "code",
   "execution_count": 119,
   "id": "55c45605-6450-4673-9fee-555704a49214",
   "metadata": {},
   "outputs": [
    {
     "data": {
      "text/plain": [
       "numpy.datetime64('2015-07-04')"
      ]
     },
     "execution_count": 119,
     "metadata": {},
     "output_type": "execute_result"
    }
   ],
   "source": [
    "np.datetime64('2015-07-04 12:59:59.50', 'D')"
   ]
  },
  {
   "cell_type": "code",
   "execution_count": 128,
   "id": "536d3d5b-1668-48ba-9fb2-e26b65bbd61c",
   "metadata": {},
   "outputs": [],
   "source": [
    "# Time Series - pandas 이용"
   ]
  },
  {
   "cell_type": "code",
   "execution_count": 129,
   "id": "440538f8-a7cf-4717-93da-cd547570c156",
   "metadata": {},
   "outputs": [
    {
     "data": {
      "text/plain": [
       "Index(['Thursday', 'Thursday', 'Friday', 'Friday', 'Saturday', 'Saturday',\n",
       "       'Sunday', 'Sunday', 'Monday', 'Monday',\n",
       "       ...\n",
       "       'Tuesday', 'Tuesday', 'Wednesday', 'Wednesday', 'Thursday', 'Thursday',\n",
       "       'Friday', 'Friday', 'Saturday', 'Saturday'],\n",
       "      dtype='object', length=13870)"
      ]
     },
     "execution_count": 129,
     "metadata": {},
     "output_type": "execute_result"
    }
   ],
   "source": [
    "cl_df.index.strftime('%A')"
   ]
  },
  {
   "cell_type": "code",
   "execution_count": 130,
   "id": "f235f91e-e43f-4a67-8359-a945ee53d2d5",
   "metadata": {},
   "outputs": [
    {
     "data": {
      "text/plain": [
       "Timestamp('2015-07-04 00:00:00')"
      ]
     },
     "execution_count": 130,
     "metadata": {},
     "output_type": "execute_result"
    }
   ],
   "source": [
    "date = pd.to_datetime(\"4th of July, 2015\")\n",
    "date"
   ]
  },
  {
   "cell_type": "code",
   "execution_count": 142,
   "id": "3d62e665-274d-490d-8383-75cbcf4c300a",
   "metadata": {},
   "outputs": [
    {
     "data": {
      "text/plain": [
       "DatetimeIndex(['2015-07-04 00:00:00', '2015-07-04 01:00:00',\n",
       "               '2015-07-04 02:00:00', '2015-07-04 03:00:00',\n",
       "               '2015-07-04 04:00:00', '2015-07-04 05:00:00',\n",
       "               '2015-07-04 06:00:00', '2015-07-04 07:00:00',\n",
       "               '2015-07-04 08:00:00', '2015-07-04 09:00:00',\n",
       "               '2015-07-04 10:00:00', '2015-07-04 11:00:00',\n",
       "               '2015-07-04 12:00:00', '2015-07-04 13:00:00',\n",
       "               '2015-07-04 14:00:00', '2015-07-04 15:00:00',\n",
       "               '2015-07-04 16:00:00', '2015-07-04 17:00:00',\n",
       "               '2015-07-04 18:00:00', '2015-07-04 19:00:00',\n",
       "               '2015-07-04 20:00:00', '2015-07-04 21:00:00',\n",
       "               '2015-07-04 22:00:00', '2015-07-04 23:00:00'],\n",
       "              dtype='datetime64[ns]', freq=None)"
      ]
     },
     "execution_count": 142,
     "metadata": {},
     "output_type": "execute_result"
    }
   ],
   "source": [
    "date + pd.to_timedelta(np.arange(24), 'h')"
   ]
  },
  {
   "cell_type": "code",
   "execution_count": 143,
   "id": "84425c80-f312-49b7-ae59-e84c653fdfe9",
   "metadata": {},
   "outputs": [
    {
     "data": {
      "text/plain": [
       "2014-07-04    0\n",
       "2014-08-04    1\n",
       "2015-07-04    2\n",
       "2015-08-04    3\n",
       "dtype: int64"
      ]
     },
     "execution_count": 143,
     "metadata": {},
     "output_type": "execute_result"
    }
   ],
   "source": [
    "index = pd.DatetimeIndex(['2014-07-04', '2014-08-04',\n",
    "                          '2015-07-04', '2015-08-04'])\n",
    "data = pd.Series([0, 1, 2, 3], index=index)\n",
    "data"
   ]
  },
  {
   "cell_type": "code",
   "execution_count": 144,
   "id": "a49a98be-a560-4d38-bc93-924d417d1438",
   "metadata": {},
   "outputs": [
    {
     "data": {
      "text/plain": [
       "2014-07-04    0\n",
       "2014-08-04    1\n",
       "2015-07-04    2\n",
       "dtype: int64"
      ]
     },
     "execution_count": 144,
     "metadata": {},
     "output_type": "execute_result"
    }
   ],
   "source": [
    "data['2014-07-04':'2015-07-04']"
   ]
  },
  {
   "cell_type": "code",
   "execution_count": 145,
   "id": "e207baca-25bf-41cb-a0c2-b617f91483f8",
   "metadata": {},
   "outputs": [
    {
     "data": {
      "text/plain": [
       "2015-07-04    2\n",
       "2015-08-04    3\n",
       "dtype: int64"
      ]
     },
     "execution_count": 145,
     "metadata": {},
     "output_type": "execute_result"
    }
   ],
   "source": [
    "data['2015']"
   ]
  },
  {
   "cell_type": "code",
   "execution_count": 146,
   "id": "5633490f-61cf-415d-ba8c-8e4bb6ae252c",
   "metadata": {},
   "outputs": [],
   "source": [
    "date = pd.to_datetime(\"4th of July, 2015\")\n",
    "date\n",
    "idx = date + pd.to_timedelta(np.arange(1000), 'D')"
   ]
  },
  {
   "cell_type": "code",
   "execution_count": 149,
   "id": "e8a5533b-925b-4029-bb80-c34751a24e53",
   "metadata": {},
   "outputs": [],
   "source": [
    "amount = np.random.randint(100, size=idx.size)"
   ]
  },
  {
   "cell_type": "code",
   "execution_count": 152,
   "id": "f41983df-c911-4918-b89e-8aaf86d27924",
   "metadata": {},
   "outputs": [],
   "source": [
    "df = pd.DataFrame({'date':idx, 'amount':amount})"
   ]
  },
  {
   "cell_type": "code",
   "execution_count": 154,
   "id": "af0cdc6e-4c0a-4e2a-87f7-7406b104f5bc",
   "metadata": {},
   "outputs": [],
   "source": [
    "df.set_index('date', inplace=True)"
   ]
  },
  {
   "cell_type": "code",
   "execution_count": 160,
   "id": "307f1e90-44a3-4a71-967c-231d42ce043f",
   "metadata": {},
   "outputs": [
    {
     "data": {
      "text/plain": [
       "amount    27685\n",
       "dtype: int64"
      ]
     },
     "execution_count": 160,
     "metadata": {},
     "output_type": "execute_result"
    }
   ],
   "source": [
    "df['2015':'2016'].sum()"
   ]
  },
  {
   "cell_type": "code",
   "execution_count": 167,
   "id": "0f8da2cb-7f37-4220-824d-e08eb5502524",
   "metadata": {},
   "outputs": [
    {
     "data": {
      "text/plain": [
       "PeriodIndex(['2015', '2015', '2015', '2015', '2015', '2015', '2015', '2015',\n",
       "             '2015', '2015',\n",
       "             ...\n",
       "             '2018', '2018', '2018', '2018', '2018', '2018', '2018', '2018',\n",
       "             '2018', '2018'],\n",
       "            dtype='period[A-DEC]', length=1000)"
      ]
     },
     "execution_count": 167,
     "metadata": {},
     "output_type": "execute_result"
    }
   ],
   "source": [
    "idx.to_period('Y')"
   ]
  },
  {
   "cell_type": "code",
   "execution_count": 169,
   "id": "a0f215a2-a23f-4276-bf2f-0cd3e84f66b4",
   "metadata": {},
   "outputs": [],
   "source": [
    "new_df = df.loc[df.amount > 30,['amount']]"
   ]
  },
  {
   "cell_type": "code",
   "execution_count": 173,
   "id": "faff79e6-a366-4e41-9932-53e9c21b9c5e",
   "metadata": {},
   "outputs": [
    {
     "data": {
      "text/html": [
       "<div>\n",
       "<style scoped>\n",
       "    .dataframe tbody tr th:only-of-type {\n",
       "        vertical-align: middle;\n",
       "    }\n",
       "\n",
       "    .dataframe tbody tr th {\n",
       "        vertical-align: top;\n",
       "    }\n",
       "\n",
       "    .dataframe thead th {\n",
       "        text-align: right;\n",
       "    }\n",
       "</style>\n",
       "<table border=\"1\" class=\"dataframe\">\n",
       "  <thead>\n",
       "    <tr style=\"text-align: right;\">\n",
       "      <th></th>\n",
       "      <th>amount</th>\n",
       "    </tr>\n",
       "    <tr>\n",
       "      <th>date</th>\n",
       "      <th></th>\n",
       "    </tr>\n",
       "  </thead>\n",
       "  <tbody>\n",
       "    <tr>\n",
       "      <th>2015-07-05</th>\n",
       "      <td>70</td>\n",
       "    </tr>\n",
       "    <tr>\n",
       "      <th>2015-07-09</th>\n",
       "      <td>63</td>\n",
       "    </tr>\n",
       "    <tr>\n",
       "      <th>2015-07-10</th>\n",
       "      <td>48</td>\n",
       "    </tr>\n",
       "    <tr>\n",
       "      <th>2015-07-11</th>\n",
       "      <td>83</td>\n",
       "    </tr>\n",
       "    <tr>\n",
       "      <th>2015-07-12</th>\n",
       "      <td>93</td>\n",
       "    </tr>\n",
       "    <tr>\n",
       "      <th>...</th>\n",
       "      <td>...</td>\n",
       "    </tr>\n",
       "    <tr>\n",
       "      <th>2018-03-23</th>\n",
       "      <td>52</td>\n",
       "    </tr>\n",
       "    <tr>\n",
       "      <th>2018-03-25</th>\n",
       "      <td>63</td>\n",
       "    </tr>\n",
       "    <tr>\n",
       "      <th>2018-03-26</th>\n",
       "      <td>46</td>\n",
       "    </tr>\n",
       "    <tr>\n",
       "      <th>2018-03-27</th>\n",
       "      <td>93</td>\n",
       "    </tr>\n",
       "    <tr>\n",
       "      <th>2018-03-29</th>\n",
       "      <td>50</td>\n",
       "    </tr>\n",
       "  </tbody>\n",
       "</table>\n",
       "<p>706 rows × 1 columns</p>\n",
       "</div>"
      ],
      "text/plain": [
       "            amount\n",
       "date              \n",
       "2015-07-05      70\n",
       "2015-07-09      63\n",
       "2015-07-10      48\n",
       "2015-07-11      83\n",
       "2015-07-12      93\n",
       "...            ...\n",
       "2018-03-23      52\n",
       "2018-03-25      63\n",
       "2018-03-26      46\n",
       "2018-03-27      93\n",
       "2018-03-29      50\n",
       "\n",
       "[706 rows x 1 columns]"
      ]
     },
     "execution_count": 173,
     "metadata": {},
     "output_type": "execute_result"
    }
   ],
   "source": [
    "# 최초의 31이 나온 날과 그 다음 31이 나온날의 간격\n",
    "new_df"
   ]
  },
  {
   "cell_type": "code",
   "execution_count": 177,
   "id": "2731508b-9f27-446b-a630-083aa681240c",
   "metadata": {},
   "outputs": [
    {
     "name": "stderr",
     "output_type": "stream",
     "text": [
      "/tmp/ipykernel_3672/2638626913.py:1: UserWarning: Boolean Series key will be reindexed to match DataFrame index.\n",
      "  new_df[df.amount == 31].index[0] - new_df[df.amount == 31].index[1]\n"
     ]
    },
    {
     "data": {
      "text/plain": [
       "Timedelta('-202 days +00:00:00')"
      ]
     },
     "execution_count": 177,
     "metadata": {},
     "output_type": "execute_result"
    }
   ],
   "source": [
    "new_df[df.amount == 31].index[0] - new_df[df.amount == 31].index[1]"
   ]
  },
  {
   "cell_type": "code",
   "execution_count": 180,
   "id": "d5be319d-1b9d-424d-8151-2f26d1c034d9",
   "metadata": {},
   "outputs": [
    {
     "data": {
      "text/plain": [
       "DatetimeIndex(['2015-07-03 00:00:00', '2015-07-03 01:00:00',\n",
       "               '2015-07-03 02:00:00', '2015-07-03 03:00:00',\n",
       "               '2015-07-03 04:00:00', '2015-07-03 05:00:00',\n",
       "               '2015-07-03 06:00:00', '2015-07-03 07:00:00',\n",
       "               '2015-07-03 08:00:00', '2015-07-03 09:00:00',\n",
       "               ...\n",
       "               '2015-07-09 15:00:00', '2015-07-09 16:00:00',\n",
       "               '2015-07-09 17:00:00', '2015-07-09 18:00:00',\n",
       "               '2015-07-09 19:00:00', '2015-07-09 20:00:00',\n",
       "               '2015-07-09 21:00:00', '2015-07-09 22:00:00',\n",
       "               '2015-07-09 23:00:00', '2015-07-10 00:00:00'],\n",
       "              dtype='datetime64[ns]', length=169, freq='H')"
      ]
     },
     "execution_count": 180,
     "metadata": {},
     "output_type": "execute_result"
    }
   ],
   "source": [
    "pd.date_range('2015-07-03', '2015-07-10', freq='H')"
   ]
  },
  {
   "cell_type": "code",
   "execution_count": 186,
   "id": "971b0b7d-2ee3-4f86-a756-036fc0afe33d",
   "metadata": {},
   "outputs": [
    {
     "data": {
      "text/plain": [
       "DatetimeIndex(['2015-07-03 00:00:00', '2015-07-03 00:01:00',\n",
       "               '2015-07-03 00:02:00', '2015-07-03 00:03:00',\n",
       "               '2015-07-03 00:04:00', '2015-07-03 00:05:00',\n",
       "               '2015-07-03 00:06:00', '2015-07-03 00:07:00',\n",
       "               '2015-07-03 00:08:00', '2015-07-03 00:09:00',\n",
       "               ...\n",
       "               '2015-07-03 23:50:00', '2015-07-03 23:51:00',\n",
       "               '2015-07-03 23:52:00', '2015-07-03 23:53:00',\n",
       "               '2015-07-03 23:54:00', '2015-07-03 23:55:00',\n",
       "               '2015-07-03 23:56:00', '2015-07-03 23:57:00',\n",
       "               '2015-07-03 23:58:00', '2015-07-03 23:59:00'],\n",
       "              dtype='datetime64[ns]', length=1440, freq='T')"
      ]
     },
     "execution_count": 186,
     "metadata": {},
     "output_type": "execute_result"
    }
   ],
   "source": [
    "pd.date_range('2015-07-03', periods=24*60, freq='T')"
   ]
  },
  {
   "cell_type": "code",
   "execution_count": 187,
   "id": "9783e5db-313f-4356-8bab-81502fcf57ed",
   "metadata": {},
   "outputs": [
    {
     "data": {
      "text/plain": [
       "PeriodIndex(['2022-03-22', '2022-03-23', '2022-03-24', '2022-03-25',\n",
       "             '2022-03-28', '2022-03-29', '2022-03-30', '2022-03-31'],\n",
       "            dtype='period[B]')"
      ]
     },
     "execution_count": 187,
     "metadata": {},
     "output_type": "execute_result"
    }
   ],
   "source": [
    "pd.period_range('2022-03-22', periods=8, freq='B')"
   ]
  },
  {
   "cell_type": "code",
   "execution_count": 198,
   "id": "9794df80-6bd5-4df8-b001-89f067742006",
   "metadata": {},
   "outputs": [
    {
     "data": {
      "text/html": [
       "<div>\n",
       "<style scoped>\n",
       "    .dataframe tbody tr th:only-of-type {\n",
       "        vertical-align: middle;\n",
       "    }\n",
       "\n",
       "    .dataframe tbody tr th {\n",
       "        vertical-align: top;\n",
       "    }\n",
       "\n",
       "    .dataframe thead th {\n",
       "        text-align: right;\n",
       "    }\n",
       "</style>\n",
       "<table border=\"1\" class=\"dataframe\">\n",
       "  <thead>\n",
       "    <tr style=\"text-align: right;\">\n",
       "      <th></th>\n",
       "      <th>High</th>\n",
       "      <th>Low</th>\n",
       "      <th>Open</th>\n",
       "      <th>Close</th>\n",
       "      <th>Volume</th>\n",
       "      <th>Adj Close</th>\n",
       "    </tr>\n",
       "    <tr>\n",
       "      <th>Date</th>\n",
       "      <th></th>\n",
       "      <th></th>\n",
       "      <th></th>\n",
       "      <th></th>\n",
       "      <th></th>\n",
       "      <th></th>\n",
       "    </tr>\n",
       "  </thead>\n",
       "  <tbody>\n",
       "    <tr>\n",
       "      <th>2017-03-27</th>\n",
       "      <td>41880.0</td>\n",
       "      <td>41180.0</td>\n",
       "      <td>41200.0</td>\n",
       "      <td>41200.0</td>\n",
       "      <td>12177650.0</td>\n",
       "      <td>35753.234375</td>\n",
       "    </tr>\n",
       "    <tr>\n",
       "      <th>2017-03-28</th>\n",
       "      <td>41840.0</td>\n",
       "      <td>41380.0</td>\n",
       "      <td>41560.0</td>\n",
       "      <td>41480.0</td>\n",
       "      <td>8216250.0</td>\n",
       "      <td>35996.222656</td>\n",
       "    </tr>\n",
       "    <tr>\n",
       "      <th>2017-03-29</th>\n",
       "      <td>41960.0</td>\n",
       "      <td>41580.0</td>\n",
       "      <td>41740.0</td>\n",
       "      <td>41780.0</td>\n",
       "      <td>10093250.0</td>\n",
       "      <td>36256.554688</td>\n",
       "    </tr>\n",
       "    <tr>\n",
       "      <th>2017-03-30</th>\n",
       "      <td>42440.0</td>\n",
       "      <td>41880.0</td>\n",
       "      <td>41880.0</td>\n",
       "      <td>41980.0</td>\n",
       "      <td>8204000.0</td>\n",
       "      <td>36552.605469</td>\n",
       "    </tr>\n",
       "    <tr>\n",
       "      <th>2017-03-31</th>\n",
       "      <td>42020.0</td>\n",
       "      <td>41200.0</td>\n",
       "      <td>41820.0</td>\n",
       "      <td>41200.0</td>\n",
       "      <td>10500300.0</td>\n",
       "      <td>35873.441406</td>\n",
       "    </tr>\n",
       "  </tbody>\n",
       "</table>\n",
       "</div>"
      ],
      "text/plain": [
       "               High      Low     Open    Close      Volume     Adj Close\n",
       "Date                                                                    \n",
       "2017-03-27  41880.0  41180.0  41200.0  41200.0  12177650.0  35753.234375\n",
       "2017-03-28  41840.0  41380.0  41560.0  41480.0   8216250.0  35996.222656\n",
       "2017-03-29  41960.0  41580.0  41740.0  41780.0  10093250.0  36256.554688\n",
       "2017-03-30  42440.0  41880.0  41880.0  41980.0   8204000.0  36552.605469\n",
       "2017-03-31  42020.0  41200.0  41820.0  41200.0  10500300.0  35873.441406"
      ]
     },
     "execution_count": 198,
     "metadata": {},
     "output_type": "execute_result"
    }
   ],
   "source": [
    "samsung = data.get_data_yahoo('005930.KS')\n",
    "\n",
    "samsung.head()"
   ]
  },
  {
   "cell_type": "code",
   "execution_count": null,
   "id": "7c5b694a-6366-4e71-93c3-0316e38d8b5e",
   "metadata": {},
   "outputs": [],
   "source": []
  }
 ],
 "metadata": {
  "kernelspec": {
   "display_name": "Python 3 (ipykernel)",
   "language": "python",
   "name": "python3"
  },
  "language_info": {
   "codemirror_mode": {
    "name": "ipython",
    "version": 3
   },
   "file_extension": ".py",
   "mimetype": "text/x-python",
   "name": "python",
   "nbconvert_exporter": "python",
   "pygments_lexer": "ipython3",
   "version": "3.9.7"
  }
 },
 "nbformat": 4,
 "nbformat_minor": 5
}
