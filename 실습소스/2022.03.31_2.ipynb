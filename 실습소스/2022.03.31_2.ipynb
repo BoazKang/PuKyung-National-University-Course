{
 "cells": [
  {
   "cell_type": "code",
   "execution_count": 3,
   "id": "030ae328-654e-4c8a-982d-683142d86329",
   "metadata": {},
   "outputs": [],
   "source": [
    "import numpy as np\n",
    "import pandas as pd\n",
    "\n",
    "from sklearn.datasets import load_iris\n",
    "from sklearn.cluster import KMeans\n",
    "from sklearn.tree import DecisionTreeClassifier\n",
    "from sklearn.metrics import accuracy_score\n",
    "from sklearn.model_selection import train_test_split"
   ]
  },
  {
   "cell_type": "code",
   "execution_count": 4,
   "id": "b14fc376-07fb-4917-96bd-aa462c45df72",
   "metadata": {},
   "outputs": [],
   "source": [
    "df = pd.DataFrame(load_iris().data, columns=load_iris().feature_names)\n",
    "df['target'] = load_iris().target\n",
    "\n",
    "X = df.iloc[:,:-1]\n",
    "y = df.iloc[:,-1]\n",
    "X_train, X_test, y_train, y_test = train_test_split(X,y,test_size=0.2)"
   ]
  },
  {
   "cell_type": "code",
   "execution_count": 5,
   "id": "370ddbac-a921-45ab-ab54-e59724025ec0",
   "metadata": {},
   "outputs": [
    {
     "data": {
      "text/plain": [
       "0.8333333333333334"
      ]
     },
     "execution_count": 5,
     "metadata": {},
     "output_type": "execute_result"
    }
   ],
   "source": [
    "DecisionTreeClassifier().fit(X_train,y_train).score(X_test,y_test)"
   ]
  },
  {
   "cell_type": "code",
   "execution_count": 6,
   "id": "276719f0-d4b4-4fb5-9ee8-86e99f9d3c03",
   "metadata": {},
   "outputs": [],
   "source": [
    "km = KMeans(n_clusters=3)"
   ]
  },
  {
   "cell_type": "code",
   "execution_count": 7,
   "id": "7c738244-c0c9-4e51-ac2a-889e4c6fea38",
   "metadata": {},
   "outputs": [
    {
     "data": {
      "text/plain": [
       "KMeans(n_clusters=3)"
      ]
     },
     "execution_count": 7,
     "metadata": {},
     "output_type": "execute_result"
    }
   ],
   "source": [
    "km.fit(X_train)"
   ]
  },
  {
   "cell_type": "code",
   "execution_count": 9,
   "id": "115b8789-ff38-4889-8761-e89ebd1cc940",
   "metadata": {},
   "outputs": [],
   "source": [
    "gr = km.predict(X_test)"
   ]
  },
  {
   "cell_type": "code",
   "execution_count": 10,
   "id": "a22030d7-305a-4476-8980-6f23fef9b7b2",
   "metadata": {},
   "outputs": [
    {
     "data": {
      "text/plain": [
       "array([2, 1, 1, 2, 0, 1, 2, 1, 0, 0, 1, 1, 1, 1, 1, 2, 2, 0, 1, 0, 0, 1,\n",
       "       1, 1, 1, 2, 1, 2, 0, 0, 0, 1, 0, 2, 0, 2, 0, 0, 1, 1, 2, 2, 1, 0,\n",
       "       1, 0, 0, 0, 2, 0, 0, 2, 0, 2, 1, 0, 1, 0, 1, 1, 0, 1, 1, 2, 2, 1,\n",
       "       1, 0, 2, 0, 0, 0, 1, 2, 1, 0, 1, 0, 1, 2, 0, 2, 2, 0, 2, 1, 2, 1,\n",
       "       1, 0, 0, 0, 0, 0, 0, 0, 2, 0, 1, 2, 2, 2, 1, 0, 1, 0, 0, 0, 2, 1,\n",
       "       2, 0, 1, 0, 2, 2, 0, 0, 1, 0], dtype=int32)"
      ]
     },
     "execution_count": 10,
     "metadata": {},
     "output_type": "execute_result"
    }
   ],
   "source": [
    "km.predict(X_train)"
   ]
  },
  {
   "cell_type": "code",
   "execution_count": 12,
   "id": "78f12100-b292-4f56-9064-b30cb6987931",
   "metadata": {},
   "outputs": [
    {
     "data": {
      "text/plain": [
       "array([2, 0, 0, 2, 1, 0, 2, 0, 2, 1, 0, 0, 0, 0, 0, 2, 2, 1, 0, 1, 2, 0,\n",
       "       0, 0, 0, 2, 0, 2, 1, 1, 1, 0, 1, 2, 2, 2, 1, 1, 0, 0, 2, 2, 0, 1,\n",
       "       0, 1, 1, 1, 2, 1, 1, 2, 1, 2, 0, 1, 0, 1, 0, 0, 1, 0, 0, 2, 2, 0,\n",
       "       0, 1, 2, 1, 1, 2, 0, 2, 0, 1, 0, 1, 0, 2, 1, 2, 2, 1, 2, 0, 2, 0,\n",
       "       0, 1, 1, 1, 1, 2, 2, 1, 2, 2, 0, 2, 2, 2, 0, 1, 0, 2, 1, 1, 2, 0,\n",
       "       2, 1, 0, 1, 2, 2, 2, 1, 0, 2])"
      ]
     },
     "execution_count": 12,
     "metadata": {},
     "output_type": "execute_result"
    }
   ],
   "source": [
    "y_train.values"
   ]
  },
  {
   "cell_type": "code",
   "execution_count": 14,
   "id": "76ad1d36-0278-4914-8d6f-a4433289ffbf",
   "metadata": {},
   "outputs": [
    {
     "data": {
      "text/plain": [
       "0.8"
      ]
     },
     "execution_count": 14,
     "metadata": {},
     "output_type": "execute_result"
    }
   ],
   "source": [
    "accuracy_score(np.where(gr == 0, 1, np.where(gr == 2, 2, 0)), y_test)"
   ]
  },
  {
   "cell_type": "code",
   "execution_count": 20,
   "id": "a7cd936e-6752-4c06-943d-3a8f64292cb3",
   "metadata": {},
   "outputs": [],
   "source": [
    "x = np.concatenate([np.random.normal(0,2,1000), np.random.normal(10,2,2000)])"
   ]
  },
  {
   "cell_type": "code",
   "execution_count": 21,
   "id": "1d0e66ba-3467-4dee-9bf9-82c8e215c11d",
   "metadata": {},
   "outputs": [],
   "source": [
    "import matplotlib.pyplot as plt"
   ]
  },
  {
   "cell_type": "code",
   "execution_count": 23,
   "id": "82baeddb-8566-4009-9e3c-898ae1818805",
   "metadata": {},
   "outputs": [
    {
     "data": {
      "text/plain": [
       "(array([  2.,   1.,   4.,  15.,  35.,  53., 100., 137., 146., 159., 132.,\n",
       "        112.,  56.,  26.,  23.,  24.,  43.,  97., 169., 212., 287., 310.,\n",
       "        298., 225., 155.,  89.,  48.,  31.,   8.,   3.]),\n",
       " array([-7.24972878, -6.44715276, -5.64457674, -4.84200072, -4.0394247 ,\n",
       "        -3.23684868, -2.43427266, -1.63169664, -0.82912062, -0.0265446 ,\n",
       "         0.77603142,  1.57860744,  2.38118346,  3.18375949,  3.98633551,\n",
       "         4.78891153,  5.59148755,  6.39406357,  7.19663959,  7.99921561,\n",
       "         8.80179163,  9.60436765, 10.40694367, 11.20951969, 12.01209571,\n",
       "        12.81467173, 13.61724775, 14.41982377, 15.22239979, 16.02497581,\n",
       "        16.82755183]),\n",
       " <BarContainer object of 30 artists>)"
      ]
     },
     "execution_count": 23,
     "metadata": {},
     "output_type": "execute_result"
    },
    {
     "data": {
      "image/png": "[encoded data removed]",
      "text/plain": [
       "<Figure size 432x288 with 1 Axes>"
      ]
     },
     "metadata": {
      "needs_background": "light"
     },
     "output_type": "display_data"
    }
   ],
   "source": [
    "plt.hist(x,bins=30)"
   ]
  },
  {
   "cell_type": "raw",
   "id": "deaeb10e-8462-4fd8-9d9d-4f9c45552b52",
   "metadata": {},
   "source": [
    "(n,) n개의 집합\n",
    "(n,m) m개의 특징을 가진 n개의 집합\n",
    "(n,m,l) 이미지\n",
    "(n,m,l,p) 3D이미지\n",
    "\n",
    "행렬\n",
    "1.수치형(numeric)\n",
    "2.빈 곳이 없음"
   ]
  },
  {
   "cell_type": "raw",
   "id": "d46fc555-f1a2-4178-b28c-da8e0e13964d",
   "metadata": {},
   "source": [
    "1. datasets 준비\n",
    "2. 행렬(metrix) 만들기\n",
    "    1) 숫자형\n",
    "    2) isna - Fales\n",
    "3. 모델 만들기\n",
    "4. 검증"
   ]
  }
 ],
 "metadata": {
  "kernelspec": {
   "display_name": "Python 3 (ipykernel)",
   "language": "python",
   "name": "python3"
  },
  "language_info": {
   "codemirror_mode": {
    "name": "ipython",
    "version": 3
   },
   "file_extension": ".py",
   "mimetype": "text/x-python",
   "name": "python",
   "nbconvert_exporter": "python",
   "pygments_lexer": "ipython3",
   "version": "3.9.7"
  }
 },
 "nbformat": 4,
 "nbformat_minor": 5
}
