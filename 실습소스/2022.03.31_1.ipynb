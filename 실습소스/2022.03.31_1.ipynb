{
 "cells": [
  {
   "cell_type": "code",
   "execution_count": 18,
   "id": "675c6407-f5ae-4e29-ad10-c1534b71c2b5",
   "metadata": {},
   "outputs": [],
   "source": [
    "import numpy as np\n",
    "import pandas as pd\n",
    "\n",
    "from sklearn.datasets import load_boston\n",
    "from sklearn.decomposition import PCA\n",
    "from sklearn.linear_model import LinearRegression\n",
    "from sklearn.ensemble import RandomForestRegressor"
   ]
  },
  {
   "cell_type": "code",
   "execution_count": 14,
   "id": "615a0407-9475-4fa8-bff8-f6fd45f543d7",
   "metadata": {},
   "outputs": [],
   "source": [
    "X = load_boston().data\n",
    "X_pca = PCA(4).fit_transform(X)\n",
    "y = load_boston().target"
   ]
  },
  {
   "cell_type": "code",
   "execution_count": 15,
   "id": "bf888a29-75e6-4ae7-8cf0-3b86384a78fa",
   "metadata": {},
   "outputs": [
    {
     "data": {
      "text/plain": [
       "0.7406426641094095"
      ]
     },
     "execution_count": 15,
     "metadata": {},
     "output_type": "execute_result"
    }
   ],
   "source": [
    "lm = LinearRegression()\n",
    "lm.fit(X,y)\n",
    "lm.score(X,y)"
   ]
  },
  {
   "cell_type": "code",
   "execution_count": 16,
   "id": "d36c9671-6bf5-47aa-a9b5-638650f1ff96",
   "metadata": {},
   "outputs": [
    {
     "data": {
      "text/plain": [
       "0.2932836185713643"
      ]
     },
     "execution_count": 16,
     "metadata": {},
     "output_type": "execute_result"
    }
   ],
   "source": [
    "lm.fit(X_pca,y)\n",
    "lm.score(X_pca,y)"
   ]
  },
  {
   "cell_type": "code",
   "execution_count": 19,
   "id": "d3e1ebba-bc55-457b-bea2-3726ecefa2f2",
   "metadata": {},
   "outputs": [
    {
     "data": {
      "text/plain": [
       "0.9832157417436554"
      ]
     },
     "execution_count": 19,
     "metadata": {},
     "output_type": "execute_result"
    }
   ],
   "source": [
    "rf = RandomForestRegressor()\n",
    "rf.fit(X,y)\n",
    "rf.score(X,y)"
   ]
  },
  {
   "cell_type": "code",
   "execution_count": 20,
   "id": "6027122c-8d10-48d3-a73d-f60e02e559dc",
   "metadata": {},
   "outputs": [
    {
     "data": {
      "text/plain": [
       "0.9140281104594872"
      ]
     },
     "execution_count": 20,
     "metadata": {},
     "output_type": "execute_result"
    }
   ],
   "source": [
    "rf.fit(X_pca,y)\n",
    "rf.score(X_pca,y)"
   ]
  },
  {
   "cell_type": "code",
   "execution_count": null,
   "id": "f028bab1-fed2-4624-9b4f-ff9e89bbfca2",
   "metadata": {},
   "outputs": [],
   "source": []
  }
 ],
 "metadata": {
  "kernelspec": {
   "display_name": "Python 3 (ipykernel)",
   "language": "python",
   "name": "python3"
  },
  "language_info": {
   "codemirror_mode": {
    "name": "ipython",
    "version": 3
   },
   "file_extension": ".py",
   "mimetype": "text/x-python",
   "name": "python",
   "nbconvert_exporter": "python",
   "pygments_lexer": "ipython3",
   "version": "3.9.7"
  }
 },
 "nbformat": 4,
 "nbformat_minor": 5
}
