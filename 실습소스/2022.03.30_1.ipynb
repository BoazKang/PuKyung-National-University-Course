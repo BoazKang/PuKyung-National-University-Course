{
 "cells": [
  {
   "cell_type": "code",
   "execution_count": 1,
   "id": "bdcf45b9-7e93-401a-b780-1057c7152d07",
   "metadata": {},
   "outputs": [],
   "source": [
    "import warnings\n",
    "warnings.filterwarnings(action='ignore')\n",
    "import numpy as np\n",
    "import pandas as pd\n",
    "\n",
    "import matplotlib.pyplot as plt\n",
    "\n",
    "from sklearn.preprocessing import LabelEncoder, OneHotEncoder\n",
    "from sklearn.compose import make_column_transformer\n",
    "from sklearn.model_selection import train_test_split\n",
    "\n",
    "from sklearn.ensemble import RandomForestRegressor, AdaBoostClassifier, RandomForestClassifier\n",
    "from sklearn.linear_model import LogisticRegression\n",
    "from sklearn.svm import SVC\n",
    "from sklearn.neighbors import KNeighborsClassifier\n",
    "import xgboost"
   ]
  },
  {
   "cell_type": "code",
   "execution_count": 2,
   "id": "a6b8cd02-0ffd-4181-b418-155e77b2a248",
   "metadata": {},
   "outputs": [],
   "source": [
    "df = pd.read_csv('data/titanic.csv')"
   ]
  },
  {
   "cell_type": "code",
   "execution_count": 3,
   "id": "54eb18cc-4778-4938-9d72-953559a85095",
   "metadata": {},
   "outputs": [],
   "source": [
    "## 데이터 개요\n",
    "df.head()\n",
    "\n",
    "## 데이터 변수 확인\n",
    "df.columns # 변수 이름 확인\n",
    "df.columns.size # 변수 개수 확인\n",
    "df.shape # 행의 개수, 열의 개수\n",
    "df.dtypes # 변수의 데이터 타입 (수치형으로 변환하기 위해)\n",
    "\n",
    "## 특징(변수)는 절대 Na가 있으면 안되므로 반드시 Na 확인\n",
    "df.isna().sum()\n",
    "\n",
    "## 필요한 column(변수)만 select\n",
    "selected_cols = ['Pclass', 'Name', 'Sex', 'Age', 'SibSp', 'Parch', 'Ticket', 'Fare', 'Cabin', 'Embarked', 'Survived']\n",
    "data = df[selected_cols]"
   ]
  },
  {
   "cell_type": "code",
   "execution_count": 4,
   "id": "abc9e171-bf04-4523-b315-21c4d43b46ac",
   "metadata": {},
   "outputs": [
    {
     "data": {
      "text/plain": [
       "Pclass        0\n",
       "Name          0\n",
       "Sex           0\n",
       "Age         177\n",
       "SibSp         0\n",
       "Parch         0\n",
       "Ticket        0\n",
       "Fare          0\n",
       "Cabin       687\n",
       "Embarked      0\n",
       "Survived      0\n",
       "dtype: int64"
      ]
     },
     "execution_count": 4,
     "metadata": {},
     "output_type": "execute_result"
    }
   ],
   "source": [
    "## 분석 데이터 개요\n",
    "data.head()\n",
    "\n",
    "## 데이터 변수 확인\n",
    "data.columns # 변수 이름 확인\n",
    "data.columns.size # 변수 개수 확인\n",
    "data.shape # 행의 개수, 열의 개수\n",
    "data.dtypes # 변수의 데이터 타입 (수치형으로 변환하기 위해)\n",
    "\n",
    "## 특징(변수)는 절대 Na가 있으면 안되므로 반드시 Na 확인\n",
    "data.isna().sum()\n",
    "# data.info() # row뿐만이 아니라 column의 개수가 많아도 데이터가 크다고 할 수 있음\n",
    "\n",
    "# Pclass        0\n",
    "# Name          0\n",
    "# Sex           0\n",
    "# Age         177\n",
    "# SibSp         0\n",
    "# Parch         0\n",
    "# Ticket        0\n",
    "# Fare          0\n",
    "# Cabin       687\n",
    "# Embarked      2\n",
    "# Survived      0\n",
    "# dtype: int64\n",
    "\n",
    "\n",
    "## na 정리\n",
    "# 1. drop데이터 선별 (column)\n",
    "# Cabin\n",
    "\n",
    "# 2. drop데이터 선별 (row)\n",
    "# Embarked\n",
    "# data.drop(data.Embarked.isna(), axis=0)\n",
    "data = data.loc[~data.Embarked.isna(),:]\n",
    "data.isna().sum() ## 해당 row가 지워졌는지 확인\n",
    "\n"
   ]
  },
  {
   "cell_type": "code",
   "execution_count": 5,
   "id": "edbdbc63-4c20-4e2e-b5b5-259e706cfca5",
   "metadata": {},
   "outputs": [],
   "source": [
    "## Cabin imputation(채워넣기)\n",
    "# 수치형 --> 외곡의 우려 있어서 세심한 주의 필요 (평균 사용시 주의 요망)\n",
    "# 범주형데이터 --> real Na? 범주외의 대체값이 존재하는가?\n",
    "\n",
    "## Cabin EDA\n",
    "data.Cabin.str[:1].value_counts() # 첫글자를 기준으로 분류\n",
    "data.Cabin.fillna('N',inplace=True) # Na 값을 전부 'N'으로 치환\n",
    "data.isna().sum() # Na 개수 확인\n",
    "data.Cabin.str[:1].value_counts() # 채워졌는지 확인 \n",
    "newCabin = data.Cabin.str[:1]\n",
    "data.drop('Cabin',axis=1,inplace=True)\n",
    "data['Cabin'] = newCabin"
   ]
  },
  {
   "cell_type": "code",
   "execution_count": 6,
   "id": "fa7c6192-fdfc-4eff-b0fa-e56778ba4e80",
   "metadata": {},
   "outputs": [],
   "source": [
    "## Age imputation\n",
    "\n",
    "## Age EDA\n",
    "data.Age.describe()\n",
    "data.loc[data.Age <= 18,:] # 18세 미만인 사람\n",
    "data.loc[data.Age.isna(),['Pclass','Fare']] # Age값이 NULL인 사람의 선실, 요금 정보\n",
    "data.groupby(['Pclass','Sex'])['Fare'].mean()\n",
    "\n",
    "## Age 예측을 위한 회귀모델 생성\n",
    "df_age = data.loc[~data.Age.isna(),['Pclass','Sex','Fare','Embarked','Age']] # 예측을 위한 데이터\n",
    "pred_age = data.loc[data.Age.isna(),['Pclass','Sex','Fare','Embarked']] # 예측할 데이터\n",
    "\n",
    "le_sex = LabelEncoder()\n",
    "le_sex.fit(df_age.Sex)\n",
    "newSex = le_sex.transform(df_age.Sex)\n",
    "\n",
    "le_embarked = LabelEncoder()\n",
    "le_embarked.fit(df_age.Embarked)\n",
    "newEmbarked = le_embarked.transform(df_age.Embarked)\n",
    "\n",
    "df_age.drop(['Sex','Embarked'], axis=1, inplace=True)\n",
    "newCols = np.c_[newSex, newEmbarked]\n",
    "df_age = pd.concat([pd.DataFrame(newCols, index=df_age.index), df_age], axis=1)\n",
    "\n",
    "age_model = RandomForestRegressor()\n",
    "age_model.fit(df_age.iloc[:,:-1], df_age.iloc[:,-1])\n",
    "\n",
    "## Null 예측 실행\n",
    "newSex = le_sex.transform(pred_age.Sex)\n",
    "newEmbarked = le_embarked.transform(pred_age.Embarked)\n",
    "\n",
    "pred_age.drop(['Sex','Embarked'], axis=1, inplace=True)\n",
    "newCols = np.c_[newSex, newEmbarked]\n",
    "pred_age = pd.concat([pd.DataFrame(newCols, index=pred_age.index), pred_age], axis=1)\n",
    "\n",
    "newAge = age_model.predict(pred_age)\n",
    "pred_age['Age'] = newAge\n",
    "\n",
    "## \n",
    "newAge = pd.merge(df_age, pred_age, how='outer')[['Age']]\n",
    "newAge.reset_index(inplace=True, drop=True) # 인덱스 맞추기\n",
    "\n",
    "\n",
    "## 기존 data에 newAge컬럼 추가\n",
    "data.reset_index(inplace=True, drop=True) # 인덱스 맞추기\n",
    "data.drop('Age', axis=1, inplace=True)\n",
    "data['Age'] = newAge\n"
   ]
  },
  {
   "cell_type": "code",
   "execution_count": 7,
   "id": "e45e6a06-504e-452b-8b3f-707a4d541c0b",
   "metadata": {},
   "outputs": [],
   "source": [
    "## 파생 변수 생성 (Name) 결혼유무판단\n",
    "## data.Name에서 Mrs. 가 존재하면 기혼\n",
    "## data.Name에서 Mr. 가 가족(SibSp)이 있으면 기혼 또는 25세 이상이면 기혼\n",
    "married = np.where(data.Name.str.contains('Mrs.') | (data.Name.str.contains('Mr.') & data.SibSp > 0), 1, 0)\n",
    "data['Married'] = married"
   ]
  },
  {
   "cell_type": "code",
   "execution_count": 8,
   "id": "c6526573-aa15-44d0-a290-50987c555656",
   "metadata": {
    "tags": []
   },
   "outputs": [
    {
     "data": {
      "text/plain": [
       "Pclass        int64\n",
       "Sex          object\n",
       "SibSp         int64\n",
       "Parch         int64\n",
       "Fare        float64\n",
       "Embarked     object\n",
       "Survived      int64\n",
       "Cabin        object\n",
       "Age         float64\n",
       "Married       int64\n",
       "dtype: object"
      ]
     },
     "execution_count": 8,
     "metadata": {},
     "output_type": "execute_result"
    }
   ],
   "source": [
    "## Name, Ticket 컬럼 제거\n",
    "data.drop(['Name', 'Ticket'], axis=1, inplace=True)\n",
    "data.head()\n",
    "\n",
    "## data의 컬럼 타입 확인\n",
    "data.dtypes"
   ]
  },
  {
   "cell_type": "code",
   "execution_count": 9,
   "id": "388ccf10-a216-4591-ad2b-dfecd14ba334",
   "metadata": {},
   "outputs": [],
   "source": [
    "## preprocessing (전처리) \n",
    "# categorical(범주형) 변수에서 종류(unique)가 2개면 정수 인코딩, 나머지는 원핫 인코딩\n",
    "# obj = data.dtypes[data.dtypes == 'object'].index\n",
    "# data[obj[0]].unique().size\n",
    "\n",
    "# 수치형(연속형) 변수일 경우 정규화(MinMax, Robust, Standard)\n",
    "# mmScale = (X - np.min(X)) / (np.max(X) - np.min(X))\n",
    "# rbScale = (X - np.percentile(X, 50)) / (np.percentile(X, 75) - (np.percentile(X, 25))\n",
    "# stScale = (X - np.mean(X)) / (np.sd(X))"
   ]
  },
  {
   "cell_type": "code",
   "execution_count": 10,
   "id": "016c82af-ecc8-4474-91e3-3127c3c2426f",
   "metadata": {
    "tags": []
   },
   "outputs": [],
   "source": [
    "# plt.boxplot(data.Age)\n",
    "newAge = np.where(data.Age > np.percentile(data.Age, 90), 0, \n",
    "                  np.where(data.Age > np.percentile(data.Age, 75), 1, \n",
    "                           np.where(data.Age > np.percentile(data.Age, 25), 2, 3)))\n",
    "data.drop('Age',axis=1,inplace=True)\n",
    "data['Age'] = newAge"
   ]
  },
  {
   "cell_type": "code",
   "execution_count": 11,
   "id": "a34c0ae5-7030-4c13-bc58-a077109b93cf",
   "metadata": {
    "tags": []
   },
   "outputs": [
    {
     "data": {
      "text/plain": [
       "(889, 39)"
      ]
     },
     "execution_count": 11,
     "metadata": {},
     "output_type": "execute_result"
    }
   ],
   "source": [
    "# from sklearn.preprocessing import LabelEncoder, OneHotEncoder\n",
    "\n",
    "# newPclass = OneHotEncoder().fit_transform(data[['Pclass']]).toarray()\n",
    "# newSex = OneHotEncoder().fit_transform(data[['Sex']]).toarray()\n",
    "# newSibSp = OneHotEncoder().fit_transform(data[['SibSp']]).toarray()\n",
    "# newCols = np.c_[newPclass, newSex, newSibSp]\n",
    "# newCols.shape\n",
    "\n",
    "selected_cols = ['Pclass','Sex','SibSp', 'Age', 'Parch','Embarked','Cabin','Married']\n",
    "ct = make_column_transformer(\n",
    "    (OneHotEncoder(),selected_cols)\n",
    ")\n",
    "newCols = ct.fit_transform(data).toarray()\n",
    "data.drop(selected_cols, axis=1, inplace=True)\n",
    "data = pd.concat([pd.DataFrame(newCols), data], axis=1)\n",
    "data.shape"
   ]
  },
  {
   "cell_type": "code",
   "execution_count": 12,
   "id": "ab4af41f-deaa-43e6-86b4-d13691ca116c",
   "metadata": {},
   "outputs": [],
   "source": [
    "## train, test 분리\n",
    "X = data.iloc[:,:-1]\n",
    "y = data.iloc[:,-1]\n",
    "X_train, X_test, y_train, y_test = train_test_split(X, y, test_size=0.2)"
   ]
  },
  {
   "cell_type": "code",
   "execution_count": null,
   "id": "b28ea030-c5e9-4f48-844a-e55e1d89c54f",
   "metadata": {},
   "outputs": [],
   "source": []
  },
  {
   "cell_type": "code",
   "execution_count": 13,
   "id": "909b3e0c-c4af-452d-8aef-99ffdefb49fc",
   "metadata": {},
   "outputs": [],
   "source": [
    "## Model Instance 생성\n",
    "rf_model = RandomForestClassifier()\n",
    "ada_model = AdaBoostClassifier()\n",
    "lr_model = LogisticRegression()\n",
    "svc_model = SVC(probability=True)\n",
    "knn_model = KNeighborsClassifier()\n",
    "xgb_param = {\n",
    "    'n_estimators': 100, \n",
    "    'learning_rate': 0.08, \n",
    "    'gamma': 0, \n",
    "    'subsample': 0.75,\n",
    "    'colsample_bytree': 1, \n",
    "    'max_depth': 7,\n",
    "    'verbosity': 0\n",
    "}\n",
    "xgb_model = xgboost.XGBClassifier(**xgb_param)"
   ]
  },
  {
   "cell_type": "code",
   "execution_count": 14,
   "id": "67796b52-f8a6-4461-a1ec-167c8f7bb30c",
   "metadata": {},
   "outputs": [
    {
     "data": {
      "text/plain": [
       "XGBClassifier(base_score=0.5, booster='gbtree', colsample_bylevel=1,\n",
       "              colsample_bynode=1, colsample_bytree=1, enable_categorical=False,\n",
       "              gamma=0, gpu_id=-1, importance_type=None,\n",
       "              interaction_constraints='', learning_rate=0.08, max_delta_step=0,\n",
       "              max_depth=7, min_child_weight=1, missing=nan,\n",
       "              monotone_constraints='()', n_estimators=100, n_jobs=1,\n",
       "              num_parallel_tree=1, predictor='auto', random_state=0,\n",
       "              reg_alpha=0, reg_lambda=1, scale_pos_weight=1, subsample=0.75,\n",
       "              tree_method='exact', validate_parameters=1, verbosity=0)"
      ]
     },
     "execution_count": 14,
     "metadata": {},
     "output_type": "execute_result"
    }
   ],
   "source": [
    "## Model Training\n",
    "rf_model.fit(X_train,y_train)\n",
    "ada_model.fit(X_train,y_train)\n",
    "lr_model.fit(X_train,y_train)\n",
    "svc_model.fit(X_train,y_train)\n",
    "knn_model.fit(X_train,y_train)\n",
    "xgb_model.fit(X_train,y_train)"
   ]
  },
  {
   "cell_type": "code",
   "execution_count": 15,
   "id": "7fcdb02e-36ff-4cdc-8a05-ef6722779fe2",
   "metadata": {},
   "outputs": [],
   "source": [
    "rf_result = rf_model.predict_proba(X_test)\n",
    "ada_result = ada_model.predict_proba(X_test)\n",
    "lr_result = lr_model.predict_proba(X_test)\n",
    "svc_result = svc_model.predict_proba(X_test)\n",
    "knn_result = knn_model.predict_proba(X_test)\n",
    "xgb_result = xgb_model.predict_proba(X_test)\n",
    "\n",
    "# hard_voting_result = rf_model.predict(X_test) + ada_model.predict(X_test) + lr_model.predict(X_test) + svc_model.predict(X_test) + knn_model.predict(X_test)\n",
    "hard_voting_result = rf_model.predict(X_test) + ada_model.predict(X_test) + lr_model.predict(X_test) + svc_model.predict(X_test) + xgb_model.predict(X_test)\n",
    "hard_acc = sum(np.where(hard_voting_result > 2, 1, 0) == y_test) / hard_voting_result.size\n",
    "\n",
    "soft_voting_result = rf_result + ada_result + lr_result + svc_result + knn_result\n",
    "soft_acc = sum(np.array(soft_voting_result[:,0] < soft_voting_result[:,1], dtype='int') == y_test) / y_test.size"
   ]
  },
  {
   "cell_type": "code",
   "execution_count": 16,
   "id": "9affd429-3467-4154-8fa6-03a310fc72b1",
   "metadata": {},
   "outputs": [
    {
     "name": "stdout",
     "output_type": "stream",
     "text": [
      "rf_model:  0.8089887640449438\n",
      "ada_model:  0.8089887640449438\n",
      "lr_model:  0.797752808988764\n",
      "svc_model:  0.6966292134831461\n",
      "knn_model:  0.7640449438202247\n",
      "xgb_model:  0.8202247191011236\n",
      "hard_voting_model:  0.8089887640449438\n",
      "soft_voting_model:  0.8202247191011236\n"
     ]
    }
   ],
   "source": [
    "print('rf_model: ', rf_model.score(X_test,y_test))\n",
    "print('ada_model: ', ada_model.score(X_test,y_test))\n",
    "print('lr_model: ', lr_model.score(X_test,y_test))\n",
    "print('svc_model: ', svc_model.score(X_test,y_test))\n",
    "print('knn_model: ', knn_model.score(X_test,y_test))\n",
    "print('xgb_model: ', xgb_model.score(X_test,y_test))\n",
    "print('hard_voting_model: ', hard_acc)\n",
    "print('soft_voting_model: ', soft_acc)"
   ]
  },
  {
   "cell_type": "code",
   "execution_count": 17,
   "id": "eb8e09db-de6a-4736-b7fa-a3902665f94c",
   "metadata": {},
   "outputs": [],
   "source": [
    "## Meta Model의 train x 생성\n",
    "v1 = rf_model.predict(X_train)\n",
    "v2 = ada_model.predict(X_train)\n",
    "v3 = lr_model.predict(X_train)\n",
    "v4 = svc_model.predict(X_train)\n",
    "v5 = xgb_model.predict(X_train)\n",
    "X_train_meta = np.c_[v1,v2,v3,v4,v5]"
   ]
  },
  {
   "cell_type": "code",
   "execution_count": 18,
   "id": "eef98f66-4658-4264-a9bb-0e1057713028",
   "metadata": {},
   "outputs": [
    {
     "data": {
      "text/plain": [
       "KNeighborsClassifier()"
      ]
     },
     "execution_count": 18,
     "metadata": {},
     "output_type": "execute_result"
    }
   ],
   "source": [
    "## Meta Model\n",
    "meta_model = knn_model\n",
    "meta_model.fit(X_train_meta,y_train)"
   ]
  },
  {
   "cell_type": "code",
   "execution_count": 19,
   "id": "3edef0a6-0cde-4af0-a308-635013e19f50",
   "metadata": {},
   "outputs": [],
   "source": [
    "## Meta Model test x 생성\n",
    "v1 = rf_model.predict(X_test)\n",
    "v2 = ada_model.predict(X_test)\n",
    "v3 = lr_model.predict(X_test)\n",
    "v4 = svc_model.predict(X_test)\n",
    "v5 = xgb_model.predict(X_test)\n",
    "X_test_meta = np.c_[v1,v2,v3,v4,v5]"
   ]
  },
  {
   "cell_type": "code",
   "execution_count": 20,
   "id": "db4defb2-0195-4964-bc6d-5738a86c4830",
   "metadata": {},
   "outputs": [
    {
     "data": {
      "text/plain": [
       "0.8089887640449438"
      ]
     },
     "execution_count": 20,
     "metadata": {},
     "output_type": "execute_result"
    }
   ],
   "source": [
    "## Meta Model 검증\n",
    "meta_model.score(X_test_meta,y_test)"
   ]
  },
  {
   "cell_type": "raw",
   "id": "15e7b565-ca0b-4653-969a-f399a6b96618",
   "metadata": {},
   "source": [
    "체리셰프: 1-1/표준편차(k)**2"
   ]
  },
  {
   "cell_type": "code",
   "execution_count": null,
   "id": "d39e92c8-6ba9-440f-a9ee-058403208bb5",
   "metadata": {},
   "outputs": [],
   "source": []
  }
 ],
 "metadata": {
  "kernelspec": {
   "display_name": "Python 3 (ipykernel)",
   "language": "python",
   "name": "python3"
  },
  "language_info": {
   "codemirror_mode": {
    "name": "ipython",
    "version": 3
   },
   "file_extension": ".py",
   "mimetype": "text/x-python",
   "name": "python",
   "nbconvert_exporter": "python",
   "pygments_lexer": "ipython3",
   "version": "3.9.7"
  }
 },
 "nbformat": 4,
 "nbformat_minor": 5
}
