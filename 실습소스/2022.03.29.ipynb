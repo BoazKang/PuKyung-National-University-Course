{
 "cells": [
  {
   "cell_type": "code",
   "execution_count": 292,
   "id": "84a30b1c-ea6c-4e3a-a701-fec169dfa13e",
   "metadata": {},
   "outputs": [],
   "source": [
    "import warnings\n",
    "warnings.filterwarnings(action='ignore')\n",
    "import numpy as np\n",
    "import pandas as pd\n",
    "import matplotlib.pyplot as plt\n",
    "\n",
    "from sklearn.model_selection import cross_val_score\n",
    "from sklearn.linear_model import LogisticRegression, LinearRegression\n",
    "from sklearn.ensemble import RandomForestClassifier\n",
    "from sklearn.svm import SVC\n",
    "from sklearn.cluster import KMeans"
   ]
  },
  {
   "cell_type": "code",
   "execution_count": 384,
   "id": "d787c1e5-2b47-4050-943e-c24aa62c363d",
   "metadata": {},
   "outputs": [],
   "source": [
    "df = pd.read_csv('data/titanic.csv')"
   ]
  },
  {
   "cell_type": "code",
   "execution_count": 385,
   "id": "0d0fdc5a-0cab-4f0b-83ae-9979d5c9fddd",
   "metadata": {},
   "outputs": [],
   "source": [
    "df.head()\n",
    "# df.columns\n",
    "# df.shape\n",
    "# df.SibSp.value_counts()\n",
    "data = df[['Pclass', 'Sex', 'SibSp', 'Parch','Fare', 'Cabin', 'Embarked', 'Age', 'Survived', 'Name']]\n",
    "feature_cols = ['Pclass', 'Sex', 'SibSp', 'Parch','Fare', 'Cabin', 'Embarked', 'Age']\n",
    "target_col = ['Survived']"
   ]
  },
  {
   "cell_type": "code",
   "execution_count": 386,
   "id": "eb2f33f8-1ffc-4f6a-b482-7d7d7797608e",
   "metadata": {},
   "outputs": [],
   "source": [
    "# data.dtypes\n",
    "data.head()\n",
    "\n",
    "data.isna().sum() # null, na, Nan, None\n",
    "## Embarked의 빈 row 제거\n",
    "data = data.loc[~data.Embarked.isna(),:]\n",
    "\n",
    "## Cabin은 column을 제거\n",
    "# data = data.loc[:,['Pclass', 'Sex', 'SibSp', 'Parch','Fare', 'Embarked', 'Age']]\n",
    "data.drop('Cabin', axis=1, inplace=True)\n",
    "\n",
    "## Age는 데이터를 imputation\n",
    "# data.loc[data.Age.isna(),'Age'] = data.Age.mean()\n",
    "data.Age.fillna(data.Age.mean(),inplace=True)\n",
    "\n",
    "\n",
    "# 생존자 나이 평균을 생존자 나이에 넣고\n",
    "new_data = df.groupby(['Survived','Sex']).mean().Age.reset_index()\n",
    "\n",
    "# 사망자 나이 평균을 사망자 나이에\n",
    "# df.loc[df.Age.isna(),:]\n",
    "data.loc[(data.Survived==0) & (data.Sex=='female') & (data.Age.isna()), 'Age'] = new_data.loc[(new_data.Survived==0) & (new_data.Sex=='female'), 'Age'].values[0]\n",
    "data.loc[(data.Survived==1) & (data.Sex=='female') & (data.Age.isna()), 'Age'] = new_data.loc[(new_data.Survived==1) & (new_data.Sex=='female'), 'Age'].values[0]\n",
    "data.loc[(data.Survived==0) & (data.Sex=='male') & (data.Age.isna()), 'Age'] = new_data.loc[(new_data.Survived==0) & (new_data.Sex=='male'), 'Age'].values[0]\n",
    "data.loc[(data.Survived==1) & (data.Sex=='male') & (data.Age.isna()), 'Age'] = new_data.loc[(new_data.Survived==1) & (new_data.Sex=='male'), 'Age'].values[0]\n",
    "data.reset_index(drop=True, inplace=True)\n"
   ]
  },
  {
   "cell_type": "raw",
   "id": "f800cd89-5810-4f73-a1f3-253d14ed3ca0",
   "metadata": {},
   "source": [
    "정규화\n",
    "1. MinMax: (X - min) / max - min\n",
    "2. Standard: (X - X_bar) / std # X_bar는 평균\n",
    "3. Robust: X - median / (Q3 - Q1)"
   ]
  },
  {
   "cell_type": "code",
   "execution_count": 387,
   "id": "0182b753-21b3-4cc8-9132-1bac18b04a8d",
   "metadata": {},
   "outputs": [],
   "source": [
    "# plt.boxplot(data.Age)\n",
    "# plt.hist(data.Age)\n",
    "\n",
    "# np.percentile(data.Age, 50)"
   ]
  },
  {
   "cell_type": "code",
   "execution_count": 388,
   "id": "3e752227-48d8-4ffe-b319-44936191222c",
   "metadata": {
    "tags": []
   },
   "outputs": [],
   "source": [
    "# pd.cut(data.Age, [0, np.percentile(data.Age, 25), np.percentile(data.Age, 75), np.percentile(data.Age, 90), data.Age.max()])\n",
    "## percentile을 사용해서 Age를 그룹화\n",
    "\n",
    "newAge = np.where(data.Age > np.percentile(data.Age, 90), 0,\n",
    "                np.where(data.Age > np.percentile(data.Age, 75), 1,\n",
    "                        np.where(data.Age > np.percentile(data.Age, 25), 2,\n",
    "                                                         np.where(data.Age > np.percentile(data.Age, 10), 3, 4))))\n",
    "# ## clustering을 사용해서 Age를 그룹화\n",
    "# km = KMeans(4)\n",
    "# km.fit(data[['Age']])\n",
    "# ageCluster = km.labels_\n",
    "\n",
    "# ageClusterOh = np.zeros((ageCluster.size, np.unique(ageCluster).size))\n",
    "# for k,v in enumerate(ageCluster):\n",
    "#     ageClusterOh[k,v] = 1\n",
    "\n",
    "\n",
    "newAgeOh = np.zeros((newAge.size, np.unique(newAge).size))\n",
    "for k,v in enumerate(newAge):\n",
    "    newAgeOh[k,v] = 1\n",
    "    \n",
    "\n",
    "    \n",
    "newPclass = np.zeros((data.Pclass.size, data.Pclass.unique().size))\n",
    "for k, v in enumerate(data.Pclass):\n",
    "    newPclass[k, v-1] = 1\n",
    "    \n",
    "newSibSp = np.where(data.SibSp == 0, 0, 1)\n",
    "\n",
    "mmScaledFare = (data.Fare - data.Fare.min()) / (data.Fare.max() - data.Fare.min())\n",
    "\n",
    "newEmbarked = np.where(data.Embarked == data.Embarked.unique()[0],0,\n",
    "                        np.where(data.Embarked == data.Embarked.unique()[1],1,2))\n",
    "newEmbarkedOh = np.zeros((newEmbarked.size, np.unique(newEmbarked).size))\n",
    "for k,v in enumerate(newEmbarked):\n",
    "    newEmbarkedOh[k, v] = 1\n",
    "\n",
    "newSex = np.where(data.Sex == data.Sex.unique()[0],0,1)\n",
    "\n",
    "## 결혼 유무\n",
    "married = np.where((data.Name.str.contains('Mrs.')) | (data.Name.str.contains('Mr.') & (data.SibSp > 0)), 1, 0)\n",
    "\n",
    "newCol = np.c_[newPclass, newSibSp, mmScaledFare, newAgeOh, newEmbarkedOh, newSex, married]\n",
    "newData = pd.concat([pd.DataFrame(newCol), data], axis=1)\n",
    "newData.drop(['Age', 'Sex', 'Embarked', 'Fare', 'Pclass', 'Name'], axis=1, inplace=True)\n"
   ]
  },
  {
   "cell_type": "code",
   "execution_count": 390,
   "id": "eeaa709d-5140-46de-a3f1-e020bfa39d4f",
   "metadata": {},
   "outputs": [
    {
     "data": {
      "text/html": [
       "<div>\n",
       "<style scoped>\n",
       "    .dataframe tbody tr th:only-of-type {\n",
       "        vertical-align: middle;\n",
       "    }\n",
       "\n",
       "    .dataframe tbody tr th {\n",
       "        vertical-align: top;\n",
       "    }\n",
       "\n",
       "    .dataframe thead th {\n",
       "        text-align: right;\n",
       "    }\n",
       "</style>\n",
       "<table border=\"1\" class=\"dataframe\">\n",
       "  <thead>\n",
       "    <tr style=\"text-align: right;\">\n",
       "      <th></th>\n",
       "      <th>0</th>\n",
       "      <th>1</th>\n",
       "      <th>2</th>\n",
       "      <th>3</th>\n",
       "      <th>4</th>\n",
       "      <th>5</th>\n",
       "      <th>6</th>\n",
       "      <th>7</th>\n",
       "      <th>8</th>\n",
       "      <th>9</th>\n",
       "      <th>10</th>\n",
       "      <th>11</th>\n",
       "      <th>12</th>\n",
       "      <th>13</th>\n",
       "      <th>14</th>\n",
       "      <th>SibSp</th>\n",
       "      <th>Parch</th>\n",
       "      <th>Survived</th>\n",
       "    </tr>\n",
       "  </thead>\n",
       "  <tbody>\n",
       "    <tr>\n",
       "      <th>0</th>\n",
       "      <td>0.0</td>\n",
       "      <td>0.0</td>\n",
       "      <td>1.0</td>\n",
       "      <td>1.0</td>\n",
       "      <td>0.014151</td>\n",
       "      <td>0.0</td>\n",
       "      <td>0.0</td>\n",
       "      <td>0.0</td>\n",
       "      <td>1.0</td>\n",
       "      <td>0.0</td>\n",
       "      <td>1.0</td>\n",
       "      <td>0.0</td>\n",
       "      <td>0.0</td>\n",
       "      <td>0.0</td>\n",
       "      <td>1.0</td>\n",
       "      <td>1</td>\n",
       "      <td>0</td>\n",
       "      <td>0</td>\n",
       "    </tr>\n",
       "    <tr>\n",
       "      <th>1</th>\n",
       "      <td>1.0</td>\n",
       "      <td>0.0</td>\n",
       "      <td>0.0</td>\n",
       "      <td>1.0</td>\n",
       "      <td>0.139136</td>\n",
       "      <td>0.0</td>\n",
       "      <td>1.0</td>\n",
       "      <td>0.0</td>\n",
       "      <td>0.0</td>\n",
       "      <td>0.0</td>\n",
       "      <td>0.0</td>\n",
       "      <td>1.0</td>\n",
       "      <td>0.0</td>\n",
       "      <td>1.0</td>\n",
       "      <td>1.0</td>\n",
       "      <td>1</td>\n",
       "      <td>0</td>\n",
       "      <td>1</td>\n",
       "    </tr>\n",
       "    <tr>\n",
       "      <th>2</th>\n",
       "      <td>0.0</td>\n",
       "      <td>0.0</td>\n",
       "      <td>1.0</td>\n",
       "      <td>0.0</td>\n",
       "      <td>0.015469</td>\n",
       "      <td>0.0</td>\n",
       "      <td>0.0</td>\n",
       "      <td>1.0</td>\n",
       "      <td>0.0</td>\n",
       "      <td>0.0</td>\n",
       "      <td>1.0</td>\n",
       "      <td>0.0</td>\n",
       "      <td>0.0</td>\n",
       "      <td>1.0</td>\n",
       "      <td>0.0</td>\n",
       "      <td>0</td>\n",
       "      <td>0</td>\n",
       "      <td>1</td>\n",
       "    </tr>\n",
       "    <tr>\n",
       "      <th>3</th>\n",
       "      <td>1.0</td>\n",
       "      <td>0.0</td>\n",
       "      <td>0.0</td>\n",
       "      <td>1.0</td>\n",
       "      <td>0.103644</td>\n",
       "      <td>0.0</td>\n",
       "      <td>0.0</td>\n",
       "      <td>1.0</td>\n",
       "      <td>0.0</td>\n",
       "      <td>0.0</td>\n",
       "      <td>1.0</td>\n",
       "      <td>0.0</td>\n",
       "      <td>0.0</td>\n",
       "      <td>1.0</td>\n",
       "      <td>1.0</td>\n",
       "      <td>1</td>\n",
       "      <td>0</td>\n",
       "      <td>1</td>\n",
       "    </tr>\n",
       "    <tr>\n",
       "      <th>4</th>\n",
       "      <td>0.0</td>\n",
       "      <td>0.0</td>\n",
       "      <td>1.0</td>\n",
       "      <td>0.0</td>\n",
       "      <td>0.015713</td>\n",
       "      <td>0.0</td>\n",
       "      <td>0.0</td>\n",
       "      <td>1.0</td>\n",
       "      <td>0.0</td>\n",
       "      <td>0.0</td>\n",
       "      <td>1.0</td>\n",
       "      <td>0.0</td>\n",
       "      <td>0.0</td>\n",
       "      <td>0.0</td>\n",
       "      <td>0.0</td>\n",
       "      <td>0</td>\n",
       "      <td>0</td>\n",
       "      <td>0</td>\n",
       "    </tr>\n",
       "    <tr>\n",
       "      <th>...</th>\n",
       "      <td>...</td>\n",
       "      <td>...</td>\n",
       "      <td>...</td>\n",
       "      <td>...</td>\n",
       "      <td>...</td>\n",
       "      <td>...</td>\n",
       "      <td>...</td>\n",
       "      <td>...</td>\n",
       "      <td>...</td>\n",
       "      <td>...</td>\n",
       "      <td>...</td>\n",
       "      <td>...</td>\n",
       "      <td>...</td>\n",
       "      <td>...</td>\n",
       "      <td>...</td>\n",
       "      <td>...</td>\n",
       "      <td>...</td>\n",
       "      <td>...</td>\n",
       "    </tr>\n",
       "    <tr>\n",
       "      <th>884</th>\n",
       "      <td>0.0</td>\n",
       "      <td>1.0</td>\n",
       "      <td>0.0</td>\n",
       "      <td>0.0</td>\n",
       "      <td>0.025374</td>\n",
       "      <td>0.0</td>\n",
       "      <td>0.0</td>\n",
       "      <td>1.0</td>\n",
       "      <td>0.0</td>\n",
       "      <td>0.0</td>\n",
       "      <td>1.0</td>\n",
       "      <td>0.0</td>\n",
       "      <td>0.0</td>\n",
       "      <td>0.0</td>\n",
       "      <td>0.0</td>\n",
       "      <td>0</td>\n",
       "      <td>0</td>\n",
       "      <td>0</td>\n",
       "    </tr>\n",
       "    <tr>\n",
       "      <th>885</th>\n",
       "      <td>1.0</td>\n",
       "      <td>0.0</td>\n",
       "      <td>0.0</td>\n",
       "      <td>0.0</td>\n",
       "      <td>0.058556</td>\n",
       "      <td>0.0</td>\n",
       "      <td>0.0</td>\n",
       "      <td>0.0</td>\n",
       "      <td>1.0</td>\n",
       "      <td>0.0</td>\n",
       "      <td>1.0</td>\n",
       "      <td>0.0</td>\n",
       "      <td>0.0</td>\n",
       "      <td>1.0</td>\n",
       "      <td>0.0</td>\n",
       "      <td>0</td>\n",
       "      <td>0</td>\n",
       "      <td>1</td>\n",
       "    </tr>\n",
       "    <tr>\n",
       "      <th>886</th>\n",
       "      <td>0.0</td>\n",
       "      <td>0.0</td>\n",
       "      <td>1.0</td>\n",
       "      <td>1.0</td>\n",
       "      <td>0.045771</td>\n",
       "      <td>0.0</td>\n",
       "      <td>0.0</td>\n",
       "      <td>1.0</td>\n",
       "      <td>0.0</td>\n",
       "      <td>0.0</td>\n",
       "      <td>1.0</td>\n",
       "      <td>0.0</td>\n",
       "      <td>0.0</td>\n",
       "      <td>1.0</td>\n",
       "      <td>0.0</td>\n",
       "      <td>1</td>\n",
       "      <td>2</td>\n",
       "      <td>0</td>\n",
       "    </tr>\n",
       "    <tr>\n",
       "      <th>887</th>\n",
       "      <td>1.0</td>\n",
       "      <td>0.0</td>\n",
       "      <td>0.0</td>\n",
       "      <td>0.0</td>\n",
       "      <td>0.058556</td>\n",
       "      <td>0.0</td>\n",
       "      <td>0.0</td>\n",
       "      <td>1.0</td>\n",
       "      <td>0.0</td>\n",
       "      <td>0.0</td>\n",
       "      <td>0.0</td>\n",
       "      <td>1.0</td>\n",
       "      <td>0.0</td>\n",
       "      <td>0.0</td>\n",
       "      <td>0.0</td>\n",
       "      <td>0</td>\n",
       "      <td>0</td>\n",
       "      <td>1</td>\n",
       "    </tr>\n",
       "    <tr>\n",
       "      <th>888</th>\n",
       "      <td>0.0</td>\n",
       "      <td>0.0</td>\n",
       "      <td>1.0</td>\n",
       "      <td>0.0</td>\n",
       "      <td>0.015127</td>\n",
       "      <td>0.0</td>\n",
       "      <td>0.0</td>\n",
       "      <td>1.0</td>\n",
       "      <td>0.0</td>\n",
       "      <td>0.0</td>\n",
       "      <td>0.0</td>\n",
       "      <td>0.0</td>\n",
       "      <td>1.0</td>\n",
       "      <td>0.0</td>\n",
       "      <td>0.0</td>\n",
       "      <td>0</td>\n",
       "      <td>0</td>\n",
       "      <td>0</td>\n",
       "    </tr>\n",
       "  </tbody>\n",
       "</table>\n",
       "<p>889 rows × 18 columns</p>\n",
       "</div>"
      ],
      "text/plain": [
       "       0    1    2    3         4    5    6    7    8    9   10   11   12  \\\n",
       "0    0.0  0.0  1.0  1.0  0.014151  0.0  0.0  0.0  1.0  0.0  1.0  0.0  0.0   \n",
       "1    1.0  0.0  0.0  1.0  0.139136  0.0  1.0  0.0  0.0  0.0  0.0  1.0  0.0   \n",
       "2    0.0  0.0  1.0  0.0  0.015469  0.0  0.0  1.0  0.0  0.0  1.0  0.0  0.0   \n",
       "3    1.0  0.0  0.0  1.0  0.103644  0.0  0.0  1.0  0.0  0.0  1.0  0.0  0.0   \n",
       "4    0.0  0.0  1.0  0.0  0.015713  0.0  0.0  1.0  0.0  0.0  1.0  0.0  0.0   \n",
       "..   ...  ...  ...  ...       ...  ...  ...  ...  ...  ...  ...  ...  ...   \n",
       "884  0.0  1.0  0.0  0.0  0.025374  0.0  0.0  1.0  0.0  0.0  1.0  0.0  0.0   \n",
       "885  1.0  0.0  0.0  0.0  0.058556  0.0  0.0  0.0  1.0  0.0  1.0  0.0  0.0   \n",
       "886  0.0  0.0  1.0  1.0  0.045771  0.0  0.0  1.0  0.0  0.0  1.0  0.0  0.0   \n",
       "887  1.0  0.0  0.0  0.0  0.058556  0.0  0.0  1.0  0.0  0.0  0.0  1.0  0.0   \n",
       "888  0.0  0.0  1.0  0.0  0.015127  0.0  0.0  1.0  0.0  0.0  0.0  0.0  1.0   \n",
       "\n",
       "      13   14  SibSp  Parch  Survived  \n",
       "0    0.0  1.0      1      0         0  \n",
       "1    1.0  1.0      1      0         1  \n",
       "2    1.0  0.0      0      0         1  \n",
       "3    1.0  1.0      1      0         1  \n",
       "4    0.0  0.0      0      0         0  \n",
       "..   ...  ...    ...    ...       ...  \n",
       "884  0.0  0.0      0      0         0  \n",
       "885  1.0  0.0      0      0         1  \n",
       "886  1.0  0.0      1      2         0  \n",
       "887  0.0  0.0      0      0         1  \n",
       "888  0.0  0.0      0      0         0  \n",
       "\n",
       "[889 rows x 18 columns]"
      ]
     },
     "execution_count": 390,
     "metadata": {},
     "output_type": "execute_result"
    }
   ],
   "source": [
    "newData"
   ]
  },
  {
   "cell_type": "code",
   "execution_count": 299,
   "id": "322a421d-530d-4038-bb25-0a9da063c3d7",
   "metadata": {},
   "outputs": [],
   "source": [
    "X = newData.iloc[:,:-1]\n",
    "y = newData.iloc[:,-1]"
   ]
  },
  {
   "cell_type": "code",
   "execution_count": 419,
   "id": "26386d3f-3f15-4e7f-bc8d-f5992df0eef0",
   "metadata": {},
   "outputs": [],
   "source": [
    "## train test 분리\n",
    "# 8:2 (5000건 이상이면 7:3도 가능)\n",
    "\n",
    "new_index = np.random.choice(X.index, X.index.size, replace=False)"
   ]
  },
  {
   "cell_type": "code",
   "execution_count": 420,
   "id": "b45a9acb-f63b-4d8f-836f-3596b4403868",
   "metadata": {
    "tags": []
   },
   "outputs": [],
   "source": [
    "tr_idx = new_index[:int(new_index.size*0.8)]\n",
    "te_idx = new_index[int(new_index.size*0.8):]\n",
    "X_train = X.loc[tr_idx,:]\n",
    "X_test = X.loc[te_idx,:]\n",
    "y_train = y[tr_idx]\n",
    "y_test = y[te_idx]"
   ]
  },
  {
   "cell_type": "code",
   "execution_count": 391,
   "id": "d4f02400-4387-4f77-8d19-c510e3548dca",
   "metadata": {},
   "outputs": [],
   "source": [
    "logreg = LogisticRegression()\n",
    "rf_model = RandomForestClassifier()\n",
    "svm_model = SVC(probability=True)"
   ]
  },
  {
   "cell_type": "code",
   "execution_count": 392,
   "id": "dde898e7-5c0c-462f-b057-ff7d232c1881",
   "metadata": {},
   "outputs": [
    {
     "data": {
      "text/plain": [
       "0.8020504030978225"
      ]
     },
     "execution_count": 392,
     "metadata": {},
     "output_type": "execute_result"
    }
   ],
   "source": [
    "cross_val_score(logreg,X,y,cv=5).mean()"
   ]
  },
  {
   "cell_type": "code",
   "execution_count": 398,
   "id": "e0d90bed-4ad7-415b-ad86-3e30cef580ae",
   "metadata": {},
   "outputs": [
    {
     "data": {
      "text/plain": [
       "0.7953024820669079"
      ]
     },
     "execution_count": 398,
     "metadata": {},
     "output_type": "execute_result"
    }
   ],
   "source": [
    "cross_val_score(rf_model,X,y,cv=5).mean()"
   ]
  },
  {
   "cell_type": "code",
   "execution_count": 305,
   "id": "6f17802f-9a44-4072-9d42-b06cf0a826c1",
   "metadata": {},
   "outputs": [],
   "source": [
    "logreg = LogisticRegression()"
   ]
  },
  {
   "cell_type": "code",
   "execution_count": 395,
   "id": "6cc66bcb-f812-4f29-b627-ba9fa5ab610e",
   "metadata": {},
   "outputs": [
    {
     "data": {
      "text/plain": [
       "LogisticRegression()"
      ]
     },
     "execution_count": 395,
     "metadata": {},
     "output_type": "execute_result"
    }
   ],
   "source": [
    "logreg.fit(X,y)"
   ]
  },
  {
   "cell_type": "code",
   "execution_count": 399,
   "id": "ed7adfc3-ce2c-4207-97b8-b12365b82c88",
   "metadata": {},
   "outputs": [
    {
     "data": {
      "text/plain": [
       "RandomForestClassifier()"
      ]
     },
     "execution_count": 399,
     "metadata": {},
     "output_type": "execute_result"
    }
   ],
   "source": [
    "rf_model.fit(X,y)"
   ]
  },
  {
   "cell_type": "code",
   "execution_count": 308,
   "id": "5e14d8e3-88df-478e-b30b-33cb5a914a2a",
   "metadata": {},
   "outputs": [
    {
     "data": {
      "text/plain": [
       "SVC(probability=True)"
      ]
     },
     "execution_count": 308,
     "metadata": {},
     "output_type": "execute_result"
    }
   ],
   "source": [
    "svm_model.fit(X,y)"
   ]
  },
  {
   "cell_type": "code",
   "execution_count": 396,
   "id": "ea221d49-afca-4955-9d1a-7c867d919aa0",
   "metadata": {},
   "outputs": [
    {
     "data": {
      "text/plain": [
       "array([0.39075193, 0.60924807])"
      ]
     },
     "execution_count": 396,
     "metadata": {},
     "output_type": "execute_result"
    }
   ],
   "source": [
    "logreg.predict_proba(X)[2,:]\n",
    "# logreg.predict(X)[2]"
   ]
  },
  {
   "cell_type": "code",
   "execution_count": 397,
   "id": "5954ae78-8e25-4f50-9cdf-f0a812b71741",
   "metadata": {},
   "outputs": [
    {
     "data": {
      "text/plain": [
       "1"
      ]
     },
     "execution_count": 397,
     "metadata": {},
     "output_type": "execute_result"
    }
   ],
   "source": [
    "y[2]"
   ]
  },
  {
   "cell_type": "code",
   "execution_count": 400,
   "id": "52dd9f2e-9bf0-42ba-8a54-8b1567a13b1e",
   "metadata": {},
   "outputs": [
    {
     "data": {
      "text/plain": [
       "array([[0.08988095, 0.91011905]])"
      ]
     },
     "execution_count": 400,
     "metadata": {},
     "output_type": "execute_result"
    }
   ],
   "source": [
    "rf_model.predict_proba(X.loc[[2],:])"
   ]
  },
  {
   "cell_type": "code",
   "execution_count": 401,
   "id": "4ef8333b-e69b-426d-96b7-e3481165a65b",
   "metadata": {},
   "outputs": [
    {
     "data": {
      "text/plain": [
       "array([0.08988095, 0.91011905])"
      ]
     },
     "execution_count": 401,
     "metadata": {},
     "output_type": "execute_result"
    }
   ],
   "source": [
    "rf_model.predict_proba(X)[2,:]"
   ]
  },
  {
   "cell_type": "code",
   "execution_count": 311,
   "id": "9117010c-0b14-47e8-8e38-b7dca7a455ba",
   "metadata": {},
   "outputs": [
    {
     "data": {
      "text/plain": [
       "array([[0.39075193, 0.60924807]])"
      ]
     },
     "execution_count": 311,
     "metadata": {},
     "output_type": "execute_result"
    }
   ],
   "source": [
    "logreg.predict_proba(X.loc[[2],:])"
   ]
  },
  {
   "cell_type": "code",
   "execution_count": 312,
   "id": "b69395ea-29aa-42bf-a541-35cf5112d599",
   "metadata": {},
   "outputs": [
    {
     "data": {
      "text/plain": [
       "array([[0.68342208, 0.31657792]])"
      ]
     },
     "execution_count": 312,
     "metadata": {},
     "output_type": "execute_result"
    }
   ],
   "source": [
    "svm_model.predict_proba(X.loc[[2],:])"
   ]
  },
  {
   "cell_type": "code",
   "execution_count": 313,
   "id": "8da58e4f-cd04-4d6b-865a-846cd72fc19d",
   "metadata": {},
   "outputs": [],
   "source": [
    "## 나이와 성별"
   ]
  },
  {
   "cell_type": "code",
   "execution_count": 314,
   "id": "ef7bf454-fcf1-4ece-a965-d351d9f25e24",
   "metadata": {},
   "outputs": [
    {
     "data": {
      "text/plain": [
       "array([1, 1, 1, 1, 0, 0, 1, 1, 1, 1, 0, 0, 0, 0, 0, 1, 0, 1, 1, 0, 1, 1,\n",
       "       1, 1, 0, 0, 0, 0, 1, 1, 1, 0, 1, 1, 1, 1, 1])"
      ]
     },
     "execution_count": 314,
     "metadata": {},
     "output_type": "execute_result"
    }
   ],
   "source": [
    "logreg.predict(X)[np.abs(logreg.predict_proba(X)[:,0] - logreg.predict_proba(X)[:,1]) <= 0.1]"
   ]
  },
  {
   "cell_type": "code",
   "execution_count": 315,
   "id": "5814a47f-607d-4e0f-8c09-8d96c87d7d3e",
   "metadata": {},
   "outputs": [
    {
     "data": {
      "text/plain": [
       "0.2660285245361509"
      ]
     },
     "execution_count": 315,
     "metadata": {},
     "output_type": "execute_result"
    }
   ],
   "source": [
    "rf_model.feature_importances_[np.argmax(rf_model.feature_importances_)]"
   ]
  },
  {
   "cell_type": "code",
   "execution_count": 316,
   "id": "3db8ae1d-8677-4e99-a341-10903d046c6e",
   "metadata": {},
   "outputs": [
    {
     "data": {
      "text/html": [
       "<div>\n",
       "<style scoped>\n",
       "    .dataframe tbody tr th:only-of-type {\n",
       "        vertical-align: middle;\n",
       "    }\n",
       "\n",
       "    .dataframe tbody tr th {\n",
       "        vertical-align: top;\n",
       "    }\n",
       "\n",
       "    .dataframe thead th {\n",
       "        text-align: right;\n",
       "    }\n",
       "</style>\n",
       "<table border=\"1\" class=\"dataframe\">\n",
       "  <thead>\n",
       "    <tr style=\"text-align: right;\">\n",
       "      <th></th>\n",
       "      <th>0</th>\n",
       "      <th>1</th>\n",
       "      <th>2</th>\n",
       "      <th>3</th>\n",
       "      <th>4</th>\n",
       "      <th>5</th>\n",
       "      <th>6</th>\n",
       "      <th>7</th>\n",
       "      <th>8</th>\n",
       "      <th>9</th>\n",
       "      <th>...</th>\n",
       "      <th>11</th>\n",
       "      <th>12</th>\n",
       "      <th>13</th>\n",
       "      <th>14</th>\n",
       "      <th>15</th>\n",
       "      <th>16</th>\n",
       "      <th>17</th>\n",
       "      <th>SibSp</th>\n",
       "      <th>Parch</th>\n",
       "      <th>Fare</th>\n",
       "    </tr>\n",
       "  </thead>\n",
       "  <tbody>\n",
       "    <tr>\n",
       "      <th>0</th>\n",
       "      <td>0.0</td>\n",
       "      <td>0.0</td>\n",
       "      <td>1.0</td>\n",
       "      <td>1.0</td>\n",
       "      <td>0.014151</td>\n",
       "      <td>0.0</td>\n",
       "      <td>0.0</td>\n",
       "      <td>0.0</td>\n",
       "      <td>1.0</td>\n",
       "      <td>0.0</td>\n",
       "      <td>...</td>\n",
       "      <td>0.0</td>\n",
       "      <td>0.0</td>\n",
       "      <td>0.0</td>\n",
       "      <td>1.0</td>\n",
       "      <td>0.0</td>\n",
       "      <td>0.0</td>\n",
       "      <td>0.0</td>\n",
       "      <td>1</td>\n",
       "      <td>0</td>\n",
       "      <td>7.2500</td>\n",
       "    </tr>\n",
       "    <tr>\n",
       "      <th>1</th>\n",
       "      <td>1.0</td>\n",
       "      <td>0.0</td>\n",
       "      <td>0.0</td>\n",
       "      <td>1.0</td>\n",
       "      <td>0.139136</td>\n",
       "      <td>0.0</td>\n",
       "      <td>1.0</td>\n",
       "      <td>0.0</td>\n",
       "      <td>0.0</td>\n",
       "      <td>0.0</td>\n",
       "      <td>...</td>\n",
       "      <td>0.0</td>\n",
       "      <td>1.0</td>\n",
       "      <td>0.0</td>\n",
       "      <td>0.0</td>\n",
       "      <td>1.0</td>\n",
       "      <td>0.0</td>\n",
       "      <td>1.0</td>\n",
       "      <td>1</td>\n",
       "      <td>0</td>\n",
       "      <td>71.2833</td>\n",
       "    </tr>\n",
       "    <tr>\n",
       "      <th>2</th>\n",
       "      <td>0.0</td>\n",
       "      <td>0.0</td>\n",
       "      <td>1.0</td>\n",
       "      <td>0.0</td>\n",
       "      <td>0.015469</td>\n",
       "      <td>0.0</td>\n",
       "      <td>0.0</td>\n",
       "      <td>1.0</td>\n",
       "      <td>0.0</td>\n",
       "      <td>0.0</td>\n",
       "      <td>...</td>\n",
       "      <td>0.0</td>\n",
       "      <td>1.0</td>\n",
       "      <td>0.0</td>\n",
       "      <td>1.0</td>\n",
       "      <td>0.0</td>\n",
       "      <td>0.0</td>\n",
       "      <td>1.0</td>\n",
       "      <td>0</td>\n",
       "      <td>0</td>\n",
       "      <td>7.9250</td>\n",
       "    </tr>\n",
       "    <tr>\n",
       "      <th>3</th>\n",
       "      <td>1.0</td>\n",
       "      <td>0.0</td>\n",
       "      <td>0.0</td>\n",
       "      <td>1.0</td>\n",
       "      <td>0.103644</td>\n",
       "      <td>0.0</td>\n",
       "      <td>0.0</td>\n",
       "      <td>1.0</td>\n",
       "      <td>0.0</td>\n",
       "      <td>0.0</td>\n",
       "      <td>...</td>\n",
       "      <td>0.0</td>\n",
       "      <td>1.0</td>\n",
       "      <td>0.0</td>\n",
       "      <td>1.0</td>\n",
       "      <td>0.0</td>\n",
       "      <td>0.0</td>\n",
       "      <td>1.0</td>\n",
       "      <td>1</td>\n",
       "      <td>0</td>\n",
       "      <td>53.1000</td>\n",
       "    </tr>\n",
       "    <tr>\n",
       "      <th>4</th>\n",
       "      <td>0.0</td>\n",
       "      <td>0.0</td>\n",
       "      <td>1.0</td>\n",
       "      <td>0.0</td>\n",
       "      <td>0.015713</td>\n",
       "      <td>0.0</td>\n",
       "      <td>0.0</td>\n",
       "      <td>1.0</td>\n",
       "      <td>0.0</td>\n",
       "      <td>0.0</td>\n",
       "      <td>...</td>\n",
       "      <td>0.0</td>\n",
       "      <td>1.0</td>\n",
       "      <td>0.0</td>\n",
       "      <td>1.0</td>\n",
       "      <td>0.0</td>\n",
       "      <td>0.0</td>\n",
       "      <td>0.0</td>\n",
       "      <td>0</td>\n",
       "      <td>0</td>\n",
       "      <td>8.0500</td>\n",
       "    </tr>\n",
       "    <tr>\n",
       "      <th>...</th>\n",
       "      <td>...</td>\n",
       "      <td>...</td>\n",
       "      <td>...</td>\n",
       "      <td>...</td>\n",
       "      <td>...</td>\n",
       "      <td>...</td>\n",
       "      <td>...</td>\n",
       "      <td>...</td>\n",
       "      <td>...</td>\n",
       "      <td>...</td>\n",
       "      <td>...</td>\n",
       "      <td>...</td>\n",
       "      <td>...</td>\n",
       "      <td>...</td>\n",
       "      <td>...</td>\n",
       "      <td>...</td>\n",
       "      <td>...</td>\n",
       "      <td>...</td>\n",
       "      <td>...</td>\n",
       "      <td>...</td>\n",
       "      <td>...</td>\n",
       "    </tr>\n",
       "    <tr>\n",
       "      <th>884</th>\n",
       "      <td>0.0</td>\n",
       "      <td>1.0</td>\n",
       "      <td>0.0</td>\n",
       "      <td>0.0</td>\n",
       "      <td>0.025374</td>\n",
       "      <td>0.0</td>\n",
       "      <td>0.0</td>\n",
       "      <td>1.0</td>\n",
       "      <td>0.0</td>\n",
       "      <td>0.0</td>\n",
       "      <td>...</td>\n",
       "      <td>0.0</td>\n",
       "      <td>1.0</td>\n",
       "      <td>0.0</td>\n",
       "      <td>1.0</td>\n",
       "      <td>0.0</td>\n",
       "      <td>0.0</td>\n",
       "      <td>0.0</td>\n",
       "      <td>0</td>\n",
       "      <td>0</td>\n",
       "      <td>13.0000</td>\n",
       "    </tr>\n",
       "    <tr>\n",
       "      <th>885</th>\n",
       "      <td>1.0</td>\n",
       "      <td>0.0</td>\n",
       "      <td>0.0</td>\n",
       "      <td>0.0</td>\n",
       "      <td>0.058556</td>\n",
       "      <td>0.0</td>\n",
       "      <td>0.0</td>\n",
       "      <td>0.0</td>\n",
       "      <td>1.0</td>\n",
       "      <td>0.0</td>\n",
       "      <td>...</td>\n",
       "      <td>0.0</td>\n",
       "      <td>0.0</td>\n",
       "      <td>0.0</td>\n",
       "      <td>1.0</td>\n",
       "      <td>0.0</td>\n",
       "      <td>0.0</td>\n",
       "      <td>1.0</td>\n",
       "      <td>0</td>\n",
       "      <td>0</td>\n",
       "      <td>30.0000</td>\n",
       "    </tr>\n",
       "    <tr>\n",
       "      <th>886</th>\n",
       "      <td>0.0</td>\n",
       "      <td>0.0</td>\n",
       "      <td>1.0</td>\n",
       "      <td>1.0</td>\n",
       "      <td>0.045771</td>\n",
       "      <td>0.0</td>\n",
       "      <td>0.0</td>\n",
       "      <td>1.0</td>\n",
       "      <td>0.0</td>\n",
       "      <td>0.0</td>\n",
       "      <td>...</td>\n",
       "      <td>0.0</td>\n",
       "      <td>1.0</td>\n",
       "      <td>0.0</td>\n",
       "      <td>1.0</td>\n",
       "      <td>0.0</td>\n",
       "      <td>0.0</td>\n",
       "      <td>1.0</td>\n",
       "      <td>1</td>\n",
       "      <td>2</td>\n",
       "      <td>23.4500</td>\n",
       "    </tr>\n",
       "    <tr>\n",
       "      <th>887</th>\n",
       "      <td>1.0</td>\n",
       "      <td>0.0</td>\n",
       "      <td>0.0</td>\n",
       "      <td>0.0</td>\n",
       "      <td>0.058556</td>\n",
       "      <td>0.0</td>\n",
       "      <td>0.0</td>\n",
       "      <td>1.0</td>\n",
       "      <td>0.0</td>\n",
       "      <td>0.0</td>\n",
       "      <td>...</td>\n",
       "      <td>0.0</td>\n",
       "      <td>1.0</td>\n",
       "      <td>0.0</td>\n",
       "      <td>0.0</td>\n",
       "      <td>1.0</td>\n",
       "      <td>0.0</td>\n",
       "      <td>0.0</td>\n",
       "      <td>0</td>\n",
       "      <td>0</td>\n",
       "      <td>30.0000</td>\n",
       "    </tr>\n",
       "    <tr>\n",
       "      <th>888</th>\n",
       "      <td>0.0</td>\n",
       "      <td>0.0</td>\n",
       "      <td>1.0</td>\n",
       "      <td>0.0</td>\n",
       "      <td>0.015127</td>\n",
       "      <td>0.0</td>\n",
       "      <td>0.0</td>\n",
       "      <td>1.0</td>\n",
       "      <td>0.0</td>\n",
       "      <td>0.0</td>\n",
       "      <td>...</td>\n",
       "      <td>0.0</td>\n",
       "      <td>1.0</td>\n",
       "      <td>0.0</td>\n",
       "      <td>0.0</td>\n",
       "      <td>0.0</td>\n",
       "      <td>1.0</td>\n",
       "      <td>0.0</td>\n",
       "      <td>0</td>\n",
       "      <td>0</td>\n",
       "      <td>7.7500</td>\n",
       "    </tr>\n",
       "  </tbody>\n",
       "</table>\n",
       "<p>889 rows × 21 columns</p>\n",
       "</div>"
      ],
      "text/plain": [
       "       0    1    2    3         4    5    6    7    8    9  ...   11   12  \\\n",
       "0    0.0  0.0  1.0  1.0  0.014151  0.0  0.0  0.0  1.0  0.0  ...  0.0  0.0   \n",
       "1    1.0  0.0  0.0  1.0  0.139136  0.0  1.0  0.0  0.0  0.0  ...  0.0  1.0   \n",
       "2    0.0  0.0  1.0  0.0  0.015469  0.0  0.0  1.0  0.0  0.0  ...  0.0  1.0   \n",
       "3    1.0  0.0  0.0  1.0  0.103644  0.0  0.0  1.0  0.0  0.0  ...  0.0  1.0   \n",
       "4    0.0  0.0  1.0  0.0  0.015713  0.0  0.0  1.0  0.0  0.0  ...  0.0  1.0   \n",
       "..   ...  ...  ...  ...       ...  ...  ...  ...  ...  ...  ...  ...  ...   \n",
       "884  0.0  1.0  0.0  0.0  0.025374  0.0  0.0  1.0  0.0  0.0  ...  0.0  1.0   \n",
       "885  1.0  0.0  0.0  0.0  0.058556  0.0  0.0  0.0  1.0  0.0  ...  0.0  0.0   \n",
       "886  0.0  0.0  1.0  1.0  0.045771  0.0  0.0  1.0  0.0  0.0  ...  0.0  1.0   \n",
       "887  1.0  0.0  0.0  0.0  0.058556  0.0  0.0  1.0  0.0  0.0  ...  0.0  1.0   \n",
       "888  0.0  0.0  1.0  0.0  0.015127  0.0  0.0  1.0  0.0  0.0  ...  0.0  1.0   \n",
       "\n",
       "      13   14   15   16   17  SibSp  Parch     Fare  \n",
       "0    0.0  1.0  0.0  0.0  0.0      1      0   7.2500  \n",
       "1    0.0  0.0  1.0  0.0  1.0      1      0  71.2833  \n",
       "2    0.0  1.0  0.0  0.0  1.0      0      0   7.9250  \n",
       "3    0.0  1.0  0.0  0.0  1.0      1      0  53.1000  \n",
       "4    0.0  1.0  0.0  0.0  0.0      0      0   8.0500  \n",
       "..   ...  ...  ...  ...  ...    ...    ...      ...  \n",
       "884  0.0  1.0  0.0  0.0  0.0      0      0  13.0000  \n",
       "885  0.0  1.0  0.0  0.0  1.0      0      0  30.0000  \n",
       "886  0.0  1.0  0.0  0.0  1.0      1      2  23.4500  \n",
       "887  0.0  0.0  1.0  0.0  0.0      0      0  30.0000  \n",
       "888  0.0  0.0  0.0  1.0  0.0      0      0   7.7500  \n",
       "\n",
       "[889 rows x 21 columns]"
      ]
     },
     "execution_count": 316,
     "metadata": {},
     "output_type": "execute_result"
    }
   ],
   "source": [
    "X"
   ]
  },
  {
   "cell_type": "code",
   "execution_count": 317,
   "id": "e5a0cc1d-1cfd-4ace-8612-59de8451a243",
   "metadata": {
    "tags": []
   },
   "outputs": [
    {
     "data": {
      "text/plain": [
       "0.8033707865168539"
      ]
     },
     "execution_count": 317,
     "metadata": {},
     "output_type": "execute_result"
    }
   ],
   "source": [
    "## Accuracy로 평가\n",
    "## 예측값과 실제값의 차이 두 값이 같은가(1) 다른가(0)\n",
    "y_hat = logreg.predict(X_test) # 예측값\n",
    "y #실제값\n",
    "\n",
    "sum(y_hat == y_test)/len(y_test)"
   ]
  },
  {
   "cell_type": "code",
   "execution_count": 321,
   "id": "576fed90-c960-445b-b952-cd64bbd7a39a",
   "metadata": {},
   "outputs": [],
   "source": [
    "## Fare 기준으로\n",
    "## 아이, 0인 것 제외\n",
    "## 상관성 0,1\n",
    "## 선형회귀 사용\n"
   ]
  },
  {
   "cell_type": "code",
   "execution_count": 323,
   "id": "3bdd740f-603d-4a53-9cda-6bd0a25ed98a",
   "metadata": {},
   "outputs": [],
   "source": [
    "new_df = df.loc[df.Fare > 0, ['Fare', 'Survived']]"
   ]
  },
  {
   "cell_type": "code",
   "execution_count": 327,
   "id": "b39230cc-b9a7-4305-85b2-566e9b08ef91",
   "metadata": {},
   "outputs": [],
   "source": [
    "lm = LinearRegression()"
   ]
  },
  {
   "cell_type": "code",
   "execution_count": 330,
   "id": "e58d4771-4e45-49b0-87d6-5efe7bc14796",
   "metadata": {},
   "outputs": [
    {
     "data": {
      "text/plain": [
       "LinearRegression()"
      ]
     },
     "execution_count": 330,
     "metadata": {},
     "output_type": "execute_result"
    }
   ],
   "source": [
    "lm.fit(new_df[['Fare']], new_df.Survived)"
   ]
  },
  {
   "cell_type": "code",
   "execution_count": 337,
   "id": "d650d59d-ab51-4b64-a69b-a825b1119a83",
   "metadata": {},
   "outputs": [
    {
     "data": {
      "text/plain": [
       "0.6655251141552512"
      ]
     },
     "execution_count": 337,
     "metadata": {},
     "output_type": "execute_result"
    }
   ],
   "source": [
    "sum(np.where(lm.predict(new_df[['Fare']]) >= 0.5, 1, 0) == new_df.Survived) / new_df.Survived.size"
   ]
  },
  {
   "cell_type": "code",
   "execution_count": 341,
   "id": "f5d78e47-c0d9-4b07-a0a2-8e96f0d9f5ef",
   "metadata": {},
   "outputs": [
    {
     "data": {
      "text/html": [
       "<div>\n",
       "<style scoped>\n",
       "    .dataframe tbody tr th:only-of-type {\n",
       "        vertical-align: middle;\n",
       "    }\n",
       "\n",
       "    .dataframe tbody tr th {\n",
       "        vertical-align: top;\n",
       "    }\n",
       "\n",
       "    .dataframe thead th {\n",
       "        text-align: right;\n",
       "    }\n",
       "</style>\n",
       "<table border=\"1\" class=\"dataframe\">\n",
       "  <thead>\n",
       "    <tr style=\"text-align: right;\">\n",
       "      <th></th>\n",
       "      <th>PassengerId</th>\n",
       "      <th>Survived</th>\n",
       "      <th>Pclass</th>\n",
       "      <th>Name</th>\n",
       "      <th>Sex</th>\n",
       "      <th>Age</th>\n",
       "      <th>SibSp</th>\n",
       "      <th>Parch</th>\n",
       "      <th>Ticket</th>\n",
       "      <th>Fare</th>\n",
       "      <th>Cabin</th>\n",
       "      <th>Embarked</th>\n",
       "    </tr>\n",
       "  </thead>\n",
       "  <tbody>\n",
       "    <tr>\n",
       "      <th>1</th>\n",
       "      <td>2</td>\n",
       "      <td>1</td>\n",
       "      <td>1</td>\n",
       "      <td>Cumings, Mrs. John Bradley (Florence Briggs Th...</td>\n",
       "      <td>female</td>\n",
       "      <td>38.0</td>\n",
       "      <td>1</td>\n",
       "      <td>0</td>\n",
       "      <td>PC 17599</td>\n",
       "      <td>71.2833</td>\n",
       "      <td>C85</td>\n",
       "      <td>C</td>\n",
       "    </tr>\n",
       "    <tr>\n",
       "      <th>3</th>\n",
       "      <td>4</td>\n",
       "      <td>1</td>\n",
       "      <td>1</td>\n",
       "      <td>Futrelle, Mrs. Jacques Heath (Lily May Peel)</td>\n",
       "      <td>female</td>\n",
       "      <td>35.0</td>\n",
       "      <td>1</td>\n",
       "      <td>0</td>\n",
       "      <td>113803</td>\n",
       "      <td>53.1000</td>\n",
       "      <td>C123</td>\n",
       "      <td>S</td>\n",
       "    </tr>\n",
       "    <tr>\n",
       "      <th>8</th>\n",
       "      <td>9</td>\n",
       "      <td>1</td>\n",
       "      <td>3</td>\n",
       "      <td>Johnson, Mrs. Oscar W (Elisabeth Vilhelmina Berg)</td>\n",
       "      <td>female</td>\n",
       "      <td>27.0</td>\n",
       "      <td>0</td>\n",
       "      <td>2</td>\n",
       "      <td>347742</td>\n",
       "      <td>11.1333</td>\n",
       "      <td>NaN</td>\n",
       "      <td>S</td>\n",
       "    </tr>\n",
       "    <tr>\n",
       "      <th>9</th>\n",
       "      <td>10</td>\n",
       "      <td>1</td>\n",
       "      <td>2</td>\n",
       "      <td>Nasser, Mrs. Nicholas (Adele Achem)</td>\n",
       "      <td>female</td>\n",
       "      <td>14.0</td>\n",
       "      <td>1</td>\n",
       "      <td>0</td>\n",
       "      <td>237736</td>\n",
       "      <td>30.0708</td>\n",
       "      <td>NaN</td>\n",
       "      <td>C</td>\n",
       "    </tr>\n",
       "    <tr>\n",
       "      <th>15</th>\n",
       "      <td>16</td>\n",
       "      <td>1</td>\n",
       "      <td>2</td>\n",
       "      <td>Hewlett, Mrs. (Mary D Kingcome)</td>\n",
       "      <td>female</td>\n",
       "      <td>55.0</td>\n",
       "      <td>0</td>\n",
       "      <td>0</td>\n",
       "      <td>248706</td>\n",
       "      <td>16.0000</td>\n",
       "      <td>NaN</td>\n",
       "      <td>S</td>\n",
       "    </tr>\n",
       "    <tr>\n",
       "      <th>...</th>\n",
       "      <td>...</td>\n",
       "      <td>...</td>\n",
       "      <td>...</td>\n",
       "      <td>...</td>\n",
       "      <td>...</td>\n",
       "      <td>...</td>\n",
       "      <td>...</td>\n",
       "      <td>...</td>\n",
       "      <td>...</td>\n",
       "      <td>...</td>\n",
       "      <td>...</td>\n",
       "      <td>...</td>\n",
       "    </tr>\n",
       "    <tr>\n",
       "      <th>871</th>\n",
       "      <td>872</td>\n",
       "      <td>1</td>\n",
       "      <td>1</td>\n",
       "      <td>Beckwith, Mrs. Richard Leonard (Sallie Monypeny)</td>\n",
       "      <td>female</td>\n",
       "      <td>47.0</td>\n",
       "      <td>1</td>\n",
       "      <td>1</td>\n",
       "      <td>11751</td>\n",
       "      <td>52.5542</td>\n",
       "      <td>D35</td>\n",
       "      <td>S</td>\n",
       "    </tr>\n",
       "    <tr>\n",
       "      <th>874</th>\n",
       "      <td>875</td>\n",
       "      <td>1</td>\n",
       "      <td>2</td>\n",
       "      <td>Abelson, Mrs. Samuel (Hannah Wizosky)</td>\n",
       "      <td>female</td>\n",
       "      <td>28.0</td>\n",
       "      <td>1</td>\n",
       "      <td>0</td>\n",
       "      <td>P/PP 3381</td>\n",
       "      <td>24.0000</td>\n",
       "      <td>NaN</td>\n",
       "      <td>C</td>\n",
       "    </tr>\n",
       "    <tr>\n",
       "      <th>879</th>\n",
       "      <td>880</td>\n",
       "      <td>1</td>\n",
       "      <td>1</td>\n",
       "      <td>Potter, Mrs. Thomas Jr (Lily Alexenia Wilson)</td>\n",
       "      <td>female</td>\n",
       "      <td>56.0</td>\n",
       "      <td>0</td>\n",
       "      <td>1</td>\n",
       "      <td>11767</td>\n",
       "      <td>83.1583</td>\n",
       "      <td>C50</td>\n",
       "      <td>C</td>\n",
       "    </tr>\n",
       "    <tr>\n",
       "      <th>880</th>\n",
       "      <td>881</td>\n",
       "      <td>1</td>\n",
       "      <td>2</td>\n",
       "      <td>Shelley, Mrs. William (Imanita Parrish Hall)</td>\n",
       "      <td>female</td>\n",
       "      <td>25.0</td>\n",
       "      <td>0</td>\n",
       "      <td>1</td>\n",
       "      <td>230433</td>\n",
       "      <td>26.0000</td>\n",
       "      <td>NaN</td>\n",
       "      <td>S</td>\n",
       "    </tr>\n",
       "    <tr>\n",
       "      <th>885</th>\n",
       "      <td>886</td>\n",
       "      <td>0</td>\n",
       "      <td>3</td>\n",
       "      <td>Rice, Mrs. William (Margaret Norton)</td>\n",
       "      <td>female</td>\n",
       "      <td>39.0</td>\n",
       "      <td>0</td>\n",
       "      <td>5</td>\n",
       "      <td>382652</td>\n",
       "      <td>29.1250</td>\n",
       "      <td>NaN</td>\n",
       "      <td>Q</td>\n",
       "    </tr>\n",
       "  </tbody>\n",
       "</table>\n",
       "<p>129 rows × 12 columns</p>\n",
       "</div>"
      ],
      "text/plain": [
       "     PassengerId  Survived  Pclass  \\\n",
       "1              2         1       1   \n",
       "3              4         1       1   \n",
       "8              9         1       3   \n",
       "9             10         1       2   \n",
       "15            16         1       2   \n",
       "..           ...       ...     ...   \n",
       "871          872         1       1   \n",
       "874          875         1       2   \n",
       "879          880         1       1   \n",
       "880          881         1       2   \n",
       "885          886         0       3   \n",
       "\n",
       "                                                  Name     Sex   Age  SibSp  \\\n",
       "1    Cumings, Mrs. John Bradley (Florence Briggs Th...  female  38.0      1   \n",
       "3         Futrelle, Mrs. Jacques Heath (Lily May Peel)  female  35.0      1   \n",
       "8    Johnson, Mrs. Oscar W (Elisabeth Vilhelmina Berg)  female  27.0      0   \n",
       "9                  Nasser, Mrs. Nicholas (Adele Achem)  female  14.0      1   \n",
       "15                    Hewlett, Mrs. (Mary D Kingcome)   female  55.0      0   \n",
       "..                                                 ...     ...   ...    ...   \n",
       "871   Beckwith, Mrs. Richard Leonard (Sallie Monypeny)  female  47.0      1   \n",
       "874              Abelson, Mrs. Samuel (Hannah Wizosky)  female  28.0      1   \n",
       "879      Potter, Mrs. Thomas Jr (Lily Alexenia Wilson)  female  56.0      0   \n",
       "880       Shelley, Mrs. William (Imanita Parrish Hall)  female  25.0      0   \n",
       "885               Rice, Mrs. William (Margaret Norton)  female  39.0      0   \n",
       "\n",
       "     Parch     Ticket     Fare Cabin Embarked  \n",
       "1        0   PC 17599  71.2833   C85        C  \n",
       "3        0     113803  53.1000  C123        S  \n",
       "8        2     347742  11.1333   NaN        S  \n",
       "9        0     237736  30.0708   NaN        C  \n",
       "15       0     248706  16.0000   NaN        S  \n",
       "..     ...        ...      ...   ...      ...  \n",
       "871      1      11751  52.5542   D35        S  \n",
       "874      0  P/PP 3381  24.0000   NaN        C  \n",
       "879      1      11767  83.1583   C50        C  \n",
       "880      1     230433  26.0000   NaN        S  \n",
       "885      5     382652  29.1250   NaN        Q  \n",
       "\n",
       "[129 rows x 12 columns]"
      ]
     },
     "execution_count": 341,
     "metadata": {},
     "output_type": "execute_result"
    }
   ],
   "source": [
    "df[df.Name.str.contains('Mrs')]"
   ]
  },
  {
   "cell_type": "code",
   "execution_count": 367,
   "id": "fa113407-06d9-4a67-aa5a-522710128bdf",
   "metadata": {},
   "outputs": [],
   "source": [
    "for i in range(len(df.Name)):\n",
    "    x = np.array(df.Name.str.split(' ')[i])[np.where(np.array(df.Name.str.split(' ')[i]) == 'Mr.')[0]+1]"
   ]
  },
  {
   "cell_type": "code",
   "execution_count": 432,
   "id": "7136ea44-bbb9-40e1-8083-699e156e28b8",
   "metadata": {},
   "outputs": [],
   "source": [
    "rf_model = RandomForestClassifier()\n",
    "svm_model = SVC(probability=True)\n",
    "lr_model = LogisticRegression()"
   ]
  },
  {
   "cell_type": "code",
   "execution_count": 433,
   "id": "875f80c8-9212-40ca-b176-5ddebf478ef4",
   "metadata": {
    "tags": []
   },
   "outputs": [
    {
     "data": {
      "text/plain": [
       "LogisticRegression()"
      ]
     },
     "execution_count": 433,
     "metadata": {},
     "output_type": "execute_result"
    }
   ],
   "source": [
    "rf_model.fit(X,y)\n",
    "svm_model.fit(X,y)\n",
    "lr_model.fit(X,y)"
   ]
  },
  {
   "cell_type": "code",
   "execution_count": 437,
   "id": "8f62ad65-3268-4da6-a5ec-73716eac2e8b",
   "metadata": {},
   "outputs": [],
   "source": [
    "rf_pr = rf_model.predict(X)\n",
    "svm_pr = svm_model.predict(X)\n",
    "lr_pr = lr_model.predict(X)"
   ]
  },
  {
   "cell_type": "code",
   "execution_count": 438,
   "id": "3c922f6e-a361-40f1-8ad1-b2ebb0d93090",
   "metadata": {},
   "outputs": [],
   "source": [
    "rf_prb = rf_model.predict_proba(X)\n",
    "svm_prb = svm_model.predict_proba(X)\n",
    "lr_prb = lr_model.predict_proba(X)"
   ]
  },
  {
   "cell_type": "code",
   "execution_count": 441,
   "id": "288a3193-108c-4cf9-8be4-6742df3c2eb4",
   "metadata": {},
   "outputs": [],
   "source": [
    "soft_vote_result = (rf_prb + svm_prb + lr_prb)/3\n",
    "soft_vote = np.array((soft_vote_result[:,0] < soft_vote_result[:,1]), dtype='int')"
   ]
  },
  {
   "cell_type": "code",
   "execution_count": 428,
   "id": "8d6059a1-6b26-4555-82b5-59911adfc2a7",
   "metadata": {},
   "outputs": [],
   "source": [
    "hard_vote = np.where((rf_pr + svm_pr + lr_pr) > 1, 1, 0)"
   ]
  },
  {
   "cell_type": "code",
   "execution_count": 445,
   "id": "96024b2d-e33f-49cc-af1d-c96ea86a49b3",
   "metadata": {},
   "outputs": [],
   "source": [
    "hard_vote_acc = sum(hard_vote == y)/y.size\n",
    "soft_vote_acc = sum(soft_vote == y)/y.size"
   ]
  },
  {
   "cell_type": "code",
   "execution_count": 446,
   "id": "da9e48ca-c81d-4a81-8662-b4a4a32b13cc",
   "metadata": {},
   "outputs": [],
   "source": [
    "rf_acc = sum(rf_pr==y)/y.size\n",
    "svm_acc = sum(svm_pr==y)/y.size\n",
    "lr_acc = sum(lr_pr==y)/y.size"
   ]
  },
  {
   "cell_type": "code",
   "execution_count": 447,
   "id": "435580ae-c2c3-4000-a0ce-6fb742059599",
   "metadata": {},
   "outputs": [
    {
     "name": "stdout",
     "output_type": "stream",
     "text": [
      "rf:  0.9448818897637795\n",
      "svm:  0.6771653543307087\n",
      "lr:  0.81214848143982\n",
      "hard_vote:  0.8830146231721034\n",
      "soft_vote:  0.905511811023622\n"
     ]
    }
   ],
   "source": [
    "print('rf: ', rf_acc)\n",
    "print('svm: ', svm_acc)\n",
    "print('lr: ', lr_acc)\n",
    "print('hard_vote: ', hard_vote_acc)\n",
    "print('soft_vote: ', soft_vote_acc)"
   ]
  },
  {
   "cell_type": "code",
   "execution_count": 422,
   "id": "1cae32db-dffd-461c-a836-68ab7ee91bb2",
   "metadata": {},
   "outputs": [
    {
     "data": {
      "text/plain": [
       "RandomForestClassifier()"
      ]
     },
     "execution_count": 422,
     "metadata": {},
     "output_type": "execute_result"
    }
   ],
   "source": [
    "rf_model.fit(X_train, y_train)"
   ]
  },
  {
   "cell_type": "code",
   "execution_count": 423,
   "id": "e1c6b103-9d82-47d1-b360-b74ebf264ad6",
   "metadata": {},
   "outputs": [
    {
     "data": {
      "text/plain": [
       "0.8202247191011236"
      ]
     },
     "execution_count": 423,
     "metadata": {},
     "output_type": "execute_result"
    }
   ],
   "source": [
    "rf_model.score(X_test, y_test)"
   ]
  },
  {
   "cell_type": "code",
   "execution_count": null,
   "id": "041e495a-6de0-4af8-8c46-c4a744419ee7",
   "metadata": {},
   "outputs": [],
   "source": []
  }
 ],
 "metadata": {
  "kernelspec": {
   "display_name": "Python 3 (ipykernel)",
   "language": "python",
   "name": "python3"
  },
  "language_info": {
   "codemirror_mode": {
    "name": "ipython",
    "version": 3
   },
   "file_extension": ".py",
   "mimetype": "text/x-python",
   "name": "python",
   "nbconvert_exporter": "python",
   "pygments_lexer": "ipython3",
   "version": "3.9.7"
  }
 },
 "nbformat": 4,
 "nbformat_minor": 5
}
