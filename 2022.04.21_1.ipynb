{
 "cells": [
  {
   "cell_type": "code",
   "execution_count": 216,
   "id": "0f8b788d-f14d-4487-977b-39aa9b05e41e",
   "metadata": {},
   "outputs": [],
   "source": [
    "import warnings\n",
    "warnings.filterwarnings('ignore')\n",
    "import numpy as np\n",
    "import matplotlib.pyplot as plt\n",
    "import pandas as pd"
   ]
  },
  {
   "cell_type": "code",
   "execution_count": 22,
   "id": "511e25a1-cddf-4a97-8a81-5b52666cdf67",
   "metadata": {},
   "outputs": [],
   "source": [
    "a = np.random.randint(1,100,1)"
   ]
  },
  {
   "cell_type": "code",
   "execution_count": 23,
   "id": "619299b0-2dba-4602-9ec5-968201a6c62e",
   "metadata": {},
   "outputs": [],
   "source": [
    "x = np.random.randint(1,10,100)"
   ]
  },
  {
   "cell_type": "code",
   "execution_count": 24,
   "id": "95f02d73-e081-4cea-86cc-d7afe56f8c31",
   "metadata": {},
   "outputs": [],
   "source": [
    "y = a * x + np.random.randn(100)"
   ]
  },
  {
   "cell_type": "code",
   "execution_count": 20,
   "id": "7c8a8dd7-f2e5-4f0c-9608-e8cf74cec2e1",
   "metadata": {},
   "outputs": [
    {
     "data": {
      "text/plain": [
       "[<matplotlib.lines.Line2D at 0x7f47ad343a00>]"
      ]
     },
     "execution_count": 20,
     "metadata": {},
     "output_type": "execute_result"
    },
    {
     "data": {
      "image/png": "[encoded data removed]",
      "text/plain": [
       "<Figure size 432x288 with 1 Axes>"
      ]
     },
     "metadata": {
      "needs_background": "light"
     },
     "output_type": "display_data"
    }
   ],
   "source": [
    "a = np.arange(-5,7,0.1)\n",
    "err = a**2 -2*a # 오차\n",
    "plt.plot(a,err)\n",
    "# learning_rate는 보통 1e-5 부터 시작"
   ]
  },
  {
   "cell_type": "raw",
   "id": "63156680-916d-480b-bdd1-4a03e8ba4686",
   "metadata": {},
   "source": [
    "y_hat = ax # 예측값\n",
    "(y-y_hat)^2 = y^2 -xyy_hat + y_hat^2\n",
    "            = a^2x^2 -2axy + y_hat^2\n",
    "            -> a 미분\n",
    "            2ax^2 -2xy = 2x(ax - y)\n",
    "                       = 2x(y_hat - y) # 기울기\n",
    "= mean squared error"
   ]
  },
  {
   "cell_type": "code",
   "execution_count": 64,
   "id": "284f4ae1-0b1c-48ab-8c53-284bf49356f5",
   "metadata": {
    "tags": []
   },
   "outputs": [
    {
     "data": {
      "text/plain": [
       "array([36])"
      ]
     },
     "execution_count": 64,
     "metadata": {},
     "output_type": "execute_result"
    }
   ],
   "source": [
    "a = np.random.randint(1,100,1)\n",
    "a"
   ]
  },
  {
   "cell_type": "code",
   "execution_count": 65,
   "id": "50ab548d-abfb-437f-ae94-d93b5e0238a5",
   "metadata": {},
   "outputs": [
    {
     "data": {
      "text/plain": [
       "array([19])"
      ]
     },
     "execution_count": 65,
     "metadata": {},
     "output_type": "execute_result"
    }
   ],
   "source": [
    "a_hat = np.random.randint(1,100,1)\n",
    "a_hat"
   ]
  },
  {
   "cell_type": "code",
   "execution_count": 66,
   "id": "55eb506e-34ad-496b-8d58-74b66b009e48",
   "metadata": {},
   "outputs": [],
   "source": [
    "learning_rate = 1e-5 # 0.00001"
   ]
  },
  {
   "cell_type": "code",
   "execution_count": 80,
   "id": "139a4f13-5edd-4472-9cc2-64080a122785",
   "metadata": {
    "tags": []
   },
   "outputs": [],
   "source": [
    "epochs = 10000\n",
    "for epoch in range(epochs):\n",
    "    a_hat = a_hat - (np.sum(2*x*(a_hat*x-y)) / x.size) * learning_rate"
   ]
  },
  {
   "cell_type": "code",
   "execution_count": 81,
   "id": "95c28712-9da8-4a64-9fec-c8309b303687",
   "metadata": {},
   "outputs": [
    {
     "data": {
      "text/plain": [
       "array([22.98265396])"
      ]
     },
     "execution_count": 81,
     "metadata": {},
     "output_type": "execute_result"
    }
   ],
   "source": [
    "a_hat"
   ]
  },
  {
   "cell_type": "code",
   "execution_count": 103,
   "id": "15e4e339-2cfd-4258-8e5c-25216d5311df",
   "metadata": {},
   "outputs": [],
   "source": [
    "def AND(x1,x2):\n",
    "    w1 = 0.5\n",
    "    w2 = 0.5\n",
    "    theta = 0.6 # 임계치 ∂\n",
    "    if w1*x1 + w2*x2 > theta:\n",
    "        return 1\n",
    "    else:\n",
    "        return 0"
   ]
  },
  {
   "cell_type": "code",
   "execution_count": 104,
   "id": "13f1c5c2-edb6-4666-90f1-a83f77d074bc",
   "metadata": {},
   "outputs": [
    {
     "data": {
      "text/plain": [
       "0"
      ]
     },
     "execution_count": 104,
     "metadata": {},
     "output_type": "execute_result"
    }
   ],
   "source": [
    "AND(0,0)"
   ]
  },
  {
   "cell_type": "code",
   "execution_count": 105,
   "id": "9ccc01d8-5c5a-4c01-9c34-9063561568ea",
   "metadata": {},
   "outputs": [],
   "source": [
    "def OR(x1,x2):\n",
    "    w1 = 0.5\n",
    "    w2 = 0.5\n",
    "    theta = 0.4 # 임계치 ∂\n",
    "    if w1*x1 + w2*x2 < theta:\n",
    "        return 0\n",
    "    else:\n",
    "        return 1"
   ]
  },
  {
   "cell_type": "code",
   "execution_count": 106,
   "id": "abf8eb0d-410c-411c-a81d-49ced3dc4fea",
   "metadata": {},
   "outputs": [
    {
     "data": {
      "text/plain": [
       "0"
      ]
     },
     "execution_count": 106,
     "metadata": {},
     "output_type": "execute_result"
    }
   ],
   "source": [
    "OR(0,0)"
   ]
  },
  {
   "cell_type": "code",
   "execution_count": 107,
   "id": "bfde3612-b380-407a-a184-28d412bcc709",
   "metadata": {},
   "outputs": [],
   "source": [
    "def NAND(x1,x2):\n",
    "    w1 = 0.5\n",
    "    w2 = 0.5\n",
    "    theta = 0.7\n",
    "    if w1*x1 + w2*x2 > theta:\n",
    "        return 0\n",
    "    else:\n",
    "        return 1"
   ]
  },
  {
   "cell_type": "code",
   "execution_count": 108,
   "id": "6c409ac1-c3b6-48b2-8e00-bee33c5c8548",
   "metadata": {},
   "outputs": [
    {
     "data": {
      "text/plain": [
       "0"
      ]
     },
     "execution_count": 108,
     "metadata": {},
     "output_type": "execute_result"
    }
   ],
   "source": [
    "NAND(1,1)"
   ]
  },
  {
   "cell_type": "code",
   "execution_count": 136,
   "id": "d46f5e39-43d5-4921-a33d-6ccda690e619",
   "metadata": {},
   "outputs": [],
   "source": [
    "def XOR(x1,x2):\n",
    "    s1 = NAND(x1,x2) # layer1\n",
    "    s2 = OR(x1,x2) # layer2\n",
    "    return AND(s1,s2) # hidden layer -> 출력"
   ]
  },
  {
   "cell_type": "code",
   "execution_count": 134,
   "id": "0d6b1eec-d892-42cd-8619-1b184843394d",
   "metadata": {},
   "outputs": [
    {
     "data": {
      "text/plain": [
       "1"
      ]
     },
     "execution_count": 134,
     "metadata": {},
     "output_type": "execute_result"
    }
   ],
   "source": [
    "XOR(1,0)"
   ]
  },
  {
   "cell_type": "code",
   "execution_count": 137,
   "id": "c8138be7-053c-4af7-b9f5-5dc0baa046fb",
   "metadata": {},
   "outputs": [],
   "source": [
    "# 딥러닝에서 파라미터는 weight 밖에 없음"
   ]
  },
  {
   "cell_type": "code",
   "execution_count": 158,
   "id": "61a4da2b-f6fa-4ca7-bca3-63668fce9dbe",
   "metadata": {},
   "outputs": [],
   "source": [
    "# def step_func(x):\n",
    "#     if x > 0.5:\n",
    "#         return 1\n",
    "#     else:\n",
    "#         return 0"
   ]
  },
  {
   "cell_type": "code",
   "execution_count": 159,
   "id": "e4f3f67b-0ecf-4f09-ad36-2fa3e6506449",
   "metadata": {},
   "outputs": [],
   "source": [
    "def ident_func(x):\n",
    "    return x"
   ]
  },
  {
   "cell_type": "code",
   "execution_count": 160,
   "id": "d6cc5cdb-ff5d-4d1c-91fe-2a0153c53695",
   "metadata": {},
   "outputs": [],
   "source": [
    "def step_func(x):\n",
    "    result = x > 0.5\n",
    "    return result.astype(np.int)"
   ]
  },
  {
   "cell_type": "code",
   "execution_count": 161,
   "id": "f61f0180-9a97-4783-853c-4ac25b856c77",
   "metadata": {},
   "outputs": [],
   "source": [
    "def sigmoid(x):\n",
    "    return 1/(1+np.exp(-x))"
   ]
  },
  {
   "cell_type": "code",
   "execution_count": 163,
   "id": "79792d07-8bc0-498b-ab39-5f58d97c18fa",
   "metadata": {},
   "outputs": [],
   "source": [
    "def relu(x):\n",
    "    return np.maximum(0,x)\n",
    "\n",
    "def softmax(x):\n",
    "    c = np.max(x)\n",
    "    a = x - c\n",
    "    return np.exp(a)/np.sum(np.exp(a))"
   ]
  },
  {
   "cell_type": "code",
   "execution_count": 172,
   "id": "217e0f5b-bccf-4fd9-8a1d-e590b783973c",
   "metadata": {},
   "outputs": [
    {
     "data": {
      "text/plain": [
       "<function matplotlib.pyplot.show(close=None, block=None)>"
      ]
     },
     "execution_count": 172,
     "metadata": {},
     "output_type": "execute_result"
    },
    {
     "data": {
      "image/png": "[encoded data removed]",
      "text/plain": [
       "<Figure size 432x288 with 1 Axes>"
      ]
     },
     "metadata": {
      "needs_background": "light"
     },
     "output_type": "display_data"
    }
   ],
   "source": [
    "x = np.arange(-1,1,0.1)\n",
    "# plt.plot(x, ident_func(x))\n",
    "plt.plot(x, step_func(x))\n",
    "plt.plot(x, sigmoid(x))\n",
    "plt.plot(x, relu(x))\n",
    "plt.show"
   ]
  },
  {
   "cell_type": "raw",
   "id": "f15bd58c-edc4-448a-a0f1-72b9c59498a6",
   "metadata": {},
   "source": [
    "x shape에 맞는 weight 만들기\n",
    "활성화 함수(비선형 함수)를 거쳐서 다음 층으로 보내기 #반복\n",
    "출력 (예측했던 값과 같은 형태)"
   ]
  },
  {
   "cell_type": "code",
   "execution_count": 230,
   "id": "55e30d5d-8acc-442c-93e6-6b9207fc05fc",
   "metadata": {},
   "outputs": [],
   "source": [
    "from sklearn.datasets import load_iris"
   ]
  },
  {
   "cell_type": "code",
   "execution_count": 231,
   "id": "2b135550-73b5-450e-94bf-6e1675ed7b42",
   "metadata": {},
   "outputs": [],
   "source": [
    "x = load_iris().data\n",
    "y = load_iris().target"
   ]
  },
  {
   "cell_type": "code",
   "execution_count": 232,
   "id": "d01a1576-e2db-4570-b2cd-b526d9a0c93b",
   "metadata": {},
   "outputs": [
    {
     "data": {
      "text/plain": [
       "array([0, 0, 0, 0, 0, 0, 0, 0, 0, 0, 0, 0, 0, 0, 0, 0, 0, 0, 0, 0, 0, 0,\n",
       "       0, 0, 0, 0, 0, 0, 0, 0, 0, 0, 0, 0, 0, 0, 0, 0, 0, 0, 0, 0, 0, 0,\n",
       "       0, 0, 0, 0, 0, 0, 1, 1, 1, 1, 1, 1, 1, 1, 1, 1, 1, 1, 1, 1, 1, 1,\n",
       "       1, 1, 1, 1, 1, 1, 1, 1, 1, 1, 1, 1, 1, 1, 1, 1, 1, 1, 1, 1, 1, 1,\n",
       "       1, 1, 1, 1, 1, 1, 1, 1, 1, 1, 1, 1, 2, 2, 2, 2, 2, 2, 2, 2, 2, 2,\n",
       "       2, 2, 2, 2, 2, 2, 2, 2, 2, 2, 2, 2, 2, 2, 2, 2, 2, 2, 2, 2, 2, 2,\n",
       "       2, 2, 2, 2, 2, 2, 2, 2, 2, 2, 2, 2, 2, 2, 2, 2, 2, 2])"
      ]
     },
     "execution_count": 232,
     "metadata": {},
     "output_type": "execute_result"
    }
   ],
   "source": [
    "y"
   ]
  },
  {
   "cell_type": "code",
   "execution_count": 233,
   "id": "a1727f73-91c7-435a-b33e-aca3eb190421",
   "metadata": {},
   "outputs": [],
   "source": [
    "layer1 = np.random.randn(4,100)\n",
    "layer2 = np.random.randn(100,30)\n",
    "layer3 = np.random.randn(30,70)\n",
    "output = np.random.randn(70,3)\n",
    "l1 = np.dot(x,layer1)\n",
    "a1 = sigmoid(l1)\n",
    "l2 = np.dot(a1,layer2)\n",
    "a2 = sigmoid(l2)\n",
    "l3 = np.dot(a2,layer3)\n",
    "out = np.dot(l3,output)"
   ]
  },
  {
   "cell_type": "code",
   "execution_count": 234,
   "id": "262d0312-53a3-425d-ba60-06664a59f672",
   "metadata": {},
   "outputs": [],
   "source": [
    "y_ohe = pd.get_dummies(y)"
   ]
  },
  {
   "cell_type": "code",
   "execution_count": 235,
   "id": "b791c027-b285-4796-9895-8a52ad32d681",
   "metadata": {
    "collapsed": true,
    "jupyter": {
     "outputs_hidden": true
    },
    "tags": []
   },
   "outputs": [
    {
     "data": {
      "text/plain": [
       "array([[1, 0, 0],\n",
       "       [1, 0, 0],\n",
       "       [1, 0, 0],\n",
       "       [1, 0, 0],\n",
       "       [1, 0, 0],\n",
       "       [1, 0, 0],\n",
       "       [1, 0, 0],\n",
       "       [1, 0, 0],\n",
       "       [1, 0, 0],\n",
       "       [1, 0, 0],\n",
       "       [1, 0, 0],\n",
       "       [1, 0, 0],\n",
       "       [1, 0, 0],\n",
       "       [1, 0, 0],\n",
       "       [1, 0, 0],\n",
       "       [1, 0, 0],\n",
       "       [1, 0, 0],\n",
       "       [1, 0, 0],\n",
       "       [1, 0, 0],\n",
       "       [1, 0, 0],\n",
       "       [1, 0, 0],\n",
       "       [1, 0, 0],\n",
       "       [1, 0, 0],\n",
       "       [1, 0, 0],\n",
       "       [1, 0, 0],\n",
       "       [1, 0, 0],\n",
       "       [1, 0, 0],\n",
       "       [1, 0, 0],\n",
       "       [1, 0, 0],\n",
       "       [1, 0, 0],\n",
       "       [1, 0, 0],\n",
       "       [1, 0, 0],\n",
       "       [1, 0, 0],\n",
       "       [1, 0, 0],\n",
       "       [1, 0, 0],\n",
       "       [1, 0, 0],\n",
       "       [1, 0, 0],\n",
       "       [1, 0, 0],\n",
       "       [1, 0, 0],\n",
       "       [1, 0, 0],\n",
       "       [1, 0, 0],\n",
       "       [1, 0, 0],\n",
       "       [1, 0, 0],\n",
       "       [1, 0, 0],\n",
       "       [1, 0, 0],\n",
       "       [1, 0, 0],\n",
       "       [1, 0, 0],\n",
       "       [1, 0, 0],\n",
       "       [1, 0, 0],\n",
       "       [1, 0, 0],\n",
       "       [0, 1, 0],\n",
       "       [0, 1, 0],\n",
       "       [0, 1, 0],\n",
       "       [0, 1, 0],\n",
       "       [0, 1, 0],\n",
       "       [0, 1, 0],\n",
       "       [0, 1, 0],\n",
       "       [0, 1, 0],\n",
       "       [0, 1, 0],\n",
       "       [0, 1, 0],\n",
       "       [0, 1, 0],\n",
       "       [0, 1, 0],\n",
       "       [0, 1, 0],\n",
       "       [0, 1, 0],\n",
       "       [0, 1, 0],\n",
       "       [0, 1, 0],\n",
       "       [0, 1, 0],\n",
       "       [0, 1, 0],\n",
       "       [0, 1, 0],\n",
       "       [0, 1, 0],\n",
       "       [0, 1, 0],\n",
       "       [0, 1, 0],\n",
       "       [0, 1, 0],\n",
       "       [0, 1, 0],\n",
       "       [0, 1, 0],\n",
       "       [0, 1, 0],\n",
       "       [0, 1, 0],\n",
       "       [0, 1, 0],\n",
       "       [0, 1, 0],\n",
       "       [0, 1, 0],\n",
       "       [0, 1, 0],\n",
       "       [0, 1, 0],\n",
       "       [0, 1, 0],\n",
       "       [0, 1, 0],\n",
       "       [0, 1, 0],\n",
       "       [0, 1, 0],\n",
       "       [0, 1, 0],\n",
       "       [0, 1, 0],\n",
       "       [0, 1, 0],\n",
       "       [0, 1, 0],\n",
       "       [0, 1, 0],\n",
       "       [0, 1, 0],\n",
       "       [0, 1, 0],\n",
       "       [0, 1, 0],\n",
       "       [0, 1, 0],\n",
       "       [0, 1, 0],\n",
       "       [0, 1, 0],\n",
       "       [0, 1, 0],\n",
       "       [0, 1, 0],\n",
       "       [0, 1, 0],\n",
       "       [0, 0, 1],\n",
       "       [0, 0, 1],\n",
       "       [0, 0, 1],\n",
       "       [0, 0, 1],\n",
       "       [0, 0, 1],\n",
       "       [0, 0, 1],\n",
       "       [0, 0, 1],\n",
       "       [0, 0, 1],\n",
       "       [0, 0, 1],\n",
       "       [0, 0, 1],\n",
       "       [0, 0, 1],\n",
       "       [0, 0, 1],\n",
       "       [0, 0, 1],\n",
       "       [0, 0, 1],\n",
       "       [0, 0, 1],\n",
       "       [0, 0, 1],\n",
       "       [0, 0, 1],\n",
       "       [0, 0, 1],\n",
       "       [0, 0, 1],\n",
       "       [0, 0, 1],\n",
       "       [0, 0, 1],\n",
       "       [0, 0, 1],\n",
       "       [0, 0, 1],\n",
       "       [0, 0, 1],\n",
       "       [0, 0, 1],\n",
       "       [0, 0, 1],\n",
       "       [0, 0, 1],\n",
       "       [0, 0, 1],\n",
       "       [0, 0, 1],\n",
       "       [0, 0, 1],\n",
       "       [0, 0, 1],\n",
       "       [0, 0, 1],\n",
       "       [0, 0, 1],\n",
       "       [0, 0, 1],\n",
       "       [0, 0, 1],\n",
       "       [0, 0, 1],\n",
       "       [0, 0, 1],\n",
       "       [0, 0, 1],\n",
       "       [0, 0, 1],\n",
       "       [0, 0, 1],\n",
       "       [0, 0, 1],\n",
       "       [0, 0, 1],\n",
       "       [0, 0, 1],\n",
       "       [0, 0, 1],\n",
       "       [0, 0, 1],\n",
       "       [0, 0, 1],\n",
       "       [0, 0, 1],\n",
       "       [0, 0, 1],\n",
       "       [0, 0, 1],\n",
       "       [0, 0, 1]], dtype=uint8)"
      ]
     },
     "execution_count": 235,
     "metadata": {},
     "output_type": "execute_result"
    }
   ],
   "source": [
    "np.array(y_ohe)"
   ]
  },
  {
   "cell_type": "code",
   "execution_count": 237,
   "id": "2fe99ded-b032-41e9-ba25-7d8cabfc6188",
   "metadata": {},
   "outputs": [
    {
     "data": {
      "text/plain": [
       "0.9999999998308041"
      ]
     },
     "execution_count": 237,
     "metadata": {},
     "output_type": "execute_result"
    }
   ],
   "source": [
    "np.exp(42.32336436) / (np.exp(42.32336436) + np.exp(-27.34864444) + np.exp(19.82340023))"
   ]
  },
  {
   "cell_type": "code",
   "execution_count": 246,
   "id": "e5ab5144-1730-4652-aeda-5fcaa9c03a2a",
   "metadata": {},
   "outputs": [
    {
     "data": {
      "text/plain": [
       "1.0"
      ]
     },
     "execution_count": 246,
     "metadata": {},
     "output_type": "execute_result"
    }
   ],
   "source": [
    "np.sum(softmax(out[0,:]))"
   ]
  },
  {
   "cell_type": "code",
   "execution_count": 250,
   "id": "977628b1-d37e-4b7a-8bf1-073ad2e44eb2",
   "metadata": {},
   "outputs": [
    {
     "data": {
      "text/plain": [
       "array([0.0320586 , 0.08714432, 0.23688282, 0.64391426])"
      ]
     },
     "execution_count": 250,
     "metadata": {},
     "output_type": "execute_result"
    }
   ],
   "source": [
    "x = np.array([1,2,3,4])\n",
    "softmax(x)"
   ]
  },
  {
   "cell_type": "code",
   "execution_count": 248,
   "id": "b746ecbc-a4d9-4af4-a155-f6c1b570753b",
   "metadata": {},
   "outputs": [
    {
     "data": {
      "text/plain": [
       "[<matplotlib.lines.Line2D at 0x7f47a70d5f40>]"
      ]
     },
     "execution_count": 248,
     "metadata": {},
     "output_type": "execute_result"
    },
    {
     "data": {
      "image/png": "[encoded data removed]",
      "text/plain": [
       "<Figure size 432x288 with 1 Axes>"
      ]
     },
     "metadata": {
      "needs_background": "light"
     },
     "output_type": "display_data"
    }
   ],
   "source": [
    "x = np.arange(-100,1000)\n",
    "plt.plot(x,np.exp(x))"
   ]
  },
  {
   "cell_type": "code",
   "execution_count": null,
   "id": "7ed34884-061a-4efc-bf5e-1cef9872b443",
   "metadata": {},
   "outputs": [],
   "source": []
  }
 ],
 "metadata": {
  "kernelspec": {
   "display_name": "Python 3 (ipykernel)",
   "language": "python",
   "name": "python3"
  },
  "language_info": {
   "codemirror_mode": {
    "name": "ipython",
    "version": 3
   },
   "file_extension": ".py",
   "mimetype": "text/x-python",
   "name": "python",
   "nbconvert_exporter": "python",
   "pygments_lexer": "ipython3",
   "version": "3.9.7"
  }
 },
 "nbformat": 4,
 "nbformat_minor": 5
}
