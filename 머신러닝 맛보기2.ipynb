{
 "cells": [
  {
   "cell_type": "code",
   "execution_count": 2,
   "id": "ec8063cb-d5c7-4861-b3bc-28b6367a7111",
   "metadata": {},
   "outputs": [],
   "source": [
    "#P(A) : A일 확률"
   ]
  },
  {
   "cell_type": "code",
   "execution_count": null,
   "id": "cbd3988d-4929-48e0-a144-49ef0ac41382",
   "metadata": {},
   "outputs": [],
   "source": []
  }
 ],
 "metadata": {
  "kernelspec": {
   "display_name": "Python 3 (ipykernel)",
   "language": "python",
   "name": "python3"
  },
  "language_info": {
   "codemirror_mode": {
    "name": "ipython",
    "version": 3
   },
   "file_extension": ".py",
   "mimetype": "text/x-python",
   "name": "python",
   "nbconvert_exporter": "python",
   "pygments_lexer": "ipython3",
   "version": "3.9.7"
  }
 },
 "nbformat": 4,
 "nbformat_minor": 5
}
