{
 "cells": [
  {
   "cell_type": "code",
   "execution_count": 1,
   "id": "d099c565-2e9b-4fc0-a2f5-6c1f155adf2e",
   "metadata": {},
   "outputs": [],
   "source": [
    "from keras import losses"
   ]
  },
  {
   "cell_type": "code",
   "execution_count": 2,
   "id": "65a08244-a5c1-4a92-9c7f-2cc26422775f",
   "metadata": {},
   "outputs": [],
   "source": [
    "import numpy as np\n",
    "from keras.layers import Dense\n",
    "from keras.models import Sequential\n",
    "from keras.datasets import mnist\n",
    "from keras.utils.np_utils import to_categorical\n",
    "from sklearn.model_selection import train_test_split"
   ]
  },
  {
   "cell_type": "code",
   "execution_count": 3,
   "id": "4952ab9f-631e-46af-9e6e-d0c674a4aed2",
   "metadata": {},
   "outputs": [],
   "source": [
    "## Train, Validation, Test\n",
    "(X_train, y_train), (X_test, y_test) = mnist.load_data()\n",
    "X_train, X_val, y_train, y_val = train_test_split(X_train, y_train, test_size=0.2)\n",
    "y_train = to_categorical(y_train)\n",
    "y_val = to_categorical(y_val)\n",
    "y_test = to_categorical(y_test)"
   ]
  },
  {
   "cell_type": "code",
   "execution_count": 4,
   "id": "4f399f4d-faee-476b-889a-041da9ba3897",
   "metadata": {},
   "outputs": [],
   "source": [
    "X_train = X_train.reshape(-1,28*28)\n",
    "X_val = X_val.reshape(-1,28*28)\n",
    "X_test = X_test.reshape(-1,28*28)\n",
    "\n",
    "input_shape = X_train.shape[1]\n",
    "output_shape = y_train.shape[1]\n",
    "network = Sequential()\n",
    "network.add(Dense(512, activation='relu', input_shape=(input_shape,)))\n",
    "network.add(Dense(output_shape, activation='softmax'))"
   ]
  },
  {
   "cell_type": "code",
   "execution_count": 5,
   "id": "5fecb200-98ef-4ef1-95da-bf05b0e9525b",
   "metadata": {},
   "outputs": [],
   "source": [
    "opt = 'rmsprop'\n",
    "loss = 'categorical_crossentropy'\n",
    "metrics = ['accuracy']\n",
    "network.compile(optimizer=opt,\n",
    "                loss=loss,\n",
    "                metrics=metrics)"
   ]
  },
  {
   "cell_type": "code",
   "execution_count": 6,
   "id": "f534a173-dd09-4498-9e00-c876d14b4bd9",
   "metadata": {},
   "outputs": [
    {
     "name": "stdout",
     "output_type": "stream",
     "text": [
      "Epoch 1/10\n",
      "240/240 [==============================] - 1s 4ms/step - loss: 8.7699 - accuracy: 0.8761 - val_loss: 1.1991 - val_accuracy: 0.9403\n",
      "Epoch 2/10\n",
      "240/240 [==============================] - 1s 3ms/step - loss: 0.8093 - accuracy: 0.9501 - val_loss: 1.0385 - val_accuracy: 0.9411\n",
      "Epoch 3/10\n",
      "240/240 [==============================] - 1s 3ms/step - loss: 0.5301 - accuracy: 0.9647 - val_loss: 0.7042 - val_accuracy: 0.9657\n",
      "Epoch 4/10\n",
      "240/240 [==============================] - 1s 3ms/step - loss: 0.3772 - accuracy: 0.9733 - val_loss: 0.7311 - val_accuracy: 0.9643\n",
      "Epoch 5/10\n",
      "240/240 [==============================] - 1s 3ms/step - loss: 0.3253 - accuracy: 0.9768 - val_loss: 0.8674 - val_accuracy: 0.9600\n",
      "Epoch 6/10\n",
      "240/240 [==============================] - 1s 3ms/step - loss: 0.2763 - accuracy: 0.9808 - val_loss: 1.1162 - val_accuracy: 0.9562\n",
      "Epoch 7/10\n",
      "240/240 [==============================] - 1s 3ms/step - loss: 0.2341 - accuracy: 0.9826 - val_loss: 0.8802 - val_accuracy: 0.9664\n",
      "Epoch 8/10\n",
      "240/240 [==============================] - 1s 3ms/step - loss: 0.2195 - accuracy: 0.9856 - val_loss: 1.0050 - val_accuracy: 0.9631\n",
      "Epoch 9/10\n",
      "240/240 [==============================] - 1s 4ms/step - loss: 0.2043 - accuracy: 0.9864 - val_loss: 1.1217 - val_accuracy: 0.9634\n",
      "Epoch 10/10\n",
      "240/240 [==============================] - 1s 4ms/step - loss: 0.1954 - accuracy: 0.9869 - val_loss: 0.8885 - val_accuracy: 0.9732\n"
     ]
    },
    {
     "data": {
      "text/plain": [
       "<keras.callbacks.History at 0x209aaeaf400>"
      ]
     },
     "execution_count": 6,
     "metadata": {},
     "output_type": "execute_result"
    }
   ],
   "source": [
    "epochs = 10\n",
    "batch_size = 200\n",
    "network.fit(X_train , \n",
    "          y_train ,\n",
    "          epochs = epochs, \n",
    "          batch_size = batch_size,\n",
    "         validation_data=(X_val,y_val))"
   ]
  },
  {
   "cell_type": "code",
   "execution_count": 7,
   "id": "57a551d0-a6da-46c1-affa-89e4a30a5b33",
   "metadata": {},
   "outputs": [
    {
     "name": "stdout",
     "output_type": "stream",
     "text": [
      "313/313 [==============================] - 0s 1ms/step - loss: 0.7944 - accuracy: 0.9718\n"
     ]
    },
    {
     "data": {
      "text/plain": [
       "0.9718000292778015"
      ]
     },
     "execution_count": 7,
     "metadata": {},
     "output_type": "execute_result"
    }
   ],
   "source": [
    "network.evaluate(X_test,y_test)[1]"
   ]
  },
  {
   "cell_type": "code",
   "execution_count": 8,
   "id": "e6a2e2d3-88ce-47e6-8eeb-9f75820c9a8e",
   "metadata": {},
   "outputs": [],
   "source": [
    "from keras.datasets import imdb"
   ]
  },
  {
   "cell_type": "code",
   "execution_count": 9,
   "id": "bd1bddd5-7c70-407d-84d1-a90c92db117a",
   "metadata": {},
   "outputs": [],
   "source": [
    "(X_train, y_train), (X_test, y_test) = imdb.load_data(num_words=10000)"
   ]
  },
  {
   "cell_type": "code",
   "execution_count": 10,
   "id": "815d75e2-1c94-41ee-a73c-77a18b2436f5",
   "metadata": {},
   "outputs": [
    {
     "data": {
      "text/plain": [
       "120"
      ]
     },
     "execution_count": 10,
     "metadata": {},
     "output_type": "execute_result"
    }
   ],
   "source": [
    "np.unique(np.array(X_train[0])).size"
   ]
  },
  {
   "cell_type": "code",
   "execution_count": 11,
   "id": "8a41f7ac-8d02-4f15-8a6b-f1b175d4ec18",
   "metadata": {},
   "outputs": [
    {
     "data": {
      "text/plain": [
       "218"
      ]
     },
     "execution_count": 11,
     "metadata": {},
     "output_type": "execute_result"
    }
   ],
   "source": [
    "len(X_train[0])"
   ]
  },
  {
   "cell_type": "code",
   "execution_count": 12,
   "id": "f7109bf8-bad2-4ffe-bb4e-7eed4f2b40d3",
   "metadata": {},
   "outputs": [
    {
     "data": {
      "text/plain": [
       "array([25000])"
      ]
     },
     "execution_count": 12,
     "metadata": {},
     "output_type": "execute_result"
    }
   ],
   "source": [
    "np.apply_along_axis(len,0,X_train.reshape(-1,1))"
   ]
  },
  {
   "cell_type": "code",
   "execution_count": 14,
   "id": "98ff416d-0e02-4efa-9971-d3777f28e5d8",
   "metadata": {},
   "outputs": [
    {
     "data": {
      "text/plain": [
       "0        218\n",
       "1        189\n",
       "2        141\n",
       "3        550\n",
       "4        147\n",
       "        ... \n",
       "24995    180\n",
       "24996    328\n",
       "24997    184\n",
       "24998    150\n",
       "24999    153\n",
       "Length: 25000, dtype: int64"
      ]
     },
     "execution_count": 14,
     "metadata": {},
     "output_type": "execute_result"
    }
   ],
   "source": [
    "import pandas as pd\n",
    "pd.Series(X_train).apply(len)"
   ]
  },
  {
   "cell_type": "code",
   "execution_count": 15,
   "id": "17d28fd7-75d8-47d3-8691-e99017afe47c",
   "metadata": {},
   "outputs": [
    {
     "data": {
      "text/plain": [
       "9999"
      ]
     },
     "execution_count": 15,
     "metadata": {},
     "output_type": "execute_result"
    }
   ],
   "source": [
    "max([max(sequence) for sequence in X_train])"
   ]
  },
  {
   "cell_type": "code",
   "execution_count": 16,
   "id": "9f3e7618-c9e2-4b76-8b9a-608a5cd303ac",
   "metadata": {},
   "outputs": [],
   "source": [
    "word_index = imdb.get_word_index()"
   ]
  },
  {
   "cell_type": "code",
   "execution_count": 17,
   "id": "4b5ac1e9-7415-4403-86ed-91c403d3d1c5",
   "metadata": {},
   "outputs": [],
   "source": [
    "index_word = { v:k for k,v in word_index.items()}"
   ]
  },
  {
   "cell_type": "code",
   "execution_count": 18,
   "id": "4dca38ec-7f83-4447-98ae-443f41b0e205",
   "metadata": {},
   "outputs": [],
   "source": [
    "X_train_word = []\n",
    "for i in X_train[0]:\n",
    "    X_train_word.append(index_word[i])"
   ]
  },
  {
   "cell_type": "code",
   "execution_count": 19,
   "id": "40cb2df8-b428-4201-bbfd-ccc623145265",
   "metadata": {
    "collapsed": true,
    "jupyter": {
     "outputs_hidden": true
    },
    "tags": []
   },
   "outputs": [
    {
     "data": {
      "text/plain": [
       "['the',\n",
       " 'as',\n",
       " 'you',\n",
       " 'with',\n",
       " 'out',\n",
       " 'themselves',\n",
       " 'powerful',\n",
       " 'lets',\n",
       " 'loves',\n",
       " 'their',\n",
       " 'becomes',\n",
       " 'reaching',\n",
       " 'had',\n",
       " 'journalist',\n",
       " 'of',\n",
       " 'lot',\n",
       " 'from',\n",
       " 'anyone',\n",
       " 'to',\n",
       " 'have',\n",
       " 'after',\n",
       " 'out',\n",
       " 'atmosphere',\n",
       " 'never',\n",
       " 'more',\n",
       " 'room',\n",
       " 'and',\n",
       " 'it',\n",
       " 'so',\n",
       " 'heart',\n",
       " 'shows',\n",
       " 'to',\n",
       " 'years',\n",
       " 'of',\n",
       " 'every',\n",
       " 'never',\n",
       " 'going',\n",
       " 'and',\n",
       " 'help',\n",
       " 'moments',\n",
       " 'or',\n",
       " 'of',\n",
       " 'every',\n",
       " 'chest',\n",
       " 'visual',\n",
       " 'movie',\n",
       " 'except',\n",
       " 'her',\n",
       " 'was',\n",
       " 'several',\n",
       " 'of',\n",
       " 'enough',\n",
       " 'more',\n",
       " 'with',\n",
       " 'is',\n",
       " 'now',\n",
       " 'current',\n",
       " 'film',\n",
       " 'as',\n",
       " 'you',\n",
       " 'of',\n",
       " 'mine',\n",
       " 'potentially',\n",
       " 'unfortunately',\n",
       " 'of',\n",
       " 'you',\n",
       " 'than',\n",
       " 'him',\n",
       " 'that',\n",
       " 'with',\n",
       " 'out',\n",
       " 'themselves',\n",
       " 'her',\n",
       " 'get',\n",
       " 'for',\n",
       " 'was',\n",
       " 'camp',\n",
       " 'of',\n",
       " 'you',\n",
       " 'movie',\n",
       " 'sometimes',\n",
       " 'movie',\n",
       " 'that',\n",
       " 'with',\n",
       " 'scary',\n",
       " 'but',\n",
       " 'and',\n",
       " 'to',\n",
       " 'story',\n",
       " 'wonderful',\n",
       " 'that',\n",
       " 'in',\n",
       " 'seeing',\n",
       " 'in',\n",
       " 'character',\n",
       " 'to',\n",
       " 'of',\n",
       " '70s',\n",
       " 'musicians',\n",
       " 'with',\n",
       " 'heart',\n",
       " 'had',\n",
       " 'shadows',\n",
       " 'they',\n",
       " 'of',\n",
       " 'here',\n",
       " 'that',\n",
       " 'with',\n",
       " 'her',\n",
       " 'serious',\n",
       " 'to',\n",
       " 'have',\n",
       " 'does',\n",
       " 'when',\n",
       " 'from',\n",
       " 'why',\n",
       " 'what',\n",
       " 'have',\n",
       " 'critics',\n",
       " 'they',\n",
       " 'is',\n",
       " 'you',\n",
       " 'that',\n",
       " \"isn't\",\n",
       " 'one',\n",
       " 'will',\n",
       " 'very',\n",
       " 'to',\n",
       " 'as',\n",
       " 'itself',\n",
       " 'with',\n",
       " 'other',\n",
       " 'and',\n",
       " 'in',\n",
       " 'of',\n",
       " 'seen',\n",
       " 'over',\n",
       " 'landed',\n",
       " 'for',\n",
       " 'anyone',\n",
       " 'of',\n",
       " 'and',\n",
       " 'br',\n",
       " \"show's\",\n",
       " 'to',\n",
       " 'whether',\n",
       " 'from',\n",
       " 'than',\n",
       " 'out',\n",
       " 'themselves',\n",
       " 'history',\n",
       " 'he',\n",
       " 'name',\n",
       " 'half',\n",
       " 'some',\n",
       " 'br',\n",
       " 'of',\n",
       " 'and',\n",
       " 'odd',\n",
       " 'was',\n",
       " 'two',\n",
       " 'most',\n",
       " 'of',\n",
       " 'mean',\n",
       " 'for',\n",
       " '1',\n",
       " 'any',\n",
       " 'an',\n",
       " 'boat',\n",
       " 'she',\n",
       " 'he',\n",
       " 'should',\n",
       " 'is',\n",
       " 'thought',\n",
       " 'frog',\n",
       " 'but',\n",
       " 'of',\n",
       " 'script',\n",
       " 'you',\n",
       " 'not',\n",
       " 'while',\n",
       " 'history',\n",
       " 'he',\n",
       " 'heart',\n",
       " 'to',\n",
       " 'real',\n",
       " 'at',\n",
       " 'barrel',\n",
       " 'but',\n",
       " 'when',\n",
       " 'from',\n",
       " 'one',\n",
       " 'bit',\n",
       " 'then',\n",
       " 'have',\n",
       " 'two',\n",
       " 'of',\n",
       " 'script',\n",
       " 'their',\n",
       " 'with',\n",
       " 'her',\n",
       " 'nobody',\n",
       " 'most',\n",
       " 'that',\n",
       " 'with',\n",
       " \"wasn't\",\n",
       " 'to',\n",
       " 'with',\n",
       " 'armed',\n",
       " 'acting',\n",
       " 'watch',\n",
       " 'an',\n",
       " 'for',\n",
       " 'with',\n",
       " 'heartfelt',\n",
       " 'film',\n",
       " 'want',\n",
       " 'an']"
      ]
     },
     "execution_count": 19,
     "metadata": {},
     "output_type": "execute_result"
    }
   ],
   "source": [
    "X_train_word"
   ]
  },
  {
   "cell_type": "code",
   "execution_count": 20,
   "id": "3d3e47a1-2c03-4367-8c31-2a95edde8373",
   "metadata": {},
   "outputs": [],
   "source": [
    "def vectorize_sequences(sequences, dimension=10000):\n",
    "    # 크기가 (len(sequences), dimension))이고 모든 원소가 0인 행렬을 만듭니다\n",
    "    results = np.zeros((len(sequences), dimension))\n",
    "    for i, sequence in enumerate(sequences):\n",
    "        results[i, sequence] = 1.  # results[i]에서 특정 인덱스의 위치를 1로 만듭니다\n",
    "    return results"
   ]
  },
  {
   "cell_type": "code",
   "execution_count": 21,
   "id": "be3ef447-d46d-4e40-9fb6-51a5860c4d77",
   "metadata": {},
   "outputs": [],
   "source": [
    "X_train = vectorize_sequences(X_train)\n",
    "X_test = vectorize_sequences(X_test)"
   ]
  },
  {
   "cell_type": "code",
   "execution_count": 22,
   "id": "cfd4c2bc-fdb8-4b68-abbd-c0f59b958442",
   "metadata": {},
   "outputs": [],
   "source": [
    "X_train, X_val, y_train, y_val = train_test_split(X_train, y_train)"
   ]
  },
  {
   "cell_type": "code",
   "execution_count": 23,
   "id": "1fe1b3d5-8d88-4b3b-b022-43a67a71c69c",
   "metadata": {},
   "outputs": [],
   "source": [
    "y_train = y_train.reshape(-1,1)\n",
    "y_val = y_val.reshape(-1,1)\n",
    "y_test = y_test.reshape(-1,1)"
   ]
  },
  {
   "cell_type": "code",
   "execution_count": 24,
   "id": "65d67d40-79ed-4a06-9a9b-934162ed94e3",
   "metadata": {},
   "outputs": [
    {
     "name": "stdout",
     "output_type": "stream",
     "text": [
      "(18750, 10000)\n",
      "(6250, 10000)\n",
      "(25000, 10000)\n",
      "(18750, 1)\n",
      "(6250, 1)\n",
      "(25000, 1)\n"
     ]
    }
   ],
   "source": [
    "print(X_train.shape)\n",
    "print(X_val.shape)\n",
    "print(X_test.shape)\n",
    "print(y_train.shape)\n",
    "print(y_val.shape)\n",
    "print(y_test.shape)"
   ]
  },
  {
   "cell_type": "code",
   "execution_count": 25,
   "id": "77954d80-4af5-4fc6-918c-f77c0d29fd21",
   "metadata": {},
   "outputs": [],
   "source": [
    "input_shape = X_train.shape[1]\n",
    "output_shape = y_train.shape[1]"
   ]
  },
  {
   "cell_type": "code",
   "execution_count": 26,
   "id": "69d34aaa-2f9f-4f92-8ec8-a60ec6936c9d",
   "metadata": {},
   "outputs": [],
   "source": [
    "model = Sequential()\n",
    "model.add(Dense(100,activation='sigmoid',input_shape=(input_shape,)))\n",
    "model.add(Dense(28,activation='tanh'))\n",
    "model.add(Dense(20,activation='relu'))\n",
    "model.add(Dense(output_shape,activation='sigmoid'))"
   ]
  },
  {
   "cell_type": "code",
   "execution_count": 27,
   "id": "e0ec9963-a5c4-44e9-a1e5-1e764fbacee1",
   "metadata": {},
   "outputs": [
    {
     "name": "stdout",
     "output_type": "stream",
     "text": [
      "Model: \"sequential_1\"\n",
      "_________________________________________________________________\n",
      "Layer (type)                 Output Shape              Param #   \n",
      "=================================================================\n",
      "dense_2 (Dense)              (None, 100)               1000100   \n",
      "_________________________________________________________________\n",
      "dense_3 (Dense)              (None, 28)                2828      \n",
      "_________________________________________________________________\n",
      "dense_4 (Dense)              (None, 20)                580       \n",
      "_________________________________________________________________\n",
      "dense_5 (Dense)              (None, 1)                 21        \n",
      "=================================================================\n",
      "Total params: 1,003,529\n",
      "Trainable params: 1,003,529\n",
      "Non-trainable params: 0\n",
      "_________________________________________________________________\n"
     ]
    }
   ],
   "source": [
    "model.summary()"
   ]
  },
  {
   "cell_type": "code",
   "execution_count": 28,
   "id": "f05171d0-85d5-42ab-86da-6f0ba1f2a4e6",
   "metadata": {},
   "outputs": [],
   "source": [
    "opt = 'adam'\n",
    "# loss = 'binary_crossentropy'\n",
    "loss = 'mse'\n",
    "metrics = ['accuracy','mse']\n",
    "model.compile(optimizer=opt,\n",
    "              loss=loss,\n",
    "              metrics=metrics)"
   ]
  },
  {
   "cell_type": "code",
   "execution_count": 29,
   "id": "325c4b9c-1914-49f1-8eb0-541aa7668f5e",
   "metadata": {
    "tags": []
   },
   "outputs": [
    {
     "name": "stdout",
     "output_type": "stream",
     "text": [
      "Epoch 1/100\n",
      "63/63 [==============================] - 1s 16ms/step - loss: 0.1317 - accuracy: 0.8355 - mse: 0.1317 - val_loss: 0.0823 - val_accuracy: 0.8917 - val_mse: 0.0823\n",
      "Epoch 2/100\n",
      "63/63 [==============================] - 1s 11ms/step - loss: 0.0580 - accuracy: 0.9278 - mse: 0.0580 - val_loss: 0.0797 - val_accuracy: 0.8914 - val_mse: 0.0797\n",
      "Epoch 3/100\n",
      "63/63 [==============================] - 1s 12ms/step - loss: 0.0390 - accuracy: 0.9550 - mse: 0.0390 - val_loss: 0.0870 - val_accuracy: 0.8806 - val_mse: 0.0870\n",
      "Epoch 4/100\n",
      "63/63 [==============================] - 1s 12ms/step - loss: 0.0273 - accuracy: 0.9706 - mse: 0.0273 - val_loss: 0.0974 - val_accuracy: 0.8709 - val_mse: 0.0974\n",
      "Epoch 5/100\n",
      "63/63 [==============================] - 1s 12ms/step - loss: 0.0211 - accuracy: 0.9782 - mse: 0.0211 - val_loss: 0.0974 - val_accuracy: 0.8779 - val_mse: 0.0974\n",
      "Epoch 6/100\n",
      "63/63 [==============================] - 1s 11ms/step - loss: 0.0160 - accuracy: 0.9849 - mse: 0.0160 - val_loss: 0.1016 - val_accuracy: 0.8755 - val_mse: 0.1016\n",
      "Epoch 7/100\n",
      "63/63 [==============================] - 1s 12ms/step - loss: 0.0125 - accuracy: 0.9889 - mse: 0.0125 - val_loss: 0.1050 - val_accuracy: 0.8742 - val_mse: 0.1050\n",
      "Epoch 8/100\n",
      "63/63 [==============================] - 1s 12ms/step - loss: 0.0111 - accuracy: 0.9898 - mse: 0.0111 - val_loss: 0.1067 - val_accuracy: 0.8744 - val_mse: 0.1067\n",
      "Epoch 9/100\n",
      "63/63 [==============================] - 1s 11ms/step - loss: 0.0101 - accuracy: 0.9906 - mse: 0.0101 - val_loss: 0.1080 - val_accuracy: 0.8744 - val_mse: 0.1080\n",
      "Epoch 10/100\n",
      "63/63 [==============================] - 1s 11ms/step - loss: 0.0093 - accuracy: 0.9913 - mse: 0.0093 - val_loss: 0.1102 - val_accuracy: 0.8739 - val_mse: 0.1102\n",
      "Epoch 11/100\n",
      "63/63 [==============================] - 1s 12ms/step - loss: 0.0088 - accuracy: 0.9916 - mse: 0.0088 - val_loss: 0.1105 - val_accuracy: 0.8725 - val_mse: 0.1105\n",
      "Epoch 12/100\n",
      "63/63 [==============================] - 1s 13ms/step - loss: 0.0084 - accuracy: 0.9918 - mse: 0.0084 - val_loss: 0.1118 - val_accuracy: 0.8709 - val_mse: 0.1118\n",
      "Epoch 13/100\n",
      "63/63 [==============================] - 1s 11ms/step - loss: 0.0082 - accuracy: 0.9919 - mse: 0.0082 - val_loss: 0.1128 - val_accuracy: 0.8706 - val_mse: 0.1128\n",
      "Epoch 14/100\n",
      "63/63 [==============================] - 1s 13ms/step - loss: 0.0081 - accuracy: 0.9920 - mse: 0.0081 - val_loss: 0.1137 - val_accuracy: 0.8704 - val_mse: 0.1137\n",
      "Epoch 15/100\n",
      "63/63 [==============================] - 1s 11ms/step - loss: 0.0079 - accuracy: 0.9921 - mse: 0.0079 - val_loss: 0.1139 - val_accuracy: 0.8712 - val_mse: 0.1139\n",
      "Epoch 16/100\n",
      "63/63 [==============================] - 1s 11ms/step - loss: 0.0078 - accuracy: 0.9922 - mse: 0.0078 - val_loss: 0.1139 - val_accuracy: 0.8718 - val_mse: 0.1139\n",
      "Epoch 17/100\n",
      "63/63 [==============================] - 1s 12ms/step - loss: 0.0076 - accuracy: 0.9924 - mse: 0.0076 - val_loss: 0.1140 - val_accuracy: 0.8712 - val_mse: 0.1140\n",
      "Epoch 18/100\n",
      "63/63 [==============================] - 1s 12ms/step - loss: 0.0076 - accuracy: 0.9924 - mse: 0.0076 - val_loss: 0.1158 - val_accuracy: 0.8691 - val_mse: 0.1158\n",
      "Epoch 19/100\n",
      "63/63 [==============================] - 1s 12ms/step - loss: 0.0075 - accuracy: 0.9925 - mse: 0.0075 - val_loss: 0.1148 - val_accuracy: 0.8712 - val_mse: 0.1148\n",
      "Epoch 20/100\n",
      "63/63 [==============================] - 1s 13ms/step - loss: 0.0074 - accuracy: 0.9926 - mse: 0.0074 - val_loss: 0.1146 - val_accuracy: 0.8698 - val_mse: 0.1146\n",
      "Epoch 21/100\n",
      "63/63 [==============================] - 1s 12ms/step - loss: 0.0074 - accuracy: 0.9926 - mse: 0.0074 - val_loss: 0.1158 - val_accuracy: 0.8694 - val_mse: 0.1158\n",
      "Epoch 22/100\n",
      "63/63 [==============================] - 1s 13ms/step - loss: 0.0073 - accuracy: 0.9927 - mse: 0.0073 - val_loss: 0.1160 - val_accuracy: 0.8677 - val_mse: 0.1160\n",
      "Epoch 23/100\n",
      "63/63 [==============================] - 1s 12ms/step - loss: 0.0073 - accuracy: 0.9927 - mse: 0.0073 - val_loss: 0.1164 - val_accuracy: 0.8682 - val_mse: 0.1164\n",
      "Epoch 24/100\n",
      "63/63 [==============================] - 1s 12ms/step - loss: 0.0073 - accuracy: 0.9927 - mse: 0.0073 - val_loss: 0.1170 - val_accuracy: 0.8678 - val_mse: 0.1170\n",
      "Epoch 25/100\n",
      "63/63 [==============================] - 1s 13ms/step - loss: 0.0072 - accuracy: 0.9929 - mse: 0.0072 - val_loss: 0.1171 - val_accuracy: 0.8694 - val_mse: 0.1171\n",
      "Epoch 26/100\n",
      "63/63 [==============================] - 1s 13ms/step - loss: 0.0072 - accuracy: 0.9929 - mse: 0.0072 - val_loss: 0.1177 - val_accuracy: 0.8698 - val_mse: 0.1177\n",
      "Epoch 27/100\n",
      "63/63 [==============================] - 1s 13ms/step - loss: 0.0071 - accuracy: 0.9929 - mse: 0.0071 - val_loss: 0.1170 - val_accuracy: 0.8707 - val_mse: 0.1170\n",
      "Epoch 28/100\n",
      "63/63 [==============================] - 1s 13ms/step - loss: 0.0071 - accuracy: 0.9930 - mse: 0.0071 - val_loss: 0.1175 - val_accuracy: 0.8691 - val_mse: 0.1175\n",
      "Epoch 29/100\n",
      "63/63 [==============================] - 1s 13ms/step - loss: 0.0070 - accuracy: 0.9930 - mse: 0.0070 - val_loss: 0.1171 - val_accuracy: 0.8699 - val_mse: 0.1171\n",
      "Epoch 30/100\n",
      "63/63 [==============================] - 1s 13ms/step - loss: 0.0070 - accuracy: 0.9930 - mse: 0.0070 - val_loss: 0.1172 - val_accuracy: 0.8704 - val_mse: 0.1172\n",
      "Epoch 31/100\n",
      "63/63 [==============================] - 1s 14ms/step - loss: 0.0070 - accuracy: 0.9930 - mse: 0.0070 - val_loss: 0.1174 - val_accuracy: 0.8702 - val_mse: 0.1174\n",
      "Epoch 32/100\n",
      "63/63 [==============================] - 1s 14ms/step - loss: 0.0070 - accuracy: 0.9930 - mse: 0.0070 - val_loss: 0.1174 - val_accuracy: 0.8707 - val_mse: 0.1174\n",
      "Epoch 33/100\n",
      "63/63 [==============================] - 1s 13ms/step - loss: 0.0069 - accuracy: 0.9931 - mse: 0.0069 - val_loss: 0.1174 - val_accuracy: 0.8698 - val_mse: 0.1174\n",
      "Epoch 34/100\n",
      "63/63 [==============================] - 1s 12ms/step - loss: 0.0094 - accuracy: 0.9900 - mse: 0.0094 - val_loss: 0.1278 - val_accuracy: 0.8578 - val_mse: 0.1278\n",
      "Epoch 35/100\n",
      "63/63 [==============================] - 1s 12ms/step - loss: 0.0589 - accuracy: 0.9311 - mse: 0.0589 - val_loss: 0.1308 - val_accuracy: 0.8546 - val_mse: 0.1308\n",
      "Epoch 36/100\n",
      "63/63 [==============================] - 1s 12ms/step - loss: 0.0441 - accuracy: 0.9458 - mse: 0.0441 - val_loss: 0.1066 - val_accuracy: 0.8693 - val_mse: 0.1066\n",
      "Epoch 37/100\n",
      "63/63 [==============================] - 1s 12ms/step - loss: 0.0246 - accuracy: 0.9720 - mse: 0.0246 - val_loss: 0.1113 - val_accuracy: 0.8707 - val_mse: 0.1113\n",
      "Epoch 38/100\n",
      "63/63 [==============================] - 1s 13ms/step - loss: 0.0171 - accuracy: 0.9812 - mse: 0.0171 - val_loss: 0.1145 - val_accuracy: 0.8688 - val_mse: 0.1145\n",
      "Epoch 39/100\n",
      "63/63 [==============================] - 1s 13ms/step - loss: 0.0134 - accuracy: 0.9864 - mse: 0.0134 - val_loss: 0.1195 - val_accuracy: 0.8666 - val_mse: 0.1195\n",
      "Epoch 40/100\n",
      "63/63 [==============================] - 1s 13ms/step - loss: 0.0117 - accuracy: 0.9884 - mse: 0.0117 - val_loss: 0.1199 - val_accuracy: 0.8662 - val_mse: 0.1199\n",
      "Epoch 41/100\n",
      "63/63 [==============================] - 1s 13ms/step - loss: 0.0106 - accuracy: 0.9895 - mse: 0.0106 - val_loss: 0.1196 - val_accuracy: 0.8682 - val_mse: 0.1196\n",
      "Epoch 42/100\n",
      "63/63 [==============================] - 1s 12ms/step - loss: 0.0099 - accuracy: 0.9901 - mse: 0.0099 - val_loss: 0.1205 - val_accuracy: 0.8680 - val_mse: 0.1205\n",
      "Epoch 43/100\n",
      "63/63 [==============================] - 1s 13ms/step - loss: 0.0096 - accuracy: 0.9904 - mse: 0.0096 - val_loss: 0.1209 - val_accuracy: 0.8688 - val_mse: 0.1209\n",
      "Epoch 44/100\n",
      "63/63 [==============================] - 1s 13ms/step - loss: 0.0093 - accuracy: 0.9907 - mse: 0.0093 - val_loss: 0.1213 - val_accuracy: 0.8675 - val_mse: 0.1213\n",
      "Epoch 45/100\n",
      "63/63 [==============================] - 1s 14ms/step - loss: 0.0092 - accuracy: 0.9908 - mse: 0.0092 - val_loss: 0.1207 - val_accuracy: 0.8690 - val_mse: 0.1207\n",
      "Epoch 46/100\n",
      "63/63 [==============================] - 1s 13ms/step - loss: 0.0090 - accuracy: 0.9910 - mse: 0.0090 - val_loss: 0.1213 - val_accuracy: 0.8680 - val_mse: 0.1213\n",
      "Epoch 47/100\n",
      "63/63 [==============================] - 1s 13ms/step - loss: 0.0089 - accuracy: 0.9911 - mse: 0.0089 - val_loss: 0.1229 - val_accuracy: 0.8653 - val_mse: 0.1229\n",
      "Epoch 48/100\n",
      "63/63 [==============================] - 1s 12ms/step - loss: 0.0088 - accuracy: 0.9911 - mse: 0.0088 - val_loss: 0.1219 - val_accuracy: 0.8667 - val_mse: 0.1219\n",
      "Epoch 49/100\n",
      "63/63 [==============================] - 1s 12ms/step - loss: 0.0087 - accuracy: 0.9913 - mse: 0.0087 - val_loss: 0.1231 - val_accuracy: 0.8651 - val_mse: 0.1231\n",
      "Epoch 50/100\n",
      "63/63 [==============================] - 1s 12ms/step - loss: 0.0085 - accuracy: 0.9915 - mse: 0.0085 - val_loss: 0.1232 - val_accuracy: 0.8650 - val_mse: 0.1232\n",
      "Epoch 51/100\n",
      "63/63 [==============================] - 1s 12ms/step - loss: 0.0085 - accuracy: 0.9915 - mse: 0.0085 - val_loss: 0.1251 - val_accuracy: 0.8621 - val_mse: 0.1251\n",
      "Epoch 52/100\n",
      "63/63 [==============================] - 1s 13ms/step - loss: 0.0084 - accuracy: 0.9916 - mse: 0.0084 - val_loss: 0.1236 - val_accuracy: 0.8656 - val_mse: 0.1236\n",
      "Epoch 53/100\n",
      "63/63 [==============================] - 1s 12ms/step - loss: 0.0083 - accuracy: 0.9917 - mse: 0.0083 - val_loss: 0.1239 - val_accuracy: 0.8648 - val_mse: 0.1239\n",
      "Epoch 54/100\n",
      "63/63 [==============================] - ETA: 0s - loss: 0.0085 - accuracy: 0.9915 - mse: 0.00 - 1s 12ms/step - loss: 0.0083 - accuracy: 0.9917 - mse: 0.0083 - val_loss: 0.1235 - val_accuracy: 0.8670 - val_mse: 0.1235\n",
      "Epoch 55/100\n",
      "63/63 [==============================] - 1s 12ms/step - loss: 0.0083 - accuracy: 0.9917 - mse: 0.0083 - val_loss: 0.1266 - val_accuracy: 0.8627 - val_mse: 0.1266\n",
      "Epoch 56/100\n",
      "63/63 [==============================] - 1s 12ms/step - loss: 0.0083 - accuracy: 0.9918 - mse: 0.0083 - val_loss: 0.1236 - val_accuracy: 0.8656 - val_mse: 0.1236\n",
      "Epoch 57/100\n",
      "63/63 [==============================] - 1s 12ms/step - loss: 0.0082 - accuracy: 0.9919 - mse: 0.0082 - val_loss: 0.1243 - val_accuracy: 0.8656 - val_mse: 0.1243\n",
      "Epoch 58/100\n",
      "63/63 [==============================] - 1s 12ms/step - loss: 0.0082 - accuracy: 0.9918 - mse: 0.0082 - val_loss: 0.1227 - val_accuracy: 0.8680 - val_mse: 0.1227\n",
      "Epoch 59/100\n",
      "63/63 [==============================] - 1s 12ms/step - loss: 0.0088 - accuracy: 0.9911 - mse: 0.0088 - val_loss: 0.1241 - val_accuracy: 0.8653 - val_mse: 0.1241\n",
      "Epoch 60/100\n",
      "63/63 [==============================] - 1s 12ms/step - loss: 0.0122 - accuracy: 0.9866 - mse: 0.0122 - val_loss: 0.1313 - val_accuracy: 0.8576 - val_mse: 0.1313\n",
      "Epoch 61/100\n",
      "63/63 [==============================] - 1s 12ms/step - loss: 0.0176 - accuracy: 0.9794 - mse: 0.0176 - val_loss: 0.1232 - val_accuracy: 0.8650 - val_mse: 0.1232\n",
      "Epoch 62/100\n",
      "63/63 [==============================] - 1s 12ms/step - loss: 0.0143 - accuracy: 0.9839 - mse: 0.0143 - val_loss: 0.1239 - val_accuracy: 0.8653 - val_mse: 0.1239\n",
      "Epoch 63/100\n",
      "63/63 [==============================] - 1s 12ms/step - loss: 0.0110 - accuracy: 0.9883 - mse: 0.0110 - val_loss: 0.1261 - val_accuracy: 0.8626 - val_mse: 0.1261\n",
      "Epoch 64/100\n",
      "63/63 [==============================] - 1s 12ms/step - loss: 0.0094 - accuracy: 0.9903 - mse: 0.0094 - val_loss: 0.1271 - val_accuracy: 0.8638 - val_mse: 0.1271\n",
      "Epoch 65/100\n",
      "63/63 [==============================] - 1s 13ms/step - loss: 0.0085 - accuracy: 0.9914 - mse: 0.0085 - val_loss: 0.1272 - val_accuracy: 0.8645 - val_mse: 0.1272\n",
      "Epoch 66/100\n",
      "63/63 [==============================] - 1s 12ms/step - loss: 0.0082 - accuracy: 0.9918 - mse: 0.0082 - val_loss: 0.1293 - val_accuracy: 0.8621 - val_mse: 0.1293\n",
      "Epoch 67/100\n",
      "63/63 [==============================] - 1s 13ms/step - loss: 0.0080 - accuracy: 0.9921 - mse: 0.0080 - val_loss: 0.1253 - val_accuracy: 0.8662 - val_mse: 0.1253uracy: 0.9920 - mse: 0.00\n",
      "Epoch 68/100\n",
      "63/63 [==============================] - 1s 12ms/step - loss: 0.0079 - accuracy: 0.9922 - mse: 0.0079 - val_loss: 0.1273 - val_accuracy: 0.8650 - val_mse: 0.1273\n",
      "Epoch 69/100\n",
      "63/63 [==============================] - 1s 12ms/step - loss: 0.0078 - accuracy: 0.9922 - mse: 0.0078 - val_loss: 0.1269 - val_accuracy: 0.8650 - val_mse: 0.1269\n",
      "Epoch 70/100\n",
      "63/63 [==============================] - 1s 12ms/step - loss: 0.0078 - accuracy: 0.9922 - mse: 0.0078 - val_loss: 0.1267 - val_accuracy: 0.8643 - val_mse: 0.1267\n",
      "Epoch 71/100\n",
      "63/63 [==============================] - 1s 12ms/step - loss: 0.0078 - accuracy: 0.9922 - mse: 0.0078 - val_loss: 0.1269 - val_accuracy: 0.8648 - val_mse: 0.1269\n",
      "Epoch 72/100\n",
      "63/63 [==============================] - 1s 12ms/step - loss: 0.0078 - accuracy: 0.9922 - mse: 0.0078 - val_loss: 0.1271 - val_accuracy: 0.8654 - val_mse: 0.1271\n",
      "Epoch 73/100\n",
      "63/63 [==============================] - 1s 13ms/step - loss: 0.0077 - accuracy: 0.9923 - mse: 0.0077 - val_loss: 0.1272 - val_accuracy: 0.8653 - val_mse: 0.1272- loss: 0.0080 - accuracy: 0.9920 - mse\n",
      "Epoch 74/100\n",
      "63/63 [==============================] - 1s 12ms/step - loss: 0.0077 - accuracy: 0.9923 - mse: 0.0077 - val_loss: 0.1271 - val_accuracy: 0.8651 - val_mse: 0.1271\n",
      "Epoch 75/100\n",
      "63/63 [==============================] - 1s 12ms/step - loss: 0.0077 - accuracy: 0.9923 - mse: 0.0077 - val_loss: 0.1269 - val_accuracy: 0.8646 - val_mse: 0.1269\n",
      "Epoch 76/100\n",
      "63/63 [==============================] - 1s 13ms/step - loss: 0.0077 - accuracy: 0.9923 - mse: 0.0077 - val_loss: 0.1262 - val_accuracy: 0.8659 - val_mse: 0.1262ccuracy: 0.9927 - mse: 0.\n",
      "Epoch 77/100\n",
      "63/63 [==============================] - 1s 12ms/step - loss: 0.0076 - accuracy: 0.9924 - mse: 0.0076 - val_loss: 0.1268 - val_accuracy: 0.8658 - val_mse: 0.1268\n",
      "Epoch 78/100\n",
      "63/63 [==============================] - 1s 13ms/step - loss: 0.0075 - accuracy: 0.9925 - mse: 0.0075 - val_loss: 0.1267 - val_accuracy: 0.8651 - val_mse: 0.1267\n",
      "Epoch 79/100\n",
      "63/63 [==============================] - 1s 12ms/step - loss: 0.0075 - accuracy: 0.9925 - mse: 0.0075 - val_loss: 0.1264 - val_accuracy: 0.8654 - val_mse: 0.1264\n",
      "Epoch 80/100\n",
      "63/63 [==============================] - 1s 12ms/step - loss: 0.0075 - accuracy: 0.9925 - mse: 0.0075 - val_loss: 0.1272 - val_accuracy: 0.8651 - val_mse: 0.1272\n",
      "Epoch 81/100\n",
      "63/63 [==============================] - 1s 12ms/step - loss: 0.0075 - accuracy: 0.9925 - mse: 0.0075 - val_loss: 0.1270 - val_accuracy: 0.8651 - val_mse: 0.1270\n",
      "Epoch 82/100\n",
      "63/63 [==============================] - 1s 13ms/step - loss: 0.0075 - accuracy: 0.9925 - mse: 0.0075 - val_loss: 0.1271 - val_accuracy: 0.8654 - val_mse: 0.1271\n",
      "Epoch 83/100\n",
      "63/63 [==============================] - 1s 12ms/step - loss: 0.0075 - accuracy: 0.9925 - mse: 0.0075 - val_loss: 0.1271 - val_accuracy: 0.8654 - val_mse: 0.1271\n",
      "Epoch 84/100\n",
      "63/63 [==============================] - 1s 12ms/step - loss: 0.0075 - accuracy: 0.9925 - mse: 0.0075 - val_loss: 0.1271 - val_accuracy: 0.8654 - val_mse: 0.1271\n",
      "Epoch 85/100\n",
      "63/63 [==============================] - 1s 12ms/step - loss: 0.0075 - accuracy: 0.9925 - mse: 0.0075 - val_loss: 0.1272 - val_accuracy: 0.8656 - val_mse: 0.1272\n",
      "Epoch 86/100\n",
      "63/63 [==============================] - 1s 12ms/step - loss: 0.0075 - accuracy: 0.9926 - mse: 0.0075 - val_loss: 0.1281 - val_accuracy: 0.8659 - val_mse: 0.1281\n",
      "Epoch 87/100\n",
      "63/63 [==============================] - 1s 13ms/step - loss: 0.0077 - accuracy: 0.9923 - mse: 0.0077 - val_loss: 0.1278 - val_accuracy: 0.8635 - val_mse: 0.1278\n",
      "Epoch 88/100\n",
      "63/63 [==============================] - 1s 13ms/step - loss: 0.0086 - accuracy: 0.9911 - mse: 0.0086 - val_loss: 0.1287 - val_accuracy: 0.8634 - val_mse: 0.1287\n",
      "Epoch 89/100\n",
      "63/63 [==============================] - 1s 12ms/step - loss: 0.0144 - accuracy: 0.9837 - mse: 0.0144 - val_loss: 0.1234 - val_accuracy: 0.8675 - val_mse: 0.1234\n",
      "Epoch 90/100\n",
      "63/63 [==============================] - 1s 12ms/step - loss: 0.0158 - accuracy: 0.9814 - mse: 0.0158 - val_loss: 0.1190 - val_accuracy: 0.8664 - val_mse: 0.1190\n",
      "Epoch 91/100\n",
      "63/63 [==============================] - 1s 12ms/step - loss: 0.0105 - accuracy: 0.9884 - mse: 0.0105 - val_loss: 0.1243 - val_accuracy: 0.8653 - val_mse: 0.1243\n",
      "Epoch 92/100\n",
      "63/63 [==============================] - 1s 12ms/step - loss: 0.0091 - accuracy: 0.9905 - mse: 0.0091 - val_loss: 0.1276 - val_accuracy: 0.8613 - val_mse: 0.1276\n",
      "Epoch 93/100\n",
      "63/63 [==============================] - 1s 12ms/step - loss: 0.0091 - accuracy: 0.9904 - mse: 0.0091 - val_loss: 0.1293 - val_accuracy: 0.8618 - val_mse: 0.1293\n",
      "Epoch 94/100\n",
      "63/63 [==============================] - 1s 12ms/step - loss: 0.0080 - accuracy: 0.9919 - mse: 0.0080 - val_loss: 0.1256 - val_accuracy: 0.8662 - val_mse: 0.1256\n",
      "Epoch 95/100\n",
      "63/63 [==============================] - 1s 12ms/step - loss: 0.0077 - accuracy: 0.9922 - mse: 0.0077 - val_loss: 0.1271 - val_accuracy: 0.8640 - val_mse: 0.1271\n",
      "Epoch 96/100\n",
      "63/63 [==============================] - 1s 12ms/step - loss: 0.0075 - accuracy: 0.9925 - mse: 0.0075 - val_loss: 0.1267 - val_accuracy: 0.8658 - val_mse: 0.1267\n",
      "Epoch 97/100\n",
      "63/63 [==============================] - 1s 13ms/step - loss: 0.0074 - accuracy: 0.9926 - mse: 0.0074 - val_loss: 0.1267 - val_accuracy: 0.8659 - val_mse: 0.1267\n",
      "Epoch 98/100\n",
      "63/63 [==============================] - ETA: 0s - loss: 0.0074 - accuracy: 0.9926 - mse: 0.00 - 1s 13ms/step - loss: 0.0074 - accuracy: 0.9926 - mse: 0.0074 - val_loss: 0.1278 - val_accuracy: 0.8630 - val_mse: 0.1278\n",
      "Epoch 99/100\n",
      "63/63 [==============================] - 1s 12ms/step - loss: 0.0073 - accuracy: 0.9927 - mse: 0.0073 - val_loss: 0.1275 - val_accuracy: 0.8643 - val_mse: 0.1275\n",
      "Epoch 100/100\n",
      "63/63 [==============================] - 1s 12ms/step - loss: 0.0073 - accuracy: 0.9927 - mse: 0.0073 - val_loss: 0.1277 - val_accuracy: 0.8637 - val_mse: 0.1277\n"
     ]
    },
    {
     "data": {
      "text/plain": [
       "<keras.callbacks.History at 0x209b3b07d30>"
      ]
     },
     "execution_count": 29,
     "metadata": {},
     "output_type": "execute_result"
    }
   ],
   "source": [
    "epochs = 100\n",
    "batch_size = 300\n",
    "model.fit(X_train,\n",
    "          y_train,\n",
    "          epochs=epochs,\n",
    "          batch_size=batch_size,\n",
    "          validation_data=(X_val,y_val))"
   ]
  },
  {
   "cell_type": "code",
   "execution_count": 30,
   "id": "2d57324f-31f0-49e8-89da-0187465cae62",
   "metadata": {},
   "outputs": [],
   "source": [
    "import matplotlib.pyplot as plt"
   ]
  },
  {
   "cell_type": "code",
   "execution_count": 31,
   "id": "c2382a07-506c-4f26-ad0c-de9171375f48",
   "metadata": {},
   "outputs": [
    {
     "data": {
      "text/plain": [
       "dict_keys(['loss', 'accuracy', 'mse', 'val_loss', 'val_accuracy', 'val_mse'])"
      ]
     },
     "execution_count": 31,
     "metadata": {},
     "output_type": "execute_result"
    }
   ],
   "source": [
    "model.history.history.keys()"
   ]
  },
  {
   "cell_type": "code",
   "execution_count": 32,
   "id": "3ba6ae61-aab1-4fc6-b80f-f5eaf5978a94",
   "metadata": {
    "tags": []
   },
   "outputs": [
    {
     "data": {
      "text/plain": [
       "[<matplotlib.lines.Line2D at 0x209c594af70>]"
      ]
     },
     "execution_count": 32,
     "metadata": {},
     "output_type": "execute_result"
    },
    {
     "data": {
      "image/png": "[encoded data removed]",
      "text/plain": [
       "<Figure size 432x288 with 1 Axes>"
      ]
     },
     "metadata": {
      "needs_background": "light"
     },
     "output_type": "display_data"
    }
   ],
   "source": [
    "plt.plot(model.history.history['loss'])"
   ]
  },
  {
   "cell_type": "code",
   "execution_count": 33,
   "id": "0a84d5de-e10b-4da3-b46a-17c1f118ebe5",
   "metadata": {},
   "outputs": [],
   "source": [
    "from keras.datasets import reuters"
   ]
  },
  {
   "cell_type": "code",
   "execution_count": 34,
   "id": "8ff25f48-ae24-47e9-bc37-7653e6643b95",
   "metadata": {},
   "outputs": [],
   "source": [
    "(X_train, y_train), (X_test, y_test) = reuters.load_data()"
   ]
  },
  {
   "cell_type": "code",
   "execution_count": 35,
   "id": "2514522b-ebac-44b0-ad62-0aedad82691e",
   "metadata": {},
   "outputs": [],
   "source": [
    "X_train, X_val, y_train, y_val = train_test_split(X_train, y_train, test_size=0.2)"
   ]
  },
  {
   "cell_type": "code",
   "execution_count": 36,
   "id": "ced401b8-19b3-4bed-aa64-ff1dd59f5d34",
   "metadata": {},
   "outputs": [],
   "source": [
    "word_index = reuters.get_word_index()"
   ]
  },
  {
   "cell_type": "code",
   "execution_count": 37,
   "id": "21261159-07f8-498b-a4e9-1cb9b76cfaf8",
   "metadata": {},
   "outputs": [],
   "source": [
    "x = [ i for i in word_index.values()]"
   ]
  },
  {
   "cell_type": "code",
   "execution_count": 38,
   "id": "2efeab56-59c0-49f0-a79c-630dde888c32",
   "metadata": {},
   "outputs": [
    {
     "data": {
      "text/plain": [
       "(1, 30979)"
      ]
     },
     "execution_count": 38,
     "metadata": {},
     "output_type": "execute_result"
    }
   ],
   "source": [
    "min(x),max(x)"
   ]
  },
  {
   "cell_type": "code",
   "execution_count": 39,
   "id": "a77bff56-7e7d-4322-80a1-d9549e0e6542",
   "metadata": {
    "tags": []
   },
   "outputs": [],
   "source": [
    "X_train = vectorize_sequences(X_train,dimension=30982)\n",
    "X_test = vectorize_sequences(X_test,dimension=30982)\n",
    "X_val = vectorize_sequences(X_val,dimension=30982)\n",
    "# X_train = vectorize_sequences(X_train)\n",
    "# X_test = vectorize_sequences(X_test)\n",
    "# X_val = vectorize_sequences(X_val)\n",
    "\n",
    "y_train = to_categorical(y_train)\n",
    "y_test = to_categorical(y_test)\n",
    "y_val = to_categorical(y_val)"
   ]
  },
  {
   "cell_type": "code",
   "execution_count": 40,
   "id": "59341251-4391-44c6-a5be-a75f336f4a9e",
   "metadata": {},
   "outputs": [],
   "source": [
    "input_shape = X_train.shape[1]\n",
    "output_shape = y_train.shape[1]\n",
    "\n",
    "model = Sequential()\n",
    "model.add(Dense(64,activation='sigmoid',input_shape=(input_shape,)))\n",
    "model.add(Dense(128,activation='relu'))\n",
    "model.add(Dense(output_shape,activation='softmax'))"
   ]
  },
  {
   "cell_type": "code",
   "execution_count": 41,
   "id": "88706ed4-aa64-4cd4-9d39-8f8d77a38d6b",
   "metadata": {},
   "outputs": [],
   "source": [
    "opt = 'adam'\n",
    "loss = 'categorical_crossentropy'\n",
    "metrics = ['accuracy']\n",
    "model.compile(optimizer=opt,\n",
    "              loss=loss,\n",
    "              metrics=metrics,)"
   ]
  },
  {
   "cell_type": "code",
   "execution_count": 42,
   "id": "4452c7c6-8d29-4ad9-91cc-6cb8574bcde0",
   "metadata": {
    "tags": []
   },
   "outputs": [
    {
     "name": "stdout",
     "output_type": "stream",
     "text": [
      "Epoch 1/100\n",
      "36/36 [==============================] - 1s 29ms/step - loss: 2.5171 - accuracy: 0.4004 - val_loss: 1.9546 - val_accuracy: 0.4919\n",
      "Epoch 2/100\n",
      "36/36 [==============================] - 1s 21ms/step - loss: 1.7286 - accuracy: 0.5825 - val_loss: 1.5747 - val_accuracy: 0.6400\n",
      "Epoch 3/100\n",
      "36/36 [==============================] - 1s 21ms/step - loss: 1.3444 - accuracy: 0.6985 - val_loss: 1.3450 - val_accuracy: 0.6939\n",
      "Epoch 4/100\n",
      "36/36 [==============================] - 1s 20ms/step - loss: 1.0734 - accuracy: 0.7510 - val_loss: 1.1995 - val_accuracy: 0.7206\n",
      "Epoch 5/100\n",
      "36/36 [==============================] - 1s 20ms/step - loss: 0.8645 - accuracy: 0.8067 - val_loss: 1.1063 - val_accuracy: 0.7507\n",
      "Epoch 6/100\n",
      "36/36 [==============================] - 1s 21ms/step - loss: 0.6941 - accuracy: 0.8429 - val_loss: 1.0389 - val_accuracy: 0.7774\n",
      "Epoch 7/100\n",
      "36/36 [==============================] - 1s 21ms/step - loss: 0.5520 - accuracy: 0.8791 - val_loss: 0.9863 - val_accuracy: 0.7880\n",
      "Epoch 8/100\n",
      "36/36 [==============================] - 1s 21ms/step - loss: 0.4394 - accuracy: 0.9016 - val_loss: 0.9654 - val_accuracy: 0.7935\n",
      "Epoch 9/100\n",
      "36/36 [==============================] - 1s 21ms/step - loss: 0.3501 - accuracy: 0.9236 - val_loss: 0.9399 - val_accuracy: 0.8063\n",
      "Epoch 10/100\n",
      "36/36 [==============================] - 1s 22ms/step - loss: 0.2765 - accuracy: 0.9399 - val_loss: 0.9362 - val_accuracy: 0.8052\n",
      "Epoch 11/100\n",
      "36/36 [==============================] - 1s 21ms/step - loss: 0.2259 - accuracy: 0.9482 - val_loss: 0.9408 - val_accuracy: 0.8075\n",
      "Epoch 12/100\n",
      "36/36 [==============================] - 1s 21ms/step - loss: 0.1912 - accuracy: 0.9523 - val_loss: 0.9543 - val_accuracy: 0.8030\n",
      "Epoch 13/100\n",
      "36/36 [==============================] - 1s 20ms/step - loss: 0.1616 - accuracy: 0.9563 - val_loss: 0.9543 - val_accuracy: 0.8102\n",
      "Epoch 14/100\n",
      "36/36 [==============================] - 1s 21ms/step - loss: 0.1393 - accuracy: 0.9601 - val_loss: 0.9611 - val_accuracy: 0.8114\n",
      "Epoch 15/100\n",
      "36/36 [==============================] - 1s 21ms/step - loss: 0.1234 - accuracy: 0.9605 - val_loss: 0.9732 - val_accuracy: 0.8069loss: 0.1143 - ac\n",
      "Epoch 16/100\n",
      "36/36 [==============================] - 1s 21ms/step - loss: 0.1142 - accuracy: 0.9619 - val_loss: 0.9796 - val_accuracy: 0.8097\n",
      "Epoch 17/100\n",
      "36/36 [==============================] - 1s 21ms/step - loss: 0.1037 - accuracy: 0.9630 - val_loss: 1.0002 - val_accuracy: 0.8052\n",
      "Epoch 18/100\n",
      "36/36 [==============================] - 1s 21ms/step - loss: 0.1008 - accuracy: 0.9640 - val_loss: 1.0194 - val_accuracy: 0.8047\n",
      "Epoch 19/100\n",
      "36/36 [==============================] - 1s 21ms/step - loss: 0.0921 - accuracy: 0.9631 - val_loss: 1.0091 - val_accuracy: 0.8097\n",
      "Epoch 20/100\n",
      "36/36 [==============================] - 1s 21ms/step - loss: 0.0859 - accuracy: 0.9652 - val_loss: 1.0312 - val_accuracy: 0.8114\n",
      "Epoch 21/100\n",
      "36/36 [==============================] - 1s 21ms/step - loss: 0.0839 - accuracy: 0.9634 - val_loss: 1.0358 - val_accuracy: 0.8058\n",
      "Epoch 22/100\n",
      "36/36 [==============================] - 1s 21ms/step - loss: 0.0820 - accuracy: 0.9651 - val_loss: 1.0472 - val_accuracy: 0.8091\n",
      "Epoch 23/100\n",
      "36/36 [==============================] - 1s 21ms/step - loss: 0.0794 - accuracy: 0.9640 - val_loss: 1.0379 - val_accuracy: 0.8125\n",
      "Epoch 24/100\n",
      "36/36 [==============================] - 1s 20ms/step - loss: 0.0779 - accuracy: 0.9624 - val_loss: 1.0574 - val_accuracy: 0.8058\n",
      "Epoch 25/100\n",
      "36/36 [==============================] - 1s 22ms/step - loss: 0.0747 - accuracy: 0.9626 - val_loss: 1.0578 - val_accuracy: 0.8080\n",
      "Epoch 26/100\n",
      "36/36 [==============================] - 1s 21ms/step - loss: 0.0709 - accuracy: 0.9645 - val_loss: 1.0656 - val_accuracy: 0.8086\n",
      "Epoch 27/100\n",
      "36/36 [==============================] - 1s 21ms/step - loss: 0.0708 - accuracy: 0.9641 - val_loss: 1.0508 - val_accuracy: 0.8136\n",
      "Epoch 28/100\n",
      "36/36 [==============================] - 1s 21ms/step - loss: 0.0703 - accuracy: 0.9658 - val_loss: 1.0820 - val_accuracy: 0.8097\n",
      "Epoch 29/100\n",
      "36/36 [==============================] - 1s 21ms/step - loss: 0.0703 - accuracy: 0.9635 - val_loss: 1.0896 - val_accuracy: 0.8052\n",
      "Epoch 30/100\n",
      "36/36 [==============================] - 1s 21ms/step - loss: 0.0689 - accuracy: 0.9648 - val_loss: 1.0911 - val_accuracy: 0.8114\n",
      "Epoch 31/100\n",
      "36/36 [==============================] - 1s 21ms/step - loss: 0.0698 - accuracy: 0.9640 - val_loss: 1.0983 - val_accuracy: 0.8052\n",
      "Epoch 32/100\n",
      "36/36 [==============================] - 1s 21ms/step - loss: 0.0669 - accuracy: 0.9655 - val_loss: 1.0955 - val_accuracy: 0.8058\n",
      "Epoch 33/100\n",
      "36/36 [==============================] - 1s 21ms/step - loss: 0.0658 - accuracy: 0.9653 - val_loss: 1.0943 - val_accuracy: 0.8069\n",
      "Epoch 34/100\n",
      "36/36 [==============================] - 1s 22ms/step - loss: 0.0651 - accuracy: 0.9649 - val_loss: 1.0964 - val_accuracy: 0.8108\n",
      "Epoch 35/100\n",
      "36/36 [==============================] - 1s 21ms/step - loss: 0.0647 - accuracy: 0.9641 - val_loss: 1.1019 - val_accuracy: 0.8108\n",
      "Epoch 36/100\n",
      "36/36 [==============================] - 1s 21ms/step - loss: 0.0656 - accuracy: 0.9655 - val_loss: 1.0987 - val_accuracy: 0.8097\n",
      "Epoch 37/100\n",
      "36/36 [==============================] - 1s 21ms/step - loss: 0.0659 - accuracy: 0.9652 - val_loss: 1.1398 - val_accuracy: 0.8030\n",
      "Epoch 38/100\n",
      "36/36 [==============================] - 1s 21ms/step - loss: 0.0640 - accuracy: 0.9642 - val_loss: 1.1036 - val_accuracy: 0.8108\n",
      "Epoch 39/100\n",
      "36/36 [==============================] - 1s 21ms/step - loss: 0.0662 - accuracy: 0.9619 - val_loss: 1.1272 - val_accuracy: 0.8119\n",
      "Epoch 40/100\n",
      "36/36 [==============================] - 1s 21ms/step - loss: 0.0622 - accuracy: 0.9663 - val_loss: 1.1214 - val_accuracy: 0.8097\n",
      "Epoch 41/100\n",
      "36/36 [==============================] - 1s 21ms/step - loss: 0.0616 - accuracy: 0.9651 - val_loss: 1.1152 - val_accuracy: 0.8119\n",
      "Epoch 42/100\n",
      "36/36 [==============================] - 1s 23ms/step - loss: 0.0621 - accuracy: 0.9651 - val_loss: 1.1335 - val_accuracy: 0.8069\n",
      "Epoch 43/100\n",
      "36/36 [==============================] - 1s 21ms/step - loss: 0.0618 - accuracy: 0.9646 - val_loss: 1.1265 - val_accuracy: 0.8125\n",
      "Epoch 44/100\n",
      "36/36 [==============================] - 1s 21ms/step - loss: 0.0644 - accuracy: 0.9651 - val_loss: 1.1417 - val_accuracy: 0.8102\n",
      "Epoch 45/100\n",
      "36/36 [==============================] - 1s 21ms/step - loss: 0.0628 - accuracy: 0.9645 - val_loss: 1.1217 - val_accuracy: 0.8102\n",
      "Epoch 46/100\n",
      "36/36 [==============================] - 1s 21ms/step - loss: 0.0589 - accuracy: 0.9667 - val_loss: 1.1522 - val_accuracy: 0.8086\n",
      "Epoch 47/100\n",
      "36/36 [==============================] - 1s 21ms/step - loss: 0.0582 - accuracy: 0.9651 - val_loss: 1.1367 - val_accuracy: 0.8091\n",
      "Epoch 48/100\n",
      "36/36 [==============================] - 1s 21ms/step - loss: 0.0618 - accuracy: 0.9644 - val_loss: 1.1378 - val_accuracy: 0.8102\n",
      "Epoch 49/100\n",
      "36/36 [==============================] - 1s 23ms/step - loss: 0.0608 - accuracy: 0.9651 - val_loss: 1.1540 - val_accuracy: 0.8091\n",
      "Epoch 50/100\n",
      "36/36 [==============================] - 1s 24ms/step - loss: 0.0595 - accuracy: 0.9666 - val_loss: 1.1327 - val_accuracy: 0.8136\n",
      "Epoch 51/100\n",
      "36/36 [==============================] - 1s 22ms/step - loss: 0.0593 - accuracy: 0.9665 - val_loss: 1.1472 - val_accuracy: 0.8047\n",
      "Epoch 52/100\n",
      "36/36 [==============================] - 1s 22ms/step - loss: 0.0582 - accuracy: 0.9673 - val_loss: 1.1526 - val_accuracy: 0.8097\n",
      "Epoch 53/100\n",
      "36/36 [==============================] - 1s 22ms/step - loss: 0.0574 - accuracy: 0.9665 - val_loss: 1.1479 - val_accuracy: 0.8102\n",
      "Epoch 54/100\n",
      "36/36 [==============================] - 1s 21ms/step - loss: 0.0586 - accuracy: 0.9653 - val_loss: 1.1525 - val_accuracy: 0.8080\n",
      "Epoch 55/100\n",
      "36/36 [==============================] - 1s 21ms/step - loss: 0.0599 - accuracy: 0.9640 - val_loss: 1.1612 - val_accuracy: 0.8024\n",
      "Epoch 56/100\n",
      "36/36 [==============================] - 1s 23ms/step - loss: 0.0570 - accuracy: 0.9655 - val_loss: 1.1481 - val_accuracy: 0.8075\n",
      "Epoch 57/100\n",
      "36/36 [==============================] - 1s 22ms/step - loss: 0.0568 - accuracy: 0.9660 - val_loss: 1.1561 - val_accuracy: 0.8108\n",
      "Epoch 58/100\n",
      "36/36 [==============================] - 1s 21ms/step - loss: 0.0575 - accuracy: 0.9655 - val_loss: 1.1573 - val_accuracy: 0.8063\n",
      "Epoch 59/100\n",
      "36/36 [==============================] - 1s 21ms/step - loss: 0.0555 - accuracy: 0.9656 - val_loss: 1.1565 - val_accuracy: 0.8075\n",
      "Epoch 60/100\n",
      "36/36 [==============================] - 1s 22ms/step - loss: 0.0564 - accuracy: 0.9663 - val_loss: 1.1817 - val_accuracy: 0.8063\n",
      "Epoch 61/100\n",
      "36/36 [==============================] - 1s 25ms/step - loss: 0.0578 - accuracy: 0.9656 - val_loss: 1.1579 - val_accuracy: 0.8108\n",
      "Epoch 62/100\n",
      "36/36 [==============================] - 1s 22ms/step - loss: 0.0575 - accuracy: 0.9640 - val_loss: 1.1488 - val_accuracy: 0.8086\n",
      "Epoch 63/100\n",
      "36/36 [==============================] - 1s 23ms/step - loss: 0.0586 - accuracy: 0.9684 - val_loss: 1.2039 - val_accuracy: 0.8036\n",
      "Epoch 64/100\n",
      "36/36 [==============================] - 1s 21ms/step - loss: 0.0574 - accuracy: 0.9660 - val_loss: 1.1537 - val_accuracy: 0.8125\n",
      "Epoch 65/100\n",
      "36/36 [==============================] - 1s 23ms/step - loss: 0.0568 - accuracy: 0.9652 - val_loss: 1.1704 - val_accuracy: 0.8097\n",
      "Epoch 66/100\n",
      "36/36 [==============================] - 1s 22ms/step - loss: 0.0563 - accuracy: 0.9653 - val_loss: 1.1694 - val_accuracy: 0.8108\n",
      "Epoch 67/100\n",
      "36/36 [==============================] - 1s 23ms/step - loss: 0.0557 - accuracy: 0.9672 - val_loss: 1.2069 - val_accuracy: 0.8019\n",
      "Epoch 68/100\n",
      "36/36 [==============================] - 1s 22ms/step - loss: 0.0567 - accuracy: 0.9674 - val_loss: 1.1604 - val_accuracy: 0.8125\n",
      "Epoch 69/100\n",
      "36/36 [==============================] - 1s 21ms/step - loss: 0.0557 - accuracy: 0.9659 - val_loss: 1.1785 - val_accuracy: 0.8047\n",
      "Epoch 70/100\n",
      "36/36 [==============================] - 1s 21ms/step - loss: 0.0574 - accuracy: 0.9652 - val_loss: 1.1805 - val_accuracy: 0.8036\n",
      "Epoch 71/100\n",
      "36/36 [==============================] - 1s 23ms/step - loss: 0.0540 - accuracy: 0.9670 - val_loss: 1.1735 - val_accuracy: 0.8114\n",
      "Epoch 72/100\n",
      "36/36 [==============================] - 1s 22ms/step - loss: 0.0579 - accuracy: 0.9666 - val_loss: 1.1706 - val_accuracy: 0.8108\n",
      "Epoch 73/100\n",
      "36/36 [==============================] - 1s 23ms/step - loss: 0.0555 - accuracy: 0.9653 - val_loss: 1.1838 - val_accuracy: 0.8086\n",
      "Epoch 74/100\n",
      "36/36 [==============================] - 1s 22ms/step - loss: 0.0552 - accuracy: 0.9665 - val_loss: 1.1862 - val_accuracy: 0.8097\n",
      "Epoch 75/100\n",
      "36/36 [==============================] - 1s 22ms/step - loss: 0.0555 - accuracy: 0.9670 - val_loss: 1.1909 - val_accuracy: 0.8041\n",
      "Epoch 76/100\n",
      "36/36 [==============================] - 1s 21ms/step - loss: 0.0551 - accuracy: 0.9663 - val_loss: 1.1821 - val_accuracy: 0.8102\n",
      "Epoch 77/100\n",
      "36/36 [==============================] - 1s 21ms/step - loss: 0.0566 - accuracy: 0.9659 - val_loss: 1.1870 - val_accuracy: 0.8108\n",
      "Epoch 78/100\n",
      "36/36 [==============================] - 1s 24ms/step - loss: 0.0534 - accuracy: 0.9663 - val_loss: 1.1953 - val_accuracy: 0.8024\n",
      "Epoch 79/100\n",
      "36/36 [==============================] - 1s 23ms/step - loss: 0.0578 - accuracy: 0.9684 - val_loss: 1.2070 - val_accuracy: 0.8047\n",
      "Epoch 80/100\n",
      "36/36 [==============================] - 1s 24ms/step - loss: 0.0551 - accuracy: 0.9669 - val_loss: 1.1739 - val_accuracy: 0.8108\n",
      "Epoch 81/100\n",
      "36/36 [==============================] - 1s 22ms/step - loss: 0.0526 - accuracy: 0.9690 - val_loss: 1.2083 - val_accuracy: 0.8041\n",
      "Epoch 82/100\n",
      "36/36 [==============================] - 1s 22ms/step - loss: 0.0554 - accuracy: 0.9662 - val_loss: 1.1780 - val_accuracy: 0.8080\n",
      "Epoch 83/100\n",
      "36/36 [==============================] - 1s 21ms/step - loss: 0.0539 - accuracy: 0.9688 - val_loss: 1.2012 - val_accuracy: 0.8041\n",
      "Epoch 84/100\n",
      "36/36 [==============================] - 1s 26ms/step - loss: 0.0562 - accuracy: 0.9651 - val_loss: 1.1761 - val_accuracy: 0.8125\n",
      "Epoch 85/100\n",
      "36/36 [==============================] - 1s 22ms/step - loss: 0.0535 - accuracy: 0.9644 - val_loss: 1.1975 - val_accuracy: 0.8097\n",
      "Epoch 86/100\n",
      "36/36 [==============================] - 1s 22ms/step - loss: 0.0534 - accuracy: 0.9648 - val_loss: 1.1803 - val_accuracy: 0.8091\n",
      "Epoch 87/100\n",
      "36/36 [==============================] - 1s 22ms/step - loss: 0.0533 - accuracy: 0.9669 - val_loss: 1.2037 - val_accuracy: 0.8091\n",
      "Epoch 88/100\n",
      "36/36 [==============================] - 1s 23ms/step - loss: 0.0532 - accuracy: 0.9658 - val_loss: 1.2033 - val_accuracy: 0.8080\n",
      "Epoch 89/100\n",
      "36/36 [==============================] - 1s 23ms/step - loss: 0.0520 - accuracy: 0.9646 - val_loss: 1.1965 - val_accuracy: 0.8080\n",
      "Epoch 90/100\n",
      "36/36 [==============================] - 1s 21ms/step - loss: 0.0535 - accuracy: 0.9667 - val_loss: 1.1997 - val_accuracy: 0.8102\n",
      "Epoch 91/100\n",
      "36/36 [==============================] - 1s 22ms/step - loss: 0.0543 - accuracy: 0.9653 - val_loss: 1.2057 - val_accuracy: 0.8069\n",
      "Epoch 92/100\n",
      "36/36 [==============================] - 1s 24ms/step - loss: 0.0514 - accuracy: 0.9658 - val_loss: 1.2010 - val_accuracy: 0.8091\n",
      "Epoch 93/100\n",
      "36/36 [==============================] - 1s 21ms/step - loss: 0.0547 - accuracy: 0.9646 - val_loss: 1.1899 - val_accuracy: 0.8119\n",
      "Epoch 94/100\n",
      "36/36 [==============================] - 1s 21ms/step - loss: 0.0530 - accuracy: 0.9660 - val_loss: 1.2137 - val_accuracy: 0.8069\n",
      "Epoch 95/100\n",
      "36/36 [==============================] - 1s 22ms/step - loss: 0.0559 - accuracy: 0.9672 - val_loss: 1.2038 - val_accuracy: 0.8091\n",
      "Epoch 96/100\n",
      "36/36 [==============================] - 1s 22ms/step - loss: 0.0537 - accuracy: 0.9666 - val_loss: 1.1950 - val_accuracy: 0.8125\n",
      "Epoch 97/100\n",
      "36/36 [==============================] - 1s 22ms/step - loss: 0.0537 - accuracy: 0.9667 - val_loss: 1.2073 - val_accuracy: 0.8008\n",
      "Epoch 98/100\n",
      "36/36 [==============================] - 1s 21ms/step - loss: 0.0533 - accuracy: 0.9663 - val_loss: 1.2030 - val_accuracy: 0.8069\n",
      "Epoch 99/100\n",
      "36/36 [==============================] - 1s 22ms/step - loss: 0.0538 - accuracy: 0.9666 - val_loss: 1.2155 - val_accuracy: 0.8019\n",
      "Epoch 100/100\n",
      "36/36 [==============================] - 1s 20ms/step - loss: 0.0539 - accuracy: 0.9677 - val_loss: 1.2011 - val_accuracy: 0.8091\n"
     ]
    },
    {
     "data": {
      "text/plain": [
       "<keras.callbacks.History at 0x209a975e790>"
      ]
     },
     "execution_count": 42,
     "metadata": {},
     "output_type": "execute_result"
    }
   ],
   "source": [
    "epochs = 100\n",
    "batch_size = 200\n",
    "model.fit(X_train,\n",
    "          y_train,\n",
    "          epochs=epochs,\n",
    "          batch_size=batch_size,\n",
    "          validation_data=(X_val,y_val))"
   ]
  },
  {
   "cell_type": "code",
   "execution_count": 43,
   "id": "550b06d4-582f-41f0-85a7-879f30c6e29c",
   "metadata": {},
   "outputs": [
    {
     "name": "stdout",
     "output_type": "stream",
     "text": [
      "71/71 [==============================] - 3s 39ms/step - loss: 1.2595 - accuracy: 0.7872\n"
     ]
    },
    {
     "data": {
      "text/plain": [
       "[1.2595428228378296, 0.7871772050857544]"
      ]
     },
     "execution_count": 43,
     "metadata": {},
     "output_type": "execute_result"
    }
   ],
   "source": [
    "model.evaluate(X_test,y_test)"
   ]
  },
  {
   "cell_type": "code",
   "execution_count": 44,
   "id": "5de8e843-795f-4fab-a8a9-0d74aac94e85",
   "metadata": {},
   "outputs": [
    {
     "name": "stdout",
     "output_type": "stream",
     "text": [
      "71/71 [==============================] - 2s 32ms/step - loss: 1.2595 - accuracy: 0.7872\n"
     ]
    },
    {
     "data": {
      "text/plain": [
       "[1.2595428228378296, 0.7871772050857544]"
      ]
     },
     "execution_count": 44,
     "metadata": {},
     "output_type": "execute_result"
    }
   ],
   "source": [
    "model.evaluate(X_test,y_test)"
   ]
  },
  {
   "cell_type": "code",
   "execution_count": 45,
   "id": "dfad1ecb-2f13-44c8-b7d7-5c5d5e3c6307",
   "metadata": {},
   "outputs": [
    {
     "name": "stdout",
     "output_type": "stream",
     "text": [
      "71/71 [==============================] - 2s 35ms/step - loss: 1.2595 - accuracy: 0.7872\n"
     ]
    },
    {
     "data": {
      "text/plain": [
       "[1.2595428228378296, 0.7871772050857544]"
      ]
     },
     "execution_count": 45,
     "metadata": {},
     "output_type": "execute_result"
    }
   ],
   "source": [
    "model.evaluate(X_test,y_test)"
   ]
  },
  {
   "cell_type": "code",
   "execution_count": 46,
   "id": "d17171cc-0f22-4801-bc79-187ce8a2a381",
   "metadata": {},
   "outputs": [
    {
     "name": "stdout",
     "output_type": "stream",
     "text": [
      "71/71 [==============================] - 1s 17ms/step - loss: 1.2595 - accuracy: 0.7872\n"
     ]
    },
    {
     "data": {
      "text/plain": [
       "[1.2595428228378296, 0.7871772050857544]"
      ]
     },
     "execution_count": 46,
     "metadata": {},
     "output_type": "execute_result"
    }
   ],
   "source": [
    "model.evaluate(X_test,y_test)"
   ]
  },
  {
   "cell_type": "code",
   "execution_count": null,
   "id": "a03a91ea-bbe4-45e7-86fd-b9c549a0420d",
   "metadata": {},
   "outputs": [
    {
     "name": "stdout",
     "output_type": "stream",
     "text": [
      "50/71 [====================>.........] - ETA: 0s - loss: 1.2273 - accuracy: 0.7887"
     ]
    }
   ],
   "source": [
    "model.evaluate(X_test,y_test)"
   ]
  },
  {
   "cell_type": "code",
   "execution_count": null,
   "id": "558ee747-505f-42ba-baab-ba2d239cafd9",
   "metadata": {},
   "outputs": [],
   "source": []
  }
 ],
 "metadata": {
  "kernelspec": {
   "display_name": "keras",
   "language": "python",
   "name": "keras"
  },
  "language_info": {
   "codemirror_mode": {
    "name": "ipython",
    "version": 3
   },
   "file_extension": ".py",
   "mimetype": "text/x-python",
   "name": "python",
   "nbconvert_exporter": "python",
   "pygments_lexer": "ipython3",
   "version": "3.8.13"
  }
 },
 "nbformat": 4,
 "nbformat_minor": 5
}
