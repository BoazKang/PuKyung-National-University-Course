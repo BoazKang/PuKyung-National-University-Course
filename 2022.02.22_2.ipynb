{
 "cells": [
  {
   "cell_type": "code",
   "execution_count": 3,
   "id": "c74c586f-897d-4e37-a421-33f42fe3f2f5",
   "metadata": {},
   "outputs": [],
   "source": [
    "from dash import Dash, html, dcc, Input, Output"
   ]
  },
  {
   "cell_type": "code",
   "execution_count": 10,
   "id": "faf27fcb-d35f-472c-9bdf-a4fe8b64cf69",
   "metadata": {},
   "outputs": [],
   "source": [
    "app = Dash()"
   ]
  },
  {
   "cell_type": "code",
   "execution_count": 12,
   "id": "0d131bc1-e6b2-457f-9c44-64147bd0dbf9",
   "metadata": {},
   "outputs": [
    {
     "name": "stdout",
     "output_type": "stream",
     "text": [
      "Dash is running on http://192.168.56.101:5555/\n",
      "\n",
      "Dash is running on http://192.168.56.101:5555/\n",
      "\n",
      "Dash is running on http://192.168.56.101:5555/\n",
      "\n",
      " * Serving Flask app \"__main__\" (lazy loading)\n",
      " * Environment: production\n",
      "\u001b[31m   WARNING: This is a development server. Do not use it in a production deployment.\u001b[0m\n",
      "\u001b[2m   Use a production WSGI server instead.\u001b[0m\n",
      " * Debug mode: off\n"
     ]
    },
    {
     "name": "stderr",
     "output_type": "stream",
     "text": [
      " * Running on http://192.168.56.101:5555/ (Press CTRL+C to quit)\n",
      "192.168.56.1 - - [22/Feb/2022 10:24:07] \"GET / HTTP/1.1\" 200 -\n",
      "192.168.56.1 - - [22/Feb/2022 10:24:07] \"GET /_dash-layout HTTP/1.1\" 200 -\n",
      "192.168.56.1 - - [22/Feb/2022 10:24:07] \"GET /_dash-dependencies HTTP/1.1\" 200 -\n"
     ]
    }
   ],
   "source": [
    "app.layout = html.Div(\n",
    "    [\n",
    "        dcc.Checklist(id='check-list',\n",
    "                     options = ['N_Y_C','MT','S_F'],\n",
    "                     value = ['N_Y_C','MT'],\n",
    "                     inline=True),\n",
    "        html.Div(id='result')\n",
    "    ]\n",
    "\n",
    ")\n",
    "@app.callback(\n",
    "    Output('result','children'),\n",
    "    Input('check-list','value')\n",
    ")\n",
    "\n",
    "def xxx(x):\n",
    "    return html.Div([html.H1(x)])\n",
    "\n",
    "app.run_server(host='192.168.56.101', port=5555)"
   ]
  },
  {
   "cell_type": "code",
   "execution_count": null,
   "id": "02a0504d-5f39-4155-99fc-69e1b2aad209",
   "metadata": {},
   "outputs": [],
   "source": []
  }
 ],
 "metadata": {
  "kernelspec": {
   "display_name": "Python 3 (ipykernel)",
   "language": "python",
   "name": "python3"
  },
  "language_info": {
   "codemirror_mode": {
    "name": "ipython",
    "version": 3
   },
   "file_extension": ".py",
   "mimetype": "text/x-python",
   "name": "python",
   "nbconvert_exporter": "python",
   "pygments_lexer": "ipython3",
   "version": "3.9.7"
  }
 },
 "nbformat": 4,
 "nbformat_minor": 5
}
