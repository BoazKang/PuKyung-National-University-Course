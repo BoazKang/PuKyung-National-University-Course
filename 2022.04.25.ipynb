{
 "cells": [
  {
   "cell_type": "code",
   "execution_count": 496,
   "id": "d2ea4811-7349-4972-b5f7-37bbffd0f617",
   "metadata": {},
   "outputs": [],
   "source": [
    "import numpy as np\n",
    "import pandas as pd"
   ]
  },
  {
   "cell_type": "code",
   "execution_count": 514,
   "id": "523bfb56-b999-418b-81ab-3dab75997d3f",
   "metadata": {},
   "outputs": [],
   "source": [
    "# activation function\n",
    "\n",
    "def sigmoid(x):\n",
    "    return 1 / (1 + np.exp(-x))\n",
    "\n",
    "def softmax(x):\n",
    "    x = x - np.max(x, axis=1).reshape(-1,1)\n",
    "    return np.exp(x) / np.sum(np.exp(x), axis=1).reshape(-1,1)\n",
    "\n",
    "def relu(x):\n",
    "    return np.maximum(0,x)"
   ]
  },
  {
   "cell_type": "code",
   "execution_count": 143,
   "id": "07fff9e9-716d-4efb-92ef-73583cc36c11",
   "metadata": {},
   "outputs": [],
   "source": [
    "# loss function\n",
    "\n",
    "def loss(y,t):\n",
    "    return np.sum(t*np.log(y)) / y.shape[0]\n",
    "\n",
    "def cross_entropy_error(y,t):\n",
    "    return -np.sum(t*np.log(y)) / len(t)"
   ]
  },
  {
   "cell_type": "code",
   "execution_count": 130,
   "id": "f59ff564-e328-40af-9f2a-d5b37036a6a3",
   "metadata": {},
   "outputs": [],
   "source": [
    "# 미분\n",
    "\n",
    "# 해석적 미분\n",
    "def _diff(f,x):\n",
    "    h = 1e-7\n",
    "    fx = f(x)\n",
    "    tmp_val = x\n",
    "    x = tmp_val + h\n",
    "    fxh = f(x)\n",
    "    return (fxh - fx) / h\n",
    "\n",
    "# 수치 미분(비교용으로 작성함)\n",
    "def numerical_gradient(f,x):\n",
    "    h = 1e-4\n",
    "    grad = np.zeros_like(x)\n",
    "    if x.ndim == 2: \n",
    "        for i in range(grad.shape[0]):\n",
    "            for j in range(grad.shape[1]):\n",
    "                fx = f(x[i,j])\n",
    "                tmp_val = x[i,j]\n",
    "                x[i,j] = tmp_val + h\n",
    "                fxh = f(x[i,j])\n",
    "                grad[i,j] = (fxh - fx)/h\n",
    "                x[i,j] = tmp_val\n",
    "        return grad\n",
    "    else:\n",
    "        for i in range(x.size):\n",
    "            tmp_val = x[i]\n",
    "            x[i] = tmp_val + h\n",
    "            fxh1 = f(x[i])\n",
    "            x[i] = tmp_val - h\n",
    "            fxh2 = f(x[i])\n",
    "            grad[i] = (fxh1-fxh2)/2*h\n",
    "            x[i] = tmp_val\n",
    "        return grad"
   ]
  },
  {
   "cell_type": "code",
   "execution_count": 220,
   "id": "8d61f9ce-19f5-4a5a-882f-921e79a25e2e",
   "metadata": {},
   "outputs": [],
   "source": [
    "class Network:\n",
    "    def __init__(self):\n",
    "        self.W = np.random.randn(2,3)\n",
    "        \n",
    "    def predict(self,x):\n",
    "        return np.dot(x,self.W)\n",
    "    \n",
    "    def loss(self,x,t):\n",
    "        z = self.predict(x)\n",
    "        y = softmax(z)\n",
    "        loss = cross_entropy_error(y,t)\n",
    "        return loss"
   ]
  },
  {
   "cell_type": "code",
   "execution_count": 136,
   "id": "7cc53a49-270b-46f5-8b37-b28ea8d812c6",
   "metadata": {},
   "outputs": [],
   "source": [
    "net = Network()"
   ]
  },
  {
   "cell_type": "code",
   "execution_count": 140,
   "id": "ec999efc-04e9-44a7-92ff-bf6ae82cae06",
   "metadata": {},
   "outputs": [],
   "source": [
    "t = np.array([[0.,1.,0.],[1.,0.,0.]])"
   ]
  },
  {
   "cell_type": "code",
   "execution_count": 139,
   "id": "02d31acb-3d65-4e85-b0fc-9131471c669a",
   "metadata": {},
   "outputs": [
    {
     "data": {
      "text/plain": [
       "array([[ 4.70498536, -9.07397197,  1.73768168],\n",
       "       [ 2.80922174, -5.22175969,  1.19868554]])"
      ]
     },
     "execution_count": 139,
     "metadata": {},
     "output_type": "execute_result"
    }
   ],
   "source": [
    "x = np.array([[6.,5.],[4.,3.]])\n",
    "net.predict(x)"
   ]
  },
  {
   "cell_type": "code",
   "execution_count": 144,
   "id": "a3ded0f0-f397-451f-ab24-5cbae4fa03fb",
   "metadata": {},
   "outputs": [
    {
     "data": {
      "text/plain": [
       "7.005765166322093"
      ]
     },
     "execution_count": 144,
     "metadata": {},
     "output_type": "execute_result"
    }
   ],
   "source": [
    "net.loss(x,t)"
   ]
  },
  {
   "cell_type": "code",
   "execution_count": 145,
   "id": "58afdfc7-5fd4-4d2f-a919-16eb7405e5a5",
   "metadata": {},
   "outputs": [],
   "source": [
    "def f(W):\n",
    "    return net.loss(x,t)"
   ]
  },
  {
   "cell_type": "code",
   "execution_count": 146,
   "id": "20aa7e43-50a2-4ab8-96de-5ae01a6e7427",
   "metadata": {},
   "outputs": [
    {
     "data": {
      "text/plain": [
       "array([[ 2.51983941, -2.99945493,  0.47981046],\n",
       "       [ 2.12763532, -2.49959097,  0.37207636]])"
      ]
     },
     "execution_count": 146,
     "metadata": {},
     "output_type": "execute_result"
    }
   ],
   "source": [
    "numerical_gradient(f,net.W)"
   ]
  },
  {
   "cell_type": "code",
   "execution_count": 153,
   "id": "0f766200-b064-425a-a45a-336d9c93598b",
   "metadata": {},
   "outputs": [],
   "source": [
    "epochs = 10000\n",
    "lr = 1e-5\n",
    "for epoch in range(epochs):\n",
    "    net.W = net.W - lr*numerical_gradient(f,net.W)"
   ]
  },
  {
   "cell_type": "code",
   "execution_count": 157,
   "id": "c1e2d51a-d983-474c-bbea-2a85108d836b",
   "metadata": {},
   "outputs": [
    {
     "data": {
      "text/plain": [
       "array([0, 0])"
      ]
     },
     "execution_count": 157,
     "metadata": {},
     "output_type": "execute_result"
    }
   ],
   "source": [
    "np.argmax(net.predict(x), axis=1)"
   ]
  },
  {
   "cell_type": "code",
   "execution_count": 158,
   "id": "52bb3499-240d-4d85-a9bd-35a1908310ef",
   "metadata": {},
   "outputs": [
    {
     "data": {
      "text/plain": [
       "array([1, 0])"
      ]
     },
     "execution_count": 158,
     "metadata": {},
     "output_type": "execute_result"
    }
   ],
   "source": [
    "np.argmax(t, axis=1)"
   ]
  },
  {
   "cell_type": "code",
   "execution_count": 76,
   "id": "fa6c5630-6cdd-4a91-8c85-f881e779ffc2",
   "metadata": {},
   "outputs": [],
   "source": [
    "# t = np.array(['monkey', 'cat', 'dog']) # 실제값 예시"
   ]
  },
  {
   "cell_type": "code",
   "execution_count": 77,
   "id": "86541a68-e893-4442-8cce-f90072218c0d",
   "metadata": {},
   "outputs": [],
   "source": [
    "# t_ohe = np.array(pd.get_dummies(pd.DataFrame(t))) # 원핫 인코더 변환"
   ]
  },
  {
   "cell_type": "code",
   "execution_count": 39,
   "id": "b1b25e78-be92-4171-8833-258299e432d3",
   "metadata": {},
   "outputs": [],
   "source": [
    "t = np.array([[0],[1],[2]]) # 실제값 예시"
   ]
  },
  {
   "cell_type": "code",
   "execution_count": 17,
   "id": "cc0db7b9-d61f-44ab-bb86-d32f75280384",
   "metadata": {},
   "outputs": [
    {
     "data": {
      "text/plain": [
       "(3, 1)"
      ]
     },
     "execution_count": 17,
     "metadata": {},
     "output_type": "execute_result"
    }
   ],
   "source": [
    "t.shape"
   ]
  },
  {
   "cell_type": "code",
   "execution_count": 7,
   "id": "eaba1b7c-01fc-4203-b263-2a1c900417b6",
   "metadata": {},
   "outputs": [],
   "source": [
    "input_x = np.random.randn(3,2) # 입력값 예시"
   ]
  },
  {
   "cell_type": "code",
   "execution_count": 15,
   "id": "503abd8d-7c3b-4f74-b099-ec8d43f76818",
   "metadata": {},
   "outputs": [
    {
     "data": {
      "text/plain": [
       "array([[ 0.76783545,  2.7098248 ],\n",
       "       [ 1.93368309,  0.3786772 ],\n",
       "       [-0.13376303,  0.26833326]])"
      ]
     },
     "execution_count": 15,
     "metadata": {},
     "output_type": "execute_result"
    }
   ],
   "source": [
    "input_x"
   ]
  },
  {
   "cell_type": "code",
   "execution_count": 35,
   "id": "ad16696b-7000-48f3-a0f1-a814b2ffeff2",
   "metadata": {},
   "outputs": [],
   "source": [
    "w = np.random.randn(2,3) # 가중치 예시"
   ]
  },
  {
   "cell_type": "code",
   "execution_count": 73,
   "id": "b59f03c0-494a-491f-843d-55c2e68ddfc8",
   "metadata": {},
   "outputs": [
    {
     "data": {
      "text/plain": [
       "array([[-0.80764507, -1.98999748,  2.72007723],\n",
       "       [ 1.01157372,  0.22734616,  0.73575153],\n",
       "       [-0.20913837, -0.25511312,  0.22849608]])"
      ]
     },
     "execution_count": 73,
     "metadata": {},
     "output_type": "execute_result"
    }
   ],
   "source": [
    "output = np.dot(input_x,w) # 출력값 예시\n",
    "output"
   ]
  },
  {
   "cell_type": "code",
   "execution_count": 74,
   "id": "b4631f29-a20c-4e91-95c2-d741e46e3374",
   "metadata": {},
   "outputs": [
    {
     "data": {
      "text/plain": [
       "array([[1, 0, 0],\n",
       "       [0, 1, 0],\n",
       "       [0, 0, 1]])"
      ]
     },
     "execution_count": 74,
     "metadata": {},
     "output_type": "execute_result"
    }
   ],
   "source": [
    "t = np.array([[1,0,0],[0,1,0],[0,0,1]]) # 실제값 분류를 위한 원핫 예시\n",
    "t"
   ]
  },
  {
   "cell_type": "code",
   "execution_count": 79,
   "id": "1c145e73-82fb-4784-b8b5-a2afe69e8f43",
   "metadata": {},
   "outputs": [
    {
     "data": {
      "text/plain": [
       "(array([[1, 0, 0],\n",
       "        [0, 1, 0],\n",
       "        [0, 0, 1]]),\n",
       " array([[0.02828623, 0.00867133, 0.96304243],\n",
       "        [0.45138168, 0.20604317, 0.34257516],\n",
       "        [0.28537961, 0.27255638, 0.44206401]]))"
      ]
     },
     "execution_count": 79,
     "metadata": {},
     "output_type": "execute_result"
    }
   ],
   "source": [
    "t, softmax(output)"
   ]
  },
  {
   "cell_type": "code",
   "execution_count": 82,
   "id": "65683d04-c479-4c82-8247-d30a980f19c4",
   "metadata": {},
   "outputs": [
    {
     "data": {
      "text/plain": [
       "-1.9871167574195965"
      ]
     },
     "execution_count": 82,
     "metadata": {},
     "output_type": "execute_result"
    }
   ],
   "source": [
    "loss(softmax(output), t) # 손실함수 미분해서 뺴주기"
   ]
  },
  {
   "cell_type": "code",
   "execution_count": 88,
   "id": "82b67326-d9b6-4c0e-a007-35992b8704b0",
   "metadata": {},
   "outputs": [],
   "source": [
    "def f(x):\n",
    "    return np.sum(x**2)"
   ]
  },
  {
   "cell_type": "code",
   "execution_count": 90,
   "id": "ccd51781-7e8d-41b7-8034-415ca3d053ba",
   "metadata": {},
   "outputs": [
    {
     "data": {
      "text/plain": [
       "25"
      ]
     },
     "execution_count": 90,
     "metadata": {},
     "output_type": "execute_result"
    }
   ],
   "source": [
    "f(np.array([3,4]))"
   ]
  },
  {
   "cell_type": "code",
   "execution_count": 94,
   "id": "8aaf8a98-2192-47e1-9de9-31ebc696a483",
   "metadata": {},
   "outputs": [
    {
     "data": {
      "text/plain": [
       "14.000000234659637"
      ]
     },
     "execution_count": 94,
     "metadata": {},
     "output_type": "execute_result"
    }
   ],
   "source": [
    "_diff(f, np.array([3,4]))"
   ]
  },
  {
   "cell_type": "code",
   "execution_count": 96,
   "id": "6363c463-4045-45c7-b3b5-bd3f513cab2c",
   "metadata": {},
   "outputs": [
    {
     "data": {
      "text/plain": [
       "array([2, 0, 2])"
      ]
     },
     "execution_count": 96,
     "metadata": {},
     "output_type": "execute_result"
    }
   ],
   "source": [
    "np.argmax(softmax(output), axis=1)"
   ]
  },
  {
   "cell_type": "code",
   "execution_count": 98,
   "id": "7917250f-7341-4cac-883d-2a0f5c26859c",
   "metadata": {},
   "outputs": [
    {
     "data": {
      "text/plain": [
       "array([0, 1, 2])"
      ]
     },
     "execution_count": 98,
     "metadata": {},
     "output_type": "execute_result"
    }
   ],
   "source": [
    "np.argmax(t, axis=1)"
   ]
  },
  {
   "cell_type": "code",
   "execution_count": 125,
   "id": "cf5c3353-3368-48bc-9edc-5e70a2856552",
   "metadata": {},
   "outputs": [],
   "source": [
    "x = np.array([[1.,2.,3.],[2.,3.,7.]])"
   ]
  },
  {
   "cell_type": "code",
   "execution_count": 129,
   "id": "a17ef830-524a-4ac3-8416-58e142a86f4f",
   "metadata": {},
   "outputs": [],
   "source": [
    "grad = np.zeros_like(x)"
   ]
  },
  {
   "cell_type": "code",
   "execution_count": 131,
   "id": "eb4e9cd5-1509-42be-bf6d-23c76247ab24",
   "metadata": {},
   "outputs": [
    {
     "data": {
      "text/plain": [
       "array([[ 2.0003,  4.0001,  6.0001],\n",
       "       [ 4.0001,  6.0001, 14.0001]])"
      ]
     },
     "execution_count": 131,
     "metadata": {},
     "output_type": "execute_result"
    }
   ],
   "source": [
    "f = lambda x : x**2\n",
    "numerical_gradient(f,x)"
   ]
  },
  {
   "cell_type": "code",
   "execution_count": 159,
   "id": "a736af60-5d45-4049-89a4-d579d9823f4d",
   "metadata": {},
   "outputs": [
    {
     "data": {
      "text/plain": [
       "-5.492216087878378"
      ]
     },
     "execution_count": 159,
     "metadata": {},
     "output_type": "execute_result"
    }
   ],
   "source": [
    "loss(softmax(np.dot(x,w)), t)"
   ]
  },
  {
   "cell_type": "code",
   "execution_count": 132,
   "id": "2d04fb6f-17b1-42ee-bd9b-c3b1035d6349",
   "metadata": {},
   "outputs": [
    {
     "data": {
      "text/plain": [
       "array([2.e-08, 4.e-08, 6.e-08])"
      ]
     },
     "execution_count": 132,
     "metadata": {},
     "output_type": "execute_result"
    }
   ],
   "source": [
    "x = np.array([1.,2.,3.])\n",
    "loss_func = cross_entropy_error(y,t)\n",
    "numerical_gradient(,x)"
   ]
  },
  {
   "cell_type": "code",
   "execution_count": 236,
   "id": "013d424e-b4a2-4d17-9484-aa2c404234ec",
   "metadata": {},
   "outputs": [],
   "source": [
    "class Network2:\n",
    "    def __init__(self):\n",
    "        self.W = np.random.randn(2,2)\n",
    "        self.b = np.random.randn(2)\n",
    "        self.layer = {}\n",
    "        self.layer['W'] = self.W\n",
    "        self.layer['b'] = self.b\n",
    "        \n",
    "    def predict(self,x):\n",
    "        W = self.layer['W']\n",
    "        b = self.layer['b']\n",
    "        return np.dot(x,W) + b\n",
    "    \n",
    "    def loss(self,x,t):\n",
    "        z = self.predict(x)\n",
    "        y = softmax(z)\n",
    "        loss = cross_entropy_error(y,t)\n",
    "        return loss"
   ]
  },
  {
   "cell_type": "code",
   "execution_count": 237,
   "id": "5a1bfa86-34dc-442f-b82f-25d3d997466b",
   "metadata": {},
   "outputs": [],
   "source": [
    "net2 = Network2()"
   ]
  },
  {
   "cell_type": "code",
   "execution_count": 238,
   "id": "6c3f9aad-f12d-466b-a16d-ba70149bef61",
   "metadata": {},
   "outputs": [
    {
     "data": {
      "text/plain": [
       "(array([[-1.01030464, -0.48548217],\n",
       "        [ 0.10772369,  1.070711  ]]),\n",
       " array([-0.49011797, -1.57497785]))"
      ]
     },
     "execution_count": 238,
     "metadata": {},
     "output_type": "execute_result"
    }
   ],
   "source": [
    "net2.W, net2.b"
   ]
  },
  {
   "cell_type": "code",
   "execution_count": 239,
   "id": "9e2bb02c-9312-4373-a395-bad7b3d38816",
   "metadata": {},
   "outputs": [],
   "source": [
    "X = np.array([[0,0], [1,0], [0,1], [1,1]])\n",
    "t = np.array([[1,0], [1,0], [1,0], [0,1]])"
   ]
  },
  {
   "cell_type": "code",
   "execution_count": 240,
   "id": "626ba398-0e96-4d63-a87c-33555e9c29ba",
   "metadata": {},
   "outputs": [],
   "source": [
    "def f(W):\n",
    "    return net2.loss(x,t)"
   ]
  },
  {
   "cell_type": "code",
   "execution_count": 245,
   "id": "cea4b3fd-0660-4c20-874f-4f2691719e3c",
   "metadata": {
    "collapsed": true,
    "jupyter": {
     "outputs_hidden": true
    },
    "tags": []
   },
   "outputs": [
    {
     "ename": "TypeError",
     "evalue": "unsupported operand type(s) for +: 'dict' and 'float'",
     "output_type": "error",
     "traceback": [
      "\u001b[0;31m---------------------------------------------------------------------------\u001b[0m",
      "\u001b[0;31mTypeError\u001b[0m                                 Traceback (most recent call last)",
      "\u001b[0;32m/tmp/ipykernel_1940/1513456393.py\u001b[0m in \u001b[0;36m<module>\u001b[0;34m\u001b[0m\n\u001b[1;32m      2\u001b[0m \u001b[0mlr\u001b[0m \u001b[0;34m=\u001b[0m \u001b[0;36m1e-5\u001b[0m\u001b[0;34m\u001b[0m\u001b[0;34m\u001b[0m\u001b[0m\n\u001b[1;32m      3\u001b[0m \u001b[0;32mfor\u001b[0m \u001b[0mepoch\u001b[0m \u001b[0;32min\u001b[0m \u001b[0mrange\u001b[0m\u001b[0;34m(\u001b[0m\u001b[0mepochs\u001b[0m\u001b[0;34m)\u001b[0m\u001b[0;34m:\u001b[0m\u001b[0;34m\u001b[0m\u001b[0;34m\u001b[0m\u001b[0m\n\u001b[0;32m----> 4\u001b[0;31m     \u001b[0mnet2\u001b[0m\u001b[0;34m.\u001b[0m\u001b[0mW\u001b[0m \u001b[0;34m=\u001b[0m \u001b[0mnet2\u001b[0m\u001b[0;34m.\u001b[0m\u001b[0mW\u001b[0m \u001b[0;34m-\u001b[0m \u001b[0mlr\u001b[0m\u001b[0;34m*\u001b[0m\u001b[0m_diff\u001b[0m\u001b[0;34m(\u001b[0m\u001b[0mf\u001b[0m\u001b[0;34m,\u001b[0m\u001b[0mnet2\u001b[0m\u001b[0;34m.\u001b[0m\u001b[0mlayer\u001b[0m\u001b[0;34m)\u001b[0m\u001b[0;34m\u001b[0m\u001b[0;34m\u001b[0m\u001b[0m\n\u001b[0m",
      "\u001b[0;32m/tmp/ipykernel_1940/1788472832.py\u001b[0m in \u001b[0;36m_diff\u001b[0;34m(f, x)\u001b[0m\n\u001b[1;32m      6\u001b[0m     \u001b[0mfx\u001b[0m \u001b[0;34m=\u001b[0m \u001b[0mf\u001b[0m\u001b[0;34m(\u001b[0m\u001b[0mx\u001b[0m\u001b[0;34m)\u001b[0m\u001b[0;34m\u001b[0m\u001b[0;34m\u001b[0m\u001b[0m\n\u001b[1;32m      7\u001b[0m     \u001b[0mtmp_val\u001b[0m \u001b[0;34m=\u001b[0m \u001b[0mx\u001b[0m\u001b[0;34m\u001b[0m\u001b[0;34m\u001b[0m\u001b[0m\n\u001b[0;32m----> 8\u001b[0;31m     \u001b[0mx\u001b[0m \u001b[0;34m=\u001b[0m \u001b[0mtmp_val\u001b[0m \u001b[0;34m+\u001b[0m \u001b[0mh\u001b[0m\u001b[0;34m\u001b[0m\u001b[0;34m\u001b[0m\u001b[0m\n\u001b[0m\u001b[1;32m      9\u001b[0m     \u001b[0mfxh\u001b[0m \u001b[0;34m=\u001b[0m \u001b[0mf\u001b[0m\u001b[0;34m(\u001b[0m\u001b[0mx\u001b[0m\u001b[0;34m)\u001b[0m\u001b[0;34m\u001b[0m\u001b[0;34m\u001b[0m\u001b[0m\n\u001b[1;32m     10\u001b[0m     \u001b[0;32mreturn\u001b[0m \u001b[0;34m(\u001b[0m\u001b[0mfxh\u001b[0m \u001b[0;34m-\u001b[0m \u001b[0mfx\u001b[0m\u001b[0;34m)\u001b[0m \u001b[0;34m/\u001b[0m \u001b[0mh\u001b[0m\u001b[0;34m\u001b[0m\u001b[0;34m\u001b[0m\u001b[0m\n",
      "\u001b[0;31mTypeError\u001b[0m: unsupported operand type(s) for +: 'dict' and 'float'"
     ]
    }
   ],
   "source": [
    "epochs = 10000\n",
    "lr = 1e-5\n",
    "for epoch in range(epochs):\n",
    "    net2.W = net2.W - lr*_diff(f,net2.layer)"
   ]
  },
  {
   "cell_type": "code",
   "execution_count": 242,
   "id": "2b8122d5-7c31-4e68-a953-af2ef1c25c69",
   "metadata": {},
   "outputs": [
    {
     "data": {
      "text/plain": [
       "array([0, 0, 0, 1])"
      ]
     },
     "execution_count": 242,
     "metadata": {},
     "output_type": "execute_result"
    }
   ],
   "source": [
    "np.argmax(net2.predict(X), axis=1)"
   ]
  },
  {
   "cell_type": "code",
   "execution_count": 243,
   "id": "df9edefa-4455-4437-aa47-9dd1268707ca",
   "metadata": {},
   "outputs": [
    {
     "data": {
      "text/plain": [
       "array([0, 0, 0, 1])"
      ]
     },
     "execution_count": 243,
     "metadata": {},
     "output_type": "execute_result"
    }
   ],
   "source": [
    "np.argmax(t, axis=1)"
   ]
  },
  {
   "cell_type": "code",
   "execution_count": null,
   "id": "24c10a4a-4c27-473d-83ee-37e6c08d03a0",
   "metadata": {},
   "outputs": [],
   "source": [
    "## 아이리스 데이터로 "
   ]
  },
  {
   "cell_type": "code",
   "execution_count": 497,
   "id": "dbe5a673-1124-4521-b742-59b8268fb38b",
   "metadata": {},
   "outputs": [],
   "source": [
    "import matplotlib.pyplot as plt\n",
    "from sklearn.datasets import load_iris\n",
    "from sklearn.model_selection import train_test_split"
   ]
  },
  {
   "cell_type": "code",
   "execution_count": 508,
   "id": "f0d2963a-ec7e-4395-a902-6e9b3252a278",
   "metadata": {},
   "outputs": [],
   "source": [
    "class TwoLayerNet:\n",
    "    def __init__(self,input_size,hidden_size,output_size):\n",
    "        self.W = {}\n",
    "        self.W['W1'] = np.random.randn(input_size,hidden_size)\n",
    "        self.W['b1'] = np.random.randn(hidden_size)\n",
    "        self.W['W2'] = np.random.randn(hidden_size, output_size)\n",
    "        self.W['b2'] = np.random.randn(output_size)\n",
    "        self.loss_val = []\n",
    "    \n",
    "    def predict(self,x):\n",
    "        W1 = self.W['W1']\n",
    "        W2 = self.W['W2']\n",
    "        b1 = self.W['b1']\n",
    "        b2 = self.W['b2']\n",
    "        \n",
    "        a1 = np.dot(x,W1) + b1 # 출력값\n",
    "        z1 = relu(a1)\n",
    "        a2 = np.dot(z1,W2) + b2\n",
    "        out = softmax(a2)        \n",
    "        return out\n",
    "    \n",
    "    def loss(self,x,t):\n",
    "        y = self.predict(x)\n",
    "        loss = cross_entropy_error(y,t)\n",
    "        return loss\n",
    "\n",
    "    def numerical_gradient(self,x,t):\n",
    "        f = lambda W : self.loss(x,t)\n",
    "        grads = {}\n",
    "        grads['W1'] = numerical_gradient(f, self.W['W1']) # 밖에서 만든 numerical_gradient함수\n",
    "        grads['b1'] = numerical_gradient(f, self.W['b1'])\n",
    "        grads['W2'] = numerical_gradient(f, self.W['W2'])\n",
    "        grads['b2'] = numerical_gradient(f, self.W['b2'])\n",
    "        return grads\n",
    "    \n",
    "    # def gradient_descent(self,epochs):\n",
    "    \n",
    "    def accuracy(self,x,t):\n",
    "        y = self.predict(x)\n",
    "        y = np.argmax(y, axis=1)\n",
    "        t = np.argmax(t, axis=1)\n",
    "        acc = sum(y == t)/x.shape[0]\n",
    "        return acc\n",
    "    \n",
    "    def train(self,epochs,learning_rate,x,t):\n",
    "        for epoch in range(epochs):\n",
    "            grads = self.numerical_gradient(x,t)\n",
    "            for key in grads.keys():\n",
    "                self.W[key] -= learning_rate*grads[key]\n",
    "            # print(f'epoch:{epoch}, accuracy:{self.accuracy(x,t)}, loss:{self.loss(x,t)}')\n",
    "            self.loss_val.append(self.loss(x,t))"
   ]
  },
  {
   "cell_type": "code",
   "execution_count": 510,
   "id": "133af981-ecef-4604-989f-133a36ba3f52",
   "metadata": {},
   "outputs": [],
   "source": [
    "X = load_iris()['data']\n",
    "y = load_iris()['target']\n",
    "X_train, X_test, y_train, y_test = train_test_split(X,y,test_size=0.2)\n",
    "\n",
    "t_train = np.zeros((y_train.size,np.unique(y_train).size))\n",
    "for i in range(len(t_train)):\n",
    "    t_train[i,y_train[i]]=1\n",
    "    \n",
    "t_test = np.zeros((y_test.size,np.unique(y_test).size))\n",
    "for i in range(len(t_test)):\n",
    "    t_test[i,y_test[i]]=1\n",
    "    \n",
    "input_size = X_train.shape[1]\n",
    "hidden_size = 10\n",
    "output_size = t_train.shape[1]\n",
    "model = TwoLayerNet(input_size,hidden_size,output_size)"
   ]
  },
  {
   "cell_type": "code",
   "execution_count": 511,
   "id": "ada19908-c0aa-4437-9b47-2c42de3c1671",
   "metadata": {
    "tags": []
   },
   "outputs": [],
   "source": [
    "model.train(10000,1e-3,X_train,t_train)"
   ]
  },
  {
   "cell_type": "code",
   "execution_count": 512,
   "id": "2d7ec733-2525-4131-a101-0a72cb47c106",
   "metadata": {},
   "outputs": [
    {
     "data": {
      "text/plain": [
       "0.9666666666666667"
      ]
     },
     "execution_count": 512,
     "metadata": {},
     "output_type": "execute_result"
    }
   ],
   "source": [
    "model.accuracy(X_test,t_test)"
   ]
  },
  {
   "cell_type": "code",
   "execution_count": 513,
   "id": "fb0ddbc2-762d-48bd-af53-ba57e7199929",
   "metadata": {
    "tags": []
   },
   "outputs": [
    {
     "data": {
      "text/plain": [
       "[<matplotlib.lines.Line2D at 0x7f1036379550>]"
      ]
     },
     "execution_count": 513,
     "metadata": {},
     "output_type": "execute_result"
    },
    {
     "data": {
      "image/png": "[encoded data removed]",
      "text/plain": [
       "<Figure size 432x288 with 1 Axes>"
      ]
     },
     "metadata": {
      "needs_background": "light"
     },
     "output_type": "display_data"
    }
   ],
   "source": [
    "plt.plot(np.arange(len(model.loss_val)), model.loss_val)"
   ]
  },
  {
   "cell_type": "code",
   "execution_count": 489,
   "id": "9dec53c3-847c-4597-a48b-251aecc130e4",
   "metadata": {},
   "outputs": [
    {
     "data": {
      "text/plain": [
       "91898"
      ]
     },
     "execution_count": 489,
     "metadata": {},
     "output_type": "execute_result"
    }
   ],
   "source": [
    "len(model.loss_val)"
   ]
  },
  {
   "cell_type": "code",
   "execution_count": 412,
   "id": "61db1122-d729-4ef2-9914-8fe0ec4f25af",
   "metadata": {
    "tags": []
   },
   "outputs": [],
   "source": [
    "lr = 0.0001\n",
    "epochs = 100\n",
    "for epoch in range(epochs):\n",
    "    grads = model.numerical_gradient(X,t)\n",
    "    W1, W2 = model.numerical_gradient(X,t)['W1'], model.numerical_gradient(X,t)['W2']\n",
    "    b1, b2 = model.numerical_gradient(X,t)['b1'], model.numerical_gradient(X,t)['b2']\n",
    "    model.W['W1'] -= lr*W1\n",
    "    model.W['W2'] -= lr*W2\n",
    "    model.W['b1'] -= lr*b1\n",
    "    model.W['b2'] -= lr*b2"
   ]
  },
  {
   "cell_type": "code",
   "execution_count": 452,
   "id": "20deaeee-281a-4983-b0e0-a79779172bf6",
   "metadata": {},
   "outputs": [],
   "source": [
    "def train(epochs,learning_rate,x,t):\n",
    "    _loss = []\n",
    "    for epoch in range(epochs):\n",
    "        grads = model.numerical_gradient(x,t)\n",
    "        for key in grads.keys():\n",
    "            model.W[key] -= learning_rate*grads[key]\n",
    "        print('epoch: ',epoch,', ', model.accuracy)\n",
    "    _loss.append(model.loss(x,t))"
   ]
  },
  {
   "cell_type": "code",
   "execution_count": 437,
   "id": "72136192-4df1-4e64-bc36-105988e53790",
   "metadata": {
    "tags": []
   },
   "outputs": [],
   "source": [
    "train(100000,1e-3,X,t)"
   ]
  },
  {
   "cell_type": "code",
   "execution_count": 382,
   "id": "fb5ce33e-3e62-4c42-baca-2c0008abef60",
   "metadata": {},
   "outputs": [
    {
     "data": {
      "text/plain": [
       "array([[ 2.37047522, -0.01605595, -0.63061755, -0.55999973, -0.95767395,\n",
       "        -0.93954948,  0.98185956,  0.97651817,  0.83610965,  0.90341163],\n",
       "       [ 1.07552276,  1.12262237,  0.51068921, -0.71514703,  0.02502264,\n",
       "        -1.29770715, -0.37851101, -1.19861286,  2.47489194,  0.8208217 ],\n",
       "       [-0.26325085,  1.49603209,  0.92995654,  1.92150944, -0.73383483,\n",
       "        -0.90123629,  0.59557198, -0.58508205, -0.88116782, -1.61666087],\n",
       "       [-2.52819535, -0.43460632,  2.31572323,  1.26682909,  0.23796036,\n",
       "        -0.46490806,  0.40098569,  1.80681689,  0.1964086 , -1.72380565]])"
      ]
     },
     "execution_count": 382,
     "metadata": {},
     "output_type": "execute_result"
    }
   ],
   "source": [
    "model.W['W1']"
   ]
  },
  {
   "cell_type": "code",
   "execution_count": 375,
   "id": "aeaa6081-bf53-401b-8c39-39d7b7d8a41e",
   "metadata": {
    "collapsed": true,
    "jupyter": {
     "outputs_hidden": true
    },
    "tags": []
   },
   "outputs": [
    {
     "data": {
      "text/plain": [
       "{'W1': array([[ 1.08686194e-03,  2.89285915e-04,  5.03890107e-05,\n",
       "          3.10037689e-04, -8.98677361e-02, -2.58639641e-01,\n",
       "         -3.36324484e-03, -4.64041344e-03, -5.57538007e-04,\n",
       "         -1.46094044e-01],\n",
       "        [ 7.44932520e-04,  2.93915698e-04,  3.67875175e-05,\n",
       "          1.19919427e-03, -3.97370756e-02, -2.19938247e-01,\n",
       "         -1.54401069e-03, -3.35126769e-03, -4.13105963e-04,\n",
       "         -2.07158945e-01],\n",
       "        [ 3.00135339e-04,  9.48103978e-04,  5.12304643e-06,\n",
       "         -2.87443193e-03, -8.03324364e-02,  1.05917375e-02,\n",
       "         -3.21983432e-03, -1.08831397e-03, -5.23453103e-05,\n",
       "          2.09781786e-01],\n",
       "        [ 4.95805086e-05,  6.16962050e-04, -1.46355150e-06,\n",
       "         -1.43170613e-03, -3.03313359e-02,  2.32550519e-02,\n",
       "         -1.33075833e-03, -1.47534809e-04,  3.05881609e-05,\n",
       "          1.08461981e-01]]),\n",
       " 'b1': array([ 2.23891496e-12, -8.66419658e-13,  1.12986831e-13,  3.44934940e-12,\n",
       "        -1.32954107e-10, -5.78342986e-10, -5.19138349e-12, -9.59040367e-12,\n",
       "        -1.24012595e-12, -5.01123848e-10]),\n",
       " 'W2': array([[-1.25680559e-01,  1.52147724e-01, -2.64361520e-02],\n",
       "        [-3.31840412e-03,  1.69561516e-03,  1.62279459e-03],\n",
       "        [-1.25797525e-01,  1.52217438e-01, -2.63888926e-02],\n",
       "        [-2.71429173e-01,  1.44878767e-01,  1.26560522e-01],\n",
       "        [-1.54642283e-01,  1.35131533e-01,  1.95346942e-02],\n",
       "        [-2.29480507e-02,  8.85449991e-02, -6.55834672e-02],\n",
       "        [ 2.29604302e-04,  9.49603995e-05, -3.24564586e-04],\n",
       "        [-2.67984144e-03,  1.50563165e-03,  1.17421093e-03],\n",
       "        [-3.18587225e-04,  1.72465588e-04,  1.46121670e-04],\n",
       "        [-9.15560674e-02,  1.09847981e-01, -1.82798241e-02]]),\n",
       " 'b2': array([-1.25816918e-09,  1.52209703e-09, -2.63927850e-10])}"
      ]
     },
     "execution_count": 375,
     "metadata": {},
     "output_type": "execute_result"
    }
   ],
   "source": [
    "model.numerical_gradient(X,t)"
   ]
  },
  {
   "cell_type": "code",
   "execution_count": 449,
   "id": "069cb77e-31a3-4d98-b61b-ffd4418ca004",
   "metadata": {},
   "outputs": [
    {
     "data": {
      "text/plain": [
       "array([0, 0, 0, 0, 0, 0, 0, 0, 0, 0, 0, 0, 0, 0, 0, 0, 0, 0, 0, 0, 0, 0,\n",
       "       0, 0, 0, 0, 0, 0, 0, 0, 0, 0, 0, 0, 0, 0, 0, 0, 0, 0, 0, 0, 0, 0,\n",
       "       0, 0, 0, 0, 0, 0, 1, 1, 1, 1, 1, 1, 1, 1, 1, 1, 1, 1, 1, 1, 1, 1,\n",
       "       1, 1, 2, 1, 2, 1, 2, 1, 1, 1, 1, 1, 1, 1, 1, 1, 1, 2, 1, 1, 1, 1,\n",
       "       1, 1, 1, 1, 1, 1, 1, 1, 1, 1, 1, 1, 2, 2, 2, 2, 2, 2, 2, 2, 2, 2,\n",
       "       2, 2, 2, 2, 2, 2, 2, 2, 2, 2, 2, 2, 2, 2, 2, 2, 2, 2, 2, 2, 2, 1,\n",
       "       2, 2, 2, 2, 2, 2, 2, 2, 2, 2, 2, 2, 2, 2, 2, 2, 2, 2])"
      ]
     },
     "execution_count": 449,
     "metadata": {},
     "output_type": "execute_result"
    }
   ],
   "source": [
    "np.argmax(model.predict(X), axis=1)"
   ]
  },
  {
   "cell_type": "code",
   "execution_count": 450,
   "id": "b83420ee-d762-4ee8-b384-1856ea0fad63",
   "metadata": {},
   "outputs": [
    {
     "data": {
      "text/plain": [
       "array([0, 0, 0, 0, 0, 0, 0, 0, 0, 0, 0, 0, 0, 0, 0, 0, 0, 0, 0, 0, 0, 0,\n",
       "       0, 0, 0, 0, 0, 0, 0, 0, 0, 0, 0, 0, 0, 0, 0, 0, 0, 0, 0, 0, 0, 0,\n",
       "       0, 0, 0, 0, 0, 0, 1, 1, 1, 1, 1, 1, 1, 1, 1, 1, 1, 1, 1, 1, 1, 1,\n",
       "       1, 1, 1, 1, 1, 1, 1, 1, 1, 1, 1, 1, 1, 1, 1, 1, 1, 1, 1, 1, 1, 1,\n",
       "       1, 1, 1, 1, 1, 1, 1, 1, 1, 1, 1, 1, 2, 2, 2, 2, 2, 2, 2, 2, 2, 2,\n",
       "       2, 2, 2, 2, 2, 2, 2, 2, 2, 2, 2, 2, 2, 2, 2, 2, 2, 2, 2, 2, 2, 2,\n",
       "       2, 2, 2, 2, 2, 2, 2, 2, 2, 2, 2, 2, 2, 2, 2, 2, 2, 2])"
      ]
     },
     "execution_count": 450,
     "metadata": {},
     "output_type": "execute_result"
    }
   ],
   "source": [
    "np.argmax(t, axis=1)"
   ]
  },
  {
   "cell_type": "code",
   "execution_count": 453,
   "id": "bc91aad4-ac11-45f6-bdfb-da65863d390c",
   "metadata": {},
   "outputs": [
    {
     "data": {
      "text/plain": [
       "0.32222222222222224"
      ]
     },
     "execution_count": 453,
     "metadata": {},
     "output_type": "execute_result"
    }
   ],
   "source": [
    "sum(np.argmax(model.predict(X), axis=1) == np.argmax(t, axis=1))/t.size"
   ]
  },
  {
   "cell_type": "code",
   "execution_count": 454,
   "id": "a19d721c-4d2c-45c9-8967-718046f87e8e",
   "metadata": {},
   "outputs": [
    {
     "data": {
      "text/plain": [
       "0.9666666666666667"
      ]
     },
     "execution_count": 454,
     "metadata": {},
     "output_type": "execute_result"
    }
   ],
   "source": [
    "model.accuracy(X,t)"
   ]
  },
  {
   "cell_type": "code",
   "execution_count": null,
   "id": "f4b22fb9-70e5-4e11-a58c-0878a1469d04",
   "metadata": {},
   "outputs": [],
   "source": []
  }
 ],
 "metadata": {
  "kernelspec": {
   "display_name": "Python 3 (ipykernel)",
   "language": "python",
   "name": "python3"
  },
  "language_info": {
   "codemirror_mode": {
    "name": "ipython",
    "version": 3
   },
   "file_extension": ".py",
   "mimetype": "text/x-python",
   "name": "python",
   "nbconvert_exporter": "python",
   "pygments_lexer": "ipython3",
   "version": "3.9.7"
  }
 },
 "nbformat": 4,
 "nbformat_minor": 5
}
