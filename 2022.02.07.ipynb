{
 "cells": [
  {
   "cell_type": "code",
   "execution_count": 3,
   "id": "deea09f0-eea2-4afb-aaae-b897c427a5f4",
   "metadata": {},
   "outputs": [
    {
     "data": {
      "text/plain": [
       "[0, 1, 2, 3, 4, 5, 6, 7, 8, 9]"
      ]
     },
     "execution_count": 3,
     "metadata": {},
     "output_type": "execute_result"
    }
   ],
   "source": [
    "list(range(10))"
   ]
  },
  {
   "cell_type": "code",
   "execution_count": 5,
   "id": "a89a396d-4a83-4cf7-bcdd-6f6e51f41c05",
   "metadata": {},
   "outputs": [
    {
     "data": {
      "text/plain": [
       "[1, 2, 3, 4, 5, 6, 7, 8, 9]"
      ]
     },
     "execution_count": 5,
     "metadata": {},
     "output_type": "execute_result"
    }
   ],
   "source": [
    "list(range(1,10))"
   ]
  },
  {
   "cell_type": "code",
   "execution_count": 7,
   "id": "edd83ac8-41a3-42a2-adc0-336e2fb68b04",
   "metadata": {},
   "outputs": [
    {
     "data": {
      "text/plain": [
       "[1, 3, 5, 7, 9]"
      ]
     },
     "execution_count": 7,
     "metadata": {},
     "output_type": "execute_result"
    }
   ],
   "source": [
    "list(range(1,10,2))"
   ]
  },
  {
   "cell_type": "code",
   "execution_count": 8,
   "id": "3ad1234b-caed-42c1-86bc-3cf8aadc919f",
   "metadata": {},
   "outputs": [
    {
     "data": {
      "text/plain": [
       "[1, 3, 5, 7, 9]"
      ]
     },
     "execution_count": 8,
     "metadata": {},
     "output_type": "execute_result"
    }
   ],
   "source": [
    "list(range(1,11,2))"
   ]
  },
  {
   "cell_type": "code",
   "execution_count": 13,
   "id": "82aa282c-14bf-466b-9e8a-9e3cca76ceaf",
   "metadata": {},
   "outputs": [
    {
     "data": {
      "text/plain": [
       "[0, 1, 2, 3, 4]"
      ]
     },
     "execution_count": 13,
     "metadata": {},
     "output_type": "execute_result"
    }
   ],
   "source": [
    "list(range(0,int(10/2))) # \"/\"를 하면 자동으로 float으로 바꿈 (5.0), int를 붙이면 그대로 사용가능"
   ]
  },
  {
   "cell_type": "code",
   "execution_count": 16,
   "id": "414d59b1-ff2a-4506-91a9-34b8de53b55c",
   "metadata": {},
   "outputs": [
    {
     "data": {
      "text/plain": [
       "[0, 1, 2, 3, 4]"
      ]
     },
     "execution_count": 16,
     "metadata": {},
     "output_type": "execute_result"
    }
   ],
   "source": [
    "list(range(0,int(20/4)))"
   ]
  },
  {
   "cell_type": "code",
   "execution_count": 17,
   "id": "8f08436e-4311-42ed-987a-233cbc43d76b",
   "metadata": {},
   "outputs": [
    {
     "data": {
      "text/plain": [
       "[0, 1, 2, 3, 4]"
      ]
     },
     "execution_count": 17,
     "metadata": {},
     "output_type": "execute_result"
    }
   ],
   "source": [
    "list(range(0,20//4))"
   ]
  },
  {
   "cell_type": "code",
   "execution_count": 19,
   "id": "03f842ec-852c-4447-b379-dff0775edb5a",
   "metadata": {},
   "outputs": [
    {
     "name": "stdout",
     "output_type": "stream",
     "text": [
      "0 = 반복 변수\n",
      "1 = 반복 변수\n",
      "2 = 반복 변수\n",
      "3 = 반복 변수\n",
      "4 = 반복 변수\n"
     ]
    }
   ],
   "source": [
    "for i in range(5):\n",
    "    print(str(i) + \" = 반복 변수\") # i를 문자열로 안 바꾸면 결합이 안 됨"
   ]
  },
  {
   "cell_type": "code",
   "execution_count": 20,
   "id": "40b63440-57b3-4a1d-acb2-9cb6f1a4c4ea",
   "metadata": {},
   "outputs": [
    {
     "name": "stdout",
     "output_type": "stream",
     "text": [
      "1 = 반복 변수\n",
      "3 = 반복 변수\n",
      "4 = 반복 변수\n",
      "2 = 반복 변수\n",
      "0 = 반복 변수\n"
     ]
    }
   ],
   "source": [
    "for i in [1,3,4,2,0]:\n",
    "    print(str(i) + \" = 반복 변수\")"
   ]
  },
  {
   "cell_type": "code",
   "execution_count": 21,
   "id": "1a4e5bc7-f020-42a6-9c8b-d1fdd719aa8a",
   "metadata": {},
   "outputs": [
    {
     "name": "stdout",
     "output_type": "stream",
     "text": [
      "5 = 반복 변수\n",
      "6 = 반복 변수\n",
      "7 = 반복 변수\n",
      "8 = 반복 변수\n",
      "9 = 반복 변수\n"
     ]
    }
   ],
   "source": [
    "for i in range(5,10):\n",
    "    print(str(i) + \" = 반복 변수\")"
   ]
  },
  {
   "cell_type": "code",
   "execution_count": 23,
   "id": "7775a03d-d606-45b4-ab47-84b61975e03e",
   "metadata": {},
   "outputs": [
    {
     "name": "stdout",
     "output_type": "stream",
     "text": [
      "0 = 반복 변수\n",
      "3 = 반복 변수\n",
      "6 = 반복 변수\n",
      "9 = 반복 변수\n"
     ]
    }
   ],
   "source": [
    "for i in range(0,10,3):\n",
    "    print(str(i) + \" = 반복 변수\")"
   ]
  },
  {
   "cell_type": "code",
   "execution_count": 33,
   "id": "89de5ac9-c7ac-4537-bf1a-e22afa0f12fb",
   "metadata": {},
   "outputs": [],
   "source": [
    "array = [272, 32, 103, 57, 52]"
   ]
  },
  {
   "cell_type": "code",
   "execution_count": 34,
   "id": "9c86248b-b203-498d-9303-1a49f02f7e60",
   "metadata": {},
   "outputs": [
    {
     "name": "stdout",
     "output_type": "stream",
     "text": [
      "0번째 반복: 273\n"
     ]
    }
   ],
   "source": [
    "i = 0\n",
    "number = 273\n",
    "print(str(i)+\"번째 반복: \"+str(number))"
   ]
  },
  {
   "cell_type": "code",
   "execution_count": 35,
   "id": "14a82bcb-7e4c-4dd9-ae5d-9e8331f025cd",
   "metadata": {},
   "outputs": [
    {
     "name": "stdout",
     "output_type": "stream",
     "text": [
      "0번째 반복: 272\n"
     ]
    }
   ],
   "source": [
    "i = 0\n",
    "print(str(i) + \"번째 반복: \" + str(array[i]))"
   ]
  },
  {
   "cell_type": "code",
   "execution_count": 36,
   "id": "af925045-28d1-40ff-bbba-7ef72d8d26ab",
   "metadata": {},
   "outputs": [
    {
     "name": "stdout",
     "output_type": "stream",
     "text": [
      "1번째 반복: 32\n"
     ]
    }
   ],
   "source": [
    "i = 1\n",
    "print(str(i) + \"번째 반복: \" + str(array[i]))"
   ]
  },
  {
   "cell_type": "code",
   "execution_count": 38,
   "id": "7db738dc-fd26-47bf-b05d-cf92d48149e0",
   "metadata": {},
   "outputs": [
    {
     "name": "stdout",
     "output_type": "stream",
     "text": [
      "0번째 반복: 272\n",
      "1번째 반복: 32\n",
      "2번째 반복: 103\n",
      "3번째 반복: 57\n",
      "4번째 반복: 52\n"
     ]
    }
   ],
   "source": [
    "for i in [0,1,2,3,4]:\n",
    "    print(str(i) + \"번째 반복: \" + str(array[i]))"
   ]
  },
  {
   "cell_type": "code",
   "execution_count": 39,
   "id": "e780834b-06a2-4bfb-bdbe-59eb80e7097c",
   "metadata": {},
   "outputs": [
    {
     "name": "stdout",
     "output_type": "stream",
     "text": [
      "0번째 반복: 272\n",
      "1번째 반복: 32\n",
      "2번째 반복: 103\n",
      "3번째 반복: 57\n",
      "4번째 반복: 52\n"
     ]
    }
   ],
   "source": [
    "for i in range(len(array)):\n",
    "    print(str(i) + \"번째 반복: \" + str(array[i]))"
   ]
  },
  {
   "cell_type": "code",
   "execution_count": 37,
   "id": "0456f4b4-ab4e-4a2e-ba3f-8310d21c8cd0",
   "metadata": {},
   "outputs": [
    {
     "name": "stdout",
     "output_type": "stream",
     "text": [
      "0번째 반복: 272\n",
      "1번째 반복: 32\n",
      "2번째 반복: 103\n",
      "3번째 반복: 57\n",
      "4번째 반복: 52\n"
     ]
    }
   ],
   "source": [
    "for i in range(len(array)):\n",
    "    print(f'{i}번째 반복: {array[i]}')"
   ]
  },
  {
   "cell_type": "code",
   "execution_count": 44,
   "id": "fabd24ac-975d-45d0-86fd-4c439cbc6352",
   "metadata": {},
   "outputs": [
    {
     "data": {
      "text/plain": [
       "[4, 3, 2, 1, 0]"
      ]
     },
     "execution_count": 44,
     "metadata": {},
     "output_type": "execute_result"
    }
   ],
   "source": [
    "list(range(len(array)-1, -1, -1)) #(start, end, step) range역순"
   ]
  },
  {
   "cell_type": "code",
   "execution_count": 46,
   "id": "7297df5f-7dd0-43bc-b3c0-70e3e203654b",
   "metadata": {},
   "outputs": [
    {
     "name": "stdout",
     "output_type": "stream",
     "text": [
      "4번째 반복: 52\n",
      "3번째 반복: 57\n",
      "2번째 반복: 103\n",
      "1번째 반복: 32\n",
      "0번째 반복: 272\n"
     ]
    }
   ],
   "source": [
    "for i in range(len(array)-1, -1, -1):\n",
    "    print(f\"{i}번째 반복: {array[i]}\")"
   ]
  },
  {
   "cell_type": "code",
   "execution_count": 50,
   "id": "aee03d09-ee72-457d-94b1-8e324e38c13a",
   "metadata": {},
   "outputs": [
    {
     "name": "stdout",
     "output_type": "stream",
     "text": [
      "4번째 반복: 52\n",
      "3번째 반복: 57\n",
      "2번째 반복: 103\n",
      "1번째 반복: 32\n",
      "0번째 반복: 272\n"
     ]
    }
   ],
   "source": [
    "for i in range(len(array)):\n",
    "    x = len(array)-(i+1)\n",
    "    print(f\"{x}번째 반복: {array[x]}\")"
   ]
  },
  {
   "cell_type": "code",
   "execution_count": 54,
   "id": "98aa180d-5e6a-487b-8751-2cfba7e75cbf",
   "metadata": {},
   "outputs": [
    {
     "name": "stdout",
     "output_type": "stream",
     "text": [
      "4번째 반복: 52\n",
      "3번째 반복: 57\n",
      "2번째 반복: 103\n",
      "1번째 반복: 32\n",
      "0번째 반복: 272\n"
     ]
    }
   ],
   "source": [
    "for i in list(range(len(array)))[::-1]:\n",
    "    print(f\"{i}번째 반복: {array[i]}\")"
   ]
  },
  {
   "cell_type": "code",
   "execution_count": 57,
   "id": "73115df2-bffa-46e1-9306-2add4eb5160c",
   "metadata": {},
   "outputs": [
    {
     "name": "stdout",
     "output_type": "stream",
     "text": [
      "4번째 반복: 52\n",
      "3번째 반복: 57\n",
      "2번째 반복: 103\n",
      "1번째 반복: 32\n",
      "0번째 반복: 272\n"
     ]
    }
   ],
   "source": [
    "for i in reversed(range(len(array))):\n",
    "    print(f\"{i}번째 반복: {array[i]}\")"
   ]
  },
  {
   "cell_type": "code",
   "execution_count": 58,
   "id": "6945c256-6a36-4cf6-a29f-b068f2940eb7",
   "metadata": {},
   "outputs": [
    {
     "data": {
      "text/plain": [
       "[52, 57, 103, 32, 272]"
      ]
     },
     "execution_count": 58,
     "metadata": {},
     "output_type": "execute_result"
    }
   ],
   "source": [
    "array[::-1]"
   ]
  },
  {
   "cell_type": "code",
   "execution_count": 59,
   "id": "64dbf3a7-f6da-4e0a-9714-2bed33998efe",
   "metadata": {},
   "outputs": [
    {
     "data": {
      "text/plain": [
       "[52, 57, 103, 32, 272]"
      ]
     },
     "execution_count": 59,
     "metadata": {},
     "output_type": "execute_result"
    }
   ],
   "source": [
    "list(reversed(array))"
   ]
  },
  {
   "cell_type": "code",
   "execution_count": 63,
   "id": "90570ec3-5064-4896-8e94-99e41a3955f5",
   "metadata": {},
   "outputs": [
    {
     "name": "stdout",
     "output_type": "stream",
     "text": [
      "4번째 반복: 52\n",
      "3번째 반복: 57\n",
      "2번째 반복: 103\n",
      "1번째 반복: 32\n",
      "0번째 반복: 272\n"
     ]
    }
   ],
   "source": [
    "order = 4\n",
    "for i in array[::-1]:\n",
    "    print(f\"{order}번째 반복: {i}\")\n",
    "    order -= 1"
   ]
  },
  {
   "cell_type": "code",
   "execution_count": 64,
   "id": "fdae3fdc-89e6-47ca-9fc5-a5bf09ada499",
   "metadata": {},
   "outputs": [],
   "source": [
    "## while문 기본형식\n",
    "# while bool_exp:\n",
    "#     command"
   ]
  },
  {
   "cell_type": "code",
   "execution_count": 68,
   "id": "be5b6489-558b-4f45-ae75-ad4359cfa0fd",
   "metadata": {},
   "outputs": [
    {
     "name": "stdout",
     "output_type": "stream",
     "text": [
      "500500\n"
     ]
    }
   ],
   "source": [
    "s = 0\n",
    "for i in range(1, 1001):\n",
    "    s += i\n",
    "print(s)"
   ]
  },
  {
   "cell_type": "code",
   "execution_count": 72,
   "id": "5a888693-0ce7-4264-a5dc-2f922729a163",
   "metadata": {},
   "outputs": [
    {
     "data": {
      "text/plain": [
       "55"
      ]
     },
     "execution_count": 72,
     "metadata": {},
     "output_type": "execute_result"
    }
   ],
   "source": [
    "s = 0\n",
    "i = 0\n",
    "while i < 11:\n",
    "    s += i\n",
    "    i += 1\n",
    "s"
   ]
  },
  {
   "cell_type": "code",
   "execution_count": 78,
   "id": "45632f9a-a18e-4bb6-9fdd-88ecc18f00a0",
   "metadata": {},
   "outputs": [
    {
     "name": "stdout",
     "output_type": "stream",
     "text": [
      "0번째 반복 값입니다\n",
      "1번째 반복 값입니다\n",
      "2번째 반복 값입니다\n",
      "3번째 반복 값입니다\n",
      "4번째 반복 값입니다\n",
      "5번째 반복 값입니다\n",
      "6번째 반복 값입니다\n",
      "7번째 반복 값입니다\n",
      "8번째 반복 값입니다\n",
      "9번째 반복 값입니다\n"
     ]
    }
   ],
   "source": [
    "for i in range(10):\n",
    "    print(f\"{i}번째 반복 값입니다\")"
   ]
  },
  {
   "cell_type": "code",
   "execution_count": 79,
   "id": "30a70a4f-3ba8-4b75-90bd-f533de6ceeeb",
   "metadata": {},
   "outputs": [
    {
     "name": "stdout",
     "output_type": "stream",
     "text": [
      "0번째 반복 값입니다\n",
      "1번째 반복 값입니다\n",
      "2번째 반복 값입니다\n",
      "3번째 반복 값입니다\n",
      "4번째 반복 값입니다\n",
      "5번째 반복 값입니다\n",
      "6번째 반복 값입니다\n",
      "7번째 반복 값입니다\n",
      "8번째 반복 값입니다\n",
      "9번째 반복 값입니다\n"
     ]
    }
   ],
   "source": [
    "i = 0\n",
    "while i < 10:\n",
    "    print(f\"{i}번째 반복 값입니다\")\n",
    "    i += 1"
   ]
  },
  {
   "cell_type": "code",
   "execution_count": 81,
   "id": "a604a3ea-30b6-4bd2-9945-736767dc908e",
   "metadata": {},
   "outputs": [
    {
     "name": "stdout",
     "output_type": "stream",
     "text": [
      "0번째 반복: 272\n",
      "1번째 반복: 32\n",
      "2번째 반복: 103\n",
      "3번째 반복: 57\n",
      "4번째 반복: 52\n"
     ]
    }
   ],
   "source": [
    "i = 0\n",
    "while i < len(array):\n",
    "    print(f'{i}번째 반복: {array[i]}')\n",
    "    i += 1"
   ]
  },
  {
   "cell_type": "code",
   "execution_count": 93,
   "id": "97568669-e812-45d7-b0a4-bf61c025ed87",
   "metadata": {},
   "outputs": [
    {
     "name": "stdout",
     "output_type": "stream",
     "text": [
      "0\n",
      "1\n",
      "2\n",
      "3\n",
      "4\n",
      "5\n"
     ]
    }
   ],
   "source": [
    "i = 0\n",
    "while i <= 5:\n",
    "    print(i)\n",
    "    i += 1"
   ]
  },
  {
   "cell_type": "code",
   "execution_count": 97,
   "id": "2aacc51f-cf14-4564-a940-30844f13130b",
   "metadata": {},
   "outputs": [
    {
     "name": "stdout",
     "output_type": "stream",
     "text": [
      "4번째 반복: 52\n",
      "3번째 반복: 57\n",
      "2번째 반복: 103\n",
      "1번째 반복: 32\n",
      "0번째 반복: 272\n"
     ]
    }
   ],
   "source": [
    "i = len(array)-1\n",
    "while i >= 0:\n",
    "    print(f'{i}번째 반복: {array[i]}')\n",
    "    i -= 1"
   ]
  },
  {
   "cell_type": "code",
   "execution_count": 111,
   "id": "f7b418ff-6b35-4662-9d23-cd1ba4c62f51",
   "metadata": {},
   "outputs": [],
   "source": [
    "list_test = [1, 1, 2, 2]\n",
    "list_odd = []\n",
    "list_even = []"
   ]
  },
  {
   "cell_type": "code",
   "execution_count": 110,
   "id": "e8d041e4-6451-42ea-85ef-506fb8c26a5d",
   "metadata": {},
   "outputs": [
    {
     "data": {
      "text/plain": [
       "[1, 1]"
      ]
     },
     "execution_count": 110,
     "metadata": {},
     "output_type": "execute_result"
    }
   ],
   "source": [
    "value = 2\n",
    "while value in list_test:\n",
    "    list_test.remove(value)\n",
    "list_test"
   ]
  },
  {
   "cell_type": "code",
   "execution_count": 131,
   "id": "aa839a4e-894b-492d-96ce-d54b869a0ae9",
   "metadata": {},
   "outputs": [],
   "source": [
    "list_test = [1, 1, 2, 2]\n",
    "list_odd = []\n",
    "list_even = []"
   ]
  },
  {
   "cell_type": "code",
   "execution_count": 119,
   "id": "c08b8907-9e47-4ee2-8fd0-b64f74fc81f5",
   "metadata": {},
   "outputs": [
    {
     "name": "stdout",
     "output_type": "stream",
     "text": [
      "[1, 1]\n",
      "[2, 2]\n"
     ]
    }
   ],
   "source": [
    "for i in list_test:\n",
    "    if i % 2 == 1:\n",
    "        list_odd.append(i)\n",
    "    else:\n",
    "        list_even.append(i)\n",
    "print(list_odd)\n",
    "print(list_even)"
   ]
  },
  {
   "cell_type": "code",
   "execution_count": 132,
   "id": "8b367f52-ccab-46c4-be8a-76f91ff42129",
   "metadata": {},
   "outputs": [
    {
     "name": "stdout",
     "output_type": "stream",
     "text": [
      "[1, 1]\n",
      "[2, 2]\n"
     ]
    }
   ],
   "source": [
    "i = 0\n",
    "while i < len(list_test):\n",
    "    if list_test[i] % 2 == 1:\n",
    "        list_odd.append(list_test[i])\n",
    "    else:\n",
    "        list_even.append(list_test[i])\n",
    "    i += 1\n",
    "print(list_odd)\n",
    "print(list_even)"
   ]
  },
  {
   "cell_type": "code",
   "execution_count": 136,
   "id": "fb6c1821-4a5e-47a4-a324-59530aa69f75",
   "metadata": {},
   "outputs": [],
   "source": [
    "from time import time"
   ]
  },
  {
   "cell_type": "code",
   "execution_count": 134,
   "id": "4be22c12-a6a3-4d01-bd0d-0b7735ed5594",
   "metadata": {},
   "outputs": [],
   "source": [
    "import time"
   ]
  },
  {
   "cell_type": "code",
   "execution_count": 140,
   "id": "f1a69206-bfbf-473b-aa87-780ba51b7d46",
   "metadata": {},
   "outputs": [
    {
     "data": {
      "text/plain": [
       "5.0"
      ]
     },
     "execution_count": 140,
     "metadata": {},
     "output_type": "execute_result"
    }
   ],
   "source": [
    "(time()+5) - time()"
   ]
  },
  {
   "cell_type": "code",
   "execution_count": 143,
   "id": "dc3d1f27-3784-4802-a13e-9c98ae80e74b",
   "metadata": {},
   "outputs": [
    {
     "name": "stdout",
     "output_type": "stream",
     "text": [
      "58530939\n"
     ]
    }
   ],
   "source": [
    "target_time = time()+5\n",
    "number = 0\n",
    "while time() < target_time:\n",
    "    number += 1\n",
    "print(number)"
   ]
  },
  {
   "cell_type": "code",
   "execution_count": 146,
   "id": "c98cc5c4-2f3e-475d-af57-64cec53a771c",
   "metadata": {},
   "outputs": [
    {
     "data": {
      "text/plain": [
       "1.4940264225006104"
      ]
     },
     "execution_count": 146,
     "metadata": {},
     "output_type": "execute_result"
    }
   ],
   "source": [
    "start_time = time()\n",
    "for i in range(58530939):\n",
    "    pass\n",
    "end_time = time()\n",
    "\n",
    "end_time - start_time"
   ]
  },
  {
   "cell_type": "code",
   "execution_count": 150,
   "id": "1344c114-adfe-479d-847b-1a180460b3ca",
   "metadata": {},
   "outputs": [
    {
     "data": {
      "text/plain": [
       "6"
      ]
     },
     "execution_count": 150,
     "metadata": {},
     "output_type": "execute_result"
    }
   ],
   "source": [
    "dt = [1,2,3,2,3,4]\n",
    "s = 0\n",
    "for i in dt:\n",
    "    if i == 3:\n",
    "        s += i\n",
    "        break\n",
    "    else:\n",
    "        s += i\n",
    "s        "
   ]
  },
  {
   "cell_type": "code",
   "execution_count": 164,
   "id": "0a90daff-376b-468c-9a1a-6903b09c3ab2",
   "metadata": {},
   "outputs": [
    {
     "data": {
      "text/plain": [
       "6"
      ]
     },
     "execution_count": 164,
     "metadata": {},
     "output_type": "execute_result"
    }
   ],
   "source": [
    "s = 0\n",
    "i = 0\n",
    "while True:\n",
    "    if dt[i] == 3:\n",
    "        s += dt[i]\n",
    "        break\n",
    "    else:\n",
    "        s += dt[i]\n",
    "    i += 1\n",
    "s"
   ]
  },
  {
   "cell_type": "code",
   "execution_count": 172,
   "id": "7f2612e3-c435-4e82-aa47-f4a8e6fcc999",
   "metadata": {},
   "outputs": [
    {
     "name": "stdin",
     "output_type": "stream",
     "text": [
      "0번째 반복문입니다\n",
      "> 종료하시겠습니까?(y/n):  n\n",
      "1번째 반복문입니다\n",
      "> 종료하시겠습니까?(y/n):  y\n"
     ]
    },
    {
     "name": "stdout",
     "output_type": "stream",
     "text": [
      "반복을 종료합니다.\n"
     ]
    }
   ],
   "source": [
    "i = 0\n",
    "\n",
    "while True:\n",
    "    a = input(f\"\"\"{i}번째 반복문입니다\n",
    "> 종료하시겠습니까?(y/n): \"\"\").upper()\n",
    "    if a == \"Y\":\n",
    "        print(\"반복을 종료합니다.\")\n",
    "        break\n",
    "    elif a == \"N\":\n",
    "        i += 1\n",
    "        continue"
   ]
  },
  {
   "cell_type": "code",
   "execution_count": 171,
   "id": "e67dcde6-0e2e-41a6-9b62-d517df2d5622",
   "metadata": {},
   "outputs": [
    {
     "name": "stdin",
     "output_type": "stream",
     "text": [
      "값을 입력하세요 10\n"
     ]
    },
    {
     "name": "stdout",
     "output_type": "stream",
     "text": [
      "입력한 값은 10이고, 합계는 55입니다\n"
     ]
    }
   ],
   "source": [
    "x = int(input(\"값을 입력하세요\"))\n",
    "i = 0\n",
    "s = 0\n",
    "while True:\n",
    "    if i == x:\n",
    "        s += i\n",
    "        break\n",
    "    else:\n",
    "        s += i\n",
    "    i += 1\n",
    "print(f\"입력한 값은 {x}이고, 합계는 {s}입니다\")"
   ]
  },
  {
   "cell_type": "code",
   "execution_count": 173,
   "id": "7690d71b-e164-4b82-923f-548abe95193e",
   "metadata": {},
   "outputs": [],
   "source": [
    "numbers = [5,15,6,20,7,25]"
   ]
  },
  {
   "cell_type": "code",
   "execution_count": 174,
   "id": "fe95d172-201c-4ace-aa69-f669fc7fa1ac",
   "metadata": {},
   "outputs": [
    {
     "name": "stdout",
     "output_type": "stream",
     "text": [
      "15\n",
      "20\n",
      "25\n"
     ]
    }
   ],
   "source": [
    "for number in numbers:\n",
    "    if number > 10:\n",
    "        print(number)"
   ]
  },
  {
   "cell_type": "code",
   "execution_count": 175,
   "id": "3e84d173-2efb-4b2b-9fcd-a1e898b60220",
   "metadata": {},
   "outputs": [
    {
     "name": "stdout",
     "output_type": "stream",
     "text": [
      "15\n",
      "20\n",
      "25\n"
     ]
    }
   ],
   "source": [
    "for number in numbers:\n",
    "    if number < 10:\n",
    "        continue\n",
    "    print(number)"
   ]
  },
  {
   "cell_type": "code",
   "execution_count": 192,
   "id": "76898ccf-e154-4cd8-bd06-ec020608c266",
   "metadata": {},
   "outputs": [],
   "source": [
    "key_list = [\"name\", \"hp\", \"mp\", \"level\"]\n",
    "value_list = [\"기사\", 200, 30, 5]\n",
    "character = {}"
   ]
  },
  {
   "cell_type": "code",
   "execution_count": 181,
   "id": "ecff730b-8030-4cc8-a3f4-0b6aabe354d3",
   "metadata": {},
   "outputs": [
    {
     "data": {
      "text/plain": [
       "{'name': '기사', 'hp': 200, 'mp': 30, 'level': 5}"
      ]
     },
     "execution_count": 181,
     "metadata": {},
     "output_type": "execute_result"
    }
   ],
   "source": [
    "for i in range(len(key_list)):\n",
    "    character[key_list[i]] = value_list[i]\n",
    "character"
   ]
  },
  {
   "cell_type": "code",
   "execution_count": 193,
   "id": "1f5e0d97-42bc-4a16-9d2c-751d9e040174",
   "metadata": {},
   "outputs": [],
   "source": [
    "character = {}\n",
    "for a,b in zip(key_list,value_list):\n",
    "    character[a] = b"
   ]
  },
  {
   "cell_type": "code",
   "execution_count": 194,
   "id": "4a5ebf4f-e4d2-488e-9995-21343b1310f3",
   "metadata": {},
   "outputs": [],
   "source": [
    "character = {}"
   ]
  },
  {
   "cell_type": "code",
   "execution_count": 195,
   "id": "e28c4731-b985-4d78-998f-8bfb710d2100",
   "metadata": {},
   "outputs": [],
   "source": [
    "character = { a:b for a,b in zip(key_list,value_list)}"
   ]
  },
  {
   "cell_type": "code",
   "execution_count": 196,
   "id": "f55260ca-019b-4436-bb1b-91ec8b989787",
   "metadata": {},
   "outputs": [
    {
     "data": {
      "text/plain": [
       "{'name': '기사', 'hp': 200, 'mp': 30, 'level': 5}"
      ]
     },
     "execution_count": 196,
     "metadata": {},
     "output_type": "execute_result"
    }
   ],
   "source": [
    "character"
   ]
  },
  {
   "cell_type": "code",
   "execution_count": 200,
   "id": "eb38a295-4699-4aa3-95c1-47977e028fed",
   "metadata": {},
   "outputs": [
    {
     "name": "stdout",
     "output_type": "stream",
     "text": [
      "45\n",
      "1035\n"
     ]
    }
   ],
   "source": [
    "s = 0\n",
    "for i in range(1,1001):\n",
    "    s += i\n",
    "    if s > 1000:\n",
    "        break\n",
    "print(i)\n",
    "print(s)"
   ]
  },
  {
   "cell_type": "code",
   "execution_count": 201,
   "id": "f7500858-11f4-4a31-86fc-f6d61ff24e54",
   "metadata": {},
   "outputs": [
    {
     "name": "stdout",
     "output_type": "stream",
     "text": [
      "142를 더할 때 10000을 넘으며 그때의 값은 10011입니다.\n"
     ]
    }
   ],
   "source": [
    "limit = 10000\n",
    "i = 1\n",
    "sum_value = 0\n",
    "while True:\n",
    "    if sum_value < limit:\n",
    "        sum_value += i\n",
    "        i += 1\n",
    "    else:\n",
    "        break\n",
    "print(f\"{i}를 더할 때 {limit}을 넘으며 그때의 값은 {sum_value}입니다.\")"
   ]
  },
  {
   "cell_type": "code",
   "execution_count": 207,
   "id": "a55ebb26-7f02-4dbf-9138-ea23aca483d8",
   "metadata": {},
   "outputs": [],
   "source": [
    "limit = 10000\n",
    "i = 1\n",
    "while True:\n",
    "    s = 0\n",
    "    for j in range(i+1):\n",
    "        s += j\n",
    "    if s > limit:\n",
    "        break\n",
    "    i += 1"
   ]
  },
  {
   "cell_type": "code",
   "execution_count": 208,
   "id": "defe35c4-3840-4972-80d7-b7790df537eb",
   "metadata": {},
   "outputs": [
    {
     "data": {
      "text/plain": [
       "141"
      ]
     },
     "execution_count": 208,
     "metadata": {},
     "output_type": "execute_result"
    }
   ],
   "source": [
    "i"
   ]
  },
  {
   "cell_type": "code",
   "execution_count": 209,
   "id": "06453fd0-6fbc-4c01-914f-505bc29aab5f",
   "metadata": {},
   "outputs": [
    {
     "data": {
      "text/plain": [
       "10011"
      ]
     },
     "execution_count": 209,
     "metadata": {},
     "output_type": "execute_result"
    }
   ],
   "source": [
    "s"
   ]
  },
  {
   "cell_type": "code",
   "execution_count": 214,
   "id": "298e8cce-4c3c-402a-ad66-7598afa5ba39",
   "metadata": {},
   "outputs": [],
   "source": [
    "import random"
   ]
  },
  {
   "cell_type": "code",
   "execution_count": 224,
   "id": "f696bbea-49ef-4faa-beea-297bfe680de1",
   "metadata": {},
   "outputs": [],
   "source": [
    "from random import shuffle"
   ]
  },
  {
   "cell_type": "code",
   "execution_count": 225,
   "id": "e3ed6299-b318-4e3d-94fd-d55061e489fd",
   "metadata": {},
   "outputs": [],
   "source": [
    "a = list(range(1,1000001))\n",
    "shuffle(a)"
   ]
  },
  {
   "cell_type": "code",
   "execution_count": 226,
   "id": "34207001-f583-4255-9d61-ffea41f96d9d",
   "metadata": {},
   "outputs": [],
   "source": [
    "a = a[:100]"
   ]
  },
  {
   "cell_type": "code",
   "execution_count": 229,
   "id": "23b5d5a6-2adc-4cb2-b463-575ac0e1934e",
   "metadata": {},
   "outputs": [
    {
     "name": "stdout",
     "output_type": "stream",
     "text": [
      "53419554\n"
     ]
    }
   ],
   "source": [
    "s = 0\n",
    "for i in a:\n",
    "    s += i\n",
    "print(s)"
   ]
  },
  {
   "cell_type": "code",
   "execution_count": 232,
   "id": "68eb9bec-9144-4c0b-bfd8-784f97bcd936",
   "metadata": {},
   "outputs": [
    {
     "data": {
      "text/plain": [
       "3540"
      ]
     },
     "execution_count": 232,
     "metadata": {},
     "output_type": "execute_result"
    }
   ],
   "source": [
    "min(a)"
   ]
  },
  {
   "cell_type": "code",
   "execution_count": 233,
   "id": "4e84a704-d10b-4e3a-af9b-296e1cb7777b",
   "metadata": {},
   "outputs": [
    {
     "data": {
      "text/plain": [
       "981666"
      ]
     },
     "execution_count": 233,
     "metadata": {},
     "output_type": "execute_result"
    }
   ],
   "source": [
    "max(a)"
   ]
  },
  {
   "cell_type": "code",
   "execution_count": 235,
   "id": "f927d037-0a23-4a9c-9019-3694250a9d12",
   "metadata": {},
   "outputs": [
    {
     "data": {
      "text/plain": [
       "3540"
      ]
     },
     "execution_count": 235,
     "metadata": {},
     "output_type": "execute_result"
    }
   ],
   "source": [
    "a_min = a[0]\n",
    "for i in range(len(a)):\n",
    "    if a_min > a[i]:\n",
    "        a_min = a[i]\n",
    "        \n",
    "a_min"
   ]
  },
  {
   "cell_type": "code",
   "execution_count": 236,
   "id": "b9def1bb-e30f-40aa-a2b0-1524c8178a9a",
   "metadata": {},
   "outputs": [
    {
     "data": {
      "text/plain": [
       "981666"
      ]
     },
     "execution_count": 236,
     "metadata": {},
     "output_type": "execute_result"
    }
   ],
   "source": [
    "a_max = a[0]\n",
    "for i in range(len(a)):\n",
    "    if a_max < a[i]:\n",
    "        a_max = a[i]\n",
    "a_max"
   ]
  },
  {
   "cell_type": "code",
   "execution_count": 238,
   "id": "fb953263-119e-4ce2-9eab-f50d15a4aa95",
   "metadata": {},
   "outputs": [
    {
     "data": {
      "text/plain": [
       "534195.54"
      ]
     },
     "execution_count": 238,
     "metadata": {},
     "output_type": "execute_result"
    }
   ],
   "source": [
    "sum(a)/len(a)"
   ]
  },
  {
   "cell_type": "code",
   "execution_count": 239,
   "id": "103a6488-5989-4dc6-a2ab-d87d4bd328b7",
   "metadata": {},
   "outputs": [],
   "source": [
    "## 평균, 합, 분산, 표준편차\n",
    "\n",
    "# 분산 ∑(x-x_)^2 / (n-1)  x_는 x의 평균"
   ]
  },
  {
   "cell_type": "code",
   "execution_count": 240,
   "id": "7ccb1f1b-099f-469b-b88d-d07439d91872",
   "metadata": {},
   "outputs": [
    {
     "data": {
      "text/plain": [
       "534195.54"
      ]
     },
     "execution_count": 240,
     "metadata": {},
     "output_type": "execute_result"
    }
   ],
   "source": [
    "sum(a) / len(a) #평균 ∑a/n = μ"
   ]
  },
  {
   "cell_type": "code",
   "execution_count": 242,
   "id": "5145f58e-416e-422b-8edf-7fe5f3ec85bc",
   "metadata": {},
   "outputs": [
    {
     "ename": "TypeError",
     "evalue": "unsupported operand type(s) for -: 'list' and 'float'",
     "output_type": "error",
     "traceback": [
      "\u001b[1;31m---------------------------------------------------------------------------\u001b[0m",
      "\u001b[1;31mTypeError\u001b[0m                                 Traceback (most recent call last)",
      "\u001b[1;32m~\\AppData\\Local\\Temp/ipykernel_9944/255735034.py\u001b[0m in \u001b[0;36m<module>\u001b[1;34m\u001b[0m\n\u001b[0;32m      1\u001b[0m \u001b[1;31m##분산\u001b[0m\u001b[1;33m\u001b[0m\u001b[1;33m\u001b[0m\u001b[1;33m\u001b[0m\u001b[0m\n\u001b[1;32m----> 2\u001b[1;33m \u001b[0msum\u001b[0m\u001b[1;33m(\u001b[0m\u001b[1;33m(\u001b[0m\u001b[0ma\u001b[0m \u001b[1;33m-\u001b[0m \u001b[0msum\u001b[0m\u001b[1;33m(\u001b[0m\u001b[0ma\u001b[0m\u001b[1;33m)\u001b[0m\u001b[1;33m/\u001b[0m\u001b[0mlen\u001b[0m\u001b[1;33m(\u001b[0m\u001b[0ma\u001b[0m\u001b[1;33m)\u001b[0m\u001b[1;33m)\u001b[0m \u001b[1;33m**\u001b[0m \u001b[1;36m2\u001b[0m\u001b[1;33m)\u001b[0m\u001b[1;33m/\u001b[0m\u001b[0mlen\u001b[0m\u001b[1;33m(\u001b[0m\u001b[0ma\u001b[0m\u001b[1;33m)\u001b[0m\u001b[1;33m-\u001b[0m\u001b[1;36m1\u001b[0m\u001b[1;33m\u001b[0m\u001b[1;33m\u001b[0m\u001b[0m\n\u001b[0m",
      "\u001b[1;31mTypeError\u001b[0m: unsupported operand type(s) for -: 'list' and 'float'"
     ]
    }
   ],
   "source": [
    "##분산\n",
    "sum((a - sum(a)/len(a)) ** 2)/len(a)-1"
   ]
  },
  {
   "cell_type": "code",
   "execution_count": 244,
   "id": "cd086d78-32a5-4a65-9d42-006acce7ccc5",
   "metadata": {},
   "outputs": [
    {
     "data": {
      "text/plain": [
       "86389774605.56407"
      ]
     },
     "execution_count": 244,
     "metadata": {},
     "output_type": "execute_result"
    }
   ],
   "source": [
    "s = 0\n",
    "for i in a:\n",
    "    x = (i - sum(a) / len(a)) ** 2\n",
    "    s += x\n",
    "s / (len(a)-1)"
   ]
  },
  {
   "cell_type": "code",
   "execution_count": 249,
   "id": "c25d1489-73ff-4367-bd45-a9d0ae572ae4",
   "metadata": {},
   "outputs": [
    {
     "data": {
      "text/plain": [
       "True"
      ]
     },
     "execution_count": 249,
     "metadata": {},
     "output_type": "execute_result"
    }
   ],
   "source": [
    "list(reversed(a)) == a[::-1]"
   ]
  },
  {
   "cell_type": "code",
   "execution_count": 250,
   "id": "12f3c32d-ccce-4dd8-ac17-cb1eb49577c5",
   "metadata": {},
   "outputs": [
    {
     "ename": "TypeError",
     "evalue": "'list_reverseiterator' object is not subscriptable",
     "output_type": "error",
     "traceback": [
      "\u001b[1;31m---------------------------------------------------------------------------\u001b[0m",
      "\u001b[1;31mTypeError\u001b[0m                                 Traceback (most recent call last)",
      "\u001b[1;32m~\\AppData\\Local\\Temp/ipykernel_9944/363145775.py\u001b[0m in \u001b[0;36m<module>\u001b[1;34m\u001b[0m\n\u001b[1;32m----> 1\u001b[1;33m \u001b[0mreversed\u001b[0m\u001b[1;33m(\u001b[0m\u001b[0ma\u001b[0m\u001b[1;33m)\u001b[0m\u001b[1;33m[\u001b[0m\u001b[1;36m0\u001b[0m\u001b[1;33m]\u001b[0m\u001b[1;33m\u001b[0m\u001b[1;33m\u001b[0m\u001b[0m\n\u001b[0m",
      "\u001b[1;31mTypeError\u001b[0m: 'list_reverseiterator' object is not subscriptable"
     ]
    }
   ],
   "source": [
    "reversed(a)[0]"
   ]
  },
  {
   "cell_type": "code",
   "execution_count": 254,
   "id": "92220626-883a-4973-b272-1b4c5edf3623",
   "metadata": {},
   "outputs": [
    {
     "name": "stdout",
     "output_type": "stream",
     "text": [
      "0번째 요소는 요소A입니다\n",
      "1번째 요소는 요소B입니다\n",
      "2번째 요소는 요소C입니다\n"
     ]
    }
   ],
   "source": [
    "example_list = [\"요소A\", \"요소B\", \"요소C\"]\n",
    "j = 0\n",
    "for i in example_list:\n",
    "    print(f\"{j}번째 요소는 {i}입니다\")\n",
    "    j += 1"
   ]
  },
  {
   "cell_type": "code",
   "execution_count": 255,
   "id": "9d53cbfc-2009-4d0a-b77b-9f3c6b413780",
   "metadata": {},
   "outputs": [
    {
     "name": "stdout",
     "output_type": "stream",
     "text": [
      "0번째 요소는 요소A입니다\n",
      "1번째 요소는 요소B입니다\n",
      "2번째 요소는 요소C입니다\n"
     ]
    }
   ],
   "source": [
    "example_list = [\"요소A\", \"요소B\", \"요소C\"]\n",
    "\n",
    "for i, v in enumerate(example_list):\n",
    "    print(f'{i}번째 요소는 {v}입니다')"
   ]
  },
  {
   "cell_type": "code",
   "execution_count": 258,
   "id": "2717c43d-9d79-4151-a3c3-16215621d0fe",
   "metadata": {},
   "outputs": [],
   "source": [
    "example_dict = {\"키A\":\"값A\",\n",
    "                \"키B\":\"값B\",\n",
    "                \"키C\":\"값C\"\n",
    "}"
   ]
  },
  {
   "cell_type": "code",
   "execution_count": null,
   "id": "dfec173c-172b-49b5-ae81-1564d35559ed",
   "metadata": {},
   "outputs": [
    {
     "data": {
      "text/plain": [
       "{'키A': '값A', '키B': '값B', '키C': '값C'}"
      ]
     },
     "execution_count": 259,
     "metadata": {},
     "output_type": "execute_result"
    }
   ],
   "source": [
    "example_dict"
   ]
  },
  {
   "cell_type": "code",
   "execution_count": 260,
   "id": "46590444-1047-4458-9edc-b0d31df744e1",
   "metadata": {},
   "outputs": [],
   "source": [
    "ex_dict = {\"키\"+i:\"값\"+i for i in \"ABC\" }"
   ]
  },
  {
   "cell_type": "code",
   "execution_count": 265,
   "id": "a24ad3e0-13d2-4442-845f-a07e7cd1aa96",
   "metadata": {},
   "outputs": [
    {
     "name": "stdout",
     "output_type": "stream",
     "text": [
      "키A : 값A\n",
      "키B : 값B\n",
      "키C : 값C\n"
     ]
    }
   ],
   "source": [
    "for i in ex_dict:\n",
    "    print(f'{i} : {ex_dict[i]}')"
   ]
  },
  {
   "cell_type": "code",
   "execution_count": 266,
   "id": "ad4ff447-5b55-46fa-acbb-780e5876c381",
   "metadata": {},
   "outputs": [
    {
     "name": "stdout",
     "output_type": "stream",
     "text": [
      "키A : 값A\n",
      "키B : 값B\n",
      "키C : 값C\n"
     ]
    }
   ],
   "source": [
    "for i, j in ex_dict.items():\n",
    "    print(f'{i} : {j}')"
   ]
  },
  {
   "cell_type": "code",
   "execution_count": 267,
   "id": "b9c3b812-841a-4af2-ab92-ba6c9b2e7374",
   "metadata": {},
   "outputs": [],
   "source": [
    "a = list(range(1000000))\n",
    "shuffle(a)"
   ]
  },
  {
   "cell_type": "code",
   "execution_count": 268,
   "id": "0149cf70-e808-4d90-802f-038685d93b7e",
   "metadata": {},
   "outputs": [],
   "source": [
    "a = a[:1000]"
   ]
  },
  {
   "cell_type": "code",
   "execution_count": 274,
   "id": "b6a5d833-e250-4be9-8d9f-97e6d437edeb",
   "metadata": {},
   "outputs": [],
   "source": [
    "three_times = 0\n",
    "for i in a:\n",
    "    if i % 3 == 0:\n",
    "        three_times += 1"
   ]
  },
  {
   "cell_type": "code",
   "execution_count": 271,
   "id": "665e46a3-5b57-43da-a540-273a8b25ea93",
   "metadata": {},
   "outputs": [
    {
     "name": "stdout",
     "output_type": "stream",
     "text": [
      "짝수의 개수는 474, 홀수의 개수는 526\n"
     ]
    }
   ],
   "source": [
    "even = 0\n",
    "for i in a:\n",
    "    if i % 2 == 0:\n",
    "        even += 1\n",
    "odds = len(a) - even\n",
    "print(f'짝수의 개수는 {even}, 홀수의 개수는 {odds}')"
   ]
  },
  {
   "cell_type": "code",
   "execution_count": 284,
   "id": "32588a2f-4fef-425a-aa99-3880a7f6d6ba",
   "metadata": {},
   "outputs": [
    {
     "data": {
      "text/plain": [
       "119"
      ]
     },
     "execution_count": 284,
     "metadata": {},
     "output_type": "execute_result"
    }
   ],
   "source": [
    "three_times = 0\n",
    "for i in range(2,len(a)+1,3):\n",
    "    if a[i] % 3 == 0:\n",
    "        three_times += 1\n",
    "three_times"
   ]
  },
  {
   "cell_type": "code",
   "execution_count": 288,
   "id": "6ccaeb07-8963-4694-b648-b7f48b4a6a78",
   "metadata": {},
   "outputs": [
    {
     "data": {
      "text/plain": [
       "119"
      ]
     },
     "execution_count": 288,
     "metadata": {},
     "output_type": "execute_result"
    }
   ],
   "source": [
    "three_times = 0\n",
    "for i,v in enumerate(a):\n",
    "    if (i + 1) % 3 == 0 and v % 3 == 0:\n",
    "        three_times += 1\n",
    "three_times"
   ]
  },
  {
   "cell_type": "code",
   "execution_count": 289,
   "id": "5d98097c-0ce6-4fb8-834c-08aadba1a433",
   "metadata": {},
   "outputs": [
    {
     "data": {
      "text/plain": [
       "119"
      ]
     },
     "execution_count": 289,
     "metadata": {},
     "output_type": "execute_result"
    }
   ],
   "source": [
    "three_times = 0\n",
    "for i,v in enumerate(a):\n",
    "    a_i = i + 1\n",
    "    if a_i % 3 == 0:\n",
    "        if v % 3 == 0:\n",
    "            three_times += 1\n",
    "three_times"
   ]
  },
  {
   "cell_type": "code",
   "execution_count": 290,
   "id": "34480a12-1fed-471a-ab66-ccba080591ec",
   "metadata": {},
   "outputs": [],
   "source": [
    "a_a = {i+1:v for i,v in enumerate(a)}"
   ]
  },
  {
   "cell_type": "code",
   "execution_count": 293,
   "id": "3db31ef9-caba-454f-90a1-8ff52285e681",
   "metadata": {},
   "outputs": [
    {
     "data": {
      "text/plain": [
       "43"
      ]
     },
     "execution_count": 293,
     "metadata": {},
     "output_type": "execute_result"
    }
   ],
   "source": [
    "five_times = 0\n",
    "for k,v in a_a.items():\n",
    "    if (k % 5 == 0) and (v % 5 == 0):\n",
    "        five_times += 1\n",
    "five_times"
   ]
  },
  {
   "cell_type": "code",
   "execution_count": 297,
   "id": "c60695c9-f001-4581-8f11-ce2eb57b4ab7",
   "metadata": {},
   "outputs": [
    {
     "data": {
      "text/plain": [
       "[0, 4, 16, 36, 64, 100, 144, 196, 256, 324]"
      ]
     },
     "execution_count": 297,
     "metadata": {},
     "output_type": "execute_result"
    }
   ],
   "source": [
    "array = []\n",
    "\n",
    "for i in range(0,20,2):\n",
    "    array.append(i*i)\n",
    "array"
   ]
  },
  {
   "cell_type": "code",
   "execution_count": 300,
   "id": "8437f5dc-2897-4b1e-895f-7c387b23ed3b",
   "metadata": {},
   "outputs": [],
   "source": [
    "array = [str(i) for i in range(0,20,2)]"
   ]
  },
  {
   "cell_type": "code",
   "execution_count": 302,
   "id": "64624d31-ac6d-4968-9501-95d2962552c1",
   "metadata": {},
   "outputs": [
    {
     "data": {
      "text/plain": [
       "90"
      ]
     },
     "execution_count": 302,
     "metadata": {},
     "output_type": "execute_result"
    }
   ],
   "source": [
    "sum([int(i) for i in array])"
   ]
  },
  {
   "cell_type": "code",
   "execution_count": 306,
   "id": "bd42be71-a85b-4a5f-9caa-f21c4067d457",
   "metadata": {},
   "outputs": [],
   "source": [
    "foods = [\"사과\", \"자두\", \"초콜렛\", \"바나나\", \"체리\"]"
   ]
  },
  {
   "cell_type": "code",
   "execution_count": 309,
   "id": "354ee9c3-6d20-4e1b-b89a-b3af0712359e",
   "metadata": {},
   "outputs": [],
   "source": [
    "fruits = []\n",
    "for food in foods:\n",
    "    if food != \"초콜렛\":\n",
    "        fruits.append(food)"
   ]
  },
  {
   "cell_type": "code",
   "execution_count": 310,
   "id": "0e0494ec-39cb-4f09-abbd-4548bed557c6",
   "metadata": {},
   "outputs": [
    {
     "data": {
      "text/plain": [
       "['사과', '자두', '바나나', '체리']"
      ]
     },
     "execution_count": 310,
     "metadata": {},
     "output_type": "execute_result"
    }
   ],
   "source": [
    "fruits"
   ]
  },
  {
   "cell_type": "code",
   "execution_count": 320,
   "id": "f3dd563d-535a-41b3-bd16-6371a4a18375",
   "metadata": {},
   "outputs": [],
   "source": [
    "fruits = {k:food for k, food in enumerate(foods) if food != \"초콜렛\"}"
   ]
  },
  {
   "cell_type": "code",
   "execution_count": 321,
   "id": "1bb9fa44-28f2-49b9-bad7-b8c8f1ce432c",
   "metadata": {},
   "outputs": [
    {
     "data": {
      "text/plain": [
       "{0: '사과', 1: '자두', 3: '바나나', 4: '체리'}"
      ]
     },
     "execution_count": 321,
     "metadata": {},
     "output_type": "execute_result"
    }
   ],
   "source": [
    "fruits"
   ]
  },
  {
   "cell_type": "code",
   "execution_count": 322,
   "id": "87f8a348-674c-49d0-8f62-9b5361c9b5b6",
   "metadata": {},
   "outputs": [
    {
     "data": {
      "text/plain": [
       "2.6253508247436544e+17"
      ]
     },
     "execution_count": 322,
     "metadata": {},
     "output_type": "execute_result"
    }
   ],
   "source": [
    "sum([(i-sum(a))**2 for i in a]) / (len(a)-1)"
   ]
  },
  {
   "cell_type": "code",
   "execution_count": 325,
   "id": "d8121d07-e3a6-4524-9add-106f389a503f",
   "metadata": {},
   "outputs": [
    {
     "data": {
      "text/plain": [
       "10"
      ]
     },
     "execution_count": 325,
     "metadata": {},
     "output_type": "execute_result"
    }
   ],
   "source": [
    "int(\"{:b}\".format(10),2)"
   ]
  },
  {
   "cell_type": "code",
   "execution_count": 327,
   "id": "fe2ff61a-7a03-473a-8c68-90df249d7028",
   "metadata": {},
   "outputs": [],
   "source": [
    "x = [22,34,2,34,3,1,2,2]"
   ]
  },
  {
   "cell_type": "code",
   "execution_count": 329,
   "id": "64e75770-7867-4434-ab36-a2c9edb09fd3",
   "metadata": {},
   "outputs": [
    {
     "data": {
      "text/plain": [
       "3"
      ]
     },
     "execution_count": 329,
     "metadata": {},
     "output_type": "execute_result"
    }
   ],
   "source": [
    "cnt = 0\n",
    "for i in x:\n",
    "    if i == 2:\n",
    "        cnt += 1\n",
    "cnt"
   ]
  },
  {
   "cell_type": "code",
   "execution_count": 330,
   "id": "c01af1fb-8823-40c7-9743-c8e2a62e1e76",
   "metadata": {},
   "outputs": [],
   "source": [
    "output = []\n",
    "for i in range(1,101):\n",
    "    output.append(\"{:b}\".format(i))"
   ]
  },
  {
   "cell_type": "code",
   "execution_count": 345,
   "id": "c74c5cd3-df02-4769-b31c-5cb4e5ce8566",
   "metadata": {},
   "outputs": [
    {
     "data": {
      "text/plain": [
       "539"
      ]
     },
     "execution_count": 345,
     "metadata": {},
     "output_type": "execute_result"
    }
   ],
   "source": [
    "output = [\"{:b}\".format(i) for i in range(1,101)]\n",
    "\n",
    "one_zero = []\n",
    "\n",
    "for i in output:\n",
    "    if i.count(\"0\") == 1:\n",
    "        one_zero.append(int(i,2))\n",
    "\n",
    "sum(one_zero)"
   ]
  },
  {
   "cell_type": "code",
   "execution_count": 347,
   "id": "fa490e41-d51a-4aa8-9f29-45265cb44819",
   "metadata": {},
   "outputs": [
    {
     "data": {
      "text/plain": [
       "539"
      ]
     },
     "execution_count": 347,
     "metadata": {},
     "output_type": "execute_result"
    }
   ],
   "source": [
    "sum([int(i,2) for i in output if i.count(\"0\") == 1])"
   ]
  },
  {
   "cell_type": "code",
   "execution_count": 403,
   "id": "789ee4e0-c18c-4fb8-919f-8e862a0d64dd",
   "metadata": {},
   "outputs": [],
   "source": [
    "x = [1, 2, 32,\"23\", True]"
   ]
  },
  {
   "cell_type": "code",
   "execution_count": 419,
   "id": "a8efa7cd-57fb-45bf-93f7-1b94a243dc3d",
   "metadata": {},
   "outputs": [],
   "source": [
    "def aaa(x):\n",
    "    s = 0\n",
    "    for i in x:\n",
    "        if type(i) in [int,float]:\n",
    "            s += i\n",
    "    return s"
   ]
  },
  {
   "cell_type": "code",
   "execution_count": 420,
   "id": "af7a063d-cd5d-4774-bada-08ef39d66c28",
   "metadata": {},
   "outputs": [
    {
     "data": {
      "text/plain": [
       "35"
      ]
     },
     "execution_count": 420,
     "metadata": {},
     "output_type": "execute_result"
    }
   ],
   "source": [
    "aaa(x)"
   ]
  },
  {
   "cell_type": "code",
   "execution_count": 411,
   "id": "cdd2f490-0b89-4851-aa20-652927cd8f1c",
   "metadata": {},
   "outputs": [],
   "source": [
    "def aaa(x):\n",
    "    s = 0\n",
    "    for i in x:\n",
    "        s += i\n",
    "    return s"
   ]
  },
  {
   "cell_type": "code",
   "execution_count": 412,
   "id": "8dcfd606-d414-4184-a9d7-f7221b212e8b",
   "metadata": {},
   "outputs": [
    {
     "data": {
      "text/plain": [
       "101"
      ]
     },
     "execution_count": 412,
     "metadata": {},
     "output_type": "execute_result"
    }
   ],
   "source": [
    "aaa([1,100])"
   ]
  },
  {
   "cell_type": "code",
   "execution_count": null,
   "id": "4ac1a724-f84f-4a13-8d16-6275816eae7e",
   "metadata": {},
   "outputs": [],
   "source": [
    "# 사용된 데이터의 수는 : 3\n",
    "# 합계는 : 35\n",
    "# 평균은 : 11.66666666666"
   ]
  },
  {
   "cell_type": "code",
   "execution_count": 436,
   "id": "ab806822-4512-4c80-8dc1-f1eefd1d868d",
   "metadata": {},
   "outputs": [],
   "source": [
    "def avg(x):\n",
    "    s = 0\n",
    "    l = 0\n",
    "    for i in x:\n",
    "        if type(i) in [int,float]:\n",
    "            s += i\n",
    "            l += 1\n",
    "    print(f'''\n",
    "사용된 데이터 수는 : {l}\n",
    "합계는 : {s}\n",
    "평균은 : {s/l}\n",
    "''')"
   ]
  },
  {
   "cell_type": "code",
   "execution_count": 437,
   "id": "091e9374-2c89-4ec7-b081-2c920972e5e0",
   "metadata": {},
   "outputs": [
    {
     "name": "stdout",
     "output_type": "stream",
     "text": [
      "\n",
      "사용된 데이터 수는 : 3\n",
      "합계는 : 35\n",
      "평균은 : 11.666666666666666\n",
      "\n"
     ]
    }
   ],
   "source": [
    "avg(x)"
   ]
  },
  {
   "cell_type": "code",
   "execution_count": 440,
   "id": "d2f4da55-b0f2-4541-b28b-c3bd5dd1be37",
   "metadata": {},
   "outputs": [],
   "source": [
    "def avg(x):\n",
    "    tmp = []\n",
    "    for i in x:\n",
    "        if type(i) in [int,float]:\n",
    "            tmp.append(i)\n",
    "    return {\"합계\": sum(tmp), \"개수\": len(tmp), \"평균\": sum(tmp)/len(tmp)}"
   ]
  },
  {
   "cell_type": "code",
   "execution_count": 443,
   "id": "bb0e427c-383d-4cca-a513-8066fea234f1",
   "metadata": {},
   "outputs": [
    {
     "data": {
      "text/plain": [
       "{'합계': 35, '개수': 3, '평균': 11.666666666666666}"
      ]
     },
     "execution_count": 443,
     "metadata": {},
     "output_type": "execute_result"
    }
   ],
   "source": [
    "avg(x)"
   ]
  },
  {
   "cell_type": "code",
   "execution_count": 496,
   "id": "fd17c3ee-24fa-47ef-aed9-ed8e65ee11b6",
   "metadata": {},
   "outputs": [],
   "source": [
    "def lll(x):\n",
    "    s = 0\n",
    "    for i in x:\n",
    "        if i != ' ':\n",
    "            s += 1\n",
    "    return s"
   ]
  },
  {
   "cell_type": "code",
   "execution_count": 497,
   "id": "c74c6ace-96e8-4a6e-abb0-37074b15e99f",
   "metadata": {},
   "outputs": [
    {
     "data": {
      "text/plain": [
       "11"
      ]
     },
     "execution_count": 497,
     "metadata": {},
     "output_type": "execute_result"
    }
   ],
   "source": [
    "lll(\"안녕하세요 python\")"
   ]
  },
  {
   "cell_type": "code",
   "execution_count": 498,
   "id": "29bbc84e-8541-40b3-a30f-f9b57346f0c3",
   "metadata": {},
   "outputs": [
    {
     "data": {
      "text/plain": [
       "4"
      ]
     },
     "execution_count": 498,
     "metadata": {},
     "output_type": "execute_result"
    }
   ],
   "source": [
    "lll([1,2,3,4,''])"
   ]
  },
  {
   "cell_type": "code",
   "execution_count": 528,
   "id": "d14ad57e-bbf6-49a5-a3f1-19d23500c0aa",
   "metadata": {},
   "outputs": [],
   "source": [
    "def lll(x):\n",
    "    s = 0\n",
    "    if type(x) == str:\n",
    "        x = [i for i in x if i !=' ']\n",
    "        for i in x:\n",
    "            s += 1\n",
    "    else:\n",
    "        for i in x:\n",
    "            s += 1\n",
    "    return s"
   ]
  },
  {
   "cell_type": "code",
   "execution_count": 531,
   "id": "21874091-af6f-4032-a207-fbf04e41642c",
   "metadata": {},
   "outputs": [],
   "source": [
    "def lll(x):\n",
    "    s = 0\n",
    "    if type(x) == str:\n",
    "        x = [i for i in x if i !=' ']\n",
    "    for i in x:\n",
    "        s += 1\n",
    "    return s"
   ]
  },
  {
   "cell_type": "code",
   "execution_count": 529,
   "id": "aac0d8c6-2e49-41a6-8732-48c01fa04102",
   "metadata": {},
   "outputs": [
    {
     "data": {
      "text/plain": [
       "11"
      ]
     },
     "execution_count": 529,
     "metadata": {},
     "output_type": "execute_result"
    }
   ],
   "source": [
    "lll(\"안녕하세요 python\")"
   ]
  },
  {
   "cell_type": "code",
   "execution_count": 530,
   "id": "7902fd54-4b63-4ad9-9fec-32a82e3f6d08",
   "metadata": {},
   "outputs": [
    {
     "data": {
      "text/plain": [
       "5"
      ]
     },
     "execution_count": 530,
     "metadata": {},
     "output_type": "execute_result"
    }
   ],
   "source": [
    "lll([1,2,3,4,''])"
   ]
  },
  {
   "cell_type": "code",
   "execution_count": 535,
   "id": "f0867bb8-bc8c-47a5-abd6-1a2b06e9a98e",
   "metadata": {},
   "outputs": [],
   "source": [
    "def lll1(x):\n",
    "    s = 0\n",
    "    for i in x:\n",
    "        s += 1\n",
    "    if type(x) == str:\n",
    "        s = s - x.count(' ')\n",
    "    return s"
   ]
  },
  {
   "cell_type": "code",
   "execution_count": 538,
   "id": "8b096a74-00f4-4929-b99c-fa9571de45df",
   "metadata": {},
   "outputs": [
    {
     "data": {
      "text/plain": [
       "11"
      ]
     },
     "execution_count": 538,
     "metadata": {},
     "output_type": "execute_result"
    }
   ],
   "source": [
    "lll1(\"안녕하세요 python\")"
   ]
  },
  {
   "cell_type": "code",
   "execution_count": 539,
   "id": "5e67cf1c-5e66-45b8-9d6e-32da738f077c",
   "metadata": {},
   "outputs": [
    {
     "data": {
      "text/plain": [
       "5"
      ]
     },
     "execution_count": 539,
     "metadata": {},
     "output_type": "execute_result"
    }
   ],
   "source": [
    "lll1([1,2,3,4,''])"
   ]
  },
  {
   "cell_type": "code",
   "execution_count": null,
   "id": "d8a78ed4-751d-4f82-8970-7a0dbace359d",
   "metadata": {},
   "outputs": [],
   "source": []
  }
 ],
 "metadata": {
  "kernelspec": {
   "display_name": "bku",
   "language": "python",
   "name": "bku"
  },
  "language_info": {
   "codemirror_mode": {
    "name": "ipython",
    "version": 3
   },
   "file_extension": ".py",
   "mimetype": "text/x-python",
   "name": "python",
   "nbconvert_exporter": "python",
   "pygments_lexer": "ipython3",
   "version": "3.7.11"
  }
 },
 "nbformat": 4,
 "nbformat_minor": 5
}
