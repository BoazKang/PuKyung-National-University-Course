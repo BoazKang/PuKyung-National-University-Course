{
 "cells": [
  {
   "cell_type": "code",
   "execution_count": 2,
   "id": "e26dea08-8580-4a73-9841-438171541ef7",
   "metadata": {},
   "outputs": [],
   "source": [
    "import numpy as np\n",
    "import matplotlib.pyplot as plt"
   ]
  },
  {
   "cell_type": "code",
   "execution_count": 3,
   "id": "cc11709d-ea2f-4252-bf4e-8e2eb9415496",
   "metadata": {},
   "outputs": [],
   "source": [
    "noise = np.random.randn(100)"
   ]
  },
  {
   "cell_type": "code",
   "execution_count": 4,
   "id": "d5d26fbd-0037-4c5a-961e-aec7dd17e54a",
   "metadata": {},
   "outputs": [],
   "source": [
    "x = np.random.randint(10,20, size=100)\n",
    "y = 3*x + noise"
   ]
  },
  {
   "cell_type": "code",
   "execution_count": 7,
   "id": "242b9f01-6875-416d-8aed-4069753565a7",
   "metadata": {},
   "outputs": [
    {
     "data": {
      "text/plain": [
       "<matplotlib.collections.PathCollection at 0x7f72a259dd30>"
      ]
     },
     "execution_count": 7,
     "metadata": {},
     "output_type": "execute_result"
    },
    {
     "data": {
      "image/png": "[encoded data removed]",
      "text/plain": [
       "<Figure size 432x288 with 1 Axes>"
      ]
     },
     "metadata": {
      "needs_background": "light"
     },
     "output_type": "display_data"
    }
   ],
   "source": [
    "plt.scatter(x,y)"
   ]
  },
  {
   "cell_type": "code",
   "execution_count": 29,
   "id": "a63a7a01-73cc-4a1c-923a-5af1446fc186",
   "metadata": {},
   "outputs": [],
   "source": [
    "a = 3\n",
    "y_hat = a * x\n",
    "err = []\n",
    "for a in np.arange(-5,12):\n",
    "    y_hat = a*x\n",
    "    tmp = (np.sum((y-y_hat)**2)) / y.size\n",
    "    err.append(tmp)"
   ]
  },
  {
   "cell_type": "code",
   "execution_count": 30,
   "id": "25bfc7ec-f4ea-4a4d-9a7c-4bf1ac29ef29",
   "metadata": {},
   "outputs": [
    {
     "data": {
      "text/plain": [
       "[<matplotlib.lines.Line2D at 0x7f72a0fbfb50>]"
      ]
     },
     "execution_count": 30,
     "metadata": {},
     "output_type": "execute_result"
    },
    {
     "data": {
      "image/png": "[encoded data removed]",
      "text/plain": [
       "<Figure size 432x288 with 1 Axes>"
      ]
     },
     "metadata": {
      "needs_background": "light"
     },
     "output_type": "display_data"
    }
   ],
   "source": [
    "a = np.arange(-5,12)\n",
    "plt.plot(a,err)"
   ]
  },
  {
   "cell_type": "code",
   "execution_count": 31,
   "id": "1c6b05dd-8a34-4300-9996-204daf9c7f3e",
   "metadata": {},
   "outputs": [],
   "source": [
    "x = np.array([2,3,4,5])"
   ]
  },
  {
   "cell_type": "code",
   "execution_count": 33,
   "id": "f0d00e51-3633-4e12-848c-c7cf3440fb0c",
   "metadata": {},
   "outputs": [],
   "source": [
    "y = np.array([3,2,1,4])"
   ]
  },
  {
   "cell_type": "code",
   "execution_count": 36,
   "id": "f20deb2c-57c3-4919-bc73-6eee4f08bf8c",
   "metadata": {},
   "outputs": [
    {
     "data": {
      "text/plain": [
       "array([-3,  3,  9,  3])"
      ]
     },
     "execution_count": 36,
     "metadata": {},
     "output_type": "execute_result"
    }
   ],
   "source": [
    "(x-y)*3"
   ]
  },
  {
   "cell_type": "code",
   "execution_count": 92,
   "id": "92f794d2-46fa-45b3-b644-275300203ddf",
   "metadata": {},
   "outputs": [],
   "source": [
    "a = np.random.randint(3,10)"
   ]
  },
  {
   "cell_type": "code",
   "execution_count": 93,
   "id": "cc8ad012-68c5-4380-9830-c0037c2003e0",
   "metadata": {},
   "outputs": [],
   "source": [
    "x = np.random.randint(-10,100,100)\n",
    "y = a*x"
   ]
  },
  {
   "cell_type": "code",
   "execution_count": 94,
   "id": "02b2bb55-c31a-46ed-be5e-af63bc0d0d47",
   "metadata": {},
   "outputs": [
    {
     "name": "stdout",
     "output_type": "stream",
     "text": [
      "-3\n"
     ]
    }
   ],
   "source": [
    "lr = 0.00001\n",
    "_a = np.random.randint(-5,15)\n",
    "print(_a)"
   ]
  },
  {
   "cell_type": "code",
   "execution_count": 95,
   "id": "6c5b0fe2-4f3b-49d7-a545-6e703ef1aca0",
   "metadata": {},
   "outputs": [
    {
     "name": "stdout",
     "output_type": "stream",
     "text": [
      "8.999999999999972\n"
     ]
    }
   ],
   "source": [
    "for i in range(10000):\n",
    "    _a = _a - lr*((_a*x-y)*x).mean()\n",
    "print(_a)"
   ]
  },
  {
   "cell_type": "code",
   "execution_count": 97,
   "id": "2914809d-ea2f-4a91-8f0c-ac01e42a360b",
   "metadata": {},
   "outputs": [],
   "source": [
    "def f(x):\n",
    "    return x*_a"
   ]
  },
  {
   "cell_type": "code",
   "execution_count": 99,
   "id": "f88def9a-5b10-4b92-bca5-eb075bf1feb7",
   "metadata": {},
   "outputs": [
    {
     "data": {
      "text/plain": [
       "179.99999999999943"
      ]
     },
     "execution_count": 99,
     "metadata": {},
     "output_type": "execute_result"
    }
   ],
   "source": [
    "f(20)"
   ]
  },
  {
   "cell_type": "code",
   "execution_count": 124,
   "id": "ea19f628-8cbe-47ab-a3cd-31646b2eef6d",
   "metadata": {},
   "outputs": [],
   "source": [
    "a = np.random.randint(-5,5)\n",
    "b = np.random.randint(-5,5)\n",
    "x = np.random.randint(10,200,1000)\n",
    "y = x * a + b"
   ]
  },
  {
   "cell_type": "code",
   "execution_count": 125,
   "id": "4d1b2da2-30da-4f63-ae8d-e29d6f055de4",
   "metadata": {},
   "outputs": [],
   "source": [
    "epoch = 10000\n",
    "w = np.random.randint(-5,5)\n",
    "_b = np.random.randint(-8,8)\n",
    "lr = 1e-5\n",
    "err = []\n",
    "for i in range(epoch):\n",
    "    y_hat = w*x + _b\n",
    "    w = w - lr*((y_hat-y)*x).mean()\n",
    "    _b = _b - lr*(y_hat-y).mean()"
   ]
  },
  {
   "cell_type": "code",
   "execution_count": 118,
   "id": "bad4060d-ba67-4401-a764-3d6dd4b77e48",
   "metadata": {
    "collapsed": true,
    "jupyter": {
     "outputs_hidden": true
    },
    "tags": []
   },
   "outputs": [
    {
     "ename": "ValueError",
     "evalue": "x and y must have same first dimension, but have shapes (10000,) and (0,)",
     "output_type": "error",
     "traceback": [
      "\u001b[0;31m---------------------------------------------------------------------------\u001b[0m",
      "\u001b[0;31mValueError\u001b[0m                                Traceback (most recent call last)",
      "\u001b[0;32m/tmp/ipykernel_1691/2877316462.py\u001b[0m in \u001b[0;36m<module>\u001b[0;34m\u001b[0m\n\u001b[0;32m----> 1\u001b[0;31m \u001b[0mplt\u001b[0m\u001b[0;34m.\u001b[0m\u001b[0mplot\u001b[0m\u001b[0;34m(\u001b[0m\u001b[0mrange\u001b[0m\u001b[0;34m(\u001b[0m\u001b[0mepoch\u001b[0m\u001b[0;34m)\u001b[0m\u001b[0;34m,\u001b[0m\u001b[0merr\u001b[0m\u001b[0;34m)\u001b[0m\u001b[0;34m\u001b[0m\u001b[0;34m\u001b[0m\u001b[0m\n\u001b[0m",
      "\u001b[0;32m~/anaconda3/lib/python3.9/site-packages/matplotlib/pyplot.py\u001b[0m in \u001b[0;36mplot\u001b[0;34m(scalex, scaley, data, *args, **kwargs)\u001b[0m\n\u001b[1;32m   3017\u001b[0m \u001b[0;34m@\u001b[0m\u001b[0m_copy_docstring_and_deprecators\u001b[0m\u001b[0;34m(\u001b[0m\u001b[0mAxes\u001b[0m\u001b[0;34m.\u001b[0m\u001b[0mplot\u001b[0m\u001b[0;34m)\u001b[0m\u001b[0;34m\u001b[0m\u001b[0;34m\u001b[0m\u001b[0m\n\u001b[1;32m   3018\u001b[0m \u001b[0;32mdef\u001b[0m \u001b[0mplot\u001b[0m\u001b[0;34m(\u001b[0m\u001b[0;34m*\u001b[0m\u001b[0margs\u001b[0m\u001b[0;34m,\u001b[0m \u001b[0mscalex\u001b[0m\u001b[0;34m=\u001b[0m\u001b[0;32mTrue\u001b[0m\u001b[0;34m,\u001b[0m \u001b[0mscaley\u001b[0m\u001b[0;34m=\u001b[0m\u001b[0;32mTrue\u001b[0m\u001b[0;34m,\u001b[0m \u001b[0mdata\u001b[0m\u001b[0;34m=\u001b[0m\u001b[0;32mNone\u001b[0m\u001b[0;34m,\u001b[0m \u001b[0;34m**\u001b[0m\u001b[0mkwargs\u001b[0m\u001b[0;34m)\u001b[0m\u001b[0;34m:\u001b[0m\u001b[0;34m\u001b[0m\u001b[0;34m\u001b[0m\u001b[0m\n\u001b[0;32m-> 3019\u001b[0;31m     return gca().plot(\n\u001b[0m\u001b[1;32m   3020\u001b[0m         \u001b[0;34m*\u001b[0m\u001b[0margs\u001b[0m\u001b[0;34m,\u001b[0m \u001b[0mscalex\u001b[0m\u001b[0;34m=\u001b[0m\u001b[0mscalex\u001b[0m\u001b[0;34m,\u001b[0m \u001b[0mscaley\u001b[0m\u001b[0;34m=\u001b[0m\u001b[0mscaley\u001b[0m\u001b[0;34m,\u001b[0m\u001b[0;34m\u001b[0m\u001b[0;34m\u001b[0m\u001b[0m\n\u001b[1;32m   3021\u001b[0m         **({\"data\": data} if data is not None else {}), **kwargs)\n",
      "\u001b[0;32m~/anaconda3/lib/python3.9/site-packages/matplotlib/axes/_axes.py\u001b[0m in \u001b[0;36mplot\u001b[0;34m(self, scalex, scaley, data, *args, **kwargs)\u001b[0m\n\u001b[1;32m   1603\u001b[0m         \"\"\"\n\u001b[1;32m   1604\u001b[0m         \u001b[0mkwargs\u001b[0m \u001b[0;34m=\u001b[0m \u001b[0mcbook\u001b[0m\u001b[0;34m.\u001b[0m\u001b[0mnormalize_kwargs\u001b[0m\u001b[0;34m(\u001b[0m\u001b[0mkwargs\u001b[0m\u001b[0;34m,\u001b[0m \u001b[0mmlines\u001b[0m\u001b[0;34m.\u001b[0m\u001b[0mLine2D\u001b[0m\u001b[0;34m)\u001b[0m\u001b[0;34m\u001b[0m\u001b[0;34m\u001b[0m\u001b[0m\n\u001b[0;32m-> 1605\u001b[0;31m         \u001b[0mlines\u001b[0m \u001b[0;34m=\u001b[0m \u001b[0;34m[\u001b[0m\u001b[0;34m*\u001b[0m\u001b[0mself\u001b[0m\u001b[0;34m.\u001b[0m\u001b[0m_get_lines\u001b[0m\u001b[0;34m(\u001b[0m\u001b[0;34m*\u001b[0m\u001b[0margs\u001b[0m\u001b[0;34m,\u001b[0m \u001b[0mdata\u001b[0m\u001b[0;34m=\u001b[0m\u001b[0mdata\u001b[0m\u001b[0;34m,\u001b[0m \u001b[0;34m**\u001b[0m\u001b[0mkwargs\u001b[0m\u001b[0;34m)\u001b[0m\u001b[0;34m]\u001b[0m\u001b[0;34m\u001b[0m\u001b[0;34m\u001b[0m\u001b[0m\n\u001b[0m\u001b[1;32m   1606\u001b[0m         \u001b[0;32mfor\u001b[0m \u001b[0mline\u001b[0m \u001b[0;32min\u001b[0m \u001b[0mlines\u001b[0m\u001b[0;34m:\u001b[0m\u001b[0;34m\u001b[0m\u001b[0;34m\u001b[0m\u001b[0m\n\u001b[1;32m   1607\u001b[0m             \u001b[0mself\u001b[0m\u001b[0;34m.\u001b[0m\u001b[0madd_line\u001b[0m\u001b[0;34m(\u001b[0m\u001b[0mline\u001b[0m\u001b[0;34m)\u001b[0m\u001b[0;34m\u001b[0m\u001b[0;34m\u001b[0m\u001b[0m\n",
      "\u001b[0;32m~/anaconda3/lib/python3.9/site-packages/matplotlib/axes/_base.py\u001b[0m in \u001b[0;36m__call__\u001b[0;34m(self, data, *args, **kwargs)\u001b[0m\n\u001b[1;32m    313\u001b[0m                 \u001b[0mthis\u001b[0m \u001b[0;34m+=\u001b[0m \u001b[0margs\u001b[0m\u001b[0;34m[\u001b[0m\u001b[0;36m0\u001b[0m\u001b[0;34m]\u001b[0m\u001b[0;34m,\u001b[0m\u001b[0;34m\u001b[0m\u001b[0;34m\u001b[0m\u001b[0m\n\u001b[1;32m    314\u001b[0m                 \u001b[0margs\u001b[0m \u001b[0;34m=\u001b[0m \u001b[0margs\u001b[0m\u001b[0;34m[\u001b[0m\u001b[0;36m1\u001b[0m\u001b[0;34m:\u001b[0m\u001b[0;34m]\u001b[0m\u001b[0;34m\u001b[0m\u001b[0;34m\u001b[0m\u001b[0m\n\u001b[0;32m--> 315\u001b[0;31m             \u001b[0;32myield\u001b[0m \u001b[0;32mfrom\u001b[0m \u001b[0mself\u001b[0m\u001b[0;34m.\u001b[0m\u001b[0m_plot_args\u001b[0m\u001b[0;34m(\u001b[0m\u001b[0mthis\u001b[0m\u001b[0;34m,\u001b[0m \u001b[0mkwargs\u001b[0m\u001b[0;34m)\u001b[0m\u001b[0;34m\u001b[0m\u001b[0;34m\u001b[0m\u001b[0m\n\u001b[0m\u001b[1;32m    316\u001b[0m \u001b[0;34m\u001b[0m\u001b[0m\n\u001b[1;32m    317\u001b[0m     \u001b[0;32mdef\u001b[0m \u001b[0mget_next_color\u001b[0m\u001b[0;34m(\u001b[0m\u001b[0mself\u001b[0m\u001b[0;34m)\u001b[0m\u001b[0;34m:\u001b[0m\u001b[0;34m\u001b[0m\u001b[0;34m\u001b[0m\u001b[0m\n",
      "\u001b[0;32m~/anaconda3/lib/python3.9/site-packages/matplotlib/axes/_base.py\u001b[0m in \u001b[0;36m_plot_args\u001b[0;34m(self, tup, kwargs, return_kwargs)\u001b[0m\n\u001b[1;32m    499\u001b[0m \u001b[0;34m\u001b[0m\u001b[0m\n\u001b[1;32m    500\u001b[0m         \u001b[0;32mif\u001b[0m \u001b[0mx\u001b[0m\u001b[0;34m.\u001b[0m\u001b[0mshape\u001b[0m\u001b[0;34m[\u001b[0m\u001b[0;36m0\u001b[0m\u001b[0;34m]\u001b[0m \u001b[0;34m!=\u001b[0m \u001b[0my\u001b[0m\u001b[0;34m.\u001b[0m\u001b[0mshape\u001b[0m\u001b[0;34m[\u001b[0m\u001b[0;36m0\u001b[0m\u001b[0;34m]\u001b[0m\u001b[0;34m:\u001b[0m\u001b[0;34m\u001b[0m\u001b[0;34m\u001b[0m\u001b[0m\n\u001b[0;32m--> 501\u001b[0;31m             raise ValueError(f\"x and y must have same first dimension, but \"\n\u001b[0m\u001b[1;32m    502\u001b[0m                              f\"have shapes {x.shape} and {y.shape}\")\n\u001b[1;32m    503\u001b[0m         \u001b[0;32mif\u001b[0m \u001b[0mx\u001b[0m\u001b[0;34m.\u001b[0m\u001b[0mndim\u001b[0m \u001b[0;34m>\u001b[0m \u001b[0;36m2\u001b[0m \u001b[0;32mor\u001b[0m \u001b[0my\u001b[0m\u001b[0;34m.\u001b[0m\u001b[0mndim\u001b[0m \u001b[0;34m>\u001b[0m \u001b[0;36m2\u001b[0m\u001b[0;34m:\u001b[0m\u001b[0;34m\u001b[0m\u001b[0;34m\u001b[0m\u001b[0m\n",
      "\u001b[0;31mValueError\u001b[0m: x and y must have same first dimension, but have shapes (10000,) and (0,)"
     ]
    },
    {
     "data": {
      "image/png": "[encoded data removed]",
      "text/plain": [
       "<Figure size 432x288 with 1 Axes>"
      ]
     },
     "metadata": {
      "needs_background": "light"
     },
     "output_type": "display_data"
    }
   ],
   "source": [
    "plt.plot(range(epoch),err)"
   ]
  },
  {
   "cell_type": "code",
   "execution_count": 126,
   "id": "578263e5-1f2b-4718-b95d-4e8b78f97254",
   "metadata": {},
   "outputs": [
    {
     "name": "stdout",
     "output_type": "stream",
     "text": [
      "실제 기울기 0 예측 기울기 0.007204260942996189 \n",
      " 실제편차 2 예측편차 1.0503381300009964\n"
     ]
    }
   ],
   "source": [
    "print(f\"실제 기울기 {a} 예측 기울기 {w} \\n 실제편차 {b} 예측편차 {_b}\")"
   ]
  },
  {
   "cell_type": "code",
   "execution_count": 23,
   "id": "e093ad84-d5db-4a19-a6e5-6db5024274c3",
   "metadata": {},
   "outputs": [],
   "source": [
    "x1 = np.random.randint(1,100, size=1000)\n",
    "x2 = np.random.randint(1,100, size=1000)\n",
    "# a1 = np.random.randint(1,10)\n",
    "# a2 = np.random.randint(-10,2)\n",
    "# b = np.random.randint(1,6)\n",
    "y = np.random.randint(1,100, size=1000)"
   ]
  },
  {
   "cell_type": "code",
   "execution_count": 24,
   "id": "35df4001-44fa-498e-b278-c0f2c0e35de5",
   "metadata": {},
   "outputs": [],
   "source": [
    "# w1과 w2는 독립됨\n",
    "lr = 1e-5\n",
    "epoch = 10000\n",
    "w1 = -1\n",
    "w2 = -3\n",
    "_b = 3\n",
    "for i in range(epoch):\n",
    "    y_hat = w1*x1 + w2*x2 + _b\n",
    "    w1 = w1 - lr*((y_hat-y)*x1).mean()\n",
    "    w2 = w2 - lr*((y_hat-y)*x2).mean()\n",
    "    _b = _b - lr*(y_hat-y).mean()    "
   ]
  },
  {
   "cell_type": "code",
   "execution_count": null,
   "id": "b09d366d-b60e-478b-8883-4ab6bc807ea4",
   "metadata": {},
   "outputs": [],
   "source": [
    "np.sum((x-x.mean())**2)/(x.size-1) # 분산"
   ]
  },
  {
   "cell_type": "code",
   "execution_count": 25,
   "id": "c3ec2e58-c10b-49e0-acb5-2541549909b3",
   "metadata": {},
   "outputs": [],
   "source": [
    "y # 실제값\n",
    "y_hat = w1*x1 + w2*x2 + _b # 예측값"
   ]
  },
  {
   "cell_type": "code",
   "execution_count": 26,
   "id": "2f7af133-361a-4378-bc1a-d6b6f7cc9ef1",
   "metadata": {},
   "outputs": [],
   "source": [
    "# 오차의 제곱 = (실제값 - 예측값)제곱의 합\n",
    "오차의제곱합 = np.sum((y-y_hat)**2)\n",
    "\n",
    "# 편차의 제곱 = (실제값 - 실제값의평균)제곱의 합\n",
    "편차의제곱합 = np.sum((y-y.mean())**2)"
   ]
  },
  {
   "cell_type": "code",
   "execution_count": 28,
   "id": "809e8e22-5518-49d9-94b1-e408ec8dec55",
   "metadata": {},
   "outputs": [
    {
     "data": {
      "text/plain": [
       "-0.4495861123688478"
      ]
     },
     "execution_count": 28,
     "metadata": {},
     "output_type": "execute_result"
    }
   ],
   "source": [
    "r_squared = 1 - (오차의제곱합)/(편차의제곱합) # 결정계수: 모델이 믿을만한가?\n",
    "r_squared"
   ]
  },
  {
   "cell_type": "code",
   "execution_count": 162,
   "id": "9fd6758d-dea4-49a0-8cd8-0376e2701044",
   "metadata": {
    "tags": []
   },
   "outputs": [
    {
     "data": {
      "text/plain": [
       "array([32.75259001, 47.99468627, 39.99557189, 15.24209625, 42.10479782])"
      ]
     },
     "execution_count": 162,
     "metadata": {},
     "output_type": "execute_result"
    }
   ],
   "source": [
    "w1*x1 + w2*x2"
   ]
  },
  {
   "cell_type": "code",
   "execution_count": 163,
   "id": "c6daf10d-ef1b-4d70-9035-6601127f3b66",
   "metadata": {},
   "outputs": [],
   "source": [
    "x1 = np.random.randint(1,10,5)\n",
    "x2 = np.random.randint(1,10,5)"
   ]
  },
  {
   "cell_type": "code",
   "execution_count": 164,
   "id": "4cb45104-c3a4-4bb7-aad3-25f695032b2d",
   "metadata": {},
   "outputs": [],
   "source": [
    "w1 = 5\n",
    "w2 = 4"
   ]
  },
  {
   "cell_type": "code",
   "execution_count": 165,
   "id": "56fa9f21-4a10-49b5-bf9f-eb00d302937f",
   "metadata": {},
   "outputs": [],
   "source": [
    "y = x1*w1 + x2*w2"
   ]
  },
  {
   "cell_type": "code",
   "execution_count": 166,
   "id": "d0a80187-f7fe-49ff-8b16-821d72c281e7",
   "metadata": {},
   "outputs": [
    {
     "data": {
      "text/plain": [
       "array([53, 57, 39, 49, 62])"
      ]
     },
     "execution_count": 166,
     "metadata": {},
     "output_type": "execute_result"
    }
   ],
   "source": [
    "y"
   ]
  },
  {
   "cell_type": "code",
   "execution_count": 167,
   "id": "31a34cd4-125a-4cd3-8440-fab8d98a2dee",
   "metadata": {},
   "outputs": [],
   "source": [
    "x3 = np.array([x1,x2])"
   ]
  },
  {
   "cell_type": "code",
   "execution_count": 168,
   "id": "3edcff88-e020-4bc7-b5cc-b062dfedb167",
   "metadata": {},
   "outputs": [],
   "source": [
    "x3 = x3.T"
   ]
  },
  {
   "cell_type": "code",
   "execution_count": 169,
   "id": "867631a1-0f68-436b-b80e-da71fde3ad3b",
   "metadata": {},
   "outputs": [
    {
     "data": {
      "text/plain": [
       "(5, 2)"
      ]
     },
     "execution_count": 169,
     "metadata": {},
     "output_type": "execute_result"
    }
   ],
   "source": [
    "x3.shape"
   ]
  },
  {
   "cell_type": "code",
   "execution_count": 170,
   "id": "ab410c26-a079-4d8d-ad80-0d1a1a3d660f",
   "metadata": {},
   "outputs": [],
   "source": [
    "w = np.array([w1,w2]).reshape(2,1)"
   ]
  },
  {
   "cell_type": "code",
   "execution_count": 171,
   "id": "57bb40ac-6102-4273-9c29-7ed44d1385d7",
   "metadata": {},
   "outputs": [],
   "source": [
    "y2 = np.dot(x3,w)"
   ]
  },
  {
   "cell_type": "raw",
   "id": "b0f3e90f-70ed-432f-999d-234bddded10a",
   "metadata": {},
   "source": [
    "intercept = 절편\n",
    "정규분포에는 error가 반드시 있음\n",
    "redidual = 단차\n",
    "시그모이드 함수\n",
    "두 변수간의 관계를 선으로 그릴 수 있으면 학습할 수 있다\n",
    "머신러닝은 무조건 일차함수(선형성을 유지함)\n",
    "결정계수 0.8이상부터 사용"
   ]
  },
  {
   "cell_type": "code",
   "execution_count": 174,
   "id": "0a73173f-c666-4027-937e-563dbad95f4c",
   "metadata": {},
   "outputs": [],
   "source": [
    "x = np.random.randint(10,100,size=1000)\n",
    "y = x*7 + np.random.randint(1,5,1000)"
   ]
  },
  {
   "cell_type": "code",
   "execution_count": 176,
   "id": "7dc78412-ada5-4721-93e5-fa4452b5313a",
   "metadata": {},
   "outputs": [
    {
     "data": {
      "text/plain": [
       "681.807744"
      ]
     },
     "execution_count": 176,
     "metadata": {},
     "output_type": "execute_result"
    }
   ],
   "source": [
    "np.var(x)"
   ]
  },
  {
   "cell_type": "code",
   "execution_count": 177,
   "id": "1add5942-ae6c-48ca-8cab-f2437846624d",
   "metadata": {},
   "outputs": [
    {
     "data": {
      "text/plain": [
       "681.807744"
      ]
     },
     "execution_count": 177,
     "metadata": {},
     "output_type": "execute_result"
    }
   ],
   "source": [
    "np.sum((x - x.mean())**2)/x.size"
   ]
  },
  {
   "cell_type": "code",
   "execution_count": 183,
   "id": "1bd63cd5-61f7-483c-aa33-000970b6700a",
   "metadata": {},
   "outputs": [
    {
     "data": {
      "text/plain": [
       "1.0009823659360708"
      ]
     },
     "execution_count": 183,
     "metadata": {},
     "output_type": "execute_result"
    }
   ],
   "source": [
    "(np.sum((x-x.mean())*(y-y.mean())))/(999)/np.sqrt(np.var(x)*np.var(y)) # np.sqrt()는 루트\n",
    "# 값은 -1 < r < 1 이 나오는게 정상 1에 가까울 수록 강한 상관관계를 가짐"
   ]
  },
  {
   "cell_type": "code",
   "execution_count": 184,
   "id": "34fce667-2b13-426b-9581-691323727e24",
   "metadata": {},
   "outputs": [],
   "source": [
    "x = np.random.randint(10,100,size=1000)\n",
    "y = np.random.randint(10,100,size=1000)"
   ]
  },
  {
   "cell_type": "code",
   "execution_count": 185,
   "id": "7855beda-0262-4d82-aca2-c4c5c452199f",
   "metadata": {},
   "outputs": [
    {
     "data": {
      "text/plain": [
       "-0.00560775894936713"
      ]
     },
     "execution_count": 185,
     "metadata": {},
     "output_type": "execute_result"
    }
   ],
   "source": [
    "(np.sum((x-x.mean())*(y-y.mean())))/(999)/np.sqrt(np.var(x)*np.var(y))"
   ]
  },
  {
   "cell_type": "code",
   "execution_count": 186,
   "id": "60b9d211-89c7-4e96-a604-17a70a965cb6",
   "metadata": {},
   "outputs": [],
   "source": [
    "x = np.arange(1,100)"
   ]
  },
  {
   "cell_type": "code",
   "execution_count": 192,
   "id": "9b92ceb9-7966-4e42-877b-2e83cbcf58e0",
   "metadata": {},
   "outputs": [],
   "source": [
    "y = np.linspace(0,1,99)"
   ]
  },
  {
   "cell_type": "code",
   "execution_count": 195,
   "id": "90db5f83-9b70-44c3-96ea-57821f349d94",
   "metadata": {},
   "outputs": [],
   "source": [
    "logi_x = 1/(1+np.exp(-x))"
   ]
  },
  {
   "cell_type": "code",
   "execution_count": 193,
   "id": "789c1457-cd51-408f-9c2e-a8e2efc909b5",
   "metadata": {},
   "outputs": [
    {
     "data": {
      "text/plain": [
       "[<matplotlib.lines.Line2D at 0x7f72a0dafcd0>]"
      ]
     },
     "execution_count": 193,
     "metadata": {},
     "output_type": "execute_result"
    },
    {
     "data": {
      "image/png": "[encoded data removed]",
      "text/plain": [
       "<Figure size 432x288 with 1 Axes>"
      ]
     },
     "metadata": {
      "needs_background": "light"
     },
     "output_type": "display_data"
    }
   ],
   "source": [
    "plt.plot(x,y)"
   ]
  },
  {
   "cell_type": "code",
   "execution_count": 1,
   "id": "8bfe35de-883b-4d20-af5a-0517ad5dff1e",
   "metadata": {
    "collapsed": true,
    "jupyter": {
     "outputs_hidden": true
    },
    "tags": []
   },
   "outputs": [
    {
     "ename": "NameError",
     "evalue": "name 'plt' is not defined",
     "output_type": "error",
     "traceback": [
      "\u001b[0;31m---------------------------------------------------------------------------\u001b[0m",
      "\u001b[0;31mNameError\u001b[0m                                 Traceback (most recent call last)",
      "\u001b[0;32m/tmp/ipykernel_1607/1158801035.py\u001b[0m in \u001b[0;36m<module>\u001b[0;34m\u001b[0m\n\u001b[0;32m----> 1\u001b[0;31m \u001b[0mplt\u001b[0m\u001b[0;34m.\u001b[0m\u001b[0mplot\u001b[0m\u001b[0;34m(\u001b[0m\u001b[0mlogi_x\u001b[0m\u001b[0;34m,\u001b[0m\u001b[0my\u001b[0m\u001b[0;34m)\u001b[0m\u001b[0;34m\u001b[0m\u001b[0;34m\u001b[0m\u001b[0m\n\u001b[0m",
      "\u001b[0;31mNameError\u001b[0m: name 'plt' is not defined"
     ]
    }
   ],
   "source": [
    "plt.plot(logi_x,y)"
   ]
  },
  {
   "cell_type": "raw",
   "id": "c4cfa102-6536-43d8-a2b7-305b6d98f41e",
   "metadata": {},
   "source": [
    "시그모이드 함수: 1 / (1+e**-x)"
   ]
  },
  {
   "cell_type": "code",
   "execution_count": 10,
   "id": "81c2f623-0ecd-4949-a0f2-786585d54b2c",
   "metadata": {},
   "outputs": [],
   "source": [
    "def step(x):\n",
    "    return np.array(x>=0, np.int)\n",
    "def sigmoid(x):\n",
    "    return 1/(1+np.exp(-x))\n",
    "x = np.arange(-5,5)"
   ]
  },
  {
   "cell_type": "code",
   "execution_count": 11,
   "id": "23dc0e14-2663-4c7f-833f-68910f3024ee",
   "metadata": {},
   "outputs": [
    {
     "name": "stderr",
     "output_type": "stream",
     "text": [
      "/tmp/ipykernel_1607/2844896735.py:2: DeprecationWarning: `np.int` is a deprecated alias for the builtin `int`. To silence this warning, use `int` by itself. Doing this will not modify any behavior and is safe. When replacing `np.int`, you may wish to use e.g. `np.int64` or `np.int32` to specify the precision. If you wish to review your current use, check the release note link for additional information.\n",
      "Deprecated in NumPy 1.20; for more details and guidance: https://numpy.org/devdocs/release/1.20.0-notes.html#deprecations\n",
      "  return np.array(x>=0, np.int)\n"
     ]
    },
    {
     "data": {
      "text/plain": [
       "[<matplotlib.lines.Line2D at 0x7f83e6aca370>]"
      ]
     },
     "execution_count": 11,
     "metadata": {},
     "output_type": "execute_result"
    },
    {
     "data": {
      "image/png": "[encoded data removed]",
      "text/plain": [
       "<Figure size 432x288 with 1 Axes>"
      ]
     },
     "metadata": {
      "needs_background": "light"
     },
     "output_type": "display_data"
    }
   ],
   "source": [
    "plt.plot(x,step(x))"
   ]
  },
  {
   "cell_type": "code",
   "execution_count": 12,
   "id": "aafdf026-203e-4596-8ca1-3c17a390f48d",
   "metadata": {},
   "outputs": [
    {
     "data": {
      "text/plain": [
       "[<matplotlib.lines.Line2D at 0x7f83e6aa5730>]"
      ]
     },
     "execution_count": 12,
     "metadata": {},
     "output_type": "execute_result"
    },
    {
     "data": {
      "image/png": "[encoded data removed]",
      "text/plain": [
       "<Figure size 432x288 with 1 Axes>"
      ]
     },
     "metadata": {
      "needs_background": "light"
     },
     "output_type": "display_data"
    }
   ],
   "source": [
    "plt.plot(x,sigmoid(x))"
   ]
  },
  {
   "cell_type": "code",
   "execution_count": 13,
   "id": "44cc95fb-15d0-4f2c-a0af-ebec500fd537",
   "metadata": {},
   "outputs": [
    {
     "data": {
      "text/plain": [
       "1.0"
      ]
     },
     "execution_count": 13,
     "metadata": {},
     "output_type": "execute_result"
    }
   ],
   "source": [
    "sigmoid(200)"
   ]
  },
  {
   "cell_type": "code",
   "execution_count": 29,
   "id": "262906d2-fcf6-4e71-aa62-1a7d9c7e2965",
   "metadata": {},
   "outputs": [],
   "source": [
    "x1 = np.random.randint(10000,100000,1000)\n",
    "x2 = np.random.randint(1,10,1000)"
   ]
  },
  {
   "cell_type": "code",
   "execution_count": 35,
   "id": "ec2650db-30e5-4d75-9762-2d89230d1e76",
   "metadata": {},
   "outputs": [],
   "source": [
    "x1_var = np.sum((x1-x1.mean())**2) / x1.size # x1의 분산\n",
    "x2_var = np.sum((x2-x2.mean())**2) / x2.size # x2의 분산"
   ]
  },
  {
   "cell_type": "code",
   "execution_count": 38,
   "id": "be84d0e2-f21a-4810-9be0-04eba4f057da",
   "metadata": {},
   "outputs": [
    {
     "data": {
      "text/plain": [
       "651179027.319031"
      ]
     },
     "execution_count": 38,
     "metadata": {},
     "output_type": "execute_result"
    }
   ],
   "source": [
    "x1_var"
   ]
  },
  {
   "cell_type": "code",
   "execution_count": 41,
   "id": "8bdd9127-1d78-43d7-b571-777637137da3",
   "metadata": {},
   "outputs": [],
   "source": [
    "cov = np.sum(((x1-x1.mean())*(x2-x2.mean()))) /len(x2) # 공분산"
   ]
  },
  {
   "cell_type": "code",
   "execution_count": 42,
   "id": "d59617e6-6253-480a-b0e5-4194676e5812",
   "metadata": {},
   "outputs": [
    {
     "data": {
      "text/plain": [
       "1985.0123939999999"
      ]
     },
     "execution_count": 42,
     "metadata": {},
     "output_type": "execute_result"
    }
   ],
   "source": [
    "cov"
   ]
  },
  {
   "cell_type": "code",
   "execution_count": 43,
   "id": "318da527-6503-4183-9dba-092bf83dba0b",
   "metadata": {},
   "outputs": [],
   "source": [
    "x1_sc = (max(x1)-x1) / (max(x1)-min(x1)) # x1을 스케일링한 값"
   ]
  },
  {
   "cell_type": "code",
   "execution_count": 45,
   "id": "55f3654f-7eac-4210-b5b0-5f1feacae0ea",
   "metadata": {},
   "outputs": [],
   "source": [
    "x2_sc = (max(x2)-x2) / (max(x2)-min(x2)) # x2를 스케일링한 값"
   ]
  },
  {
   "cell_type": "code",
   "execution_count": 51,
   "id": "f8f35261-d3e6-40ee-bd15-3aad7599352f",
   "metadata": {},
   "outputs": [],
   "source": [
    "cov_sc = np.sum(((x1_sc-x1_sc.mean())*(x2_sc-x2_sc.mean()))) /len(x2_sc) # 스케일링한 공분산, 공분산은 단위의 영향받음"
   ]
  },
  {
   "cell_type": "code",
   "execution_count": 52,
   "id": "4e9f88ee-5b66-4073-9484-829a9a9c3074",
   "metadata": {},
   "outputs": [
    {
     "data": {
      "text/plain": [
       "0.002760488949769149"
      ]
     },
     "execution_count": 52,
     "metadata": {},
     "output_type": "execute_result"
    }
   ],
   "source": [
    "cov_sc"
   ]
  },
  {
   "cell_type": "code",
   "execution_count": 53,
   "id": "f9f32b28-f534-4cc5-b135-adb5904c444d",
   "metadata": {},
   "outputs": [],
   "source": [
    "from sklearn.datasets import load_iris"
   ]
  },
  {
   "cell_type": "code",
   "execution_count": 54,
   "id": "30a515de-2c24-4d60-89c4-2eb923b853be",
   "metadata": {},
   "outputs": [],
   "source": [
    "iris = load_iris()[\"data\"]"
   ]
  },
  {
   "cell_type": "code",
   "execution_count": 60,
   "id": "8ffd68c2-ac0e-4ec9-9b4a-38f16bad9977",
   "metadata": {},
   "outputs": [
    {
     "data": {
      "text/plain": [
       "<matplotlib.collections.PathCollection at 0x7f83e2f68550>"
      ]
     },
     "execution_count": 60,
     "metadata": {},
     "output_type": "execute_result"
    },
    {
     "data": {
      "image/png": "[encoded data removed]",
      "text/plain": [
       "<Figure size 432x288 with 1 Axes>"
      ]
     },
     "metadata": {
      "needs_background": "light"
     },
     "output_type": "display_data"
    }
   ],
   "source": [
    "plt.scatter(iris[:,1],iris[:,2])"
   ]
  },
  {
   "cell_type": "code",
   "execution_count": 75,
   "id": "0cd4a8c0-b8f6-4b22-b7da-b6bf210eb351",
   "metadata": {},
   "outputs": [],
   "source": [
    "x1 = iris[:,0]\n",
    "x2 = iris[:,1]"
   ]
  },
  {
   "cell_type": "code",
   "execution_count": 76,
   "id": "238c60ad-3cbe-446c-a310-61b163b86435",
   "metadata": {},
   "outputs": [],
   "source": [
    "from sklearn.datasets import load_iris\n",
    "data = load_iris()\n",
    "x1 = iris[:,0]\n",
    "x2 = iris[:,1]"
   ]
  },
  {
   "cell_type": "code",
   "execution_count": 77,
   "id": "4f31be4d-b6bb-433a-83c5-a1937574492c",
   "metadata": {},
   "outputs": [],
   "source": [
    "# 공분산, 상관계수 구하기"
   ]
  },
  {
   "cell_type": "code",
   "execution_count": 78,
   "id": "7cf7d0af-b480-4b62-b211-6397beb3bde0",
   "metadata": {},
   "outputs": [
    {
     "data": {
      "text/plain": [
       "2.205748828080182"
      ]
     },
     "execution_count": 78,
     "metadata": {},
     "output_type": "execute_result"
    }
   ],
   "source": [
    "np.sum(np.cov(x1,x2))/(np.std(x1) * np.std(x2)) # std는 표준편차 var은 분산"
   ]
  },
  {
   "cell_type": "code",
   "execution_count": 79,
   "id": "2b839e25-b61f-4db4-b7cd-b759252dc95f",
   "metadata": {},
   "outputs": [],
   "source": [
    "x1_sc = (max(x1)-x1) / (max(x1)-min(x1))\n",
    "x2_sc = (max(x2)-x2) / (max(x2)-min(x2))"
   ]
  },
  {
   "cell_type": "code",
   "execution_count": 80,
   "id": "fcdf887f-e1b8-41e3-820b-fda4369a5e0a",
   "metadata": {},
   "outputs": [
    {
     "data": {
      "text/plain": [
       "1.8331759731432378"
      ]
     },
     "execution_count": 80,
     "metadata": {},
     "output_type": "execute_result"
    }
   ],
   "source": [
    "np.sum(np.cov(x1_sc,x2_sc))/(np.std(x1_sc) * np.std(x2_sc))"
   ]
  },
  {
   "cell_type": "code",
   "execution_count": 81,
   "id": "16eded27-de5b-4000-8def-faa9350cd44f",
   "metadata": {},
   "outputs": [],
   "source": [
    "cov = np.sum(((x1-x1.mean())*(x2-x2.mean()))) /len(x2)"
   ]
  },
  {
   "cell_type": "code",
   "execution_count": 92,
   "id": "948200a3-c3f8-4fc3-bc7a-374a33f9b3e8",
   "metadata": {},
   "outputs": [],
   "source": [
    "import pandas as pd\n",
    "x = load_iris()['data']\n",
    "dt = pd.DataFrame(x)\n",
    "dt.columns = load_iris()['feature_names']\n",
    "dt['Species'] = np.where(load_iris()['target'] == 0, 'setosa', \n",
    "    np.where(load_iris()['target'] == 1, 'vesicolor', 'verginica'))"
   ]
  },
  {
   "cell_type": "code",
   "execution_count": 95,
   "id": "2a91322f-e916-4448-b7b6-791aa299d06c",
   "metadata": {},
   "outputs": [],
   "source": [
    "dt.to_csv('iris.csv')"
   ]
  },
  {
   "cell_type": "code",
   "execution_count": 96,
   "id": "665e9653-af7b-45b7-aae9-3ec2802297a0",
   "metadata": {},
   "outputs": [],
   "source": [
    "data = pd.read_csv('iris.csv')"
   ]
  },
  {
   "cell_type": "code",
   "execution_count": 98,
   "id": "fc4a0d57-38f2-4626-bd91-a67d4abcbcbc",
   "metadata": {},
   "outputs": [],
   "source": [
    "data = data.iloc[:,1:]"
   ]
  },
  {
   "cell_type": "code",
   "execution_count": 101,
   "id": "25c75b0d-4b63-47c1-8ca6-7d9de1297bc3",
   "metadata": {},
   "outputs": [
    {
     "data": {
      "text/plain": [
       "sepal length (cm)    0\n",
       "sepal width (cm)     0\n",
       "petal length (cm)    0\n",
       "petal width (cm)     0\n",
       "Species              0\n",
       "dtype: int64"
      ]
     },
     "execution_count": 101,
     "metadata": {},
     "output_type": "execute_result"
    }
   ],
   "source": [
    "data.isna().sum()"
   ]
  },
  {
   "cell_type": "code",
   "execution_count": 105,
   "id": "d3eb403b-245c-4d08-a1ca-e1e2ee993c2f",
   "metadata": {},
   "outputs": [],
   "source": [
    "X = data.iloc[:,:-1]\n",
    "y = data.iloc[:,-1]"
   ]
  },
  {
   "cell_type": "code",
   "execution_count": 106,
   "id": "5a3b29ab-67ee-4242-ba97-38d17ebc71e1",
   "metadata": {},
   "outputs": [
    {
     "data": {
      "text/html": [
       "<div>\n",
       "<style scoped>\n",
       "    .dataframe tbody tr th:only-of-type {\n",
       "        vertical-align: middle;\n",
       "    }\n",
       "\n",
       "    .dataframe tbody tr th {\n",
       "        vertical-align: top;\n",
       "    }\n",
       "\n",
       "    .dataframe thead th {\n",
       "        text-align: right;\n",
       "    }\n",
       "</style>\n",
       "<table border=\"1\" class=\"dataframe\">\n",
       "  <thead>\n",
       "    <tr style=\"text-align: right;\">\n",
       "      <th></th>\n",
       "      <th>sepal length (cm)</th>\n",
       "      <th>sepal width (cm)</th>\n",
       "      <th>petal length (cm)</th>\n",
       "      <th>petal width (cm)</th>\n",
       "    </tr>\n",
       "  </thead>\n",
       "  <tbody>\n",
       "    <tr>\n",
       "      <th>0</th>\n",
       "      <td>5.1</td>\n",
       "      <td>3.5</td>\n",
       "      <td>1.4</td>\n",
       "      <td>0.2</td>\n",
       "    </tr>\n",
       "    <tr>\n",
       "      <th>1</th>\n",
       "      <td>4.9</td>\n",
       "      <td>3.0</td>\n",
       "      <td>1.4</td>\n",
       "      <td>0.2</td>\n",
       "    </tr>\n",
       "    <tr>\n",
       "      <th>2</th>\n",
       "      <td>4.7</td>\n",
       "      <td>3.2</td>\n",
       "      <td>1.3</td>\n",
       "      <td>0.2</td>\n",
       "    </tr>\n",
       "    <tr>\n",
       "      <th>3</th>\n",
       "      <td>4.6</td>\n",
       "      <td>3.1</td>\n",
       "      <td>1.5</td>\n",
       "      <td>0.2</td>\n",
       "    </tr>\n",
       "    <tr>\n",
       "      <th>4</th>\n",
       "      <td>5.0</td>\n",
       "      <td>3.6</td>\n",
       "      <td>1.4</td>\n",
       "      <td>0.2</td>\n",
       "    </tr>\n",
       "    <tr>\n",
       "      <th>...</th>\n",
       "      <td>...</td>\n",
       "      <td>...</td>\n",
       "      <td>...</td>\n",
       "      <td>...</td>\n",
       "    </tr>\n",
       "    <tr>\n",
       "      <th>145</th>\n",
       "      <td>6.7</td>\n",
       "      <td>3.0</td>\n",
       "      <td>5.2</td>\n",
       "      <td>2.3</td>\n",
       "    </tr>\n",
       "    <tr>\n",
       "      <th>146</th>\n",
       "      <td>6.3</td>\n",
       "      <td>2.5</td>\n",
       "      <td>5.0</td>\n",
       "      <td>1.9</td>\n",
       "    </tr>\n",
       "    <tr>\n",
       "      <th>147</th>\n",
       "      <td>6.5</td>\n",
       "      <td>3.0</td>\n",
       "      <td>5.2</td>\n",
       "      <td>2.0</td>\n",
       "    </tr>\n",
       "    <tr>\n",
       "      <th>148</th>\n",
       "      <td>6.2</td>\n",
       "      <td>3.4</td>\n",
       "      <td>5.4</td>\n",
       "      <td>2.3</td>\n",
       "    </tr>\n",
       "    <tr>\n",
       "      <th>149</th>\n",
       "      <td>5.9</td>\n",
       "      <td>3.0</td>\n",
       "      <td>5.1</td>\n",
       "      <td>1.8</td>\n",
       "    </tr>\n",
       "  </tbody>\n",
       "</table>\n",
       "<p>150 rows × 4 columns</p>\n",
       "</div>"
      ],
      "text/plain": [
       "     sepal length (cm)  sepal width (cm)  petal length (cm)  petal width (cm)\n",
       "0                  5.1               3.5                1.4               0.2\n",
       "1                  4.9               3.0                1.4               0.2\n",
       "2                  4.7               3.2                1.3               0.2\n",
       "3                  4.6               3.1                1.5               0.2\n",
       "4                  5.0               3.6                1.4               0.2\n",
       "..                 ...               ...                ...               ...\n",
       "145                6.7               3.0                5.2               2.3\n",
       "146                6.3               2.5                5.0               1.9\n",
       "147                6.5               3.0                5.2               2.0\n",
       "148                6.2               3.4                5.4               2.3\n",
       "149                5.9               3.0                5.1               1.8\n",
       "\n",
       "[150 rows x 4 columns]"
      ]
     },
     "execution_count": 106,
     "metadata": {},
     "output_type": "execute_result"
    }
   ],
   "source": [
    "X"
   ]
  },
  {
   "cell_type": "code",
   "execution_count": 107,
   "id": "de6a1621-6b2a-4749-9014-ffe866fb10f5",
   "metadata": {},
   "outputs": [
    {
     "data": {
      "text/plain": [
       "0         setosa\n",
       "1         setosa\n",
       "2         setosa\n",
       "3         setosa\n",
       "4         setosa\n",
       "         ...    \n",
       "145    verginica\n",
       "146    verginica\n",
       "147    verginica\n",
       "148    verginica\n",
       "149    verginica\n",
       "Name: Species, Length: 150, dtype: object"
      ]
     },
     "execution_count": 107,
     "metadata": {},
     "output_type": "execute_result"
    }
   ],
   "source": [
    "y"
   ]
  },
  {
   "cell_type": "code",
   "execution_count": 108,
   "id": "04427b18-8165-432a-bdb5-5d48d9b97790",
   "metadata": {},
   "outputs": [],
   "source": [
    "X = X.values"
   ]
  },
  {
   "cell_type": "code",
   "execution_count": 109,
   "id": "109c9546-55e1-45b9-9361-7bef8f54605f",
   "metadata": {
    "collapsed": true,
    "jupyter": {
     "outputs_hidden": true
    },
    "tags": []
   },
   "outputs": [
    {
     "data": {
      "text/plain": [
       "array([[5.1, 3.5, 1.4, 0.2],\n",
       "       [4.9, 3. , 1.4, 0.2],\n",
       "       [4.7, 3.2, 1.3, 0.2],\n",
       "       [4.6, 3.1, 1.5, 0.2],\n",
       "       [5. , 3.6, 1.4, 0.2],\n",
       "       [5.4, 3.9, 1.7, 0.4],\n",
       "       [4.6, 3.4, 1.4, 0.3],\n",
       "       [5. , 3.4, 1.5, 0.2],\n",
       "       [4.4, 2.9, 1.4, 0.2],\n",
       "       [4.9, 3.1, 1.5, 0.1],\n",
       "       [5.4, 3.7, 1.5, 0.2],\n",
       "       [4.8, 3.4, 1.6, 0.2],\n",
       "       [4.8, 3. , 1.4, 0.1],\n",
       "       [4.3, 3. , 1.1, 0.1],\n",
       "       [5.8, 4. , 1.2, 0.2],\n",
       "       [5.7, 4.4, 1.5, 0.4],\n",
       "       [5.4, 3.9, 1.3, 0.4],\n",
       "       [5.1, 3.5, 1.4, 0.3],\n",
       "       [5.7, 3.8, 1.7, 0.3],\n",
       "       [5.1, 3.8, 1.5, 0.3],\n",
       "       [5.4, 3.4, 1.7, 0.2],\n",
       "       [5.1, 3.7, 1.5, 0.4],\n",
       "       [4.6, 3.6, 1. , 0.2],\n",
       "       [5.1, 3.3, 1.7, 0.5],\n",
       "       [4.8, 3.4, 1.9, 0.2],\n",
       "       [5. , 3. , 1.6, 0.2],\n",
       "       [5. , 3.4, 1.6, 0.4],\n",
       "       [5.2, 3.5, 1.5, 0.2],\n",
       "       [5.2, 3.4, 1.4, 0.2],\n",
       "       [4.7, 3.2, 1.6, 0.2],\n",
       "       [4.8, 3.1, 1.6, 0.2],\n",
       "       [5.4, 3.4, 1.5, 0.4],\n",
       "       [5.2, 4.1, 1.5, 0.1],\n",
       "       [5.5, 4.2, 1.4, 0.2],\n",
       "       [4.9, 3.1, 1.5, 0.2],\n",
       "       [5. , 3.2, 1.2, 0.2],\n",
       "       [5.5, 3.5, 1.3, 0.2],\n",
       "       [4.9, 3.6, 1.4, 0.1],\n",
       "       [4.4, 3. , 1.3, 0.2],\n",
       "       [5.1, 3.4, 1.5, 0.2],\n",
       "       [5. , 3.5, 1.3, 0.3],\n",
       "       [4.5, 2.3, 1.3, 0.3],\n",
       "       [4.4, 3.2, 1.3, 0.2],\n",
       "       [5. , 3.5, 1.6, 0.6],\n",
       "       [5.1, 3.8, 1.9, 0.4],\n",
       "       [4.8, 3. , 1.4, 0.3],\n",
       "       [5.1, 3.8, 1.6, 0.2],\n",
       "       [4.6, 3.2, 1.4, 0.2],\n",
       "       [5.3, 3.7, 1.5, 0.2],\n",
       "       [5. , 3.3, 1.4, 0.2],\n",
       "       [7. , 3.2, 4.7, 1.4],\n",
       "       [6.4, 3.2, 4.5, 1.5],\n",
       "       [6.9, 3.1, 4.9, 1.5],\n",
       "       [5.5, 2.3, 4. , 1.3],\n",
       "       [6.5, 2.8, 4.6, 1.5],\n",
       "       [5.7, 2.8, 4.5, 1.3],\n",
       "       [6.3, 3.3, 4.7, 1.6],\n",
       "       [4.9, 2.4, 3.3, 1. ],\n",
       "       [6.6, 2.9, 4.6, 1.3],\n",
       "       [5.2, 2.7, 3.9, 1.4],\n",
       "       [5. , 2. , 3.5, 1. ],\n",
       "       [5.9, 3. , 4.2, 1.5],\n",
       "       [6. , 2.2, 4. , 1. ],\n",
       "       [6.1, 2.9, 4.7, 1.4],\n",
       "       [5.6, 2.9, 3.6, 1.3],\n",
       "       [6.7, 3.1, 4.4, 1.4],\n",
       "       [5.6, 3. , 4.5, 1.5],\n",
       "       [5.8, 2.7, 4.1, 1. ],\n",
       "       [6.2, 2.2, 4.5, 1.5],\n",
       "       [5.6, 2.5, 3.9, 1.1],\n",
       "       [5.9, 3.2, 4.8, 1.8],\n",
       "       [6.1, 2.8, 4. , 1.3],\n",
       "       [6.3, 2.5, 4.9, 1.5],\n",
       "       [6.1, 2.8, 4.7, 1.2],\n",
       "       [6.4, 2.9, 4.3, 1.3],\n",
       "       [6.6, 3. , 4.4, 1.4],\n",
       "       [6.8, 2.8, 4.8, 1.4],\n",
       "       [6.7, 3. , 5. , 1.7],\n",
       "       [6. , 2.9, 4.5, 1.5],\n",
       "       [5.7, 2.6, 3.5, 1. ],\n",
       "       [5.5, 2.4, 3.8, 1.1],\n",
       "       [5.5, 2.4, 3.7, 1. ],\n",
       "       [5.8, 2.7, 3.9, 1.2],\n",
       "       [6. , 2.7, 5.1, 1.6],\n",
       "       [5.4, 3. , 4.5, 1.5],\n",
       "       [6. , 3.4, 4.5, 1.6],\n",
       "       [6.7, 3.1, 4.7, 1.5],\n",
       "       [6.3, 2.3, 4.4, 1.3],\n",
       "       [5.6, 3. , 4.1, 1.3],\n",
       "       [5.5, 2.5, 4. , 1.3],\n",
       "       [5.5, 2.6, 4.4, 1.2],\n",
       "       [6.1, 3. , 4.6, 1.4],\n",
       "       [5.8, 2.6, 4. , 1.2],\n",
       "       [5. , 2.3, 3.3, 1. ],\n",
       "       [5.6, 2.7, 4.2, 1.3],\n",
       "       [5.7, 3. , 4.2, 1.2],\n",
       "       [5.7, 2.9, 4.2, 1.3],\n",
       "       [6.2, 2.9, 4.3, 1.3],\n",
       "       [5.1, 2.5, 3. , 1.1],\n",
       "       [5.7, 2.8, 4.1, 1.3],\n",
       "       [6.3, 3.3, 6. , 2.5],\n",
       "       [5.8, 2.7, 5.1, 1.9],\n",
       "       [7.1, 3. , 5.9, 2.1],\n",
       "       [6.3, 2.9, 5.6, 1.8],\n",
       "       [6.5, 3. , 5.8, 2.2],\n",
       "       [7.6, 3. , 6.6, 2.1],\n",
       "       [4.9, 2.5, 4.5, 1.7],\n",
       "       [7.3, 2.9, 6.3, 1.8],\n",
       "       [6.7, 2.5, 5.8, 1.8],\n",
       "       [7.2, 3.6, 6.1, 2.5],\n",
       "       [6.5, 3.2, 5.1, 2. ],\n",
       "       [6.4, 2.7, 5.3, 1.9],\n",
       "       [6.8, 3. , 5.5, 2.1],\n",
       "       [5.7, 2.5, 5. , 2. ],\n",
       "       [5.8, 2.8, 5.1, 2.4],\n",
       "       [6.4, 3.2, 5.3, 2.3],\n",
       "       [6.5, 3. , 5.5, 1.8],\n",
       "       [7.7, 3.8, 6.7, 2.2],\n",
       "       [7.7, 2.6, 6.9, 2.3],\n",
       "       [6. , 2.2, 5. , 1.5],\n",
       "       [6.9, 3.2, 5.7, 2.3],\n",
       "       [5.6, 2.8, 4.9, 2. ],\n",
       "       [7.7, 2.8, 6.7, 2. ],\n",
       "       [6.3, 2.7, 4.9, 1.8],\n",
       "       [6.7, 3.3, 5.7, 2.1],\n",
       "       [7.2, 3.2, 6. , 1.8],\n",
       "       [6.2, 2.8, 4.8, 1.8],\n",
       "       [6.1, 3. , 4.9, 1.8],\n",
       "       [6.4, 2.8, 5.6, 2.1],\n",
       "       [7.2, 3. , 5.8, 1.6],\n",
       "       [7.4, 2.8, 6.1, 1.9],\n",
       "       [7.9, 3.8, 6.4, 2. ],\n",
       "       [6.4, 2.8, 5.6, 2.2],\n",
       "       [6.3, 2.8, 5.1, 1.5],\n",
       "       [6.1, 2.6, 5.6, 1.4],\n",
       "       [7.7, 3. , 6.1, 2.3],\n",
       "       [6.3, 3.4, 5.6, 2.4],\n",
       "       [6.4, 3.1, 5.5, 1.8],\n",
       "       [6. , 3. , 4.8, 1.8],\n",
       "       [6.9, 3.1, 5.4, 2.1],\n",
       "       [6.7, 3.1, 5.6, 2.4],\n",
       "       [6.9, 3.1, 5.1, 2.3],\n",
       "       [5.8, 2.7, 5.1, 1.9],\n",
       "       [6.8, 3.2, 5.9, 2.3],\n",
       "       [6.7, 3.3, 5.7, 2.5],\n",
       "       [6.7, 3. , 5.2, 2.3],\n",
       "       [6.3, 2.5, 5. , 1.9],\n",
       "       [6.5, 3. , 5.2, 2. ],\n",
       "       [6.2, 3.4, 5.4, 2.3],\n",
       "       [5.9, 3. , 5.1, 1.8]])"
      ]
     },
     "execution_count": 109,
     "metadata": {},
     "output_type": "execute_result"
    }
   ],
   "source": [
    "X"
   ]
  },
  {
   "cell_type": "code",
   "execution_count": 110,
   "id": "d1df7383-d7e7-4aaf-9fe0-b83ef9e04f8b",
   "metadata": {},
   "outputs": [],
   "source": [
    "y = y.values"
   ]
  },
  {
   "cell_type": "code",
   "execution_count": 111,
   "id": "162689a8-08d4-4cfe-9d6d-18592424719e",
   "metadata": {
    "collapsed": true,
    "jupyter": {
     "outputs_hidden": true
    },
    "tags": []
   },
   "outputs": [
    {
     "data": {
      "text/plain": [
       "array(['setosa', 'setosa', 'setosa', 'setosa', 'setosa', 'setosa',\n",
       "       'setosa', 'setosa', 'setosa', 'setosa', 'setosa', 'setosa',\n",
       "       'setosa', 'setosa', 'setosa', 'setosa', 'setosa', 'setosa',\n",
       "       'setosa', 'setosa', 'setosa', 'setosa', 'setosa', 'setosa',\n",
       "       'setosa', 'setosa', 'setosa', 'setosa', 'setosa', 'setosa',\n",
       "       'setosa', 'setosa', 'setosa', 'setosa', 'setosa', 'setosa',\n",
       "       'setosa', 'setosa', 'setosa', 'setosa', 'setosa', 'setosa',\n",
       "       'setosa', 'setosa', 'setosa', 'setosa', 'setosa', 'setosa',\n",
       "       'setosa', 'setosa', 'vesicolor', 'vesicolor', 'vesicolor',\n",
       "       'vesicolor', 'vesicolor', 'vesicolor', 'vesicolor', 'vesicolor',\n",
       "       'vesicolor', 'vesicolor', 'vesicolor', 'vesicolor', 'vesicolor',\n",
       "       'vesicolor', 'vesicolor', 'vesicolor', 'vesicolor', 'vesicolor',\n",
       "       'vesicolor', 'vesicolor', 'vesicolor', 'vesicolor', 'vesicolor',\n",
       "       'vesicolor', 'vesicolor', 'vesicolor', 'vesicolor', 'vesicolor',\n",
       "       'vesicolor', 'vesicolor', 'vesicolor', 'vesicolor', 'vesicolor',\n",
       "       'vesicolor', 'vesicolor', 'vesicolor', 'vesicolor', 'vesicolor',\n",
       "       'vesicolor', 'vesicolor', 'vesicolor', 'vesicolor', 'vesicolor',\n",
       "       'vesicolor', 'vesicolor', 'vesicolor', 'vesicolor', 'vesicolor',\n",
       "       'vesicolor', 'vesicolor', 'verginica', 'verginica', 'verginica',\n",
       "       'verginica', 'verginica', 'verginica', 'verginica', 'verginica',\n",
       "       'verginica', 'verginica', 'verginica', 'verginica', 'verginica',\n",
       "       'verginica', 'verginica', 'verginica', 'verginica', 'verginica',\n",
       "       'verginica', 'verginica', 'verginica', 'verginica', 'verginica',\n",
       "       'verginica', 'verginica', 'verginica', 'verginica', 'verginica',\n",
       "       'verginica', 'verginica', 'verginica', 'verginica', 'verginica',\n",
       "       'verginica', 'verginica', 'verginica', 'verginica', 'verginica',\n",
       "       'verginica', 'verginica', 'verginica', 'verginica', 'verginica',\n",
       "       'verginica', 'verginica', 'verginica', 'verginica', 'verginica',\n",
       "       'verginica', 'verginica'], dtype=object)"
      ]
     },
     "execution_count": 111,
     "metadata": {},
     "output_type": "execute_result"
    }
   ],
   "source": [
    "y"
   ]
  },
  {
   "cell_type": "code",
   "execution_count": 112,
   "id": "099cba96-a780-4d05-9d52-8c9a3d08f8de",
   "metadata": {},
   "outputs": [],
   "source": [
    "from sklearn.model_selection import train_test_split"
   ]
  },
  {
   "cell_type": "code",
   "execution_count": 113,
   "id": "6b707dd7-1bd9-49ed-bdc9-844a8fe7beb9",
   "metadata": {},
   "outputs": [],
   "source": [
    "X_train, X_test, y_train, y_test = train_test_split(X,y,test_size=0.2)"
   ]
  },
  {
   "cell_type": "code",
   "execution_count": 115,
   "id": "9d96b696-7e2c-41c4-a2a3-a395badd8a9c",
   "metadata": {},
   "outputs": [],
   "source": [
    "from sklearn.svm import SVC"
   ]
  },
  {
   "cell_type": "code",
   "execution_count": 116,
   "id": "5823ae45-bd4b-4caa-a610-206e74e4e037",
   "metadata": {},
   "outputs": [],
   "source": [
    "model = SVC()"
   ]
  },
  {
   "cell_type": "code",
   "execution_count": 117,
   "id": "af197905-a5c4-4ee9-89ce-17a63875281a",
   "metadata": {},
   "outputs": [
    {
     "data": {
      "text/plain": [
       "SVC()"
      ]
     },
     "execution_count": 117,
     "metadata": {},
     "output_type": "execute_result"
    }
   ],
   "source": [
    "model.fit(X_train,y_train)"
   ]
  },
  {
   "cell_type": "code",
   "execution_count": 118,
   "id": "6ab47102-469e-4e51-9992-cbcddc0cae92",
   "metadata": {},
   "outputs": [],
   "source": [
    "y_hat = model.predict(X_test)"
   ]
  },
  {
   "cell_type": "code",
   "execution_count": 121,
   "id": "fd3631d5-506f-4d1c-9ea6-eb4c2563cb9c",
   "metadata": {},
   "outputs": [
    {
     "data": {
      "text/plain": [
       "0.9333333333333333"
      ]
     },
     "execution_count": 121,
     "metadata": {},
     "output_type": "execute_result"
    }
   ],
   "source": [
    "sum(y_hat == y_test)/len(y_test)"
   ]
  },
  {
   "cell_type": "code",
   "execution_count": 131,
   "id": "041bc819-53bc-4b0a-a4ce-fc56bf31ff5f",
   "metadata": {},
   "outputs": [],
   "source": [
    "from sklearn.tree import DecisionTreeClassifier\n",
    "from sklearn.neighbors import KNeighborsClassifier"
   ]
  },
  {
   "cell_type": "code",
   "execution_count": 126,
   "id": "ca8c6aa4-10ba-439f-ba0a-96be3c9e66e1",
   "metadata": {},
   "outputs": [],
   "source": [
    "dt_model = DecisionTreeClassifier()"
   ]
  },
  {
   "cell_type": "code",
   "execution_count": 127,
   "id": "9f5502ea-0377-452b-b807-e2b1de4c8f44",
   "metadata": {},
   "outputs": [
    {
     "data": {
      "text/plain": [
       "DecisionTreeClassifier()"
      ]
     },
     "execution_count": 127,
     "metadata": {},
     "output_type": "execute_result"
    }
   ],
   "source": [
    "dt_model.fit(X_train,y_train)"
   ]
  },
  {
   "cell_type": "code",
   "execution_count": 128,
   "id": "7e8dd528-57e7-4160-bd70-e55334b879d8",
   "metadata": {},
   "outputs": [
    {
     "data": {
      "text/plain": [
       "0.9333333333333333"
      ]
     },
     "execution_count": 128,
     "metadata": {},
     "output_type": "execute_result"
    }
   ],
   "source": [
    "dt_model.score(X_test,y_test)"
   ]
  },
  {
   "cell_type": "code",
   "execution_count": 132,
   "id": "3f19cbdb-56ee-45d5-a672-99257fae4523",
   "metadata": {},
   "outputs": [],
   "source": [
    "knn = KNeighborsClassifier()"
   ]
  },
  {
   "cell_type": "code",
   "execution_count": 133,
   "id": "2ce6bc3f-4822-4d26-ba8a-b035c84c990d",
   "metadata": {},
   "outputs": [
    {
     "data": {
      "text/plain": [
       "KNeighborsClassifier()"
      ]
     },
     "execution_count": 133,
     "metadata": {},
     "output_type": "execute_result"
    }
   ],
   "source": [
    "knn.fit(X_train,y_train)"
   ]
  },
  {
   "cell_type": "code",
   "execution_count": 134,
   "id": "065fa262-e53a-454d-9761-fe6c293cc948",
   "metadata": {},
   "outputs": [
    {
     "data": {
      "text/plain": [
       "1.0"
      ]
     },
     "execution_count": 134,
     "metadata": {},
     "output_type": "execute_result"
    }
   ],
   "source": [
    "knn.score(X_test,y_test)"
   ]
  },
  {
   "cell_type": "code",
   "execution_count": 135,
   "id": "4611ca7b-b604-45a2-8653-5b620af066ae",
   "metadata": {},
   "outputs": [
    {
     "data": {
      "text/plain": [
       "(30, 4)"
      ]
     },
     "execution_count": 135,
     "metadata": {},
     "output_type": "execute_result"
    }
   ],
   "source": [
    "X_test.shape"
   ]
  },
  {
   "cell_type": "code",
   "execution_count": 143,
   "id": "6db3b121-d743-40d3-ab09-18a241951dd5",
   "metadata": {},
   "outputs": [],
   "source": [
    "obj = X_test[[0],:]+0.1 + np.array([0.1,1.0,2.0,3])"
   ]
  },
  {
   "cell_type": "code",
   "execution_count": 139,
   "id": "5954ee7b-5054-4bbb-ad79-5b8e4be99637",
   "metadata": {},
   "outputs": [
    {
     "data": {
      "text/plain": [
       "'verginica'"
      ]
     },
     "execution_count": 139,
     "metadata": {},
     "output_type": "execute_result"
    }
   ],
   "source": [
    "y_test[0]"
   ]
  },
  {
   "cell_type": "code",
   "execution_count": 144,
   "id": "7d9897a3-f881-46d5-b7b6-8301abd2f34b",
   "metadata": {},
   "outputs": [
    {
     "data": {
      "text/plain": [
       "array(['verginica'], dtype=object)"
      ]
     },
     "execution_count": 144,
     "metadata": {},
     "output_type": "execute_result"
    }
   ],
   "source": [
    "knn.predict(obj)"
   ]
  },
  {
   "cell_type": "code",
   "execution_count": 145,
   "id": "58b16c0a-8d4b-4ddc-ae88-5dbc580d7f3c",
   "metadata": {},
   "outputs": [
    {
     "data": {
      "text/plain": [
       "array(['verginica'], dtype=object)"
      ]
     },
     "execution_count": 145,
     "metadata": {},
     "output_type": "execute_result"
    }
   ],
   "source": [
    "dt_model.predict(obj)"
   ]
  },
  {
   "cell_type": "code",
   "execution_count": 146,
   "id": "f086967d-8eed-4114-83c9-f813789162b6",
   "metadata": {},
   "outputs": [
    {
     "data": {
      "text/plain": [
       "array(['verginica'], dtype=object)"
      ]
     },
     "execution_count": 146,
     "metadata": {},
     "output_type": "execute_result"
    }
   ],
   "source": [
    "model.predict(obj)"
   ]
  },
  {
   "cell_type": "code",
   "execution_count": 148,
   "id": "582298d8-e47e-410a-86b3-fae9714bf734",
   "metadata": {},
   "outputs": [],
   "source": [
    "from sklearn.cluster import KMeans"
   ]
  },
  {
   "cell_type": "code",
   "execution_count": 149,
   "id": "26bcaa77-c75f-4726-9752-ebf653696388",
   "metadata": {},
   "outputs": [],
   "source": [
    "data = pd.read_csv('iris.csv')"
   ]
  },
  {
   "cell_type": "code",
   "execution_count": 151,
   "id": "c7ea0cd4-8a80-4a59-a20e-a8845cf49b4e",
   "metadata": {},
   "outputs": [],
   "source": [
    "data = data.iloc[:,1:]"
   ]
  },
  {
   "cell_type": "code",
   "execution_count": 152,
   "id": "0aa29adf-27d4-431b-8bb5-cc8214105fee",
   "metadata": {},
   "outputs": [],
   "source": [
    "data = data.iloc[:,:-1]"
   ]
  },
  {
   "cell_type": "code",
   "execution_count": 153,
   "id": "c38b68a5-50d9-4b57-9bf1-eb08f5954736",
   "metadata": {},
   "outputs": [
    {
     "data": {
      "text/html": [
       "<div>\n",
       "<style scoped>\n",
       "    .dataframe tbody tr th:only-of-type {\n",
       "        vertical-align: middle;\n",
       "    }\n",
       "\n",
       "    .dataframe tbody tr th {\n",
       "        vertical-align: top;\n",
       "    }\n",
       "\n",
       "    .dataframe thead th {\n",
       "        text-align: right;\n",
       "    }\n",
       "</style>\n",
       "<table border=\"1\" class=\"dataframe\">\n",
       "  <thead>\n",
       "    <tr style=\"text-align: right;\">\n",
       "      <th></th>\n",
       "      <th>sepal length (cm)</th>\n",
       "      <th>sepal width (cm)</th>\n",
       "      <th>petal length (cm)</th>\n",
       "      <th>petal width (cm)</th>\n",
       "    </tr>\n",
       "  </thead>\n",
       "  <tbody>\n",
       "    <tr>\n",
       "      <th>0</th>\n",
       "      <td>5.1</td>\n",
       "      <td>3.5</td>\n",
       "      <td>1.4</td>\n",
       "      <td>0.2</td>\n",
       "    </tr>\n",
       "    <tr>\n",
       "      <th>1</th>\n",
       "      <td>4.9</td>\n",
       "      <td>3.0</td>\n",
       "      <td>1.4</td>\n",
       "      <td>0.2</td>\n",
       "    </tr>\n",
       "    <tr>\n",
       "      <th>2</th>\n",
       "      <td>4.7</td>\n",
       "      <td>3.2</td>\n",
       "      <td>1.3</td>\n",
       "      <td>0.2</td>\n",
       "    </tr>\n",
       "    <tr>\n",
       "      <th>3</th>\n",
       "      <td>4.6</td>\n",
       "      <td>3.1</td>\n",
       "      <td>1.5</td>\n",
       "      <td>0.2</td>\n",
       "    </tr>\n",
       "    <tr>\n",
       "      <th>4</th>\n",
       "      <td>5.0</td>\n",
       "      <td>3.6</td>\n",
       "      <td>1.4</td>\n",
       "      <td>0.2</td>\n",
       "    </tr>\n",
       "    <tr>\n",
       "      <th>...</th>\n",
       "      <td>...</td>\n",
       "      <td>...</td>\n",
       "      <td>...</td>\n",
       "      <td>...</td>\n",
       "    </tr>\n",
       "    <tr>\n",
       "      <th>145</th>\n",
       "      <td>6.7</td>\n",
       "      <td>3.0</td>\n",
       "      <td>5.2</td>\n",
       "      <td>2.3</td>\n",
       "    </tr>\n",
       "    <tr>\n",
       "      <th>146</th>\n",
       "      <td>6.3</td>\n",
       "      <td>2.5</td>\n",
       "      <td>5.0</td>\n",
       "      <td>1.9</td>\n",
       "    </tr>\n",
       "    <tr>\n",
       "      <th>147</th>\n",
       "      <td>6.5</td>\n",
       "      <td>3.0</td>\n",
       "      <td>5.2</td>\n",
       "      <td>2.0</td>\n",
       "    </tr>\n",
       "    <tr>\n",
       "      <th>148</th>\n",
       "      <td>6.2</td>\n",
       "      <td>3.4</td>\n",
       "      <td>5.4</td>\n",
       "      <td>2.3</td>\n",
       "    </tr>\n",
       "    <tr>\n",
       "      <th>149</th>\n",
       "      <td>5.9</td>\n",
       "      <td>3.0</td>\n",
       "      <td>5.1</td>\n",
       "      <td>1.8</td>\n",
       "    </tr>\n",
       "  </tbody>\n",
       "</table>\n",
       "<p>150 rows × 4 columns</p>\n",
       "</div>"
      ],
      "text/plain": [
       "     sepal length (cm)  sepal width (cm)  petal length (cm)  petal width (cm)\n",
       "0                  5.1               3.5                1.4               0.2\n",
       "1                  4.9               3.0                1.4               0.2\n",
       "2                  4.7               3.2                1.3               0.2\n",
       "3                  4.6               3.1                1.5               0.2\n",
       "4                  5.0               3.6                1.4               0.2\n",
       "..                 ...               ...                ...               ...\n",
       "145                6.7               3.0                5.2               2.3\n",
       "146                6.3               2.5                5.0               1.9\n",
       "147                6.5               3.0                5.2               2.0\n",
       "148                6.2               3.4                5.4               2.3\n",
       "149                5.9               3.0                5.1               1.8\n",
       "\n",
       "[150 rows x 4 columns]"
      ]
     },
     "execution_count": 153,
     "metadata": {},
     "output_type": "execute_result"
    }
   ],
   "source": [
    "data"
   ]
  },
  {
   "cell_type": "code",
   "execution_count": 167,
   "id": "dbbd970a-91e5-4a86-8a5f-3f91d43584a9",
   "metadata": {},
   "outputs": [],
   "source": [
    "x = data[\"sepal length (cm)\"]"
   ]
  },
  {
   "cell_type": "code",
   "execution_count": 168,
   "id": "01cddec5-659c-4d9b-a83d-2ec17781299d",
   "metadata": {},
   "outputs": [],
   "source": [
    "kmeans = KMeans(4)"
   ]
  },
  {
   "cell_type": "code",
   "execution_count": 169,
   "id": "4f465f5f-039a-4f9a-8f67-b4a56677fb96",
   "metadata": {},
   "outputs": [
    {
     "data": {
      "text/plain": [
       "(150, 1)"
      ]
     },
     "execution_count": 169,
     "metadata": {},
     "output_type": "execute_result"
    }
   ],
   "source": [
    "x = x.values.reshape(-1,1)\n",
    "x.shape"
   ]
  },
  {
   "cell_type": "code",
   "execution_count": 170,
   "id": "fde4e4d6-3da5-4b02-bed4-5a7f83de2ad1",
   "metadata": {},
   "outputs": [
    {
     "data": {
      "text/plain": [
       "KMeans(n_clusters=4)"
      ]
     },
     "execution_count": 170,
     "metadata": {},
     "output_type": "execute_result"
    }
   ],
   "source": [
    "kmeans.fit(x)"
   ]
  },
  {
   "cell_type": "code",
   "execution_count": 171,
   "id": "39416d74-7f98-4881-bc5e-cd95278dd300",
   "metadata": {},
   "outputs": [
    {
     "data": {
      "text/plain": [
       "['__class__',\n",
       " '__delattr__',\n",
       " '__dict__',\n",
       " '__dir__',\n",
       " '__doc__',\n",
       " '__eq__',\n",
       " '__format__',\n",
       " '__ge__',\n",
       " '__getattribute__',\n",
       " '__getstate__',\n",
       " '__gt__',\n",
       " '__hash__',\n",
       " '__init__',\n",
       " '__init_subclass__',\n",
       " '__le__',\n",
       " '__lt__',\n",
       " '__module__',\n",
       " '__ne__',\n",
       " '__new__',\n",
       " '__reduce__',\n",
       " '__reduce_ex__',\n",
       " '__repr__',\n",
       " '__setattr__',\n",
       " '__setstate__',\n",
       " '__sizeof__',\n",
       " '__str__',\n",
       " '__subclasshook__',\n",
       " '__weakref__',\n",
       " '_algorithm',\n",
       " '_check_mkl_vcomp',\n",
       " '_check_n_features',\n",
       " '_check_params',\n",
       " '_check_test_data',\n",
       " '_estimator_type',\n",
       " '_get_param_names',\n",
       " '_get_tags',\n",
       " '_init_centroids',\n",
       " '_more_tags',\n",
       " '_n_init',\n",
       " '_n_threads',\n",
       " '_repr_html_',\n",
       " '_repr_html_inner',\n",
       " '_repr_mimebundle_',\n",
       " '_tol',\n",
       " '_transform',\n",
       " '_validate_center_shape',\n",
       " '_validate_data',\n",
       " 'algorithm',\n",
       " 'cluster_centers_',\n",
       " 'copy_x',\n",
       " 'fit',\n",
       " 'fit_predict',\n",
       " 'fit_transform',\n",
       " 'get_params',\n",
       " 'inertia_',\n",
       " 'init',\n",
       " 'labels_',\n",
       " 'max_iter',\n",
       " 'n_clusters',\n",
       " 'n_features_in_',\n",
       " 'n_init',\n",
       " 'n_iter_',\n",
       " 'n_jobs',\n",
       " 'precompute_distances',\n",
       " 'predict',\n",
       " 'random_state',\n",
       " 'score',\n",
       " 'set_params',\n",
       " 'tol',\n",
       " 'transform',\n",
       " 'verbose']"
      ]
     },
     "execution_count": 171,
     "metadata": {},
     "output_type": "execute_result"
    }
   ],
   "source": [
    "dir(kmeans)"
   ]
  },
  {
   "cell_type": "code",
   "execution_count": 172,
   "id": "c3ec0dea-cca7-4c97-b997-69e87a4ad2e5",
   "metadata": {},
   "outputs": [
    {
     "data": {
      "text/plain": [
       "array([2, 2, 2, 2, 2, 0, 2, 2, 2, 2, 0, 2, 2, 2, 0, 0, 0, 2, 0, 2, 0, 2,\n",
       "       2, 2, 2, 2, 2, 2, 2, 2, 2, 0, 2, 0, 2, 2, 0, 2, 2, 2, 2, 2, 2, 2,\n",
       "       2, 2, 2, 2, 0, 2, 3, 1, 1, 0, 1, 0, 1, 2, 1, 2, 2, 0, 0, 1, 0, 1,\n",
       "       0, 0, 1, 0, 0, 1, 1, 1, 1, 1, 1, 1, 0, 0, 0, 0, 0, 0, 0, 0, 1, 1,\n",
       "       0, 0, 0, 1, 0, 2, 0, 0, 0, 1, 2, 0, 1, 0, 3, 1, 1, 3, 2, 3, 1, 3,\n",
       "       1, 1, 1, 0, 0, 1, 1, 3, 3, 0, 1, 0, 3, 1, 1, 3, 1, 1, 1, 3, 3, 3,\n",
       "       1, 1, 1, 3, 1, 1, 0, 1, 1, 1, 0, 1, 1, 1, 1, 1, 1, 0], dtype=int32)"
      ]
     },
     "execution_count": 172,
     "metadata": {},
     "output_type": "execute_result"
    }
   ],
   "source": [
    "kmeans.labels_"
   ]
  },
  {
   "cell_type": "code",
   "execution_count": null,
   "id": "aeda9505-d88c-4fa0-b96f-f756ffde5376",
   "metadata": {},
   "outputs": [],
   "source": []
  }
 ],
 "metadata": {
  "kernelspec": {
   "display_name": "Python 3 (ipykernel)",
   "language": "python",
   "name": "python3"
  },
  "language_info": {
   "codemirror_mode": {
    "name": "ipython",
    "version": 3
   },
   "file_extension": ".py",
   "mimetype": "text/x-python",
   "name": "python",
   "nbconvert_exporter": "python",
   "pygments_lexer": "ipython3",
   "version": "3.9.7"
  }
 },
 "nbformat": 4,
 "nbformat_minor": 5
}
