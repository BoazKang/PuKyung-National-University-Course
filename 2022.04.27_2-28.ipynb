{
 "cells": [
  {
   "cell_type": "code",
   "execution_count": 7,
   "id": "f707870d-83ba-4d8a-abbb-79562e442313",
   "metadata": {},
   "outputs": [],
   "source": [
    "import numpy as np\n",
    "from layers import *\n",
    "from collections import OrderedDict\n",
    "from loss import *\n",
    "from activation import *"
   ]
  },
  {
   "cell_type": "code",
   "execution_count": 23,
   "id": "20de247d-9acd-4977-84e7-52a733718369",
   "metadata": {},
   "outputs": [],
   "source": [
    "class TwoLayerNet:\n",
    "    def __init__(self,input_size,hidden_size,output_size):\n",
    "        self.W = {}\n",
    "        self.W['W1'] = np.random.randn(input_size,hidden_size)\n",
    "        self.W['b1'] = np.random.randn(hidden_size)\n",
    "        self.W['W2'] = np.random.randn(hidden_size, output_size)\n",
    "        self.W['b2'] = np.random.randn(output_size)\n",
    "        \n",
    "        # self.acc_val = []\n",
    "        self.loss_val = []\n",
    "        \n",
    "        self.layers = OrderedDict()\n",
    "        self.layers['Affine1'] = Affine(self.W['W1'],self.W['b1'])\n",
    "        self.layers['Relu1'] = Relu()\n",
    "        self.layers['Affine2'] = Affine(self.W['W2'],self.W['b2'])\n",
    "        \n",
    "        self.lastLayer = SoftmaxWithLoss()\n",
    "    \n",
    "    def predict(self,x):\n",
    "        for layer in self.layers.values():\n",
    "            x = layer.forward(x)\n",
    "        return x\n",
    "    \n",
    "    def loss(self,x,t):\n",
    "        y = self.predict(x)\n",
    "        loss = self.lastLayer.forward(y,t)\n",
    "        return loss\n",
    "\n",
    "    def numerical_gradient(self,x,t):\n",
    "        f = lambda W : self.loss(x,t)\n",
    "        grads = {}\n",
    "        grads['W1'] = numerical_gradient(f, self.W['W1']) # 밖에서 만든 numerical_gradient함수\n",
    "        grads['b1'] = numerical_gradient(f, self.W['b1'])\n",
    "        grads['W2'] = numerical_gradient(f, self.W['W2'])\n",
    "        grads['b2'] = numerical_gradient(f, self.W['b2'])\n",
    "        return grads\n",
    "    \n",
    "    # def gradient_descent(self,epochs):\n",
    "    \n",
    "    def gradient(self,x,t):\n",
    "        self.loss(x,t)\n",
    "        dout = 1\n",
    "        dout = self.lastLayer.backward(dout)\n",
    "        layers = list(self.layers.values())\n",
    "        layers.reverse()\n",
    "        for layer in layers:\n",
    "            dout = layer.backward(dout)\n",
    "            \n",
    "        grads = {}\n",
    "        grads['W1'] = self.layers['Affine1'].dw\n",
    "        grads['b1'] = self.layers['Affine1'].db\n",
    "        grads['W2'] = self.layers['Affine2'].dw\n",
    "        grads['b2'] = self.layers['Affine2'].db\n",
    "        \n",
    "        return grads\n",
    "        \n",
    "    def accuracy(self,x,t):\n",
    "        y = self.predict(x)\n",
    "        y = np.argmax(y, axis=1)\n",
    "        t = np.argmax(t, axis=1)\n",
    "        acc = sum(y == t)/x.shape[0]\n",
    "        return acc\n",
    "    \n",
    "    def fit(self,x,t,epochs=1000,lr=1e-3,verbos=1):\n",
    "        for epoch in range(epochs):\n",
    "            grads = self.gradient(x,t)\n",
    "            for key in grads.keys():\n",
    "                self.W[key] -= lr*grads[key]\n",
    "            \n",
    "            # self.acc_val.append(self.accuracy(x,t))\n",
    "            self.loss_val.append(self.loss(x,t))\n",
    "            if verbos == 1:\n",
    "                print(f'epoch:{epoch}, acc:{self.accuracy(x,t)}, loss:{self.loss(x,t)}')"
   ]
  },
  {
   "cell_type": "code",
   "execution_count": 9,
   "id": "ef918191-a712-4978-8c29-2eadcae0a92a",
   "metadata": {},
   "outputs": [
    {
     "data": {
      "text/plain": [
       "OrderedDict([('Affine1', <layers.Affine at 0x7f5474e4d640>),\n",
       "             ('Relu1', <layers.Relu at 0x7f5474e4d940>),\n",
       "             ('Affine2', <layers.Affine at 0x7f5474e4dbe0>)])"
      ]
     },
     "execution_count": 9,
     "metadata": {},
     "output_type": "execute_result"
    }
   ],
   "source": [
    "x = np.random.randn(10,5)\n",
    "t = np.random.randn(10,4)\n",
    "input_size = x.shape[1]\n",
    "hidden_size = 3\n",
    "output_size = 4\n",
    "\n",
    "W = {}\n",
    "W['W1'] = np.random.randn(input_size,hidden_size)\n",
    "W['b1'] = np.random.randn(hidden_size)\n",
    "W['W2'] = np.random.randn(hidden_size, output_size)\n",
    "W['b2'] = np.random.randn(output_size)\n",
    "\n",
    "layers = OrderedDict()\n",
    "layers['Affine1'] = Affine(W['W1'],W['b1'])\n",
    "layers['Relu1'] = Relu()\n",
    "layers['Affine2'] = Affine(W['W2'],W['b2'])\n",
    "layers"
   ]
  },
  {
   "cell_type": "code",
   "execution_count": 21,
   "id": "47a3a7cf-8d1d-4864-a23f-f5a9b16615aa",
   "metadata": {},
   "outputs": [
    {
     "ename": "AttributeError",
     "evalue": "'list' object has no attribute 'values'",
     "output_type": "error",
     "traceback": [
      "\u001b[0;31m---------------------------------------------------------------------------\u001b[0m",
      "\u001b[0;31mAttributeError\u001b[0m                            Traceback (most recent call last)",
      "\u001b[0;32m/tmp/ipykernel_1619/2216773185.py\u001b[0m in \u001b[0;36m<module>\u001b[0;34m\u001b[0m\n\u001b[1;32m      2\u001b[0m \u001b[0mlayers\u001b[0m\u001b[0;34m.\u001b[0m\u001b[0mreverse\u001b[0m\u001b[0;34m(\u001b[0m\u001b[0;34m)\u001b[0m\u001b[0;34m\u001b[0m\u001b[0;34m\u001b[0m\u001b[0m\n\u001b[1;32m      3\u001b[0m \u001b[0mlayers\u001b[0m\u001b[0;34m\u001b[0m\u001b[0;34m\u001b[0m\u001b[0m\n\u001b[0;32m----> 4\u001b[0;31m \u001b[0mlayers\u001b[0m\u001b[0;34m.\u001b[0m\u001b[0mvalues\u001b[0m\u001b[0;34m\u001b[0m\u001b[0;34m\u001b[0m\u001b[0m\n\u001b[0m",
      "\u001b[0;31mAttributeError\u001b[0m: 'list' object has no attribute 'values'"
     ]
    }
   ],
   "source": [
    "layers = list(())\n",
    "layers.reverse()\n",
    "layers\n",
    "layers.values"
   ]
  },
  {
   "cell_type": "code",
   "execution_count": 10,
   "id": "dab2e9b0-8f9e-4056-bf13-e6c9efba863a",
   "metadata": {},
   "outputs": [],
   "source": [
    "for layer in layers.values():\n",
    "    x = layer.forward(x)"
   ]
  },
  {
   "cell_type": "code",
   "execution_count": 11,
   "id": "e8af9b96-4c56-4296-8a57-1777d09a03c8",
   "metadata": {},
   "outputs": [],
   "source": [
    "y = softmax(x)\n",
    "loss = cross_entropy_error(y,t)"
   ]
  },
  {
   "cell_type": "code",
   "execution_count": 13,
   "id": "646cd5d2-d693-4dde-84b2-5687cbe38950",
   "metadata": {},
   "outputs": [],
   "source": [
    "dout = 1\n",
    "dout = dout*(y - t)/y.shape[0]"
   ]
  },
  {
   "cell_type": "code",
   "execution_count": 15,
   "id": "f96b8307-352d-415c-a2a3-0b2d7fcc46b6",
   "metadata": {},
   "outputs": [
    {
     "data": {
      "text/plain": [
       "(10, 4)"
      ]
     },
     "execution_count": 15,
     "metadata": {},
     "output_type": "execute_result"
    }
   ],
   "source": [
    "dout.shape"
   ]
  },
  {
   "cell_type": "code",
   "execution_count": null,
   "id": "36a2e262-9bba-45bd-8bf4-5f6dded07cd9",
   "metadata": {},
   "outputs": [],
   "source": [
    "def predict(self, x):\n",
    "    w1,w2 = self.W['W1'], self.W['W2']\n",
    "    b1,b2 = self.W['b1'], self.W['b2']\n",
    "    a1 = np.dot(x,W1) + b1\n",
    "    z1 = relu(a1)\n",
    "    a2 = np.dot(z1,W2) + b2\n",
    "    y = softmax(a2)"
   ]
  }
 ],
 "metadata": {
  "kernelspec": {
   "display_name": "Python 3 (ipykernel)",
   "language": "python",
   "name": "python3"
  },
  "language_info": {
   "codemirror_mode": {
    "name": "ipython",
    "version": 3
   },
   "file_extension": ".py",
   "mimetype": "text/x-python",
   "name": "python",
   "nbconvert_exporter": "python",
   "pygments_lexer": "ipython3",
   "version": "3.9.7"
  }
 },
 "nbformat": 4,
 "nbformat_minor": 5
}
