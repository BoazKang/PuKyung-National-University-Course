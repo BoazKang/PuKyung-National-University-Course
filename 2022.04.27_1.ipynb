{
 "cells": [
  {
   "cell_type": "code",
   "execution_count": 23,
   "id": "5513df1b-3b66-407c-a742-97e94f2f3c9d",
   "metadata": {},
   "outputs": [],
   "source": [
    "import numpy as np"
   ]
  },
  {
   "cell_type": "code",
   "execution_count": 36,
   "id": "3dd8701b-a39b-4b42-a8b6-c53f620ab7b1",
   "metadata": {},
   "outputs": [],
   "source": [
    "class MulGraph:\n",
    "    def __init__(self):\n",
    "        self.x = None\n",
    "        self.y = None\n",
    "        \n",
    "    def forward(self,x,y):\n",
    "        self.x = x\n",
    "        self.y = y\n",
    "        out = x*y\n",
    "        return out\n",
    "    \n",
    "    def backward(self,dout):\n",
    "        dx = dout*self.y\n",
    "        dy = dout*self.x\n",
    "        return dx, dy\n"
   ]
  },
  {
   "cell_type": "code",
   "execution_count": 53,
   "id": "eefd52c0-1eea-49bd-84a7-f38f17a10948",
   "metadata": {},
   "outputs": [],
   "source": [
    "class AddGraph:\n",
    "    def __init__(self):\n",
    "        pass\n",
    "    \n",
    "    def forward(self,x,y):\n",
    "        out = x + y\n",
    "        return out\n",
    "    \n",
    "    def backward(self,dout):\n",
    "        dx = dout*1\n",
    "        dy = dout*1\n",
    "        return dx, dy"
   ]
  },
  {
   "cell_type": "code",
   "execution_count": 55,
   "id": "098356bb-10ac-4dc7-a107-a84bc504202a",
   "metadata": {},
   "outputs": [
    {
     "data": {
      "text/plain": [
       "12"
      ]
     },
     "execution_count": 55,
     "metadata": {},
     "output_type": "execute_result"
    }
   ],
   "source": [
    "x1 = 5\n",
    "x2 = 3\n",
    "x3 = 4\n",
    "\n",
    "f1 = AddGraph()\n",
    "f2 = AddGraph()\n",
    "part_sum = f1.forward(x1,x2)\n",
    "total_sum = f2.forward(part_sum,x3)\n",
    "total_sum"
   ]
  },
  {
   "cell_type": "code",
   "execution_count": 57,
   "id": "2c493ea7-978c-46ea-a6a5-724693c50792",
   "metadata": {},
   "outputs": [
    {
     "data": {
      "text/plain": [
       "(1, 1)"
      ]
     },
     "execution_count": 57,
     "metadata": {},
     "output_type": "execute_result"
    }
   ],
   "source": [
    "dout = 1\n",
    "df1, dx3 = f2.backward(dout)\n",
    "df1, dx3"
   ]
  },
  {
   "cell_type": "code",
   "execution_count": 38,
   "id": "2a6c2ed5-1613-4c78-9143-d7ade970b654",
   "metadata": {},
   "outputs": [],
   "source": [
    "apple = 100\n",
    "number = 2\n",
    "tax = 1.1\n",
    "\n",
    "cal_apple = MulGraph()\n",
    "cal_tax = MulGraph()"
   ]
  },
  {
   "cell_type": "code",
   "execution_count": 39,
   "id": "df1da127-7fe6-4ece-b16a-ef2aa4765982",
   "metadata": {},
   "outputs": [
    {
     "data": {
      "text/plain": [
       "(200, 220.00000000000003)"
      ]
     },
     "execution_count": 39,
     "metadata": {},
     "output_type": "execute_result"
    }
   ],
   "source": [
    "apple_price = cal_apple.forward(apple,number)\n",
    "total_price = cal_tax.forward(apple_price,tax)\n",
    "apple_price, total_price"
   ]
  },
  {
   "cell_type": "code",
   "execution_count": 40,
   "id": "a818f935-a084-471b-b96a-32f7fffc1629",
   "metadata": {},
   "outputs": [
    {
     "data": {
      "text/plain": [
       "(1.1, 200)"
      ]
     },
     "execution_count": 40,
     "metadata": {},
     "output_type": "execute_result"
    }
   ],
   "source": [
    "dout = 1\n",
    "dapple_price, tax = cal_tax.backward(dout)\n",
    "dapple_price, tax"
   ]
  },
  {
   "cell_type": "code",
   "execution_count": 41,
   "id": "2e192a6d-0c8a-4021-b5aa-26a2aa2ea8d5",
   "metadata": {},
   "outputs": [
    {
     "data": {
      "text/plain": [
       "(2.2, 110.00000000000001)"
      ]
     },
     "execution_count": 41,
     "metadata": {},
     "output_type": "execute_result"
    }
   ],
   "source": [
    "dout = dapple_price\n",
    "dapple, dnumber = cal_apple.backward(dout)\n",
    "dapple, dnumber"
   ]
  },
  {
   "cell_type": "code",
   "execution_count": 42,
   "id": "c02287c1-e609-45fc-b52c-c11979e54b4f",
   "metadata": {},
   "outputs": [],
   "source": [
    "dout = 1\n",
    "dnumber, dapple = cal_tax.backward(dout)\n",
    "dapple_price, dtax = cal_tax.backward(dout)"
   ]
  },
  {
   "cell_type": "code",
   "execution_count": 43,
   "id": "59da290f-8161-4ece-963f-03f99d0f17a4",
   "metadata": {},
   "outputs": [
    {
     "data": {
      "text/plain": [
       "200"
      ]
     },
     "execution_count": 43,
     "metadata": {},
     "output_type": "execute_result"
    }
   ],
   "source": [
    "dtax"
   ]
  },
  {
   "cell_type": "code",
   "execution_count": 4,
   "id": "3b927d17-aac5-4ffa-a0f8-f12c941a1831",
   "metadata": {},
   "outputs": [],
   "source": [
    "class MulLayer:\n",
    "    def __init__(self):\n",
    "        self.x = None\n",
    "        self.y = None\n",
    "    \n",
    "    def forward(self,x,y):\n",
    "        self.x = x\n",
    "        self.y = y        \n",
    "        out = self.x*self.y\n",
    "        return out\n",
    "    \n",
    "    def backward(self,dout):\n",
    "        dx = dout*self.y\n",
    "        dy = dout*self.x\n",
    "        return dx, dy\n",
    "    \n",
    "class AddLayer:\n",
    "    def __init__(self):\n",
    "        pass\n",
    "    \n",
    "    def forward(self,x,y):\n",
    "        out = x + y\n",
    "        return out\n",
    "    \n",
    "    def backward(self,dout):\n",
    "        dx = dout*1\n",
    "        dy = dout*1\n",
    "        return dx, dy"
   ]
  },
  {
   "cell_type": "code",
   "execution_count": 5,
   "id": "c4b24ea7-c12e-4dda-801a-b2b71093a05a",
   "metadata": {},
   "outputs": [],
   "source": [
    "apple = 100\n",
    "apple_num = 2\n",
    "orange = 150\n",
    "orange_num = 3\n",
    "tax = 1.1\n",
    "# total_price\n",
    "# dApple\n",
    "# dApple_num\n",
    "# dOrange\n",
    "# dOrange_num\n",
    "# dTax"
   ]
  },
  {
   "cell_type": "code",
   "execution_count": 7,
   "id": "d342aa49-aa08-40be-9662-82a6dd29df50",
   "metadata": {},
   "outputs": [],
   "source": [
    "apple_m = MulLayer()\n",
    "orange_m = MulLayer()\n",
    "\n",
    "apple_price = apple_m.forward(apple,apple_num)\n",
    "orange_price = orange_m.forward(orange,orange_num)\n",
    "\n",
    "total_a = AddLayer()\n",
    "price = total_a.forward(apple_price,orange_price)\n",
    "\n",
    "tax_m = MulLayer()\n",
    "total_price = tax_m.forward(price,tax)"
   ]
  },
  {
   "cell_type": "code",
   "execution_count": 8,
   "id": "0ab5b111-01f9-4d4c-8ace-fc8d92fb9075",
   "metadata": {},
   "outputs": [
    {
     "data": {
      "text/plain": [
       "(200, 450, 650, 715.0000000000001)"
      ]
     },
     "execution_count": 8,
     "metadata": {},
     "output_type": "execute_result"
    }
   ],
   "source": [
    "apple_price, orange_price, price, total_price"
   ]
  },
  {
   "cell_type": "code",
   "execution_count": 14,
   "id": "be94b73d-e0d9-4657-85ed-05538cbaa161",
   "metadata": {},
   "outputs": [
    {
     "data": {
      "text/plain": [
       "(1.1, 650)"
      ]
     },
     "execution_count": 14,
     "metadata": {},
     "output_type": "execute_result"
    }
   ],
   "source": [
    "dout = 1\n",
    "dPrice, dTax = tax_m.backward(dout)\n",
    "dPrice, dTax"
   ]
  },
  {
   "cell_type": "code",
   "execution_count": 16,
   "id": "a42ba766-9516-4f67-a973-b00cbbd68483",
   "metadata": {},
   "outputs": [
    {
     "data": {
      "text/plain": [
       "(1.1, 1.1)"
      ]
     },
     "execution_count": 16,
     "metadata": {},
     "output_type": "execute_result"
    }
   ],
   "source": [
    "dapple, dorange = total_a.backward(dPrice)\n",
    "dapple, dorange"
   ]
  },
  {
   "cell_type": "code",
   "execution_count": 18,
   "id": "d1f504b1-1505-4c5c-a8c5-edab7050d6d9",
   "metadata": {},
   "outputs": [
    {
     "data": {
      "text/plain": [
       "(2.2, 110.00000000000001, 3.3000000000000003, 165.0)"
      ]
     },
     "execution_count": 18,
     "metadata": {},
     "output_type": "execute_result"
    }
   ],
   "source": [
    "dApple, dApple_num = apple_m.backward(dapple)\n",
    "dOrange, dOrange_num = orange_m.backward(dorange)\n",
    "\n",
    "dApple, dApple_num, dOrange, dOrange_num"
   ]
  },
  {
   "cell_type": "code",
   "execution_count": 20,
   "id": "1d74c39b-db39-46ba-8e39-7c818fdf4423",
   "metadata": {},
   "outputs": [],
   "source": [
    "x = [1,2,3,4]"
   ]
  },
  {
   "cell_type": "code",
   "execution_count": 21,
   "id": "b76707d5-b745-499b-b4f9-352f4f45426c",
   "metadata": {},
   "outputs": [
    {
     "data": {
      "text/plain": [
       "[1, 2, 3]"
      ]
     },
     "execution_count": 21,
     "metadata": {},
     "output_type": "execute_result"
    }
   ],
   "source": [
    "x[:3]"
   ]
  },
  {
   "cell_type": "code",
   "execution_count": 29,
   "id": "48c5780a-570c-498f-8864-06f5a5304713",
   "metadata": {},
   "outputs": [],
   "source": [
    "# 펜시 인덱싱 numpy로만 가능"
   ]
  },
  {
   "cell_type": "code",
   "execution_count": 25,
   "id": "fb901a4c-fa75-478f-a728-4a0b95f35f5e",
   "metadata": {},
   "outputs": [
    {
     "ename": "TypeError",
     "evalue": "list indices must be integers or slices, not list",
     "output_type": "error",
     "traceback": [
      "\u001b[0;31m---------------------------------------------------------------------------\u001b[0m",
      "\u001b[0;31mTypeError\u001b[0m                                 Traceback (most recent call last)",
      "\u001b[0;32m/tmp/ipykernel_3343/1501211003.py\u001b[0m in \u001b[0;36m<module>\u001b[0;34m\u001b[0m\n\u001b[0;32m----> 1\u001b[0;31m \u001b[0mx\u001b[0m\u001b[0;34m[\u001b[0m\u001b[0;34m[\u001b[0m\u001b[0;36m0\u001b[0m\u001b[0;34m,\u001b[0m\u001b[0;36m2\u001b[0m\u001b[0;34m]\u001b[0m\u001b[0;34m]\u001b[0m\u001b[0;34m\u001b[0m\u001b[0;34m\u001b[0m\u001b[0m\n\u001b[0m",
      "\u001b[0;31mTypeError\u001b[0m: list indices must be integers or slices, not list"
     ]
    }
   ],
   "source": [
    "x[[0,2]]"
   ]
  },
  {
   "cell_type": "code",
   "execution_count": 26,
   "id": "750dc7fb-00e8-4043-9b08-dc2bb27cfdac",
   "metadata": {},
   "outputs": [
    {
     "data": {
      "text/plain": [
       "array([1, 3])"
      ]
     },
     "execution_count": 26,
     "metadata": {},
     "output_type": "execute_result"
    }
   ],
   "source": [
    "np.array(x)[[0,2]]"
   ]
  },
  {
   "cell_type": "code",
   "execution_count": 27,
   "id": "e1603de8-2238-4703-b4b8-febba805ae2a",
   "metadata": {},
   "outputs": [
    {
     "ename": "TypeError",
     "evalue": "list indices must be integers or slices, not list",
     "output_type": "error",
     "traceback": [
      "\u001b[0;31m---------------------------------------------------------------------------\u001b[0m",
      "\u001b[0;31mTypeError\u001b[0m                                 Traceback (most recent call last)",
      "\u001b[0;32m/tmp/ipykernel_3343/2212148102.py\u001b[0m in \u001b[0;36m<module>\u001b[0;34m\u001b[0m\n\u001b[0;32m----> 1\u001b[0;31m \u001b[0mx\u001b[0m\u001b[0;34m[\u001b[0m\u001b[0;34m[\u001b[0m\u001b[0;32mTrue\u001b[0m\u001b[0;34m,\u001b[0m\u001b[0;32mTrue\u001b[0m\u001b[0;34m,\u001b[0m\u001b[0;32mFalse\u001b[0m\u001b[0;34m,\u001b[0m\u001b[0;32mFalse\u001b[0m\u001b[0;34m]\u001b[0m\u001b[0;34m]\u001b[0m\u001b[0;34m\u001b[0m\u001b[0;34m\u001b[0m\u001b[0m\n\u001b[0m",
      "\u001b[0;31mTypeError\u001b[0m: list indices must be integers or slices, not list"
     ]
    }
   ],
   "source": [
    "x[[True,True,False,False]]"
   ]
  },
  {
   "cell_type": "code",
   "execution_count": 28,
   "id": "c2508e05-7aad-465f-863a-94f4f1cb6597",
   "metadata": {},
   "outputs": [
    {
     "data": {
      "text/plain": [
       "array([1, 2])"
      ]
     },
     "execution_count": 28,
     "metadata": {},
     "output_type": "execute_result"
    }
   ],
   "source": [
    "np.array(x)[[True,True,False,False]]"
   ]
  },
  {
   "cell_type": "code",
   "execution_count": 19,
   "id": "5b4d3821-8ad4-4f0b-9f68-791d54a73dd9",
   "metadata": {},
   "outputs": [],
   "source": [
    "def relu(x):\n",
    "    return np.where(x > 0, x, 0)"
   ]
  },
  {
   "cell_type": "code",
   "execution_count": 30,
   "id": "d2c2d57c-8a55-4d20-8386-83b8c8c49021",
   "metadata": {},
   "outputs": [],
   "source": [
    "class Relu:\n",
    "    def __init__(self):\n",
    "        self.mask = None\n",
    "        \n",
    "    def forward(self,x):\n",
    "        self.mask = (x <= 0)\n",
    "        out = x.copy() # x가 계속 갱신될 필요가 있으므로 copy() 사용\n",
    "        out[self.mask] = 0\n",
    "        return out\n",
    "    \n",
    "    def backward(self,dout):\n",
    "        dout[self.mask] = 0\n",
    "        dx = dout\n",
    "        return dx"
   ]
  },
  {
   "cell_type": "code",
   "execution_count": 31,
   "id": "d99e8855-43ec-45c8-a500-66e6e4812592",
   "metadata": {},
   "outputs": [],
   "source": [
    "relu_layer = Relu()"
   ]
  },
  {
   "cell_type": "code",
   "execution_count": 32,
   "id": "b039d871-c9db-4472-966e-6e4fa59243c2",
   "metadata": {},
   "outputs": [],
   "source": [
    "x = np.random.randn(4,2)"
   ]
  },
  {
   "cell_type": "code",
   "execution_count": 35,
   "id": "de0f5657-7c18-4dd6-8ecf-8d6a7ff6c317",
   "metadata": {},
   "outputs": [
    {
     "data": {
      "text/plain": [
       "array([[0.        , 1.25040006],\n",
       "       [0.        , 1.18654984],\n",
       "       [0.        , 0.01874814],\n",
       "       [0.22650207, 0.        ]])"
      ]
     },
     "execution_count": 35,
     "metadata": {},
     "output_type": "execute_result"
    }
   ],
   "source": [
    "xf = relu_layer.forward(x)\n",
    "xf"
   ]
  },
  {
   "cell_type": "code",
   "execution_count": 40,
   "id": "edadad40-8198-438f-88b1-57caaec02d41",
   "metadata": {},
   "outputs": [
    {
     "data": {
      "text/plain": [
       "array([[0.        , 1.25040006],\n",
       "       [0.        , 1.18654984],\n",
       "       [0.        , 0.01874814],\n",
       "       [0.22650207, 0.        ]])"
      ]
     },
     "execution_count": 40,
     "metadata": {},
     "output_type": "execute_result"
    }
   ],
   "source": [
    "xb = relu_layer.backward(xf)\n",
    "xb"
   ]
  },
  {
   "cell_type": "code",
   "execution_count": 38,
   "id": "d5e09690-5892-4e1f-bac2-7ec5a28fd423",
   "metadata": {},
   "outputs": [
    {
     "data": {
      "text/plain": [
       "array([[ True, False],\n",
       "       [ True, False],\n",
       "       [ True, False],\n",
       "       [False,  True]])"
      ]
     },
     "execution_count": 38,
     "metadata": {},
     "output_type": "execute_result"
    }
   ],
   "source": [
    "x_mask = (x <= 0)\n",
    "x_mask"
   ]
  },
  {
   "cell_type": "code",
   "execution_count": 56,
   "id": "180a3534-f0b8-4199-a704-ad2472492923",
   "metadata": {},
   "outputs": [],
   "source": [
    "class Sigmoid:\n",
    "    def __init__(self):\n",
    "        self.out = None\n",
    "        \n",
    "    def forward(self,x):\n",
    "        out = 1 / (1+np.exp(-x))\n",
    "        self.out = out\n",
    "        return out\n",
    "    \n",
    "    def backward(self,dout):\n",
    "        dx = dout*self.out*(1-self.out)\n",
    "        return dx"
   ]
  },
  {
   "cell_type": "code",
   "execution_count": 57,
   "id": "047326fa-7062-4f33-a3f5-260f89704102",
   "metadata": {},
   "outputs": [],
   "source": [
    "x = np.random.randn(4,2)"
   ]
  },
  {
   "cell_type": "code",
   "execution_count": 58,
   "id": "f371e012-7935-4d09-81ae-5fb0d6f7a04c",
   "metadata": {},
   "outputs": [],
   "source": [
    "sigmoidL = Sigmoid()\n",
    "sf = sigmoidL.forward(x)\n",
    "sb = sigmoidL.backward(sf)"
   ]
  },
  {
   "cell_type": "code",
   "execution_count": 62,
   "id": "ef19fd56-2690-4552-bd0c-59112483ba16",
   "metadata": {},
   "outputs": [
    {
     "data": {
      "text/plain": [
       "(array([[-1.53100607,  0.08473347],\n",
       "        [ 1.33005494, -0.66322069],\n",
       "        [-1.86256424,  1.5768166 ],\n",
       "        [-0.13970438, -1.74072231]]),\n",
       " array([[0.17784653, 0.5211707 ],\n",
       "        [0.79084972, 0.3400165 ],\n",
       "        [0.13440445, 0.8287532 ],\n",
       "        [0.4651306 , 0.14922121]]),\n",
       " array([[0.02600421, 0.13005909],\n",
       "        [0.13081164, 0.0763015 ],\n",
       "        [0.0156366 , 0.11761776],\n",
       "        [0.11571711, 0.01894427]]))"
      ]
     },
     "execution_count": 62,
     "metadata": {},
     "output_type": "execute_result"
    }
   ],
   "source": [
    "x, sf, sb"
   ]
  },
  {
   "cell_type": "code",
   "execution_count": 90,
   "id": "ab7d811b-858a-4693-a870-e2ffdf904aad",
   "metadata": {},
   "outputs": [],
   "source": [
    "# Affine 미분"
   ]
  },
  {
   "cell_type": "code",
   "execution_count": 75,
   "id": "4c7ef076-b146-4db4-87e1-257af9bbb650",
   "metadata": {},
   "outputs": [],
   "source": [
    "X = np.random.randn(2)\n",
    "W = np.random.randn(2,3)\n",
    "b = np.random.randn(3)"
   ]
  },
  {
   "cell_type": "code",
   "execution_count": 76,
   "id": "182bfce9-5d87-4e28-b012-fe11afc4f8c2",
   "metadata": {},
   "outputs": [
    {
     "data": {
      "text/plain": [
       "((2,), (2, 3), (3,))"
      ]
     },
     "execution_count": 76,
     "metadata": {},
     "output_type": "execute_result"
    }
   ],
   "source": [
    "X.shape, W.shape, b.shape"
   ]
  },
  {
   "cell_type": "code",
   "execution_count": 77,
   "id": "f799a929-1489-46de-b133-41e64fb81c21",
   "metadata": {},
   "outputs": [],
   "source": [
    "out = np.dot(X,W) + b"
   ]
  },
  {
   "cell_type": "code",
   "execution_count": 78,
   "id": "88664111-381f-4e9e-a756-8f9eeb850607",
   "metadata": {},
   "outputs": [
    {
     "data": {
      "text/plain": [
       "(3,)"
      ]
     },
     "execution_count": 78,
     "metadata": {},
     "output_type": "execute_result"
    }
   ],
   "source": [
    "out.shape"
   ]
  },
  {
   "cell_type": "code",
   "execution_count": 83,
   "id": "b4d7d1f7-89d1-4302-824f-bf4cdb1ec847",
   "metadata": {},
   "outputs": [],
   "source": [
    "x = np.array([[0,0,0],[10.,10,10]])\n",
    "b = np.array([1,2,3])\n",
    "out = x + b"
   ]
  },
  {
   "cell_type": "code",
   "execution_count": 84,
   "id": "5532f088-f103-45e2-a828-9a6b71ca2171",
   "metadata": {},
   "outputs": [],
   "source": [
    "dy = np.arange(1,7).reshape(2,3)"
   ]
  },
  {
   "cell_type": "code",
   "execution_count": 88,
   "id": "fb518bb2-091a-4181-ab6d-2252fdc27768",
   "metadata": {},
   "outputs": [],
   "source": [
    "dB = np.sum(dy, axis=0)"
   ]
  },
  {
   "cell_type": "code",
   "execution_count": 89,
   "id": "46a25c18-b13a-4504-873e-052cf00adafc",
   "metadata": {},
   "outputs": [
    {
     "data": {
      "text/plain": [
       "array([5, 7, 9])"
      ]
     },
     "execution_count": 89,
     "metadata": {},
     "output_type": "execute_result"
    }
   ],
   "source": [
    "dB"
   ]
  },
  {
   "cell_type": "code",
   "execution_count": 98,
   "id": "e1c470aa-fa46-48bf-960d-ddcd5361355d",
   "metadata": {},
   "outputs": [],
   "source": [
    "class Affine:\n",
    "    def __init__(self,W,b):\n",
    "        self.W = W\n",
    "        self.b = b\n",
    "        self.x = None\n",
    "        self.dW = None\n",
    "        self.db = None\n",
    "        \n",
    "    def forward(self,x):\n",
    "        self.x = x\n",
    "        out = np.dot(x,self.W) + self.b\n",
    "        return out\n",
    "    \n",
    "    def backward(self,dout):\n",
    "        dx = np.dot(dout, self.W.T)\n",
    "        self.dW = np.dot(self.x.T,dout)\n",
    "        self.db = np.sum(dout,axis=0)\n",
    "        return dx"
   ]
  },
  {
   "cell_type": "code",
   "execution_count": 100,
   "id": "8abbf6c9-9ff4-455e-b9c4-a20fe4db9b94",
   "metadata": {},
   "outputs": [],
   "source": [
    "x = np.random.randn(4,2)\n",
    "W = np.random.randn(2,3)\n",
    "b = np.random.randn(3)"
   ]
  },
  {
   "cell_type": "code",
   "execution_count": 103,
   "id": "4f47e50e-402d-4849-906b-0ac0870cf928",
   "metadata": {},
   "outputs": [],
   "source": [
    "affine = Affine(W,b)"
   ]
  },
  {
   "cell_type": "code",
   "execution_count": 104,
   "id": "f2de62e4-761c-46ad-a221-d0f6ecdbb661",
   "metadata": {},
   "outputs": [],
   "source": [
    "out = affine.forward(x)"
   ]
  },
  {
   "cell_type": "code",
   "execution_count": 106,
   "id": "e9614f83-2f3c-47ae-ae53-4029ecadae93",
   "metadata": {},
   "outputs": [],
   "source": [
    "sig = Sigmoid()\n",
    "sig_out = sig.forward(out)"
   ]
  },
  {
   "cell_type": "code",
   "execution_count": 108,
   "id": "2bd657b4-5859-497f-b3ab-9b1439eeedb7",
   "metadata": {},
   "outputs": [
    {
     "data": {
      "text/plain": [
       "(array([[-0.58262584, -1.21890072,  0.0133403 ],\n",
       "        [ 0.00563857, -2.08854434,  0.9149887 ],\n",
       "        [ 0.81942957, -0.47276445, -0.87412644],\n",
       "        [ 0.11408169, -0.60496697, -0.68959524]]),\n",
       " array([[0.35832861, 0.22812996, 0.50333503],\n",
       "        [0.50140964, 0.11021525, 0.71401992],\n",
       "        [0.69411524, 0.38396214, 0.2943964 ],\n",
       "        [0.52848953, 0.35320815, 0.33412312]]))"
      ]
     },
     "execution_count": 108,
     "metadata": {},
     "output_type": "execute_result"
    }
   ],
   "source": [
    "out,sig_out"
   ]
  },
  {
   "cell_type": "code",
   "execution_count": 109,
   "id": "fbe40439-43ec-4357-b0a0-1d194170c76a",
   "metadata": {},
   "outputs": [
    {
     "data": {
      "text/plain": [
       "((4, 3), (4, 3))"
      ]
     },
     "execution_count": 109,
     "metadata": {},
     "output_type": "execute_result"
    }
   ],
   "source": [
    "out.shape, sig_out.shape"
   ]
  },
  {
   "cell_type": "code",
   "execution_count": 110,
   "id": "8ec815c3-c87f-4ddf-bf32-c43efb2783d2",
   "metadata": {},
   "outputs": [
    {
     "data": {
      "text/plain": [
       "array([[ 0.51474398, -1.05766328],\n",
       "       [ 1.90522915, -0.93327798],\n",
       "       [ 0.09199917,  1.18965884],\n",
       "       [-0.01767881,  0.22736365]])"
      ]
     },
     "execution_count": 110,
     "metadata": {},
     "output_type": "execute_result"
    }
   ],
   "source": [
    "affine.backward(out)"
   ]
  },
  {
   "cell_type": "code",
   "execution_count": 112,
   "id": "04bd0ef0-718d-45f8-8e3a-ec6d6caa5f4e",
   "metadata": {},
   "outputs": [
    {
     "data": {
      "text/plain": [
       "array([ 0.35652398, -4.38517648, -0.63539267])"
      ]
     },
     "execution_count": 112,
     "metadata": {},
     "output_type": "execute_result"
    }
   ],
   "source": [
    "affine.db"
   ]
  },
  {
   "cell_type": "code",
   "execution_count": 126,
   "id": "bca63261-19bf-4982-80a8-a1b5a9bb9ef3",
   "metadata": {},
   "outputs": [],
   "source": [
    "from activation import *\n",
    "from loss import *\n",
    "from gradient import *"
   ]
  },
  {
   "cell_type": "code",
   "execution_count": 124,
   "id": "d3431ca0-2627-4d12-8721-cf345c8ac997",
   "metadata": {},
   "outputs": [],
   "source": [
    "x = np.random.randn(5,3)\n",
    "w1 = np.random.randn(3,4)\n",
    "b1 = np.random.randn(4)\n",
    "w2 = np.random.randn(4,3)\n",
    "b2 = np.random.randn(3)\n",
    "t = np.zeros((5,3))\n",
    "t[:,1] = 1"
   ]
  },
  {
   "cell_type": "code",
   "execution_count": 128,
   "id": "8f25d427-2b69-4284-a86a-d7907f3ec725",
   "metadata": {},
   "outputs": [
    {
     "data": {
      "text/plain": [
       "4.501796757197233"
      ]
     },
     "execution_count": 128,
     "metadata": {},
     "output_type": "execute_result"
    }
   ],
   "source": [
    "l1 = np.dot(x,w1) + b1\n",
    "z1 = relu(l1)\n",
    "l2 = np.dot(z1,w2) + b2\n",
    "cross_entropy_error(softmax(l2),t)"
   ]
  },
  {
   "cell_type": "code",
   "execution_count": 139,
   "id": "936d8bc7-18ef-4aa9-b887-6ec178e8bb47",
   "metadata": {},
   "outputs": [],
   "source": [
    "class SoftmaxWithLoss:\n",
    "    def __init__(self):\n",
    "        self.loss = None\n",
    "        self.y = None\n",
    "        self.t = None\n",
    "    \n",
    "    def forward(self,x,t):\n",
    "        self.y = softmax(x)\n",
    "        self.t = t\n",
    "        self.loss = cross_entropy_error(self.y,self.t)\n",
    "        return self.loss\n",
    "    \n",
    "    def backward(self,dout=1):\n",
    "        dx = dout*(self.y - self.t) / self.y.shape[0]\n",
    "        return dx"
   ]
  },
  {
   "cell_type": "code",
   "execution_count": 140,
   "id": "41a22b20-a060-44e2-842a-955595672d63",
   "metadata": {},
   "outputs": [],
   "source": [
    "dL = SoftmaxWithLoss()"
   ]
  },
  {
   "cell_type": "code",
   "execution_count": 141,
   "id": "0c0d5147-fc07-4565-9213-f782e077bb03",
   "metadata": {},
   "outputs": [],
   "source": [
    "dLfoward = dL.forward(l2,t)"
   ]
  },
  {
   "cell_type": "code",
   "execution_count": 142,
   "id": "bd869feb-a4ec-4b9f-b780-07668e634261",
   "metadata": {},
   "outputs": [
    {
     "data": {
      "text/plain": [
       "array([[ 0.15370173, -0.19931378,  0.04561204],\n",
       "       [ 0.16960066, -0.19967781,  0.03007715],\n",
       "       [ 0.01247399, -0.19224987,  0.17977588],\n",
       "       [ 0.01202121, -0.19401626,  0.18199505],\n",
       "       [ 0.01178379, -0.19476743,  0.18298364]])"
      ]
     },
     "execution_count": 142,
     "metadata": {},
     "output_type": "execute_result"
    }
   ],
   "source": [
    "dL.backward()"
   ]
  },
  {
   "cell_type": "code",
   "execution_count": 143,
   "id": "254ec8f7-5743-47d8-9aba-d23aa9d0504f",
   "metadata": {},
   "outputs": [
    {
     "data": {
      "text/plain": [
       "((5, 3), (5, 3))"
      ]
     },
     "execution_count": 143,
     "metadata": {},
     "output_type": "execute_result"
    }
   ],
   "source": [
    "dL.backward().shape, l2.shape"
   ]
  },
  {
   "cell_type": "code",
   "execution_count": null,
   "id": "ece78773-1d19-4046-8ef6-b49645a557e5",
   "metadata": {},
   "outputs": [],
   "source": []
  }
 ],
 "metadata": {
  "kernelspec": {
   "display_name": "Python 3 (ipykernel)",
   "language": "python",
   "name": "python3"
  },
  "language_info": {
   "codemirror_mode": {
    "name": "ipython",
    "version": 3
   },
   "file_extension": ".py",
   "mimetype": "text/x-python",
   "name": "python",
   "nbconvert_exporter": "python",
   "pygments_lexer": "ipython3",
   "version": "3.9.7"
  }
 },
 "nbformat": 4,
 "nbformat_minor": 5
}
