{
 "cells": [
  {
   "cell_type": "code",
   "execution_count": 1,
   "id": "2ff11bd6-18d9-4742-81d5-9a6dc1226f7a",
   "metadata": {},
   "outputs": [],
   "source": [
    "import dash_bootstrap_components as dbc\n",
    "from dash import html, Dash\n",
    "\n",
    "card = dbc.Card(\n",
    "    [\n",
    "        dbc.CardImg(src=\"/static/images/placeholder286x180.png\", top=True),\n",
    "        dbc.CardBody(\n",
    "            [\n",
    "                html.H4(\"Card title\", className=\"card-title\"),\n",
    "                html.P(\n",
    "                    \"Some quick example text to build on the card title and \"\n",
    "                    \"make up the bulk of the card's content.\",\n",
    "                    className=\"card-text\",\n",
    "                ),\n",
    "                dbc.Button(\"Go somewhere\", color=\"primary\"),\n",
    "            ]\n",
    "        ),\n",
    "    ],\n",
    "    style={\"width\": \"18rem\"},\n",
    ")"
   ]
  },
  {
   "cell_type": "code",
   "execution_count": 2,
   "id": "ec42a0e4-a638-4412-a382-9b0b07f989eb",
   "metadata": {},
   "outputs": [],
   "source": [
    "app = Dash(__name__)\n",
    "app.layout = html.Div(\n",
    "    card\n",
    ")"
   ]
  },
  {
   "cell_type": "code",
   "execution_count": 4,
   "id": "fb320970-faaf-46a2-8ee4-1db3f8ce3484",
   "metadata": {},
   "outputs": [
    {
     "name": "stdout",
     "output_type": "stream",
     "text": [
      "Dash is running on http://192.168.56.101:5555/\n",
      "\n",
      " * Serving Flask app \"__main__\" (lazy loading)\n",
      " * Environment: production\n",
      "\u001b[31m   WARNING: This is a development server. Do not use it in a production deployment.\u001b[0m\n",
      "\u001b[2m   Use a production WSGI server instead.\u001b[0m\n",
      " * Debug mode: off\n"
     ]
    },
    {
     "name": "stderr",
     "output_type": "stream",
     "text": [
      " * Running on http://192.168.56.101:5555/ (Press CTRL+C to quit)\n",
      "192.168.56.1 - - [21/Feb/2022 17:27:34] \"GET / HTTP/1.1\" 200 -\n",
      "192.168.56.1 - - [21/Feb/2022 17:27:35] \"GET /_dash-layout HTTP/1.1\" 200 -\n",
      "192.168.56.1 - - [21/Feb/2022 17:27:35] \"GET /_dash-dependencies HTTP/1.1\" 200 -\n",
      "192.168.56.1 - - [21/Feb/2022 17:27:35] \"GET /static/images/placeholder286x180.png HTTP/1.1\" 404 -\n",
      "192.168.56.1 - - [21/Feb/2022 17:28:03] \"GET / HTTP/1.1\" 200 -\n",
      "192.168.56.1 - - [21/Feb/2022 17:28:04] \"GET /_dash-layout HTTP/1.1\" 200 -\n",
      "192.168.56.1 - - [21/Feb/2022 17:28:04] \"GET /_dash-dependencies HTTP/1.1\" 200 -\n",
      "192.168.56.1 - - [21/Feb/2022 17:28:04] \"GET /static/images/placeholder286x180.png HTTP/1.1\" 404 -\n"
     ]
    }
   ],
   "source": [
    "app.run_server(host='192.168.56.101',port=5555)"
   ]
  },
  {
   "cell_type": "code",
   "execution_count": null,
   "id": "c11f4546-f27b-453f-af83-eb4aa21f4864",
   "metadata": {},
   "outputs": [],
   "source": []
  }
 ],
 "metadata": {
  "kernelspec": {
   "display_name": "Python 3 (ipykernel)",
   "language": "python",
   "name": "python3"
  },
  "language_info": {
   "codemirror_mode": {
    "name": "ipython",
    "version": 3
   },
   "file_extension": ".py",
   "mimetype": "text/x-python",
   "name": "python",
   "nbconvert_exporter": "python",
   "pygments_lexer": "ipython3",
   "version": "3.9.7"
  }
 },
 "nbformat": 4,
 "nbformat_minor": 5
}
